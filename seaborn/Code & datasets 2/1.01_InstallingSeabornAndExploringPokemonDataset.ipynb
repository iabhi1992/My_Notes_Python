{
 "cells": [
  {
   "cell_type": "code",
   "execution_count": 25,
   "metadata": {},
   "outputs": [
    {
     "name": "stdout",
     "output_type": "stream",
     "text": [
      "Requirement already satisfied: seaborn in /anaconda3/lib/python3.6/site-packages (0.8.1)\n",
      "Requirement already satisfied: numpy in /anaconda3/lib/python3.6/site-packages (from seaborn) (1.14.3)\n",
      "Requirement already satisfied: scipy in /anaconda3/lib/python3.6/site-packages (from seaborn) (1.1.0)\n",
      "Requirement already satisfied: matplotlib in /anaconda3/lib/python3.6/site-packages (from seaborn) (2.2.2)\n",
      "Requirement already satisfied: pandas in /anaconda3/lib/python3.6/site-packages (from seaborn) (0.23.3)\n",
      "Requirement already satisfied: cycler>=0.10 in /anaconda3/lib/python3.6/site-packages (from matplotlib->seaborn) (0.10.0)\n",
      "Requirement already satisfied: pyparsing!=2.0.4,!=2.1.2,!=2.1.6,>=2.0.1 in /anaconda3/lib/python3.6/site-packages (from matplotlib->seaborn) (2.2.0)\n",
      "Requirement already satisfied: python-dateutil>=2.1 in /anaconda3/lib/python3.6/site-packages (from matplotlib->seaborn) (2.7.3)\n",
      "Requirement already satisfied: pytz in /anaconda3/lib/python3.6/site-packages (from matplotlib->seaborn) (2018.4)\n",
      "Requirement already satisfied: six>=1.10 in /anaconda3/lib/python3.6/site-packages (from matplotlib->seaborn) (1.11.0)\n",
      "Requirement already satisfied: kiwisolver>=1.0.1 in /anaconda3/lib/python3.6/site-packages (from matplotlib->seaborn) (1.0.1)\n",
      "Requirement already satisfied: setuptools in /anaconda3/lib/python3.6/site-packages (from kiwisolver>=1.0.1->matplotlib->seaborn) (39.1.0)\n",
      "\u001b[31mdistributed 1.21.8 requires msgpack, which is not installed.\u001b[0m\n",
      "\u001b[33mYou are using pip version 10.0.1, however version 18.0 is available.\n",
      "You should consider upgrading via the 'pip install --upgrade pip' command.\u001b[0m\n"
     ]
    }
   ],
   "source": [
    "!pip install seaborn"
   ]
  },
  {
   "cell_type": "code",
   "execution_count": 26,
   "metadata": {},
   "outputs": [],
   "source": [
    "import seaborn as sns"
   ]
  },
  {
   "cell_type": "code",
   "execution_count": 27,
   "metadata": {},
   "outputs": [
    {
     "name": "stdout",
     "output_type": "stream",
     "text": [
      "0.8.1\n"
     ]
    }
   ],
   "source": [
    "print(sns.__version__)"
   ]
  },
  {
   "cell_type": "code",
   "execution_count": 28,
   "metadata": {},
   "outputs": [],
   "source": [
    "import pandas as pd"
   ]
  },
  {
   "cell_type": "code",
   "execution_count": 29,
   "metadata": {},
   "outputs": [
    {
     "name": "stdout",
     "output_type": "stream",
     "text": [
      "0.23.3\n"
     ]
    }
   ],
   "source": [
    "print(pd.__version__)"
   ]
  },
  {
   "cell_type": "markdown",
   "metadata": {},
   "source": [
    "#### Seaborn contain some sample datasets in order to perform the visualisation operations. In further course the stored data will be used but here the pokemon dataset has been loaded and the stastical characteristics of the dataset is evaluated."
   ]
  },
  {
   "cell_type": "code",
   "execution_count": 30,
   "metadata": {},
   "outputs": [],
   "source": [
    "pokemon_data = pd.read_csv('Datasets/Pokemon.csv')          "
   ]
  },
  {
   "cell_type": "markdown",
   "metadata": {},
   "source": [
    "https://www.kaggle.com/abcsds/pokemon/version/2#"
   ]
  },
  {
   "cell_type": "markdown",
   "metadata": {},
   "source": [
    "#### In the dataset Type 1 and Type 2 are the first and second abilities of the the Pokemons and acording to their capabilities of Attack, Defense,Sp. Atk,Sp. Def,speed and Health, points have ben assisgned to them. The column 'Generation' shows which generation Pokemons are they.\n",
    ".head() and .tail() functions show top 5 and bottom 5 rows respectively by default."
   ]
  },
  {
   "cell_type": "code",
   "execution_count": 31,
   "metadata": {},
   "outputs": [
    {
     "data": {
      "text/html": [
       "<div>\n",
       "<style scoped>\n",
       "    .dataframe tbody tr th:only-of-type {\n",
       "        vertical-align: middle;\n",
       "    }\n",
       "\n",
       "    .dataframe tbody tr th {\n",
       "        vertical-align: top;\n",
       "    }\n",
       "\n",
       "    .dataframe thead th {\n",
       "        text-align: right;\n",
       "    }\n",
       "</style>\n",
       "<table border=\"1\" class=\"dataframe\">\n",
       "  <thead>\n",
       "    <tr style=\"text-align: right;\">\n",
       "      <th></th>\n",
       "      <th>Name</th>\n",
       "      <th>Type 1</th>\n",
       "      <th>Type 2</th>\n",
       "      <th>Total Point</th>\n",
       "      <th>Health Point</th>\n",
       "      <th>Attack Point</th>\n",
       "      <th>Defense Point</th>\n",
       "      <th>Sp. Atk Point</th>\n",
       "      <th>Sp. Def Point</th>\n",
       "      <th>Speed Point</th>\n",
       "      <th>Generation</th>\n",
       "    </tr>\n",
       "  </thead>\n",
       "  <tbody>\n",
       "    <tr>\n",
       "      <th>0</th>\n",
       "      <td>Bulbasaur</td>\n",
       "      <td>Grass</td>\n",
       "      <td>Poison</td>\n",
       "      <td>318</td>\n",
       "      <td>45</td>\n",
       "      <td>49</td>\n",
       "      <td>49</td>\n",
       "      <td>65</td>\n",
       "      <td>65</td>\n",
       "      <td>45</td>\n",
       "      <td>1</td>\n",
       "    </tr>\n",
       "    <tr>\n",
       "      <th>1</th>\n",
       "      <td>Ivysaur</td>\n",
       "      <td>Grass</td>\n",
       "      <td>Poison</td>\n",
       "      <td>405</td>\n",
       "      <td>60</td>\n",
       "      <td>62</td>\n",
       "      <td>63</td>\n",
       "      <td>80</td>\n",
       "      <td>80</td>\n",
       "      <td>60</td>\n",
       "      <td>1</td>\n",
       "    </tr>\n",
       "    <tr>\n",
       "      <th>2</th>\n",
       "      <td>Venusaur</td>\n",
       "      <td>Grass</td>\n",
       "      <td>Poison</td>\n",
       "      <td>525</td>\n",
       "      <td>80</td>\n",
       "      <td>82</td>\n",
       "      <td>83</td>\n",
       "      <td>100</td>\n",
       "      <td>100</td>\n",
       "      <td>80</td>\n",
       "      <td>1</td>\n",
       "    </tr>\n",
       "    <tr>\n",
       "      <th>3</th>\n",
       "      <td>VenusaurMega Venusaur</td>\n",
       "      <td>Grass</td>\n",
       "      <td>Poison</td>\n",
       "      <td>625</td>\n",
       "      <td>80</td>\n",
       "      <td>100</td>\n",
       "      <td>123</td>\n",
       "      <td>122</td>\n",
       "      <td>120</td>\n",
       "      <td>80</td>\n",
       "      <td>1</td>\n",
       "    </tr>\n",
       "    <tr>\n",
       "      <th>4</th>\n",
       "      <td>Charmander</td>\n",
       "      <td>Fire</td>\n",
       "      <td>NaN</td>\n",
       "      <td>309</td>\n",
       "      <td>39</td>\n",
       "      <td>52</td>\n",
       "      <td>43</td>\n",
       "      <td>60</td>\n",
       "      <td>50</td>\n",
       "      <td>65</td>\n",
       "      <td>1</td>\n",
       "    </tr>\n",
       "  </tbody>\n",
       "</table>\n",
       "</div>"
      ],
      "text/plain": [
       "                    Name Type 1  Type 2  Total Point  Health Point  \\\n",
       "0              Bulbasaur  Grass  Poison          318            45   \n",
       "1                Ivysaur  Grass  Poison          405            60   \n",
       "2               Venusaur  Grass  Poison          525            80   \n",
       "3  VenusaurMega Venusaur  Grass  Poison          625            80   \n",
       "4             Charmander   Fire     NaN          309            39   \n",
       "\n",
       "   Attack Point  Defense Point  Sp. Atk Point  Sp. Def Point  Speed Point  \\\n",
       "0            49             49             65             65           45   \n",
       "1            62             63             80             80           60   \n",
       "2            82             83            100            100           80   \n",
       "3           100            123            122            120           80   \n",
       "4            52             43             60             50           65   \n",
       "\n",
       "   Generation  \n",
       "0           1  \n",
       "1           1  \n",
       "2           1  \n",
       "3           1  \n",
       "4           1  "
      ]
     },
     "execution_count": 31,
     "metadata": {},
     "output_type": "execute_result"
    }
   ],
   "source": [
    "pokemon_data.head()"
   ]
  },
  {
   "cell_type": "code",
   "execution_count": 33,
   "metadata": {},
   "outputs": [
    {
     "data": {
      "text/html": [
       "<div>\n",
       "<style scoped>\n",
       "    .dataframe tbody tr th:only-of-type {\n",
       "        vertical-align: middle;\n",
       "    }\n",
       "\n",
       "    .dataframe tbody tr th {\n",
       "        vertical-align: top;\n",
       "    }\n",
       "\n",
       "    .dataframe thead th {\n",
       "        text-align: right;\n",
       "    }\n",
       "</style>\n",
       "<table border=\"1\" class=\"dataframe\">\n",
       "  <thead>\n",
       "    <tr style=\"text-align: right;\">\n",
       "      <th></th>\n",
       "      <th>Name</th>\n",
       "      <th>Type 1</th>\n",
       "      <th>Type 2</th>\n",
       "      <th>Total Point</th>\n",
       "      <th>Health Point</th>\n",
       "      <th>Attack Point</th>\n",
       "      <th>Defense Point</th>\n",
       "      <th>Sp. Atk Point</th>\n",
       "      <th>Sp. Def Point</th>\n",
       "      <th>Speed Point</th>\n",
       "      <th>Generation</th>\n",
       "    </tr>\n",
       "  </thead>\n",
       "  <tbody>\n",
       "    <tr>\n",
       "      <th>51</th>\n",
       "      <td>Paras</td>\n",
       "      <td>Bug</td>\n",
       "      <td>Grass</td>\n",
       "      <td>285</td>\n",
       "      <td>35</td>\n",
       "      <td>70</td>\n",
       "      <td>55</td>\n",
       "      <td>45</td>\n",
       "      <td>55</td>\n",
       "      <td>25</td>\n",
       "      <td>1</td>\n",
       "    </tr>\n",
       "    <tr>\n",
       "      <th>52</th>\n",
       "      <td>Parasect</td>\n",
       "      <td>Bug</td>\n",
       "      <td>Grass</td>\n",
       "      <td>405</td>\n",
       "      <td>60</td>\n",
       "      <td>95</td>\n",
       "      <td>80</td>\n",
       "      <td>60</td>\n",
       "      <td>80</td>\n",
       "      <td>30</td>\n",
       "      <td>1</td>\n",
       "    </tr>\n",
       "    <tr>\n",
       "      <th>53</th>\n",
       "      <td>Venonat</td>\n",
       "      <td>Bug</td>\n",
       "      <td>Poison</td>\n",
       "      <td>305</td>\n",
       "      <td>60</td>\n",
       "      <td>55</td>\n",
       "      <td>50</td>\n",
       "      <td>40</td>\n",
       "      <td>55</td>\n",
       "      <td>45</td>\n",
       "      <td>1</td>\n",
       "    </tr>\n",
       "    <tr>\n",
       "      <th>54</th>\n",
       "      <td>Venomoth</td>\n",
       "      <td>Bug</td>\n",
       "      <td>Poison</td>\n",
       "      <td>450</td>\n",
       "      <td>70</td>\n",
       "      <td>65</td>\n",
       "      <td>60</td>\n",
       "      <td>90</td>\n",
       "      <td>75</td>\n",
       "      <td>90</td>\n",
       "      <td>1</td>\n",
       "    </tr>\n",
       "    <tr>\n",
       "      <th>55</th>\n",
       "      <td>Diglett</td>\n",
       "      <td>Ground</td>\n",
       "      <td>NaN</td>\n",
       "      <td>265</td>\n",
       "      <td>10</td>\n",
       "      <td>55</td>\n",
       "      <td>25</td>\n",
       "      <td>35</td>\n",
       "      <td>45</td>\n",
       "      <td>95</td>\n",
       "      <td>1</td>\n",
       "    </tr>\n",
       "  </tbody>\n",
       "</table>\n",
       "</div>"
      ],
      "text/plain": [
       "        Name  Type 1  Type 2  Total Point  Health Point  Attack Point  \\\n",
       "51     Paras     Bug   Grass          285            35            70   \n",
       "52  Parasect     Bug   Grass          405            60            95   \n",
       "53   Venonat     Bug  Poison          305            60            55   \n",
       "54  Venomoth     Bug  Poison          450            70            65   \n",
       "55   Diglett  Ground     NaN          265            10            55   \n",
       "\n",
       "    Defense Point  Sp. Atk Point  Sp. Def Point  Speed Point  Generation  \n",
       "51             55             45             55           25           1  \n",
       "52             80             60             80           30           1  \n",
       "53             50             40             55           45           1  \n",
       "54             60             90             75           90           1  \n",
       "55             25             35             45           95           1  "
      ]
     },
     "execution_count": 33,
     "metadata": {},
     "output_type": "execute_result"
    }
   ],
   "source": [
    "pokemon_data.tail()"
   ]
  },
  {
   "cell_type": "markdown",
   "metadata": {},
   "source": [
    "##### It gives the total numbers of rows"
   ]
  },
  {
   "cell_type": "code",
   "execution_count": 34,
   "metadata": {},
   "outputs": [
    {
     "name": "stdout",
     "output_type": "stream",
     "text": [
      "56\n"
     ]
    }
   ],
   "source": [
    "print(len(pokemon_data.index))"
   ]
  },
  {
   "cell_type": "code",
   "execution_count": 32,
   "metadata": {},
   "outputs": [
    {
     "data": {
      "text/html": [
       "<div>\n",
       "<style scoped>\n",
       "    .dataframe tbody tr th:only-of-type {\n",
       "        vertical-align: middle;\n",
       "    }\n",
       "\n",
       "    .dataframe tbody tr th {\n",
       "        vertical-align: top;\n",
       "    }\n",
       "\n",
       "    .dataframe thead th {\n",
       "        text-align: right;\n",
       "    }\n",
       "</style>\n",
       "<table border=\"1\" class=\"dataframe\">\n",
       "  <thead>\n",
       "    <tr style=\"text-align: right;\">\n",
       "      <th></th>\n",
       "      <th>Total Point</th>\n",
       "      <th>Health Point</th>\n",
       "      <th>Attack Point</th>\n",
       "      <th>Defense Point</th>\n",
       "      <th>Sp. Atk Point</th>\n",
       "      <th>Sp. Def Point</th>\n",
       "      <th>Speed Point</th>\n",
       "      <th>Generation</th>\n",
       "    </tr>\n",
       "  </thead>\n",
       "  <tbody>\n",
       "    <tr>\n",
       "      <th>count</th>\n",
       "      <td>56.000000</td>\n",
       "      <td>56.000000</td>\n",
       "      <td>56.000000</td>\n",
       "      <td>56.000000</td>\n",
       "      <td>56.000000</td>\n",
       "      <td>56.000000</td>\n",
       "      <td>56.000000</td>\n",
       "      <td>56.0</td>\n",
       "    </tr>\n",
       "    <tr>\n",
       "      <th>mean</th>\n",
       "      <td>390.714286</td>\n",
       "      <td>61.875000</td>\n",
       "      <td>69.196429</td>\n",
       "      <td>61.785714</td>\n",
       "      <td>65.142857</td>\n",
       "      <td>64.982143</td>\n",
       "      <td>67.732143</td>\n",
       "      <td>1.0</td>\n",
       "    </tr>\n",
       "    <tr>\n",
       "      <th>std</th>\n",
       "      <td>119.781728</td>\n",
       "      <td>21.734817</td>\n",
       "      <td>24.774928</td>\n",
       "      <td>23.425483</td>\n",
       "      <td>32.938747</td>\n",
       "      <td>24.795521</td>\n",
       "      <td>26.458538</td>\n",
       "      <td>0.0</td>\n",
       "    </tr>\n",
       "    <tr>\n",
       "      <th>min</th>\n",
       "      <td>195.000000</td>\n",
       "      <td>10.000000</td>\n",
       "      <td>20.000000</td>\n",
       "      <td>20.000000</td>\n",
       "      <td>15.000000</td>\n",
       "      <td>20.000000</td>\n",
       "      <td>20.000000</td>\n",
       "      <td>1.0</td>\n",
       "    </tr>\n",
       "    <tr>\n",
       "      <th>25%</th>\n",
       "      <td>296.250000</td>\n",
       "      <td>45.000000</td>\n",
       "      <td>51.500000</td>\n",
       "      <td>43.750000</td>\n",
       "      <td>40.000000</td>\n",
       "      <td>50.000000</td>\n",
       "      <td>45.000000</td>\n",
       "      <td>1.0</td>\n",
       "    </tr>\n",
       "    <tr>\n",
       "      <th>50%</th>\n",
       "      <td>395.000000</td>\n",
       "      <td>60.000000</td>\n",
       "      <td>65.000000</td>\n",
       "      <td>57.500000</td>\n",
       "      <td>60.000000</td>\n",
       "      <td>65.000000</td>\n",
       "      <td>65.000000</td>\n",
       "      <td>1.0</td>\n",
       "    </tr>\n",
       "    <tr>\n",
       "      <th>75%</th>\n",
       "      <td>483.500000</td>\n",
       "      <td>75.750000</td>\n",
       "      <td>83.250000</td>\n",
       "      <td>77.250000</td>\n",
       "      <td>85.000000</td>\n",
       "      <td>80.000000</td>\n",
       "      <td>86.250000</td>\n",
       "      <td>1.0</td>\n",
       "    </tr>\n",
       "    <tr>\n",
       "      <th>max</th>\n",
       "      <td>634.000000</td>\n",
       "      <td>140.000000</td>\n",
       "      <td>150.000000</td>\n",
       "      <td>123.000000</td>\n",
       "      <td>159.000000</td>\n",
       "      <td>120.000000</td>\n",
       "      <td>145.000000</td>\n",
       "      <td>1.0</td>\n",
       "    </tr>\n",
       "  </tbody>\n",
       "</table>\n",
       "</div>"
      ],
      "text/plain": [
       "       Total Point  Health Point  Attack Point  Defense Point  Sp. Atk Point  \\\n",
       "count    56.000000     56.000000     56.000000      56.000000      56.000000   \n",
       "mean    390.714286     61.875000     69.196429      61.785714      65.142857   \n",
       "std     119.781728     21.734817     24.774928      23.425483      32.938747   \n",
       "min     195.000000     10.000000     20.000000      20.000000      15.000000   \n",
       "25%     296.250000     45.000000     51.500000      43.750000      40.000000   \n",
       "50%     395.000000     60.000000     65.000000      57.500000      60.000000   \n",
       "75%     483.500000     75.750000     83.250000      77.250000      85.000000   \n",
       "max     634.000000    140.000000    150.000000     123.000000     159.000000   \n",
       "\n",
       "       Sp. Def Point  Speed Point  Generation  \n",
       "count      56.000000    56.000000        56.0  \n",
       "mean       64.982143    67.732143         1.0  \n",
       "std        24.795521    26.458538         0.0  \n",
       "min        20.000000    20.000000         1.0  \n",
       "25%        50.000000    45.000000         1.0  \n",
       "50%        65.000000    65.000000         1.0  \n",
       "75%        80.000000    86.250000         1.0  \n",
       "max       120.000000   145.000000         1.0  "
      ]
     },
     "execution_count": 32,
     "metadata": {},
     "output_type": "execute_result"
    }
   ],
   "source": [
    "pokemon_data.describe()"
   ]
  }
 ],
 "metadata": {
  "kernelspec": {
   "display_name": "Python 3",
   "language": "python",
   "name": "python3"
  },
  "language_info": {
   "codemirror_mode": {
    "name": "ipython",
    "version": 3
   },
   "file_extension": ".py",
   "mimetype": "text/x-python",
   "name": "python",
   "nbconvert_exporter": "python",
   "pygments_lexer": "ipython3",
   "version": "3.8.2"
  },
  "latex_envs": {
   "LaTeX_envs_menu_present": true,
   "autoclose": false,
   "autocomplete": true,
   "bibliofile": "biblio.bib",
   "cite_by": "apalike",
   "current_citInitial": 1,
   "eqLabelWithNumbers": true,
   "eqNumInitial": 1,
   "hotkeys": {
    "equation": "Ctrl-E",
    "itemize": "Ctrl-I"
   },
   "labels_anchors": false,
   "latex_user_defs": false,
   "report_style_numbering": false,
   "user_envs_cfg": false
  },
  "varInspector": {
   "cols": {
    "lenName": 16,
    "lenType": 16,
    "lenVar": 40
   },
   "kernels_config": {
    "python": {
     "delete_cmd_postfix": "",
     "delete_cmd_prefix": "del ",
     "library": "var_list.py",
     "varRefreshCmd": "print(var_dic_list())"
    },
    "r": {
     "delete_cmd_postfix": ") ",
     "delete_cmd_prefix": "rm(",
     "library": "var_list.r",
     "varRefreshCmd": "cat(var_dic_list()) "
    }
   },
   "types_to_exclude": [
    "module",
    "function",
    "builtin_function_or_method",
    "instance",
    "_Feature"
   ],
   "window_display": false
  }
 },
 "nbformat": 4,
 "nbformat_minor": 2
}
