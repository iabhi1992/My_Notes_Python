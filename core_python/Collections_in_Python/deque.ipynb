{
 "cells": [
  {
   "cell_type": "markdown",
   "id": "ffdf1482",
   "metadata": {},
   "source": [
    "##### deques \n",
    "    - “are a generalization of stacks and queues”"
   ]
  },
  {
   "cell_type": "markdown",
   "id": "60a1c4a7",
   "metadata": {},
   "source": [
    "    - a replacement container for the Python list"
   ]
  },
  {
   "cell_type": "markdown",
   "id": "762e452e",
   "metadata": {},
   "source": [
    "    - are thread-safe and support memory efficient appends and pops from either side of the deque"
   ]
  },
  {
   "cell_type": "markdown",
   "id": "64c649cc",
   "metadata": {},
   "source": [
    "    - deque accepts a maxlen argument which sets the bounds for the deque. Otherwise the deque will grow to an arbitrary size. "
   ]
  },
  {
   "cell_type": "markdown",
   "id": "21f59bde",
   "metadata": {},
   "source": [
    "    - When a bounded deque is full, any new items added will cause the same number of items to be popped off the other end."
   ]
  },
  {
   "cell_type": "markdown",
   "id": "51c7cbb5",
   "metadata": {},
   "source": [
    "    - As a general rule, if you need fast appends or fast pops, use a deque. If you need fast random access, use a list."
   ]
  },
  {
   "cell_type": "code",
   "execution_count": 3,
   "id": "ff2e35ab",
   "metadata": {
    "ExecuteTime": {
     "end_time": "2021-06-06T17:39:41.595290Z",
     "start_time": "2021-06-06T17:39:41.582502Z"
    }
   },
   "outputs": [
    {
     "name": "stdout",
     "output_type": "stream",
     "text": [
      "A\n",
      "B\n",
      "C\n",
      "D\n",
      "E\n",
      "F\n",
      "G\n",
      "H\n",
      "I\n",
      "J\n",
      "K\n",
      "L\n",
      "M\n",
      "N\n",
      "O\n",
      "P\n",
      "Q\n",
      "R\n",
      "S\n",
      "T\n",
      "U\n",
      "V\n",
      "W\n",
      "X\n",
      "Y\n",
      "Z\n"
     ]
    }
   ],
   "source": [
    "from collections import deque\n",
    "import string\n",
    "d = deque(string.ascii_uppercase)\n",
    "for letter in d:\n",
    "    print(letter)"
   ]
  },
  {
   "cell_type": "code",
   "execution_count": 6,
   "id": "d6a7bdbc",
   "metadata": {
    "ExecuteTime": {
     "end_time": "2021-06-06T17:40:41.002245Z",
     "start_time": "2021-06-06T17:40:40.994766Z"
    }
   },
   "outputs": [
    {
     "name": "stdout",
     "output_type": "stream",
     "text": [
      "deque(['Learnbay', 'Data Science and AI', 'Learnbay', 'Data Science and AI', 'A', 'B', 'C', 'D', 'E', 'F', 'G', 'H', 'I', 'J', 'K', 'L', 'M', 'N', 'O', 'P', 'Q', 'R', 'S', 'T', 'U', 'V', 'W', 'X', 'Y', 'Z', 'Learnbay'])\n",
      "\n",
      "deque(['Data Science and AI', 'Learnbay', 'Data Science and AI', 'Learnbay', 'Data Science and AI', 'A', 'B', 'C', 'D', 'E', 'F', 'G', 'H', 'I', 'J', 'K', 'L', 'M', 'N', 'O', 'P', 'Q', 'R', 'S', 'T', 'U', 'V', 'W', 'X', 'Y', 'Z', 'Learnbay'])\n",
      "\n",
      "deque(['Learnbay', 'Data Science and AI', 'Learnbay', 'Data Science and AI', 'Learnbay', 'Data Science and AI', 'A', 'B', 'C', 'D', 'E', 'F', 'G', 'H', 'I', 'J', 'K', 'L', 'M', 'N', 'O', 'P', 'Q', 'R', 'S', 'T', 'U', 'V', 'W', 'X', 'Y', 'Z'])\n"
     ]
    }
   ],
   "source": [
    "d.append('Learnbay')\n",
    "print (d)\n",
    "print()\n",
    "\n",
    "d.appendleft('Data Science and AI')\n",
    "print (d)\n",
    "print()\n",
    "\n",
    "d.rotate(1)\n",
    "print(d)\n"
   ]
  },
  {
   "cell_type": "markdown",
   "id": "bf29d021",
   "metadata": {},
   "source": [
    "#### Let’s finish out this section by looking at an example that’s based on something from the Python documentation:"
   ]
  },
  {
   "cell_type": "code",
   "execution_count": null,
   "id": "6bbd7f1d",
   "metadata": {},
   "outputs": [],
   "source": [
    "from collections import deque\n",
    "\n",
    "\n",
    "def get_last(filename, n=5):\n",
    "    \"\"\"\n",
    "    Returns the last n lines from the file\n",
    "    \"\"\"\n",
    "    try:\n",
    "        with open(filename) as f:\n",
    "            return deque(f, n)\n",
    "    except OSError:\n",
    "        print(\"Error opening file: {}\".format(filename))\n",
    "        raise"
   ]
  }
 ],
 "metadata": {
  "kernelspec": {
   "display_name": "Python 3",
   "language": "python",
   "name": "python3"
  },
  "language_info": {
   "codemirror_mode": {
    "name": "ipython",
    "version": 3
   },
   "file_extension": ".py",
   "mimetype": "text/x-python",
   "name": "python",
   "nbconvert_exporter": "python",
   "pygments_lexer": "ipython3",
   "version": "3.8.2"
  }
 },
 "nbformat": 4,
 "nbformat_minor": 5
}
