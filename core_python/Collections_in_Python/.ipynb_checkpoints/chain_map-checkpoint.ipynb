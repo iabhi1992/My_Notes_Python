{
 "cells": [
  {
   "cell_type": "markdown",
   "id": "5242da3b",
   "metadata": {},
   "source": [
    "##### The container data type in collection module\n",
    "    - ChainMap\n",
    "    - defaultdict\n",
    "    - deque\n",
    "    - namedtuple\n",
    "    - OrderedDict"
   ]
  },
  {
   "cell_type": "markdown",
   "id": "1d14de1c",
   "metadata": {},
   "source": [
    "##### These container data types can be used to replace python's general purpose container types (dict, list, tuple, set)"
   ]
  },
  {
   "cell_type": "markdown",
   "id": "43a74b4b",
   "metadata": {},
   "source": [
    "##### abc or AbstractBaseClass is submodule of collection module"
   ]
  },
  {
   "cell_type": "code",
   "execution_count": 6,
   "id": "24656924",
   "metadata": {
    "ExecuteTime": {
     "end_time": "2021-06-06T15:36:23.053839Z",
     "start_time": "2021-06-06T15:36:23.047233Z"
    }
   },
   "outputs": [],
   "source": [
    "from collections import ChainMap\n",
    "st_details = {'name': 'Rohan', 'roll_no': 101, 'std': 6, 'pin': 560038}\n",
    "st_marks = {'language': 269, 'Science': 279, 'Social_Sc': 198}\n",
    "st_other_info = {'street': '2nd Cross', 'locality': 'Marathahalli', 'pin': 560037}\n",
    "st_main_info = ChainMap(st_details, st_marks, st_other_info)\n"
   ]
  },
  {
   "cell_type": "code",
   "execution_count": 8,
   "id": "d0426264",
   "metadata": {
    "ExecuteTime": {
     "end_time": "2021-06-06T15:36:37.611179Z",
     "start_time": "2021-06-06T15:36:37.600807Z"
    }
   },
   "outputs": [
    {
     "data": {
      "text/plain": [
       "ChainMap({'name': 'Rohan', 'roll_no': 101, 'std': 6, 'pin': 560038}, {'language': 269, 'Science': 279, 'Social_Sc': 198}, {'street': '2nd Cross', 'locality': 'Marathahalli', 'pin': 560037})"
      ]
     },
     "execution_count": 8,
     "metadata": {},
     "output_type": "execute_result"
    }
   ],
   "source": [
    "st_main_info"
   ]
  },
  {
   "cell_type": "code",
   "execution_count": 9,
   "id": "79e1d4e8",
   "metadata": {
    "ExecuteTime": {
     "end_time": "2021-06-06T15:36:43.639562Z",
     "start_time": "2021-06-06T15:36:43.631715Z"
    }
   },
   "outputs": [
    {
     "name": "stdout",
     "output_type": "stream",
     "text": [
      "Marathahalli\n"
     ]
    }
   ],
   "source": [
    "print (st_main_info['locality'])"
   ]
  },
  {
   "cell_type": "code",
   "execution_count": 10,
   "id": "f4e14dee",
   "metadata": {
    "ExecuteTime": {
     "end_time": "2021-06-06T15:36:44.956346Z",
     "start_time": "2021-06-06T15:36:44.949292Z"
    }
   },
   "outputs": [
    {
     "name": "stdout",
     "output_type": "stream",
     "text": [
      "560038\n"
     ]
    }
   ],
   "source": [
    "print (st_main_info['pin'])     # It will return first value"
   ]
  },
  {
   "cell_type": "markdown",
   "id": "d4341aa5",
   "metadata": {},
   "source": [
    "##### ChainMap \n",
    "    - accept any number of mappings or dictionaries and turn them into a single view that you can update. "
   ]
  }
 ],
 "metadata": {
  "kernelspec": {
   "display_name": "Python 3",
   "language": "python",
   "name": "python3"
  },
  "language_info": {
   "codemirror_mode": {
    "name": "ipython",
    "version": 3
   },
   "file_extension": ".py",
   "mimetype": "text/x-python",
   "name": "python",
   "nbconvert_exporter": "python",
   "pygments_lexer": "ipython3",
   "version": "3.8.2"
  }
 },
 "nbformat": 4,
 "nbformat_minor": 5
}
