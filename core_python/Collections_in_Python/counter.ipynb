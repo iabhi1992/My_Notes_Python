{
 "cells": [
  {
   "cell_type": "markdown",
   "id": "6dbe9dfc",
   "metadata": {},
   "source": [
    "##### returns a Counter object that is a subclass of Python’s dictionary."
   ]
  },
  {
   "cell_type": "code",
   "execution_count": 24,
   "id": "da2eb3d9",
   "metadata": {
    "ExecuteTime": {
     "end_time": "2021-06-06T15:56:26.974184Z",
     "start_time": "2021-06-06T15:56:26.965534Z"
    }
   },
   "outputs": [
    {
     "name": "stdout",
     "output_type": "stream",
     "text": [
      "Counter({'o': 5, 'l': 2, 'w': 2, 'd': 2, 'y': 1, 'e': 1, 'r': 1})\n",
      "2\n"
     ]
    }
   ],
   "source": [
    "from collections import Counter\n",
    "print(Counter('yellowwooddoor'))\n",
    "\n",
    "\n",
    "counter = Counter('yellowwooddoor')\n",
    "print(counter['w'])"
   ]
  },
  {
   "cell_type": "markdown",
   "id": "c57dd9df",
   "metadata": {},
   "source": [
    "##### elements()\n",
    "    - which will return an iterator over the elements that are in the dictionary, but in an arbitrary order. "
   ]
  },
  {
   "cell_type": "code",
   "execution_count": 4,
   "id": "4da31532",
   "metadata": {
    "ExecuteTime": {
     "end_time": "2021-06-06T15:54:38.821048Z",
     "start_time": "2021-06-06T15:54:38.812867Z"
    }
   },
   "outputs": [
    {
     "name": "stdout",
     "output_type": "stream",
     "text": [
      "['y', 'e', 'l', 'l', 'o', 'o', 'o', 'o', 'o', 'w', 'w', 'd', 'd', 'r']\n"
     ]
    }
   ],
   "source": [
    "\n",
    "print(list(counter.elements()))\n"
   ]
  },
  {
   "cell_type": "markdown",
   "id": "c822f3f0",
   "metadata": {},
   "source": [
    "##### most_common()"
   ]
  },
  {
   "cell_type": "code",
   "execution_count": 25,
   "id": "8a6cdbed",
   "metadata": {
    "ExecuteTime": {
     "end_time": "2021-06-06T15:56:28.627787Z",
     "start_time": "2021-06-06T15:56:28.621084Z"
    }
   },
   "outputs": [
    {
     "name": "stdout",
     "output_type": "stream",
     "text": [
      "[('o', 5), ('l', 2), ('w', 2)]\n"
     ]
    }
   ],
   "source": [
    "print(counter.most_common(3))"
   ]
  },
  {
   "cell_type": "markdown",
   "id": "ca5b8450",
   "metadata": {},
   "source": [
    "##### subtract()"
   ]
  },
  {
   "cell_type": "code",
   "execution_count": 27,
   "id": "0bc05692",
   "metadata": {
    "ExecuteTime": {
     "end_time": "2021-06-06T15:58:44.081842Z",
     "start_time": "2021-06-06T15:58:44.071307Z"
    }
   },
   "outputs": [
    {
     "name": "stdout",
     "output_type": "stream",
     "text": [
      "Counter({'o': 5, 'l': 2, 'w': 2, 'd': 2, 'y': 1, 'e': 1, 'r': 1})\n",
      "None\n",
      "Counter({'o': 3, 'l': 2, 'y': 1, 'e': 1, 'w': 1, 'd': 1, 'r': 1})\n"
     ]
    }
   ],
   "source": [
    "from collections import Counter\n",
    "\n",
    "c_one = Counter('yellowwooddoor')\n",
    "print (c_one)\n",
    "\n",
    "\n",
    "c_two = Counter('wood')\n",
    "print(c_one.subtract(c_two))\n",
    "#None\n",
    "\n",
    "print (c_one)\n"
   ]
  },
  {
   "cell_type": "markdown",
   "id": "e4bec82f",
   "metadata": {},
   "source": [
    "##### you can use the Counter against any iterable or mapping, so you don’t have to just use strings. You can also pass it tuples, dictionaries and lists! "
   ]
  }
 ],
 "metadata": {
  "kernelspec": {
   "display_name": "Python 3",
   "language": "python",
   "name": "python3"
  },
  "language_info": {
   "codemirror_mode": {
    "name": "ipython",
    "version": 3
   },
   "file_extension": ".py",
   "mimetype": "text/x-python",
   "name": "python",
   "nbconvert_exporter": "python",
   "pygments_lexer": "ipython3",
   "version": "3.8.2"
  }
 },
 "nbformat": 4,
 "nbformat_minor": 5
}
