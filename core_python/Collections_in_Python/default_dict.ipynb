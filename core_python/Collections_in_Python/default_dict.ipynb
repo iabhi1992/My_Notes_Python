{
 "cells": [
  {
   "cell_type": "markdown",
   "id": "adaf9eac",
   "metadata": {},
   "source": [
    "##### defaultdict is subclass if dict"
   ]
  },
  {
   "cell_type": "markdown",
   "id": "7abb4e49",
   "metadata": {},
   "source": [
    "##### accepts a default_factory as it's primary arguments"
   ]
  },
  {
   "cell_type": "markdown",
   "id": "6ceb1a8b",
   "metadata": {},
   "source": [
    "##### default_factory may be int, float, str, list, tuple, lambda etc"
   ]
  },
  {
   "cell_type": "code",
   "execution_count": 6,
   "id": "09277d14",
   "metadata": {
    "ExecuteTime": {
     "end_time": "2021-06-06T14:35:47.392598Z",
     "start_time": "2021-06-06T14:35:47.386427Z"
    }
   },
   "outputs": [
    {
     "name": "stdout",
     "output_type": "stream",
     "text": [
      "{'Peter': 4, 'Piper': 4, 'picked': 4, 'a': 2, 'peck': 4, 'of': 4, 'pickled': 4, 'peppers': 4, 'A': 1, 'If': 1, \"Where's\": 1, 'the': 1}\n"
     ]
    }
   ],
   "source": [
    "sentence = '''Peter Piper picked a peck of pickled peppers \\\n",
    "A peck of pickled peppers Peter Piper picked \\\n",
    "If Peter Piper picked a peck of pickled peppers \\\n",
    "Where's the peck of pickled peppers Peter Piper picked'''\n",
    "\n",
    "words = sentence.split(' ')\n",
    "\n",
    "reg_dict = {}\n",
    "for word in words:\n",
    "    if word in reg_dict:\n",
    "        reg_dict[word] += 1\n",
    "    else:\n",
    "        reg_dict[word] = 1\n",
    "\n",
    "print(reg_dict)"
   ]
  },
  {
   "cell_type": "code",
   "execution_count": 5,
   "id": "edd134de",
   "metadata": {
    "ExecuteTime": {
     "end_time": "2021-06-06T14:34:55.300349Z",
     "start_time": "2021-06-06T14:34:55.293062Z"
    }
   },
   "outputs": [
    {
     "name": "stdout",
     "output_type": "stream",
     "text": [
      "defaultdict(<class 'int'>, {'Peter': 4, 'Piper': 4, 'picked': 4, 'a': 2, 'peck': 4, 'of': 4, 'pickled': 4, 'peppers': 4, 'A': 1, 'If': 1, \"Where's\": 1, 'the': 1})\n"
     ]
    }
   ],
   "source": [
    "from collections import defaultdict\n",
    "\n",
    "\n",
    "sentence = '''Peter Piper picked a peck of pickled peppers \\\n",
    "A peck of pickled peppers Peter Piper picked \\\n",
    "If Peter Piper picked a peck of pickled peppers \\\n",
    "Where's the peck of pickled peppers Peter Piper picked'''\n",
    "\n",
    "words = sentence.split(' ')\n",
    "\n",
    "d = defaultdict(int)\n",
    "for word in words:\n",
    "    d[word] += 1\n",
    "\n",
    "print(d)"
   ]
  },
  {
   "cell_type": "code",
   "execution_count": 7,
   "id": "f269a779",
   "metadata": {
    "ExecuteTime": {
     "end_time": "2021-06-06T14:35:59.206977Z",
     "start_time": "2021-06-06T14:35:59.198916Z"
    }
   },
   "outputs": [
    {
     "name": "stdout",
     "output_type": "stream",
     "text": [
      "{101: [30100, 30500, 30567], 102: [24045, 25266], 103: [60025]}\n"
     ]
    }
   ],
   "source": [
    "my_list = [(101, 30100), (102, 24045), (101, 30500),\n",
    "           (102, 25266), (103, 60025), (101, 30567)]\n",
    "\n",
    "reg_dict = {}\n",
    "for emp_id, emp_sal in my_list:\n",
    "    if emp_id in reg_dict:\n",
    "        reg_dict[emp_id].append(emp_sal)\n",
    "    else:\n",
    "        reg_dict[emp_id] = [emp_sal]\n",
    "\n",
    "print(reg_dict)"
   ]
  },
  {
   "cell_type": "code",
   "execution_count": 8,
   "id": "e97e9a9c",
   "metadata": {
    "ExecuteTime": {
     "end_time": "2021-06-06T14:36:18.331520Z",
     "start_time": "2021-06-06T14:36:18.322802Z"
    }
   },
   "outputs": [
    {
     "name": "stdout",
     "output_type": "stream",
     "text": [
      "defaultdict(<class 'list'>, {101: [30100, 30500, 30567], 102: [24045, 25266], 103: [60025]})\n"
     ]
    }
   ],
   "source": [
    "from collections import defaultdict\n",
    "\n",
    "\n",
    "my_list = [(101, 30100), (102, 24045), (101, 30500),\n",
    "           (102, 25266), (103, 60025), (101, 30567)]\n",
    "\n",
    "d = defaultdict(list)\n",
    "for emp_id, emp_sal in my_list:\n",
    "    d[emp_id].append(emp_sal)\n",
    "\n",
    "print(d)"
   ]
  },
  {
   "cell_type": "code",
   "execution_count": null,
   "id": "d5204baf",
   "metadata": {
    "ExecuteTime": {
     "end_time": "2021-06-06T14:32:31.943824Z",
     "start_time": "2021-06-06T14:32:31.937560Z"
    }
   },
   "outputs": [],
   "source": [
    "from collections import defaultdict\n",
    "emp_sal = defaultdict(lambda: 10000)\n",
    "emp_sal['Smith'] = 40000\n",
    "print(emp_sal['Rahul'])\n",
    "\n",
    "\n",
    "print(emp_sal)\n"
   ]
  },
  {
   "cell_type": "markdown",
   "id": "0b6d709c",
   "metadata": {},
   "source": [
    "##### In case you haven’t noticed yet, it’s basically impossible to cause a KeyError to happen as long as you set the default_factory to something that makes sense. The documentation does mention that if you happen to set the default_factory to None, then you will receive a KeyError. "
   ]
  },
  {
   "cell_type": "code",
   "execution_count": null,
   "id": "3770483e",
   "metadata": {
    "ExecuteTime": {
     "end_time": "2021-06-06T14:31:50.636087Z",
     "start_time": "2021-06-06T14:31:50.623097Z"
    }
   },
   "outputs": [],
   "source": [
    "from collections import defaultdict\n",
    "x = defaultdict(None)\n",
    "x['Smith']\n",
    "\n",
    "\n",
    "# ---------------------------------------------------------------------------\n",
    "# KeyError                                  Traceback (most recent call last)\n",
    "# <ipython-input-6-f1b8add4806e> in <module>\n",
    "#       1 from collections import defaultdict\n",
    "#       2 x = defaultdict(None)\n",
    "# ----> 3 x['Smith']\n",
    "#       4 #Traceback (most recent call last):\n",
    "#       5 #  File \"/usercode/__ed_file.py\", line 3, in <module>\n",
    "\n",
    "# KeyError: 'Smith'"
   ]
  },
  {
   "cell_type": "code",
   "execution_count": null,
   "id": "2e6dd8c7",
   "metadata": {
    "ExecuteTime": {
     "end_time": "2021-06-06T14:33:09.815726Z",
     "start_time": "2021-06-06T14:33:05.999760Z"
    }
   },
   "outputs": [],
   "source": [
    "from collections import defaultdict\n",
    "emp_sal = defaultdict(lambda: eval(input('Enter some Value: ')))\n",
    "emp_sal['Smith'] = 40000\n",
    "print(emp_sal['Rahul'])\n",
    "\n",
    "\n",
    "print(emp_sal)"
   ]
  }
 ],
 "metadata": {
  "kernelspec": {
   "display_name": "Python 3",
   "language": "python",
   "name": "python3"
  },
  "language_info": {
   "codemirror_mode": {
    "name": "ipython",
    "version": 3
   },
   "file_extension": ".py",
   "mimetype": "text/x-python",
   "name": "python",
   "nbconvert_exporter": "python",
   "pygments_lexer": "ipython3",
   "version": "3.8.2"
  }
 },
 "nbformat": 4,
 "nbformat_minor": 5
}
