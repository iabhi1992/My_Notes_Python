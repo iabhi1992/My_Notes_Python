{
 "cells": [
  {
   "cell_type": "code",
   "execution_count": 129,
   "id": "a30a73d3",
   "metadata": {
    "ExecuteTime": {
     "end_time": "2021-06-06T14:16:08.313974Z",
     "start_time": "2021-06-06T14:16:08.306271Z"
    }
   },
   "outputs": [
    {
     "name": "stdout",
     "output_type": "stream",
     "text": [
      "{'USA': 'Washington DC', 'France': 'Paris', 'India': 'New Delhi', 'China': 'Beijing'}\n"
     ]
    }
   ],
   "source": [
    "d = {\"USA\":\"Washington DC\", \"France\":\"Paris\", \"India\":\"New Delhi\", 'China':'Beijing'}\n",
    "print (d)\n"
   ]
  },
  {
   "cell_type": "code",
   "execution_count": 116,
   "id": "c11e837a",
   "metadata": {
    "ExecuteTime": {
     "end_time": "2021-06-06T14:09:36.969215Z",
     "start_time": "2021-06-06T14:09:36.960442Z"
    }
   },
   "outputs": [
    {
     "name": "stdout",
     "output_type": "stream",
     "text": [
      "dict_keys(['USA', 'France', 'India', 'China'])\n",
      "['China', 'France', 'India', 'USA']\n",
      "China Beijing\n",
      "France Paris\n",
      "India New Delhi\n",
      "USA Washington DC\n"
     ]
    }
   ],
   "source": [
    "d = {\"USA\":\"Washington DC\", \"France\":\"Paris\", \"India\":\"New Delhi\", 'China':'Beijing'}\n",
    "keys = d.keys()\n",
    "print(keys)\n",
    "\n",
    "\n",
    "keys = sorted(keys)\n",
    "print (keys)\n",
    "\n",
    "\n",
    "for key in keys:\n",
    "    print (key, d[key])\n",
    "\n"
   ]
  },
  {
   "cell_type": "code",
   "execution_count": 138,
   "id": "bc7bba24",
   "metadata": {
    "ExecuteTime": {
     "end_time": "2021-06-06T14:17:27.430197Z",
     "start_time": "2021-06-06T14:17:27.420151Z"
    }
   },
   "outputs": [
    {
     "name": "stdout",
     "output_type": "stream",
     "text": [
      "OrderedDict([('China', 'Beijing'), ('France', 'Paris'), ('India', 'New Delhi'), ('USA', 'Washington DC')])\n",
      "China Beijing\n",
      "France Paris\n",
      "India New Delhi\n",
      "USA Washington DC\n"
     ]
    }
   ],
   "source": [
    "from collections import OrderedDict\n",
    "d = {\"USA\":\"Washington DC\", \"France\":\"Paris\", \"India\":\"New Delhi\", 'China':'Beijing'}\n",
    "new_d = OrderedDict(sorted(d.items()))     # Will be sorted based on keys\n",
    "print (new_d)\n",
    "\n",
    "\n",
    "for key in new_d:\n",
    "    print (key, new_d[key])\n",
    "\n"
   ]
  },
  {
   "cell_type": "markdown",
   "id": "959a1290",
   "metadata": {},
   "source": [
    "##### Note that if you add new keys, they will be added to the end of the OrderedDict instead of being automatically sorted."
   ]
  },
  {
   "cell_type": "markdown",
   "id": "c9daa3ad",
   "metadata": {},
   "source": [
    "##### Something else to note about OrderDicts is that when you go to compare two OrderedDicts, they will not only test the items for equality, but also that the order is correct. A regular dictionary only looks at the contents of the dictionary and doesn’t care about its order."
   ]
  },
  {
   "cell_type": "markdown",
   "id": "bec80a32",
   "metadata": {},
   "source": [
    "##### Finally, OrderDicts have two new methods in Python 3: popitem and move_to_end. The popitem method will return and remove a (key, item) pair. The move_to_end method will move an existing key to either end of the OrderedDict. The item will be moved right end if the last argument for OrderedDict is set to True (which is the default), or to the beginning if it is False."
   ]
  },
  {
   "cell_type": "markdown",
   "id": "b57fcfbd",
   "metadata": {},
   "source": [
    "##### Interestingly, OrderedDicts support reverse iteration using Python’s reversed built-in function:"
   ]
  },
  {
   "cell_type": "code",
   "execution_count": 118,
   "id": "20677537",
   "metadata": {
    "ExecuteTime": {
     "end_time": "2021-06-06T14:14:14.395714Z",
     "start_time": "2021-06-06T14:14:14.386580Z"
    }
   },
   "outputs": [
    {
     "name": "stdout",
     "output_type": "stream",
     "text": [
      "USA Washington DC\n",
      "India New Delhi\n",
      "France Paris\n",
      "China Beijing\n"
     ]
    }
   ],
   "source": [
    "for key in reversed(new_d):\n",
    "    print (key, new_d[key])\n",
    "\n"
   ]
  },
  {
   "cell_type": "code",
   "execution_count": 137,
   "id": "28d3cf3c",
   "metadata": {
    "ExecuteTime": {
     "end_time": "2021-06-06T14:17:25.562695Z",
     "start_time": "2021-06-06T14:17:25.558738Z"
    }
   },
   "outputs": [],
   "source": [
    "# new_d.popitem()"
   ]
  },
  {
   "cell_type": "code",
   "execution_count": 139,
   "id": "4abafd92",
   "metadata": {
    "ExecuteTime": {
     "end_time": "2021-06-06T14:17:53.801445Z",
     "start_time": "2021-06-06T14:17:53.783605Z"
    }
   },
   "outputs": [
    {
     "data": {
      "text/plain": [
       "OrderedDict([('France', 'Paris'),\n",
       "             ('India', 'New Delhi'),\n",
       "             ('USA', 'Washington DC'),\n",
       "             ('China', 'Beijing')])"
      ]
     },
     "execution_count": 139,
     "metadata": {},
     "output_type": "execute_result"
    }
   ],
   "source": [
    "new_d.move_to_end('China')\n",
    "new_d"
   ]
  },
  {
   "cell_type": "code",
   "execution_count": 140,
   "id": "bbb61d81",
   "metadata": {
    "ExecuteTime": {
     "end_time": "2021-06-06T14:18:13.569327Z",
     "start_time": "2021-06-06T14:18:13.557497Z"
    }
   },
   "outputs": [
    {
     "data": {
      "text/plain": [
       "OrderedDict([('USA', 'Washington DC'),\n",
       "             ('France', 'Paris'),\n",
       "             ('India', 'New Delhi'),\n",
       "             ('China', 'Beijing')])"
      ]
     },
     "execution_count": 140,
     "metadata": {},
     "output_type": "execute_result"
    }
   ],
   "source": [
    "new_d.move_to_end('USA', False)\n",
    "new_d"
   ]
  }
 ],
 "metadata": {
  "kernelspec": {
   "display_name": "Python 3",
   "language": "python",
   "name": "python3"
  },
  "language_info": {
   "codemirror_mode": {
    "name": "ipython",
    "version": 3
   },
   "file_extension": ".py",
   "mimetype": "text/x-python",
   "name": "python",
   "nbconvert_exporter": "python",
   "pygments_lexer": "ipython3",
   "version": "3.8.2"
  }
 },
 "nbformat": 4,
 "nbformat_minor": 5
}
