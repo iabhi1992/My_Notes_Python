{
 "cells": [
  {
   "cell_type": "markdown",
   "id": "549abe10",
   "metadata": {},
   "source": [
    "# Build a Dataset"
   ]
  },
  {
   "cell_type": "code",
   "execution_count": 33,
   "id": "89e65434",
   "metadata": {
    "ExecuteTime": {
     "end_time": "2021-06-02T01:04:33.701580Z",
     "start_time": "2021-06-02T01:04:33.678899Z"
    }
   },
   "outputs": [],
   "source": [
    "import numpy as np\n",
    "\n",
    "X = np.zeros((100, 5),\n",
    "                 dtype = 'bool')\n",
    "\n",
    "features = [\"SmartInvestingTrends\",\n",
    "            \"TheKapilSharmaShow\",\n",
    "            \"TechnicalGuruji\", \n",
    "            \"LearnbayDataScience&AI\",\n",
    "            \"AbhishekGupta\"]\n",
    "\n",
    "SMARTINVESTINGTRENDS_INDEX   = 0\n",
    "THEKAPILSHARMASHOW_INDEX     = 1\n",
    "TECHNICALGURUJI_INDEX        = 2\n",
    "LEARNBAYDATASCIENCEAI_INDEX  = 3\n",
    "ABHISHEKGUPTA_INDEX          = 4\n",
    "\n",
    "VIEWERS_COUNT = X.shape[0]\n",
    "\n",
    "LIKED_VIDEO = 1\n",
    "\n",
    "for viewer in range(VIEWERS_COUNT):\n",
    "    if np.random.random() < 0.3:\n",
    "        X[viewer][SMARTINVESTINGTRENDS_INDEX] = LIKED_VIDEO\n",
    "        \n",
    "        if np.random.random() < 0.5:\n",
    "            X[viewer][THEKAPILSHARMASHOW_INDEX] = LIKED_VIDEO\n",
    "            \n",
    "        if np.random.random() < 0.2:\n",
    "            X[viewer][TECHNICALGURUJI_INDEX] = LIKED_VIDEO\n",
    "            \n",
    "        if np.random.random() < 0.3:\n",
    "            X[viewer][LEARNBAYDATASCIENCEAI_INDEX] = LIKED_VIDEO\n",
    "            \n",
    "        if np.random.random() < 0.4:\n",
    "            X[viewer][ABHISHEKGUPTA_INDEX] = LIKED_VIDEO\n",
    "            \n",
    "    else:\n",
    "        if np.random.random() < 0.5:\n",
    "            X[viewer][THEKAPILSHARMASHOW_INDEX] = LIKED_VIDEO\n",
    "            \n",
    "            if np.random.random() < 0.3:\n",
    "                X[viewer][TECHNICALGURUJI_INDEX] = LIKED_VIDEO\n",
    "        \n",
    "            if np.random.random() < 0.2:\n",
    "                X[viewer][LEARNBAYDATASCIENCEAI_INDEX] = LIKED_VIDEO\n",
    "                \n",
    "            if np.random.random() < 0.4:\n",
    "                X[viewer][ABHISHEKGUPTA_INDEX] = LIKED_VIDEO\n",
    "                \n",
    "        else:\n",
    "            if np.random.random() < 0.7:\n",
    "                X[viewer][TECHNICALGURUJI_INDEX] = LIKED_VIDEO\n",
    "                \n",
    "            if np.random.random() < 0.55:\n",
    "                X[viewer][LEARNBAYDATASCIENCEAI_INDEX] = LIKED_VIDEO\n",
    "                \n",
    "            if np.random.random() < 0.8:\n",
    "                X[viewer][ABHISHEKGUPTA_INDEX] = LIKED_VIDEO\n",
    "\n",
    "    if X[viewer].sum() == 0:\n",
    "        X[viewer][ABHISHEKGUPTA_INDEX] = LIKED_VIDEO\n",
    "        \n",
    "np.savetxt(\"viewer_profiles.txt\",\n",
    "              X,\n",
    "              fmt = \"%d\")\n",
    "\n",
    "# np.loadtxt('viewer_profiles.txt')\n",
    "    "
   ]
  },
  {
   "cell_type": "markdown",
   "id": "f4b5203d",
   "metadata": {},
   "source": [
    "# Compute Support and Confidence - If a person watches channel A, they will watch channel B"
   ]
  },
  {
   "cell_type": "code",
   "execution_count": 34,
   "id": "466217dc",
   "metadata": {
    "ExecuteTime": {
     "end_time": "2021-06-02T01:04:34.756645Z",
     "start_time": "2021-06-02T01:04:34.745423Z"
    }
   },
   "outputs": [
    {
     "data": {
      "text/plain": [
       "(100, 5)"
      ]
     },
     "execution_count": 34,
     "metadata": {},
     "output_type": "execute_result"
    }
   ],
   "source": [
    "X = np.loadtxt('viewer_profiles.txt')\n",
    "\n",
    "X.shape"
   ]
  },
  {
   "cell_type": "code",
   "execution_count": 35,
   "id": "6ca1f375",
   "metadata": {
    "ExecuteTime": {
     "end_time": "2021-06-02T01:04:35.583459Z",
     "start_time": "2021-06-02T01:04:35.578110Z"
    }
   },
   "outputs": [
    {
     "name": "stdout",
     "output_type": "stream",
     "text": [
      "32\n"
     ]
    }
   ],
   "source": [
    "number_of_LearnbayDataScienceAI_likes = 0\n",
    "\n",
    "for viewer in X:\n",
    "    \n",
    "    if viewer[LEARNBAYDATASCIENCEAI_INDEX] == 1:\n",
    "         number_of_LearnbayDataScienceAI_likes += 1\n",
    "            \n",
    "print(number_of_LearnbayDataScienceAI_likes)"
   ]
  },
  {
   "cell_type": "code",
   "execution_count": 36,
   "id": "eac9f6a3",
   "metadata": {
    "ExecuteTime": {
     "end_time": "2021-06-02T01:04:36.451803Z",
     "start_time": "2021-06-02T01:04:36.442091Z"
    }
   },
   "outputs": [
    {
     "name": "stdout",
     "output_type": "stream",
     "text": [
      "Rule: If a viewer liked Learnbay Data Science & AI, they will like Abhishek Gupta Channel.\n",
      "20 no of times rule was valid\n",
      "12 no of times rule was valid\n"
     ]
    }
   ],
   "source": [
    "rule_valid   = 0\n",
    "\n",
    "rule_invalid = 0\n",
    "\n",
    "for viewer in X:\n",
    "    \n",
    "    if viewer[LEARNBAYDATASCIENCEAI_INDEX] == 1:\n",
    "        \n",
    "        if viewer[ABHISHEKGUPTA_INDEX] == 1:\n",
    "            \n",
    "            rule_valid += 1\n",
    "        \n",
    "        else:\n",
    "            \n",
    "            rule_invalid += 1\n",
    "            \n",
    "print('Rule: If a viewer liked Learnbay Data Science & AI, they will like Abhishek Gupta Channel.')\n",
    "print(f'{rule_valid} no of times rule was valid') \n",
    "print(f'{rule_invalid} no of times rule was valid')"
   ]
  },
  {
   "cell_type": "code",
   "execution_count": 37,
   "id": "11924f6d",
   "metadata": {
    "ExecuteTime": {
     "end_time": "2021-06-02T01:04:39.406812Z",
     "start_time": "2021-06-02T01:04:39.399273Z"
    }
   },
   "outputs": [
    {
     "name": "stdout",
     "output_type": "stream",
     "text": [
      "Support : 20\n",
      "Confidence: 0.625\n",
      "Confidence: 62.5%\n"
     ]
    }
   ],
   "source": [
    "support = rule_valid\n",
    "\n",
    "confidence = rule_valid / number_of_LearnbayDataScienceAI_likes\n",
    "\n",
    "print(f'Support : {support}')\n",
    "\n",
    "print(f'Confidence: {confidence}')\n",
    "\n",
    "print(f'Confidence: {round((100 * confidence), 2)}%')"
   ]
  },
  {
   "cell_type": "markdown",
   "id": "eec215d1",
   "metadata": {},
   "source": [
    "# Compute Supprt and Confidence for all channels"
   ]
  },
  {
   "cell_type": "code",
   "execution_count": 38,
   "id": "506534b9",
   "metadata": {
    "ExecuteTime": {
     "end_time": "2021-06-02T01:04:44.202997Z",
     "start_time": "2021-06-02T01:04:44.179946Z"
    }
   },
   "outputs": [
    {
     "name": "stdout",
     "output_type": "stream",
     "text": [
      "Rule: If a viewer likes SmartInvestingTrends, they will also like TheKapilSharmaShow\n",
      "Confidence: 45.45%\n",
      "Support: 15\n",
      "\n",
      "Rule: If a viewer likes TheKapilSharmaShow, they will also like SmartInvestingTrends\n",
      "Confidence: 36.59%\n",
      "Support: 15\n",
      "\n",
      "Rule: If a viewer likes SmartInvestingTrends, they will also like AbhishekGupta\n",
      "Confidence: 36.36%\n",
      "Support: 12\n",
      "\n",
      "Rule: If a viewer likes TheKapilSharmaShow, they will also like AbhishekGupta\n",
      "Confidence: 43.9%\n",
      "Support: 18\n",
      "\n",
      "Rule: If a viewer likes AbhishekGupta, they will also like SmartInvestingTrends\n",
      "Confidence: 21.43%\n",
      "Support: 12\n",
      "\n",
      "Rule: If a viewer likes AbhishekGupta, they will also like TheKapilSharmaShow\n",
      "Confidence: 32.14%\n",
      "Support: 18\n",
      "\n",
      "Rule: If a viewer likes TheKapilSharmaShow, they will also like TechnicalGuruji\n",
      "Confidence: 26.83%\n",
      "Support: 11\n",
      "\n",
      "Rule: If a viewer likes TheKapilSharmaShow, they will also like LearnbayDataScience&AI\n",
      "Confidence: 17.07%\n",
      "Support: 7\n",
      "\n",
      "Rule: If a viewer likes TechnicalGuruji, they will also like TheKapilSharmaShow\n",
      "Confidence: 24.44%\n",
      "Support: 11\n",
      "\n",
      "Rule: If a viewer likes TechnicalGuruji, they will also like LearnbayDataScience&AI\n",
      "Confidence: 37.78%\n",
      "Support: 17\n",
      "\n",
      "Rule: If a viewer likes LearnbayDataScience&AI, they will also like TheKapilSharmaShow\n",
      "Confidence: 21.88%\n",
      "Support: 7\n",
      "\n",
      "Rule: If a viewer likes LearnbayDataScience&AI, they will also like TechnicalGuruji\n",
      "Confidence: 53.12%\n",
      "Support: 17\n",
      "\n",
      "Rule: If a viewer likes TechnicalGuruji, they will also like AbhishekGupta\n",
      "Confidence: 66.67%\n",
      "Support: 30\n",
      "\n",
      "Rule: If a viewer likes AbhishekGupta, they will also like TechnicalGuruji\n",
      "Confidence: 53.57%\n",
      "Support: 30\n",
      "\n",
      "Rule: If a viewer likes SmartInvestingTrends, they will also like LearnbayDataScience&AI\n",
      "Confidence: 27.27%\n",
      "Support: 9\n",
      "\n",
      "Rule: If a viewer likes LearnbayDataScience&AI, they will also like SmartInvestingTrends\n",
      "Confidence: 28.12%\n",
      "Support: 9\n",
      "\n",
      "Rule: If a viewer likes LearnbayDataScience&AI, they will also like AbhishekGupta\n",
      "Confidence: 62.5%\n",
      "Support: 20\n",
      "\n",
      "Rule: If a viewer likes AbhishekGupta, they will also like LearnbayDataScience&AI\n",
      "Confidence: 35.71%\n",
      "Support: 20\n",
      "\n",
      "Rule: If a viewer likes SmartInvestingTrends, they will also like TechnicalGuruji\n",
      "Confidence: 12.12%\n",
      "Support: 4\n",
      "\n",
      "Rule: If a viewer likes TechnicalGuruji, they will also like SmartInvestingTrends\n",
      "Confidence: 8.89%\n",
      "Support: 4\n",
      "\n"
     ]
    }
   ],
   "source": [
    "number_of_samples, number_of_features = X.shape\n",
    "\n",
    "from collections import defaultdict\n",
    "\n",
    "number_of_occurrences = defaultdict(int)\n",
    "\n",
    "times_rule_valid      = defaultdict(int)\n",
    "\n",
    "times_rule_invalid    = defaultdict(int)\n",
    "\n",
    "for viewer in X:\n",
    "    \n",
    "        for premise in range(number_of_features):\n",
    "            \n",
    "            if viewer[premise] == 0: continue\n",
    "                \n",
    "            number_of_occurrences[premise] += 1\n",
    "            \n",
    "            for conclusion in range(number_of_features):\n",
    "                \n",
    "                if premise == conclusion:\n",
    "                    continue\n",
    "                    \n",
    "                if viewer[conclusion] == 1:\n",
    "                    \n",
    "                    times_rule_valid[(premise, conclusion)] += 1\n",
    "                    \n",
    "                else:\n",
    "                    \n",
    "                    times_rule_invalid[(premise, conclusion)] += 1\n",
    "                    \n",
    "support    = times_rule_valid\n",
    "\n",
    "confidence = defaultdict(float)\n",
    "\n",
    "for premise, conclusion in times_rule_valid.keys():\n",
    "    \n",
    "    confidence[(premise, conclusion)] = times_rule_valid[(premise, conclusion)] / number_of_occurrences[premise]\n",
    "    \n",
    "for premise, conclusion in confidence:\n",
    "    \n",
    "    first_channel = features[premise]\n",
    "    \n",
    "    second_channel = features[conclusion]\n",
    "    \n",
    "    print(f'Rule: If a viewer likes {first_channel}, they will also like {second_channel}')\n",
    "    \n",
    "    print(f\"Confidence: {round(((confidence[(premise, conclusion)])*100), 2)}%\")\n",
    "    \n",
    "    print(f\"Support: {support[(premise, conclusion)]}\")\n",
    "    \n",
    "    print()\n",
    "            "
   ]
  },
  {
   "cell_type": "markdown",
   "id": "b3b84aef",
   "metadata": {},
   "source": [
    "# Determine which videos are best to recommend"
   ]
  },
  {
   "cell_type": "code",
   "execution_count": 39,
   "id": "f4a8f57b",
   "metadata": {
    "ExecuteTime": {
     "end_time": "2021-06-02T01:10:58.250340Z",
     "start_time": "2021-06-02T01:10:58.239174Z"
    }
   },
   "outputs": [
    {
     "name": "stdout",
     "output_type": "stream",
     "text": [
      "[((0, 1), 15),\n",
      " ((1, 0), 15),\n",
      " ((0, 4), 12),\n",
      " ((1, 4), 18),\n",
      " ((4, 0), 12),\n",
      " ((4, 1), 18),\n",
      " ((1, 2), 11),\n",
      " ((1, 3), 7),\n",
      " ((2, 1), 11),\n",
      " ((2, 3), 17),\n",
      " ((3, 1), 7),\n",
      " ((3, 2), 17),\n",
      " ((2, 4), 30),\n",
      " ((4, 2), 30),\n",
      " ((0, 3), 9),\n",
      " ((3, 0), 9),\n",
      " ((3, 4), 20),\n",
      " ((4, 3), 20),\n",
      " ((0, 2), 4),\n",
      " ((2, 0), 4)]\n"
     ]
    }
   ],
   "source": [
    "from pprint import pprint\n",
    "\n",
    "pprint(list(support.items()))"
   ]
  },
  {
   "cell_type": "code",
   "execution_count": 41,
   "id": "91bc748a",
   "metadata": {
    "ExecuteTime": {
     "end_time": "2021-06-02T01:17:01.141185Z",
     "start_time": "2021-06-02T01:17:01.129091Z"
    },
    "scrolled": true
   },
   "outputs": [
    {
     "name": "stdout",
     "output_type": "stream",
     "text": [
      "Rule: If a viewer liked TechnicalGuruji, they also liked AbhishekGupta\n",
      "Confidence: 66.67%\n",
      "Support: 30\n",
      "\n",
      "Rule: If a viewer liked AbhishekGupta, they also liked TechnicalGuruji\n",
      "Confidence: 53.57%\n",
      "Support: 30\n",
      "\n",
      "Rule: If a viewer liked LearnbayDataScience&AI, they also liked AbhishekGupta\n",
      "Confidence: 62.5%\n",
      "Support: 20\n",
      "\n",
      "Rule: If a viewer liked AbhishekGupta, they also liked LearnbayDataScience&AI\n",
      "Confidence: 35.71%\n",
      "Support: 20\n",
      "\n",
      "Rule: If a viewer liked TheKapilSharmaShow, they also liked AbhishekGupta\n",
      "Confidence: 43.9%\n",
      "Support: 18\n",
      "\n"
     ]
    }
   ],
   "source": [
    "from operator import itemgetter\n",
    "\n",
    "support_sorted = sorted(support.items(),\n",
    "                       key = itemgetter(1),\n",
    "                       reverse = True)\n",
    "\n",
    "def print_results(premise, conclusion, support, confidence, features):\n",
    "    \n",
    "    first_channel  = features[premise]\n",
    "    second_channel = features[conclusion]\n",
    "    \n",
    "    print(f\"Rule: If a viewer liked {first_channel}, they also liked {second_channel}\")\n",
    "    \n",
    "    print(f\"Confidence: {round(((confidence[(premise, conclusion)])*100), 2)}%\")\n",
    "    \n",
    "    print(f\"Support: {support[(premise, conclusion)]}\")\n",
    "    \n",
    "    print()\n",
    "    \n",
    "for index in range(5):\n",
    "    \n",
    "    (premise, conclusion) = support_sorted[index][0]\n",
    "    print_results(premise, conclusion, support, confidence, features)\n",
    "    \n",
    "    \n",
    "    \n",
    "    \n",
    "    \n",
    "    \n",
    "    "
   ]
  },
  {
   "cell_type": "code",
   "execution_count": 42,
   "id": "9950614d",
   "metadata": {
    "ExecuteTime": {
     "end_time": "2021-06-02T01:20:49.421557Z",
     "start_time": "2021-06-02T01:20:49.409866Z"
    }
   },
   "outputs": [
    {
     "name": "stdout",
     "output_type": "stream",
     "text": [
      "Rule: If a viewer liked TechnicalGuruji, they also liked AbhishekGupta\n",
      "Confidence: 66.67%\n",
      "Support: 30\n",
      "\n",
      "Rule: If a viewer liked LearnbayDataScience&AI, they also liked AbhishekGupta\n",
      "Confidence: 62.5%\n",
      "Support: 20\n",
      "\n",
      "Rule: If a viewer liked AbhishekGupta, they also liked TechnicalGuruji\n",
      "Confidence: 53.57%\n",
      "Support: 30\n",
      "\n",
      "Rule: If a viewer liked LearnbayDataScience&AI, they also liked TechnicalGuruji\n",
      "Confidence: 53.12%\n",
      "Support: 17\n",
      "\n",
      "Rule: If a viewer liked SmartInvestingTrends, they also liked TheKapilSharmaShow\n",
      "Confidence: 45.45%\n",
      "Support: 15\n",
      "\n"
     ]
    }
   ],
   "source": [
    "confidence_sorted = sorted(confidence.items(),\n",
    "                           key = itemgetter(1),\n",
    "                           reverse = True)\n",
    "\n",
    "for index in range(5):\n",
    "    \n",
    "    (premise,conclusion) = confidence_sorted[index][0]\n",
    "    print_results(premise, conclusion, support, confidence, features)"
   ]
  }
 ],
 "metadata": {
  "kernelspec": {
   "display_name": "Python 3",
   "language": "python",
   "name": "python3"
  },
  "language_info": {
   "codemirror_mode": {
    "name": "ipython",
    "version": 3
   },
   "file_extension": ".py",
   "mimetype": "text/x-python",
   "name": "python",
   "nbconvert_exporter": "python",
   "pygments_lexer": "ipython3",
   "version": "3.8.2"
  }
 },
 "nbformat": 4,
 "nbformat_minor": 5
}
