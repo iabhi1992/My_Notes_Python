{
 "cells": [
  {
   "cell_type": "markdown",
   "id": "654d2e7d",
   "metadata": {},
   "source": [
    "    - An iterator is an object that will allow you to iterate over a container."
   ]
  },
  {
   "cell_type": "markdown",
   "id": "dc4d3efb",
   "metadata": {},
   "source": [
    "    - The iterator in Python is implemented via two distinct methods: __iter__ and __next__."
   ]
  },
  {
   "cell_type": "markdown",
   "id": "00ccbc65",
   "metadata": {},
   "source": [
    "    - The __iter__ method is required for your container to provide iteration support. It will return the iterator object itself. "
   ]
  },
  {
   "cell_type": "markdown",
   "id": "25e3c561",
   "metadata": {},
   "source": [
    "    - But if you want to create an iterator object, then you will need to define __next__ as well, which will return the next item in the container."
   ]
  },
  {
   "cell_type": "markdown",
   "id": "c19c1538",
   "metadata": {},
   "source": [
    "##### iterable \n",
    "    - an object that has the __iter__ method defined"
   ]
  },
  {
   "cell_type": "markdown",
   "id": "b2830261",
   "metadata": {},
   "source": [
    "##### iterator \n",
    "    - an object that has both __iter__ and __next__ defined where __iter__ will return the iterator object and __next__ will return the next element in the iteration."
   ]
  },
  {
   "cell_type": "markdown",
   "id": "3bd0aef3",
   "metadata": {},
   "source": [
    "    - you should not call __iter__ or __next__ directly. "
   ]
  },
  {
   "cell_type": "markdown",
   "id": "00ad65c1",
   "metadata": {},
   "source": [
    "    - use a for loop or list comprehension"
   ]
  },
  {
   "cell_type": "markdown",
   "id": "67c0b8c0",
   "metadata": {},
   "source": [
    "    - but you can do so with Python’s built-ins: iter and next."
   ]
  },
  {
   "cell_type": "markdown",
   "id": "0b89c8c9",
   "metadata": {},
   "source": [
    "##### Sequnces"
   ]
  },
  {
   "cell_type": "markdown",
   "id": "21cbb1b1",
   "metadata": {},
   "source": [
    "    - Python 3 has several sequence types such as list, tuple and range. "
   ]
  },
  {
   "cell_type": "markdown",
   "id": "3a43edbd",
   "metadata": {},
   "source": [
    "    - The list is an iterable, but not an iterator because it does not implement __next__."
   ]
  },
  {
   "cell_type": "code",
   "execution_count": 2,
   "id": "12df4c49",
   "metadata": {
    "ExecuteTime": {
     "end_time": "2021-06-06T17:56:24.678449Z",
     "start_time": "2021-06-06T17:56:24.673479Z"
    }
   },
   "outputs": [],
   "source": [
    "my_list = [1, 2, 3]\n",
    "# next(my_list)"
   ]
  },
  {
   "cell_type": "markdown",
   "id": "9b409ed7",
   "metadata": {},
   "source": [
    "###### To turn the list into an iterator, just wrap it in a call to Python’s iter method. "
   ]
  },
  {
   "cell_type": "code",
   "execution_count": 3,
   "id": "c94c075e",
   "metadata": {
    "ExecuteTime": {
     "end_time": "2021-06-06T17:57:40.220477Z",
     "start_time": "2021-06-06T17:57:40.201006Z"
    }
   },
   "outputs": [
    {
     "name": "stdout",
     "output_type": "stream",
     "text": [
      "<list_iterator object at 0x107e12640>\n",
      "1\n",
      "2\n",
      "3\n"
     ]
    },
    {
     "ename": "StopIteration",
     "evalue": "",
     "output_type": "error",
     "traceback": [
      "\u001b[0;31m---------------------------------------------------------------------------\u001b[0m",
      "\u001b[0;31mStopIteration\u001b[0m                             Traceback (most recent call last)",
      "\u001b[0;32m<ipython-input-3-7afadd607d86>\u001b[0m in \u001b[0;36m<module>\u001b[0;34m\u001b[0m\n\u001b[1;32m     12\u001b[0m \u001b[0;34m\u001b[0m\u001b[0m\n\u001b[1;32m     13\u001b[0m \u001b[0;34m\u001b[0m\u001b[0m\n\u001b[0;32m---> 14\u001b[0;31m \u001b[0mprint\u001b[0m\u001b[0;34m(\u001b[0m\u001b[0mnext\u001b[0m\u001b[0;34m(\u001b[0m\u001b[0mlist_iterator\u001b[0m\u001b[0;34m)\u001b[0m\u001b[0;34m)\u001b[0m\u001b[0;34m\u001b[0m\u001b[0;34m\u001b[0m\u001b[0m\n\u001b[0m",
      "\u001b[0;31mStopIteration\u001b[0m: "
     ]
    }
   ],
   "source": [
    "print(iter(my_list))\n",
    "\n",
    "\n",
    "list_iterator = iter(my_list)\n",
    "print(next(list_iterator))\n",
    "\n",
    "\n",
    "print(next(list_iterator))\n",
    "\n",
    "\n",
    "print(next(list_iterator))\n",
    "\n",
    "\n",
    "print(next(list_iterator))"
   ]
  },
  {
   "cell_type": "markdown",
   "id": "05b3d507",
   "metadata": {},
   "source": [
    "    - When you use a loop to iterate over the iterator, you don’t need to call next and you also don’t have to worry about the StopIteration exception being raised."
   ]
  },
  {
   "cell_type": "code",
   "execution_count": 4,
   "id": "a36ee93e",
   "metadata": {
    "ExecuteTime": {
     "end_time": "2021-06-06T17:58:15.481680Z",
     "start_time": "2021-06-06T17:58:15.472689Z"
    }
   },
   "outputs": [
    {
     "name": "stdout",
     "output_type": "stream",
     "text": [
      "1\n",
      "2\n",
      "3\n"
     ]
    }
   ],
   "source": [
    "for item in iter(my_list):\n",
    "    print(item)"
   ]
  },
  {
   "cell_type": "markdown",
   "id": "b597dd82",
   "metadata": {},
   "source": [
    "# Implementing your own iterator"
   ]
  },
  {
   "cell_type": "code",
   "execution_count": 6,
   "id": "7ce1de1e",
   "metadata": {
    "ExecuteTime": {
     "end_time": "2021-06-06T18:05:09.851577Z",
     "start_time": "2021-06-06T18:05:09.841211Z"
    }
   },
   "outputs": [
    {
     "name": "stdout",
     "output_type": "stream",
     "text": [
      "a\n",
      "b\n",
      "c\n",
      "d\n"
     ]
    }
   ],
   "source": [
    "class MyIterator:\n",
    "\n",
    "    def __init__(self, letters):\n",
    "        \"\"\"\n",
    "        Constructor\n",
    "        \"\"\"\n",
    "        self.letters = letters\n",
    "        self.position = 0\n",
    "\n",
    "    def __iter__(self):\n",
    "        \"\"\"\n",
    "        Returns itself as an iterator\n",
    "        \"\"\"\n",
    "        return self\n",
    "\n",
    "    def __next__(self):\n",
    "        \"\"\"\n",
    "        Returns the next letter in the sequence or \n",
    "        raises StopIteration\n",
    "        \"\"\"\n",
    "        if self.position >= len(self.letters):\n",
    "            raise StopIteration\n",
    "        letter = self.letters[self.position]\n",
    "        self.position += 1\n",
    "        return letter\n",
    "\n",
    "if __name__ == '__main__':\n",
    "    i = MyIterator('abcd')\n",
    "    for item in i:\n",
    "        print(item)"
   ]
  },
  {
   "cell_type": "markdown",
   "id": "1eb7cef4",
   "metadata": {},
   "source": [
    "### create an infinite iterator. "
   ]
  },
  {
   "cell_type": "code",
   "execution_count": 13,
   "id": "c2d01c2f",
   "metadata": {
    "ExecuteTime": {
     "end_time": "2021-06-06T18:14:34.450145Z",
     "start_time": "2021-06-06T18:14:34.439556Z"
    }
   },
   "outputs": [
    {
     "name": "stdout",
     "output_type": "stream",
     "text": [
      "1\n",
      "4\n",
      "9\n",
      "16\n",
      "25\n",
      "36\n",
      "49\n"
     ]
    }
   ],
   "source": [
    "class Doubler:\n",
    "    \"\"\"\n",
    "    An infinite iterator\n",
    "    \"\"\"\n",
    "\n",
    "    def __init__(self):\n",
    "        \"\"\"\n",
    "        Constructor\n",
    "        \"\"\"\n",
    "        self.number = 0\n",
    "\n",
    "    def __iter__(self):\n",
    "        \"\"\"\n",
    "        Returns itself as an iterator\n",
    "        \"\"\"\n",
    "        return self\n",
    "\n",
    "    def __next__(self):\n",
    "        \"\"\"\n",
    "        Doubles the number each time next is called\n",
    "        and returns it. \n",
    "        \"\"\"\n",
    "        self.number += 1\n",
    "        return self.number * self.number\n",
    "\n",
    "if __name__ == '__main__':\n",
    "    doubler = Doubler()\n",
    "    count = 0\n",
    "\n",
    "    for number in doubler:\n",
    "        print(number)\n",
    "        if count > 5:\n",
    "            break\n",
    "        count += 1\n",
    "        \n"
   ]
  },
  {
   "cell_type": "markdown",
   "id": "80f60c36",
   "metadata": {},
   "source": [
    "# Generators"
   ]
  },
  {
   "cell_type": "markdown",
   "id": "5c61e2d4",
   "metadata": {},
   "source": [
    "    - A normal Python function will always return one value, whether it be a list, an integer or some other object."
   ]
  },
  {
   "cell_type": "markdown",
   "id": "c47baae3",
   "metadata": {},
   "source": [
    "     - But what if you wanted to be able to call a function and have it yield a series of values? That is where generators come in. "
   ]
  },
  {
   "cell_type": "markdown",
   "id": "a98f2c94",
   "metadata": {},
   "source": [
    "     - A generator works by “saving” where it last left off (or yielding) and giving the calling function a value."
   ]
  },
  {
   "cell_type": "markdown",
   "id": "e4ffbfa7",
   "metadata": {},
   "source": [
    "     - So instead of returning the execution to the caller, it just gives temporary control back. "
   ]
  },
  {
   "cell_type": "markdown",
   "id": "67286b78",
   "metadata": {},
   "source": [
    "     - To do this magic, a generator function requires Python’s yield statement."
   ]
  },
  {
   "cell_type": "markdown",
   "id": "884f118d",
   "metadata": {},
   "source": [
    "#### Side-note: In other languages, a generator might be called a coroutine.*"
   ]
  },
  {
   "cell_type": "code",
   "execution_count": 17,
   "id": "4d23911d",
   "metadata": {
    "ExecuteTime": {
     "end_time": "2021-06-06T18:49:28.570710Z",
     "start_time": "2021-06-06T18:49:28.559793Z"
    }
   },
   "outputs": [
    {
     "name": "stdout",
     "output_type": "stream",
     "text": [
      "2\n",
      "4\n",
      "16\n",
      "<class 'generator'>\n"
     ]
    }
   ],
   "source": [
    "def my_generator():\n",
    "    number = 2\n",
    "    while True:\n",
    "        yield number\n",
    "        number *= number\n",
    "\n",
    "gen = my_generator()\n",
    "print (next(gen))\n",
    "\n",
    "\n",
    "print (next(gen))\n",
    "\n",
    "\n",
    "print (next(gen))\n",
    "\n",
    "\n",
    "print (type(gen))"
   ]
  },
  {
   "cell_type": "markdown",
   "id": "6d2b35c5",
   "metadata": {},
   "source": [
    "    - This particular generator will basically create an infinite sequence. "
   ]
  },
  {
   "cell_type": "markdown",
   "id": "5774bb44",
   "metadata": {
    "ExecuteTime": {
     "end_time": "2021-06-06T18:47:19.038706Z",
     "start_time": "2021-06-06T18:47:19.030162Z"
    }
   },
   "source": [
    "    - You can call next on it all day long and it will never run out of values to yield."
   ]
  },
  {
   "cell_type": "markdown",
   "id": "fd556cf5",
   "metadata": {},
   "source": [
    "    - Because you can iterate over a generator, a generator is considered to be a type of iterator, but no one really refers to them as such. "
   ]
  },
  {
   "cell_type": "code",
   "execution_count": 18,
   "id": "ac024494",
   "metadata": {
    "ExecuteTime": {
     "end_time": "2021-06-06T18:49:31.779819Z",
     "start_time": "2021-06-06T18:49:31.763637Z"
    }
   },
   "outputs": [
    {
     "name": "stdout",
     "output_type": "stream",
     "text": [
      "10\n",
      "10.2\n",
      "Python\n"
     ]
    },
    {
     "ename": "StopIteration",
     "evalue": "",
     "output_type": "error",
     "traceback": [
      "\u001b[0;31m---------------------------------------------------------------------------\u001b[0m",
      "\u001b[0;31mStopIteration\u001b[0m                             Traceback (most recent call last)",
      "\u001b[0;32m<ipython-input-18-8ce38052c13b>\u001b[0m in \u001b[0;36m<module>\u001b[0;34m\u001b[0m\n\u001b[1;32m     13\u001b[0m \u001b[0;34m\u001b[0m\u001b[0m\n\u001b[1;32m     14\u001b[0m \u001b[0;34m\u001b[0m\u001b[0m\n\u001b[0;32m---> 15\u001b[0;31m \u001b[0mprint\u001b[0m \u001b[0;34m(\u001b[0m\u001b[0mnext\u001b[0m\u001b[0;34m(\u001b[0m\u001b[0mgen\u001b[0m\u001b[0;34m)\u001b[0m\u001b[0;34m)\u001b[0m\u001b[0;34m\u001b[0m\u001b[0;34m\u001b[0m\u001b[0m\n\u001b[0m",
      "\u001b[0;31mStopIteration\u001b[0m: "
     ]
    }
   ],
   "source": [
    "def my_generator():\n",
    "    yield 10\n",
    "    yield 10.20\n",
    "    yield \"Python\"\n",
    "gen = my_generator()\n",
    "print (next(gen))\n",
    "\n",
    "\n",
    "print (next(gen))\n",
    "\n",
    "\n",
    "print (next(gen))\n",
    "\n",
    "\n",
    "print (next(gen))"
   ]
  },
  {
   "cell_type": "markdown",
   "id": "e96d037f",
   "metadata": {},
   "source": [
    "    - Here we have a generator that uses the yield statement 3 times. "
   ]
  },
  {
   "cell_type": "markdown",
   "id": "ec70b798",
   "metadata": {},
   "source": [
    "    - You can think of yield as the return statement for a generator. "
   ]
  },
  {
   "cell_type": "markdown",
   "id": "b928eca3",
   "metadata": {},
   "source": [
    "    - Whenever you call yield, the function stops and saves its state. Then it yields the value out, which is why you see something getting printed out to the terminal"
   ]
  },
  {
   "cell_type": "markdown",
   "id": "a2726d07",
   "metadata": {},
   "source": [
    "# Use of Generators"
   ]
  },
  {
   "cell_type": "markdown",
   "id": "d51d5933",
   "metadata": {},
   "source": [
    "    - Python basically turns the file object into a generator when we iterate over it in this manner. This allows us to process files that are too large to load into memory."
   ]
  },
  {
   "cell_type": "code",
   "execution_count": null,
   "id": "f437a329",
   "metadata": {},
   "outputs": [],
   "source": [
    "with open('file.txt') as fobj:\n",
    "    for line in fobj:\n",
    "        #process the line"
   ]
  },
  {
   "cell_type": "markdown",
   "id": "3b474876",
   "metadata": {},
   "source": [
    "    - You will find generators useful for any large data set that you need to work with in chunks or when you need to generate a large data set that would otherwise fill up your all your computer’s memory."
   ]
  },
  {
   "cell_type": "markdown",
   "id": "13a3a7eb",
   "metadata": {},
   "source": [
    "    - a generator is great for memory efficient data processing. I"
   ]
  },
  {
   "cell_type": "markdown",
   "id": "10f62034",
   "metadata": {},
   "source": [
    "##### Itertools\n",
    "    - provides a great module for creating your own iterators."
   ]
  },
  {
   "cell_type": "markdown",
   "id": "93179abb",
   "metadata": {},
   "source": [
    "    - The tools provided by itertools are fast and memory efficient. "
   ]
  },
  {
   "cell_type": "markdown",
   "id": "8d85614a",
   "metadata": {
    "ExecuteTime": {
     "end_time": "2021-06-07T01:37:08.738747Z",
     "start_time": "2021-06-07T01:37:08.726200Z"
    }
   },
   "source": [
    "    - to create your own specialized iterators that can be used for efficient looping. "
   ]
  },
  {
   "cell_type": "markdown",
   "id": "b43bddee",
   "metadata": {},
   "source": [
    "##### The infinite iterators\n",
    "    - The itertools package comes with three iterators that can iterate infinitely.\n",
    "    "
   ]
  },
  {
   "cell_type": "markdown",
   "id": "46b5d0de",
   "metadata": {
    "ExecuteTime": {
     "end_time": "2021-06-07T01:38:55.452843Z",
     "start_time": "2021-06-07T01:38:55.443688Z"
    }
   },
   "source": [
    "    - What this means is that when you use them, you need to understand that you will need to break out of these iterators eventually or you’ll have an infinite loop."
   ]
  },
  {
   "cell_type": "markdown",
   "id": "40026562",
   "metadata": {},
   "source": [
    "    - These can be useful for generating numbers or cycling over iterables of unknown length"
   ]
  },
  {
   "cell_type": "markdown",
   "id": "dca2f146",
   "metadata": {},
   "source": [
    "##### count(start = 0, step = 1)\n",
    "    - The count iterator will return evenly spaced values starting with the number you pass in as its start parameter."
   ]
  },
  {
   "cell_type": "code",
   "execution_count": 3,
   "id": "81925122",
   "metadata": {
    "ExecuteTime": {
     "end_time": "2021-06-07T01:42:02.895579Z",
     "start_time": "2021-06-07T01:42:02.884637Z"
    }
   },
   "outputs": [
    {
     "name": "stdout",
     "output_type": "stream",
     "text": [
      "10\n",
      "11\n",
      "12\n",
      "13\n",
      "14\n",
      "15\n",
      "16\n",
      "17\n",
      "18\n",
      "19\n",
      "20\n"
     ]
    }
   ],
   "source": [
    "from itertools import count\n",
    "for i in count(10):\n",
    "    if i > 20: \n",
    "        break\n",
    "    else:\n",
    "        print(i)"
   ]
  },
  {
   "cell_type": "markdown",
   "id": "32ec1b6d",
   "metadata": {},
   "source": [
    "    - Another way to limit the output of this infinite iterator is to use another sub-module from itertools, namely islice"
   ]
  },
  {
   "cell_type": "code",
   "execution_count": 4,
   "id": "4c9fa430",
   "metadata": {
    "ExecuteTime": {
     "end_time": "2021-06-07T01:43:08.719774Z",
     "start_time": "2021-06-07T01:43:08.703679Z"
    }
   },
   "outputs": [
    {
     "name": "stdout",
     "output_type": "stream",
     "text": [
      "10\n",
      "11\n",
      "12\n",
      "13\n",
      "14\n"
     ]
    }
   ],
   "source": [
    "from itertools import count\n",
    "from itertools import islice\n",
    "for i in islice(count(10), 5):\n",
    "    print(i)"
   ]
  },
  {
   "cell_type": "markdown",
   "id": "1bc009ec",
   "metadata": {},
   "source": [
    "    - it means “stop when we’ve reached five iterations”."
   ]
  },
  {
   "cell_type": "code",
   "execution_count": null,
   "id": "6bb2d697",
   "metadata": {},
   "outputs": [],
   "source": []
  },
  {
   "cell_type": "code",
   "execution_count": null,
   "id": "7b0f5469",
   "metadata": {},
   "outputs": [],
   "source": []
  },
  {
   "cell_type": "code",
   "execution_count": null,
   "id": "ca6208a3",
   "metadata": {},
   "outputs": [],
   "source": []
  },
  {
   "cell_type": "code",
   "execution_count": null,
   "id": "16a213e9",
   "metadata": {},
   "outputs": [],
   "source": []
  },
  {
   "cell_type": "code",
   "execution_count": null,
   "id": "20a85f7b",
   "metadata": {},
   "outputs": [],
   "source": []
  }
 ],
 "metadata": {
  "kernelspec": {
   "display_name": "Python 3",
   "language": "python",
   "name": "python3"
  },
  "language_info": {
   "codemirror_mode": {
    "name": "ipython",
    "version": 3
   },
   "file_extension": ".py",
   "mimetype": "text/x-python",
   "name": "python",
   "nbconvert_exporter": "python",
   "pygments_lexer": "ipython3",
   "version": "3.8.2"
  }
 },
 "nbformat": 4,
 "nbformat_minor": 5
}
