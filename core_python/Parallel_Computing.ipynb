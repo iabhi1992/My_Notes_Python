{
 "cells": [
  {
   "cell_type": "code",
   "execution_count": null,
   "id": "800996d8",
   "metadata": {},
   "outputs": [],
   "source": [
    "# Parallel Computing is the science of using multiple processing units to solve your problems faster.\n",
    "# It os also used to improve the resposiveness of your program.\n",
    "\n",
    "# This applies in real life as well. Let's say yoou have a project coming up and you invite few of your friends\n",
    "# to help you out and you finish the project in half time becaue you have more helping hands to work on the project.\n",
    "\n",
    "# Now, in Computer programming, These extra friends or extra processing units are processes and threads and we use\n",
    "# these two tools to improve the speed of our program or responsiveness.\n",
    "\n",
    "\n"
   ]
  }
 ],
 "metadata": {
  "kernelspec": {
   "display_name": "Python 3",
   "language": "python",
   "name": "python3"
  },
  "language_info": {
   "codemirror_mode": {
    "name": "ipython",
    "version": 3
   },
   "file_extension": ".py",
   "mimetype": "text/x-python",
   "name": "python",
   "nbconvert_exporter": "python",
   "pygments_lexer": "ipython3",
   "version": "3.8.2"
  }
 },
 "nbformat": 4,
 "nbformat_minor": 5
}
