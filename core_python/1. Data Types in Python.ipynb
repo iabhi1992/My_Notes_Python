{
 "cells": [
  {
   "cell_type": "markdown",
   "metadata": {},
   "source": [
    "<pre>\n",
    "<a href = 'https://i.imgur.com/8txqEDk.png'>\n",
    "<img src='https://i.imgur.com/8txqEDk.png', width=300>\n",
    "</a>\n",
    "</pre>"
   ]
  },
  {
   "cell_type": "markdown",
   "metadata": {},
   "source": [
    "# Python Data types can be divided in two broad categories:-\n",
    "    1. Fundamental Data types\n",
    "        a. Integers\n",
    "        b. Floats\n",
    "        c. Complex\n",
    "        d. Boolean\n",
    "        e. Strings\n",
    "    2. Derived Data Types\n",
    "        a. List\n",
    "        b. Tuple\n",
    "        c. Set\n",
    "        d. Frozen Set\n",
    "        e. Dictionary\n",
    "        f. Bytes\n",
    "        g. Byte Array"
   ]
  },
  {
   "cell_type": "markdown",
   "metadata": {},
   "source": [
    "# Integers\n",
    "    1. Any number without decimal point is called Integers. e.g. 10, 0, -10\n",
    "    2. There is no concept of size in Python.\n",
    "    3. The only integer type we have in Python is int. (no concept of Long and short)\n",
    "    4. Since there is no concept of size in Python, so we can take an integer value of any size.\n",
    "    5. Each integer value in python belong to int class or we can say that each integer value is an instance \n",
    "    of int class.\n",
    "    6. There is no fixed size for int in python, but there is number (9223372036854775807) which we can get by \n",
    "    sys.maxsize.\n",
    "    7. This number represents the maximum number of elements a collection can hold.\n"
   ]
  },
  {
   "cell_type": "code",
   "execution_count": null,
   "metadata": {
    "ExecuteTime": {
     "end_time": "2021-05-23T19:31:33.176463Z",
     "start_time": "2021-05-23T19:31:33.168245Z"
    }
   },
   "outputs": [],
   "source": [
    "a = 10\n",
    "b = -10\n",
    "c = 0\n",
    "print(a, type(a))\n",
    "print(b, type(b))\n",
    "print(c, type(c))\n",
    "\n",
    "# To take help on int class\n",
    "# print(help(int))\n",
    "\n",
    "# To get the list of methods available on int class\n",
    "# print(dir(int))\n",
    "\n",
    "import sys\n",
    "print(sys.maxsize)"
   ]
  },
  {
   "cell_type": "markdown",
   "metadata": {
    "ExecuteTime": {
     "end_time": "2021-05-23T18:16:26.782899Z",
     "start_time": "2021-05-23T18:16:26.773939Z"
    }
   },
   "source": [
    "# Representation of integers in different format\n",
    "    1. Integers can be represented in decimal, binary, octal or Hexadecimal format.\n",
    "    2. Decimal - Allowed digits are 0-9, It need not be preceded by anything\n",
    "    3. Binary - Allowed digits are 0 and 1, It need to be preceded by 0b or 0B, Function to convert to binary is \n",
    "    bin().\n",
    "    4. Octal - Allowed digits are 0-7, It need to be preceded by 0o or 0O, Function to convert to octal is oct().\n",
    "    5. Hexadecimal - Allowed digits are 0-9 and a/A-f/F, It need to be preceded by 0x or 0X, Function to convert \n",
    "    to octal is hex().\n",
    "    6. Remember, it is just a representation, There is no data type called, binary, octal or hexadecimal.\n",
    "    7. bin(), oct(), hex() - functions returns string type.\n",
    "    \n",
    "    "
   ]
  },
  {
   "cell_type": "code",
   "execution_count": null,
   "metadata": {
    "ExecuteTime": {
     "end_time": "2021-05-23T18:26:47.737574Z",
     "start_time": "2021-05-23T18:26:47.723730Z"
    }
   },
   "outputs": [],
   "source": [
    "# Decimal Representation\n",
    "num_dec = 98\n",
    "print(a, type(a))\n",
    "\n",
    "# Decimal to Binary Representation\n",
    "num_bin = bin(num_dec)\n",
    "print(num_bin, type(num_bin))\n",
    "\n",
    "# Decimal to Octal Representation\n",
    "num_oct = oct(num_dec)\n",
    "print(num_oct, type(num_oct))\n",
    "\n",
    "# Decimal to Hexadecimal Representation\n",
    "num_hex = hex(num_dec)\n",
    "print(num_hex, type(num_hex))\n",
    "\n",
    "# Binary to Decimal representation\n",
    "num_bin = 0b1100010\n",
    "print(num_bin, type(num_bin))\n",
    "\n",
    "# Octal to Decimal representation\n",
    "num_oct = 0o7654\n",
    "print(num_oct, type(num_oct))\n",
    "\n",
    "# Hexadecimal to Decimal representation\n",
    "num_hex = 0xfc98\n",
    "print(num_hex, type(num_hex))\n"
   ]
  },
  {
   "cell_type": "markdown",
   "metadata": {},
   "source": [
    "# Object Reusability in Python for integers\n",
    "    1. Python implementations do integer caching, due to which it front loads an array of integers from -5 to \n",
    "    256.\n",
    "    2. Any variable referring to any object in this range would be reusing the object and points to the existing \n",
    "    object rather then creating a new opbject.\n",
    "    3. Objects outside this range in integere would not follow the object reusability.\n",
    "    4. Python maintains an internal counter for each object which keeps track of count of refernces created for \n",
    "    each object. As soon as it reaches for any object, that object gets garbage collected by garbage collector.\n",
    "    \n",
    "<p><a href=\"https://medium.com/@tyastropheus/tricky-python-i-memory-management-for-mutable-immutable-objects-21507d1e5b95\"><strong>Click here to read</strong></a>.</p>\n",
    "    "
   ]
  },
  {
   "cell_type": "code",
   "execution_count": null,
   "metadata": {
    "ExecuteTime": {
     "end_time": "2021-05-23T18:40:23.292838Z",
     "start_time": "2021-05-23T18:40:23.279279Z"
    }
   },
   "outputs": [],
   "source": [
    "import sys\n",
    "print(sys.getrefcount(10))\n",
    "\n",
    "a = 10\n",
    "b = 10\n",
    "print(sys.getrefcount(10))"
   ]
  },
  {
   "cell_type": "code",
   "execution_count": null,
   "metadata": {
    "ExecuteTime": {
     "end_time": "2021-05-23T18:41:40.001277Z",
     "start_time": "2021-05-23T18:41:39.986196Z"
    }
   },
   "outputs": [],
   "source": [
    "# We can also use id() or \"is\" operator to cross check the same\n",
    "print(id(a))\n",
    "print(id(b))\n",
    "\n",
    "print(a is b)"
   ]
  },
  {
   "cell_type": "markdown",
   "metadata": {
    "ExecuteTime": {
     "end_time": "2021-05-23T18:58:47.999076Z",
     "start_time": "2021-05-23T18:58:47.988773Z"
    }
   },
   "source": [
    "# int() function in Python\n",
    "    1. int() - without any argument, returns 0.\n",
    "    2. int('arg', base) - with two arg, converts the arg to decimal type. Base of arg and base should be same.\n",
    "        For Binary base is 2\n",
    "        For Octal base is 8\n",
    "        For Hexadecimal base is 16\n",
    "    3. int(arg) - with one arg, converts arg to int type, if arg is accepted else return either TypeError or \n",
    "    ValueError.\n",
    "    \n",
    "<p><ol><li><a href=\"https://www.codesdope.com/blog/article/int-in-python/\"><strong>Click here to read</strong></a>.</li>\n",
    "<li><a href=\"https://www.hellocodeclub.com/python-int-function-ultimate-guide/\"><strong>Click here to read</strong></a>.</li>\n",
    "</ol></p>\n"
   ]
  },
  {
   "cell_type": "code",
   "execution_count": null,
   "metadata": {
    "ExecuteTime": {
     "end_time": "2021-05-23T19:26:34.491145Z",
     "start_time": "2021-05-23T19:26:34.481400Z"
    }
   },
   "outputs": [],
   "source": [
    "# without any argument\n",
    "print(int())\n",
    "\n",
    "# with 2 arguments, Binary to decimal\n",
    "print(int('0b10101', 2))\n",
    "\n",
    "# with 2 arguments, Octal to decimal\n",
    "print(int('0o7654', 8))\n",
    "\n",
    "# with 2 arguments, Hexadecimal to decimal\n",
    "print(int('0xfc98', 16))\n",
    "\n",
    "# with 2 arguments, If you try to take first value as float and try to conevrt it to integer with base as 16 gives Type Error\n",
    "# print(int(20.30, 16))\n",
    "\n",
    "# with one arguments, Below values are accepted.\n",
    "print(int(10))\n",
    "print(int('10'))\n",
    "print(int(10.20))         # It rounds of to whole part toward zero\n",
    "print(int(True))\n",
    "print(int(0b10101))\n",
    "print(int(0o7654))\n",
    "print(int(0xfc98))\n",
    "\n",
    "# Below values gives error\n",
    "# print(int('10.20'))    # ValueError\n",
    "# print(int(10+20j))     # TypeError\n",
    "# print(int('A'))        # ValueError\n",
    "# print(int('True'))     # ValueError\n",
    "# print(int('0b1001'))   # ValueError\n",
    "\n"
   ]
  },
  {
   "cell_type": "code",
   "execution_count": null,
   "metadata": {
    "ExecuteTime": {
     "end_time": "2021-05-23T19:35:41.425970Z",
     "start_time": "2021-05-23T19:35:37.134579Z"
    }
   },
   "outputs": [],
   "source": [
    "# Floats\n",
    "    1. Any number with decimal point is called Floats. e.g. 10.20, 0.20, -10.30\n",
    "    2. There is no concept of size in Python.\n",
    "    3. The only float type we have in Python is float. (no concept of double)\n",
    "    4. Since there is no concept of size in Python, so we can take an Float value of any size.\n",
    "    5. Each float value in python belong to float class or we can say that each float value is an instance \n",
    "    of float class.\n",
    "    6. Floats can be represented in decimal format only.\n",
    "    7. "
   ]
  },
  {
   "cell_type": "code",
   "execution_count": 1,
   "metadata": {
    "ExecuteTime": {
     "end_time": "2021-05-24T17:43:08.428746Z",
     "start_time": "2021-05-24T17:43:08.419654Z"
    }
   },
   "outputs": [
    {
     "name": "stdout",
     "output_type": "stream",
     "text": [
      "['In', 'NamespaceMagics', 'Out', '_', '_2to3_refactor_cell', '_2to3_refactoring_tool', '_Jupyter', '__', '___', '__builtin__', '__builtins__', '__doc__', '__loader__', '__name__', '__package__', '__spec__', '_dh', '_getshapeof', '_getsizeof', '_i', '_i1', '_ih', '_ii', '_iii', '_nms', '_oh', 'exit', 'get_ipython', 'getsizeof', 'json', 'lib2to3', 'np', 'quit', 'var_dic_list']\n",
      "403\n",
      "405\n"
     ]
    }
   ],
   "source": [
    "print(dir())\n",
    "from sys import getrefcount\n",
    "print(getrefcount(10))\n",
    "a = 10\n",
    "b = 10\n",
    "print(getrefcount(10))"
   ]
  },
  {
   "cell_type": "code",
   "execution_count": 1,
   "metadata": {
    "ExecuteTime": {
     "end_time": "2021-05-24T17:43:19.550748Z",
     "start_time": "2021-05-24T17:43:19.541407Z"
    }
   },
   "outputs": [
    {
     "name": "stdout",
     "output_type": "stream",
     "text": [
      "['In', 'NamespaceMagics', 'Out', '_', '_2to3_refactor_cell', '_2to3_refactoring_tool', '_Jupyter', '__', '___', '__builtin__', '__builtins__', '__doc__', '__loader__', '__name__', '__package__', '__spec__', '_dh', '_getshapeof', '_getsizeof', '_i', '_i1', '_ih', '_ii', '_iii', '_nms', '_oh', 'exit', 'get_ipython', 'getsizeof', 'json', 'lib2to3', 'np', 'quit', 'var_dic_list']\n",
      "403\n",
      "405\n"
     ]
    }
   ],
   "source": [
    "print(dir())\n",
    "from sys import getrefcount\n",
    "print(getrefcount(10))\n",
    "a = 10\n",
    "b = 10\n",
    "print(getrefcount(10))"
   ]
  },
  {
   "cell_type": "code",
   "execution_count": 2,
   "metadata": {
    "ExecuteTime": {
     "end_time": "2021-05-25T00:17:31.721283Z",
     "start_time": "2021-05-25T00:17:31.708776Z"
    }
   },
   "outputs": [
    {
     "name": "stdout",
     "output_type": "stream",
     "text": [
      "['In', 'NamespaceMagics', 'Out', '_', '_Jupyter', '__', '___', '__builtin__', '__builtins__', '__doc__', '__loader__', '__name__', '__package__', '__spec__', '_dh', '_getshapeof', '_getsizeof', '_i', '_i1', '_i2', '_ih', '_ii', '_iii', '_nms', '_oh', 'a', 'b', 'exit', 'get_ipython', 'getrefcount', 'getsizeof', 'json', 'np', 'quit', 'var_dic_list']\n",
      "175\n",
      "175\n"
     ]
    }
   ],
   "source": [
    "print(dir())\n",
    "from sys import getrefcount\n",
    "print(getrefcount(10))\n",
    "a = 10\n",
    "b = 10\n",
    "print(getrefcount(10))"
   ]
  },
  {
   "cell_type": "code",
   "execution_count": null,
   "metadata": {},
   "outputs": [],
   "source": []
  },
  {
   "cell_type": "code",
   "execution_count": null,
   "metadata": {},
   "outputs": [],
   "source": []
  },
  {
   "cell_type": "code",
   "execution_count": null,
   "metadata": {},
   "outputs": [],
   "source": []
  },
  {
   "cell_type": "code",
   "execution_count": null,
   "metadata": {},
   "outputs": [],
   "source": []
  }
 ],
 "metadata": {
  "kernelspec": {
   "display_name": "Python 3",
   "language": "python",
   "name": "python3"
  },
  "language_info": {
   "codemirror_mode": {
    "name": "ipython",
    "version": 3
   },
   "file_extension": ".py",
   "mimetype": "text/x-python",
   "name": "python",
   "nbconvert_exporter": "python",
   "pygments_lexer": "ipython3",
   "version": "3.8.2"
  },
  "latex_envs": {
   "LaTeX_envs_menu_present": true,
   "autoclose": false,
   "autocomplete": true,
   "bibliofile": "biblio.bib",
   "cite_by": "apalike",
   "current_citInitial": 1,
   "eqLabelWithNumbers": true,
   "eqNumInitial": 1,
   "hotkeys": {
    "equation": "Ctrl-E",
    "itemize": "Ctrl-I"
   },
   "labels_anchors": false,
   "latex_user_defs": false,
   "report_style_numbering": false,
   "user_envs_cfg": false
  },
  "varInspector": {
   "cols": {
    "lenName": 16,
    "lenType": 16,
    "lenVar": 40
   },
   "kernels_config": {
    "python": {
     "delete_cmd_postfix": "",
     "delete_cmd_prefix": "del ",
     "library": "var_list.py",
     "varRefreshCmd": "print(var_dic_list())"
    },
    "r": {
     "delete_cmd_postfix": ") ",
     "delete_cmd_prefix": "rm(",
     "library": "var_list.r",
     "varRefreshCmd": "cat(var_dic_list()) "
    }
   },
   "types_to_exclude": [
    "module",
    "function",
    "builtin_function_or_method",
    "instance",
    "_Feature"
   ],
   "window_display": false
  }
 },
 "nbformat": 4,
 "nbformat_minor": 2
}
