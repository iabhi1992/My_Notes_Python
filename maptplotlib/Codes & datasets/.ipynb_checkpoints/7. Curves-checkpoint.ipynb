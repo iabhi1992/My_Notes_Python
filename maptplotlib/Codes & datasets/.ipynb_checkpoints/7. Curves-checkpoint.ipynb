{
 "cells": [
  {
   "cell_type": "code",
   "execution_count": 2,
   "metadata": {},
   "outputs": [
    {
     "data": {
      "text/plain": [
       "True"
      ]
     },
     "execution_count": 2,
     "metadata": {},
     "output_type": "execute_result"
    }
   ],
   "source": [
    "import matplotlib\n",
    "import matplotlib.pyplot as plt\n",
    "import matplotlib.patches as patches\n",
    "from matplotlib.path import Path\n",
    "\n",
    "matplotlib.interactive(True)\n",
    "plt.ion()\n",
    "matplotlib.is_interactive()"
   ]
  },
  {
   "cell_type": "markdown",
   "metadata": {},
   "source": [
    "* moveto will make to move from one point to another\n",
    "* lineto will draw line according to moveto points"
   ]
  },
  {
   "cell_type": "code",
   "execution_count": 3,
   "metadata": {},
   "outputs": [
    {
     "data": {
      "image/png": "[encoded data removed]",
      "text/plain": [
       "<Figure size 432x288 with 1 Axes>"
      ]
     },
     "metadata": {},
     "output_type": "display_data"
    }
   ],
   "source": [
    "fig, ax = plt.subplots()\n",
    "\n",
    "p = patches.PathPatch(Path([(0.1, 0.8), (0.8, 0.8),\n",
    "                            (0.8, 0.1)\n",
    "                            ],\n",
    "                            [Path.MOVETO, Path.LINETO, \n",
    "                             Path.LINETO, \n",
    "                             ]),\n",
    "                            fill=None)\n",
    "\n",
    "ax.add_patch(p)\n",
    "\n",
    "plt.show()"
   ]
  },
  {
   "cell_type": "code",
   "execution_count": 4,
   "metadata": {
    "scrolled": true
   },
   "outputs": [
    {
     "data": {
      "image/png": "[encoded data removed]",
      "text/plain": [
       "<Figure size 432x288 with 1 Axes>"
      ]
     },
     "metadata": {},
     "output_type": "display_data"
    }
   ],
   "source": [
    "fig, ax = plt.subplots()\n",
    "\n",
    "p = patches.PathPatch(Path([(0.1, 0.8), (0.8, 0.8),\n",
    "                            (0.8, 0.1), (0.1, 0.2),\n",
    "                            (0.1, 0.6)],\n",
    "                            [Path.MOVETO, Path.LINETO, \n",
    "                             Path.LINETO, Path.LINETO,\n",
    "                             Path.LINETO]),\n",
    "                            fill=None)\n",
    "\n",
    "ax.add_patch(p)\n",
    "\n",
    "plt.show()"
   ]
  },
  {
   "cell_type": "markdown",
   "metadata": {},
   "source": [
    "* Closing polygon using CLOSEPOLY code"
   ]
  },
  {
   "cell_type": "code",
   "execution_count": 5,
   "metadata": {},
   "outputs": [
    {
     "data": {
      "image/png": "[encoded data removed]",
      "text/plain": [
       "<Figure size 432x288 with 1 Axes>"
      ]
     },
     "metadata": {},
     "output_type": "display_data"
    }
   ],
   "source": [
    "fig, ax = plt.subplots()\n",
    "\n",
    "p = patches.PathPatch(Path([(0.1, 0.8), (0.8, 0.8),\n",
    "                            (0.8, 0.1), (0.1, 0.2),\n",
    "                            (0.1, 0.6)],\n",
    "                            [Path.MOVETO, Path.LINETO, \n",
    "                             Path.LINETO, Path.LINETO,\n",
    "                             Path.CLOSEPOLY]),\n",
    "                            fill=None)\n",
    "\n",
    "ax.add_patch(p)\n",
    "\n",
    "plt.show()"
   ]
  },
  {
   "cell_type": "markdown",
   "metadata": {},
   "source": [
    "* Changing the last line value to draw a perfect rectangle"
   ]
  },
  {
   "cell_type": "code",
   "execution_count": 6,
   "metadata": {},
   "outputs": [
    {
     "data": {
      "image/png": "[encoded data removed]",
      "text/plain": [
       "<Figure size 432x288 with 1 Axes>"
      ]
     },
     "metadata": {},
     "output_type": "display_data"
    }
   ],
   "source": [
    "fig, ax = plt.subplots()\n",
    "\n",
    "p = patches.PathPatch(Path([(0.1, 0.8), (0.8, 0.8),\n",
    "                            (0.8, 0.1), (0.1, 0.1),\n",
    "                            (0.1, 0.8)],\n",
    "                            [Path.MOVETO, Path.LINETO, \n",
    "                             Path.LINETO, Path.LINETO,\n",
    "                             Path.CLOSEPOLY]),\n",
    "                            fill=None)\n",
    "\n",
    "ax.add_patch(p)\n",
    "\n",
    "plt.show()"
   ]
  },
  {
   "cell_type": "markdown",
   "metadata": {},
   "source": [
    "* Adding linewidth"
   ]
  },
  {
   "cell_type": "code",
   "execution_count": 7,
   "metadata": {},
   "outputs": [
    {
     "data": {
      "image/png": "[encoded data removed]",
      "text/plain": [
       "<Figure size 432x288 with 1 Axes>"
      ]
     },
     "metadata": {},
     "output_type": "display_data"
    }
   ],
   "source": [
    "fig, ax = plt.subplots()\n",
    "\n",
    "p = patches.PathPatch(Path([(0.1, 0.8), (0.8, 0.8),\n",
    "                            (0.8, 0.1), (0.1, 0.1),\n",
    "                            (0.1, 0.8)],\n",
    "                            [Path.MOVETO, Path.LINETO, \n",
    "                             Path.LINETO, Path.LINETO,\n",
    "                             Path.CLOSEPOLY]),\n",
    "                            edgecolor='red',fill=None,\n",
    "                             linewidth=3)\n",
    "\n",
    "ax.add_patch(p)\n",
    "\n",
    "plt.show()"
   ]
  },
  {
   "cell_type": "markdown",
   "metadata": {},
   "source": [
    "* Specifying color"
   ]
  },
  {
   "cell_type": "code",
   "execution_count": 8,
   "metadata": {},
   "outputs": [
    {
     "data": {
      "image/png": "[encoded data removed]",
      "text/plain": [
       "<Figure size 432x288 with 1 Axes>"
      ]
     },
     "metadata": {},
     "output_type": "display_data"
    }
   ],
   "source": [
    "fig, ax = plt.subplots()\n",
    "\n",
    "p = patches.PathPatch(Path([(0.1, 0.8), (0.8, 0.8),\n",
    "                            (0.8, 0.1), (0.1, 0.1),\n",
    "                            (0.1, 0.8)],\n",
    "                            [Path.MOVETO, Path.LINETO, \n",
    "                             Path.LINETO, Path.LINETO,\n",
    "                             Path.CLOSEPOLY]),\n",
    "                            facecolor='darkorchid',)\n",
    "\n",
    "ax.add_patch(p)\n",
    "\n",
    "plt.show()"
   ]
  },
  {
   "cell_type": "markdown",
   "metadata": {},
   "source": [
    "* Compound path\n",
    "  \n",
    "    Draw two path in one plot"
   ]
  },
  {
   "cell_type": "code",
   "execution_count": 113,
   "metadata": {},
   "outputs": [
    {
     "data": {
      "image/png": "[encoded data removed]",
      "text/plain": [
       "<Figure size 432x288 with 1 Axes>"
      ]
     },
     "metadata": {},
     "output_type": "display_data"
    }
   ],
   "source": [
    "fig, ax = plt.subplots()\n",
    "\n",
    "p = patches.PathPatch(Path([(0.7, 0.7), (0.9, 0.9), (0.9, 0.7), (0, 0)],\n",
    "                            [Path.MOVETO, Path.LINETO,\n",
    "                            Path.LINETO,Path.CLOSEPOLY]),\n",
    "                            edgecolor='blue',linewidth=3,\n",
    "                              fill=None)\n",
    "\n",
    "p1 = patches.PathPatch(Path([(0.1, 0.1), (0.5, 0.1),\n",
    "                            (0.5, 0.6), (0.1, 0.6),\n",
    "                            (0.1, 0.1)],\n",
    "                            [Path.MOVETO, Path.LINETO, \n",
    "                             Path.LINETO, Path.LINETO,\n",
    "                             Path.LINETO]),\n",
    "                            edgecolor='red',fill=None,\n",
    "                             linewidth=3)\n",
    "\n",
    "\n",
    "ax.add_patch(p)\n",
    "ax.add_patch(p1)\n",
    "\n",
    "plt.show()"
   ]
  },
  {
   "cell_type": "code",
   "execution_count": 59,
   "metadata": {},
   "outputs": [
    {
     "data": {
      "image/png": "[encoded data removed]",
      "text/plain": [
       "<Figure size 432x288 with 1 Axes>"
      ]
     },
     "metadata": {},
     "output_type": "display_data"
    }
   ],
   "source": [
    "fig, ax = plt.subplots()\n",
    "\n",
    "p = patches.PathPatch(Path([(0.1, 0.8), (0.8, 0.8),\n",
    "                            (0.8, 0.2), (0.5, 0.7),\n",
    "                            (0.2, 0.2),(0.1, 0.7)],\n",
    "                            [Path.MOVETO, Path.LINETO, \n",
    "                             Path.CURVE3, Path.CURVE3,\n",
    "                             Path.CURVE3,Path.CURVE3]),\n",
    "                            fill=None)\n",
    "\n",
    "ax.add_patch(p)\n",
    "\n",
    "plt.show()"
   ]
  },
  {
   "cell_type": "code",
   "execution_count": 66,
   "metadata": {},
   "outputs": [
    {
     "data": {
      "image/png": "[encoded data removed]",
      "text/plain": [
       "<Figure size 432x288 with 1 Axes>"
      ]
     },
     "metadata": {},
     "output_type": "display_data"
    }
   ],
   "source": [
    "fig, ax = plt.subplots()\n",
    "\n",
    "p = patches.PathPatch(Path([(0.1, 0.8), (0.8, 0.8),\n",
    "                            (0.8, 0.2), (0.5, 0.7),\n",
    "                            (0.2, 0.2),(0.1, 0.8)],\n",
    "                            [Path.MOVETO, Path.LINETO, \n",
    "                             Path.CURVE3, Path.CURVE3,\n",
    "                             Path.CURVE3,Path.CURVE3]),\n",
    "                            fill=None)\n",
    "\n",
    "ax.add_patch(p)\n",
    "\n",
    "plt.show()"
   ]
  },
  {
   "cell_type": "code",
   "execution_count": 67,
   "metadata": {},
   "outputs": [
    {
     "data": {
      "image/png": "[encoded data removed]",
      "text/plain": [
       "<Figure size 432x288 with 1 Axes>"
      ]
     },
     "metadata": {},
     "output_type": "display_data"
    }
   ],
   "source": [
    "fig, ax = plt.subplots()\n",
    "\n",
    "p = patches.PathPatch(Path([(0.1, 0.8), (0.8, 0.8),\n",
    "                            (0.8, 0.2), (0.5, 0.8),\n",
    "                            (0.2, 0.2)],\n",
    "                            [Path.MOVETO, Path.LINETO, \n",
    "                             Path.CURVE3, Path.CURVE3,\n",
    "                             Path.LINETO]),\n",
    "                            fill=None)\n",
    "\n",
    "ax.add_patch(p)\n",
    "\n",
    "plt.show()"
   ]
  },
  {
   "cell_type": "code",
   "execution_count": 69,
   "metadata": {},
   "outputs": [
    {
     "data": {
      "image/png": "[encoded data removed]",
      "text/plain": [
       "<Figure size 432x288 with 1 Axes>"
      ]
     },
     "metadata": {},
     "output_type": "display_data"
    }
   ],
   "source": [
    "fig, ax = plt.subplots()\n",
    "\n",
    "p = patches.PathPatch(Path([(0.1, 0.8), (0.8, 0.8),\n",
    "                            (0.8, 0.2), (0.5, 0.8),\n",
    "                            (0.2, 0.2)],\n",
    "                            [Path.MOVETO, Path.LINETO, \n",
    "                             Path.CURVE3, Path.CURVE3,\n",
    "                             Path.LINETO]),\n",
    "                            facecolor='red',\n",
    "                            linewidth=5)\n",
    "\n",
    "ax.add_patch(p)\n",
    "\n",
    "plt.show()"
   ]
  },
  {
   "cell_type": "code",
   "execution_count": null,
   "metadata": {},
   "outputs": [],
   "source": []
  }
 ],
 "metadata": {
  "kernelspec": {
   "display_name": "Python 3",
   "language": "python",
   "name": "python3"
  },
  "language_info": {
   "codemirror_mode": {
    "name": "ipython",
    "version": 3
   },
   "file_extension": ".py",
   "mimetype": "text/x-python",
   "name": "python",
   "nbconvert_exporter": "python",
   "pygments_lexer": "ipython3",
   "version": "3.8.2"
  },
  "latex_envs": {
   "LaTeX_envs_menu_present": true,
   "autoclose": false,
   "autocomplete": true,
   "bibliofile": "biblio.bib",
   "cite_by": "apalike",
   "current_citInitial": 1,
   "eqLabelWithNumbers": true,
   "eqNumInitial": 1,
   "hotkeys": {
    "equation": "Ctrl-E",
    "itemize": "Ctrl-I"
   },
   "labels_anchors": false,
   "latex_user_defs": false,
   "report_style_numbering": false,
   "user_envs_cfg": false
  },
  "varInspector": {
   "cols": {
    "lenName": 16,
    "lenType": 16,
    "lenVar": 40
   },
   "kernels_config": {
    "python": {
     "delete_cmd_postfix": "",
     "delete_cmd_prefix": "del ",
     "library": "var_list.py",
     "varRefreshCmd": "print(var_dic_list())"
    },
    "r": {
     "delete_cmd_postfix": ") ",
     "delete_cmd_prefix": "rm(",
     "library": "var_list.r",
     "varRefreshCmd": "cat(var_dic_list()) "
    }
   },
   "types_to_exclude": [
    "module",
    "function",
    "builtin_function_or_method",
    "instance",
    "_Feature"
   ],
   "window_display": false
  }
 },
 "nbformat": 4,
 "nbformat_minor": 2
}
