{
 "cells": [
  {
   "cell_type": "code",
   "execution_count": 5,
   "metadata": {},
   "outputs": [
    {
     "data": {
      "text/plain": [
       "True"
      ]
     },
     "execution_count": 5,
     "metadata": {},
     "output_type": "execute_result"
    }
   ],
   "source": [
    "import matplotlib\n",
    "import matplotlib.pyplot as plt\n",
    "import numpy as np\n",
    "import pandas as pd\n",
    "\n",
    "matplotlib.interactive(True)\n",
    "plt.ion()\n",
    "matplotlib.is_interactive()"
   ]
  },
  {
   "cell_type": "markdown",
   "metadata": {},
   "source": [
    "https://www.google.com/url?q=https://trends.google.com/trends/explore?cat%3D47%26date%3Dnow%25207-d%26geo%3DUS%26gprop%3Dimages&sa=D&source=hangouts&ust=1531986216988000&usg=AFQjCNFxzJAKFVVXATTTq4dUtfUlMQ9xwg"
   ]
  },
  {
   "cell_type": "code",
   "execution_count": 6,
   "metadata": {},
   "outputs": [
    {
     "data": {
      "text/html": [
       "<div>\n",
       "<style scoped>\n",
       "    .dataframe tbody tr th:only-of-type {\n",
       "        vertical-align: middle;\n",
       "    }\n",
       "\n",
       "    .dataframe tbody tr th {\n",
       "        vertical-align: top;\n",
       "    }\n",
       "\n",
       "    .dataframe thead th {\n",
       "        text-align: right;\n",
       "    }\n",
       "</style>\n",
       "<table border=\"1\" class=\"dataframe\">\n",
       "  <thead>\n",
       "    <tr style=\"text-align: right;\">\n",
       "      <th></th>\n",
       "      <th>Time</th>\n",
       "      <th>United States</th>\n",
       "    </tr>\n",
       "  </thead>\n",
       "  <tbody>\n",
       "    <tr>\n",
       "      <th>0</th>\n",
       "      <td>2018-07-11T12</td>\n",
       "      <td>11</td>\n",
       "    </tr>\n",
       "    <tr>\n",
       "      <th>1</th>\n",
       "      <td>2018-07-11T13</td>\n",
       "      <td>8</td>\n",
       "    </tr>\n",
       "    <tr>\n",
       "      <th>2</th>\n",
       "      <td>2018-07-11T14</td>\n",
       "      <td>8</td>\n",
       "    </tr>\n",
       "    <tr>\n",
       "      <th>3</th>\n",
       "      <td>2018-07-11T15</td>\n",
       "      <td>12</td>\n",
       "    </tr>\n",
       "    <tr>\n",
       "      <th>4</th>\n",
       "      <td>2018-07-11T16</td>\n",
       "      <td>20</td>\n",
       "    </tr>\n",
       "  </tbody>\n",
       "</table>\n",
       "</div>"
      ],
      "text/plain": [
       "            Time  United States\n",
       "0  2018-07-11T12             11\n",
       "1  2018-07-11T13              8\n",
       "2  2018-07-11T14              8\n",
       "3  2018-07-11T15             12\n",
       "4  2018-07-11T16             20"
      ]
     },
     "execution_count": 6,
     "metadata": {},
     "output_type": "execute_result"
    }
   ],
   "source": [
    "timeline_data = pd.read_csv('Datasets/multiTimeline.csv')\n",
    "timeline_data.head()"
   ]
  },
  {
   "cell_type": "code",
   "execution_count": 7,
   "metadata": {},
   "outputs": [
    {
     "data": {
      "text/plain": [
       "count    168.000000\n",
       "mean      53.851190\n",
       "std       29.036966\n",
       "min        8.000000\n",
       "25%       26.750000\n",
       "50%       57.000000\n",
       "75%       79.250000\n",
       "max      100.000000\n",
       "Name: United States, dtype: float64"
      ]
     },
     "execution_count": 7,
     "metadata": {},
     "output_type": "execute_result"
    }
   ],
   "source": [
    "timeline_data['United States'].describe()"
   ]
  },
  {
   "cell_type": "code",
   "execution_count": 8,
   "metadata": {},
   "outputs": [
    {
     "data": {
      "text/plain": [
       "count    168.000000\n",
       "mean       0.053851\n",
       "std        0.029037\n",
       "min        0.008000\n",
       "25%        0.026750\n",
       "50%        0.057000\n",
       "75%        0.079250\n",
       "max        0.100000\n",
       "Name: United States, dtype: float64"
      ]
     },
     "execution_count": 8,
     "metadata": {},
     "output_type": "execute_result"
    }
   ],
   "source": [
    "timeline_data['United States'] = timeline_data['United States']/1000\n",
    "timeline_data['United States'].describe()"
   ]
  },
  {
   "cell_type": "code",
   "execution_count": 9,
   "metadata": {},
   "outputs": [
    {
     "data": {
      "image/png": "[encoded data removed]",
      "text/plain": [
       "<Figure size 1152x576 with 1 Axes>"
      ]
     },
     "metadata": {},
     "output_type": "display_data"
    }
   ],
   "source": [
    "plt.figure(figsize=(16,8))\n",
    "\n",
    "plt.acorr(timeline_data['United States'], \n",
    "          maxlags=30)\n",
    "\n",
    "plt.show()"
   ]
  },
  {
   "cell_type": "code",
   "execution_count": 10,
   "metadata": {},
   "outputs": [
    {
     "name": "stdout",
     "output_type": "stream",
     "text": [
      "lags:  [-30 -29 -28 -27 -26 -25 -24 -23 -22 -21 -20 -19 -18 -17 -16 -15 -14 -13\n",
      " -12 -11 -10  -9  -8  -7  -6  -5  -4  -3  -2  -1   0   1   2   3   4   5\n",
      "   6   7   8   9  10  11  12  13  14  15  16  17  18  19  20  21  22  23\n",
      "  24  25  26  27  28  29  30] \n",
      "\n",
      "c:  [0.64497442 0.69463708 0.74433954 0.78996237 0.82706924 0.85160439\n",
      " 0.86054074 0.85291013 0.8298925  0.79480794 0.75183321 0.70557343\n",
      " 0.66070379 0.62117016 0.5896318  0.56733711 0.55416666 0.54968256\n",
      " 0.55366347 0.56586735 0.58617955 0.61454115 0.65145056 0.69697307\n",
      " 0.74986823 0.80716946 0.86474139 0.91771298 0.96087402 0.9894888\n",
      " 1.         0.9894888  0.96087402 0.91771298 0.86474139 0.80716946\n",
      " 0.74986823 0.69697307 0.65145056 0.61454115 0.58617955 0.56586735\n",
      " 0.55366347 0.54968256 0.55416666 0.56733711 0.5896318  0.62117016\n",
      " 0.66070379 0.70557343 0.75183321 0.79480794 0.8298925  0.85291013\n",
      " 0.86054074 0.85160439 0.82706924 0.78996237 0.74433954 0.69463708\n",
      " 0.64497442] \n",
      "\n",
      "vlines:  <matplotlib.collections.LineCollection object at 0x1200dce48> \n",
      "\n",
      "hline:  Line2D(_line0) \n",
      "\n"
     ]
    },
    {
     "data": {
      "image/png": "[encoded data removed]",
      "text/plain": [
       "<Figure size 1152x576 with 1 Axes>"
      ]
     },
     "metadata": {},
     "output_type": "display_data"
    }
   ],
   "source": [
    "plt.figure(figsize=(16,8))\n",
    "\n",
    "lags, c, vlines, hline = plt.acorr(timeline_data['United States'], \n",
    "                             maxlags=30)\n",
    "\n",
    "print('lags: ', lags, '\\n')\n",
    "print('c: ', c, '\\n')\n",
    "print('vlines: ', vlines, '\\n')\n",
    "print('hline: ', hline, '\\n')"
   ]
  },
  {
   "cell_type": "code",
   "execution_count": null,
   "metadata": {},
   "outputs": [],
   "source": []
  }
 ],
 "metadata": {
  "kernelspec": {
   "display_name": "Python 3",
   "language": "python",
   "name": "python3"
  },
  "language_info": {
   "codemirror_mode": {
    "name": "ipython",
    "version": 3
   },
   "file_extension": ".py",
   "mimetype": "text/x-python",
   "name": "python",
   "nbconvert_exporter": "python",
   "pygments_lexer": "ipython3",
   "version": "3.6.5"
  }
 },
 "nbformat": 4,
 "nbformat_minor": 2
}
