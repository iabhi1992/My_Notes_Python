{
 "cells": [
  {
   "cell_type": "code",
   "execution_count": 1,
   "metadata": {},
   "outputs": [],
   "source": [
    "import pandas as pd"
   ]
  },
  {
   "cell_type": "code",
   "execution_count": 2,
   "metadata": {},
   "outputs": [],
   "source": [
    "space_org = {'Organizations_name' : [\"CNES\", \"ISRO\", \"NASA\", \"JAXA\", \"CNSA\"],\n",
    "                   'Headquarters' : [\"Paris\", \"Bangalore\", \"Washington\",\n",
    "                                     \"Tokyo\", \"Beijing\"],\n",
    "                   'Country_name' : [\"France\", \"India\", \"USA\", \"Japan\", \"China\"],\n",
    "                 'Formation_year' : [1961, 1969, 1958, 2003, 1993]\n",
    "             }"
   ]
  },
  {
   "cell_type": "code",
   "execution_count": 3,
   "metadata": {},
   "outputs": [],
   "source": [
    "space_org_df = pd.DataFrame(space_org)"
   ]
  },
  {
   "cell_type": "code",
   "execution_count": 4,
   "metadata": {},
   "outputs": [
    {
     "data": {
      "text/html": [
       "<div>\n",
       "<style scoped>\n",
       "    .dataframe tbody tr th:only-of-type {\n",
       "        vertical-align: middle;\n",
       "    }\n",
       "\n",
       "    .dataframe tbody tr th {\n",
       "        vertical-align: top;\n",
       "    }\n",
       "\n",
       "    .dataframe thead th {\n",
       "        text-align: right;\n",
       "    }\n",
       "</style>\n",
       "<table border=\"1\" class=\"dataframe\">\n",
       "  <thead>\n",
       "    <tr style=\"text-align: right;\">\n",
       "      <th></th>\n",
       "      <th>Organizations_name</th>\n",
       "      <th>Headquarters</th>\n",
       "      <th>Country_name</th>\n",
       "      <th>Formation_year</th>\n",
       "    </tr>\n",
       "  </thead>\n",
       "  <tbody>\n",
       "    <tr>\n",
       "      <th>0</th>\n",
       "      <td>CNES</td>\n",
       "      <td>Paris</td>\n",
       "      <td>France</td>\n",
       "      <td>1961</td>\n",
       "    </tr>\n",
       "    <tr>\n",
       "      <th>1</th>\n",
       "      <td>ISRO</td>\n",
       "      <td>Bangalore</td>\n",
       "      <td>India</td>\n",
       "      <td>1969</td>\n",
       "    </tr>\n",
       "    <tr>\n",
       "      <th>2</th>\n",
       "      <td>NASA</td>\n",
       "      <td>Washington</td>\n",
       "      <td>USA</td>\n",
       "      <td>1958</td>\n",
       "    </tr>\n",
       "    <tr>\n",
       "      <th>3</th>\n",
       "      <td>JAXA</td>\n",
       "      <td>Tokyo</td>\n",
       "      <td>Japan</td>\n",
       "      <td>2003</td>\n",
       "    </tr>\n",
       "    <tr>\n",
       "      <th>4</th>\n",
       "      <td>CNSA</td>\n",
       "      <td>Beijing</td>\n",
       "      <td>China</td>\n",
       "      <td>1993</td>\n",
       "    </tr>\n",
       "  </tbody>\n",
       "</table>\n",
       "</div>"
      ],
      "text/plain": [
       "  Organizations_name Headquarters Country_name  Formation_year\n",
       "0               CNES        Paris       France            1961\n",
       "1               ISRO    Bangalore        India            1969\n",
       "2               NASA   Washington          USA            1958\n",
       "3               JAXA        Tokyo        Japan            2003\n",
       "4               CNSA      Beijing        China            1993"
      ]
     },
     "execution_count": 4,
     "metadata": {},
     "output_type": "execute_result"
    }
   ],
   "source": [
    "space_org_df"
   ]
  },
  {
   "cell_type": "code",
   "execution_count": 5,
   "metadata": {},
   "outputs": [
    {
     "name": "stdout",
     "output_type": "stream",
     "text": [
      "Pandas(Index=0, Organizations_name='CNES', Headquarters='Paris', Country_name='France', Formation_year=1961)\n",
      "Pandas(Index=1, Organizations_name='ISRO', Headquarters='Bangalore', Country_name='India', Formation_year=1969)\n",
      "Pandas(Index=2, Organizations_name='NASA', Headquarters='Washington', Country_name='USA', Formation_year=1958)\n",
      "Pandas(Index=3, Organizations_name='JAXA', Headquarters='Tokyo', Country_name='Japan', Formation_year=2003)\n",
      "Pandas(Index=4, Organizations_name='CNSA', Headquarters='Beijing', Country_name='China', Formation_year=1993)\n"
     ]
    }
   ],
   "source": [
    "for row in space_org_df.itertuples():\n",
    "    print(row)"
   ]
  },
  {
   "cell_type": "code",
   "execution_count": 6,
   "metadata": {},
   "outputs": [
    {
     "name": "stdout",
     "output_type": "stream",
     "text": [
      "(0, Organizations_name      CNES\n",
      "Headquarters           Paris\n",
      "Country_name          France\n",
      "Formation_year          1961\n",
      "Name: 0, dtype: object)\n",
      "(1, Organizations_name         ISRO\n",
      "Headquarters          Bangalore\n",
      "Country_name              India\n",
      "Formation_year             1969\n",
      "Name: 1, dtype: object)\n",
      "(2, Organizations_name          NASA\n",
      "Headquarters          Washington\n",
      "Country_name                 USA\n",
      "Formation_year              1958\n",
      "Name: 2, dtype: object)\n",
      "(3, Organizations_name     JAXA\n",
      "Headquarters          Tokyo\n",
      "Country_name          Japan\n",
      "Formation_year         2003\n",
      "Name: 3, dtype: object)\n",
      "(4, Organizations_name       CNSA\n",
      "Headquarters          Beijing\n",
      "Country_name            China\n",
      "Formation_year           1993\n",
      "Name: 4, dtype: object)\n"
     ]
    }
   ],
   "source": [
    "for row in space_org_df.iterrows():\n",
    "    print(row)"
   ]
  },
  {
   "cell_type": "code",
   "execution_count": 7,
   "metadata": {},
   "outputs": [
    {
     "name": "stdout",
     "output_type": "stream",
     "text": [
      "0\n",
      "Organizations_name      CNES\n",
      "Headquarters           Paris\n",
      "Country_name          France\n",
      "Formation_year          1961\n",
      "Name: 0, dtype: object\n",
      "1\n",
      "Organizations_name         ISRO\n",
      "Headquarters          Bangalore\n",
      "Country_name              India\n",
      "Formation_year             1969\n",
      "Name: 1, dtype: object\n",
      "2\n",
      "Organizations_name          NASA\n",
      "Headquarters          Washington\n",
      "Country_name                 USA\n",
      "Formation_year              1958\n",
      "Name: 2, dtype: object\n",
      "3\n",
      "Organizations_name     JAXA\n",
      "Headquarters          Tokyo\n",
      "Country_name          Japan\n",
      "Formation_year         2003\n",
      "Name: 3, dtype: object\n",
      "4\n",
      "Organizations_name       CNSA\n",
      "Headquarters          Beijing\n",
      "Country_name            China\n",
      "Formation_year           1993\n",
      "Name: 4, dtype: object\n"
     ]
    }
   ],
   "source": [
    "for row_index,row in space_org_df.iterrows():\n",
    "    print(row_index)\n",
    "    print(row)"
   ]
  },
  {
   "cell_type": "code",
   "execution_count": 8,
   "metadata": {},
   "outputs": [
    {
     "name": "stdout",
     "output_type": "stream",
     "text": [
      "Key Value:  Organizations_name\n",
      "0    CNES\n",
      "1    ISRO\n",
      "2    NASA\n",
      "3    JAXA\n",
      "4    CNSA\n",
      "Name: Organizations_name, dtype: object\n",
      "Key Value:  Headquarters\n",
      "0         Paris\n",
      "1     Bangalore\n",
      "2    Washington\n",
      "3         Tokyo\n",
      "4       Beijing\n",
      "Name: Headquarters, dtype: object\n",
      "Key Value:  Country_name\n",
      "0    France\n",
      "1     India\n",
      "2       USA\n",
      "3     Japan\n",
      "4     China\n",
      "Name: Country_name, dtype: object\n",
      "Key Value:  Formation_year\n",
      "0    1961\n",
      "1    1969\n",
      "2    1958\n",
      "3    2003\n",
      "4    1993\n",
      "Name: Formation_year, dtype: int64\n"
     ]
    }
   ],
   "source": [
    "for key,value in space_org_df.iteritems():\n",
    "    print('Key Value: ', key)\n",
    "    print(value)"
   ]
  },
  {
   "cell_type": "code",
   "execution_count": 9,
   "metadata": {},
   "outputs": [
    {
     "name": "stdout",
     "output_type": "stream",
     "text": [
      "('Organizations_name', 0    CNES\n",
      "1    ISRO\n",
      "2    NASA\n",
      "3    JAXA\n",
      "4    CNSA\n",
      "Name: Organizations_name, dtype: object)\n",
      "('Headquarters', 0         Paris\n",
      "1     Bangalore\n",
      "2    Washington\n",
      "3         Tokyo\n",
      "4       Beijing\n",
      "Name: Headquarters, dtype: object)\n",
      "('Country_name', 0    France\n",
      "1     India\n",
      "2       USA\n",
      "3     Japan\n",
      "4     China\n",
      "Name: Country_name, dtype: object)\n",
      "('Formation_year', 0    1961\n",
      "1    1969\n",
      "2    1958\n",
      "3    2003\n",
      "4    1993\n",
      "Name: Formation_year, dtype: int64)\n"
     ]
    }
   ],
   "source": [
    "for value in space_org_df.iteritems():\n",
    "    print(value)"
   ]
  },
  {
   "cell_type": "code",
   "execution_count": null,
   "metadata": {},
   "outputs": [],
   "source": []
  },
  {
   "cell_type": "code",
   "execution_count": null,
   "metadata": {},
   "outputs": [],
   "source": []
  }
 ],
 "metadata": {
  "kernelspec": {
   "display_name": "Python 3",
   "language": "python",
   "name": "python3"
  },
  "language_info": {
   "codemirror_mode": {
    "name": "ipython",
    "version": 3
   },
   "file_extension": ".py",
   "mimetype": "text/x-python",
   "name": "python",
   "nbconvert_exporter": "python",
   "pygments_lexer": "ipython3",
   "version": "3.8.2"
  },
  "latex_envs": {
   "LaTeX_envs_menu_present": true,
   "autoclose": false,
   "autocomplete": true,
   "bibliofile": "biblio.bib",
   "cite_by": "apalike",
   "current_citInitial": 1,
   "eqLabelWithNumbers": true,
   "eqNumInitial": 1,
   "hotkeys": {
    "equation": "Ctrl-E",
    "itemize": "Ctrl-I"
   },
   "labels_anchors": false,
   "latex_user_defs": false,
   "report_style_numbering": false,
   "user_envs_cfg": false
  },
  "varInspector": {
   "cols": {
    "lenName": 16,
    "lenType": 16,
    "lenVar": 40
   },
   "kernels_config": {
    "python": {
     "delete_cmd_postfix": "",
     "delete_cmd_prefix": "del ",
     "library": "var_list.py",
     "varRefreshCmd": "print(var_dic_list())"
    },
    "r": {
     "delete_cmd_postfix": ") ",
     "delete_cmd_prefix": "rm(",
     "library": "var_list.r",
     "varRefreshCmd": "cat(var_dic_list()) "
    }
   },
   "types_to_exclude": [
    "module",
    "function",
    "builtin_function_or_method",
    "instance",
    "_Feature"
   ],
   "window_display": false
  }
 },
 "nbformat": 4,
 "nbformat_minor": 2
}
