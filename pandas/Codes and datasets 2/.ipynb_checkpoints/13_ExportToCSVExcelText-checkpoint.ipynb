{
 "cells": [
  {
   "cell_type": "code",
   "execution_count": 1,
   "metadata": {},
   "outputs": [],
   "source": [
    "import pandas as pd"
   ]
  },
  {
   "cell_type": "code",
   "execution_count": 2,
   "metadata": {},
   "outputs": [],
   "source": [
    "automobile_df = pd.DataFrame({'car_name' : [\"Toyota Corolla Mark ii\",\n",
    "                                            \"Chevrolet Chevelle Malibu\",\n",
    "                                            \"Audi 100 LS\",\n",
    "                                            \"BMW 2002\",\n",
    "                                            \"Datsun PL510\"],\n",
    "                                   'mpg' : [24, 18, 24, 26, 27],\n",
    "                            'horsepower' : [95, 130, 90, 113, 88],\n",
    "                        'origin_country' : [\"Japan\", \"US\", \"Germany\", \n",
    "                                            \"Germany\", \"Japan\"]\n",
    "    \n",
    "                            })"
   ]
  },
  {
   "cell_type": "code",
   "execution_count": 3,
   "metadata": {},
   "outputs": [
    {
     "data": {
      "text/html": [
       "<div>\n",
       "<style scoped>\n",
       "    .dataframe tbody tr th:only-of-type {\n",
       "        vertical-align: middle;\n",
       "    }\n",
       "\n",
       "    .dataframe tbody tr th {\n",
       "        vertical-align: top;\n",
       "    }\n",
       "\n",
       "    .dataframe thead th {\n",
       "        text-align: right;\n",
       "    }\n",
       "</style>\n",
       "<table border=\"1\" class=\"dataframe\">\n",
       "  <thead>\n",
       "    <tr style=\"text-align: right;\">\n",
       "      <th></th>\n",
       "      <th>car_name</th>\n",
       "      <th>mpg</th>\n",
       "      <th>horsepower</th>\n",
       "      <th>origin_country</th>\n",
       "    </tr>\n",
       "  </thead>\n",
       "  <tbody>\n",
       "    <tr>\n",
       "      <th>0</th>\n",
       "      <td>Toyota Corolla Mark ii</td>\n",
       "      <td>24</td>\n",
       "      <td>95</td>\n",
       "      <td>Japan</td>\n",
       "    </tr>\n",
       "    <tr>\n",
       "      <th>1</th>\n",
       "      <td>Chevrolet Chevelle Malibu</td>\n",
       "      <td>18</td>\n",
       "      <td>130</td>\n",
       "      <td>US</td>\n",
       "    </tr>\n",
       "    <tr>\n",
       "      <th>2</th>\n",
       "      <td>Audi 100 LS</td>\n",
       "      <td>24</td>\n",
       "      <td>90</td>\n",
       "      <td>Germany</td>\n",
       "    </tr>\n",
       "    <tr>\n",
       "      <th>3</th>\n",
       "      <td>BMW 2002</td>\n",
       "      <td>26</td>\n",
       "      <td>113</td>\n",
       "      <td>Germany</td>\n",
       "    </tr>\n",
       "    <tr>\n",
       "      <th>4</th>\n",
       "      <td>Datsun PL510</td>\n",
       "      <td>27</td>\n",
       "      <td>88</td>\n",
       "      <td>Japan</td>\n",
       "    </tr>\n",
       "  </tbody>\n",
       "</table>\n",
       "</div>"
      ],
      "text/plain": [
       "                    car_name  mpg  horsepower origin_country\n",
       "0     Toyota Corolla Mark ii   24          95          Japan\n",
       "1  Chevrolet Chevelle Malibu   18         130             US\n",
       "2                Audi 100 LS   24          90        Germany\n",
       "3                   BMW 2002   26         113        Germany\n",
       "4               Datsun PL510   27          88          Japan"
      ]
     },
     "execution_count": 3,
     "metadata": {},
     "output_type": "execute_result"
    }
   ],
   "source": [
    "automobile_df"
   ]
  },
  {
   "cell_type": "code",
   "execution_count": 4,
   "metadata": {},
   "outputs": [
    {
     "name": "stdout",
     "output_type": "stream",
     "text": [
      "Export to CSV successful\n"
     ]
    }
   ],
   "source": [
    "automobile_df.to_csv('new_automobile.csv')\n",
    "print('Export to CSV successful')"
   ]
  },
  {
   "cell_type": "code",
   "execution_count": 5,
   "metadata": {},
   "outputs": [
    {
     "name": "stdout",
     "output_type": "stream",
     "text": [
      "Export to CSV successful\n"
     ]
    }
   ],
   "source": [
    "automobile_df.to_csv('new_automobile_wi.csv', index = False)\n",
    "print('Export to CSV successful')"
   ]
  },
  {
   "cell_type": "code",
   "execution_count": 6,
   "metadata": {},
   "outputs": [
    {
     "data": {
      "text/plain": [
       "Index(['car_name', 'mpg', 'horsepower', 'origin_country'], dtype='object')"
      ]
     },
     "execution_count": 6,
     "metadata": {},
     "output_type": "execute_result"
    }
   ],
   "source": [
    "automobile_df.columns"
   ]
  },
  {
   "cell_type": "code",
   "execution_count": 7,
   "metadata": {},
   "outputs": [
    {
     "name": "stdout",
     "output_type": "stream",
     "text": [
      "Export to CSV successful\n"
     ]
    }
   ],
   "source": [
    "automobile_df.to_csv(\"new_automobile_wi_1.csv\", \n",
    "                      columns=[\"car_name\", \"horsepower\", \"mpg\"],\n",
    "                      index=False)\n",
    "print('Export to CSV successful')"
   ]
  },
  {
   "cell_type": "code",
   "execution_count": 8,
   "metadata": {},
   "outputs": [
    {
     "name": "stdout",
     "output_type": "stream",
     "text": [
      "Export to Excel successful\n"
     ]
    }
   ],
   "source": [
    "automobile_df.to_excel('new_automobile.xlsx', \n",
    "                        sheet_name = \"automobile\",\n",
    "                        index = False\n",
    "                      )\n",
    "print('Export to Excel successful')"
   ]
  },
  {
   "cell_type": "code",
   "execution_count": 9,
   "metadata": {},
   "outputs": [
    {
     "data": {
      "text/html": [
       "<div>\n",
       "<style scoped>\n",
       "    .dataframe tbody tr th:only-of-type {\n",
       "        vertical-align: middle;\n",
       "    }\n",
       "\n",
       "    .dataframe tbody tr th {\n",
       "        vertical-align: top;\n",
       "    }\n",
       "\n",
       "    .dataframe thead th {\n",
       "        text-align: right;\n",
       "    }\n",
       "</style>\n",
       "<table border=\"1\" class=\"dataframe\">\n",
       "  <thead>\n",
       "    <tr style=\"text-align: right;\">\n",
       "      <th></th>\n",
       "      <th>car_name</th>\n",
       "      <th>mpg</th>\n",
       "      <th>horsepower</th>\n",
       "      <th>origin_country</th>\n",
       "    </tr>\n",
       "  </thead>\n",
       "  <tbody>\n",
       "    <tr>\n",
       "      <th>0</th>\n",
       "      <td>Toyota Corolla Mark ii</td>\n",
       "      <td>24</td>\n",
       "      <td>95</td>\n",
       "      <td>Japan</td>\n",
       "    </tr>\n",
       "    <tr>\n",
       "      <th>1</th>\n",
       "      <td>Chevrolet Chevelle Malibu</td>\n",
       "      <td>18</td>\n",
       "      <td>130</td>\n",
       "      <td>US</td>\n",
       "    </tr>\n",
       "    <tr>\n",
       "      <th>2</th>\n",
       "      <td>Audi 100 LS</td>\n",
       "      <td>24</td>\n",
       "      <td>90</td>\n",
       "      <td>Germany</td>\n",
       "    </tr>\n",
       "    <tr>\n",
       "      <th>3</th>\n",
       "      <td>BMW 2002</td>\n",
       "      <td>26</td>\n",
       "      <td>113</td>\n",
       "      <td>Germany</td>\n",
       "    </tr>\n",
       "    <tr>\n",
       "      <th>4</th>\n",
       "      <td>Datsun PL510</td>\n",
       "      <td>27</td>\n",
       "      <td>88</td>\n",
       "      <td>Japan</td>\n",
       "    </tr>\n",
       "  </tbody>\n",
       "</table>\n",
       "</div>"
      ],
      "text/plain": [
       "                    car_name  mpg  horsepower origin_country\n",
       "0     Toyota Corolla Mark ii   24          95          Japan\n",
       "1  Chevrolet Chevelle Malibu   18         130             US\n",
       "2                Audi 100 LS   24          90        Germany\n",
       "3                   BMW 2002   26         113        Germany\n",
       "4               Datsun PL510   27          88          Japan"
      ]
     },
     "execution_count": 9,
     "metadata": {},
     "output_type": "execute_result"
    }
   ],
   "source": [
    "automobile_df"
   ]
  },
  {
   "cell_type": "code",
   "execution_count": 10,
   "metadata": {},
   "outputs": [],
   "source": [
    "camera_df = pd.DataFrame({'model' : [\"Canon PowerShot A460\",\n",
    "                                     \"Kodak C763\",\n",
    "                                     \"Nikon Coolpix P500\",\n",
    "                                     \"Samsung S850\",\n",
    "                                     \"Sony DSC\"],\n",
    "                 'max_resolution' : [2592, 3072, 3648, 3264, 3228],\n",
    "                 'low_resolution' : [2048, 2592, 2560, 2558, 2624],\n",
    "                     'zoom_width' : [38, 35, 36, 39, 31],\n",
    "                        'storage' : [16,  32, 16, 16, 32]\n",
    "                        })"
   ]
  },
  {
   "cell_type": "code",
   "execution_count": 11,
   "metadata": {},
   "outputs": [
    {
     "data": {
      "text/html": [
       "<div>\n",
       "<style scoped>\n",
       "    .dataframe tbody tr th:only-of-type {\n",
       "        vertical-align: middle;\n",
       "    }\n",
       "\n",
       "    .dataframe tbody tr th {\n",
       "        vertical-align: top;\n",
       "    }\n",
       "\n",
       "    .dataframe thead th {\n",
       "        text-align: right;\n",
       "    }\n",
       "</style>\n",
       "<table border=\"1\" class=\"dataframe\">\n",
       "  <thead>\n",
       "    <tr style=\"text-align: right;\">\n",
       "      <th></th>\n",
       "      <th>model</th>\n",
       "      <th>max_resolution</th>\n",
       "      <th>low_resolution</th>\n",
       "      <th>zoom_width</th>\n",
       "      <th>storage</th>\n",
       "    </tr>\n",
       "  </thead>\n",
       "  <tbody>\n",
       "    <tr>\n",
       "      <th>0</th>\n",
       "      <td>Canon PowerShot A460</td>\n",
       "      <td>2592</td>\n",
       "      <td>2048</td>\n",
       "      <td>38</td>\n",
       "      <td>16</td>\n",
       "    </tr>\n",
       "    <tr>\n",
       "      <th>1</th>\n",
       "      <td>Kodak C763</td>\n",
       "      <td>3072</td>\n",
       "      <td>2592</td>\n",
       "      <td>35</td>\n",
       "      <td>32</td>\n",
       "    </tr>\n",
       "    <tr>\n",
       "      <th>2</th>\n",
       "      <td>Nikon Coolpix P500</td>\n",
       "      <td>3648</td>\n",
       "      <td>2560</td>\n",
       "      <td>36</td>\n",
       "      <td>16</td>\n",
       "    </tr>\n",
       "    <tr>\n",
       "      <th>3</th>\n",
       "      <td>Samsung S850</td>\n",
       "      <td>3264</td>\n",
       "      <td>2558</td>\n",
       "      <td>39</td>\n",
       "      <td>16</td>\n",
       "    </tr>\n",
       "    <tr>\n",
       "      <th>4</th>\n",
       "      <td>Sony DSC</td>\n",
       "      <td>3228</td>\n",
       "      <td>2624</td>\n",
       "      <td>31</td>\n",
       "      <td>32</td>\n",
       "    </tr>\n",
       "  </tbody>\n",
       "</table>\n",
       "</div>"
      ],
      "text/plain": [
       "                  model  max_resolution  low_resolution  zoom_width  storage\n",
       "0  Canon PowerShot A460            2592            2048          38       16\n",
       "1            Kodak C763            3072            2592          35       32\n",
       "2    Nikon Coolpix P500            3648            2560          36       16\n",
       "3          Samsung S850            3264            2558          39       16\n",
       "4              Sony DSC            3228            2624          31       32"
      ]
     },
     "execution_count": 11,
     "metadata": {},
     "output_type": "execute_result"
    }
   ],
   "source": [
    "camera_df "
   ]
  },
  {
   "cell_type": "code",
   "execution_count": 12,
   "metadata": {},
   "outputs": [
    {
     "name": "stdout",
     "output_type": "stream",
     "text": [
      "Export to Excel successful\n"
     ]
    }
   ],
   "source": [
    "with pd.ExcelWriter('automobile_camera.xlsx') as writer:\n",
    "    automobile_df.to_excel(writer, sheet_name = \"Automobile\")\n",
    "    camera_df.to_excel(writer, sheet_name = \"Camera\")\n",
    "print('Export to Excel successful')"
   ]
  },
  {
   "cell_type": "code",
   "execution_count": 13,
   "metadata": {},
   "outputs": [
    {
     "name": "stdout",
     "output_type": "stream",
     "text": [
      "Export to Text successful\n"
     ]
    }
   ],
   "source": [
    "camera_df.to_csv('camera.txt', index = False)\n",
    "print('Export to Text successful')"
   ]
  },
  {
   "cell_type": "code",
   "execution_count": null,
   "metadata": {},
   "outputs": [],
   "source": []
  },
  {
   "cell_type": "code",
   "execution_count": null,
   "metadata": {},
   "outputs": [],
   "source": []
  },
  {
   "cell_type": "code",
   "execution_count": null,
   "metadata": {},
   "outputs": [],
   "source": []
  },
  {
   "cell_type": "code",
   "execution_count": null,
   "metadata": {},
   "outputs": [],
   "source": []
  },
  {
   "cell_type": "code",
   "execution_count": null,
   "metadata": {},
   "outputs": [],
   "source": []
  }
 ],
 "metadata": {
  "kernelspec": {
   "display_name": "Python 3",
   "language": "python",
   "name": "python3"
  },
  "language_info": {
   "codemirror_mode": {
    "name": "ipython",
    "version": 3
   },
   "file_extension": ".py",
   "mimetype": "text/x-python",
   "name": "python",
   "nbconvert_exporter": "python",
   "pygments_lexer": "ipython3",
   "version": "3.8.2"
  },
  "latex_envs": {
   "LaTeX_envs_menu_present": true,
   "autoclose": false,
   "autocomplete": true,
   "bibliofile": "biblio.bib",
   "cite_by": "apalike",
   "current_citInitial": 1,
   "eqLabelWithNumbers": true,
   "eqNumInitial": 1,
   "hotkeys": {
    "equation": "Ctrl-E",
    "itemize": "Ctrl-I"
   },
   "labels_anchors": false,
   "latex_user_defs": false,
   "report_style_numbering": false,
   "user_envs_cfg": false
  },
  "varInspector": {
   "cols": {
    "lenName": 16,
    "lenType": 16,
    "lenVar": 40
   },
   "kernels_config": {
    "python": {
     "delete_cmd_postfix": "",
     "delete_cmd_prefix": "del ",
     "library": "var_list.py",
     "varRefreshCmd": "print(var_dic_list())"
    },
    "r": {
     "delete_cmd_postfix": ") ",
     "delete_cmd_prefix": "rm(",
     "library": "var_list.r",
     "varRefreshCmd": "cat(var_dic_list()) "
    }
   },
   "types_to_exclude": [
    "module",
    "function",
    "builtin_function_or_method",
    "instance",
    "_Feature"
   ],
   "window_display": false
  }
 },
 "nbformat": 4,
 "nbformat_minor": 2
}
