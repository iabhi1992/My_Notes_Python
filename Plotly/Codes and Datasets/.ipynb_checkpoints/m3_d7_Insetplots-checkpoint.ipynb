{
 "cells": [
  {
   "cell_type": "code",
   "execution_count": 1,
   "metadata": {},
   "outputs": [
    {
     "data": {
      "text/html": [
       "<script>requirejs.config({paths: { 'plotly': ['https://cdn.plot.ly/plotly-latest.min']},});if(!window.Plotly) {{require(['plotly'],function(plotly) {window.Plotly=plotly;});}}</script>"
      ],
      "text/vnd.plotly.v1+html": [
       "<script>requirejs.config({paths: { 'plotly': ['https://cdn.plot.ly/plotly-latest.min']},});if(!window.Plotly) {{require(['plotly'],function(plotly) {window.Plotly=plotly;});}}</script>"
      ]
     },
     "metadata": {},
     "output_type": "display_data"
    }
   ],
   "source": [
    "import plotly.plotly as py\n",
    "import plotly.graph_objs as go\n",
    "import pandas as pd\n",
    "import plotly.offline as offline\n",
    "\n",
    "offline.init_notebook_mode(connected=True)"
   ]
  },
  {
   "cell_type": "markdown",
   "metadata": {},
   "source": [
    "**Produce a trace**"
   ]
  },
  {
   "cell_type": "code",
   "execution_count": 2,
   "metadata": {},
   "outputs": [],
   "source": [
    "trace0 = go.Scatter(x = [1, 2, 3],\n",
    "                    y = [10, 5, 2]\n",
    ")"
   ]
  },
  {
   "cell_type": "markdown",
   "metadata": {},
   "source": [
    "**The second trace references xaxis2 and yaxis2 in the layout**\n",
    "\n",
    "This is set by assigning th values of x2 and y2 to the xaxis and yaxis fields."
   ]
  },
  {
   "cell_type": "code",
   "execution_count": 3,
   "metadata": {},
   "outputs": [],
   "source": [
    "trace1 = go.Scatter(x = [2, 3, 4],\n",
    "                    y = [4, 10, 6],\n",
    "                    \n",
    "                    xaxis = 'x2',\n",
    "                    yaxis = 'y2'\n",
    ")"
   ]
  },
  {
   "cell_type": "code",
   "execution_count": 4,
   "metadata": {},
   "outputs": [],
   "source": [
    "data = [trace0, trace1]"
   ]
  },
  {
   "cell_type": "markdown",
   "metadata": {},
   "source": [
    "**Define the layout**\n",
    "\n",
    "The domain field sets the position of the axis in the plot. The list contains 2 values representing the left and right extents (for X axis) along with the top bottom and top extents (for Y axis). The extents are specified on a 0-1 scale where 0 is the left or bottom while 1 is the right or top of the plot.\n",
    "\n",
    "For instance, the inset X axis will begin from 60% of the plot width to 90%. The inset Y axis from 50% of the height to 80%. "
   ]
  },
  {
   "cell_type": "code",
   "execution_count": 5,
   "metadata": {},
   "outputs": [],
   "source": [
    "layout = go.Layout(xaxis2 = dict(domain = [0.6, 0.9],\n",
    "                                 anchor='y2'\n",
    "                                ),\n",
    "                   \n",
    "                   yaxis2 = dict(domain = [0.5, 0.8],\n",
    "                                 anchor='x2'\n",
    "                                )\n",
    ")"
   ]
  },
  {
   "cell_type": "code",
   "execution_count": 6,
   "metadata": {},
   "outputs": [
    {
     "data": {
      "application/vnd.plotly.v1+json": {
       "data": [
        {
         "type": "scatter",
         "uid": "6f01483e-9aca-11e8-a134-6030d4660e22",
         "x": [
          1,
          2,
          3
         ],
         "y": [
          10,
          5,
          2
         ]
        },
        {
         "type": "scatter",
         "uid": "6f02d37a-9aca-11e8-9a9d-6030d4660e22",
         "x": [
          2,
          3,
          4
         ],
         "xaxis": "x2",
         "y": [
          4,
          10,
          6
         ],
         "yaxis": "y2"
        }
       ],
       "layout": {
        "xaxis2": {
         "anchor": "y2",
         "domain": [
          0.6,
          0.9
         ]
        },
        "yaxis2": {
         "anchor": "x2",
         "domain": [
          0.5,
          0.8
         ]
        }
       }
      },
      "text/html": [
       "<div id=\"93465e43-c498-4cb8-a5fd-f1c4a0a31e09\" style=\"height: 525px; width: 100%;\" class=\"plotly-graph-div\"></div><script type=\"text/javascript\">require([\"plotly\"], function(Plotly) { window.PLOTLYENV=window.PLOTLYENV || {};window.PLOTLYENV.BASE_URL=\"https://plot.ly\";\n",
       "        Plotly.plot(\n",
       "            '93465e43-c498-4cb8-a5fd-f1c4a0a31e09',\n",
       "            [{\"x\": [1, 2, 3], \"y\": [10, 5, 2], \"type\": \"scatter\", \"uid\": \"6f01483e-9aca-11e8-a134-6030d4660e22\"}, {\"x\": [2, 3, 4], \"xaxis\": \"x2\", \"y\": [4, 10, 6], \"yaxis\": \"y2\", \"type\": \"scatter\", \"uid\": \"6f02d37a-9aca-11e8-9a9d-6030d4660e22\"}],\n",
       "            {\"xaxis2\": {\"anchor\": \"y2\", \"domain\": [0.6, 0.9]}, \"yaxis2\": {\"anchor\": \"x2\", \"domain\": [0.5, 0.8]}},\n",
       "            {\"showLink\": true, \"linkText\": \"Export to plot.ly\"}\n",
       "        ).then(function () {return Plotly.addFrames('93465e43-c498-4cb8-a5fd-f1c4a0a31e09',{});}).then(function(){Plotly.animate('93465e43-c498-4cb8-a5fd-f1c4a0a31e09');})\n",
       "        });</script>"
      ],
      "text/vnd.plotly.v1+html": [
       "<div id=\"93465e43-c498-4cb8-a5fd-f1c4a0a31e09\" style=\"height: 525px; width: 100%;\" class=\"plotly-graph-div\"></div><script type=\"text/javascript\">require([\"plotly\"], function(Plotly) { window.PLOTLYENV=window.PLOTLYENV || {};window.PLOTLYENV.BASE_URL=\"https://plot.ly\";\n",
       "        Plotly.plot(\n",
       "            '93465e43-c498-4cb8-a5fd-f1c4a0a31e09',\n",
       "            [{\"x\": [1, 2, 3], \"y\": [10, 5, 2], \"type\": \"scatter\", \"uid\": \"6f01483e-9aca-11e8-a134-6030d4660e22\"}, {\"x\": [2, 3, 4], \"xaxis\": \"x2\", \"y\": [4, 10, 6], \"yaxis\": \"y2\", \"type\": \"scatter\", \"uid\": \"6f02d37a-9aca-11e8-9a9d-6030d4660e22\"}],\n",
       "            {\"xaxis2\": {\"anchor\": \"y2\", \"domain\": [0.6, 0.9]}, \"yaxis2\": {\"anchor\": \"x2\", \"domain\": [0.5, 0.8]}},\n",
       "            {\"showLink\": true, \"linkText\": \"Export to plot.ly\"}\n",
       "        ).then(function () {return Plotly.addFrames('93465e43-c498-4cb8-a5fd-f1c4a0a31e09',{});}).then(function(){Plotly.animate('93465e43-c498-4cb8-a5fd-f1c4a0a31e09');})\n",
       "        });</script>"
      ]
     },
     "metadata": {},
     "output_type": "display_data"
    }
   ],
   "source": [
    "fig = go.Figure(data=data, \n",
    "                layout=layout)\n",
    "\n",
    "offline.iplot(fig)"
   ]
  },
  {
   "cell_type": "markdown",
   "metadata": {},
   "source": [
    "**NewYork dataset**\n",
    "\n",
    "Data has been compiled from https://www.holiday-weather.com/new_york_city/averages/"
   ]
  },
  {
   "cell_type": "code",
   "execution_count": 7,
   "metadata": {},
   "outputs": [
    {
     "data": {
      "text/html": [
       "<div>\n",
       "<style scoped>\n",
       "    .dataframe tbody tr th:only-of-type {\n",
       "        vertical-align: middle;\n",
       "    }\n",
       "\n",
       "    .dataframe tbody tr th {\n",
       "        vertical-align: top;\n",
       "    }\n",
       "\n",
       "    .dataframe thead th {\n",
       "        text-align: right;\n",
       "    }\n",
       "</style>\n",
       "<table border=\"1\" class=\"dataframe\">\n",
       "  <thead>\n",
       "    <tr style=\"text-align: right;\">\n",
       "      <th></th>\n",
       "      <th>Months_name</th>\n",
       "      <th>NewYork_Average Temperature(Fahrenheit)</th>\n",
       "      <th>NewYork_Average_Rainfall(mm)</th>\n",
       "    </tr>\n",
       "  </thead>\n",
       "  <tbody>\n",
       "    <tr>\n",
       "      <th>0</th>\n",
       "      <td>January</td>\n",
       "      <td>36</td>\n",
       "      <td>85</td>\n",
       "    </tr>\n",
       "    <tr>\n",
       "      <th>1</th>\n",
       "      <td>February</td>\n",
       "      <td>36</td>\n",
       "      <td>57</td>\n",
       "    </tr>\n",
       "    <tr>\n",
       "      <th>2</th>\n",
       "      <td>March</td>\n",
       "      <td>39</td>\n",
       "      <td>90</td>\n",
       "    </tr>\n",
       "    <tr>\n",
       "      <th>3</th>\n",
       "      <td>April</td>\n",
       "      <td>52</td>\n",
       "      <td>96</td>\n",
       "    </tr>\n",
       "    <tr>\n",
       "      <th>4</th>\n",
       "      <td>May</td>\n",
       "      <td>61</td>\n",
       "      <td>114</td>\n",
       "    </tr>\n",
       "    <tr>\n",
       "      <th>5</th>\n",
       "      <td>June</td>\n",
       "      <td>72</td>\n",
       "      <td>98</td>\n",
       "    </tr>\n",
       "    <tr>\n",
       "      <th>6</th>\n",
       "      <td>July</td>\n",
       "      <td>77</td>\n",
       "      <td>101</td>\n",
       "    </tr>\n",
       "    <tr>\n",
       "      <th>7</th>\n",
       "      <td>August</td>\n",
       "      <td>75</td>\n",
       "      <td>87</td>\n",
       "    </tr>\n",
       "    <tr>\n",
       "      <th>8</th>\n",
       "      <td>September</td>\n",
       "      <td>68</td>\n",
       "      <td>104</td>\n",
       "    </tr>\n",
       "    <tr>\n",
       "      <th>9</th>\n",
       "      <td>October</td>\n",
       "      <td>57</td>\n",
       "      <td>94</td>\n",
       "    </tr>\n",
       "    <tr>\n",
       "      <th>10</th>\n",
       "      <td>November</td>\n",
       "      <td>48</td>\n",
       "      <td>69</td>\n",
       "    </tr>\n",
       "    <tr>\n",
       "      <th>11</th>\n",
       "      <td>December</td>\n",
       "      <td>48</td>\n",
       "      <td>85</td>\n",
       "    </tr>\n",
       "  </tbody>\n",
       "</table>\n",
       "</div>"
      ],
      "text/plain": [
       "   Months_name  NewYork_Average Temperature(Fahrenheit)  \\\n",
       "0      January                                       36   \n",
       "1     February                                       36   \n",
       "2        March                                       39   \n",
       "3        April                                       52   \n",
       "4          May                                       61   \n",
       "5         June                                       72   \n",
       "6         July                                       77   \n",
       "7       August                                       75   \n",
       "8    September                                       68   \n",
       "9      October                                       57   \n",
       "10    November                                       48   \n",
       "11    December                                       48   \n",
       "\n",
       "    NewYork_Average_Rainfall(mm)  \n",
       "0                             85  \n",
       "1                             57  \n",
       "2                             90  \n",
       "3                             96  \n",
       "4                            114  \n",
       "5                             98  \n",
       "6                            101  \n",
       "7                             87  \n",
       "8                            104  \n",
       "9                             94  \n",
       "10                            69  \n",
       "11                            85  "
      ]
     },
     "execution_count": 7,
     "metadata": {},
     "output_type": "execute_result"
    }
   ],
   "source": [
    "NewYork_data = pd.read_csv('./datasets/USA_Temperatures.csv')\n",
    "NewYork_data"
   ]
  },
  {
   "cell_type": "markdown",
   "metadata": {},
   "source": [
    "**The first trace shows the variation of Average Temperatures of NewYork over months**"
   ]
  },
  {
   "cell_type": "code",
   "execution_count": 8,
   "metadata": {},
   "outputs": [],
   "source": [
    "trace0 = go.Bar(x = NewYork_data['Months_name'],\n",
    "                y = NewYork_data['NewYork_Average Temperature(Fahrenheit)'],\n",
    "                \n",
    "                name = 'Variation of Temperatures of NewYorkCity over months'\n",
    "               )"
   ]
  },
  {
   "cell_type": "markdown",
   "metadata": {},
   "source": [
    "**The second trace shows the Average Rainfall of NewYork over months**\n",
    "\n",
    "This is mapped to xaxis2 and yaxis2 in the layout "
   ]
  },
  {
   "cell_type": "code",
   "execution_count": 9,
   "metadata": {},
   "outputs": [],
   "source": [
    "trace1 = go.Bar(x=NewYork_data['Months_name'],\n",
    "                y=NewYork_data['NewYork_Average_Rainfall(mm)'],\n",
    "              \n",
    "                xaxis='x2',\n",
    "                yaxis='y2',\n",
    "              \n",
    "                name='Variation of Rainfall of NewYorkCity over months'\n",
    "               )"
   ]
  },
  {
   "cell_type": "code",
   "execution_count": 10,
   "metadata": {},
   "outputs": [],
   "source": [
    "data = [trace0, trace1]"
   ]
  },
  {
   "cell_type": "markdown",
   "metadata": {},
   "source": [
    "**Define inset axes positions in the layout**\n",
    "\n",
    "The inset X axis begins from 4% of the plot width to 27%. The Y axis from 80% to 100% of the plot height"
   ]
  },
  {
   "cell_type": "code",
   "execution_count": 11,
   "metadata": {},
   "outputs": [],
   "source": [
    "layout = go.Layout(xaxis2 = dict(domain = [0.04, 0.27],\n",
    "                                 anchor ='y2'),\n",
    "                   \n",
    "                   yaxis2 = dict(\n",
    "                                 domain = [0.8, 1.0],\n",
    "                                 anchor = 'x2',\n",
    "                                ),\n",
    "                   autosize=False,\n",
    "    width=1000,\n",
    "    height=600,\n",
    "                  )"
   ]
  },
  {
   "cell_type": "markdown",
   "metadata": {},
   "source": [
    "**Plot the figure**\n",
    "\n",
    "The placement of the plots should ensure that it does not overlap with another plot and obscure it - as we have done here."
   ]
  },
  {
   "cell_type": "code",
   "execution_count": 12,
   "metadata": {},
   "outputs": [
    {
     "data": {
      "application/vnd.plotly.v1+json": {
       "data": [
        {
         "name": "Variation of Temperatures of NewYorkCity over months",
         "type": "bar",
         "uid": "6f267014-9aca-11e8-a42a-6030d4660e22",
         "x": [
          "January",
          "February",
          "March",
          "April",
          "May",
          "June",
          "July",
          "August",
          "September",
          "October",
          "November",
          "December"
         ],
         "y": [
          36,
          36,
          39,
          52,
          61,
          72,
          77,
          75,
          68,
          57,
          48,
          48
         ]
        },
        {
         "name": "Variation of Rainfall of NewYorkCity over months",
         "type": "bar",
         "uid": "6f26721c-9aca-11e8-b30d-6030d4660e22",
         "x": [
          "January",
          "February",
          "March",
          "April",
          "May",
          "June",
          "July",
          "August",
          "September",
          "October",
          "November",
          "December"
         ],
         "xaxis": "x2",
         "y": [
          85,
          57,
          90,
          96,
          114,
          98,
          101,
          87,
          104,
          94,
          69,
          85
         ],
         "yaxis": "y2"
        }
       ],
       "layout": {
        "autosize": false,
        "height": 600,
        "width": 1000,
        "xaxis2": {
         "anchor": "y2",
         "domain": [
          0.04,
          0.27
         ]
        },
        "yaxis2": {
         "anchor": "x2",
         "domain": [
          0.8,
          1
         ]
        }
       }
      },
      "text/html": [
       "<div id=\"b6bb9bcb-75be-4584-9fd6-3f1bff8c2a59\" style=\"height: 600px; width: 1000px;\" class=\"plotly-graph-div\"></div><script type=\"text/javascript\">require([\"plotly\"], function(Plotly) { window.PLOTLYENV=window.PLOTLYENV || {};window.PLOTLYENV.BASE_URL=\"https://plot.ly\";\n",
       "        Plotly.plot(\n",
       "            'b6bb9bcb-75be-4584-9fd6-3f1bff8c2a59',\n",
       "            [{\"name\": \"Variation of Temperatures of NewYorkCity over months\", \"x\": [\"January\", \"February\", \"March\", \"April\", \"May\", \"June\", \"July\", \"August\", \"September\", \"October\", \"November\", \"December\"], \"y\": [36.0, 36.0, 39.0, 52.0, 61.0, 72.0, 77.0, 75.0, 68.0, 57.0, 48.0, 48.0], \"type\": \"bar\", \"uid\": \"6f267014-9aca-11e8-a42a-6030d4660e22\"}, {\"name\": \"Variation of Rainfall of NewYorkCity over months\", \"x\": [\"January\", \"February\", \"March\", \"April\", \"May\", \"June\", \"July\", \"August\", \"September\", \"October\", \"November\", \"December\"], \"xaxis\": \"x2\", \"y\": [85.0, 57.0, 90.0, 96.0, 114.0, 98.0, 101.0, 87.0, 104.0, 94.0, 69.0, 85.0], \"yaxis\": \"y2\", \"type\": \"bar\", \"uid\": \"6f26721c-9aca-11e8-b30d-6030d4660e22\"}],\n",
       "            {\"autosize\": false, \"height\": 600, \"width\": 1000, \"xaxis2\": {\"anchor\": \"y2\", \"domain\": [0.04, 0.27]}, \"yaxis2\": {\"anchor\": \"x2\", \"domain\": [0.8, 1.0]}},\n",
       "            {\"showLink\": true, \"linkText\": \"Export to plot.ly\"}\n",
       "        ).then(function () {return Plotly.addFrames('b6bb9bcb-75be-4584-9fd6-3f1bff8c2a59',{});}).then(function(){Plotly.animate('b6bb9bcb-75be-4584-9fd6-3f1bff8c2a59');})\n",
       "        });</script>"
      ],
      "text/vnd.plotly.v1+html": [
       "<div id=\"b6bb9bcb-75be-4584-9fd6-3f1bff8c2a59\" style=\"height: 600px; width: 1000px;\" class=\"plotly-graph-div\"></div><script type=\"text/javascript\">require([\"plotly\"], function(Plotly) { window.PLOTLYENV=window.PLOTLYENV || {};window.PLOTLYENV.BASE_URL=\"https://plot.ly\";\n",
       "        Plotly.plot(\n",
       "            'b6bb9bcb-75be-4584-9fd6-3f1bff8c2a59',\n",
       "            [{\"name\": \"Variation of Temperatures of NewYorkCity over months\", \"x\": [\"January\", \"February\", \"March\", \"April\", \"May\", \"June\", \"July\", \"August\", \"September\", \"October\", \"November\", \"December\"], \"y\": [36.0, 36.0, 39.0, 52.0, 61.0, 72.0, 77.0, 75.0, 68.0, 57.0, 48.0, 48.0], \"type\": \"bar\", \"uid\": \"6f267014-9aca-11e8-a42a-6030d4660e22\"}, {\"name\": \"Variation of Rainfall of NewYorkCity over months\", \"x\": [\"January\", \"February\", \"March\", \"April\", \"May\", \"June\", \"July\", \"August\", \"September\", \"October\", \"November\", \"December\"], \"xaxis\": \"x2\", \"y\": [85.0, 57.0, 90.0, 96.0, 114.0, 98.0, 101.0, 87.0, 104.0, 94.0, 69.0, 85.0], \"yaxis\": \"y2\", \"type\": \"bar\", \"uid\": \"6f26721c-9aca-11e8-b30d-6030d4660e22\"}],\n",
       "            {\"autosize\": false, \"height\": 600, \"width\": 1000, \"xaxis2\": {\"anchor\": \"y2\", \"domain\": [0.04, 0.27]}, \"yaxis2\": {\"anchor\": \"x2\", \"domain\": [0.8, 1.0]}},\n",
       "            {\"showLink\": true, \"linkText\": \"Export to plot.ly\"}\n",
       "        ).then(function () {return Plotly.addFrames('b6bb9bcb-75be-4584-9fd6-3f1bff8c2a59',{});}).then(function(){Plotly.animate('b6bb9bcb-75be-4584-9fd6-3f1bff8c2a59');})\n",
       "        });</script>"
      ]
     },
     "metadata": {},
     "output_type": "display_data"
    }
   ],
   "source": [
    "fig = go.Figure(data=data, \n",
    "                layout=layout)\n",
    "\n",
    "offline.iplot(fig)"
   ]
  },
  {
   "cell_type": "markdown",
   "metadata": {},
   "source": [
    "# **Subplots**\n",
    "\n",
    "Given our flexibility in placing the axes of a plot, we can even generate multiple graphs in a figure if we're careful about how we position the individual plots"
   ]
  },
  {
   "cell_type": "markdown",
   "metadata": {},
   "source": [
    "**Define the layout**"
   ]
  },
  {
   "cell_type": "code",
   "execution_count": 13,
   "metadata": {},
   "outputs": [],
   "source": [
    "layout = go.Layout(xaxis = dict(domain = [0.0, 0.4]),\n",
    "                   \n",
    "                   xaxis2 = dict(domain = [0.6, 1.0]),\n",
    "                   \n",
    "                   yaxis2 = dict(overlaying='y',\n",
    "                                 anchor = 'free',\n",
    "                                 position = 0.6\n",
    "                                )\n",
    "\n",
    "                  )"
   ]
  },
  {
   "cell_type": "code",
   "execution_count": 14,
   "metadata": {},
   "outputs": [
    {
     "data": {
      "application/vnd.plotly.v1+json": {
       "data": [
        {
         "name": "Variation of Temperatures of NewYorkCity over months",
         "type": "bar",
         "uid": "6f33eb68-9aca-11e8-b39e-6030d4660e22",
         "x": [
          "January",
          "February",
          "March",
          "April",
          "May",
          "June",
          "July",
          "August",
          "September",
          "October",
          "November",
          "December"
         ],
         "y": [
          36,
          36,
          39,
          52,
          61,
          72,
          77,
          75,
          68,
          57,
          48,
          48
         ]
        },
        {
         "name": "Variation of Rainfall of NewYorkCity over months",
         "type": "bar",
         "uid": "6f33ed3e-9aca-11e8-b1d9-6030d4660e22",
         "x": [
          "January",
          "February",
          "March",
          "April",
          "May",
          "June",
          "July",
          "August",
          "September",
          "October",
          "November",
          "December"
         ],
         "xaxis": "x2",
         "y": [
          85,
          57,
          90,
          96,
          114,
          98,
          101,
          87,
          104,
          94,
          69,
          85
         ],
         "yaxis": "y2"
        }
       ],
       "layout": {
        "xaxis": {
         "domain": [
          0,
          0.4
         ]
        },
        "xaxis2": {
         "domain": [
          0.6,
          1
         ]
        },
        "yaxis2": {
         "anchor": "free",
         "overlaying": "y",
         "position": 0.6
        }
       }
      },
      "text/html": [
       "<div id=\"3e76e8fb-2706-4e3b-a33f-c9131bcffd51\" style=\"height: 525px; width: 100%;\" class=\"plotly-graph-div\"></div><script type=\"text/javascript\">require([\"plotly\"], function(Plotly) { window.PLOTLYENV=window.PLOTLYENV || {};window.PLOTLYENV.BASE_URL=\"https://plot.ly\";\n",
       "        Plotly.plot(\n",
       "            '3e76e8fb-2706-4e3b-a33f-c9131bcffd51',\n",
       "            [{\"name\": \"Variation of Temperatures of NewYorkCity over months\", \"x\": [\"January\", \"February\", \"March\", \"April\", \"May\", \"June\", \"July\", \"August\", \"September\", \"October\", \"November\", \"December\"], \"y\": [36.0, 36.0, 39.0, 52.0, 61.0, 72.0, 77.0, 75.0, 68.0, 57.0, 48.0, 48.0], \"type\": \"bar\", \"uid\": \"6f33eb68-9aca-11e8-b39e-6030d4660e22\"}, {\"name\": \"Variation of Rainfall of NewYorkCity over months\", \"x\": [\"January\", \"February\", \"March\", \"April\", \"May\", \"June\", \"July\", \"August\", \"September\", \"October\", \"November\", \"December\"], \"xaxis\": \"x2\", \"y\": [85.0, 57.0, 90.0, 96.0, 114.0, 98.0, 101.0, 87.0, 104.0, 94.0, 69.0, 85.0], \"yaxis\": \"y2\", \"type\": \"bar\", \"uid\": \"6f33ed3e-9aca-11e8-b1d9-6030d4660e22\"}],\n",
       "            {\"xaxis\": {\"domain\": [0.0, 0.4]}, \"xaxis2\": {\"domain\": [0.6, 1.0]}, \"yaxis2\": {\"anchor\": \"free\", \"overlaying\": \"y\", \"position\": 0.6}},\n",
       "            {\"showLink\": true, \"linkText\": \"Export to plot.ly\"}\n",
       "        ).then(function () {return Plotly.addFrames('3e76e8fb-2706-4e3b-a33f-c9131bcffd51',{});}).then(function(){Plotly.animate('3e76e8fb-2706-4e3b-a33f-c9131bcffd51');})\n",
       "        });</script>"
      ],
      "text/vnd.plotly.v1+html": [
       "<div id=\"3e76e8fb-2706-4e3b-a33f-c9131bcffd51\" style=\"height: 525px; width: 100%;\" class=\"plotly-graph-div\"></div><script type=\"text/javascript\">require([\"plotly\"], function(Plotly) { window.PLOTLYENV=window.PLOTLYENV || {};window.PLOTLYENV.BASE_URL=\"https://plot.ly\";\n",
       "        Plotly.plot(\n",
       "            '3e76e8fb-2706-4e3b-a33f-c9131bcffd51',\n",
       "            [{\"name\": \"Variation of Temperatures of NewYorkCity over months\", \"x\": [\"January\", \"February\", \"March\", \"April\", \"May\", \"June\", \"July\", \"August\", \"September\", \"October\", \"November\", \"December\"], \"y\": [36.0, 36.0, 39.0, 52.0, 61.0, 72.0, 77.0, 75.0, 68.0, 57.0, 48.0, 48.0], \"type\": \"bar\", \"uid\": \"6f33eb68-9aca-11e8-b39e-6030d4660e22\"}, {\"name\": \"Variation of Rainfall of NewYorkCity over months\", \"x\": [\"January\", \"February\", \"March\", \"April\", \"May\", \"June\", \"July\", \"August\", \"September\", \"October\", \"November\", \"December\"], \"xaxis\": \"x2\", \"y\": [85.0, 57.0, 90.0, 96.0, 114.0, 98.0, 101.0, 87.0, 104.0, 94.0, 69.0, 85.0], \"yaxis\": \"y2\", \"type\": \"bar\", \"uid\": \"6f33ed3e-9aca-11e8-b1d9-6030d4660e22\"}],\n",
       "            {\"xaxis\": {\"domain\": [0.0, 0.4]}, \"xaxis2\": {\"domain\": [0.6, 1.0]}, \"yaxis2\": {\"anchor\": \"free\", \"overlaying\": \"y\", \"position\": 0.6}},\n",
       "            {\"showLink\": true, \"linkText\": \"Export to plot.ly\"}\n",
       "        ).then(function () {return Plotly.addFrames('3e76e8fb-2706-4e3b-a33f-c9131bcffd51',{});}).then(function(){Plotly.animate('3e76e8fb-2706-4e3b-a33f-c9131bcffd51');})\n",
       "        });</script>"
      ]
     },
     "metadata": {},
     "output_type": "display_data"
    }
   ],
   "source": [
    "fig = go.Figure(data=data, \n",
    "                layout=layout)\n",
    "\n",
    "offline.iplot(fig)"
   ]
  },
  {
   "cell_type": "code",
   "execution_count": null,
   "metadata": {},
   "outputs": [],
   "source": []
  }
 ],
 "metadata": {
  "kernelspec": {
   "display_name": "Python 3",
   "language": "python",
   "name": "python3"
  },
  "language_info": {
   "codemirror_mode": {
    "name": "ipython",
    "version": 3
   },
   "file_extension": ".py",
   "mimetype": "text/x-python",
   "name": "python",
   "nbconvert_exporter": "python",
   "pygments_lexer": "ipython3",
   "version": "3.6.5"
  }
 },
 "nbformat": 4,
 "nbformat_minor": 2
}
