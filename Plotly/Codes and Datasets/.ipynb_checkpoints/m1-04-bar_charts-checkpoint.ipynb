{
 "cells": [
  {
   "cell_type": "code",
   "execution_count": 1,
   "metadata": {},
   "outputs": [],
   "source": [
    "import plotly.graph_objs as go"
   ]
  },
  {
   "cell_type": "code",
   "execution_count": 2,
   "metadata": {},
   "outputs": [
    {
     "data": {
      "text/html": [
       "<script>requirejs.config({paths: { 'plotly': ['https://cdn.plot.ly/plotly-latest.min']},});if(!window.Plotly) {{require(['plotly'],function(plotly) {window.Plotly=plotly;});}}</script>"
      ],
      "text/vnd.plotly.v1+html": [
       "<script>requirejs.config({paths: { 'plotly': ['https://cdn.plot.ly/plotly-latest.min']},});if(!window.Plotly) {{require(['plotly'],function(plotly) {window.Plotly=plotly;});}}</script>"
      ]
     },
     "metadata": {},
     "output_type": "display_data"
    }
   ],
   "source": [
    "import plotly.offline as offline\n",
    "\n",
    "offline.init_notebook_mode(connected=True)"
   ]
  },
  {
   "cell_type": "markdown",
   "metadata": {},
   "source": [
    "**Define the data for our plot**\n",
    "\n",
    "Here, we use the Bar graph object to set the X and Y values. The data list is populated with the single trace which is the Bar Chart.\n",
    "\n",
    "Here we will visualize the sales of iPhone-6s for three months of a year in a Retail mobile shop"
   ]
  },
  {
   "cell_type": "code",
   "execution_count": 3,
   "metadata": {},
   "outputs": [],
   "source": [
    "data = [go.Bar(x=['January', 'February', 'March',],\n",
    "               y=[38, 26, 31 ])]"
   ]
  },
  {
   "cell_type": "code",
   "execution_count": 4,
   "metadata": {},
   "outputs": [
    {
     "data": {
      "application/vnd.plotly.v1+json": {
       "data": [
        {
         "type": "bar",
         "uid": "1d8ea664-9a29-11e8-a60a-6030d4660e22",
         "x": [
          "January",
          "February",
          "March"
         ],
         "y": [
          38,
          26,
          31
         ]
        }
       ],
       "layout": {}
      },
      "text/html": [
       "<div id=\"4df4b873-b364-416f-b35d-76a42a608019\" style=\"height: 525px; width: 100%;\" class=\"plotly-graph-div\"></div><script type=\"text/javascript\">require([\"plotly\"], function(Plotly) { window.PLOTLYENV=window.PLOTLYENV || {};window.PLOTLYENV.BASE_URL=\"https://plot.ly\";Plotly.newPlot(\"4df4b873-b364-416f-b35d-76a42a608019\", [{\"x\": [\"January\", \"February\", \"March\"], \"y\": [38, 26, 31], \"type\": \"bar\", \"uid\": \"1dbc8e8a-9a29-11e8-a1c9-6030d4660e22\"}], {}, {\"showLink\": true, \"linkText\": \"Export to plot.ly\"})});</script>"
      ],
      "text/vnd.plotly.v1+html": [
       "<div id=\"4df4b873-b364-416f-b35d-76a42a608019\" style=\"height: 525px; width: 100%;\" class=\"plotly-graph-div\"></div><script type=\"text/javascript\">require([\"plotly\"], function(Plotly) { window.PLOTLYENV=window.PLOTLYENV || {};window.PLOTLYENV.BASE_URL=\"https://plot.ly\";Plotly.newPlot(\"4df4b873-b364-416f-b35d-76a42a608019\", [{\"x\": [\"January\", \"February\", \"March\"], \"y\": [38, 26, 31], \"type\": \"bar\", \"uid\": \"1dbc8e8a-9a29-11e8-a1c9-6030d4660e22\"}], {}, {\"showLink\": true, \"linkText\": \"Export to plot.ly\"})});</script>"
      ]
     },
     "metadata": {},
     "output_type": "display_data"
    }
   ],
   "source": [
    "offline.iplot(data)"
   ]
  },
  {
   "cell_type": "markdown",
   "metadata": {},
   "source": [
    "**Grouped bars**"
   ]
  },
  {
   "cell_type": "markdown",
   "metadata": {},
   "source": [
    "We have the sales of iPhone-6s and Honor 10 for three months of a year in the retail mobile shop\n",
    "\n",
    "We would like to visualize the sales of iPhone-6s and Honor 10 for three Months of year side by side. For this, we created a grouped bar graph."
   ]
  },
  {
   "cell_type": "code",
   "execution_count": 5,
   "metadata": {},
   "outputs": [],
   "source": [
    "trace1 = go.Bar(x=['January', 'February', 'March'],\n",
    "                y=[38, 26, 31],\n",
    "                name='Sales per iPhone-6s'\n",
    ")"
   ]
  },
  {
   "cell_type": "code",
   "execution_count": 6,
   "metadata": {},
   "outputs": [],
   "source": [
    "trace2 = go.Bar(x=['January', 'February', 'March'],\n",
    "                y=[55, 47, 51],\n",
    "                name='Sales per Honor-10'\n",
    ")"
   ]
  },
  {
   "cell_type": "code",
   "execution_count": 7,
   "metadata": {},
   "outputs": [],
   "source": [
    "data = [trace1, trace2]"
   ]
  },
  {
   "cell_type": "markdown",
   "metadata": {},
   "source": [
    "**Define the layout**\n",
    "\n",
    "Here we need to set barmode to 'group' in order to view a grouped bar graph"
   ]
  },
  {
   "cell_type": "code",
   "execution_count": 8,
   "metadata": {},
   "outputs": [],
   "source": [
    "layout = go.Layout(barmode = 'group')"
   ]
  },
  {
   "cell_type": "markdown",
   "metadata": {},
   "source": [
    "#### Plot the graph\n",
    "Hover over each of the bars to view the corresponding data. A legend is also automatically generated."
   ]
  },
  {
   "cell_type": "code",
   "execution_count": 9,
   "metadata": {},
   "outputs": [
    {
     "data": {
      "application/vnd.plotly.v1+json": {
       "data": [
        {
         "name": "Sales per iPhone-6s",
         "type": "bar",
         "uid": "1dd02530-9a29-11e8-b44d-6030d4660e22",
         "x": [
          "January",
          "February",
          "March"
         ],
         "y": [
          38,
          26,
          31
         ]
        },
        {
         "name": "Sales per Honor-10",
         "type": "bar",
         "uid": "1dd026e8-9a29-11e8-b03b-6030d4660e22",
         "x": [
          "January",
          "February",
          "March"
         ],
         "y": [
          55,
          47,
          51
         ]
        }
       ],
       "layout": {
        "barmode": "group"
       }
      },
      "text/html": [
       "<div id=\"b346b5e4-419a-43e4-8180-da5ed3f8f0f9\" style=\"height: 525px; width: 100%;\" class=\"plotly-graph-div\"></div><script type=\"text/javascript\">require([\"plotly\"], function(Plotly) { window.PLOTLYENV=window.PLOTLYENV || {};window.PLOTLYENV.BASE_URL=\"https://plot.ly\";\n",
       "        Plotly.plot(\n",
       "            'b346b5e4-419a-43e4-8180-da5ed3f8f0f9',\n",
       "            [{\"name\": \"Sales per iPhone-6s\", \"x\": [\"January\", \"February\", \"March\"], \"y\": [38, 26, 31], \"type\": \"bar\", \"uid\": \"1dd02530-9a29-11e8-b44d-6030d4660e22\"}, {\"name\": \"Sales per Honor-10\", \"x\": [\"January\", \"February\", \"March\"], \"y\": [55, 47, 51], \"type\": \"bar\", \"uid\": \"1dd026e8-9a29-11e8-b03b-6030d4660e22\"}],\n",
       "            {\"barmode\": \"group\"},\n",
       "            {\"showLink\": true, \"linkText\": \"Export to plot.ly\"}\n",
       "        ).then(function () {return Plotly.addFrames('b346b5e4-419a-43e4-8180-da5ed3f8f0f9',{});}).then(function(){Plotly.animate('b346b5e4-419a-43e4-8180-da5ed3f8f0f9');})\n",
       "        });</script>"
      ],
      "text/vnd.plotly.v1+html": [
       "<div id=\"b346b5e4-419a-43e4-8180-da5ed3f8f0f9\" style=\"height: 525px; width: 100%;\" class=\"plotly-graph-div\"></div><script type=\"text/javascript\">require([\"plotly\"], function(Plotly) { window.PLOTLYENV=window.PLOTLYENV || {};window.PLOTLYENV.BASE_URL=\"https://plot.ly\";\n",
       "        Plotly.plot(\n",
       "            'b346b5e4-419a-43e4-8180-da5ed3f8f0f9',\n",
       "            [{\"name\": \"Sales per iPhone-6s\", \"x\": [\"January\", \"February\", \"March\"], \"y\": [38, 26, 31], \"type\": \"bar\", \"uid\": \"1dd02530-9a29-11e8-b44d-6030d4660e22\"}, {\"name\": \"Sales per Honor-10\", \"x\": [\"January\", \"February\", \"March\"], \"y\": [55, 47, 51], \"type\": \"bar\", \"uid\": \"1dd026e8-9a29-11e8-b03b-6030d4660e22\"}],\n",
       "            {\"barmode\": \"group\"},\n",
       "            {\"showLink\": true, \"linkText\": \"Export to plot.ly\"}\n",
       "        ).then(function () {return Plotly.addFrames('b346b5e4-419a-43e4-8180-da5ed3f8f0f9',{});}).then(function(){Plotly.animate('b346b5e4-419a-43e4-8180-da5ed3f8f0f9');})\n",
       "        });</script>"
      ]
     },
     "metadata": {},
     "output_type": "display_data"
    }
   ],
   "source": [
    "fig = go.Figure(data=data, \n",
    "                layout=layout)\n",
    "\n",
    "offline.iplot(fig)"
   ]
  },
  {
   "cell_type": "markdown",
   "metadata": {},
   "source": [
    "**Stacked Bar Chart**\n",
    "\n",
    "Instead of having the two traces side by side, the bars from the traces are stacked to show a cumulative value."
   ]
  },
  {
   "cell_type": "code",
   "execution_count": 10,
   "metadata": {},
   "outputs": [],
   "source": [
    "trace1 = go.Bar(x=['January', 'February', 'March'],\n",
    "                y=[38, 26, 31],\n",
    "                name='Sales for iPhone-6s')\n",
    "\n",
    "trace2 = go.Bar(x=['January', 'February', 'March'],\n",
    "                y=[55, 47, 51],\n",
    "                name='Sales for Honor-10'\n",
    ")\n",
    "\n",
    "data = [trace1, trace2]"
   ]
  },
  {
   "cell_type": "code",
   "execution_count": 11,
   "metadata": {},
   "outputs": [],
   "source": [
    "layout = go.Layout(barmode = 'stack')"
   ]
  },
  {
   "cell_type": "code",
   "execution_count": 12,
   "metadata": {},
   "outputs": [
    {
     "data": {
      "application/vnd.plotly.v1+json": {
       "data": [
        {
         "name": "Sales for iPhone-6s",
         "type": "bar",
         "uid": "1de04eba-9a29-11e8-a520-6030d4660e22",
         "x": [
          "January",
          "February",
          "March"
         ],
         "y": [
          38,
          26,
          31
         ]
        },
        {
         "name": "Sales for Honor-10",
         "type": "bar",
         "uid": "1de05074-9a29-11e8-b484-6030d4660e22",
         "x": [
          "January",
          "February",
          "March"
         ],
         "y": [
          55,
          47,
          51
         ]
        }
       ],
       "layout": {
        "barmode": "stack"
       }
      },
      "text/html": [
       "<div id=\"05d5c543-ec41-4029-b863-056275db4859\" style=\"height: 525px; width: 100%;\" class=\"plotly-graph-div\"></div><script type=\"text/javascript\">require([\"plotly\"], function(Plotly) { window.PLOTLYENV=window.PLOTLYENV || {};window.PLOTLYENV.BASE_URL=\"https://plot.ly\";\n",
       "        Plotly.plot(\n",
       "            '05d5c543-ec41-4029-b863-056275db4859',\n",
       "            [{\"name\": \"Sales for iPhone-6s\", \"x\": [\"January\", \"February\", \"March\"], \"y\": [38, 26, 31], \"type\": \"bar\", \"uid\": \"1de04eba-9a29-11e8-a520-6030d4660e22\"}, {\"name\": \"Sales for Honor-10\", \"x\": [\"January\", \"February\", \"March\"], \"y\": [55, 47, 51], \"type\": \"bar\", \"uid\": \"1de05074-9a29-11e8-b484-6030d4660e22\"}],\n",
       "            {\"barmode\": \"stack\"},\n",
       "            {\"showLink\": true, \"linkText\": \"Export to plot.ly\"}\n",
       "        ).then(function () {return Plotly.addFrames('05d5c543-ec41-4029-b863-056275db4859',{});}).then(function(){Plotly.animate('05d5c543-ec41-4029-b863-056275db4859');})\n",
       "        });</script>"
      ],
      "text/vnd.plotly.v1+html": [
       "<div id=\"05d5c543-ec41-4029-b863-056275db4859\" style=\"height: 525px; width: 100%;\" class=\"plotly-graph-div\"></div><script type=\"text/javascript\">require([\"plotly\"], function(Plotly) { window.PLOTLYENV=window.PLOTLYENV || {};window.PLOTLYENV.BASE_URL=\"https://plot.ly\";\n",
       "        Plotly.plot(\n",
       "            '05d5c543-ec41-4029-b863-056275db4859',\n",
       "            [{\"name\": \"Sales for iPhone-6s\", \"x\": [\"January\", \"February\", \"March\"], \"y\": [38, 26, 31], \"type\": \"bar\", \"uid\": \"1de04eba-9a29-11e8-a520-6030d4660e22\"}, {\"name\": \"Sales for Honor-10\", \"x\": [\"January\", \"February\", \"March\"], \"y\": [55, 47, 51], \"type\": \"bar\", \"uid\": \"1de05074-9a29-11e8-b484-6030d4660e22\"}],\n",
       "            {\"barmode\": \"stack\"},\n",
       "            {\"showLink\": true, \"linkText\": \"Export to plot.ly\"}\n",
       "        ).then(function () {return Plotly.addFrames('05d5c543-ec41-4029-b863-056275db4859',{});}).then(function(){Plotly.animate('05d5c543-ec41-4029-b863-056275db4859');})\n",
       "        });</script>"
      ]
     },
     "metadata": {},
     "output_type": "display_data"
    }
   ],
   "source": [
    "fig = go.Figure(data = data, \n",
    "                layout = layout)\n",
    "\n",
    "offline.iplot(fig)"
   ]
  },
  {
   "cell_type": "markdown",
   "metadata": {},
   "source": [
    "**Customising the Bar Graph**\n",
    "\n",
    "We can adjust the color, width of the bars and add text labels"
   ]
  },
  {
   "cell_type": "markdown",
   "metadata": {},
   "source": [
    "**Define the new trace**\n",
    "\n",
    "Aside from the bars which we drew at first, we configure the following:\n",
    "\n",
    "* The width of each bar (in axis units). Can either be a list (where the widths are picked in rotation) or a single number (which applies to all bars)\n",
    "* The color of each bar in the trace (can again be a number or a list)\n",
    "* The text associated with each bar (set to the y value for the order quantity)\n",
    "* The position of the text (can be either 'inside', 'outside', 'auto' or 'none'). The available options for textposition will vary according to the object being plotted. These are the options for Bar"
   ]
  },
  {
   "cell_type": "code",
   "execution_count": 13,
   "metadata": {},
   "outputs": [],
   "source": [
    "x = ['January', 'February', 'March']\n",
    "\n",
    "y = [38, 26, 31]"
   ]
  },
  {
   "cell_type": "code",
   "execution_count": 14,
   "metadata": {},
   "outputs": [],
   "source": [
    "trace = go.Bar(x = x,\n",
    "               y = y,\n",
    "               \n",
    "               width = [0.7, 1, 0.9],\n",
    "               \n",
    "               marker = dict(color = ['blue', 'green', 'grey']),\n",
    "               \n",
    "               text = y,\n",
    "               textposition = 'outside'\n",
    ")"
   ]
  },
  {
   "cell_type": "code",
   "execution_count": 15,
   "metadata": {},
   "outputs": [],
   "source": [
    "data = [trace]"
   ]
  },
  {
   "cell_type": "markdown",
   "metadata": {},
   "source": [
    "**Define the layout**\n",
    "\n",
    "We add a few more customizations here:\n",
    "\n",
    "* We set the font family and font size for the title\n",
    "* We angle the tick labels on the X axis"
   ]
  },
  {
   "cell_type": "code",
   "execution_count": 16,
   "metadata": {},
   "outputs": [],
   "source": [
    "layout = go.Layout(title='Variation of iPhone-6s sales',\n",
    "                   \n",
    "                   titlefont = dict(family = 'Arial', size = 20),\n",
    "                   \n",
    "                   xaxis = dict(tickangle = 25))"
   ]
  },
  {
   "cell_type": "code",
   "execution_count": 17,
   "metadata": {},
   "outputs": [
    {
     "data": {
      "application/vnd.plotly.v1+json": {
       "data": [
        {
         "marker": {
          "color": [
           "blue",
           "green",
           "grey"
          ]
         },
         "text": [
          "38",
          "26",
          "31"
         ],
         "textposition": "outside",
         "type": "bar",
         "uid": "1df2462e-9a29-11e8-b53b-6030d4660e22",
         "width": [
          0.7,
          1,
          0.9
         ],
         "x": [
          "January",
          "February",
          "March"
         ],
         "y": [
          38,
          26,
          31
         ]
        }
       ],
       "layout": {
        "title": "Variation of iPhone-6s sales",
        "titlefont": {
         "family": "Arial",
         "size": 20
        },
        "xaxis": {
         "tickangle": 25
        }
       }
      },
      "text/html": [
       "<div id=\"99e54171-168a-4f5f-aa60-5c9c92f8a3aa\" style=\"height: 525px; width: 100%;\" class=\"plotly-graph-div\"></div><script type=\"text/javascript\">require([\"plotly\"], function(Plotly) { window.PLOTLYENV=window.PLOTLYENV || {};window.PLOTLYENV.BASE_URL=\"https://plot.ly\";\n",
       "        Plotly.plot(\n",
       "            '99e54171-168a-4f5f-aa60-5c9c92f8a3aa',\n",
       "            [{\"marker\": {\"color\": [\"blue\", \"green\", \"grey\"]}, \"text\": [\"38\", \"26\", \"31\"], \"textposition\": \"outside\", \"width\": [0.7, 1, 0.9], \"x\": [\"January\", \"February\", \"March\"], \"y\": [38, 26, 31], \"type\": \"bar\", \"uid\": \"1df2462e-9a29-11e8-b53b-6030d4660e22\"}],\n",
       "            {\"title\": \"Variation of iPhone-6s sales\", \"titlefont\": {\"family\": \"Arial\", \"size\": 20}, \"xaxis\": {\"tickangle\": 25}},\n",
       "            {\"showLink\": true, \"linkText\": \"Export to plot.ly\"}\n",
       "        ).then(function () {return Plotly.addFrames('99e54171-168a-4f5f-aa60-5c9c92f8a3aa',{});}).then(function(){Plotly.animate('99e54171-168a-4f5f-aa60-5c9c92f8a3aa');})\n",
       "        });</script>"
      ],
      "text/vnd.plotly.v1+html": [
       "<div id=\"99e54171-168a-4f5f-aa60-5c9c92f8a3aa\" style=\"height: 525px; width: 100%;\" class=\"plotly-graph-div\"></div><script type=\"text/javascript\">require([\"plotly\"], function(Plotly) { window.PLOTLYENV=window.PLOTLYENV || {};window.PLOTLYENV.BASE_URL=\"https://plot.ly\";\n",
       "        Plotly.plot(\n",
       "            '99e54171-168a-4f5f-aa60-5c9c92f8a3aa',\n",
       "            [{\"marker\": {\"color\": [\"blue\", \"green\", \"grey\"]}, \"text\": [\"38\", \"26\", \"31\"], \"textposition\": \"outside\", \"width\": [0.7, 1, 0.9], \"x\": [\"January\", \"February\", \"March\"], \"y\": [38, 26, 31], \"type\": \"bar\", \"uid\": \"1df2462e-9a29-11e8-b53b-6030d4660e22\"}],\n",
       "            {\"title\": \"Variation of iPhone-6s sales\", \"titlefont\": {\"family\": \"Arial\", \"size\": 20}, \"xaxis\": {\"tickangle\": 25}},\n",
       "            {\"showLink\": true, \"linkText\": \"Export to plot.ly\"}\n",
       "        ).then(function () {return Plotly.addFrames('99e54171-168a-4f5f-aa60-5c9c92f8a3aa',{});}).then(function(){Plotly.animate('99e54171-168a-4f5f-aa60-5c9c92f8a3aa');})\n",
       "        });</script>"
      ]
     },
     "metadata": {},
     "output_type": "display_data"
    }
   ],
   "source": [
    "fig = go.Figure(data = data, \n",
    "                layout = layout)\n",
    "\n",
    "offline.iplot(fig)"
   ]
  },
  {
   "cell_type": "code",
   "execution_count": null,
   "metadata": {},
   "outputs": [],
   "source": []
  }
 ],
 "metadata": {
  "kernelspec": {
   "display_name": "Python 3",
   "language": "python",
   "name": "python3"
  },
  "language_info": {
   "codemirror_mode": {
    "name": "ipython",
    "version": 3
   },
   "file_extension": ".py",
   "mimetype": "text/x-python",
   "name": "python",
   "nbconvert_exporter": "python",
   "pygments_lexer": "ipython3",
   "version": "3.6.5"
  }
 },
 "nbformat": 4,
 "nbformat_minor": 2
}
