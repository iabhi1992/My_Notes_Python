{
 "cells": [
  {
   "cell_type": "code",
   "execution_count": 1,
   "metadata": {},
   "outputs": [
    {
     "data": {
      "text/html": [
       "<script>requirejs.config({paths: { 'plotly': ['https://cdn.plot.ly/plotly-latest.min']},});if(!window.Plotly) {{require(['plotly'],function(plotly) {window.Plotly=plotly;});}}</script>"
      ],
      "text/vnd.plotly.v1+html": [
       "<script>requirejs.config({paths: { 'plotly': ['https://cdn.plot.ly/plotly-latest.min']},});if(!window.Plotly) {{require(['plotly'],function(plotly) {window.Plotly=plotly;});}}</script>"
      ]
     },
     "metadata": {},
     "output_type": "display_data"
    }
   ],
   "source": [
    "import plotly.plotly as py\n",
    "from plotly import graph_objs as go\n",
    "import plotly.offline as offline\n",
    "\n",
    "offline.init_notebook_mode(connected=True)"
   ]
  },
  {
   "cell_type": "markdown",
   "metadata": {},
   "source": [
    "**Load the data**\n",
    "\n",
    "Consider an recruitment process which has been done by different phases.\n",
    "\n",
    "\n",
    "As these steps can only be followed in sequence, the number of students who get to a particular phase are always a subset of those who entered the previous phase."
   ]
  },
  {
   "cell_type": "markdown",
   "metadata": {},
   "source": [
    "**import a csv file of recruitment process**"
   ]
  },
  {
   "cell_type": "code",
   "execution_count": 2,
   "metadata": {},
   "outputs": [
    {
     "data": {
      "text/html": [
       "<div>\n",
       "<style scoped>\n",
       "    .dataframe tbody tr th:only-of-type {\n",
       "        vertical-align: middle;\n",
       "    }\n",
       "\n",
       "    .dataframe tbody tr th {\n",
       "        vertical-align: top;\n",
       "    }\n",
       "\n",
       "    .dataframe thead th {\n",
       "        text-align: right;\n",
       "    }\n",
       "</style>\n",
       "<table border=\"1\" class=\"dataframe\">\n",
       "  <thead>\n",
       "    <tr style=\"text-align: right;\">\n",
       "      <th></th>\n",
       "      <th>Phases</th>\n",
       "      <th>Values</th>\n",
       "    </tr>\n",
       "  </thead>\n",
       "  <tbody>\n",
       "    <tr>\n",
       "      <th>0</th>\n",
       "      <td>Students applied</td>\n",
       "      <td>122567</td>\n",
       "    </tr>\n",
       "    <tr>\n",
       "      <th>1</th>\n",
       "      <td>students attended</td>\n",
       "      <td>110282</td>\n",
       "    </tr>\n",
       "    <tr>\n",
       "      <th>2</th>\n",
       "      <td>Selected candidates for group discussion</td>\n",
       "      <td>60000</td>\n",
       "    </tr>\n",
       "    <tr>\n",
       "      <th>3</th>\n",
       "      <td>Selected candidates for interview</td>\n",
       "      <td>50000</td>\n",
       "    </tr>\n",
       "    <tr>\n",
       "      <th>4</th>\n",
       "      <td>Selected candidates for medical</td>\n",
       "      <td>45000</td>\n",
       "    </tr>\n",
       "    <tr>\n",
       "      <th>5</th>\n",
       "      <td>Selected candidates for job</td>\n",
       "      <td>42500</td>\n",
       "    </tr>\n",
       "  </tbody>\n",
       "</table>\n",
       "</div>"
      ],
      "text/plain": [
       "                                     Phases  Values\n",
       "0                          Students applied  122567\n",
       "1                         students attended  110282\n",
       "2  Selected candidates for group discussion   60000\n",
       "3         Selected candidates for interview   50000\n",
       "4           Selected candidates for medical   45000\n",
       "5               Selected candidates for job   42500"
      ]
     },
     "execution_count": 2,
     "metadata": {},
     "output_type": "execute_result"
    }
   ],
   "source": [
    "import pandas as pd\n",
    "\n",
    "data_table = pd.read_csv('datasets/recruitment.csv')\n",
    "data_table"
   ]
  },
  {
   "cell_type": "markdown",
   "metadata": {},
   "source": [
    "**Store the phases and values for each phase in lists**\n",
    "\n",
    "These will be referenced frequently later on"
   ]
  },
  {
   "cell_type": "code",
   "execution_count": 3,
   "metadata": {},
   "outputs": [],
   "source": [
    "Phases = data_table['Phases']\n",
    "\n",
    "Values = data_table['Values']"
   ]
  },
  {
   "cell_type": "markdown",
   "metadata": {},
   "source": [
    "**Set the colors to use in the funnel chart**\n",
    "\n",
    "Define colors which will be used to represent the phases in the funnel chart"
   ]
  },
  {
   "cell_type": "code",
   "execution_count": 4,
   "metadata": {},
   "outputs": [],
   "source": [
    "colors = ['violet', 'Red', 'Blue', 'Maroon', 'Silver', 'Green']"
   ]
  },
  {
   "cell_type": "markdown",
   "metadata": {},
   "source": [
    "**Store the number of phases in a variable and define the max funnel width**\n",
    "\n",
    "The number of phases will be used frequently, so we store it in a variable. The max width for the funnel will be 200 pixels.\n",
    "\n",
    "A funnel section will be drawn using Plotly shapes, in the shape of a Rectangle or Isosceles Trapezoid depending on the value of the next phase. The phase having maximum value will have the width equal to the plot."
   ]
  },
  {
   "cell_type": "code",
   "execution_count": 5,
   "metadata": {},
   "outputs": [],
   "source": [
    "num_phases = len(Phases)\n",
    "\n",
    "plot_width = 200"
   ]
  },
  {
   "cell_type": "markdown",
   "metadata": {},
   "source": [
    "**Set the height for each funnel section and the gap in between**\n",
    "\n",
    "Each section will be 120 pixels high with a 20 pixel gap in between"
   ]
  },
  {
   "cell_type": "code",
   "execution_count": 6,
   "metadata": {},
   "outputs": [],
   "source": [
    "section_height = 120\n",
    "\n",
    "section_gap = 20"
   ]
  },
  {
   "cell_type": "markdown",
   "metadata": {},
   "source": [
    "**Define the widths for each section in the funnel chart**\n",
    "\n",
    "The width of the section represents the value for each phase (the number of students in that phase) the height is constant for each section, but the width varies.\n",
    "\n",
    "Here, we set the width of each funnel section relative to the plot width"
   ]
  },
  {
   "cell_type": "code",
   "execution_count": 7,
   "metadata": {},
   "outputs": [
    {
     "data": {
      "text/plain": [
       "[200, 179, 97, 81, 73, 69]"
      ]
     },
     "execution_count": 7,
     "metadata": {},
     "output_type": "execute_result"
    }
   ],
   "source": [
    "unit_width = plot_width / max(Values)\n",
    "\n",
    "phase_widths = [int(value * unit_width) for value in Values]\n",
    "\n",
    "phase_widths"
   ]
  },
  {
   "cell_type": "markdown",
   "metadata": {},
   "source": [
    "**Get the plot height**\n",
    "\n",
    "The plot height depends on the number of sections - equal to the sum of the heights of each section plus the total gaps between the sections.\n",
    "\n",
    "The number of gaps will be one less than the number of sections."
   ]
  },
  {
   "cell_type": "code",
   "execution_count": 8,
   "metadata": {},
   "outputs": [
    {
     "data": {
      "text/plain": [
       "820"
      ]
     },
     "execution_count": 8,
     "metadata": {},
     "output_type": "execute_result"
    }
   ],
   "source": [
    "height = section_height * num_phases + section_gap * (num_phases - 1)\n",
    "height"
   ]
  },
  {
   "cell_type": "markdown",
   "metadata": {},
   "source": [
    "**Generate the points for the first section in the funnel**\n",
    "\n",
    "Consider the X axis centered at 0. The funnel chart for the first (top) section should have a width representing that phase at the top (phase_widths[0]) and should taper to the width of the next phase (phase_width[1]) at the bottom.\n",
    "\n",
    "The height of the section is fixed (150), so the height ranges from the current height (height) at the top to (height - section_height) at the bottom."
   ]
  },
  {
   "cell_type": "code",
   "execution_count": 9,
   "metadata": {},
   "outputs": [
    {
     "data": {
      "text/plain": [
       "[100.0, 820, 89.5, 700]"
      ]
     },
     "execution_count": 9,
     "metadata": {},
     "output_type": "execute_result"
    }
   ],
   "source": [
    "points = points = [phase_widths[0] / 2, height, phase_widths[1] / 2, height - section_height]\n",
    "points"
   ]
  },
  {
   "cell_type": "markdown",
   "metadata": {},
   "source": [
    "**Define the path in order to draw the section**\n",
    "\n",
    "We use the SVG path in order to plot this trapezium/trapezoid"
   ]
  },
  {
   "cell_type": "code",
   "execution_count": 10,
   "metadata": {},
   "outputs": [
    {
     "data": {
      "text/plain": [
       "'M 100.0,820 L 89.5,700 L -89.5,700 L -100.0,820 Z'"
      ]
     },
     "execution_count": 10,
     "metadata": {},
     "output_type": "execute_result"
    }
   ],
   "source": [
    "path = 'M {0},{1} L {2},{3} L -{2},{3} L -{0},{1} Z'.format(*points)\n",
    "path"
   ]
  },
  {
   "cell_type": "markdown",
   "metadata": {},
   "source": [
    "**Define the shape using the SVG path**"
   ]
  },
  {
   "cell_type": "code",
   "execution_count": 11,
   "metadata": {},
   "outputs": [],
   "source": [
    "section = {'type': 'path',\n",
    "           'path': path,\n",
    "           'fillcolor': colors[0],\n",
    "           'line': {'color': colors[0]}\n",
    "          }"
   ]
  },
  {
   "cell_type": "markdown",
   "metadata": {},
   "source": [
    "**To view this single section, we define a layout**\n",
    "\n",
    "This layout only contains our trapezoid"
   ]
  },
  {
   "cell_type": "code",
   "execution_count": 12,
   "metadata": {},
   "outputs": [],
   "source": [
    "layout = go.Layout(shapes = [section])"
   ]
  },
  {
   "cell_type": "markdown",
   "metadata": {},
   "source": [
    "**Plot the figure with only this one section**\n",
    "\n",
    "This is what a section in a funnel should look like. The top represents the value of this section and it tapers down where the bottome width represents the value of the next section.\n",
    "\n",
    "It is just the final section which will be a rectangle"
   ]
  },
  {
   "cell_type": "code",
   "execution_count": 13,
   "metadata": {},
   "outputs": [
    {
     "data": {
      "application/vnd.plotly.v1+json": {
       "data": [
        {
         "type": "scatter",
         "uid": "97cb6aac-9bb4-11e8-94be-6030d4660e22"
        }
       ],
       "layout": {
        "shapes": [
         {
          "fillcolor": "violet",
          "line": {
           "color": "violet"
          },
          "path": "M 100.0,820 L 89.5,700 L -89.5,700 L -100.0,820 Z",
          "type": "path"
         }
        ]
       }
      },
      "text/html": [
       "<div id=\"63b43656-6469-4cd5-8120-0b805f2c8b25\" style=\"height: 525px; width: 100%;\" class=\"plotly-graph-div\"></div><script type=\"text/javascript\">require([\"plotly\"], function(Plotly) { window.PLOTLYENV=window.PLOTLYENV || {};window.PLOTLYENV.BASE_URL=\"https://plot.ly\";\n",
       "        Plotly.plot(\n",
       "            '63b43656-6469-4cd5-8120-0b805f2c8b25',\n",
       "            [{\"type\": \"scatter\", \"uid\": \"97cb6aac-9bb4-11e8-94be-6030d4660e22\"}],\n",
       "            {\"shapes\": [{\"fillcolor\": \"violet\", \"line\": {\"color\": \"violet\"}, \"path\": \"M 100.0,820 L 89.5,700 L -89.5,700 L -100.0,820 Z\", \"type\": \"path\"}]},\n",
       "            {\"showLink\": true, \"linkText\": \"Export to plot.ly\"}\n",
       "        ).then(function () {return Plotly.addFrames('63b43656-6469-4cd5-8120-0b805f2c8b25',{});}).then(function(){Plotly.animate('63b43656-6469-4cd5-8120-0b805f2c8b25');})\n",
       "        });</script>"
      ],
      "text/vnd.plotly.v1+html": [
       "<div id=\"63b43656-6469-4cd5-8120-0b805f2c8b25\" style=\"height: 525px; width: 100%;\" class=\"plotly-graph-div\"></div><script type=\"text/javascript\">require([\"plotly\"], function(Plotly) { window.PLOTLYENV=window.PLOTLYENV || {};window.PLOTLYENV.BASE_URL=\"https://plot.ly\";\n",
       "        Plotly.plot(\n",
       "            '63b43656-6469-4cd5-8120-0b805f2c8b25',\n",
       "            [{\"type\": \"scatter\", \"uid\": \"97cb6aac-9bb4-11e8-94be-6030d4660e22\"}],\n",
       "            {\"shapes\": [{\"fillcolor\": \"violet\", \"line\": {\"color\": \"violet\"}, \"path\": \"M 100.0,820 L 89.5,700 L -89.5,700 L -100.0,820 Z\", \"type\": \"path\"}]},\n",
       "            {\"showLink\": true, \"linkText\": \"Export to plot.ly\"}\n",
       "        ).then(function () {return Plotly.addFrames('63b43656-6469-4cd5-8120-0b805f2c8b25',{});}).then(function(){Plotly.animate('63b43656-6469-4cd5-8120-0b805f2c8b25');})\n",
       "        });</script>"
      ]
     },
     "metadata": {},
     "output_type": "display_data"
    }
   ],
   "source": [
    "fig = go.Figure(data=[{}], \n",
    "                layout=layout)\n",
    "\n",
    "offline.iplot(fig)"
   ]
  },
  {
   "cell_type": "markdown",
   "metadata": {},
   "source": [
    "**Define lists which will be used to plot the funnel chart**\n",
    "\n",
    "We need lists for:\n",
    "\n",
    "* Each shape we will plot which includes n-1 trapezoids and 1 rectangle at the bottom\n",
    "* The path_list will hold the SVG path for each shape\n",
    "* The section_label_heights will be used to set the heights of the text annotations for each section"
   ]
  },
  {
   "cell_type": "code",
   "execution_count": 14,
   "metadata": {},
   "outputs": [],
   "source": [
    "shapes = []\n",
    "path_list = []\n",
    "y_labels = []"
   ]
  },
  {
   "cell_type": "markdown",
   "metadata": {},
   "source": [
    "**Fill in the SVG Paths and section_label_heights for the sections**\n",
    "\n",
    "Since the last section will be a rectangle instead of a trapezoid, we need to check whether we are on the last section or not. The tasks we then perform are:\n",
    "\n",
    "* Calculate the SVG path for the section and then append it to the path list\n",
    "* Add the y coordinate for the text annotations for the section in y_labels\n",
    "* Adjust the height to the top of the next section by decrementing its value by (section_height + gap)"
   ]
  },
  {
   "cell_type": "code",
   "execution_count": 15,
   "metadata": {},
   "outputs": [
    {
     "name": "stdout",
     "output_type": "stream",
     "text": [
      "\n",
      "Points for Phase 0 = [100.0, 820, 89.5, 700]\n",
      "Path for Phase 0 = M 100.0,820 L 89.5,700 L -89.5,700 L -100.0,820 Z\n",
      "\n",
      "Points for Phase 1 = [89.5, 680, 48.5, 560]\n",
      "Path for Phase 1 = M 89.5,680 L 48.5,560 L -48.5,560 L -89.5,680 Z\n",
      "\n",
      "Points for Phase 2 = [48.5, 540, 40.5, 420]\n",
      "Path for Phase 2 = M 48.5,540 L 40.5,420 L -40.5,420 L -48.5,540 Z\n",
      "\n",
      "Points for Phase 3 = [40.5, 400, 36.5, 280]\n",
      "Path for Phase 3 = M 40.5,400 L 36.5,280 L -36.5,280 L -40.5,400 Z\n",
      "\n",
      "Points for Phase 4 = [36.5, 260, 34.5, 140]\n",
      "Path for Phase 4 = M 36.5,260 L 34.5,140 L -34.5,140 L -36.5,260 Z\n",
      "\n",
      "Points for Phase 5 = [34.5, 120, 34.5, 0]\n",
      "Path for Phase 5 = M 34.5,120 L 34.5,0 L -34.5,0 L -34.5,120 Z\n"
     ]
    }
   ],
   "source": [
    "for i in range(num_phases):\n",
    "    \n",
    "        if (i == num_phases-1):\n",
    "                points = [phase_widths[i] / 2, height, phase_widths[i] / 2, height - section_height]\n",
    "        else:\n",
    "                points = [phase_widths[i] / 2, height, phase_widths[i+1] / 2, height - section_height]\n",
    "        \n",
    "        path = 'M {0},{1} L {2},{3} L -{2},{3} L -{0},{1} Z'.format(*points)\n",
    "        \n",
    "        print('\\nPoints for Phase %d = %s' %(i, points))\n",
    "        print('Path for Phase %d = %s' %(i, path))\n",
    "        \n",
    "        path_list.append(path)\n",
    "        \n",
    "        y_labels.append(height - (section_height / 2))\n",
    "        \n",
    "        height = height - (section_height + section_gap)"
   ]
  },
  {
   "cell_type": "markdown",
   "metadata": {},
   "source": [
    "**Generate a list of shapes for the funnel**\n",
    "\n",
    "This will contain all the section shapes which are set to a color from our colors list"
   ]
  },
  {
   "cell_type": "code",
   "execution_count": 16,
   "metadata": {},
   "outputs": [
    {
     "data": {
      "text/plain": [
       "[{'type': 'path',\n",
       "  'path': 'M 100.0,820 L 89.5,700 L -89.5,700 L -100.0,820 Z',\n",
       "  'fillcolor': 'violet',\n",
       "  'line': {'color': 'violet'}},\n",
       " {'type': 'path',\n",
       "  'path': 'M 89.5,680 L 48.5,560 L -48.5,560 L -89.5,680 Z',\n",
       "  'fillcolor': 'Red',\n",
       "  'line': {'color': 'Red'}},\n",
       " {'type': 'path',\n",
       "  'path': 'M 48.5,540 L 40.5,420 L -40.5,420 L -48.5,540 Z',\n",
       "  'fillcolor': 'Blue',\n",
       "  'line': {'color': 'Blue'}},\n",
       " {'type': 'path',\n",
       "  'path': 'M 40.5,400 L 36.5,280 L -36.5,280 L -40.5,400 Z',\n",
       "  'fillcolor': 'Maroon',\n",
       "  'line': {'color': 'Maroon'}},\n",
       " {'type': 'path',\n",
       "  'path': 'M 36.5,260 L 34.5,140 L -34.5,140 L -36.5,260 Z',\n",
       "  'fillcolor': 'Silver',\n",
       "  'line': {'color': 'Silver'}},\n",
       " {'type': 'path',\n",
       "  'path': 'M 34.5,120 L 34.5,0 L -34.5,0 L -34.5,120 Z',\n",
       "  'fillcolor': 'Green',\n",
       "  'line': {'color': 'Green'}}]"
      ]
     },
     "execution_count": 16,
     "metadata": {},
     "output_type": "execute_result"
    }
   ],
   "source": [
    "for i in range(num_phases):\n",
    "\n",
    "        shape = {'type': 'path',\n",
    "                 'path': path_list[i],\n",
    "                 'fillcolor': colors[i],\n",
    "                 'line': {'color': colors[i]}\n",
    "                }\n",
    "\n",
    "        shapes.append(shape)\n",
    "        \n",
    "shapes"
   ]
  },
  {
   "cell_type": "markdown",
   "metadata": {},
   "source": [
    "  To draw the phase names and values, we are using the text mode in scatter plots. To style the plot, we are hiding the legend and tick labels, and removing the zeroline."
   ]
  },
  {
   "cell_type": "markdown",
   "metadata": {},
   "source": [
    "**Add the labels for each phase/section**\n",
    "\n",
    "We apply an offset for the x coordinate of the text annotation so that it does not overlap with the shapes. These annotations will appear on the left of the plot"
   ]
  },
  {
   "cell_type": "code",
   "execution_count": 17,
   "metadata": {},
   "outputs": [],
   "source": [
    "label_trace = go.Scatter(x = [-150]*num_phases,\n",
    "                         \n",
    "                         y = y_labels,\n",
    "                         \n",
    "                         mode = 'text',\n",
    "                         \n",
    "                         text = Phases\n",
    "                        )"
   ]
  },
  {
   "cell_type": "markdown",
   "metadata": {},
   "source": [
    "**Enter the phase values**\n",
    "\n",
    "These will appear on the right of the funnel"
   ]
  },
  {
   "cell_type": "code",
   "execution_count": 18,
   "metadata": {},
   "outputs": [],
   "source": [
    "value_trace = go.Scatter(x = [150]*num_phases, \n",
    "                         \n",
    "                         y = y_labels,\n",
    "                         \n",
    "                         mode = 'text',\n",
    "                         \n",
    "                         text = Values\n",
    "                        )"
   ]
  },
  {
   "cell_type": "code",
   "execution_count": 19,
   "metadata": {},
   "outputs": [],
   "source": [
    "data = [label_trace, value_trace]"
   ]
  },
  {
   "cell_type": "markdown",
   "metadata": {},
   "source": [
    "**Define the layout**\n",
    "\n",
    "We set the following attributes:\n",
    "* A title for the chart along with its font size\n",
    "* Assign the shapes for the plot\n",
    "* Remove the tick labels and zero lines from the plot\n",
    "* Deactivate the legend (our traces are the text annotations, so we don't need a legend)"
   ]
  },
  {
   "cell_type": "code",
   "execution_count": 20,
   "metadata": {},
   "outputs": [],
   "source": [
    "layout = go.Layout(title = \"<b>Funnel Chart of Recruting Process</b>\",\n",
    "                   titlefont = dict(size=20),\n",
    "                   \n",
    "                   shapes = shapes,\n",
    "                   \n",
    "                   showlegend = False,\n",
    "                   \n",
    "                   xaxis = dict(showticklabels = False,\n",
    "                              zeroline = False,\n",
    "                             ),\n",
    "                   \n",
    "                   yaxis = dict(showticklabels = False,\n",
    "                              zeroline = False\n",
    "                             )\n",
    "                  )"
   ]
  },
  {
   "cell_type": "code",
   "execution_count": 21,
   "metadata": {},
   "outputs": [
    {
     "data": {
      "application/vnd.plotly.v1+json": {
       "data": [
        {
         "mode": "text",
         "text": [
          "Students applied",
          "students attended",
          "Selected candidates for group discussion",
          "Selected candidates for interview",
          "Selected candidates for medical",
          "Selected candidates for job"
         ],
         "type": "scatter",
         "uid": "97e616e2-9bb4-11e8-9a21-6030d4660e22",
         "x": [
          -150,
          -150,
          -150,
          -150,
          -150,
          -150
         ],
         "y": [
          760,
          620,
          480,
          340,
          200,
          60
         ]
        },
        {
         "mode": "text",
         "text": [
          "122567",
          "110282",
          "60000",
          "50000",
          "45000",
          "42500"
         ],
         "type": "scatter",
         "uid": "97e6199c-9bb4-11e8-892b-6030d4660e22",
         "x": [
          150,
          150,
          150,
          150,
          150,
          150
         ],
         "y": [
          760,
          620,
          480,
          340,
          200,
          60
         ]
        }
       ],
       "layout": {
        "shapes": [
         {
          "fillcolor": "violet",
          "line": {
           "color": "violet"
          },
          "path": "M 100.0,820 L 89.5,700 L -89.5,700 L -100.0,820 Z",
          "type": "path"
         },
         {
          "fillcolor": "Red",
          "line": {
           "color": "Red"
          },
          "path": "M 89.5,680 L 48.5,560 L -48.5,560 L -89.5,680 Z",
          "type": "path"
         },
         {
          "fillcolor": "Blue",
          "line": {
           "color": "Blue"
          },
          "path": "M 48.5,540 L 40.5,420 L -40.5,420 L -48.5,540 Z",
          "type": "path"
         },
         {
          "fillcolor": "Maroon",
          "line": {
           "color": "Maroon"
          },
          "path": "M 40.5,400 L 36.5,280 L -36.5,280 L -40.5,400 Z",
          "type": "path"
         },
         {
          "fillcolor": "Silver",
          "line": {
           "color": "Silver"
          },
          "path": "M 36.5,260 L 34.5,140 L -34.5,140 L -36.5,260 Z",
          "type": "path"
         },
         {
          "fillcolor": "Green",
          "line": {
           "color": "Green"
          },
          "path": "M 34.5,120 L 34.5,0 L -34.5,0 L -34.5,120 Z",
          "type": "path"
         }
        ],
        "showlegend": false,
        "title": "<b>Funnel Chart of Recruting Process</b>",
        "titlefont": {
         "size": 20
        },
        "xaxis": {
         "showticklabels": false,
         "zeroline": false
        },
        "yaxis": {
         "showticklabels": false,
         "zeroline": false
        }
       }
      },
      "text/html": [
       "<div id=\"58df60b0-3452-4668-9b9a-0fc80f6201c4\" style=\"height: 525px; width: 100%;\" class=\"plotly-graph-div\"></div><script type=\"text/javascript\">require([\"plotly\"], function(Plotly) { window.PLOTLYENV=window.PLOTLYENV || {};window.PLOTLYENV.BASE_URL=\"https://plot.ly\";\n",
       "        Plotly.plot(\n",
       "            '58df60b0-3452-4668-9b9a-0fc80f6201c4',\n",
       "            [{\"mode\": \"text\", \"text\": [\"Students applied\", \"students attended\", \"Selected candidates for group discussion\", \"Selected candidates for interview\", \"Selected candidates for medical\", \"Selected candidates for job\"], \"x\": [-150, -150, -150, -150, -150, -150], \"y\": [760.0, 620.0, 480.0, 340.0, 200.0, 60.0], \"type\": \"scatter\", \"uid\": \"97e616e2-9bb4-11e8-9a21-6030d4660e22\"}, {\"mode\": \"text\", \"text\": [\"122567\", \"110282\", \"60000\", \"50000\", \"45000\", \"42500\"], \"x\": [150, 150, 150, 150, 150, 150], \"y\": [760.0, 620.0, 480.0, 340.0, 200.0, 60.0], \"type\": \"scatter\", \"uid\": \"97e6199c-9bb4-11e8-892b-6030d4660e22\"}],\n",
       "            {\"shapes\": [{\"fillcolor\": \"violet\", \"line\": {\"color\": \"violet\"}, \"path\": \"M 100.0,820 L 89.5,700 L -89.5,700 L -100.0,820 Z\", \"type\": \"path\"}, {\"fillcolor\": \"Red\", \"line\": {\"color\": \"Red\"}, \"path\": \"M 89.5,680 L 48.5,560 L -48.5,560 L -89.5,680 Z\", \"type\": \"path\"}, {\"fillcolor\": \"Blue\", \"line\": {\"color\": \"Blue\"}, \"path\": \"M 48.5,540 L 40.5,420 L -40.5,420 L -48.5,540 Z\", \"type\": \"path\"}, {\"fillcolor\": \"Maroon\", \"line\": {\"color\": \"Maroon\"}, \"path\": \"M 40.5,400 L 36.5,280 L -36.5,280 L -40.5,400 Z\", \"type\": \"path\"}, {\"fillcolor\": \"Silver\", \"line\": {\"color\": \"Silver\"}, \"path\": \"M 36.5,260 L 34.5,140 L -34.5,140 L -36.5,260 Z\", \"type\": \"path\"}, {\"fillcolor\": \"Green\", \"line\": {\"color\": \"Green\"}, \"path\": \"M 34.5,120 L 34.5,0 L -34.5,0 L -34.5,120 Z\", \"type\": \"path\"}], \"showlegend\": false, \"title\": \"<b>Funnel Chart of Recruting Process</b>\", \"titlefont\": {\"size\": 20}, \"xaxis\": {\"showticklabels\": false, \"zeroline\": false}, \"yaxis\": {\"showticklabels\": false, \"zeroline\": false}},\n",
       "            {\"showLink\": true, \"linkText\": \"Export to plot.ly\"}\n",
       "        ).then(function () {return Plotly.addFrames('58df60b0-3452-4668-9b9a-0fc80f6201c4',{});}).then(function(){Plotly.animate('58df60b0-3452-4668-9b9a-0fc80f6201c4');})\n",
       "        });</script>"
      ],
      "text/vnd.plotly.v1+html": [
       "<div id=\"58df60b0-3452-4668-9b9a-0fc80f6201c4\" style=\"height: 525px; width: 100%;\" class=\"plotly-graph-div\"></div><script type=\"text/javascript\">require([\"plotly\"], function(Plotly) { window.PLOTLYENV=window.PLOTLYENV || {};window.PLOTLYENV.BASE_URL=\"https://plot.ly\";\n",
       "        Plotly.plot(\n",
       "            '58df60b0-3452-4668-9b9a-0fc80f6201c4',\n",
       "            [{\"mode\": \"text\", \"text\": [\"Students applied\", \"students attended\", \"Selected candidates for group discussion\", \"Selected candidates for interview\", \"Selected candidates for medical\", \"Selected candidates for job\"], \"x\": [-150, -150, -150, -150, -150, -150], \"y\": [760.0, 620.0, 480.0, 340.0, 200.0, 60.0], \"type\": \"scatter\", \"uid\": \"97e616e2-9bb4-11e8-9a21-6030d4660e22\"}, {\"mode\": \"text\", \"text\": [\"122567\", \"110282\", \"60000\", \"50000\", \"45000\", \"42500\"], \"x\": [150, 150, 150, 150, 150, 150], \"y\": [760.0, 620.0, 480.0, 340.0, 200.0, 60.0], \"type\": \"scatter\", \"uid\": \"97e6199c-9bb4-11e8-892b-6030d4660e22\"}],\n",
       "            {\"shapes\": [{\"fillcolor\": \"violet\", \"line\": {\"color\": \"violet\"}, \"path\": \"M 100.0,820 L 89.5,700 L -89.5,700 L -100.0,820 Z\", \"type\": \"path\"}, {\"fillcolor\": \"Red\", \"line\": {\"color\": \"Red\"}, \"path\": \"M 89.5,680 L 48.5,560 L -48.5,560 L -89.5,680 Z\", \"type\": \"path\"}, {\"fillcolor\": \"Blue\", \"line\": {\"color\": \"Blue\"}, \"path\": \"M 48.5,540 L 40.5,420 L -40.5,420 L -48.5,540 Z\", \"type\": \"path\"}, {\"fillcolor\": \"Maroon\", \"line\": {\"color\": \"Maroon\"}, \"path\": \"M 40.5,400 L 36.5,280 L -36.5,280 L -40.5,400 Z\", \"type\": \"path\"}, {\"fillcolor\": \"Silver\", \"line\": {\"color\": \"Silver\"}, \"path\": \"M 36.5,260 L 34.5,140 L -34.5,140 L -36.5,260 Z\", \"type\": \"path\"}, {\"fillcolor\": \"Green\", \"line\": {\"color\": \"Green\"}, \"path\": \"M 34.5,120 L 34.5,0 L -34.5,0 L -34.5,120 Z\", \"type\": \"path\"}], \"showlegend\": false, \"title\": \"<b>Funnel Chart of Recruting Process</b>\", \"titlefont\": {\"size\": 20}, \"xaxis\": {\"showticklabels\": false, \"zeroline\": false}, \"yaxis\": {\"showticklabels\": false, \"zeroline\": false}},\n",
       "            {\"showLink\": true, \"linkText\": \"Export to plot.ly\"}\n",
       "        ).then(function () {return Plotly.addFrames('58df60b0-3452-4668-9b9a-0fc80f6201c4',{});}).then(function(){Plotly.animate('58df60b0-3452-4668-9b9a-0fc80f6201c4');})\n",
       "        });</script>"
      ]
     },
     "metadata": {},
     "output_type": "display_data"
    }
   ],
   "source": [
    "fig = go.Figure(data=data, layout=layout)\n",
    "\n",
    "offline.iplot(fig)"
   ]
  },
  {
   "cell_type": "markdown",
   "metadata": {},
   "source": [
    "**we have to move the plotly graph with the pan button for better visualization**"
   ]
  },
  {
   "cell_type": "code",
   "execution_count": null,
   "metadata": {},
   "outputs": [],
   "source": []
  }
 ],
 "metadata": {
  "kernelspec": {
   "display_name": "Python 3",
   "language": "python",
   "name": "python3"
  },
  "language_info": {
   "codemirror_mode": {
    "name": "ipython",
    "version": 3
   },
   "file_extension": ".py",
   "mimetype": "text/x-python",
   "name": "python",
   "nbconvert_exporter": "python",
   "pygments_lexer": "ipython3",
   "version": "3.6.5"
  }
 },
 "nbformat": 4,
 "nbformat_minor": 2
}
