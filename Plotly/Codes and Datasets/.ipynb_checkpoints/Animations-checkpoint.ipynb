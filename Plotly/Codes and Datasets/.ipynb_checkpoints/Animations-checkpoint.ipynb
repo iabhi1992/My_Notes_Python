{
 "cells": [
  {
   "cell_type": "code",
   "execution_count": 1,
   "metadata": {},
   "outputs": [
    {
     "data": {
      "text/html": [
       "<script>requirejs.config({paths: { 'plotly': ['https://cdn.plot.ly/plotly-latest.min']},});if(!window.Plotly) {{require(['plotly'],function(plotly) {window.Plotly=plotly;});}}</script>"
      ],
      "text/vnd.plotly.v1+html": [
       "<script>requirejs.config({paths: { 'plotly': ['https://cdn.plot.ly/plotly-latest.min']},});if(!window.Plotly) {{require(['plotly'],function(plotly) {window.Plotly=plotly;});}}</script>"
      ]
     },
     "metadata": {},
     "output_type": "display_data"
    }
   ],
   "source": [
    "import plotly.plotly as py\n",
    "import plotly.graph_objs as go\n",
    "import pandas as pd\n",
    "import plotly.offline as offline\n",
    "\n",
    "offline.init_notebook_mode(connected=True)"
   ]
  },
  {
   "cell_type": "markdown",
   "metadata": {},
   "source": [
    "**Animations**\n",
    "\n",
    "Animations in Plotly involve defining a sequence of frames which will be animated on on the plot. When defined correctly, it can be made to look like a moving plot.\n",
    "\n",
    "We will plot a line in this demo and animate it so that it appears as though the line is being drawn.\n",
    "\n"
   ]
  },
  {
   "cell_type": "markdown",
   "metadata": {},
   "source": [
    "**Define the starting point for the animation**\n",
    "\n",
    "Our animation will involve starting from a point (1,10)"
   ]
  },
  {
   "cell_type": "code",
   "execution_count": 2,
   "metadata": {},
   "outputs": [],
   "source": [
    "x0 = [1]\n",
    "y0 = [10]"
   ]
  },
  {
   "cell_type": "markdown",
   "metadata": {},
   "source": [
    "**Define the second frame**\n",
    "\n",
    "The second frame in our animation will involve a line being plotted from the first point to the second point. For that we need to include the point from the first frame and add the point from the second frame"
   ]
  },
  {
   "cell_type": "code",
   "execution_count": 3,
   "metadata": {},
   "outputs": [],
   "source": [
    "x1 = [1, 2]\n",
    "y1 = [10, 20]"
   ]
  },
  {
   "cell_type": "markdown",
   "metadata": {},
   "source": [
    "**The third frame**\n",
    "\n",
    "This will start from the 2nd frame and add a third point to which the line will extend in the animation"
   ]
  },
  {
   "cell_type": "code",
   "execution_count": 4,
   "metadata": {},
   "outputs": [],
   "source": [
    "x2 = [1, 2, 3,]\n",
    "y2 = [10, 20, 16,]"
   ]
  },
  {
   "cell_type": "markdown",
   "metadata": {},
   "source": [
    "**The fourth frame**\n",
    "\n",
    "This will start from the 3rd frame and add a fourth point to which the line will extend in the animation"
   ]
  },
  {
   "cell_type": "code",
   "execution_count": 5,
   "metadata": {},
   "outputs": [],
   "source": [
    "x3 = [1, 2, 3, 4]\n",
    "y3 = [10, 20, 16, 20]"
   ]
  },
  {
   "cell_type": "markdown",
   "metadata": {},
   "source": [
    "**Define the layout**\n",
    "\n",
    "If you don't specify the range for the X and Y axes, then the plot will dynamically adjust the range of the axes on display according to the points which have been plotted until the current frame. This will cause a lot of dynamic resizing of the axes which makes the animation very distracting.\n",
    "\n",
    "We specify the range for the X and Y axes to include all the points which will be plotted during the animation.\n",
    "\n",
    "Under the updatemenus field, we can define buttons which we would like. Here, we add a play button. Note that for the args, we pass in an empty list, which means that all frames will be animated."
   ]
  },
  {
   "cell_type": "code",
   "execution_count": 6,
   "metadata": {},
   "outputs": [],
   "source": [
    "layout = go.Layout(xaxis = dict(range = [0, 5]), \n",
    "                   yaxis = dict(range = [10, 21]),\n",
    "                   \n",
    "                   updatemenus = [dict(type = 'buttons',\n",
    "                                       buttons = [dict(label = 'Play',\n",
    "                                                       method= 'animate',\n",
    "                                                       args= [None]\n",
    "                                                       )\n",
    "                                                  ]\n",
    "                                       )\n",
    "                                 ]\n",
    "                  )"
   ]
  },
  {
   "cell_type": "markdown",
   "metadata": {},
   "source": [
    "**Define the frames included in our plot**\n",
    "\n",
    "We configure a set of frames which will be plotted in our animated figure\n"
   ]
  },
  {
   "cell_type": "code",
   "execution_count": 7,
   "metadata": {},
   "outputs": [
    {
     "name": "stderr",
     "output_type": "stream",
     "text": [
      "/anaconda3/lib/python3.6/site-packages/plotly/graph_objs/_deprecations.py:90: DeprecationWarning:\n",
      "\n",
      "plotly.graph_objs.Frames is deprecated.\n",
      "Please replace it with a list or tuple of instances of the following types\n",
      "  - plotly.graph_objs.Frame\n",
      "\n",
      "\n"
     ]
    }
   ],
   "source": [
    "frames = go.Frames([dict(data = [dict(x = x0, y = y0)]), \n",
    "                    dict(data = [dict(x = x1, y = y1)]),\n",
    "                    dict(data = [dict(x = x2, y = y2)]),\n",
    "                    dict(data = [dict(x = x3, y = y3)])\n",
    "                   ]\n",
    "                  )"
   ]
  },
  {
   "cell_type": "markdown",
   "metadata": {},
   "source": [
    "**Plot the animated figure**\n",
    "\n",
    "In addition to the data and layout, there is a frames field which needs to be included"
   ]
  },
  {
   "cell_type": "code",
   "execution_count": 8,
   "metadata": {},
   "outputs": [
    {
     "data": {
      "application/vnd.plotly.v1+json": {
       "data": [
        {
         "type": "scatter",
         "uid": "c510719e-9c7d-11e8-bbd7-6030d4660e22"
        }
       ],
       "frames": [
        {
         "data": [
          {
           "type": "scatter",
           "x": [
            1
           ],
           "y": [
            10
           ]
          }
         ]
        },
        {
         "data": [
          {
           "type": "scatter",
           "x": [
            1,
            2
           ],
           "y": [
            10,
            20
           ]
          }
         ]
        },
        {
         "data": [
          {
           "type": "scatter",
           "x": [
            1,
            2,
            3
           ],
           "y": [
            10,
            20,
            16
           ]
          }
         ]
        },
        {
         "data": [
          {
           "type": "scatter",
           "x": [
            1,
            2,
            3,
            4
           ],
           "y": [
            10,
            20,
            16,
            20
           ]
          }
         ]
        }
       ],
       "layout": {
        "updatemenus": [
         {
          "buttons": [
           {
            "args": [
             null
            ],
            "label": "Play",
            "method": "animate"
           }
          ],
          "type": "buttons"
         }
        ],
        "xaxis": {
         "range": [
          0,
          5
         ]
        },
        "yaxis": {
         "range": [
          10,
          21
         ]
        }
       }
      },
      "text/html": [
       "<div id=\"07bc38b2-2366-4700-ab3c-d837f5fc9900\" style=\"height: 525px; width: 100%;\" class=\"plotly-graph-div\"></div><script type=\"text/javascript\">require([\"plotly\"], function(Plotly) { window.PLOTLYENV=window.PLOTLYENV || {};window.PLOTLYENV.BASE_URL=\"https://plot.ly\";\n",
       "        Plotly.plot(\n",
       "            '07bc38b2-2366-4700-ab3c-d837f5fc9900',\n",
       "            [{\"type\": \"scatter\", \"uid\": \"c5233486-9c7d-11e8-8d08-6030d4660e22\"}],\n",
       "            {\"updatemenus\": [{\"buttons\": [{\"args\": [null], \"label\": \"Play\", \"method\": \"animate\"}], \"type\": \"buttons\"}], \"xaxis\": {\"range\": [0, 5]}, \"yaxis\": {\"range\": [10, 21]}},\n",
       "            {\"showLink\": true, \"linkText\": \"Export to plot.ly\"}\n",
       "        ).then(function () {return Plotly.addFrames('07bc38b2-2366-4700-ab3c-d837f5fc9900',[{\"data\": [{\"x\": [1], \"y\": [10], \"type\": \"scatter\"}]}, {\"data\": [{\"x\": [1, 2], \"y\": [10, 20], \"type\": \"scatter\"}]}, {\"data\": [{\"x\": [1, 2, 3], \"y\": [10, 20, 16], \"type\": \"scatter\"}]}, {\"data\": [{\"x\": [1, 2, 3, 4], \"y\": [10, 20, 16, 20], \"type\": \"scatter\"}]}]);}).then(function(){Plotly.animate('07bc38b2-2366-4700-ab3c-d837f5fc9900');})\n",
       "        });</script>"
      ],
      "text/vnd.plotly.v1+html": [
       "<div id=\"07bc38b2-2366-4700-ab3c-d837f5fc9900\" style=\"height: 525px; width: 100%;\" class=\"plotly-graph-div\"></div><script type=\"text/javascript\">require([\"plotly\"], function(Plotly) { window.PLOTLYENV=window.PLOTLYENV || {};window.PLOTLYENV.BASE_URL=\"https://plot.ly\";\n",
       "        Plotly.plot(\n",
       "            '07bc38b2-2366-4700-ab3c-d837f5fc9900',\n",
       "            [{\"type\": \"scatter\", \"uid\": \"c5233486-9c7d-11e8-8d08-6030d4660e22\"}],\n",
       "            {\"updatemenus\": [{\"buttons\": [{\"args\": [null], \"label\": \"Play\", \"method\": \"animate\"}], \"type\": \"buttons\"}], \"xaxis\": {\"range\": [0, 5]}, \"yaxis\": {\"range\": [10, 21]}},\n",
       "            {\"showLink\": true, \"linkText\": \"Export to plot.ly\"}\n",
       "        ).then(function () {return Plotly.addFrames('07bc38b2-2366-4700-ab3c-d837f5fc9900',[{\"data\": [{\"x\": [1], \"y\": [10], \"type\": \"scatter\"}]}, {\"data\": [{\"x\": [1, 2], \"y\": [10, 20], \"type\": \"scatter\"}]}, {\"data\": [{\"x\": [1, 2, 3], \"y\": [10, 20, 16], \"type\": \"scatter\"}]}, {\"data\": [{\"x\": [1, 2, 3, 4], \"y\": [10, 20, 16, 20], \"type\": \"scatter\"}]}]);}).then(function(){Plotly.animate('07bc38b2-2366-4700-ab3c-d837f5fc9900');})\n",
       "        });</script>"
      ]
     },
     "metadata": {},
     "output_type": "display_data"
    }
   ],
   "source": [
    "fig = dict(data=[{}], \n",
    "           layout=layout, \n",
    "           frames = frames)\n",
    "\n",
    "offline.iplot(fig)"
   ]
  },
  {
   "cell_type": "markdown",
   "metadata": {},
   "source": [
    "**Adding a disconnected frame**\n",
    "\n",
    "So far, we have added frames which incrementally add to the existing plot. This produces the effect of a continuous line being drawn. However, if we add a frame which does not work off the existing line, but creates a separate one, then that continuous effect is lost"
   ]
  },
  {
   "cell_type": "code",
   "execution_count": 9,
   "metadata": {},
   "outputs": [],
   "source": [
    "x4 = [3, 4]\n",
    "y4 = [14, 15]"
   ]
  },
  {
   "cell_type": "markdown",
   "metadata": {},
   "source": [
    "**Redefine the frames list**"
   ]
  },
  {
   "cell_type": "code",
   "execution_count": 10,
   "metadata": {},
   "outputs": [
    {
     "name": "stderr",
     "output_type": "stream",
     "text": [
      "/anaconda3/lib/python3.6/site-packages/plotly/graph_objs/_deprecations.py:90: DeprecationWarning:\n",
      "\n",
      "plotly.graph_objs.Frames is deprecated.\n",
      "Please replace it with a list or tuple of instances of the following types\n",
      "  - plotly.graph_objs.Frame\n",
      "\n",
      "\n"
     ]
    }
   ],
   "source": [
    "frames = go.Frames([dict(data = [dict(x = x0, y = y0)]), \n",
    "                    dict(data = [dict(x = x1, y = y1)]),\n",
    "                    dict(data = [dict(x = x2, y = y2)]),\n",
    "                    dict(data = [dict(x = x3, y = y3)]),\n",
    "                    dict(data = [dict(x = x4, y = y4)])\n",
    "                   ]\n",
    "                  )"
   ]
  },
  {
   "cell_type": "markdown",
   "metadata": {},
   "source": [
    "**Plot the new figure**\n",
    "\n",
    "As with any animation, if we want to display continuous motion, we need to ensure that the frames are set up correctly"
   ]
  },
  {
   "cell_type": "code",
   "execution_count": 11,
   "metadata": {},
   "outputs": [
    {
     "data": {
      "application/vnd.plotly.v1+json": {
       "data": [
        {
         "type": "scatter",
         "uid": "c5397a82-9c7d-11e8-93d9-6030d4660e22"
        }
       ],
       "frames": [
        {
         "data": [
          {
           "type": "scatter",
           "x": [
            1
           ],
           "y": [
            10
           ]
          }
         ]
        },
        {
         "data": [
          {
           "type": "scatter",
           "x": [
            1,
            2
           ],
           "y": [
            10,
            20
           ]
          }
         ]
        },
        {
         "data": [
          {
           "type": "scatter",
           "x": [
            1,
            2,
            3
           ],
           "y": [
            10,
            20,
            16
           ]
          }
         ]
        },
        {
         "data": [
          {
           "type": "scatter",
           "x": [
            1,
            2,
            3,
            4
           ],
           "y": [
            10,
            20,
            16,
            20
           ]
          }
         ]
        },
        {
         "data": [
          {
           "type": "scatter",
           "x": [
            3,
            4
           ],
           "y": [
            14,
            15
           ]
          }
         ]
        }
       ],
       "layout": {
        "updatemenus": [
         {
          "buttons": [
           {
            "args": [
             null
            ],
            "label": "Play",
            "method": "animate"
           }
          ],
          "type": "buttons"
         }
        ],
        "xaxis": {
         "range": [
          0,
          5
         ]
        },
        "yaxis": {
         "range": [
          10,
          21
         ]
        }
       }
      },
      "text/html": [
       "<div id=\"353c6bee-a927-4709-afe8-584157718dad\" style=\"height: 525px; width: 100%;\" class=\"plotly-graph-div\"></div><script type=\"text/javascript\">require([\"plotly\"], function(Plotly) { window.PLOTLYENV=window.PLOTLYENV || {};window.PLOTLYENV.BASE_URL=\"https://plot.ly\";\n",
       "        Plotly.plot(\n",
       "            '353c6bee-a927-4709-afe8-584157718dad',\n",
       "            [{\"type\": \"scatter\", \"uid\": \"c55b1d40-9c7d-11e8-8181-6030d4660e22\"}],\n",
       "            {\"updatemenus\": [{\"buttons\": [{\"args\": [null], \"label\": \"Play\", \"method\": \"animate\"}], \"type\": \"buttons\"}], \"xaxis\": {\"range\": [0, 5]}, \"yaxis\": {\"range\": [10, 21]}},\n",
       "            {\"showLink\": true, \"linkText\": \"Export to plot.ly\"}\n",
       "        ).then(function () {return Plotly.addFrames('353c6bee-a927-4709-afe8-584157718dad',[{\"data\": [{\"x\": [1], \"y\": [10], \"type\": \"scatter\"}]}, {\"data\": [{\"x\": [1, 2], \"y\": [10, 20], \"type\": \"scatter\"}]}, {\"data\": [{\"x\": [1, 2, 3], \"y\": [10, 20, 16], \"type\": \"scatter\"}]}, {\"data\": [{\"x\": [1, 2, 3, 4], \"y\": [10, 20, 16, 20], \"type\": \"scatter\"}]}, {\"data\": [{\"x\": [3, 4], \"y\": [14, 15], \"type\": \"scatter\"}]}]);}).then(function(){Plotly.animate('353c6bee-a927-4709-afe8-584157718dad');})\n",
       "        });</script>"
      ],
      "text/vnd.plotly.v1+html": [
       "<div id=\"353c6bee-a927-4709-afe8-584157718dad\" style=\"height: 525px; width: 100%;\" class=\"plotly-graph-div\"></div><script type=\"text/javascript\">require([\"plotly\"], function(Plotly) { window.PLOTLYENV=window.PLOTLYENV || {};window.PLOTLYENV.BASE_URL=\"https://plot.ly\";\n",
       "        Plotly.plot(\n",
       "            '353c6bee-a927-4709-afe8-584157718dad',\n",
       "            [{\"type\": \"scatter\", \"uid\": \"c55b1d40-9c7d-11e8-8181-6030d4660e22\"}],\n",
       "            {\"updatemenus\": [{\"buttons\": [{\"args\": [null], \"label\": \"Play\", \"method\": \"animate\"}], \"type\": \"buttons\"}], \"xaxis\": {\"range\": [0, 5]}, \"yaxis\": {\"range\": [10, 21]}},\n",
       "            {\"showLink\": true, \"linkText\": \"Export to plot.ly\"}\n",
       "        ).then(function () {return Plotly.addFrames('353c6bee-a927-4709-afe8-584157718dad',[{\"data\": [{\"x\": [1], \"y\": [10], \"type\": \"scatter\"}]}, {\"data\": [{\"x\": [1, 2], \"y\": [10, 20], \"type\": \"scatter\"}]}, {\"data\": [{\"x\": [1, 2, 3], \"y\": [10, 20, 16], \"type\": \"scatter\"}]}, {\"data\": [{\"x\": [1, 2, 3, 4], \"y\": [10, 20, 16, 20], \"type\": \"scatter\"}]}, {\"data\": [{\"x\": [3, 4], \"y\": [14, 15], \"type\": \"scatter\"}]}]);}).then(function(){Plotly.animate('353c6bee-a927-4709-afe8-584157718dad');})\n",
       "        });</script>"
      ]
     },
     "metadata": {},
     "output_type": "display_data"
    }
   ],
   "source": [
    "fig = dict(data=[{}], \n",
    "           layout=layout, \n",
    "           frames = frames)\n",
    "\n",
    "offline.iplot(fig)"
   ]
  },
  {
   "cell_type": "markdown",
   "metadata": {},
   "source": [
    "**Animated view of variation of NewYorkCity Temperature**\n",
    "\n",
    "Here, we use the USA_Temperatures dataset to animate the NewYorkCity Temperature over Months of a year. \n",
    "\n",
    "Data has been compiled from https://www.holiday-weather.com/new_york_city/averages/"
   ]
  },
  {
   "cell_type": "code",
   "execution_count": 12,
   "metadata": {},
   "outputs": [
    {
     "data": {
      "text/html": [
       "<div>\n",
       "<style scoped>\n",
       "    .dataframe tbody tr th:only-of-type {\n",
       "        vertical-align: middle;\n",
       "    }\n",
       "\n",
       "    .dataframe tbody tr th {\n",
       "        vertical-align: top;\n",
       "    }\n",
       "\n",
       "    .dataframe thead th {\n",
       "        text-align: right;\n",
       "    }\n",
       "</style>\n",
       "<table border=\"1\" class=\"dataframe\">\n",
       "  <thead>\n",
       "    <tr style=\"text-align: right;\">\n",
       "      <th></th>\n",
       "      <th>Months_name</th>\n",
       "      <th>NewYork_Average_Temperature(Fahrenheit)</th>\n",
       "      <th>NewYork_Average_Rainfall(mm)</th>\n",
       "    </tr>\n",
       "  </thead>\n",
       "  <tbody>\n",
       "    <tr>\n",
       "      <th>0</th>\n",
       "      <td>January</td>\n",
       "      <td>36</td>\n",
       "      <td>85</td>\n",
       "    </tr>\n",
       "    <tr>\n",
       "      <th>1</th>\n",
       "      <td>February</td>\n",
       "      <td>36</td>\n",
       "      <td>57</td>\n",
       "    </tr>\n",
       "    <tr>\n",
       "      <th>2</th>\n",
       "      <td>March</td>\n",
       "      <td>39</td>\n",
       "      <td>90</td>\n",
       "    </tr>\n",
       "    <tr>\n",
       "      <th>3</th>\n",
       "      <td>April</td>\n",
       "      <td>52</td>\n",
       "      <td>96</td>\n",
       "    </tr>\n",
       "    <tr>\n",
       "      <th>4</th>\n",
       "      <td>May</td>\n",
       "      <td>61</td>\n",
       "      <td>114</td>\n",
       "    </tr>\n",
       "    <tr>\n",
       "      <th>5</th>\n",
       "      <td>June</td>\n",
       "      <td>72</td>\n",
       "      <td>98</td>\n",
       "    </tr>\n",
       "    <tr>\n",
       "      <th>6</th>\n",
       "      <td>July</td>\n",
       "      <td>77</td>\n",
       "      <td>101</td>\n",
       "    </tr>\n",
       "    <tr>\n",
       "      <th>7</th>\n",
       "      <td>August</td>\n",
       "      <td>75</td>\n",
       "      <td>87</td>\n",
       "    </tr>\n",
       "    <tr>\n",
       "      <th>8</th>\n",
       "      <td>September</td>\n",
       "      <td>68</td>\n",
       "      <td>104</td>\n",
       "    </tr>\n",
       "    <tr>\n",
       "      <th>9</th>\n",
       "      <td>October</td>\n",
       "      <td>57</td>\n",
       "      <td>94</td>\n",
       "    </tr>\n",
       "    <tr>\n",
       "      <th>10</th>\n",
       "      <td>November</td>\n",
       "      <td>48</td>\n",
       "      <td>69</td>\n",
       "    </tr>\n",
       "    <tr>\n",
       "      <th>11</th>\n",
       "      <td>December</td>\n",
       "      <td>48</td>\n",
       "      <td>85</td>\n",
       "    </tr>\n",
       "  </tbody>\n",
       "</table>\n",
       "</div>"
      ],
      "text/plain": [
       "   Months_name  NewYork_Average_Temperature(Fahrenheit)  \\\n",
       "0      January                                       36   \n",
       "1     February                                       36   \n",
       "2        March                                       39   \n",
       "3        April                                       52   \n",
       "4          May                                       61   \n",
       "5         June                                       72   \n",
       "6         July                                       77   \n",
       "7       August                                       75   \n",
       "8    September                                       68   \n",
       "9      October                                       57   \n",
       "10    November                                       48   \n",
       "11    December                                       48   \n",
       "\n",
       "    NewYork_Average_Rainfall(mm)  \n",
       "0                             85  \n",
       "1                             57  \n",
       "2                             90  \n",
       "3                             96  \n",
       "4                            114  \n",
       "5                             98  \n",
       "6                            101  \n",
       "7                             87  \n",
       "8                            104  \n",
       "9                             94  \n",
       "10                            69  \n",
       "11                            85  "
      ]
     },
     "execution_count": 12,
     "metadata": {},
     "output_type": "execute_result"
    }
   ],
   "source": [
    "data = pd.read_csv('datasets/USA_Temperatures.csv')\n",
    "data"
   ]
  },
  {
   "cell_type": "markdown",
   "metadata": {},
   "source": [
    "**Load the NewYork Average Temperature and Months_name into lists**\n",
    "\n",
    "We will be using these lists to generate the frames in our animation"
   ]
  },
  {
   "cell_type": "code",
   "execution_count": 13,
   "metadata": {},
   "outputs": [],
   "source": [
    "NewYork = list(data['NewYork_Average_Temperature(Fahrenheit)'])\n",
    "Months_nameList = list(data['Months_name'])"
   ]
  },
  {
   "cell_type": "markdown",
   "metadata": {},
   "source": [
    "**Declare the lists we require to build our frames**\n",
    "\n",
    "We will iterate over the USA_Temperatures data and append the Months_name and NewYork Average Temperatures to xList and yList respecively. We will then use the contents of xList and yList at each iteration to generate a frame which will be appended to framesList."
   ]
  },
  {
   "cell_type": "code",
   "execution_count": 14,
   "metadata": {},
   "outputs": [],
   "source": [
    "xList = []\n",
    "yList = []\n",
    "framesList = []"
   ]
  },
  {
   "cell_type": "markdown",
   "metadata": {},
   "source": [
    "**Generate the frames for the animation**\n",
    "\n",
    "In order to build a series of incrementally updated lists, we create a frame which contains all the x and y data of the previous frame plus a new x,y data point. \n",
    "\n",
    "We use the copy() method of a list which will create an independent (shallow) copy of the list for each frame."
   ]
  },
  {
   "cell_type": "code",
   "execution_count": 15,
   "metadata": {},
   "outputs": [],
   "source": [
    "for i in range(len(data['Months_name'])):\n",
    "    \n",
    "    xList.append(Months_nameList[i])\n",
    "    yList.append(NewYork[i])\n",
    "    \n",
    "    framesList.append(dict(data = [dict(x = xList.copy(), y = yList.copy())]))"
   ]
  },
  {
   "cell_type": "markdown",
   "metadata": {},
   "source": [
    "**Define the play button**\n",
    "\n",
    "This time we add a few more attributes to the Play button:\n",
    "\n",
    "* **fromcurrent** will set whether hitting Play will resume animation from the current frame or from the beginning. We choose to resume from the current frame (which becomes significant since we're about to add a pause button)\n",
    "* **transition** defines the transition between frames (the drawing of a line to the next point in our example)\n",
    "* **frame** defines the state of the frame itself (between transitions)\n",
    "We can speed up or slow down the animation by playing with the transition and frame durations."
   ]
  },
  {
   "cell_type": "code",
   "execution_count": 16,
   "metadata": {},
   "outputs": [],
   "source": [
    "playButton = dict(label = 'Play',\n",
    "                  method= 'animate',\n",
    "                  args= [None, \n",
    "                         dict(fromcurrent = True, \n",
    "                              transition = dict(duration = 300), \n",
    "                              frame = dict(duration = 150)\n",
    "                             )\n",
    "                        ]\n",
    "                 )"
   ]
  },
  {
   "cell_type": "markdown",
   "metadata": {},
   "source": [
    "**Define a pause button**\n",
    "\n",
    "The arguments for a pause button include:\n",
    "\n",
    "* an empty list [None] which effectively tells it to animate an empty sequence of frames\n",
    "* setting the mode to 'immediate' which tells the plot to dump any queued frames from the animation"
   ]
  },
  {
   "cell_type": "code",
   "execution_count": 17,
   "metadata": {},
   "outputs": [],
   "source": [
    "pauseButton = dict(label = 'Pause',\n",
    "                  method= 'animate',\n",
    "                  args= [[None], dict(mode = 'immediate')]\n",
    "                 )"
   ]
  },
  {
   "cell_type": "markdown",
   "metadata": {},
   "source": [
    "**Define the layout**\n",
    "\n",
    "Here, we set the X axis to include the full range of Months_name values in our dataset and leave some room on the Y axis for the NewYork Average temperatures.\n",
    "\n",
    "We finally add the Play and Pause buttons"
   ]
  },
  {
   "cell_type": "code",
   "execution_count": 18,
   "metadata": {},
   "outputs": [],
   "source": [
    "layout = go.Layout(xaxis = dict(range = [Months_nameList[0], Months_nameList[-1]]), \n",
    "                   yaxis = dict(range = [0, 1 + max(NewYork)]),\n",
    "                   \n",
    "                   updatemenus = [dict(type = 'buttons',\n",
    "                                       buttons = [playButton, pauseButton]\n",
    "                                       )\n",
    "                                 ]\n",
    "                  )"
   ]
  },
  {
   "cell_type": "markdown",
   "metadata": {},
   "source": [
    "**Plot the figure**\n",
    "\n",
    "You can now play and pause the animation. Note that markers are drawn for the first few points"
   ]
  },
  {
   "cell_type": "code",
   "execution_count": 19,
   "metadata": {},
   "outputs": [
    {
     "data": {
      "application/vnd.plotly.v1+json": {
       "data": [
        {
         "type": "scatter",
         "uid": "c5848b76-9c7d-11e8-97cf-6030d4660e22"
        }
       ],
       "frames": [
        {
         "data": [
          {
           "type": "scatter",
           "x": [
            "January"
           ],
           "y": [
            36
           ]
          }
         ]
        },
        {
         "data": [
          {
           "type": "scatter",
           "x": [
            "January",
            "February"
           ],
           "y": [
            36,
            36
           ]
          }
         ]
        },
        {
         "data": [
          {
           "type": "scatter",
           "x": [
            "January",
            "February",
            "March"
           ],
           "y": [
            36,
            36,
            39
           ]
          }
         ]
        },
        {
         "data": [
          {
           "type": "scatter",
           "x": [
            "January",
            "February",
            "March",
            "April"
           ],
           "y": [
            36,
            36,
            39,
            52
           ]
          }
         ]
        },
        {
         "data": [
          {
           "type": "scatter",
           "x": [
            "January",
            "February",
            "March",
            "April",
            "May"
           ],
           "y": [
            36,
            36,
            39,
            52,
            61
           ]
          }
         ]
        },
        {
         "data": [
          {
           "type": "scatter",
           "x": [
            "January",
            "February",
            "March",
            "April",
            "May",
            "June"
           ],
           "y": [
            36,
            36,
            39,
            52,
            61,
            72
           ]
          }
         ]
        },
        {
         "data": [
          {
           "type": "scatter",
           "x": [
            "January",
            "February",
            "March",
            "April",
            "May",
            "June",
            "July"
           ],
           "y": [
            36,
            36,
            39,
            52,
            61,
            72,
            77
           ]
          }
         ]
        },
        {
         "data": [
          {
           "type": "scatter",
           "x": [
            "January",
            "February",
            "March",
            "April",
            "May",
            "June",
            "July",
            "August"
           ],
           "y": [
            36,
            36,
            39,
            52,
            61,
            72,
            77,
            75
           ]
          }
         ]
        },
        {
         "data": [
          {
           "type": "scatter",
           "x": [
            "January",
            "February",
            "March",
            "April",
            "May",
            "June",
            "July",
            "August",
            "September"
           ],
           "y": [
            36,
            36,
            39,
            52,
            61,
            72,
            77,
            75,
            68
           ]
          }
         ]
        },
        {
         "data": [
          {
           "type": "scatter",
           "x": [
            "January",
            "February",
            "March",
            "April",
            "May",
            "June",
            "July",
            "August",
            "September",
            "October"
           ],
           "y": [
            36,
            36,
            39,
            52,
            61,
            72,
            77,
            75,
            68,
            57
           ]
          }
         ]
        },
        {
         "data": [
          {
           "type": "scatter",
           "x": [
            "January",
            "February",
            "March",
            "April",
            "May",
            "June",
            "July",
            "August",
            "September",
            "October",
            "November"
           ],
           "y": [
            36,
            36,
            39,
            52,
            61,
            72,
            77,
            75,
            68,
            57,
            48
           ]
          }
         ]
        },
        {
         "data": [
          {
           "type": "scatter",
           "x": [
            "January",
            "February",
            "March",
            "April",
            "May",
            "June",
            "July",
            "August",
            "September",
            "October",
            "November",
            "December"
           ],
           "y": [
            36,
            36,
            39,
            52,
            61,
            72,
            77,
            75,
            68,
            57,
            48,
            48
           ]
          }
         ]
        }
       ],
       "layout": {
        "updatemenus": [
         {
          "buttons": [
           {
            "args": [
             null,
             {
              "frame": {
               "duration": 150
              },
              "fromcurrent": true,
              "transition": {
               "duration": 300
              }
             }
            ],
            "label": "Play",
            "method": "animate"
           },
           {
            "args": [
             [
              null
             ],
             {
              "mode": "immediate"
             }
            ],
            "label": "Pause",
            "method": "animate"
           }
          ],
          "type": "buttons"
         }
        ],
        "xaxis": {
         "range": [
          "January",
          "December"
         ]
        },
        "yaxis": {
         "range": [
          0,
          78
         ]
        }
       }
      },
      "text/html": [
       "<div id=\"da219b0b-bf26-45be-a468-1346078b366d\" style=\"height: 525px; width: 100%;\" class=\"plotly-graph-div\"></div><script type=\"text/javascript\">require([\"plotly\"], function(Plotly) { window.PLOTLYENV=window.PLOTLYENV || {};window.PLOTLYENV.BASE_URL=\"https://plot.ly\";\n",
       "        Plotly.plot(\n",
       "            'da219b0b-bf26-45be-a468-1346078b366d',\n",
       "            [{\"type\": \"scatter\", \"uid\": \"c5b2b24c-9c7d-11e8-aca1-6030d4660e22\"}],\n",
       "            {\"updatemenus\": [{\"buttons\": [{\"args\": [null, {\"fromcurrent\": true, \"transition\": {\"duration\": 300}, \"frame\": {\"duration\": 150}}], \"label\": \"Play\", \"method\": \"animate\"}, {\"args\": [[null], {\"mode\": \"immediate\"}], \"label\": \"Pause\", \"method\": \"animate\"}], \"type\": \"buttons\"}], \"xaxis\": {\"range\": [\"January\", \"December\"]}, \"yaxis\": {\"range\": [0, 78]}},\n",
       "            {\"showLink\": true, \"linkText\": \"Export to plot.ly\"}\n",
       "        ).then(function () {return Plotly.addFrames('da219b0b-bf26-45be-a468-1346078b366d',[{\"data\": [{\"x\": [\"January\"], \"y\": [36], \"type\": \"scatter\"}]}, {\"data\": [{\"x\": [\"January\", \"February\"], \"y\": [36, 36], \"type\": \"scatter\"}]}, {\"data\": [{\"x\": [\"January\", \"February\", \"March\"], \"y\": [36, 36, 39], \"type\": \"scatter\"}]}, {\"data\": [{\"x\": [\"January\", \"February\", \"March\", \"April\"], \"y\": [36, 36, 39, 52], \"type\": \"scatter\"}]}, {\"data\": [{\"x\": [\"January\", \"February\", \"March\", \"April\", \"May\"], \"y\": [36, 36, 39, 52, 61], \"type\": \"scatter\"}]}, {\"data\": [{\"x\": [\"January\", \"February\", \"March\", \"April\", \"May\", \"June\"], \"y\": [36, 36, 39, 52, 61, 72], \"type\": \"scatter\"}]}, {\"data\": [{\"x\": [\"January\", \"February\", \"March\", \"April\", \"May\", \"June\", \"July\"], \"y\": [36, 36, 39, 52, 61, 72, 77], \"type\": \"scatter\"}]}, {\"data\": [{\"x\": [\"January\", \"February\", \"March\", \"April\", \"May\", \"June\", \"July\", \"August\"], \"y\": [36, 36, 39, 52, 61, 72, 77, 75], \"type\": \"scatter\"}]}, {\"data\": [{\"x\": [\"January\", \"February\", \"March\", \"April\", \"May\", \"June\", \"July\", \"August\", \"September\"], \"y\": [36, 36, 39, 52, 61, 72, 77, 75, 68], \"type\": \"scatter\"}]}, {\"data\": [{\"x\": [\"January\", \"February\", \"March\", \"April\", \"May\", \"June\", \"July\", \"August\", \"September\", \"October\"], \"y\": [36, 36, 39, 52, 61, 72, 77, 75, 68, 57], \"type\": \"scatter\"}]}, {\"data\": [{\"x\": [\"January\", \"February\", \"March\", \"April\", \"May\", \"June\", \"July\", \"August\", \"September\", \"October\", \"November\"], \"y\": [36, 36, 39, 52, 61, 72, 77, 75, 68, 57, 48], \"type\": \"scatter\"}]}, {\"data\": [{\"x\": [\"January\", \"February\", \"March\", \"April\", \"May\", \"June\", \"July\", \"August\", \"September\", \"October\", \"November\", \"December\"], \"y\": [36, 36, 39, 52, 61, 72, 77, 75, 68, 57, 48, 48], \"type\": \"scatter\"}]}]);}).then(function(){Plotly.animate('da219b0b-bf26-45be-a468-1346078b366d');})\n",
       "        });</script>"
      ],
      "text/vnd.plotly.v1+html": [
       "<div id=\"da219b0b-bf26-45be-a468-1346078b366d\" style=\"height: 525px; width: 100%;\" class=\"plotly-graph-div\"></div><script type=\"text/javascript\">require([\"plotly\"], function(Plotly) { window.PLOTLYENV=window.PLOTLYENV || {};window.PLOTLYENV.BASE_URL=\"https://plot.ly\";\n",
       "        Plotly.plot(\n",
       "            'da219b0b-bf26-45be-a468-1346078b366d',\n",
       "            [{\"type\": \"scatter\", \"uid\": \"c5b2b24c-9c7d-11e8-aca1-6030d4660e22\"}],\n",
       "            {\"updatemenus\": [{\"buttons\": [{\"args\": [null, {\"fromcurrent\": true, \"transition\": {\"duration\": 300}, \"frame\": {\"duration\": 150}}], \"label\": \"Play\", \"method\": \"animate\"}, {\"args\": [[null], {\"mode\": \"immediate\"}], \"label\": \"Pause\", \"method\": \"animate\"}], \"type\": \"buttons\"}], \"xaxis\": {\"range\": [\"January\", \"December\"]}, \"yaxis\": {\"range\": [0, 78]}},\n",
       "            {\"showLink\": true, \"linkText\": \"Export to plot.ly\"}\n",
       "        ).then(function () {return Plotly.addFrames('da219b0b-bf26-45be-a468-1346078b366d',[{\"data\": [{\"x\": [\"January\"], \"y\": [36], \"type\": \"scatter\"}]}, {\"data\": [{\"x\": [\"January\", \"February\"], \"y\": [36, 36], \"type\": \"scatter\"}]}, {\"data\": [{\"x\": [\"January\", \"February\", \"March\"], \"y\": [36, 36, 39], \"type\": \"scatter\"}]}, {\"data\": [{\"x\": [\"January\", \"February\", \"March\", \"April\"], \"y\": [36, 36, 39, 52], \"type\": \"scatter\"}]}, {\"data\": [{\"x\": [\"January\", \"February\", \"March\", \"April\", \"May\"], \"y\": [36, 36, 39, 52, 61], \"type\": \"scatter\"}]}, {\"data\": [{\"x\": [\"January\", \"February\", \"March\", \"April\", \"May\", \"June\"], \"y\": [36, 36, 39, 52, 61, 72], \"type\": \"scatter\"}]}, {\"data\": [{\"x\": [\"January\", \"February\", \"March\", \"April\", \"May\", \"June\", \"July\"], \"y\": [36, 36, 39, 52, 61, 72, 77], \"type\": \"scatter\"}]}, {\"data\": [{\"x\": [\"January\", \"February\", \"March\", \"April\", \"May\", \"June\", \"July\", \"August\"], \"y\": [36, 36, 39, 52, 61, 72, 77, 75], \"type\": \"scatter\"}]}, {\"data\": [{\"x\": [\"January\", \"February\", \"March\", \"April\", \"May\", \"June\", \"July\", \"August\", \"September\"], \"y\": [36, 36, 39, 52, 61, 72, 77, 75, 68], \"type\": \"scatter\"}]}, {\"data\": [{\"x\": [\"January\", \"February\", \"March\", \"April\", \"May\", \"June\", \"July\", \"August\", \"September\", \"October\"], \"y\": [36, 36, 39, 52, 61, 72, 77, 75, 68, 57], \"type\": \"scatter\"}]}, {\"data\": [{\"x\": [\"January\", \"February\", \"March\", \"April\", \"May\", \"June\", \"July\", \"August\", \"September\", \"October\", \"November\"], \"y\": [36, 36, 39, 52, 61, 72, 77, 75, 68, 57, 48], \"type\": \"scatter\"}]}, {\"data\": [{\"x\": [\"January\", \"February\", \"March\", \"April\", \"May\", \"June\", \"July\", \"August\", \"September\", \"October\", \"November\", \"December\"], \"y\": [36, 36, 39, 52, 61, 72, 77, 75, 68, 57, 48, 48], \"type\": \"scatter\"}]}]);}).then(function(){Plotly.animate('da219b0b-bf26-45be-a468-1346078b366d');})\n",
       "        });</script>"
      ]
     },
     "metadata": {},
     "output_type": "display_data"
    }
   ],
   "source": [
    "fig = dict(data=[{}], \n",
    "           layout=layout, \n",
    "           frames = framesList)\n",
    "\n",
    "offline.iplot(fig)"
   ]
  },
  {
   "cell_type": "code",
   "execution_count": null,
   "metadata": {},
   "outputs": [],
   "source": []
  }
 ],
 "metadata": {
  "kernelspec": {
   "display_name": "Python 3",
   "language": "python",
   "name": "python3"
  },
  "language_info": {
   "codemirror_mode": {
    "name": "ipython",
    "version": 3
   },
   "file_extension": ".py",
   "mimetype": "text/x-python",
   "name": "python",
   "nbconvert_exporter": "python",
   "pygments_lexer": "ipython3",
   "version": "3.6.5"
  }
 },
 "nbformat": 4,
 "nbformat_minor": 2
}
