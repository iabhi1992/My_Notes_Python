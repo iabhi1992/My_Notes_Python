{
 "cells": [
  {
   "cell_type": "code",
   "execution_count": 1,
   "metadata": {},
   "outputs": [
    {
     "data": {
      "text/html": [
       "<script>requirejs.config({paths: { 'plotly': ['https://cdn.plot.ly/plotly-latest.min']},});if(!window.Plotly) {{require(['plotly'],function(plotly) {window.Plotly=plotly;});}}</script>"
      ],
      "text/vnd.plotly.v1+html": [
       "<script>requirejs.config({paths: { 'plotly': ['https://cdn.plot.ly/plotly-latest.min']},});if(!window.Plotly) {{require(['plotly'],function(plotly) {window.Plotly=plotly;});}}</script>"
      ]
     },
     "metadata": {},
     "output_type": "display_data"
    }
   ],
   "source": [
    "import plotly.plotly as py\n",
    "from plotly import graph_objs as go\n",
    "import plotly.offline as offline\n",
    "\n",
    "offline.init_notebook_mode(connected=True)"
   ]
  },
  {
   "cell_type": "markdown",
   "metadata": {},
   "source": [
    "**Drawing shapes**\n",
    "\n",
    "Here we plot a rectangle using the following attributes:\n",
    "\n",
    "* **type** sets the type of shape. Shapes can be rect, line, circle etc.\n",
    "* **xref and yref** values determine whether absolute or relative (on a scale of 0 to 1) coordinates are used. Values of 'x' and 'y' mean that absolute values of the x and y coordinates will be used\n",
    "* **x0,y0,x1,y1** represent the left, bottom, right and top extents of the rectangle\n",
    "* **line** will format the bounding line of the rectangle\n",
    "* **fillcolor** determines the fill color for the rectangle"
   ]
  },
  {
   "cell_type": "code",
   "execution_count": 2,
   "metadata": {},
   "outputs": [],
   "source": [
    "rect_withfill = {'type': 'rect',\n",
    "        'xref': 'x',\n",
    "        'yref': 'y',\n",
    "        'x0': 3.5,\n",
    "        'y0': 3,\n",
    "        'x1': 5,\n",
    "        'y1': 8,\n",
    "\n",
    "        'line': {'color': 'blue',\n",
    "                   'width': 5,\n",
    "                  },\n",
    "\n",
    "        'fillcolor': 'lightblue'\n",
    "         }"
   ]
  },
  {
   "cell_type": "code",
   "execution_count": 3,
   "metadata": {},
   "outputs": [],
   "source": [
    "rect_withoutfill = {'type': 'rect',\n",
    "                    'xref': 'x',\n",
    "                    'yref': 'y',\n",
    "                    'x0': 0.5,\n",
    "                    'y0': 1,\n",
    "                    'x1': 2,\n",
    "                    'y1': 6,\n",
    " \n",
    "        'line': {'color': 'blue',\n",
    "                   'width': 5,\n",
    "                  },\n",
    "\n",
    "         }"
   ]
  },
  {
   "cell_type": "markdown",
   "metadata": {},
   "source": [
    "**Plot a circle using a relative scale**\n",
    "\n",
    "Setting the xref and yref to 'paper' means that we specify a positional value in the 0-1 range. Here 0 is the left or bottom of the axes, 1 is the right or top.the paper mode enables relative positioning of the shape\n",
    "\n",
    "For a circle, the x0,y0,x1,y1 values represent the extent of the circle - which in our case is not as much a circle as a skewed circle as the width is 0.3 units and the height is 0.5 units. The centre of the circle will have x = (x1-x0)/2 and y = (y1-y0)/2"
   ]
  },
  {
   "cell_type": "code",
   "execution_count": 4,
   "metadata": {},
   "outputs": [],
   "source": [
    "circ = {'type': 'circle',\n",
    "        'xref': 'paper',\n",
    "        'yref': 'paper',\n",
    "        'x0': 0.6,\n",
    "        'y0': 0.2,\n",
    "        'x1': 0.9,\n",
    "        'y1': 0.7,\n",
    "\n",
    "        'line': {'color': 'green',\n",
    "               'width': 3,\n",
    "              },\n",
    "\n",
    "        'fillcolor': 'lightpink',\n",
    "              }"
   ]
  },
  {
   "cell_type": "markdown",
   "metadata": {},
   "source": [
    "**Define the layout**\n",
    "\n",
    "We set the range for the axes and add the shapes to the layout. Note that we have been using a dictionary format to define all these objects"
   ]
  },
  {
   "cell_type": "code",
   "execution_count": 5,
   "metadata": {},
   "outputs": [],
   "source": [
    "layout = {'xaxis': {'range': [0, 10]},\n",
    "          \n",
    "          'yaxis': {'range': [0, 10]},\n",
    "          \n",
    "          'shapes': [rect_withfill, rect_withoutfill, circ]}"
   ]
  },
  {
   "cell_type": "markdown",
   "metadata": {},
   "source": [
    "**Add text annotations to the plot**\n",
    "\n",
    "We can use the Scatter object to define text annotations. Here, we use absolute coordinates which represent the center of the text annotations."
   ]
  },
  {
   "cell_type": "code",
   "execution_count": 6,
   "metadata": {},
   "outputs": [],
   "source": [
    "trace = go.Scatter(x=[4.2,7.5,1.2],\n",
    "                   y=[8.5,8,6.5],\n",
    "                   \n",
    "                   text=['Rectangle with fill',\n",
    "                         'Circle with fill',\n",
    "                         'Rectangle with out fill'],\n",
    "                   \n",
    "                   mode='text',\n",
    ")\n",
    "\n",
    "data = [trace]"
   ]
  },
  {
   "cell_type": "markdown",
   "metadata": {},
   "source": [
    "**Plot the figures**"
   ]
  },
  {
   "cell_type": "code",
   "execution_count": 7,
   "metadata": {},
   "outputs": [
    {
     "data": {
      "application/vnd.plotly.v1+json": {
       "data": [
        {
         "mode": "text",
         "text": [
          "Rectangle with fill",
          "Circle with fill",
          "Rectangle with out fill"
         ],
         "type": "scatter",
         "uid": "465fe7f6-9baf-11e8-b61f-6030d4660e22",
         "x": [
          4.2,
          7.5,
          1.2
         ],
         "y": [
          8.5,
          8,
          6.5
         ]
        }
       ],
       "layout": {
        "shapes": [
         {
          "fillcolor": "lightblue",
          "line": {
           "color": "blue",
           "width": 5
          },
          "type": "rect",
          "x0": 3.5,
          "x1": 5,
          "xref": "x",
          "y0": 3,
          "y1": 8,
          "yref": "y"
         },
         {
          "line": {
           "color": "blue",
           "width": 5
          },
          "type": "rect",
          "x0": 0.5,
          "x1": 2,
          "xref": "x",
          "y0": 1,
          "y1": 6,
          "yref": "y"
         },
         {
          "fillcolor": "lightpink",
          "line": {
           "color": "green",
           "width": 3
          },
          "type": "circle",
          "x0": 0.6,
          "x1": 0.9,
          "xref": "paper",
          "y0": 0.2,
          "y1": 0.7,
          "yref": "paper"
         }
        ],
        "xaxis": {
         "range": [
          0,
          10
         ]
        },
        "yaxis": {
         "range": [
          0,
          10
         ]
        }
       }
      },
      "text/html": [
       "<div id=\"0df79d5d-1ab2-4376-b89a-b4e4108b572f\" style=\"height: 525px; width: 100%;\" class=\"plotly-graph-div\"></div><script type=\"text/javascript\">require([\"plotly\"], function(Plotly) { window.PLOTLYENV=window.PLOTLYENV || {};window.PLOTLYENV.BASE_URL=\"https://plot.ly\";Plotly.newPlot(\"0df79d5d-1ab2-4376-b89a-b4e4108b572f\", [{\"mode\": \"text\", \"text\": [\"Rectangle with fill\", \"Circle with fill\", \"Rectangle with out fill\"], \"x\": [4.2, 7.5, 1.2], \"y\": [8.5, 8, 6.5], \"type\": \"scatter\", \"uid\": \"4683b406-9baf-11e8-a88e-6030d4660e22\"}], {\"shapes\": [{\"fillcolor\": \"lightblue\", \"line\": {\"color\": \"blue\", \"width\": 5}, \"type\": \"rect\", \"x0\": 3.5, \"x1\": 5, \"xref\": \"x\", \"y0\": 3, \"y1\": 8, \"yref\": \"y\"}, {\"line\": {\"color\": \"blue\", \"width\": 5}, \"type\": \"rect\", \"x0\": 0.5, \"x1\": 2, \"xref\": \"x\", \"y0\": 1, \"y1\": 6, \"yref\": \"y\"}, {\"fillcolor\": \"lightpink\", \"line\": {\"color\": \"green\", \"width\": 3}, \"type\": \"circle\", \"x0\": 0.6, \"x1\": 0.9, \"xref\": \"paper\", \"y0\": 0.2, \"y1\": 0.7, \"yref\": \"paper\"}], \"xaxis\": {\"range\": [0, 10]}, \"yaxis\": {\"range\": [0, 10]}}, {\"showLink\": true, \"linkText\": \"Export to plot.ly\"})});</script>"
      ],
      "text/vnd.plotly.v1+html": [
       "<div id=\"0df79d5d-1ab2-4376-b89a-b4e4108b572f\" style=\"height: 525px; width: 100%;\" class=\"plotly-graph-div\"></div><script type=\"text/javascript\">require([\"plotly\"], function(Plotly) { window.PLOTLYENV=window.PLOTLYENV || {};window.PLOTLYENV.BASE_URL=\"https://plot.ly\";Plotly.newPlot(\"0df79d5d-1ab2-4376-b89a-b4e4108b572f\", [{\"mode\": \"text\", \"text\": [\"Rectangle with fill\", \"Circle with fill\", \"Rectangle with out fill\"], \"x\": [4.2, 7.5, 1.2], \"y\": [8.5, 8, 6.5], \"type\": \"scatter\", \"uid\": \"4683b406-9baf-11e8-a88e-6030d4660e22\"}], {\"shapes\": [{\"fillcolor\": \"lightblue\", \"line\": {\"color\": \"blue\", \"width\": 5}, \"type\": \"rect\", \"x0\": 3.5, \"x1\": 5, \"xref\": \"x\", \"y0\": 3, \"y1\": 8, \"yref\": \"y\"}, {\"line\": {\"color\": \"blue\", \"width\": 5}, \"type\": \"rect\", \"x0\": 0.5, \"x1\": 2, \"xref\": \"x\", \"y0\": 1, \"y1\": 6, \"yref\": \"y\"}, {\"fillcolor\": \"lightpink\", \"line\": {\"color\": \"green\", \"width\": 3}, \"type\": \"circle\", \"x0\": 0.6, \"x1\": 0.9, \"xref\": \"paper\", \"y0\": 0.2, \"y1\": 0.7, \"yref\": \"paper\"}], \"xaxis\": {\"range\": [0, 10]}, \"yaxis\": {\"range\": [0, 10]}}, {\"showLink\": true, \"linkText\": \"Export to plot.ly\"})});</script>"
      ]
     },
     "metadata": {},
     "output_type": "display_data"
    }
   ],
   "source": [
    "fig = {\n",
    "    'data': data,\n",
    "    'layout': layout,\n",
    "}\n",
    "offline.iplot(fig)"
   ]
  },
  {
   "cell_type": "markdown",
   "metadata": {},
   "source": [
    "**SVG Notation to draw shapes**\n",
    "\n",
    "We can use SVG notation to plot various shapes in Plotly"
   ]
  },
  {
   "cell_type": "markdown",
   "metadata": {},
   "source": [
    "**Plot a triangle**\n",
    "\n",
    "* The shape will be of type 'path'\n",
    "* The path contains the SVG Notation:\n",
    " * M will Move the cursor to the point listed after it\n",
    " * L will plot a line from the current cursor location to the point following it\n",
    " * Z will close the shape by drawing a line from the current cursor to the first point"
   ]
  },
  {
   "cell_type": "code",
   "execution_count": 8,
   "metadata": {},
   "outputs": [],
   "source": [
    "filledrectangle = {'type': 'path',\n",
    "            \n",
    "            'path': ' M 1 1 L 1 3 L 4 3 L 4 1 Z',\n",
    "            \n",
    "            'fillcolor': 'limegreen',\n",
    "            'line': {'color': 'green'}\n",
    "           }"
   ]
  },
  {
   "cell_type": "code",
   "execution_count": 9,
   "metadata": {},
   "outputs": [],
   "source": [
    "filledpolygon = {'type': 'path',\n",
    "            \n",
    "             'path': ' M 3,7 L2,8 L2,9 L3,10, L4,10 L5,9 L5,8 L4,7 Z',\n",
    "            \n",
    "             'fillcolor': 'yellow',\n",
    "             'line': {'color': 'lightyellow'}\n",
    "           }"
   ]
  },
  {
   "cell_type": "markdown",
   "metadata": {},
   "source": [
    "**Plot a complex shape**\n",
    "\n",
    "Here, in addition to plotting lines we plot a quadratic bezier curve. While a line requires two points (start and end), a quadratic bezier curve requires 3 - start, control point, end. \n",
    "\n",
    "The Quadratic bezier curve is denoted by Q and has two points following it - the control point and end point. The start point is where the cursor is."
   ]
  },
  {
   "cell_type": "code",
   "execution_count": 10,
   "metadata": {},
   "outputs": [],
   "source": [
    "odd_shape = {'type': 'path',\n",
    "            \n",
    "             'path': ' M 6,4 L 6,5 Q 7,10, 8,5 L 8,4 L 7,2 L 6,4 Z',\n",
    "            \n",
    "             'fillcolor': 'tan',\n",
    "             'line': {'color': 'chocolate'}\n",
    "           }"
   ]
  },
  {
   "cell_type": "markdown",
   "metadata": {},
   "source": [
    "**Define the layout**\n",
    "\n",
    "This includes all the shapes we just defined"
   ]
  },
  {
   "cell_type": "code",
   "execution_count": 11,
   "metadata": {},
   "outputs": [],
   "source": [
    "layout = {'xaxis': {'range': [0, 9]},\n",
    "          \n",
    "          'yaxis': {'range': [0, 11]},\n",
    "          \n",
    "          'shapes': [filledrectangle, filledpolygon,odd_shape]}"
   ]
  },
  {
   "cell_type": "code",
   "execution_count": 12,
   "metadata": {},
   "outputs": [],
   "source": [
    "trace0 = go.Scatter(\n",
    "    x=[2, 1.5,7],\n",
    "    y=[0.35, 9,8],\n",
    "   \n",
    "    text=['Filled Rectangle',\n",
    "          'Filled Polygon',\n",
    "          'Odd_shape'],\n",
    "\n",
    "    mode='text',\n",
    ")\n",
    "data = [trace0]"
   ]
  },
  {
   "cell_type": "code",
   "execution_count": 13,
   "metadata": {},
   "outputs": [
    {
     "data": {
      "application/vnd.plotly.v1+json": {
       "data": [
        {
         "mode": "text",
         "text": [
          "Filled Rectangle",
          "Filled Polygon",
          "Odd_shape"
         ],
         "type": "scatter",
         "uid": "4692331e-9baf-11e8-8b3f-6030d4660e22",
         "x": [
          2,
          1.5,
          7
         ],
         "y": [
          0.35,
          9,
          8
         ]
        }
       ],
       "layout": {
        "shapes": [
         {
          "fillcolor": "limegreen",
          "line": {
           "color": "green"
          },
          "path": " M 1 1 L 1 3 L 4 3 L 4 1 Z",
          "type": "path"
         },
         {
          "fillcolor": "yellow",
          "line": {
           "color": "lightyellow"
          },
          "path": " M 3,7 L2,8 L2,9 L3,10, L4,10 L5,9 L5,8 L4,7 Z",
          "type": "path"
         },
         {
          "fillcolor": "tan",
          "line": {
           "color": "chocolate"
          },
          "path": " M 6,4 L 6,5 Q 7,10, 8,5 L 8,4 L 7,2 L 6,4 Z",
          "type": "path"
         }
        ],
        "xaxis": {
         "range": [
          0,
          9
         ]
        },
        "yaxis": {
         "range": [
          0,
          11
         ]
        }
       }
      },
      "text/html": [
       "<div id=\"4fd22aa5-5f29-4f19-b0e3-19558eb7de4f\" style=\"height: 525px; width: 100%;\" class=\"plotly-graph-div\"></div><script type=\"text/javascript\">require([\"plotly\"], function(Plotly) { window.PLOTLYENV=window.PLOTLYENV || {};window.PLOTLYENV.BASE_URL=\"https://plot.ly\";Plotly.newPlot(\"4fd22aa5-5f29-4f19-b0e3-19558eb7de4f\", [{\"mode\": \"text\", \"text\": [\"Filled Rectangle\", \"Filled Polygon\", \"Odd_shape\"], \"x\": [2, 1.5, 7], \"y\": [0.35, 9, 8], \"type\": \"scatter\", \"uid\": \"46976528-9baf-11e8-b819-6030d4660e22\"}], {\"shapes\": [{\"fillcolor\": \"limegreen\", \"line\": {\"color\": \"green\"}, \"path\": \" M 1 1 L 1 3 L 4 3 L 4 1 Z\", \"type\": \"path\"}, {\"fillcolor\": \"yellow\", \"line\": {\"color\": \"lightyellow\"}, \"path\": \" M 3,7 L2,8 L2,9 L3,10, L4,10 L5,9 L5,8 L4,7 Z\", \"type\": \"path\"}, {\"fillcolor\": \"tan\", \"line\": {\"color\": \"chocolate\"}, \"path\": \" M 6,4 L 6,5 Q 7,10, 8,5 L 8,4 L 7,2 L 6,4 Z\", \"type\": \"path\"}], \"xaxis\": {\"range\": [0, 9]}, \"yaxis\": {\"range\": [0, 11]}}, {\"showLink\": true, \"linkText\": \"Export to plot.ly\"})});</script>"
      ],
      "text/vnd.plotly.v1+html": [
       "<div id=\"4fd22aa5-5f29-4f19-b0e3-19558eb7de4f\" style=\"height: 525px; width: 100%;\" class=\"plotly-graph-div\"></div><script type=\"text/javascript\">require([\"plotly\"], function(Plotly) { window.PLOTLYENV=window.PLOTLYENV || {};window.PLOTLYENV.BASE_URL=\"https://plot.ly\";Plotly.newPlot(\"4fd22aa5-5f29-4f19-b0e3-19558eb7de4f\", [{\"mode\": \"text\", \"text\": [\"Filled Rectangle\", \"Filled Polygon\", \"Odd_shape\"], \"x\": [2, 1.5, 7], \"y\": [0.35, 9, 8], \"type\": \"scatter\", \"uid\": \"46976528-9baf-11e8-b819-6030d4660e22\"}], {\"shapes\": [{\"fillcolor\": \"limegreen\", \"line\": {\"color\": \"green\"}, \"path\": \" M 1 1 L 1 3 L 4 3 L 4 1 Z\", \"type\": \"path\"}, {\"fillcolor\": \"yellow\", \"line\": {\"color\": \"lightyellow\"}, \"path\": \" M 3,7 L2,8 L2,9 L3,10, L4,10 L5,9 L5,8 L4,7 Z\", \"type\": \"path\"}, {\"fillcolor\": \"tan\", \"line\": {\"color\": \"chocolate\"}, \"path\": \" M 6,4 L 6,5 Q 7,10, 8,5 L 8,4 L 7,2 L 6,4 Z\", \"type\": \"path\"}], \"xaxis\": {\"range\": [0, 9]}, \"yaxis\": {\"range\": [0, 11]}}, {\"showLink\": true, \"linkText\": \"Export to plot.ly\"})});</script>"
      ]
     },
     "metadata": {},
     "output_type": "display_data"
    }
   ],
   "source": [
    "fig = {\n",
    "    'data': data,\n",
    "    'layout': layout,\n",
    "}\n",
    "offline.iplot(fig)"
   ]
  },
  {
   "cell_type": "code",
   "execution_count": null,
   "metadata": {},
   "outputs": [],
   "source": []
  }
 ],
 "metadata": {
  "kernelspec": {
   "display_name": "Python 3",
   "language": "python",
   "name": "python3"
  },
  "language_info": {
   "codemirror_mode": {
    "name": "ipython",
    "version": 3
   },
   "file_extension": ".py",
   "mimetype": "text/x-python",
   "name": "python",
   "nbconvert_exporter": "python",
   "pygments_lexer": "ipython3",
   "version": "3.6.5"
  }
 },
 "nbformat": 4,
 "nbformat_minor": 2
}
