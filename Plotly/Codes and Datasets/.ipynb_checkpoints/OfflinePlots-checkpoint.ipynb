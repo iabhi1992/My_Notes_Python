{
 "cells": [
  {
   "cell_type": "code",
   "execution_count": 1,
   "metadata": {},
   "outputs": [
    {
     "name": "stdout",
     "output_type": "stream",
     "text": [
      "Requirement already up-to-date: plotly in /Users/venkatesh/anaconda3/lib/python3.6/site-packages (3.1.0)\n",
      "Requirement not upgraded as not directly required: retrying>=1.3.3 in /Users/venkatesh/anaconda3/lib/python3.6/site-packages (from plotly) (1.3.3)\n",
      "Requirement not upgraded as not directly required: requests in /Users/venkatesh/anaconda3/lib/python3.6/site-packages (from plotly) (2.18.4)\n",
      "Requirement not upgraded as not directly required: nbformat>=4.2 in /Users/venkatesh/anaconda3/lib/python3.6/site-packages (from plotly) (4.4.0)\n",
      "Requirement not upgraded as not directly required: pytz in /Users/venkatesh/anaconda3/lib/python3.6/site-packages (from plotly) (2018.4)\n",
      "Requirement not upgraded as not directly required: six in /Users/venkatesh/anaconda3/lib/python3.6/site-packages (from plotly) (1.11.0)\n",
      "Requirement not upgraded as not directly required: decorator>=4.0.6 in /Users/venkatesh/anaconda3/lib/python3.6/site-packages (from plotly) (4.3.0)\n",
      "Requirement not upgraded as not directly required: chardet<3.1.0,>=3.0.2 in /Users/venkatesh/anaconda3/lib/python3.6/site-packages (from requests->plotly) (3.0.4)\n",
      "Requirement not upgraded as not directly required: idna<2.7,>=2.5 in /Users/venkatesh/anaconda3/lib/python3.6/site-packages (from requests->plotly) (2.6)\n",
      "Requirement not upgraded as not directly required: urllib3<1.23,>=1.21.1 in /Users/venkatesh/anaconda3/lib/python3.6/site-packages (from requests->plotly) (1.22)\n",
      "Requirement not upgraded as not directly required: certifi>=2017.4.17 in /Users/venkatesh/anaconda3/lib/python3.6/site-packages (from requests->plotly) (2018.4.16)\n",
      "Requirement not upgraded as not directly required: ipython_genutils in /Users/venkatesh/anaconda3/lib/python3.6/site-packages (from nbformat>=4.2->plotly) (0.2.0)\n",
      "Requirement not upgraded as not directly required: traitlets>=4.1 in /Users/venkatesh/anaconda3/lib/python3.6/site-packages (from nbformat>=4.2->plotly) (4.3.2)\n",
      "Requirement not upgraded as not directly required: jsonschema!=2.5.0,>=2.4 in /Users/venkatesh/anaconda3/lib/python3.6/site-packages (from nbformat>=4.2->plotly) (2.6.0)\n",
      "Requirement not upgraded as not directly required: jupyter_core in /Users/venkatesh/anaconda3/lib/python3.6/site-packages (from nbformat>=4.2->plotly) (4.4.0)\n",
      "\u001b[31mdistributed 1.21.8 requires msgpack, which is not installed.\u001b[0m\n",
      "\u001b[33mYou are using pip version 10.0.1, however version 18.0 is available.\n",
      "You should consider upgrading via the 'pip install --upgrade pip' command.\u001b[0m\n"
     ]
    }
   ],
   "source": [
    "!pip install plotly --upgrade"
   ]
  },
  {
   "cell_type": "code",
   "execution_count": 2,
   "metadata": {},
   "outputs": [
    {
     "data": {
      "text/plain": [
       "'3.1.0'"
      ]
     },
     "execution_count": 2,
     "metadata": {},
     "output_type": "execute_result"
    }
   ],
   "source": [
    "import plotly\n",
    "plotly.__version__"
   ]
  },
  {
   "cell_type": "markdown",
   "metadata": {},
   "source": [
    "**Plotly's offline module**\n",
    "\n",
    "The offline module allows interactive plots to be created offline (as opposed to saving them online in one's Plotly account)"
   ]
  },
  {
   "cell_type": "code",
   "execution_count": 3,
   "metadata": {},
   "outputs": [],
   "source": [
    "import plotly.offline as offline"
   ]
  },
  {
   "cell_type": "markdown",
   "metadata": {},
   "source": [
    "**The plot() function will create a plot on your local storage and open it up in a browser**\n",
    "\n",
    "The argument to supply is a figure or data object which is a subclass of a python dictionary. The values which are needed for a plot are the x and y coordinates of the points.\n",
    "\n",
    "This will generate a Plotly scatter plot with a line connecting the points supplied."
   ]
  },
  {
   "cell_type": "code",
   "execution_count": 4,
   "metadata": {},
   "outputs": [
    {
     "data": {
      "text/plain": [
       "'file:///Users/venkatesh/Desktop/plotly_stack/temp-plot.html'"
      ]
     },
     "execution_count": 4,
     "metadata": {},
     "output_type": "execute_result"
    }
   ],
   "source": [
    "offline.plot([{'x': [5, 8, 10], \n",
    "               'y': [4, 6, 9]}])"
   ]
  },
  {
   "cell_type": "markdown",
   "metadata": {},
   "source": [
    "**Generate the plot within the Jupyter notebook**\n",
    "\n",
    "In order to view the plot inline within the notebook, we need to set plotly to run in notebook mode"
   ]
  },
  {
   "cell_type": "code",
   "execution_count": 5,
   "metadata": {},
   "outputs": [
    {
     "data": {
      "text/html": [
       "<script>requirejs.config({paths: { 'plotly': ['https://cdn.plot.ly/plotly-latest.min']},});if(!window.Plotly) {{require(['plotly'],function(plotly) {window.Plotly=plotly;});}}</script>"
      ],
      "text/vnd.plotly.v1+html": [
       "<script>requirejs.config({paths: { 'plotly': ['https://cdn.plot.ly/plotly-latest.min']},});if(!window.Plotly) {{require(['plotly'],function(plotly) {window.Plotly=plotly;});}}</script>"
      ]
     },
     "metadata": {},
     "output_type": "display_data"
    }
   ],
   "source": [
    "offline.init_notebook_mode(connected=True)"
   ]
  },
  {
   "cell_type": "markdown",
   "metadata": {},
   "source": [
    "**Use the iplot function in order to plot the line inline**\n",
    "\n",
    "The same plot we generated earlier, but within our notebook. Notice that this is an interactive plot which supplies several options including:\n",
    "* Download the plot as a png file\n",
    "* Editing the plot in Plotly's own editing tool - Chart Studio\n",
    "* Zooming in and out\n",
    "* Selecting a section of the plot using a box select or lasso select tool"
   ]
  },
  {
   "cell_type": "code",
   "execution_count": 6,
   "metadata": {},
   "outputs": [
    {
     "data": {
      "application/vnd.plotly.v1+json": {
       "data": [
        {
         "type": "scatter",
         "uid": "fc3c0876-94ba-11e8-b229-6030d4660e22",
         "x": [
          5,
          8,
          10
         ],
         "y": [
          4,
          6,
          9
         ]
        }
       ],
       "layout": {}
      },
      "text/html": [
       "<div id=\"bc2fa8e9-b7d8-40f7-867d-dd3f74104874\" style=\"height: 525px; width: 100%;\" class=\"plotly-graph-div\"></div><script type=\"text/javascript\">require([\"plotly\"], function(Plotly) { window.PLOTLYENV=window.PLOTLYENV || {};window.PLOTLYENV.BASE_URL=\"https://plot.ly\";Plotly.newPlot(\"bc2fa8e9-b7d8-40f7-867d-dd3f74104874\", [{\"x\": [5, 8, 10], \"y\": [4, 6, 9], \"type\": \"scatter\", \"uid\": \"fc4792e8-94ba-11e8-ac6e-6030d4660e22\"}], {}, {\"showLink\": true, \"linkText\": \"Export to plot.ly\"})});</script>"
      ],
      "text/vnd.plotly.v1+html": [
       "<div id=\"bc2fa8e9-b7d8-40f7-867d-dd3f74104874\" style=\"height: 525px; width: 100%;\" class=\"plotly-graph-div\"></div><script type=\"text/javascript\">require([\"plotly\"], function(Plotly) { window.PLOTLYENV=window.PLOTLYENV || {};window.PLOTLYENV.BASE_URL=\"https://plot.ly\";Plotly.newPlot(\"bc2fa8e9-b7d8-40f7-867d-dd3f74104874\", [{\"x\": [5, 8, 10], \"y\": [4, 6, 9], \"type\": \"scatter\", \"uid\": \"fc4792e8-94ba-11e8-ac6e-6030d4660e22\"}], {}, {\"showLink\": true, \"linkText\": \"Export to plot.ly\"})});</script>"
      ]
     },
     "metadata": {},
     "output_type": "display_data"
    }
   ],
   "source": [
    "offline.iplot([{'x': [5, 8, 10], \n",
    "               'y': [4, 6, 9]}])"
   ]
  },
  {
   "cell_type": "markdown",
   "metadata": {},
   "source": [
    "**The X coordinates cane be inferred**\n",
    "\n",
    "If the X Coordinates are not supplied explicitly, they are set to the index of the y coordinates. In this case the x coordinates are presumed to be [0,1,2]"
   ]
  },
  {
   "cell_type": "code",
   "execution_count": 7,
   "metadata": {},
   "outputs": [
    {
     "data": {
      "application/vnd.plotly.v1+json": {
       "data": [
        {
         "type": "scatter",
         "uid": "fc4fc47e-94ba-11e8-97de-6030d4660e22",
         "y": [
          4,
          6,
          9
         ]
        }
       ],
       "layout": {}
      },
      "text/html": [
       "<div id=\"39a932f3-7c5a-469d-8adf-78a5acb27163\" style=\"height: 525px; width: 100%;\" class=\"plotly-graph-div\"></div><script type=\"text/javascript\">require([\"plotly\"], function(Plotly) { window.PLOTLYENV=window.PLOTLYENV || {};window.PLOTLYENV.BASE_URL=\"https://plot.ly\";Plotly.newPlot(\"39a932f3-7c5a-469d-8adf-78a5acb27163\", [{\"y\": [4, 6, 9], \"type\": \"scatter\", \"uid\": \"fc546f4c-94ba-11e8-8d22-6030d4660e22\"}], {}, {\"showLink\": true, \"linkText\": \"Export to plot.ly\"})});</script>"
      ],
      "text/vnd.plotly.v1+html": [
       "<div id=\"39a932f3-7c5a-469d-8adf-78a5acb27163\" style=\"height: 525px; width: 100%;\" class=\"plotly-graph-div\"></div><script type=\"text/javascript\">require([\"plotly\"], function(Plotly) { window.PLOTLYENV=window.PLOTLYENV || {};window.PLOTLYENV.BASE_URL=\"https://plot.ly\";Plotly.newPlot(\"39a932f3-7c5a-469d-8adf-78a5acb27163\", [{\"y\": [4, 6, 9], \"type\": \"scatter\", \"uid\": \"fc546f4c-94ba-11e8-8d22-6030d4660e22\"}], {}, {\"showLink\": true, \"linkText\": \"Export to plot.ly\"})});</script>"
      ]
     },
     "metadata": {},
     "output_type": "display_data"
    }
   ],
   "source": [
    "offline.iplot([{'y': [4, 6, 9]}])"
   ]
  },
  {
   "cell_type": "markdown",
   "metadata": {},
   "source": [
    "**The Y coordinates can also be inferred**\n",
    "\n",
    "This time we only supply the X coordinates, and the Y coordinates are set to [0,1,2]"
   ]
  },
  {
   "cell_type": "code",
   "execution_count": 8,
   "metadata": {},
   "outputs": [
    {
     "data": {
      "application/vnd.plotly.v1+json": {
       "data": [
        {
         "type": "scatter",
         "uid": "fc5b26ca-94ba-11e8-a56c-6030d4660e22",
         "x": [
          5,
          8,
          10
         ]
        }
       ],
       "layout": {}
      },
      "text/html": [
       "<div id=\"e967695c-0219-4e6a-b519-40da0e1d9b56\" style=\"height: 525px; width: 100%;\" class=\"plotly-graph-div\"></div><script type=\"text/javascript\">require([\"plotly\"], function(Plotly) { window.PLOTLYENV=window.PLOTLYENV || {};window.PLOTLYENV.BASE_URL=\"https://plot.ly\";Plotly.newPlot(\"e967695c-0219-4e6a-b519-40da0e1d9b56\", [{\"x\": [5, 8, 10], \"type\": \"scatter\", \"uid\": \"fc5f31ac-94ba-11e8-8a47-6030d4660e22\"}], {}, {\"showLink\": true, \"linkText\": \"Export to plot.ly\"})});</script>"
      ],
      "text/vnd.plotly.v1+html": [
       "<div id=\"e967695c-0219-4e6a-b519-40da0e1d9b56\" style=\"height: 525px; width: 100%;\" class=\"plotly-graph-div\"></div><script type=\"text/javascript\">require([\"plotly\"], function(Plotly) { window.PLOTLYENV=window.PLOTLYENV || {};window.PLOTLYENV.BASE_URL=\"https://plot.ly\";Plotly.newPlot(\"e967695c-0219-4e6a-b519-40da0e1d9b56\", [{\"x\": [5, 8, 10], \"type\": \"scatter\", \"uid\": \"fc5f31ac-94ba-11e8-8a47-6030d4660e22\"}], {}, {\"showLink\": true, \"linkText\": \"Export to plot.ly\"})});</script>"
      ]
     },
     "metadata": {},
     "output_type": "display_data"
    }
   ],
   "source": [
    "offline.iplot([{'x': [5, 8, 10]}])"
   ]
  },
  {
   "cell_type": "markdown",
   "metadata": {},
   "source": [
    "**Use Python's help function to get the documentation for Plotly functions**\n",
    "\n",
    "The online documentation for Plotly contains examples, but does not list details such as the parameters for a function. For that, use Python's help() for Plotly functions as well as modules and objects.\n",
    "\n",
    "The online documentation is better for objects though."
   ]
  },
  {
   "cell_type": "code",
   "execution_count": 9,
   "metadata": {},
   "outputs": [
    {
     "name": "stdout",
     "output_type": "stream",
     "text": [
      "Help on function plot in module plotly.offline.offline:\n",
      "\n",
      "plot(figure_or_data, show_link=True, link_text='Export to plot.ly', validate=True, output_type='file', include_plotlyjs=True, filename='temp-plot.html', auto_open=True, image=None, image_filename='plot_image', image_width=800, image_height=600, config=None)\n",
      "    Create a plotly graph locally as an HTML document or string.\n",
      "    \n",
      "    Example:\n",
      "    ```\n",
      "    from plotly.offline import plot\n",
      "    import plotly.graph_objs as go\n",
      "    \n",
      "    plot([go.Scatter(x=[1, 2, 3], y=[3, 2, 6])], filename='my-graph.html')\n",
      "    # We can also download an image of the plot by setting the image parameter\n",
      "    # to the image format we want\n",
      "    plot([go.Scatter(x=[1, 2, 3], y=[3, 2, 6])], filename='my-graph.html'\n",
      "         image='jpeg')\n",
      "    ```\n",
      "    More examples below.\n",
      "    \n",
      "    figure_or_data -- a plotly.graph_objs.Figure or plotly.graph_objs.Data or\n",
      "                      dict or list that describes a Plotly graph.\n",
      "                      See https://plot.ly/python/ for examples of\n",
      "                      graph descriptions.\n",
      "    \n",
      "    Keyword arguments:\n",
      "    show_link (default=True) -- display a link in the bottom-right corner of\n",
      "        of the chart that will export the chart to Plotly Cloud or\n",
      "        Plotly Enterprise\n",
      "    link_text (default='Export to plot.ly') -- the text of export link\n",
      "    validate (default=True) -- validate that all of the keys in the figure\n",
      "        are valid? omit if your version of plotly.js has become outdated\n",
      "        with your version of graph_reference.json or if you need to include\n",
      "        extra, unnecessary keys in your figure.\n",
      "    output_type ('file' | 'div' - default 'file') -- if 'file', then\n",
      "        the graph is saved as a standalone HTML file and `plot`\n",
      "        returns None.\n",
      "        If 'div', then `plot` returns a string that just contains the\n",
      "        HTML <div> that contains the graph and the script to generate the\n",
      "        graph.\n",
      "        Use 'file' if you want to save and view a single graph at a time\n",
      "        in a standalone HTML file.\n",
      "        Use 'div' if you are embedding these graphs in an HTML file with\n",
      "        other graphs or HTML markup, like a HTML report or an website.\n",
      "    include_plotlyjs (default=True) -- If True, include the plotly.js\n",
      "        source code in the output file or string.\n",
      "        Set as False if your HTML file already contains a copy of the plotly.js\n",
      "        library.\n",
      "    filename (default='temp-plot.html') -- The local filename to save the\n",
      "        outputted chart to. If the filename already exists, it will be\n",
      "        overwritten. This argument only applies if `output_type` is 'file'.\n",
      "    auto_open (default=True) -- If True, open the saved file in a\n",
      "        web browser after saving.\n",
      "        This argument only applies if `output_type` is 'file'.\n",
      "    image (default=None |'png' |'jpeg' |'svg' |'webp') -- This parameter sets\n",
      "        the format of the image to be downloaded, if we choose to download an\n",
      "        image. This parameter has a default value of None indicating that no\n",
      "        image should be downloaded. Please note: for higher resolution images\n",
      "        and more export options, consider making requests to our image servers.\n",
      "        Type: `help(py.image)` for more details.\n",
      "    image_filename (default='plot_image') -- Sets the name of the file your\n",
      "        image will be saved to. The extension should not be included.\n",
      "    image_height (default=600) -- Specifies the height of the image in `px`.\n",
      "    image_width (default=800) -- Specifies the width of the image in `px`.\n",
      "    config (default=None) -- Plot view options dictionary. Keyword arguments\n",
      "        `show_link` and `link_text` set the associated options in this\n",
      "        dictionary if it doesn't contain them already.\n",
      "\n"
     ]
    }
   ],
   "source": [
    "help(offline.plot)"
   ]
  },
  {
   "cell_type": "code",
   "execution_count": null,
   "metadata": {},
   "outputs": [],
   "source": []
  }
 ],
 "metadata": {
  "kernelspec": {
   "display_name": "Python 3",
   "language": "python",
   "name": "python3"
  },
  "language_info": {
   "codemirror_mode": {
    "name": "ipython",
    "version": 3
   },
   "file_extension": ".py",
   "mimetype": "text/x-python",
   "name": "python",
   "nbconvert_exporter": "python",
   "pygments_lexer": "ipython3",
   "version": "3.6.5"
  }
 },
 "nbformat": 4,
 "nbformat_minor": 2
}
