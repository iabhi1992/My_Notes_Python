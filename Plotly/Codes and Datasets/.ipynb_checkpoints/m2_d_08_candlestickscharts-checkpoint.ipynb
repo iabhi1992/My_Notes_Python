{
 "cells": [
  {
   "cell_type": "code",
   "execution_count": 1,
   "metadata": {},
   "outputs": [
    {
     "data": {
      "text/html": [
       "<script>requirejs.config({paths: { 'plotly': ['https://cdn.plot.ly/plotly-latest.min']},});if(!window.Plotly) {{require(['plotly'],function(plotly) {window.Plotly=plotly;});}}</script>"
      ],
      "text/vnd.plotly.v1+html": [
       "<script>requirejs.config({paths: { 'plotly': ['https://cdn.plot.ly/plotly-latest.min']},});if(!window.Plotly) {{require(['plotly'],function(plotly) {window.Plotly=plotly;});}}</script>"
      ]
     },
     "metadata": {},
     "output_type": "display_data"
    }
   ],
   "source": [
    "import plotly.plotly as py\n",
    "import plotly.graph_objs as go\n",
    "import plotly.offline as offline\n",
    "\n",
    "offline.init_notebook_mode(connected=True)"
   ]
  },
  {
   "cell_type": "markdown",
   "metadata": {},
   "source": [
    "**install padas_datareader to read the data from web**"
   ]
  },
  {
   "cell_type": "code",
   "execution_count": 2,
   "metadata": {},
   "outputs": [
    {
     "name": "stdout",
     "output_type": "stream",
     "text": [
      "Requirement already up-to-date: pandas_datareader in /anaconda3/lib/python3.6/site-packages (0.6.0)\n",
      "Requirement already satisfied, skipping upgrade: lxml in /anaconda3/lib/python3.6/site-packages (from pandas_datareader) (4.2.1)\n",
      "Requirement already satisfied, skipping upgrade: requests-file in /anaconda3/lib/python3.6/site-packages (from pandas_datareader) (1.4.3)\n",
      "Requirement already satisfied, skipping upgrade: pandas>=0.19.2 in /anaconda3/lib/python3.6/site-packages (from pandas_datareader) (0.23.0)\n",
      "Requirement already satisfied, skipping upgrade: requests>=2.3.0 in /anaconda3/lib/python3.6/site-packages (from pandas_datareader) (2.18.4)\n",
      "Requirement already satisfied, skipping upgrade: wrapt in /anaconda3/lib/python3.6/site-packages (from pandas_datareader) (1.10.11)\n",
      "Requirement already satisfied, skipping upgrade: requests-ftp in /anaconda3/lib/python3.6/site-packages (from pandas_datareader) (0.3.1)\n",
      "Requirement already satisfied, skipping upgrade: six in /anaconda3/lib/python3.6/site-packages (from requests-file->pandas_datareader) (1.11.0)\n",
      "Requirement already satisfied, skipping upgrade: python-dateutil>=2.5.0 in /anaconda3/lib/python3.6/site-packages (from pandas>=0.19.2->pandas_datareader) (2.7.3)\n",
      "Requirement already satisfied, skipping upgrade: pytz>=2011k in /anaconda3/lib/python3.6/site-packages (from pandas>=0.19.2->pandas_datareader) (2018.4)\n",
      "Requirement already satisfied, skipping upgrade: numpy>=1.9.0 in /anaconda3/lib/python3.6/site-packages (from pandas>=0.19.2->pandas_datareader) (1.14.3)\n",
      "Requirement already satisfied, skipping upgrade: chardet<3.1.0,>=3.0.2 in /anaconda3/lib/python3.6/site-packages (from requests>=2.3.0->pandas_datareader) (3.0.4)\n",
      "Requirement already satisfied, skipping upgrade: idna<2.7,>=2.5 in /anaconda3/lib/python3.6/site-packages (from requests>=2.3.0->pandas_datareader) (2.6)\n",
      "Requirement already satisfied, skipping upgrade: urllib3<1.23,>=1.21.1 in /anaconda3/lib/python3.6/site-packages (from requests>=2.3.0->pandas_datareader) (1.22)\n",
      "Requirement already satisfied, skipping upgrade: certifi>=2017.4.17 in /anaconda3/lib/python3.6/site-packages (from requests>=2.3.0->pandas_datareader) (2018.4.16)\n"
     ]
    }
   ],
   "source": [
    "!pip install pandas_datareader --upgrade"
   ]
  },
  {
   "cell_type": "code",
   "execution_count": 3,
   "metadata": {},
   "outputs": [],
   "source": [
    "import pandas as pd\n",
    "pd.core.common.is_list_like = pd.api.types.is_list_like\n",
    "import pandas_datareader as web\n",
    "\n",
    "from datetime import datetime"
   ]
  },
  {
   "cell_type": "markdown",
   "metadata": {},
   "source": [
    "**Candlestick with pandas on apple stock**\n",
    "\n",
    "A candlestick chart (also called Japanese candlestick chart) is a style of financial chart used to describe price movements of a security, derivative, or currency.\n",
    "\n"
   ]
  },
  {
   "cell_type": "markdown",
   "metadata": {},
   "source": [
    "**Gather stock data**\n",
    "\n",
    "First collect a few days of OHLC (Open High Low Close) data for the apple stock from iex."
   ]
  },
  {
   "cell_type": "code",
   "execution_count": 4,
   "metadata": {},
   "outputs": [
    {
     "name": "stdout",
     "output_type": "stream",
     "text": [
      "1y\n"
     ]
    }
   ],
   "source": [
    "apple = web.DataReader('AAPL', 'iex',\n",
    "                      \n",
    "                      datetime(2018, 1, 1),\n",
    "                      datetime(2018, 1, 10)).reset_index()\n",
    "\n"
   ]
  },
  {
   "cell_type": "markdown",
   "metadata": {},
   "source": [
    "**Define the candlestick graph**\n",
    "\n",
    "The fields which are passed to the chart include the OHLC fields along with the series which is represented on the X axis (typically the date)"
   ]
  },
  {
   "cell_type": "code",
   "execution_count": 5,
   "metadata": {},
   "outputs": [],
   "source": [
    "trace = go.Candlestick(x = apple.date,\n",
    "                       \n",
    "                       open = apple.open,\n",
    "                       \n",
    "                       high = apple.high,\n",
    "                       \n",
    "                       low = apple.low,\n",
    "                       \n",
    "                       close = apple.close)"
   ]
  },
  {
   "cell_type": "markdown",
   "metadata": {},
   "source": [
    "**Plot the candlesticks**\n",
    "\n",
    "The plot has the following components:\n",
    "\n",
    "* A bounding box whose y values represent the range between the stock's open and close prices\n",
    "* A green box represents a higher close value than open (i.e. stock price went up that day)\n",
    "* The box is red when the stock closed lower\n",
    "* The vertical lines (bars above and below the box) show the range of intra-day high and low prices\n",
    "* The vertical lines are capped at the top by horizontal lines called whiserks. By default, the width of the whisker is 0 which is why we don't see them\n",
    "\n",
    "Notice that a slider appears by default along the X axis"
   ]
  },
  {
   "cell_type": "code",
   "execution_count": 6,
   "metadata": {},
   "outputs": [
    {
     "data": {
      "application/vnd.plotly.v1+json": {
       "data": [
        {
         "close": [
          170.9015,
          170.8717,
          171.6654,
          173.6199,
          172.975,
          172.9552,
          172.9155
         ],
         "high": [
          170.9412,
          173.1734,
          172.1019,
          173.987,
          174.2251,
          173.6794,
          172.9254
         ],
         "low": [
          167.9251,
          170.6039,
          170.7229,
          171.6853,
          172.5583,
          172.0424,
          171.6357
         ],
         "open": [
          168.818,
          171.1694,
          171.1793,
          172.0722,
          172.975,
          173.1734,
          171.7944
         ],
         "type": "candlestick",
         "uid": "0cf22898-9b9c-11e8-b560-6030d4660e22",
         "x": [
          "2018-01-02",
          "2018-01-03",
          "2018-01-04",
          "2018-01-05",
          "2018-01-08",
          "2018-01-09",
          "2018-01-10"
         ]
        }
       ],
       "layout": {}
      },
      "text/html": [
       "<div id=\"8cbcb40a-92d3-44ee-b8a2-13e92eea4695\" style=\"height: 525px; width: 100%;\" class=\"plotly-graph-div\"></div><script type=\"text/javascript\">require([\"plotly\"], function(Plotly) { window.PLOTLYENV=window.PLOTLYENV || {};window.PLOTLYENV.BASE_URL=\"https://plot.ly\";Plotly.newPlot(\"8cbcb40a-92d3-44ee-b8a2-13e92eea4695\", [{\"close\": [170.9015, 170.8717, 171.6654, 173.6199, 172.975, 172.9552, 172.9155], \"high\": [170.9412, 173.1734, 172.1019, 173.987, 174.2251, 173.6794, 172.9254], \"low\": [167.9251, 170.6039, 170.7229, 171.6853, 172.5583, 172.0424, 171.6357], \"open\": [168.818, 171.1694, 171.1793, 172.0722, 172.975, 173.1734, 171.7944], \"x\": [\"2018-01-02\", \"2018-01-03\", \"2018-01-04\", \"2018-01-05\", \"2018-01-08\", \"2018-01-09\", \"2018-01-10\"], \"type\": \"candlestick\", \"uid\": \"0d14ad8c-9b9c-11e8-ac88-6030d4660e22\"}], {}, {\"showLink\": true, \"linkText\": \"Export to plot.ly\"})});</script>"
      ],
      "text/vnd.plotly.v1+html": [
       "<div id=\"8cbcb40a-92d3-44ee-b8a2-13e92eea4695\" style=\"height: 525px; width: 100%;\" class=\"plotly-graph-div\"></div><script type=\"text/javascript\">require([\"plotly\"], function(Plotly) { window.PLOTLYENV=window.PLOTLYENV || {};window.PLOTLYENV.BASE_URL=\"https://plot.ly\";Plotly.newPlot(\"8cbcb40a-92d3-44ee-b8a2-13e92eea4695\", [{\"close\": [170.9015, 170.8717, 171.6654, 173.6199, 172.975, 172.9552, 172.9155], \"high\": [170.9412, 173.1734, 172.1019, 173.987, 174.2251, 173.6794, 172.9254], \"low\": [167.9251, 170.6039, 170.7229, 171.6853, 172.5583, 172.0424, 171.6357], \"open\": [168.818, 171.1694, 171.1793, 172.0722, 172.975, 173.1734, 171.7944], \"x\": [\"2018-01-02\", \"2018-01-03\", \"2018-01-04\", \"2018-01-05\", \"2018-01-08\", \"2018-01-09\", \"2018-01-10\"], \"type\": \"candlestick\", \"uid\": \"0d14ad8c-9b9c-11e8-ac88-6030d4660e22\"}], {}, {\"showLink\": true, \"linkText\": \"Export to plot.ly\"})});</script>"
      ]
     },
     "metadata": {},
     "output_type": "display_data"
    }
   ],
   "source": [
    "data = [trace]\n",
    "\n",
    "offline.iplot(data)"
   ]
  },
  {
   "cell_type": "markdown",
   "metadata": {},
   "source": [
    "### Customizing the candlesticks\n",
    "The following customizations can be added to candlesticks:\n",
    "* Format the fillcolor of the bounding boxes which come in two forms:\n",
    " * increasing represents the boxes when close > open (a green shade by default)\n",
    " * decreasing represents the boxes when close < open (a red shade by default)\n",
    "* Format the lines of the bounding boxes and whiskers\n",
    "* Set the whisker width (as a proportion of box size. Default is 0, max is 1 which is equal to box size)"
   ]
  },
  {
   "cell_type": "code",
   "execution_count": 7,
   "metadata": {},
   "outputs": [],
   "source": [
    "trace = go.Candlestick(x = apple.date,\n",
    "                       open = apple.open,\n",
    "                       high = apple.high,\n",
    "                       low = apple.low,\n",
    "                       close = apple.close, \n",
    "                       \n",
    "                       increasing = dict(fillcolor = 'greenyellow', \n",
    "                                         line = dict(color = 'green', \n",
    "                                                     width = 3\n",
    "                                                    )\n",
    "                                        ),\n",
    "                       decreasing = dict(fillcolor = 'red'),\n",
    "                       \n",
    "                       whiskerwidth = 0.2\n",
    "                      )"
   ]
  },
  {
   "cell_type": "code",
   "execution_count": 8,
   "metadata": {},
   "outputs": [],
   "source": [
    "data = [trace]"
   ]
  },
  {
   "cell_type": "code",
   "execution_count": 9,
   "metadata": {},
   "outputs": [
    {
     "data": {
      "application/vnd.plotly.v1+json": {
       "data": [
        {
         "close": [
          170.9015,
          170.8717,
          171.6654,
          173.6199,
          172.975,
          172.9552,
          172.9155
         ],
         "decreasing": {
          "fillcolor": "red"
         },
         "high": [
          170.9412,
          173.1734,
          172.1019,
          173.987,
          174.2251,
          173.6794,
          172.9254
         ],
         "increasing": {
          "fillcolor": "greenyellow",
          "line": {
           "color": "green",
           "width": 3
          }
         },
         "low": [
          167.9251,
          170.6039,
          170.7229,
          171.6853,
          172.5583,
          172.0424,
          171.6357
         ],
         "open": [
          168.818,
          171.1694,
          171.1793,
          172.0722,
          172.975,
          173.1734,
          171.7944
         ],
         "type": "candlestick",
         "uid": "0d1f5f28-9b9c-11e8-97b4-6030d4660e22",
         "whiskerwidth": 0.2,
         "x": [
          "2018-01-02",
          "2018-01-03",
          "2018-01-04",
          "2018-01-05",
          "2018-01-08",
          "2018-01-09",
          "2018-01-10"
         ]
        }
       ],
       "layout": {}
      },
      "text/html": [
       "<div id=\"20a384d7-3f05-4f7e-a7c1-542ff0931caf\" style=\"height: 525px; width: 100%;\" class=\"plotly-graph-div\"></div><script type=\"text/javascript\">require([\"plotly\"], function(Plotly) { window.PLOTLYENV=window.PLOTLYENV || {};window.PLOTLYENV.BASE_URL=\"https://plot.ly\";Plotly.newPlot(\"20a384d7-3f05-4f7e-a7c1-542ff0931caf\", [{\"close\": [170.9015, 170.8717, 171.6654, 173.6199, 172.975, 172.9552, 172.9155], \"decreasing\": {\"fillcolor\": \"red\"}, \"high\": [170.9412, 173.1734, 172.1019, 173.987, 174.2251, 173.6794, 172.9254], \"increasing\": {\"fillcolor\": \"greenyellow\", \"line\": {\"color\": \"green\", \"width\": 3}}, \"low\": [167.9251, 170.6039, 170.7229, 171.6853, 172.5583, 172.0424, 171.6357], \"open\": [168.818, 171.1694, 171.1793, 172.0722, 172.975, 173.1734, 171.7944], \"whiskerwidth\": 0.2, \"x\": [\"2018-01-02\", \"2018-01-03\", \"2018-01-04\", \"2018-01-05\", \"2018-01-08\", \"2018-01-09\", \"2018-01-10\"], \"type\": \"candlestick\", \"uid\": \"0d23e068-9b9c-11e8-bee6-6030d4660e22\"}], {}, {\"showLink\": true, \"linkText\": \"Export to plot.ly\"})});</script>"
      ],
      "text/vnd.plotly.v1+html": [
       "<div id=\"20a384d7-3f05-4f7e-a7c1-542ff0931caf\" style=\"height: 525px; width: 100%;\" class=\"plotly-graph-div\"></div><script type=\"text/javascript\">require([\"plotly\"], function(Plotly) { window.PLOTLYENV=window.PLOTLYENV || {};window.PLOTLYENV.BASE_URL=\"https://plot.ly\";Plotly.newPlot(\"20a384d7-3f05-4f7e-a7c1-542ff0931caf\", [{\"close\": [170.9015, 170.8717, 171.6654, 173.6199, 172.975, 172.9552, 172.9155], \"decreasing\": {\"fillcolor\": \"red\"}, \"high\": [170.9412, 173.1734, 172.1019, 173.987, 174.2251, 173.6794, 172.9254], \"increasing\": {\"fillcolor\": \"greenyellow\", \"line\": {\"color\": \"green\", \"width\": 3}}, \"low\": [167.9251, 170.6039, 170.7229, 171.6853, 172.5583, 172.0424, 171.6357], \"open\": [168.818, 171.1694, 171.1793, 172.0722, 172.975, 173.1734, 171.7944], \"whiskerwidth\": 0.2, \"x\": [\"2018-01-02\", \"2018-01-03\", \"2018-01-04\", \"2018-01-05\", \"2018-01-08\", \"2018-01-09\", \"2018-01-10\"], \"type\": \"candlestick\", \"uid\": \"0d23e068-9b9c-11e8-bee6-6030d4660e22\"}], {}, {\"showLink\": true, \"linkText\": \"Export to plot.ly\"})});</script>"
      ]
     },
     "metadata": {},
     "output_type": "display_data"
    }
   ],
   "source": [
    "fig = dict(data=data)\n",
    "\n",
    "offline.iplot(fig)"
   ]
  },
  {
   "cell_type": "code",
   "execution_count": null,
   "metadata": {},
   "outputs": [],
   "source": []
  }
 ],
 "metadata": {
  "kernelspec": {
   "display_name": "Python 3",
   "language": "python",
   "name": "python3"
  },
  "language_info": {
   "codemirror_mode": {
    "name": "ipython",
    "version": 3
   },
   "file_extension": ".py",
   "mimetype": "text/x-python",
   "name": "python",
   "nbconvert_exporter": "python",
   "pygments_lexer": "ipython3",
   "version": "3.6.5"
  }
 },
 "nbformat": 4,
 "nbformat_minor": 2
}
