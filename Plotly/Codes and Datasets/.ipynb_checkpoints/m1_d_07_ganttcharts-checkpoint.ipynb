{
 "cells": [
  {
   "cell_type": "markdown",
   "metadata": {},
   "source": [
    "### A Gantt chart provides a graphical illustration of a schedule that helps to plan, coordinate, and track specific tasks in a project."
   ]
  },
  {
   "cell_type": "code",
   "execution_count": 1,
   "metadata": {},
   "outputs": [
    {
     "data": {
      "text/html": [
       "<script>requirejs.config({paths: { 'plotly': ['https://cdn.plot.ly/plotly-latest.min']},});if(!window.Plotly) {{require(['plotly'],function(plotly) {window.Plotly=plotly;});}}</script>"
      ],
      "text/vnd.plotly.v1+html": [
       "<script>requirejs.config({paths: { 'plotly': ['https://cdn.plot.ly/plotly-latest.min']},});if(!window.Plotly) {{require(['plotly'],function(plotly) {window.Plotly=plotly;});}}</script>"
      ]
     },
     "metadata": {},
     "output_type": "display_data"
    }
   ],
   "source": [
    "import plotly.plotly as py\n",
    "import plotly.offline as offline\n",
    "\n",
    "offline.init_notebook_mode(connected=True)"
   ]
  },
  {
   "cell_type": "markdown",
   "metadata": {},
   "source": [
    "**Import Plotly's figure factory**\n",
    "\n",
    "This is the package which contains the Gantt chart"
   ]
  },
  {
   "cell_type": "code",
   "execution_count": 2,
   "metadata": {},
   "outputs": [],
   "source": [
    "import plotly.figure_factory as ff"
   ]
  },
  {
   "cell_type": "markdown",
   "metadata": {},
   "source": [
    "**Define a simple schedule**\n",
    "\n",
    "The fields which are required to plot a Gantt Chart are:\n",
    "\n",
    "* **Task**, which is a string\n",
    "* **Start** which is the task's start time expressed in some date format\n",
    "* **Finish** which is the end time for the task, also in some date format\n",
    "\n",
    "Note that the times for the tasks can overlap"
   ]
  },
  {
   "cell_type": "code",
   "execution_count": 3,
   "metadata": {},
   "outputs": [],
   "source": [
    "tasks = [dict(Task='Task 1', \n",
    "              Start='2018-06-01', \n",
    "              Finish='2018-08-28'),\n",
    "         \n",
    "         dict(Task='Task 2', \n",
    "              Start='2018-09-10', \n",
    "              Finish='2018-11-20'),\n",
    "         \n",
    "         dict(Task='Task 3', \n",
    "              Start='2018-11-25', \n",
    "              Finish='2018-12-30')]"
   ]
  },
  {
   "cell_type": "markdown",
   "metadata": {},
   "source": [
    "**Plot the Gantt chart**\n",
    "\n",
    "Use the figure factory to generate a Gantt Chart figure with our list of tasks"
   ]
  },
  {
   "cell_type": "code",
   "execution_count": 4,
   "metadata": {},
   "outputs": [
    {
     "data": {
      "application/vnd.plotly.v1+json": {
       "data": [
        {
         "marker": {
          "color": "white"
         },
         "name": "",
         "type": "scatter",
         "uid": "a028030c-9c60-11e8-8f7d-6030d4660e22",
         "x": [
          "2018-06-01",
          "2018-08-28"
         ],
         "y": [
          0,
          0
         ]
        },
        {
         "marker": {
          "color": "white"
         },
         "name": "",
         "type": "scatter",
         "uid": "a0294212-9c60-11e8-ac1a-6030d4660e22",
         "x": [
          "2018-09-10",
          "2018-11-20"
         ],
         "y": [
          1,
          1
         ]
        },
        {
         "marker": {
          "color": "white"
         },
         "name": "",
         "type": "scatter",
         "uid": "a0294546-9c60-11e8-9fed-6030d4660e22",
         "x": [
          "2018-11-25",
          "2018-12-30"
         ],
         "y": [
          2,
          2
         ]
        }
       ],
       "layout": {
        "height": 600,
        "hovermode": "closest",
        "shapes": [
         {
          "fillcolor": "rgb(31, 119, 180)",
          "line": {
           "width": 0
          },
          "opacity": 1,
          "type": "rect",
          "x0": "2018-06-01",
          "x1": "2018-08-28",
          "xref": "x",
          "y0": -0.2,
          "y1": 0.2,
          "yref": "y"
         },
         {
          "fillcolor": "rgb(255, 127, 14)",
          "line": {
           "width": 0
          },
          "opacity": 1,
          "type": "rect",
          "x0": "2018-09-10",
          "x1": "2018-11-20",
          "xref": "x",
          "y0": 0.8,
          "y1": 1.2,
          "yref": "y"
         },
         {
          "fillcolor": "rgb(44, 160, 44)",
          "line": {
           "width": 0
          },
          "opacity": 1,
          "type": "rect",
          "x0": "2018-11-25",
          "x1": "2018-12-30",
          "xref": "x",
          "y0": 1.8,
          "y1": 2.2,
          "yref": "y"
         }
        ],
        "showlegend": false,
        "title": "Gantt Chart",
        "width": 900,
        "xaxis": {
         "rangeselector": {
          "buttons": [
           {
            "count": 7,
            "label": "1w",
            "step": "day",
            "stepmode": "backward"
           },
           {
            "count": 1,
            "label": "1m",
            "step": "month",
            "stepmode": "backward"
           },
           {
            "count": 6,
            "label": "6m",
            "step": "month",
            "stepmode": "backward"
           },
           {
            "count": 1,
            "label": "YTD",
            "step": "year",
            "stepmode": "todate"
           },
           {
            "count": 1,
            "label": "1y",
            "step": "year",
            "stepmode": "backward"
           },
           {
            "step": "all"
           }
          ]
         },
         "showgrid": false,
         "type": "date",
         "zeroline": false
        },
        "yaxis": {
         "autorange": false,
         "range": [
          -1,
          4
         ],
         "showgrid": false,
         "ticktext": [
          "Task 1",
          "Task 2",
          "Task 3"
         ],
         "tickvals": [
          0,
          1,
          2
         ],
         "zeroline": false
        }
       }
      },
      "text/html": [
       "<div id=\"8d8450b5-61a1-4945-8a37-ad1409df8d7c\" style=\"height: 600px; width: 900px;\" class=\"plotly-graph-div\"></div><script type=\"text/javascript\">require([\"plotly\"], function(Plotly) { window.PLOTLYENV=window.PLOTLYENV || {};window.PLOTLYENV.BASE_URL=\"https://plot.ly\";\n",
       "        Plotly.plot(\n",
       "            '8d8450b5-61a1-4945-8a37-ad1409df8d7c',\n",
       "            [{\"marker\": {\"color\": \"white\"}, \"name\": \"\", \"x\": [\"2018-06-01\", \"2018-08-28\"], \"y\": [0, 0], \"type\": \"scatter\", \"uid\": \"a028030c-9c60-11e8-8f7d-6030d4660e22\"}, {\"marker\": {\"color\": \"white\"}, \"name\": \"\", \"x\": [\"2018-09-10\", \"2018-11-20\"], \"y\": [1, 1], \"type\": \"scatter\", \"uid\": \"a0294212-9c60-11e8-ac1a-6030d4660e22\"}, {\"marker\": {\"color\": \"white\"}, \"name\": \"\", \"x\": [\"2018-11-25\", \"2018-12-30\"], \"y\": [2, 2], \"type\": \"scatter\", \"uid\": \"a0294546-9c60-11e8-9fed-6030d4660e22\"}],\n",
       "            {\"height\": 600, \"hovermode\": \"closest\", \"shapes\": [{\"fillcolor\": \"rgb(31, 119, 180)\", \"line\": {\"width\": 0}, \"opacity\": 1, \"type\": \"rect\", \"x0\": \"2018-06-01\", \"x1\": \"2018-08-28\", \"xref\": \"x\", \"y0\": -0.2, \"y1\": 0.2, \"yref\": \"y\"}, {\"fillcolor\": \"rgb(255, 127, 14)\", \"line\": {\"width\": 0}, \"opacity\": 1, \"type\": \"rect\", \"x0\": \"2018-09-10\", \"x1\": \"2018-11-20\", \"xref\": \"x\", \"y0\": 0.8, \"y1\": 1.2, \"yref\": \"y\"}, {\"fillcolor\": \"rgb(44, 160, 44)\", \"line\": {\"width\": 0}, \"opacity\": 1, \"type\": \"rect\", \"x0\": \"2018-11-25\", \"x1\": \"2018-12-30\", \"xref\": \"x\", \"y0\": 1.8, \"y1\": 2.2, \"yref\": \"y\"}], \"showlegend\": false, \"title\": \"Gantt Chart\", \"width\": 900, \"xaxis\": {\"rangeselector\": {\"buttons\": [{\"count\": 7, \"label\": \"1w\", \"step\": \"day\", \"stepmode\": \"backward\"}, {\"count\": 1, \"label\": \"1m\", \"step\": \"month\", \"stepmode\": \"backward\"}, {\"count\": 6, \"label\": \"6m\", \"step\": \"month\", \"stepmode\": \"backward\"}, {\"count\": 1, \"label\": \"YTD\", \"step\": \"year\", \"stepmode\": \"todate\"}, {\"count\": 1, \"label\": \"1y\", \"step\": \"year\", \"stepmode\": \"backward\"}, {\"step\": \"all\"}]}, \"showgrid\": false, \"type\": \"date\", \"zeroline\": false}, \"yaxis\": {\"autorange\": false, \"range\": [-1, 4], \"showgrid\": false, \"ticktext\": [\"Task 1\", \"Task 2\", \"Task 3\"], \"tickvals\": [0, 1, 2], \"zeroline\": false}},\n",
       "            {\"showLink\": true, \"linkText\": \"Export to plot.ly\"}\n",
       "        ).then(function () {return Plotly.addFrames('8d8450b5-61a1-4945-8a37-ad1409df8d7c',{});}).then(function(){Plotly.animate('8d8450b5-61a1-4945-8a37-ad1409df8d7c');})\n",
       "        });</script>"
      ],
      "text/vnd.plotly.v1+html": [
       "<div id=\"8d8450b5-61a1-4945-8a37-ad1409df8d7c\" style=\"height: 600px; width: 900px;\" class=\"plotly-graph-div\"></div><script type=\"text/javascript\">require([\"plotly\"], function(Plotly) { window.PLOTLYENV=window.PLOTLYENV || {};window.PLOTLYENV.BASE_URL=\"https://plot.ly\";\n",
       "        Plotly.plot(\n",
       "            '8d8450b5-61a1-4945-8a37-ad1409df8d7c',\n",
       "            [{\"marker\": {\"color\": \"white\"}, \"name\": \"\", \"x\": [\"2018-06-01\", \"2018-08-28\"], \"y\": [0, 0], \"type\": \"scatter\", \"uid\": \"a028030c-9c60-11e8-8f7d-6030d4660e22\"}, {\"marker\": {\"color\": \"white\"}, \"name\": \"\", \"x\": [\"2018-09-10\", \"2018-11-20\"], \"y\": [1, 1], \"type\": \"scatter\", \"uid\": \"a0294212-9c60-11e8-ac1a-6030d4660e22\"}, {\"marker\": {\"color\": \"white\"}, \"name\": \"\", \"x\": [\"2018-11-25\", \"2018-12-30\"], \"y\": [2, 2], \"type\": \"scatter\", \"uid\": \"a0294546-9c60-11e8-9fed-6030d4660e22\"}],\n",
       "            {\"height\": 600, \"hovermode\": \"closest\", \"shapes\": [{\"fillcolor\": \"rgb(31, 119, 180)\", \"line\": {\"width\": 0}, \"opacity\": 1, \"type\": \"rect\", \"x0\": \"2018-06-01\", \"x1\": \"2018-08-28\", \"xref\": \"x\", \"y0\": -0.2, \"y1\": 0.2, \"yref\": \"y\"}, {\"fillcolor\": \"rgb(255, 127, 14)\", \"line\": {\"width\": 0}, \"opacity\": 1, \"type\": \"rect\", \"x0\": \"2018-09-10\", \"x1\": \"2018-11-20\", \"xref\": \"x\", \"y0\": 0.8, \"y1\": 1.2, \"yref\": \"y\"}, {\"fillcolor\": \"rgb(44, 160, 44)\", \"line\": {\"width\": 0}, \"opacity\": 1, \"type\": \"rect\", \"x0\": \"2018-11-25\", \"x1\": \"2018-12-30\", \"xref\": \"x\", \"y0\": 1.8, \"y1\": 2.2, \"yref\": \"y\"}], \"showlegend\": false, \"title\": \"Gantt Chart\", \"width\": 900, \"xaxis\": {\"rangeselector\": {\"buttons\": [{\"count\": 7, \"label\": \"1w\", \"step\": \"day\", \"stepmode\": \"backward\"}, {\"count\": 1, \"label\": \"1m\", \"step\": \"month\", \"stepmode\": \"backward\"}, {\"count\": 6, \"label\": \"6m\", \"step\": \"month\", \"stepmode\": \"backward\"}, {\"count\": 1, \"label\": \"YTD\", \"step\": \"year\", \"stepmode\": \"todate\"}, {\"count\": 1, \"label\": \"1y\", \"step\": \"year\", \"stepmode\": \"backward\"}, {\"step\": \"all\"}]}, \"showgrid\": false, \"type\": \"date\", \"zeroline\": false}, \"yaxis\": {\"autorange\": false, \"range\": [-1, 4], \"showgrid\": false, \"ticktext\": [\"Task 1\", \"Task 2\", \"Task 3\"], \"tickvals\": [0, 1, 2], \"zeroline\": false}},\n",
       "            {\"showLink\": true, \"linkText\": \"Export to plot.ly\"}\n",
       "        ).then(function () {return Plotly.addFrames('8d8450b5-61a1-4945-8a37-ad1409df8d7c',{});}).then(function(){Plotly.animate('8d8450b5-61a1-4945-8a37-ad1409df8d7c');})\n",
       "        });</script>"
      ]
     },
     "metadata": {},
     "output_type": "display_data"
    }
   ],
   "source": [
    "fig = ff.create_gantt(tasks)\n",
    "\n",
    "offline.iplot(fig)"
   ]
  },
  {
   "cell_type": "markdown",
   "metadata": {},
   "source": [
    "**Using Color Scales**\n",
    "\n",
    "Color scales can be used in Gantt charts to represent information"
   ]
  },
  {
   "cell_type": "markdown",
   "metadata": {},
   "source": [
    "**Numeric data represented with a color scale**\n",
    "\n",
    "By using a color scale, we can portray how much of a task is completed"
   ]
  },
  {
   "cell_type": "code",
   "execution_count": 5,
   "metadata": {},
   "outputs": [],
   "source": [
    "tasks = [dict(Task='Task 1', \n",
    "              Start='2018-06-01', \n",
    "              Finish='2018-08-28',\n",
    "              Complete=100),\n",
    "         \n",
    "         dict(Task='Task 2', \n",
    "              Start='2018-09-10', \n",
    "              Finish='2018-11-20',\n",
    "              Complete=50),\n",
    "         \n",
    "         dict(Task='Task 3', \n",
    "              Start='2018-11-25', \n",
    "              Finish='2018-12-30',\n",
    "              Complete=25)]"
   ]
  },
  {
   "cell_type": "markdown",
   "metadata": {},
   "source": [
    "**Define the Gantt chart**\n",
    "\n",
    "The **colors** attribute takes in the name of a built-in color scale or a list of RGB or Hexademical numbers\n",
    "\n",
    "**index_col** is used to specify which field should be represented using the color scale\n",
    "\n",
    "**show_colorbar** can be set to view the color scale as a reference"
   ]
  },
  {
   "cell_type": "code",
   "execution_count": 6,
   "metadata": {},
   "outputs": [
    {
     "data": {
      "application/vnd.plotly.v1+json": {
       "data": [
        {
         "marker": {
          "color": "white"
         },
         "name": "",
         "type": "scatter",
         "uid": "a0580a52-9c60-11e8-8be9-6030d4660e22",
         "x": [
          "2018-06-01",
          "2018-08-28"
         ],
         "y": [
          0,
          0
         ]
        },
        {
         "marker": {
          "color": "white"
         },
         "name": "",
         "type": "scatter",
         "uid": "a0580c34-9c60-11e8-96cd-6030d4660e22",
         "x": [
          "2018-09-10",
          "2018-11-20"
         ],
         "y": [
          1,
          1
         ]
        },
        {
         "marker": {
          "color": "white"
         },
         "name": "",
         "type": "scatter",
         "uid": "a0580dd8-9c60-11e8-ab5c-6030d4660e22",
         "x": [
          "2018-11-25",
          "2018-12-30"
         ],
         "y": [
          2,
          2
         ]
        },
        {
         "marker": {
          "cmax": 100,
          "cmin": 0,
          "color": "white",
          "colorscale": [
           [
            0,
            "rgb(0.0, 0.0, 255.0)"
           ],
           [
            1,
            "rgb(255.0, 0.0, 0.0)"
           ]
          ],
          "showscale": true
         },
         "name": "",
         "type": "scatter",
         "uid": "a0580ed0-9c60-11e8-8d62-6030d4660e22",
         "x": [
          "2018-11-25",
          "2018-11-25"
         ],
         "y": [
          2,
          2
         ]
        }
       ],
       "layout": {
        "height": 600,
        "hovermode": "closest",
        "shapes": [
         {
          "fillcolor": "rgb(255.0, 0.0, 0.0)",
          "line": {
           "width": 0
          },
          "opacity": 1,
          "type": "rect",
          "x0": "2018-06-01",
          "x1": "2018-08-28",
          "xref": "x",
          "y0": -0.2,
          "y1": 0.2,
          "yref": "y"
         },
         {
          "fillcolor": "rgb(127.5, 0.0, 127.5)",
          "line": {
           "width": 0
          },
          "opacity": 1,
          "type": "rect",
          "x0": "2018-09-10",
          "x1": "2018-11-20",
          "xref": "x",
          "y0": 0.8,
          "y1": 1.2,
          "yref": "y"
         },
         {
          "fillcolor": "rgb(63.75, 0.0, 191.25)",
          "line": {
           "width": 0
          },
          "opacity": 1,
          "type": "rect",
          "x0": "2018-11-25",
          "x1": "2018-12-30",
          "xref": "x",
          "y0": 1.8,
          "y1": 2.2,
          "yref": "y"
         }
        ],
        "showlegend": false,
        "title": "Gantt Chart with a color scale",
        "width": 900,
        "xaxis": {
         "rangeselector": {
          "buttons": [
           {
            "count": 7,
            "label": "1w",
            "step": "day",
            "stepmode": "backward"
           },
           {
            "count": 1,
            "label": "1m",
            "step": "month",
            "stepmode": "backward"
           },
           {
            "count": 6,
            "label": "6m",
            "step": "month",
            "stepmode": "backward"
           },
           {
            "count": 1,
            "label": "YTD",
            "step": "year",
            "stepmode": "todate"
           },
           {
            "count": 1,
            "label": "1y",
            "step": "year",
            "stepmode": "backward"
           },
           {
            "step": "all"
           }
          ]
         },
         "showgrid": false,
         "type": "date",
         "zeroline": false
        },
        "yaxis": {
         "autorange": false,
         "range": [
          -1,
          4
         ],
         "showgrid": false,
         "ticktext": [
          "Task 1",
          "Task 2",
          "Task 3"
         ],
         "tickvals": [
          0,
          1,
          2
         ],
         "zeroline": false
        }
       }
      },
      "text/html": [
       "<div id=\"8f826f75-e0a3-4d61-a56f-485805320185\" style=\"height: 600px; width: 900px;\" class=\"plotly-graph-div\"></div><script type=\"text/javascript\">require([\"plotly\"], function(Plotly) { window.PLOTLYENV=window.PLOTLYENV || {};window.PLOTLYENV.BASE_URL=\"https://plot.ly\";Plotly.newPlot(\"8f826f75-e0a3-4d61-a56f-485805320185\", [{\"marker\": {\"color\": \"white\"}, \"name\": \"\", \"x\": [\"2018-06-01\", \"2018-08-28\"], \"y\": [0, 0], \"type\": \"scatter\", \"uid\": \"a06053ec-9c60-11e8-8fea-6030d4660e22\"}, {\"marker\": {\"color\": \"white\"}, \"name\": \"\", \"x\": [\"2018-09-10\", \"2018-11-20\"], \"y\": [1, 1], \"type\": \"scatter\", \"uid\": \"a06055b8-9c60-11e8-ab4d-6030d4660e22\"}, {\"marker\": {\"color\": \"white\"}, \"name\": \"\", \"x\": [\"2018-11-25\", \"2018-12-30\"], \"y\": [2, 2], \"type\": \"scatter\", \"uid\": \"a06056b4-9c60-11e8-bb7f-6030d4660e22\"}, {\"marker\": {\"cmax\": 100, \"cmin\": 0, \"color\": \"white\", \"colorscale\": [[0, \"rgb(0.0, 0.0, 255.0)\"], [1, \"rgb(255.0, 0.0, 0.0)\"]], \"showscale\": true}, \"name\": \"\", \"x\": [\"2018-11-25\", \"2018-11-25\"], \"y\": [2, 2], \"type\": \"scatter\", \"uid\": \"a06057d4-9c60-11e8-9227-6030d4660e22\"}], {\"height\": 600, \"hovermode\": \"closest\", \"shapes\": [{\"fillcolor\": \"rgb(255.0, 0.0, 0.0)\", \"line\": {\"width\": 0}, \"opacity\": 1, \"type\": \"rect\", \"x0\": \"2018-06-01\", \"x1\": \"2018-08-28\", \"xref\": \"x\", \"y0\": -0.2, \"y1\": 0.2, \"yref\": \"y\"}, {\"fillcolor\": \"rgb(127.5, 0.0, 127.5)\", \"line\": {\"width\": 0}, \"opacity\": 1, \"type\": \"rect\", \"x0\": \"2018-09-10\", \"x1\": \"2018-11-20\", \"xref\": \"x\", \"y0\": 0.8, \"y1\": 1.2, \"yref\": \"y\"}, {\"fillcolor\": \"rgb(63.75, 0.0, 191.25)\", \"line\": {\"width\": 0}, \"opacity\": 1, \"type\": \"rect\", \"x0\": \"2018-11-25\", \"x1\": \"2018-12-30\", \"xref\": \"x\", \"y0\": 1.8, \"y1\": 2.2, \"yref\": \"y\"}], \"showlegend\": false, \"title\": \"Gantt Chart with a color scale\", \"width\": 900, \"xaxis\": {\"rangeselector\": {\"buttons\": [{\"count\": 7, \"label\": \"1w\", \"step\": \"day\", \"stepmode\": \"backward\"}, {\"count\": 1, \"label\": \"1m\", \"step\": \"month\", \"stepmode\": \"backward\"}, {\"count\": 6, \"label\": \"6m\", \"step\": \"month\", \"stepmode\": \"backward\"}, {\"count\": 1, \"label\": \"YTD\", \"step\": \"year\", \"stepmode\": \"todate\"}, {\"count\": 1, \"label\": \"1y\", \"step\": \"year\", \"stepmode\": \"backward\"}, {\"step\": \"all\"}]}, \"showgrid\": false, \"type\": \"date\", \"zeroline\": false}, \"yaxis\": {\"autorange\": false, \"range\": [-1, 4], \"showgrid\": false, \"ticktext\": [\"Task 1\", \"Task 2\", \"Task 3\"], \"tickvals\": [0, 1, 2], \"zeroline\": false}}, {\"showLink\": true, \"linkText\": \"Export to plot.ly\"})});</script>"
      ],
      "text/vnd.plotly.v1+html": [
       "<div id=\"8f826f75-e0a3-4d61-a56f-485805320185\" style=\"height: 600px; width: 900px;\" class=\"plotly-graph-div\"></div><script type=\"text/javascript\">require([\"plotly\"], function(Plotly) { window.PLOTLYENV=window.PLOTLYENV || {};window.PLOTLYENV.BASE_URL=\"https://plot.ly\";Plotly.newPlot(\"8f826f75-e0a3-4d61-a56f-485805320185\", [{\"marker\": {\"color\": \"white\"}, \"name\": \"\", \"x\": [\"2018-06-01\", \"2018-08-28\"], \"y\": [0, 0], \"type\": \"scatter\", \"uid\": \"a06053ec-9c60-11e8-8fea-6030d4660e22\"}, {\"marker\": {\"color\": \"white\"}, \"name\": \"\", \"x\": [\"2018-09-10\", \"2018-11-20\"], \"y\": [1, 1], \"type\": \"scatter\", \"uid\": \"a06055b8-9c60-11e8-ab4d-6030d4660e22\"}, {\"marker\": {\"color\": \"white\"}, \"name\": \"\", \"x\": [\"2018-11-25\", \"2018-12-30\"], \"y\": [2, 2], \"type\": \"scatter\", \"uid\": \"a06056b4-9c60-11e8-bb7f-6030d4660e22\"}, {\"marker\": {\"cmax\": 100, \"cmin\": 0, \"color\": \"white\", \"colorscale\": [[0, \"rgb(0.0, 0.0, 255.0)\"], [1, \"rgb(255.0, 0.0, 0.0)\"]], \"showscale\": true}, \"name\": \"\", \"x\": [\"2018-11-25\", \"2018-11-25\"], \"y\": [2, 2], \"type\": \"scatter\", \"uid\": \"a06057d4-9c60-11e8-9227-6030d4660e22\"}], {\"height\": 600, \"hovermode\": \"closest\", \"shapes\": [{\"fillcolor\": \"rgb(255.0, 0.0, 0.0)\", \"line\": {\"width\": 0}, \"opacity\": 1, \"type\": \"rect\", \"x0\": \"2018-06-01\", \"x1\": \"2018-08-28\", \"xref\": \"x\", \"y0\": -0.2, \"y1\": 0.2, \"yref\": \"y\"}, {\"fillcolor\": \"rgb(127.5, 0.0, 127.5)\", \"line\": {\"width\": 0}, \"opacity\": 1, \"type\": \"rect\", \"x0\": \"2018-09-10\", \"x1\": \"2018-11-20\", \"xref\": \"x\", \"y0\": 0.8, \"y1\": 1.2, \"yref\": \"y\"}, {\"fillcolor\": \"rgb(63.75, 0.0, 191.25)\", \"line\": {\"width\": 0}, \"opacity\": 1, \"type\": \"rect\", \"x0\": \"2018-11-25\", \"x1\": \"2018-12-30\", \"xref\": \"x\", \"y0\": 1.8, \"y1\": 2.2, \"yref\": \"y\"}], \"showlegend\": false, \"title\": \"Gantt Chart with a color scale\", \"width\": 900, \"xaxis\": {\"rangeselector\": {\"buttons\": [{\"count\": 7, \"label\": \"1w\", \"step\": \"day\", \"stepmode\": \"backward\"}, {\"count\": 1, \"label\": \"1m\", \"step\": \"month\", \"stepmode\": \"backward\"}, {\"count\": 6, \"label\": \"6m\", \"step\": \"month\", \"stepmode\": \"backward\"}, {\"count\": 1, \"label\": \"YTD\", \"step\": \"year\", \"stepmode\": \"todate\"}, {\"count\": 1, \"label\": \"1y\", \"step\": \"year\", \"stepmode\": \"backward\"}, {\"step\": \"all\"}]}, \"showgrid\": false, \"type\": \"date\", \"zeroline\": false}, \"yaxis\": {\"autorange\": false, \"range\": [-1, 4], \"showgrid\": false, \"ticktext\": [\"Task 1\", \"Task 2\", \"Task 3\"], \"tickvals\": [0, 1, 2], \"zeroline\": false}}, {\"showLink\": true, \"linkText\": \"Export to plot.ly\"})});</script>"
      ]
     },
     "metadata": {},
     "output_type": "display_data"
    }
   ],
   "source": [
    "fig = ff.create_gantt(tasks, \n",
    "                      title = 'Gantt Chart with a color scale',\n",
    "                      \n",
    "                      colors = 'Picnic', \n",
    "                      index_col = 'Complete', \n",
    "                      show_colorbar = True)\n",
    "\n",
    "offline.iplot(fig)"
   ]
  },
  {
   "cell_type": "markdown",
   "metadata": {},
   "source": [
    "**Color Scales to represent string categories**"
   ]
  },
  {
   "cell_type": "markdown",
   "metadata": {},
   "source": [
    "**Import a CSV file containing a multiplex schedule**\n",
    "\n",
    "The following is a schedule of multiplex movies for 4-Auguest-2018"
   ]
  },
  {
   "cell_type": "code",
   "execution_count": 7,
   "metadata": {},
   "outputs": [
    {
     "data": {
      "text/html": [
       "<div>\n",
       "<style scoped>\n",
       "    .dataframe tbody tr th:only-of-type {\n",
       "        vertical-align: middle;\n",
       "    }\n",
       "\n",
       "    .dataframe tbody tr th {\n",
       "        vertical-align: top;\n",
       "    }\n",
       "\n",
       "    .dataframe thead th {\n",
       "        text-align: right;\n",
       "    }\n",
       "</style>\n",
       "<table border=\"1\" class=\"dataframe\">\n",
       "  <thead>\n",
       "    <tr style=\"text-align: right;\">\n",
       "      <th></th>\n",
       "      <th>Task</th>\n",
       "      <th>Start</th>\n",
       "      <th>Finish</th>\n",
       "      <th>Category</th>\n",
       "    </tr>\n",
       "  </thead>\n",
       "  <tbody>\n",
       "    <tr>\n",
       "      <th>0</th>\n",
       "      <td>Avengers: Infinity War</td>\n",
       "      <td>2018-08-04 7:00</td>\n",
       "      <td>2018-08-04 9:00</td>\n",
       "      <td>Action</td>\n",
       "    </tr>\n",
       "    <tr>\n",
       "      <th>1</th>\n",
       "      <td>Inception</td>\n",
       "      <td>2018-08-04 9:00</td>\n",
       "      <td>2018-08-04 11:00</td>\n",
       "      <td>Thriller</td>\n",
       "    </tr>\n",
       "    <tr>\n",
       "      <th>2</th>\n",
       "      <td>The Dark Knight</td>\n",
       "      <td>2018-08-04 10:00</td>\n",
       "      <td>2018-08-04 12:00</td>\n",
       "      <td>Thriller</td>\n",
       "    </tr>\n",
       "    <tr>\n",
       "      <th>3</th>\n",
       "      <td>Deception</td>\n",
       "      <td>2018-08-04 11:30</td>\n",
       "      <td>2018-08-04 13:30</td>\n",
       "      <td>Suspense</td>\n",
       "    </tr>\n",
       "    <tr>\n",
       "      <th>4</th>\n",
       "      <td>Looper</td>\n",
       "      <td>2018-08-04 12:00</td>\n",
       "      <td>2018-08-04 14:00</td>\n",
       "      <td>Science_Fiction</td>\n",
       "    </tr>\n",
       "    <tr>\n",
       "      <th>5</th>\n",
       "      <td>Aliens</td>\n",
       "      <td>2018-08-04 13:30</td>\n",
       "      <td>2018-08-04 15:30</td>\n",
       "      <td>Horror</td>\n",
       "    </tr>\n",
       "    <tr>\n",
       "      <th>6</th>\n",
       "      <td>Source code</td>\n",
       "      <td>2018-08-04 16:00</td>\n",
       "      <td>2018-08-04 18:00</td>\n",
       "      <td>Mystery</td>\n",
       "    </tr>\n",
       "    <tr>\n",
       "      <th>7</th>\n",
       "      <td>The Terminator</td>\n",
       "      <td>2018-08-04 17:00</td>\n",
       "      <td>2018-08-04 19:00</td>\n",
       "      <td>Action</td>\n",
       "    </tr>\n",
       "    <tr>\n",
       "      <th>8</th>\n",
       "      <td>Behind Enemy Lines</td>\n",
       "      <td>2018-08-04 18:30</td>\n",
       "      <td>2018-08-04 20:30</td>\n",
       "      <td>Drama</td>\n",
       "    </tr>\n",
       "    <tr>\n",
       "      <th>9</th>\n",
       "      <td>Inception</td>\n",
       "      <td>2018-08-04 19:00</td>\n",
       "      <td>2018-08-04 21:00</td>\n",
       "      <td>Thriller</td>\n",
       "    </tr>\n",
       "    <tr>\n",
       "      <th>10</th>\n",
       "      <td>Me Before You</td>\n",
       "      <td>2018-08-04 21:30</td>\n",
       "      <td>2018-08-04 23:30</td>\n",
       "      <td>Romance</td>\n",
       "    </tr>\n",
       "    <tr>\n",
       "      <th>11</th>\n",
       "      <td>Just Go with It</td>\n",
       "      <td>2018-08-04 21:00</td>\n",
       "      <td>2018-08-04 23:00</td>\n",
       "      <td>Comedy</td>\n",
       "    </tr>\n",
       "  </tbody>\n",
       "</table>\n",
       "</div>"
      ],
      "text/plain": [
       "                      Task             Start            Finish  \\\n",
       "0   Avengers: Infinity War   2018-08-04 7:00   2018-08-04 9:00   \n",
       "1                Inception   2018-08-04 9:00  2018-08-04 11:00   \n",
       "2          The Dark Knight  2018-08-04 10:00  2018-08-04 12:00   \n",
       "3                Deception  2018-08-04 11:30  2018-08-04 13:30   \n",
       "4                   Looper  2018-08-04 12:00  2018-08-04 14:00   \n",
       "5                   Aliens  2018-08-04 13:30  2018-08-04 15:30   \n",
       "6              Source code  2018-08-04 16:00  2018-08-04 18:00   \n",
       "7           The Terminator  2018-08-04 17:00  2018-08-04 19:00   \n",
       "8       Behind Enemy Lines  2018-08-04 18:30  2018-08-04 20:30   \n",
       "9                Inception  2018-08-04 19:00  2018-08-04 21:00   \n",
       "10           Me Before You  2018-08-04 21:30  2018-08-04 23:30   \n",
       "11         Just Go with It  2018-08-04 21:00  2018-08-04 23:00   \n",
       "\n",
       "           Category  \n",
       "0            Action  \n",
       "1          Thriller  \n",
       "2          Thriller  \n",
       "3          Suspense  \n",
       "4   Science_Fiction  \n",
       "5            Horror  \n",
       "6           Mystery  \n",
       "7            Action  \n",
       "8             Drama  \n",
       "9          Thriller  \n",
       "10          Romance  \n",
       "11           Comedy  "
      ]
     },
     "execution_count": 7,
     "metadata": {},
     "output_type": "execute_result"
    }
   ],
   "source": [
    "import pandas as pd\n",
    "\n",
    "multiplex_schedule = pd.read_csv('./datasets/multiplex_schedule.csv')\n",
    "multiplex_schedule"
   ]
  },
  {
   "cell_type": "markdown",
   "metadata": {},
   "source": [
    "**Define a color map**\n",
    "\n",
    "This needs to contain colors specified in either RGB or Hexadecimal format (named colors will not work in a Gantt Chart). The list can contain a mix of both RGB and Hex colors.\n",
    "\n",
    "Here, we map the Category names to the color we want it to be portrayed by."
   ]
  },
  {
   "cell_type": "code",
   "execution_count": 8,
   "metadata": {},
   "outputs": [],
   "source": [
    "color_dict = dict(Action = 'rgb(46, 137, 205)',\n",
    "                  Thriller = 'rgb(114, 44, 121)',\n",
    "                  Crime = 'rgb(198, 47, 105)',\n",
    "                  Suspense = 'rgb(192, 192, 192)',\n",
    "                  Science_Fiction = 'rgb(128, 128, 128)',\n",
    "                  Horror = 'rgb(255, 0, 0)',\n",
    "                  Mystery = 'rgb(128, 0, 0)',\n",
    "                  Adventure = 'rgb(0, 128, 128)',\n",
    "                  Drama = 'rgb(0, 0, 128)',\n",
    "                  \n",
    "                  Romance = '#BD8FD7',\n",
    "                  Comedy = '#78F7DE'\n",
    "                 )"
   ]
  },
  {
   "cell_type": "markdown",
   "metadata": {},
   "source": [
    "**Draw the Gantt Chart**\n",
    "\n",
    "We cannot use a named color scale to map String values, so we pass in our colors dictionary to be used to assign colors to the different values of 'Category' in our dataset.\n",
    "\n",
    "**bar_width** sets the width (in this portrayal, the height) of each bar. A bar_width of 0.4 equals the distance between two grid lines on the Y axis."
   ]
  },
  {
   "cell_type": "code",
   "execution_count": 9,
   "metadata": {},
   "outputs": [
    {
     "data": {
      "application/vnd.plotly.v1+json": {
       "data": [
        {
         "marker": {
          "color": "white"
         },
         "name": "",
         "type": "scatter",
         "uid": "a096e9e8-9c60-11e8-9c0b-6030d4660e22",
         "x": [
          "2018-08-04 7:00",
          "2018-08-04 9:00"
         ],
         "y": [
          0,
          0
         ]
        },
        {
         "marker": {
          "color": "white"
         },
         "name": "",
         "type": "scatter",
         "uid": "a096ebbe-9c60-11e8-a50d-6030d4660e22",
         "x": [
          "2018-08-04 9:00",
          "2018-08-04 11:00"
         ],
         "y": [
          1,
          1
         ]
        },
        {
         "marker": {
          "color": "white"
         },
         "name": "",
         "type": "scatter",
         "uid": "a096ecd8-9c60-11e8-a595-6030d4660e22",
         "x": [
          "2018-08-04 10:00",
          "2018-08-04 12:00"
         ],
         "y": [
          2,
          2
         ]
        },
        {
         "marker": {
          "color": "white"
         },
         "name": "",
         "type": "scatter",
         "uid": "a096edba-9c60-11e8-9452-6030d4660e22",
         "x": [
          "2018-08-04 11:30",
          "2018-08-04 13:30"
         ],
         "y": [
          3,
          3
         ]
        },
        {
         "marker": {
          "color": "white"
         },
         "name": "",
         "type": "scatter",
         "uid": "a096ee98-9c60-11e8-9e7b-6030d4660e22",
         "x": [
          "2018-08-04 12:00",
          "2018-08-04 14:00"
         ],
         "y": [
          4,
          4
         ]
        },
        {
         "marker": {
          "color": "white"
         },
         "name": "",
         "type": "scatter",
         "uid": "a096ef62-9c60-11e8-8ce9-6030d4660e22",
         "x": [
          "2018-08-04 13:30",
          "2018-08-04 15:30"
         ],
         "y": [
          5,
          5
         ]
        },
        {
         "marker": {
          "color": "white"
         },
         "name": "",
         "type": "scatter",
         "uid": "a096f034-9c60-11e8-ad96-6030d4660e22",
         "x": [
          "2018-08-04 16:00",
          "2018-08-04 18:00"
         ],
         "y": [
          6,
          6
         ]
        },
        {
         "marker": {
          "color": "white"
         },
         "name": "",
         "type": "scatter",
         "uid": "a096f0fa-9c60-11e8-8d74-6030d4660e22",
         "x": [
          "2018-08-04 17:00",
          "2018-08-04 19:00"
         ],
         "y": [
          7,
          7
         ]
        },
        {
         "marker": {
          "color": "white"
         },
         "name": "",
         "type": "scatter",
         "uid": "a096f1c2-9c60-11e8-9cb5-6030d4660e22",
         "x": [
          "2018-08-04 18:30",
          "2018-08-04 20:30"
         ],
         "y": [
          8,
          8
         ]
        },
        {
         "marker": {
          "color": "white"
         },
         "name": "",
         "type": "scatter",
         "uid": "a096f28a-9c60-11e8-b517-6030d4660e22",
         "x": [
          "2018-08-04 19:00",
          "2018-08-04 21:00"
         ],
         "y": [
          9,
          9
         ]
        },
        {
         "marker": {
          "color": "white"
         },
         "name": "",
         "type": "scatter",
         "uid": "a096f352-9c60-11e8-9175-6030d4660e22",
         "x": [
          "2018-08-04 21:30",
          "2018-08-04 23:30"
         ],
         "y": [
          10,
          10
         ]
        },
        {
         "marker": {
          "color": "white"
         },
         "name": "",
         "type": "scatter",
         "uid": "a096f410-9c60-11e8-ad23-6030d4660e22",
         "x": [
          "2018-08-04 21:00",
          "2018-08-04 23:00"
         ],
         "y": [
          11,
          11
         ]
        },
        {
         "hoverinfo": "none",
         "marker": {
          "color": "rgb(46, 137, 205)",
          "size": 1
         },
         "name": "Action",
         "showlegend": true,
         "type": "scatter",
         "uid": "a096f4d8-9c60-11e8-ba84-6030d4660e22",
         "x": [
          "2018-08-04 21:00",
          "2018-08-04 21:00"
         ],
         "y": [
          0,
          0
         ]
        },
        {
         "hoverinfo": "none",
         "marker": {
          "color": "rgb(120, 247, 222)",
          "size": 1
         },
         "name": "Comedy",
         "showlegend": true,
         "type": "scatter",
         "uid": "a096f58c-9c60-11e8-a1fb-6030d4660e22",
         "x": [
          "2018-08-04 21:00",
          "2018-08-04 21:00"
         ],
         "y": [
          1,
          1
         ]
        },
        {
         "hoverinfo": "none",
         "marker": {
          "color": "rgb(0, 0, 128)",
          "size": 1
         },
         "name": "Drama",
         "showlegend": true,
         "type": "scatter",
         "uid": "a096f654-9c60-11e8-ab44-6030d4660e22",
         "x": [
          "2018-08-04 21:00",
          "2018-08-04 21:00"
         ],
         "y": [
          2,
          2
         ]
        },
        {
         "hoverinfo": "none",
         "marker": {
          "color": "rgb(255, 0, 0)",
          "size": 1
         },
         "name": "Horror",
         "showlegend": true,
         "type": "scatter",
         "uid": "a096f712-9c60-11e8-b0db-6030d4660e22",
         "x": [
          "2018-08-04 21:00",
          "2018-08-04 21:00"
         ],
         "y": [
          3,
          3
         ]
        },
        {
         "hoverinfo": "none",
         "marker": {
          "color": "rgb(128, 0, 0)",
          "size": 1
         },
         "name": "Mystery",
         "showlegend": true,
         "type": "scatter",
         "uid": "a096f7c6-9c60-11e8-86e0-6030d4660e22",
         "x": [
          "2018-08-04 21:00",
          "2018-08-04 21:00"
         ],
         "y": [
          4,
          4
         ]
        },
        {
         "hoverinfo": "none",
         "marker": {
          "color": "rgb(189, 143, 215)",
          "size": 1
         },
         "name": "Romance",
         "showlegend": true,
         "type": "scatter",
         "uid": "a096f886-9c60-11e8-91aa-6030d4660e22",
         "x": [
          "2018-08-04 21:00",
          "2018-08-04 21:00"
         ],
         "y": [
          5,
          5
         ]
        },
        {
         "hoverinfo": "none",
         "marker": {
          "color": "rgb(128, 128, 128)",
          "size": 1
         },
         "name": "Science_Fiction",
         "showlegend": true,
         "type": "scatter",
         "uid": "a096f938-9c60-11e8-8c18-6030d4660e22",
         "x": [
          "2018-08-04 21:00",
          "2018-08-04 21:00"
         ],
         "y": [
          6,
          6
         ]
        },
        {
         "hoverinfo": "none",
         "marker": {
          "color": "rgb(192, 192, 192)",
          "size": 1
         },
         "name": "Suspense",
         "showlegend": true,
         "type": "scatter",
         "uid": "a096f9ec-9c60-11e8-93c6-6030d4660e22",
         "x": [
          "2018-08-04 21:00",
          "2018-08-04 21:00"
         ],
         "y": [
          7,
          7
         ]
        },
        {
         "hoverinfo": "none",
         "marker": {
          "color": "rgb(114, 44, 121)",
          "size": 1
         },
         "name": "Thriller",
         "showlegend": true,
         "type": "scatter",
         "uid": "a096faa8-9c60-11e8-82ac-6030d4660e22",
         "x": [
          "2018-08-04 21:00",
          "2018-08-04 21:00"
         ],
         "y": [
          8,
          8
         ]
        }
       ],
       "layout": {
        "height": 600,
        "hovermode": "closest",
        "shapes": [
         {
          "fillcolor": "rgb(46, 137, 205)",
          "line": {
           "width": 0
          },
          "opacity": 1,
          "type": "rect",
          "x0": "2018-08-04 7:00",
          "x1": "2018-08-04 9:00",
          "xref": "x",
          "y0": -0.4,
          "y1": 0.4,
          "yref": "y"
         },
         {
          "fillcolor": "rgb(114, 44, 121)",
          "line": {
           "width": 0
          },
          "opacity": 1,
          "type": "rect",
          "x0": "2018-08-04 9:00",
          "x1": "2018-08-04 11:00",
          "xref": "x",
          "y0": 0.6,
          "y1": 1.4,
          "yref": "y"
         },
         {
          "fillcolor": "rgb(114, 44, 121)",
          "line": {
           "width": 0
          },
          "opacity": 1,
          "type": "rect",
          "x0": "2018-08-04 10:00",
          "x1": "2018-08-04 12:00",
          "xref": "x",
          "y0": 1.6,
          "y1": 2.4,
          "yref": "y"
         },
         {
          "fillcolor": "rgb(192, 192, 192)",
          "line": {
           "width": 0
          },
          "opacity": 1,
          "type": "rect",
          "x0": "2018-08-04 11:30",
          "x1": "2018-08-04 13:30",
          "xref": "x",
          "y0": 2.6,
          "y1": 3.4,
          "yref": "y"
         },
         {
          "fillcolor": "rgb(128, 128, 128)",
          "line": {
           "width": 0
          },
          "opacity": 1,
          "type": "rect",
          "x0": "2018-08-04 12:00",
          "x1": "2018-08-04 14:00",
          "xref": "x",
          "y0": 3.6,
          "y1": 4.4,
          "yref": "y"
         },
         {
          "fillcolor": "rgb(255, 0, 0)",
          "line": {
           "width": 0
          },
          "opacity": 1,
          "type": "rect",
          "x0": "2018-08-04 13:30",
          "x1": "2018-08-04 15:30",
          "xref": "x",
          "y0": 4.6,
          "y1": 5.4,
          "yref": "y"
         },
         {
          "fillcolor": "rgb(128, 0, 0)",
          "line": {
           "width": 0
          },
          "opacity": 1,
          "type": "rect",
          "x0": "2018-08-04 16:00",
          "x1": "2018-08-04 18:00",
          "xref": "x",
          "y0": 5.6,
          "y1": 6.4,
          "yref": "y"
         },
         {
          "fillcolor": "rgb(46, 137, 205)",
          "line": {
           "width": 0
          },
          "opacity": 1,
          "type": "rect",
          "x0": "2018-08-04 17:00",
          "x1": "2018-08-04 19:00",
          "xref": "x",
          "y0": 6.6,
          "y1": 7.4,
          "yref": "y"
         },
         {
          "fillcolor": "rgb(0, 0, 128)",
          "line": {
           "width": 0
          },
          "opacity": 1,
          "type": "rect",
          "x0": "2018-08-04 18:30",
          "x1": "2018-08-04 20:30",
          "xref": "x",
          "y0": 7.6,
          "y1": 8.4,
          "yref": "y"
         },
         {
          "fillcolor": "rgb(114, 44, 121)",
          "line": {
           "width": 0
          },
          "opacity": 1,
          "type": "rect",
          "x0": "2018-08-04 19:00",
          "x1": "2018-08-04 21:00",
          "xref": "x",
          "y0": 8.6,
          "y1": 9.4,
          "yref": "y"
         },
         {
          "fillcolor": "rgb(189, 143, 215)",
          "line": {
           "width": 0
          },
          "opacity": 1,
          "type": "rect",
          "x0": "2018-08-04 21:30",
          "x1": "2018-08-04 23:30",
          "xref": "x",
          "y0": 9.6,
          "y1": 10.4,
          "yref": "y"
         },
         {
          "fillcolor": "rgb(120, 247, 222)",
          "line": {
           "width": 0
          },
          "opacity": 1,
          "type": "rect",
          "x0": "2018-08-04 21:00",
          "x1": "2018-08-04 23:00",
          "xref": "x",
          "y0": 10.6,
          "y1": 11.4,
          "yref": "y"
         }
        ],
        "showlegend": true,
        "title": "Multiplex Schedule",
        "width": 900,
        "xaxis": {
         "rangeselector": {
          "buttons": [
           {
            "count": 7,
            "label": "1w",
            "step": "day",
            "stepmode": "backward"
           },
           {
            "count": 1,
            "label": "1m",
            "step": "month",
            "stepmode": "backward"
           },
           {
            "count": 6,
            "label": "6m",
            "step": "month",
            "stepmode": "backward"
           },
           {
            "count": 1,
            "label": "YTD",
            "step": "year",
            "stepmode": "todate"
           },
           {
            "count": 1,
            "label": "1y",
            "step": "year",
            "stepmode": "backward"
           },
           {
            "step": "all"
           }
          ]
         },
         "showgrid": true,
         "type": "date",
         "zeroline": false
        },
        "yaxis": {
         "autorange": false,
         "range": [
          -1,
          13
         ],
         "showgrid": true,
         "ticktext": [
          "Avengers: Infinity War",
          "Inception",
          "The Dark Knight",
          "Deception",
          "Looper",
          "Aliens",
          "Source code",
          "The Terminator",
          "Behind Enemy Lines",
          "Inception",
          "Me Before You",
          "Just Go with It"
         ],
         "tickvals": [
          0,
          1,
          2,
          3,
          4,
          5,
          6,
          7,
          8,
          9,
          10,
          11
         ],
         "zeroline": false
        }
       }
      },
      "text/html": [
       "<div id=\"9c2d9d09-1431-4dfb-8813-8d3d35836107\" style=\"height: 600px; width: 900px;\" class=\"plotly-graph-div\"></div><script type=\"text/javascript\">require([\"plotly\"], function(Plotly) { window.PLOTLYENV=window.PLOTLYENV || {};window.PLOTLYENV.BASE_URL=\"https://plot.ly\";Plotly.newPlot(\"9c2d9d09-1431-4dfb-8813-8d3d35836107\", [{\"marker\": {\"color\": \"white\"}, \"name\": \"\", \"x\": [\"2018-08-04 7:00\", \"2018-08-04 9:00\"], \"y\": [0, 0], \"type\": \"scatter\", \"uid\": \"a0a91a78-9c60-11e8-a063-6030d4660e22\"}, {\"marker\": {\"color\": \"white\"}, \"name\": \"\", \"x\": [\"2018-08-04 9:00\", \"2018-08-04 11:00\"], \"y\": [1, 1], \"type\": \"scatter\", \"uid\": \"a0a91ca8-9c60-11e8-b3c6-6030d4660e22\"}, {\"marker\": {\"color\": \"white\"}, \"name\": \"\", \"x\": [\"2018-08-04 10:00\", \"2018-08-04 12:00\"], \"y\": [2, 2], \"type\": \"scatter\", \"uid\": \"a0a91db6-9c60-11e8-b207-6030d4660e22\"}, {\"marker\": {\"color\": \"white\"}, \"name\": \"\", \"x\": [\"2018-08-04 11:30\", \"2018-08-04 13:30\"], \"y\": [3, 3], \"type\": \"scatter\", \"uid\": \"a0a91f0a-9c60-11e8-bf2a-6030d4660e22\"}, {\"marker\": {\"color\": \"white\"}, \"name\": \"\", \"x\": [\"2018-08-04 12:00\", \"2018-08-04 14:00\"], \"y\": [4, 4], \"type\": \"scatter\", \"uid\": \"a0a91ffa-9c60-11e8-b2a3-6030d4660e22\"}, {\"marker\": {\"color\": \"white\"}, \"name\": \"\", \"x\": [\"2018-08-04 13:30\", \"2018-08-04 15:30\"], \"y\": [5, 5], \"type\": \"scatter\", \"uid\": \"a0a920cc-9c60-11e8-81f7-6030d4660e22\"}, {\"marker\": {\"color\": \"white\"}, \"name\": \"\", \"x\": [\"2018-08-04 16:00\", \"2018-08-04 18:00\"], \"y\": [6, 6], \"type\": \"scatter\", \"uid\": \"a0a9219e-9c60-11e8-a1eb-6030d4660e22\"}, {\"marker\": {\"color\": \"white\"}, \"name\": \"\", \"x\": [\"2018-08-04 17:00\", \"2018-08-04 19:00\"], \"y\": [7, 7], \"type\": \"scatter\", \"uid\": \"a0a9225c-9c60-11e8-b090-6030d4660e22\"}, {\"marker\": {\"color\": \"white\"}, \"name\": \"\", \"x\": [\"2018-08-04 18:30\", \"2018-08-04 20:30\"], \"y\": [8, 8], \"type\": \"scatter\", \"uid\": \"a0a92324-9c60-11e8-9a6a-6030d4660e22\"}, {\"marker\": {\"color\": \"white\"}, \"name\": \"\", \"x\": [\"2018-08-04 19:00\", \"2018-08-04 21:00\"], \"y\": [9, 9], \"type\": \"scatter\", \"uid\": \"a0a923ec-9c60-11e8-98f1-6030d4660e22\"}, {\"marker\": {\"color\": \"white\"}, \"name\": \"\", \"x\": [\"2018-08-04 21:30\", \"2018-08-04 23:30\"], \"y\": [10, 10], \"type\": \"scatter\", \"uid\": \"a0a924a8-9c60-11e8-a323-6030d4660e22\"}, {\"marker\": {\"color\": \"white\"}, \"name\": \"\", \"x\": [\"2018-08-04 21:00\", \"2018-08-04 23:00\"], \"y\": [11, 11], \"type\": \"scatter\", \"uid\": \"a0a92568-9c60-11e8-a3e4-6030d4660e22\"}, {\"hoverinfo\": \"none\", \"marker\": {\"color\": \"rgb(46, 137, 205)\", \"size\": 1}, \"name\": \"Action\", \"showlegend\": true, \"x\": [\"2018-08-04 21:00\", \"2018-08-04 21:00\"], \"y\": [0, 0], \"type\": \"scatter\", \"uid\": \"a0a92626-9c60-11e8-9780-6030d4660e22\"}, {\"hoverinfo\": \"none\", \"marker\": {\"color\": \"rgb(120, 247, 222)\", \"size\": 1}, \"name\": \"Comedy\", \"showlegend\": true, \"x\": [\"2018-08-04 21:00\", \"2018-08-04 21:00\"], \"y\": [1, 1], \"type\": \"scatter\", \"uid\": \"a0a926e4-9c60-11e8-8003-6030d4660e22\"}, {\"hoverinfo\": \"none\", \"marker\": {\"color\": \"rgb(0, 0, 128)\", \"size\": 1}, \"name\": \"Drama\", \"showlegend\": true, \"x\": [\"2018-08-04 21:00\", \"2018-08-04 21:00\"], \"y\": [2, 2], \"type\": \"scatter\", \"uid\": \"a0a927fa-9c60-11e8-8bb6-6030d4660e22\"}, {\"hoverinfo\": \"none\", \"marker\": {\"color\": \"rgb(255, 0, 0)\", \"size\": 1}, \"name\": \"Horror\", \"showlegend\": true, \"x\": [\"2018-08-04 21:00\", \"2018-08-04 21:00\"], \"y\": [3, 3], \"type\": \"scatter\", \"uid\": \"a0a928b0-9c60-11e8-a074-6030d4660e22\"}, {\"hoverinfo\": \"none\", \"marker\": {\"color\": \"rgb(128, 0, 0)\", \"size\": 1}, \"name\": \"Mystery\", \"showlegend\": true, \"x\": [\"2018-08-04 21:00\", \"2018-08-04 21:00\"], \"y\": [4, 4], \"type\": \"scatter\", \"uid\": \"a0a9295a-9c60-11e8-8322-6030d4660e22\"}, {\"hoverinfo\": \"none\", \"marker\": {\"color\": \"rgb(189, 143, 215)\", \"size\": 1}, \"name\": \"Romance\", \"showlegend\": true, \"x\": [\"2018-08-04 21:00\", \"2018-08-04 21:00\"], \"y\": [5, 5], \"type\": \"scatter\", \"uid\": \"a0a92a18-9c60-11e8-a79b-6030d4660e22\"}, {\"hoverinfo\": \"none\", \"marker\": {\"color\": \"rgb(128, 128, 128)\", \"size\": 1}, \"name\": \"Science_Fiction\", \"showlegend\": true, \"x\": [\"2018-08-04 21:00\", \"2018-08-04 21:00\"], \"y\": [6, 6], \"type\": \"scatter\", \"uid\": \"a0a92acc-9c60-11e8-ba02-6030d4660e22\"}, {\"hoverinfo\": \"none\", \"marker\": {\"color\": \"rgb(192, 192, 192)\", \"size\": 1}, \"name\": \"Suspense\", \"showlegend\": true, \"x\": [\"2018-08-04 21:00\", \"2018-08-04 21:00\"], \"y\": [7, 7], \"type\": \"scatter\", \"uid\": \"a0a92b76-9c60-11e8-9f14-6030d4660e22\"}, {\"hoverinfo\": \"none\", \"marker\": {\"color\": \"rgb(114, 44, 121)\", \"size\": 1}, \"name\": \"Thriller\", \"showlegend\": true, \"x\": [\"2018-08-04 21:00\", \"2018-08-04 21:00\"], \"y\": [8, 8], \"type\": \"scatter\", \"uid\": \"a0a92c18-9c60-11e8-8bab-6030d4660e22\"}], {\"height\": 600, \"hovermode\": \"closest\", \"shapes\": [{\"fillcolor\": \"rgb(46, 137, 205)\", \"line\": {\"width\": 0}, \"opacity\": 1, \"type\": \"rect\", \"x0\": \"2018-08-04 7:00\", \"x1\": \"2018-08-04 9:00\", \"xref\": \"x\", \"y0\": -0.4, \"y1\": 0.4, \"yref\": \"y\"}, {\"fillcolor\": \"rgb(114, 44, 121)\", \"line\": {\"width\": 0}, \"opacity\": 1, \"type\": \"rect\", \"x0\": \"2018-08-04 9:00\", \"x1\": \"2018-08-04 11:00\", \"xref\": \"x\", \"y0\": 0.6, \"y1\": 1.4, \"yref\": \"y\"}, {\"fillcolor\": \"rgb(114, 44, 121)\", \"line\": {\"width\": 0}, \"opacity\": 1, \"type\": \"rect\", \"x0\": \"2018-08-04 10:00\", \"x1\": \"2018-08-04 12:00\", \"xref\": \"x\", \"y0\": 1.6, \"y1\": 2.4, \"yref\": \"y\"}, {\"fillcolor\": \"rgb(192, 192, 192)\", \"line\": {\"width\": 0}, \"opacity\": 1, \"type\": \"rect\", \"x0\": \"2018-08-04 11:30\", \"x1\": \"2018-08-04 13:30\", \"xref\": \"x\", \"y0\": 2.6, \"y1\": 3.4, \"yref\": \"y\"}, {\"fillcolor\": \"rgb(128, 128, 128)\", \"line\": {\"width\": 0}, \"opacity\": 1, \"type\": \"rect\", \"x0\": \"2018-08-04 12:00\", \"x1\": \"2018-08-04 14:00\", \"xref\": \"x\", \"y0\": 3.6, \"y1\": 4.4, \"yref\": \"y\"}, {\"fillcolor\": \"rgb(255, 0, 0)\", \"line\": {\"width\": 0}, \"opacity\": 1, \"type\": \"rect\", \"x0\": \"2018-08-04 13:30\", \"x1\": \"2018-08-04 15:30\", \"xref\": \"x\", \"y0\": 4.6, \"y1\": 5.4, \"yref\": \"y\"}, {\"fillcolor\": \"rgb(128, 0, 0)\", \"line\": {\"width\": 0}, \"opacity\": 1, \"type\": \"rect\", \"x0\": \"2018-08-04 16:00\", \"x1\": \"2018-08-04 18:00\", \"xref\": \"x\", \"y0\": 5.6, \"y1\": 6.4, \"yref\": \"y\"}, {\"fillcolor\": \"rgb(46, 137, 205)\", \"line\": {\"width\": 0}, \"opacity\": 1, \"type\": \"rect\", \"x0\": \"2018-08-04 17:00\", \"x1\": \"2018-08-04 19:00\", \"xref\": \"x\", \"y0\": 6.6, \"y1\": 7.4, \"yref\": \"y\"}, {\"fillcolor\": \"rgb(0, 0, 128)\", \"line\": {\"width\": 0}, \"opacity\": 1, \"type\": \"rect\", \"x0\": \"2018-08-04 18:30\", \"x1\": \"2018-08-04 20:30\", \"xref\": \"x\", \"y0\": 7.6, \"y1\": 8.4, \"yref\": \"y\"}, {\"fillcolor\": \"rgb(114, 44, 121)\", \"line\": {\"width\": 0}, \"opacity\": 1, \"type\": \"rect\", \"x0\": \"2018-08-04 19:00\", \"x1\": \"2018-08-04 21:00\", \"xref\": \"x\", \"y0\": 8.6, \"y1\": 9.4, \"yref\": \"y\"}, {\"fillcolor\": \"rgb(189, 143, 215)\", \"line\": {\"width\": 0}, \"opacity\": 1, \"type\": \"rect\", \"x0\": \"2018-08-04 21:30\", \"x1\": \"2018-08-04 23:30\", \"xref\": \"x\", \"y0\": 9.6, \"y1\": 10.4, \"yref\": \"y\"}, {\"fillcolor\": \"rgb(120, 247, 222)\", \"line\": {\"width\": 0}, \"opacity\": 1, \"type\": \"rect\", \"x0\": \"2018-08-04 21:00\", \"x1\": \"2018-08-04 23:00\", \"xref\": \"x\", \"y0\": 10.6, \"y1\": 11.4, \"yref\": \"y\"}], \"showlegend\": true, \"title\": \"Multiplex Schedule\", \"width\": 900, \"xaxis\": {\"rangeselector\": {\"buttons\": [{\"count\": 7, \"label\": \"1w\", \"step\": \"day\", \"stepmode\": \"backward\"}, {\"count\": 1, \"label\": \"1m\", \"step\": \"month\", \"stepmode\": \"backward\"}, {\"count\": 6, \"label\": \"6m\", \"step\": \"month\", \"stepmode\": \"backward\"}, {\"count\": 1, \"label\": \"YTD\", \"step\": \"year\", \"stepmode\": \"todate\"}, {\"count\": 1, \"label\": \"1y\", \"step\": \"year\", \"stepmode\": \"backward\"}, {\"step\": \"all\"}]}, \"showgrid\": true, \"type\": \"date\", \"zeroline\": false}, \"yaxis\": {\"autorange\": false, \"range\": [-1, 13], \"showgrid\": true, \"ticktext\": [\"Avengers: Infinity War\", \"Inception\", \"The Dark Knight\", \"Deception\", \"Looper\", \"Aliens\", \"Source code\", \"The Terminator\", \"Behind Enemy Lines\", \"Inception\", \"Me Before You\", \"Just Go with It\"], \"tickvals\": [0, 1, 2, 3, 4, 5, 6, 7, 8, 9, 10, 11], \"zeroline\": false}}, {\"showLink\": true, \"linkText\": \"Export to plot.ly\"})});</script>"
      ],
      "text/vnd.plotly.v1+html": [
       "<div id=\"9c2d9d09-1431-4dfb-8813-8d3d35836107\" style=\"height: 600px; width: 900px;\" class=\"plotly-graph-div\"></div><script type=\"text/javascript\">require([\"plotly\"], function(Plotly) { window.PLOTLYENV=window.PLOTLYENV || {};window.PLOTLYENV.BASE_URL=\"https://plot.ly\";Plotly.newPlot(\"9c2d9d09-1431-4dfb-8813-8d3d35836107\", [{\"marker\": {\"color\": \"white\"}, \"name\": \"\", \"x\": [\"2018-08-04 7:00\", \"2018-08-04 9:00\"], \"y\": [0, 0], \"type\": \"scatter\", \"uid\": \"a0a91a78-9c60-11e8-a063-6030d4660e22\"}, {\"marker\": {\"color\": \"white\"}, \"name\": \"\", \"x\": [\"2018-08-04 9:00\", \"2018-08-04 11:00\"], \"y\": [1, 1], \"type\": \"scatter\", \"uid\": \"a0a91ca8-9c60-11e8-b3c6-6030d4660e22\"}, {\"marker\": {\"color\": \"white\"}, \"name\": \"\", \"x\": [\"2018-08-04 10:00\", \"2018-08-04 12:00\"], \"y\": [2, 2], \"type\": \"scatter\", \"uid\": \"a0a91db6-9c60-11e8-b207-6030d4660e22\"}, {\"marker\": {\"color\": \"white\"}, \"name\": \"\", \"x\": [\"2018-08-04 11:30\", \"2018-08-04 13:30\"], \"y\": [3, 3], \"type\": \"scatter\", \"uid\": \"a0a91f0a-9c60-11e8-bf2a-6030d4660e22\"}, {\"marker\": {\"color\": \"white\"}, \"name\": \"\", \"x\": [\"2018-08-04 12:00\", \"2018-08-04 14:00\"], \"y\": [4, 4], \"type\": \"scatter\", \"uid\": \"a0a91ffa-9c60-11e8-b2a3-6030d4660e22\"}, {\"marker\": {\"color\": \"white\"}, \"name\": \"\", \"x\": [\"2018-08-04 13:30\", \"2018-08-04 15:30\"], \"y\": [5, 5], \"type\": \"scatter\", \"uid\": \"a0a920cc-9c60-11e8-81f7-6030d4660e22\"}, {\"marker\": {\"color\": \"white\"}, \"name\": \"\", \"x\": [\"2018-08-04 16:00\", \"2018-08-04 18:00\"], \"y\": [6, 6], \"type\": \"scatter\", \"uid\": \"a0a9219e-9c60-11e8-a1eb-6030d4660e22\"}, {\"marker\": {\"color\": \"white\"}, \"name\": \"\", \"x\": [\"2018-08-04 17:00\", \"2018-08-04 19:00\"], \"y\": [7, 7], \"type\": \"scatter\", \"uid\": \"a0a9225c-9c60-11e8-b090-6030d4660e22\"}, {\"marker\": {\"color\": \"white\"}, \"name\": \"\", \"x\": [\"2018-08-04 18:30\", \"2018-08-04 20:30\"], \"y\": [8, 8], \"type\": \"scatter\", \"uid\": \"a0a92324-9c60-11e8-9a6a-6030d4660e22\"}, {\"marker\": {\"color\": \"white\"}, \"name\": \"\", \"x\": [\"2018-08-04 19:00\", \"2018-08-04 21:00\"], \"y\": [9, 9], \"type\": \"scatter\", \"uid\": \"a0a923ec-9c60-11e8-98f1-6030d4660e22\"}, {\"marker\": {\"color\": \"white\"}, \"name\": \"\", \"x\": [\"2018-08-04 21:30\", \"2018-08-04 23:30\"], \"y\": [10, 10], \"type\": \"scatter\", \"uid\": \"a0a924a8-9c60-11e8-a323-6030d4660e22\"}, {\"marker\": {\"color\": \"white\"}, \"name\": \"\", \"x\": [\"2018-08-04 21:00\", \"2018-08-04 23:00\"], \"y\": [11, 11], \"type\": \"scatter\", \"uid\": \"a0a92568-9c60-11e8-a3e4-6030d4660e22\"}, {\"hoverinfo\": \"none\", \"marker\": {\"color\": \"rgb(46, 137, 205)\", \"size\": 1}, \"name\": \"Action\", \"showlegend\": true, \"x\": [\"2018-08-04 21:00\", \"2018-08-04 21:00\"], \"y\": [0, 0], \"type\": \"scatter\", \"uid\": \"a0a92626-9c60-11e8-9780-6030d4660e22\"}, {\"hoverinfo\": \"none\", \"marker\": {\"color\": \"rgb(120, 247, 222)\", \"size\": 1}, \"name\": \"Comedy\", \"showlegend\": true, \"x\": [\"2018-08-04 21:00\", \"2018-08-04 21:00\"], \"y\": [1, 1], \"type\": \"scatter\", \"uid\": \"a0a926e4-9c60-11e8-8003-6030d4660e22\"}, {\"hoverinfo\": \"none\", \"marker\": {\"color\": \"rgb(0, 0, 128)\", \"size\": 1}, \"name\": \"Drama\", \"showlegend\": true, \"x\": [\"2018-08-04 21:00\", \"2018-08-04 21:00\"], \"y\": [2, 2], \"type\": \"scatter\", \"uid\": \"a0a927fa-9c60-11e8-8bb6-6030d4660e22\"}, {\"hoverinfo\": \"none\", \"marker\": {\"color\": \"rgb(255, 0, 0)\", \"size\": 1}, \"name\": \"Horror\", \"showlegend\": true, \"x\": [\"2018-08-04 21:00\", \"2018-08-04 21:00\"], \"y\": [3, 3], \"type\": \"scatter\", \"uid\": \"a0a928b0-9c60-11e8-a074-6030d4660e22\"}, {\"hoverinfo\": \"none\", \"marker\": {\"color\": \"rgb(128, 0, 0)\", \"size\": 1}, \"name\": \"Mystery\", \"showlegend\": true, \"x\": [\"2018-08-04 21:00\", \"2018-08-04 21:00\"], \"y\": [4, 4], \"type\": \"scatter\", \"uid\": \"a0a9295a-9c60-11e8-8322-6030d4660e22\"}, {\"hoverinfo\": \"none\", \"marker\": {\"color\": \"rgb(189, 143, 215)\", \"size\": 1}, \"name\": \"Romance\", \"showlegend\": true, \"x\": [\"2018-08-04 21:00\", \"2018-08-04 21:00\"], \"y\": [5, 5], \"type\": \"scatter\", \"uid\": \"a0a92a18-9c60-11e8-a79b-6030d4660e22\"}, {\"hoverinfo\": \"none\", \"marker\": {\"color\": \"rgb(128, 128, 128)\", \"size\": 1}, \"name\": \"Science_Fiction\", \"showlegend\": true, \"x\": [\"2018-08-04 21:00\", \"2018-08-04 21:00\"], \"y\": [6, 6], \"type\": \"scatter\", \"uid\": \"a0a92acc-9c60-11e8-ba02-6030d4660e22\"}, {\"hoverinfo\": \"none\", \"marker\": {\"color\": \"rgb(192, 192, 192)\", \"size\": 1}, \"name\": \"Suspense\", \"showlegend\": true, \"x\": [\"2018-08-04 21:00\", \"2018-08-04 21:00\"], \"y\": [7, 7], \"type\": \"scatter\", \"uid\": \"a0a92b76-9c60-11e8-9f14-6030d4660e22\"}, {\"hoverinfo\": \"none\", \"marker\": {\"color\": \"rgb(114, 44, 121)\", \"size\": 1}, \"name\": \"Thriller\", \"showlegend\": true, \"x\": [\"2018-08-04 21:00\", \"2018-08-04 21:00\"], \"y\": [8, 8], \"type\": \"scatter\", \"uid\": \"a0a92c18-9c60-11e8-8bab-6030d4660e22\"}], {\"height\": 600, \"hovermode\": \"closest\", \"shapes\": [{\"fillcolor\": \"rgb(46, 137, 205)\", \"line\": {\"width\": 0}, \"opacity\": 1, \"type\": \"rect\", \"x0\": \"2018-08-04 7:00\", \"x1\": \"2018-08-04 9:00\", \"xref\": \"x\", \"y0\": -0.4, \"y1\": 0.4, \"yref\": \"y\"}, {\"fillcolor\": \"rgb(114, 44, 121)\", \"line\": {\"width\": 0}, \"opacity\": 1, \"type\": \"rect\", \"x0\": \"2018-08-04 9:00\", \"x1\": \"2018-08-04 11:00\", \"xref\": \"x\", \"y0\": 0.6, \"y1\": 1.4, \"yref\": \"y\"}, {\"fillcolor\": \"rgb(114, 44, 121)\", \"line\": {\"width\": 0}, \"opacity\": 1, \"type\": \"rect\", \"x0\": \"2018-08-04 10:00\", \"x1\": \"2018-08-04 12:00\", \"xref\": \"x\", \"y0\": 1.6, \"y1\": 2.4, \"yref\": \"y\"}, {\"fillcolor\": \"rgb(192, 192, 192)\", \"line\": {\"width\": 0}, \"opacity\": 1, \"type\": \"rect\", \"x0\": \"2018-08-04 11:30\", \"x1\": \"2018-08-04 13:30\", \"xref\": \"x\", \"y0\": 2.6, \"y1\": 3.4, \"yref\": \"y\"}, {\"fillcolor\": \"rgb(128, 128, 128)\", \"line\": {\"width\": 0}, \"opacity\": 1, \"type\": \"rect\", \"x0\": \"2018-08-04 12:00\", \"x1\": \"2018-08-04 14:00\", \"xref\": \"x\", \"y0\": 3.6, \"y1\": 4.4, \"yref\": \"y\"}, {\"fillcolor\": \"rgb(255, 0, 0)\", \"line\": {\"width\": 0}, \"opacity\": 1, \"type\": \"rect\", \"x0\": \"2018-08-04 13:30\", \"x1\": \"2018-08-04 15:30\", \"xref\": \"x\", \"y0\": 4.6, \"y1\": 5.4, \"yref\": \"y\"}, {\"fillcolor\": \"rgb(128, 0, 0)\", \"line\": {\"width\": 0}, \"opacity\": 1, \"type\": \"rect\", \"x0\": \"2018-08-04 16:00\", \"x1\": \"2018-08-04 18:00\", \"xref\": \"x\", \"y0\": 5.6, \"y1\": 6.4, \"yref\": \"y\"}, {\"fillcolor\": \"rgb(46, 137, 205)\", \"line\": {\"width\": 0}, \"opacity\": 1, \"type\": \"rect\", \"x0\": \"2018-08-04 17:00\", \"x1\": \"2018-08-04 19:00\", \"xref\": \"x\", \"y0\": 6.6, \"y1\": 7.4, \"yref\": \"y\"}, {\"fillcolor\": \"rgb(0, 0, 128)\", \"line\": {\"width\": 0}, \"opacity\": 1, \"type\": \"rect\", \"x0\": \"2018-08-04 18:30\", \"x1\": \"2018-08-04 20:30\", \"xref\": \"x\", \"y0\": 7.6, \"y1\": 8.4, \"yref\": \"y\"}, {\"fillcolor\": \"rgb(114, 44, 121)\", \"line\": {\"width\": 0}, \"opacity\": 1, \"type\": \"rect\", \"x0\": \"2018-08-04 19:00\", \"x1\": \"2018-08-04 21:00\", \"xref\": \"x\", \"y0\": 8.6, \"y1\": 9.4, \"yref\": \"y\"}, {\"fillcolor\": \"rgb(189, 143, 215)\", \"line\": {\"width\": 0}, \"opacity\": 1, \"type\": \"rect\", \"x0\": \"2018-08-04 21:30\", \"x1\": \"2018-08-04 23:30\", \"xref\": \"x\", \"y0\": 9.6, \"y1\": 10.4, \"yref\": \"y\"}, {\"fillcolor\": \"rgb(120, 247, 222)\", \"line\": {\"width\": 0}, \"opacity\": 1, \"type\": \"rect\", \"x0\": \"2018-08-04 21:00\", \"x1\": \"2018-08-04 23:00\", \"xref\": \"x\", \"y0\": 10.6, \"y1\": 11.4, \"yref\": \"y\"}], \"showlegend\": true, \"title\": \"Multiplex Schedule\", \"width\": 900, \"xaxis\": {\"rangeselector\": {\"buttons\": [{\"count\": 7, \"label\": \"1w\", \"step\": \"day\", \"stepmode\": \"backward\"}, {\"count\": 1, \"label\": \"1m\", \"step\": \"month\", \"stepmode\": \"backward\"}, {\"count\": 6, \"label\": \"6m\", \"step\": \"month\", \"stepmode\": \"backward\"}, {\"count\": 1, \"label\": \"YTD\", \"step\": \"year\", \"stepmode\": \"todate\"}, {\"count\": 1, \"label\": \"1y\", \"step\": \"year\", \"stepmode\": \"backward\"}, {\"step\": \"all\"}]}, \"showgrid\": true, \"type\": \"date\", \"zeroline\": false}, \"yaxis\": {\"autorange\": false, \"range\": [-1, 13], \"showgrid\": true, \"ticktext\": [\"Avengers: Infinity War\", \"Inception\", \"The Dark Knight\", \"Deception\", \"Looper\", \"Aliens\", \"Source code\", \"The Terminator\", \"Behind Enemy Lines\", \"Inception\", \"Me Before You\", \"Just Go with It\"], \"tickvals\": [0, 1, 2, 3, 4, 5, 6, 7, 8, 9, 10, 11], \"zeroline\": false}}, {\"showLink\": true, \"linkText\": \"Export to plot.ly\"})});</script>"
      ]
     },
     "metadata": {},
     "output_type": "display_data"
    }
   ],
   "source": [
    "fig = ff.create_gantt(multiplex_schedule,\n",
    "                      title='Multiplex Schedule',\n",
    "                      \n",
    "                      colors=color_dict, \n",
    "                      index_col='Category',\n",
    "                      show_colorbar=True,\n",
    "                      \n",
    "                      bar_width=0.4,\n",
    "                      \n",
    "                      showgrid_x=True, \n",
    "                      showgrid_y=True,\n",
    "                     )\n",
    "\n",
    "offline.iplot(fig)"
   ]
  },
  {
   "cell_type": "markdown",
   "metadata": {},
   "source": [
    "**Alternatively, we use a color list**\n",
    "\n",
    "Here, the ordering of colors will be mapped to the list of categories in alphabetical order."
   ]
  },
  {
   "cell_type": "code",
   "execution_count": 10,
   "metadata": {},
   "outputs": [],
   "source": [
    "color_list = ['#FF0000', \n",
    "              '#800000', \n",
    "              '#808000',\n",
    "              '#00FF00',\n",
    "              '#008000',\n",
    "              '#00FFFF',\n",
    "              '#0000FF',\n",
    "              '#000080',\n",
    "              '#008080']\n",
    "              "
   ]
  },
  {
   "cell_type": "code",
   "execution_count": 11,
   "metadata": {},
   "outputs": [
    {
     "data": {
      "application/vnd.plotly.v1+json": {
       "data": [
        {
         "marker": {
          "color": "white"
         },
         "name": "",
         "type": "scatter",
         "uid": "a0c59d42-9c60-11e8-b1bd-6030d4660e22",
         "x": [
          "2018-08-04 7:00",
          "2018-08-04 9:00"
         ],
         "y": [
          0,
          0
         ]
        },
        {
         "marker": {
          "color": "white"
         },
         "name": "",
         "type": "scatter",
         "uid": "a0c59f36-9c60-11e8-8736-6030d4660e22",
         "x": [
          "2018-08-04 9:00",
          "2018-08-04 11:00"
         ],
         "y": [
          1,
          1
         ]
        },
        {
         "marker": {
          "color": "white"
         },
         "name": "",
         "type": "scatter",
         "uid": "a0c5a058-9c60-11e8-a761-6030d4660e22",
         "x": [
          "2018-08-04 10:00",
          "2018-08-04 12:00"
         ],
         "y": [
          2,
          2
         ]
        },
        {
         "marker": {
          "color": "white"
         },
         "name": "",
         "type": "scatter",
         "uid": "a0c5a13e-9c60-11e8-9e1d-6030d4660e22",
         "x": [
          "2018-08-04 11:30",
          "2018-08-04 13:30"
         ],
         "y": [
          3,
          3
         ]
        },
        {
         "marker": {
          "color": "white"
         },
         "name": "",
         "type": "scatter",
         "uid": "a0c5a210-9c60-11e8-9df7-6030d4660e22",
         "x": [
          "2018-08-04 12:00",
          "2018-08-04 14:00"
         ],
         "y": [
          4,
          4
         ]
        },
        {
         "marker": {
          "color": "white"
         },
         "name": "",
         "type": "scatter",
         "uid": "a0c5a2d8-9c60-11e8-bc15-6030d4660e22",
         "x": [
          "2018-08-04 13:30",
          "2018-08-04 15:30"
         ],
         "y": [
          5,
          5
         ]
        },
        {
         "marker": {
          "color": "white"
         },
         "name": "",
         "type": "scatter",
         "uid": "a0c5a39e-9c60-11e8-a579-6030d4660e22",
         "x": [
          "2018-08-04 16:00",
          "2018-08-04 18:00"
         ],
         "y": [
          6,
          6
         ]
        },
        {
         "marker": {
          "color": "white"
         },
         "name": "",
         "type": "scatter",
         "uid": "a0c5a45e-9c60-11e8-89ff-6030d4660e22",
         "x": [
          "2018-08-04 17:00",
          "2018-08-04 19:00"
         ],
         "y": [
          7,
          7
         ]
        },
        {
         "marker": {
          "color": "white"
         },
         "name": "",
         "type": "scatter",
         "uid": "a0c5a51c-9c60-11e8-ad83-6030d4660e22",
         "x": [
          "2018-08-04 18:30",
          "2018-08-04 20:30"
         ],
         "y": [
          8,
          8
         ]
        },
        {
         "marker": {
          "color": "white"
         },
         "name": "",
         "type": "scatter",
         "uid": "a0c5a5e4-9c60-11e8-aa40-6030d4660e22",
         "x": [
          "2018-08-04 19:00",
          "2018-08-04 21:00"
         ],
         "y": [
          9,
          9
         ]
        },
        {
         "marker": {
          "color": "white"
         },
         "name": "",
         "type": "scatter",
         "uid": "a0c5a6a2-9c60-11e8-8777-6030d4660e22",
         "x": [
          "2018-08-04 21:30",
          "2018-08-04 23:30"
         ],
         "y": [
          10,
          10
         ]
        },
        {
         "marker": {
          "color": "white"
         },
         "name": "",
         "type": "scatter",
         "uid": "a0c5a762-9c60-11e8-8bcf-6030d4660e22",
         "x": [
          "2018-08-04 21:00",
          "2018-08-04 23:00"
         ],
         "y": [
          11,
          11
         ]
        },
        {
         "hoverinfo": "none",
         "marker": {
          "color": "rgb(255, 0, 0)",
          "size": 1
         },
         "name": "Action",
         "showlegend": true,
         "type": "scatter",
         "uid": "a0c5a81e-9c60-11e8-86a4-6030d4660e22",
         "x": [
          "2018-08-04 21:00",
          "2018-08-04 21:00"
         ],
         "y": [
          0,
          0
         ]
        },
        {
         "hoverinfo": "none",
         "marker": {
          "color": "rgb(128, 0, 0)",
          "size": 1
         },
         "name": "Comedy",
         "showlegend": true,
         "type": "scatter",
         "uid": "a0c5a8d2-9c60-11e8-b8af-6030d4660e22",
         "x": [
          "2018-08-04 21:00",
          "2018-08-04 21:00"
         ],
         "y": [
          1,
          1
         ]
        },
        {
         "hoverinfo": "none",
         "marker": {
          "color": "rgb(128, 128, 0)",
          "size": 1
         },
         "name": "Drama",
         "showlegend": true,
         "type": "scatter",
         "uid": "a0c5a986-9c60-11e8-bcf4-6030d4660e22",
         "x": [
          "2018-08-04 21:00",
          "2018-08-04 21:00"
         ],
         "y": [
          2,
          2
         ]
        },
        {
         "hoverinfo": "none",
         "marker": {
          "color": "rgb(0, 255, 0)",
          "size": 1
         },
         "name": "Horror",
         "showlegend": true,
         "type": "scatter",
         "uid": "a0c5aa3a-9c60-11e8-a3aa-6030d4660e22",
         "x": [
          "2018-08-04 21:00",
          "2018-08-04 21:00"
         ],
         "y": [
          3,
          3
         ]
        },
        {
         "hoverinfo": "none",
         "marker": {
          "color": "rgb(0, 128, 0)",
          "size": 1
         },
         "name": "Mystery",
         "showlegend": true,
         "type": "scatter",
         "uid": "a0c5aaf8-9c60-11e8-937c-6030d4660e22",
         "x": [
          "2018-08-04 21:00",
          "2018-08-04 21:00"
         ],
         "y": [
          4,
          4
         ]
        },
        {
         "hoverinfo": "none",
         "marker": {
          "color": "rgb(0, 255, 255)",
          "size": 1
         },
         "name": "Romance",
         "showlegend": true,
         "type": "scatter",
         "uid": "a0c5abac-9c60-11e8-badb-6030d4660e22",
         "x": [
          "2018-08-04 21:00",
          "2018-08-04 21:00"
         ],
         "y": [
          5,
          5
         ]
        },
        {
         "hoverinfo": "none",
         "marker": {
          "color": "rgb(0, 0, 255)",
          "size": 1
         },
         "name": "Science_Fiction",
         "showlegend": true,
         "type": "scatter",
         "uid": "a0c5ac68-9c60-11e8-8953-6030d4660e22",
         "x": [
          "2018-08-04 21:00",
          "2018-08-04 21:00"
         ],
         "y": [
          6,
          6
         ]
        },
        {
         "hoverinfo": "none",
         "marker": {
          "color": "rgb(0, 0, 128)",
          "size": 1
         },
         "name": "Suspense",
         "showlegend": true,
         "type": "scatter",
         "uid": "a0c5ad98-9c60-11e8-85a3-6030d4660e22",
         "x": [
          "2018-08-04 21:00",
          "2018-08-04 21:00"
         ],
         "y": [
          7,
          7
         ]
        },
        {
         "hoverinfo": "none",
         "marker": {
          "color": "rgb(0, 128, 128)",
          "size": 1
         },
         "name": "Thriller",
         "showlegend": true,
         "type": "scatter",
         "uid": "a0c5ae68-9c60-11e8-a496-6030d4660e22",
         "x": [
          "2018-08-04 21:00",
          "2018-08-04 21:00"
         ],
         "y": [
          8,
          8
         ]
        }
       ],
       "layout": {
        "height": 600,
        "hovermode": "closest",
        "shapes": [
         {
          "fillcolor": "rgb(255, 0, 0)",
          "line": {
           "width": 0
          },
          "opacity": 1,
          "type": "rect",
          "x0": "2018-08-04 7:00",
          "x1": "2018-08-04 9:00",
          "xref": "x",
          "y0": -0.4,
          "y1": 0.4,
          "yref": "y"
         },
         {
          "fillcolor": "rgb(0, 128, 128)",
          "line": {
           "width": 0
          },
          "opacity": 1,
          "type": "rect",
          "x0": "2018-08-04 9:00",
          "x1": "2018-08-04 11:00",
          "xref": "x",
          "y0": 0.6,
          "y1": 1.4,
          "yref": "y"
         },
         {
          "fillcolor": "rgb(0, 128, 128)",
          "line": {
           "width": 0
          },
          "opacity": 1,
          "type": "rect",
          "x0": "2018-08-04 10:00",
          "x1": "2018-08-04 12:00",
          "xref": "x",
          "y0": 1.6,
          "y1": 2.4,
          "yref": "y"
         },
         {
          "fillcolor": "rgb(0, 0, 128)",
          "line": {
           "width": 0
          },
          "opacity": 1,
          "type": "rect",
          "x0": "2018-08-04 11:30",
          "x1": "2018-08-04 13:30",
          "xref": "x",
          "y0": 2.6,
          "y1": 3.4,
          "yref": "y"
         },
         {
          "fillcolor": "rgb(0, 0, 255)",
          "line": {
           "width": 0
          },
          "opacity": 1,
          "type": "rect",
          "x0": "2018-08-04 12:00",
          "x1": "2018-08-04 14:00",
          "xref": "x",
          "y0": 3.6,
          "y1": 4.4,
          "yref": "y"
         },
         {
          "fillcolor": "rgb(0, 255, 0)",
          "line": {
           "width": 0
          },
          "opacity": 1,
          "type": "rect",
          "x0": "2018-08-04 13:30",
          "x1": "2018-08-04 15:30",
          "xref": "x",
          "y0": 4.6,
          "y1": 5.4,
          "yref": "y"
         },
         {
          "fillcolor": "rgb(0, 128, 0)",
          "line": {
           "width": 0
          },
          "opacity": 1,
          "type": "rect",
          "x0": "2018-08-04 16:00",
          "x1": "2018-08-04 18:00",
          "xref": "x",
          "y0": 5.6,
          "y1": 6.4,
          "yref": "y"
         },
         {
          "fillcolor": "rgb(255, 0, 0)",
          "line": {
           "width": 0
          },
          "opacity": 1,
          "type": "rect",
          "x0": "2018-08-04 17:00",
          "x1": "2018-08-04 19:00",
          "xref": "x",
          "y0": 6.6,
          "y1": 7.4,
          "yref": "y"
         },
         {
          "fillcolor": "rgb(128, 128, 0)",
          "line": {
           "width": 0
          },
          "opacity": 1,
          "type": "rect",
          "x0": "2018-08-04 18:30",
          "x1": "2018-08-04 20:30",
          "xref": "x",
          "y0": 7.6,
          "y1": 8.4,
          "yref": "y"
         },
         {
          "fillcolor": "rgb(0, 128, 128)",
          "line": {
           "width": 0
          },
          "opacity": 1,
          "type": "rect",
          "x0": "2018-08-04 19:00",
          "x1": "2018-08-04 21:00",
          "xref": "x",
          "y0": 8.6,
          "y1": 9.4,
          "yref": "y"
         },
         {
          "fillcolor": "rgb(0, 255, 255)",
          "line": {
           "width": 0
          },
          "opacity": 1,
          "type": "rect",
          "x0": "2018-08-04 21:30",
          "x1": "2018-08-04 23:30",
          "xref": "x",
          "y0": 9.6,
          "y1": 10.4,
          "yref": "y"
         },
         {
          "fillcolor": "rgb(128, 0, 0)",
          "line": {
           "width": 0
          },
          "opacity": 1,
          "type": "rect",
          "x0": "2018-08-04 21:00",
          "x1": "2018-08-04 23:00",
          "xref": "x",
          "y0": 10.6,
          "y1": 11.4,
          "yref": "y"
         }
        ],
        "showlegend": true,
        "title": "Multiplex Schedule",
        "width": 900,
        "xaxis": {
         "rangeselector": {
          "buttons": [
           {
            "count": 7,
            "label": "1w",
            "step": "day",
            "stepmode": "backward"
           },
           {
            "count": 1,
            "label": "1m",
            "step": "month",
            "stepmode": "backward"
           },
           {
            "count": 6,
            "label": "6m",
            "step": "month",
            "stepmode": "backward"
           },
           {
            "count": 1,
            "label": "YTD",
            "step": "year",
            "stepmode": "todate"
           },
           {
            "count": 1,
            "label": "1y",
            "step": "year",
            "stepmode": "backward"
           },
           {
            "step": "all"
           }
          ]
         },
         "showgrid": true,
         "type": "date",
         "zeroline": false
        },
        "yaxis": {
         "autorange": false,
         "range": [
          -1,
          13
         ],
         "showgrid": true,
         "ticktext": [
          "Avengers: Infinity War",
          "Inception",
          "The Dark Knight",
          "Deception",
          "Looper",
          "Aliens",
          "Source code",
          "The Terminator",
          "Behind Enemy Lines",
          "Inception",
          "Me Before You",
          "Just Go with It"
         ],
         "tickvals": [
          0,
          1,
          2,
          3,
          4,
          5,
          6,
          7,
          8,
          9,
          10,
          11
         ],
         "zeroline": false
        }
       }
      },
      "text/html": [
       "<div id=\"9d64ed75-78de-4d43-806e-ad46ca7f2f1d\" style=\"height: 600px; width: 900px;\" class=\"plotly-graph-div\"></div><script type=\"text/javascript\">require([\"plotly\"], function(Plotly) { window.PLOTLYENV=window.PLOTLYENV || {};window.PLOTLYENV.BASE_URL=\"https://plot.ly\";Plotly.newPlot(\"9d64ed75-78de-4d43-806e-ad46ca7f2f1d\", [{\"marker\": {\"color\": \"white\"}, \"name\": \"\", \"x\": [\"2018-08-04 7:00\", \"2018-08-04 9:00\"], \"y\": [0, 0], \"type\": \"scatter\", \"uid\": \"a0dabe70-9c60-11e8-85ba-6030d4660e22\"}, {\"marker\": {\"color\": \"white\"}, \"name\": \"\", \"x\": [\"2018-08-04 9:00\", \"2018-08-04 11:00\"], \"y\": [1, 1], \"type\": \"scatter\", \"uid\": \"a0dac050-9c60-11e8-8381-6030d4660e22\"}, {\"marker\": {\"color\": \"white\"}, \"name\": \"\", \"x\": [\"2018-08-04 10:00\", \"2018-08-04 12:00\"], \"y\": [2, 2], \"type\": \"scatter\", \"uid\": \"a0dac168-9c60-11e8-bec2-6030d4660e22\"}, {\"marker\": {\"color\": \"white\"}, \"name\": \"\", \"x\": [\"2018-08-04 11:30\", \"2018-08-04 13:30\"], \"y\": [3, 3], \"type\": \"scatter\", \"uid\": \"a0dac23a-9c60-11e8-bf2f-6030d4660e22\"}, {\"marker\": {\"color\": \"white\"}, \"name\": \"\", \"x\": [\"2018-08-04 12:00\", \"2018-08-04 14:00\"], \"y\": [4, 4], \"type\": \"scatter\", \"uid\": \"a0dac2f8-9c60-11e8-ad0a-6030d4660e22\"}, {\"marker\": {\"color\": \"white\"}, \"name\": \"\", \"x\": [\"2018-08-04 13:30\", \"2018-08-04 15:30\"], \"y\": [5, 5], \"type\": \"scatter\", \"uid\": \"a0dac3b6-9c60-11e8-970c-6030d4660e22\"}, {\"marker\": {\"color\": \"white\"}, \"name\": \"\", \"x\": [\"2018-08-04 16:00\", \"2018-08-04 18:00\"], \"y\": [6, 6], \"type\": \"scatter\", \"uid\": \"a0dac468-9c60-11e8-a1b3-6030d4660e22\"}, {\"marker\": {\"color\": \"white\"}, \"name\": \"\", \"x\": [\"2018-08-04 17:00\", \"2018-08-04 19:00\"], \"y\": [7, 7], \"type\": \"scatter\", \"uid\": \"a0dac51e-9c60-11e8-ae39-6030d4660e22\"}, {\"marker\": {\"color\": \"white\"}, \"name\": \"\", \"x\": [\"2018-08-04 18:30\", \"2018-08-04 20:30\"], \"y\": [8, 8], \"type\": \"scatter\", \"uid\": \"a0dac5d2-9c60-11e8-92bd-6030d4660e22\"}, {\"marker\": {\"color\": \"white\"}, \"name\": \"\", \"x\": [\"2018-08-04 19:00\", \"2018-08-04 21:00\"], \"y\": [9, 9], \"type\": \"scatter\", \"uid\": \"a0dac686-9c60-11e8-a419-6030d4660e22\"}, {\"marker\": {\"color\": \"white\"}, \"name\": \"\", \"x\": [\"2018-08-04 21:30\", \"2018-08-04 23:30\"], \"y\": [10, 10], \"type\": \"scatter\", \"uid\": \"a0dac730-9c60-11e8-9e32-6030d4660e22\"}, {\"marker\": {\"color\": \"white\"}, \"name\": \"\", \"x\": [\"2018-08-04 21:00\", \"2018-08-04 23:00\"], \"y\": [11, 11], \"type\": \"scatter\", \"uid\": \"a0dac7e4-9c60-11e8-99d5-6030d4660e22\"}, {\"hoverinfo\": \"none\", \"marker\": {\"color\": \"rgb(255, 0, 0)\", \"size\": 1}, \"name\": \"Action\", \"showlegend\": true, \"x\": [\"2018-08-04 21:00\", \"2018-08-04 21:00\"], \"y\": [0, 0], \"type\": \"scatter\", \"uid\": \"a0dac8de-9c60-11e8-94b8-6030d4660e22\"}, {\"hoverinfo\": \"none\", \"marker\": {\"color\": \"rgb(128, 0, 0)\", \"size\": 1}, \"name\": \"Comedy\", \"showlegend\": true, \"x\": [\"2018-08-04 21:00\", \"2018-08-04 21:00\"], \"y\": [1, 1], \"type\": \"scatter\", \"uid\": \"a0dac99c-9c60-11e8-8027-6030d4660e22\"}, {\"hoverinfo\": \"none\", \"marker\": {\"color\": \"rgb(128, 128, 0)\", \"size\": 1}, \"name\": \"Drama\", \"showlegend\": true, \"x\": [\"2018-08-04 21:00\", \"2018-08-04 21:00\"], \"y\": [2, 2], \"type\": \"scatter\", \"uid\": \"a0daca50-9c60-11e8-8a13-6030d4660e22\"}, {\"hoverinfo\": \"none\", \"marker\": {\"color\": \"rgb(0, 255, 0)\", \"size\": 1}, \"name\": \"Horror\", \"showlegend\": true, \"x\": [\"2018-08-04 21:00\", \"2018-08-04 21:00\"], \"y\": [3, 3], \"type\": \"scatter\", \"uid\": \"a0dacafa-9c60-11e8-9956-6030d4660e22\"}, {\"hoverinfo\": \"none\", \"marker\": {\"color\": \"rgb(0, 128, 0)\", \"size\": 1}, \"name\": \"Mystery\", \"showlegend\": true, \"x\": [\"2018-08-04 21:00\", \"2018-08-04 21:00\"], \"y\": [4, 4], \"type\": \"scatter\", \"uid\": \"a0dacba4-9c60-11e8-89be-6030d4660e22\"}, {\"hoverinfo\": \"none\", \"marker\": {\"color\": \"rgb(0, 255, 255)\", \"size\": 1}, \"name\": \"Romance\", \"showlegend\": true, \"x\": [\"2018-08-04 21:00\", \"2018-08-04 21:00\"], \"y\": [5, 5], \"type\": \"scatter\", \"uid\": \"a0dacc4c-9c60-11e8-a039-6030d4660e22\"}, {\"hoverinfo\": \"none\", \"marker\": {\"color\": \"rgb(0, 0, 255)\", \"size\": 1}, \"name\": \"Science_Fiction\", \"showlegend\": true, \"x\": [\"2018-08-04 21:00\", \"2018-08-04 21:00\"], \"y\": [6, 6], \"type\": \"scatter\", \"uid\": \"a0daccf8-9c60-11e8-89a2-6030d4660e22\"}, {\"hoverinfo\": \"none\", \"marker\": {\"color\": \"rgb(0, 0, 128)\", \"size\": 1}, \"name\": \"Suspense\", \"showlegend\": true, \"x\": [\"2018-08-04 21:00\", \"2018-08-04 21:00\"], \"y\": [7, 7], \"type\": \"scatter\", \"uid\": \"a0dacda2-9c60-11e8-a8bd-6030d4660e22\"}, {\"hoverinfo\": \"none\", \"marker\": {\"color\": \"rgb(0, 128, 128)\", \"size\": 1}, \"name\": \"Thriller\", \"showlegend\": true, \"x\": [\"2018-08-04 21:00\", \"2018-08-04 21:00\"], \"y\": [8, 8], \"type\": \"scatter\", \"uid\": \"a0dace42-9c60-11e8-8f5a-6030d4660e22\"}], {\"height\": 600, \"hovermode\": \"closest\", \"shapes\": [{\"fillcolor\": \"rgb(255, 0, 0)\", \"line\": {\"width\": 0}, \"opacity\": 1, \"type\": \"rect\", \"x0\": \"2018-08-04 7:00\", \"x1\": \"2018-08-04 9:00\", \"xref\": \"x\", \"y0\": -0.4, \"y1\": 0.4, \"yref\": \"y\"}, {\"fillcolor\": \"rgb(0, 128, 128)\", \"line\": {\"width\": 0}, \"opacity\": 1, \"type\": \"rect\", \"x0\": \"2018-08-04 9:00\", \"x1\": \"2018-08-04 11:00\", \"xref\": \"x\", \"y0\": 0.6, \"y1\": 1.4, \"yref\": \"y\"}, {\"fillcolor\": \"rgb(0, 128, 128)\", \"line\": {\"width\": 0}, \"opacity\": 1, \"type\": \"rect\", \"x0\": \"2018-08-04 10:00\", \"x1\": \"2018-08-04 12:00\", \"xref\": \"x\", \"y0\": 1.6, \"y1\": 2.4, \"yref\": \"y\"}, {\"fillcolor\": \"rgb(0, 0, 128)\", \"line\": {\"width\": 0}, \"opacity\": 1, \"type\": \"rect\", \"x0\": \"2018-08-04 11:30\", \"x1\": \"2018-08-04 13:30\", \"xref\": \"x\", \"y0\": 2.6, \"y1\": 3.4, \"yref\": \"y\"}, {\"fillcolor\": \"rgb(0, 0, 255)\", \"line\": {\"width\": 0}, \"opacity\": 1, \"type\": \"rect\", \"x0\": \"2018-08-04 12:00\", \"x1\": \"2018-08-04 14:00\", \"xref\": \"x\", \"y0\": 3.6, \"y1\": 4.4, \"yref\": \"y\"}, {\"fillcolor\": \"rgb(0, 255, 0)\", \"line\": {\"width\": 0}, \"opacity\": 1, \"type\": \"rect\", \"x0\": \"2018-08-04 13:30\", \"x1\": \"2018-08-04 15:30\", \"xref\": \"x\", \"y0\": 4.6, \"y1\": 5.4, \"yref\": \"y\"}, {\"fillcolor\": \"rgb(0, 128, 0)\", \"line\": {\"width\": 0}, \"opacity\": 1, \"type\": \"rect\", \"x0\": \"2018-08-04 16:00\", \"x1\": \"2018-08-04 18:00\", \"xref\": \"x\", \"y0\": 5.6, \"y1\": 6.4, \"yref\": \"y\"}, {\"fillcolor\": \"rgb(255, 0, 0)\", \"line\": {\"width\": 0}, \"opacity\": 1, \"type\": \"rect\", \"x0\": \"2018-08-04 17:00\", \"x1\": \"2018-08-04 19:00\", \"xref\": \"x\", \"y0\": 6.6, \"y1\": 7.4, \"yref\": \"y\"}, {\"fillcolor\": \"rgb(128, 128, 0)\", \"line\": {\"width\": 0}, \"opacity\": 1, \"type\": \"rect\", \"x0\": \"2018-08-04 18:30\", \"x1\": \"2018-08-04 20:30\", \"xref\": \"x\", \"y0\": 7.6, \"y1\": 8.4, \"yref\": \"y\"}, {\"fillcolor\": \"rgb(0, 128, 128)\", \"line\": {\"width\": 0}, \"opacity\": 1, \"type\": \"rect\", \"x0\": \"2018-08-04 19:00\", \"x1\": \"2018-08-04 21:00\", \"xref\": \"x\", \"y0\": 8.6, \"y1\": 9.4, \"yref\": \"y\"}, {\"fillcolor\": \"rgb(0, 255, 255)\", \"line\": {\"width\": 0}, \"opacity\": 1, \"type\": \"rect\", \"x0\": \"2018-08-04 21:30\", \"x1\": \"2018-08-04 23:30\", \"xref\": \"x\", \"y0\": 9.6, \"y1\": 10.4, \"yref\": \"y\"}, {\"fillcolor\": \"rgb(128, 0, 0)\", \"line\": {\"width\": 0}, \"opacity\": 1, \"type\": \"rect\", \"x0\": \"2018-08-04 21:00\", \"x1\": \"2018-08-04 23:00\", \"xref\": \"x\", \"y0\": 10.6, \"y1\": 11.4, \"yref\": \"y\"}], \"showlegend\": true, \"title\": \"Multiplex Schedule\", \"width\": 900, \"xaxis\": {\"rangeselector\": {\"buttons\": [{\"count\": 7, \"label\": \"1w\", \"step\": \"day\", \"stepmode\": \"backward\"}, {\"count\": 1, \"label\": \"1m\", \"step\": \"month\", \"stepmode\": \"backward\"}, {\"count\": 6, \"label\": \"6m\", \"step\": \"month\", \"stepmode\": \"backward\"}, {\"count\": 1, \"label\": \"YTD\", \"step\": \"year\", \"stepmode\": \"todate\"}, {\"count\": 1, \"label\": \"1y\", \"step\": \"year\", \"stepmode\": \"backward\"}, {\"step\": \"all\"}]}, \"showgrid\": true, \"type\": \"date\", \"zeroline\": false}, \"yaxis\": {\"autorange\": false, \"range\": [-1, 13], \"showgrid\": true, \"ticktext\": [\"Avengers: Infinity War\", \"Inception\", \"The Dark Knight\", \"Deception\", \"Looper\", \"Aliens\", \"Source code\", \"The Terminator\", \"Behind Enemy Lines\", \"Inception\", \"Me Before You\", \"Just Go with It\"], \"tickvals\": [0, 1, 2, 3, 4, 5, 6, 7, 8, 9, 10, 11], \"zeroline\": false}}, {\"showLink\": true, \"linkText\": \"Export to plot.ly\"})});</script>"
      ],
      "text/vnd.plotly.v1+html": [
       "<div id=\"9d64ed75-78de-4d43-806e-ad46ca7f2f1d\" style=\"height: 600px; width: 900px;\" class=\"plotly-graph-div\"></div><script type=\"text/javascript\">require([\"plotly\"], function(Plotly) { window.PLOTLYENV=window.PLOTLYENV || {};window.PLOTLYENV.BASE_URL=\"https://plot.ly\";Plotly.newPlot(\"9d64ed75-78de-4d43-806e-ad46ca7f2f1d\", [{\"marker\": {\"color\": \"white\"}, \"name\": \"\", \"x\": [\"2018-08-04 7:00\", \"2018-08-04 9:00\"], \"y\": [0, 0], \"type\": \"scatter\", \"uid\": \"a0dabe70-9c60-11e8-85ba-6030d4660e22\"}, {\"marker\": {\"color\": \"white\"}, \"name\": \"\", \"x\": [\"2018-08-04 9:00\", \"2018-08-04 11:00\"], \"y\": [1, 1], \"type\": \"scatter\", \"uid\": \"a0dac050-9c60-11e8-8381-6030d4660e22\"}, {\"marker\": {\"color\": \"white\"}, \"name\": \"\", \"x\": [\"2018-08-04 10:00\", \"2018-08-04 12:00\"], \"y\": [2, 2], \"type\": \"scatter\", \"uid\": \"a0dac168-9c60-11e8-bec2-6030d4660e22\"}, {\"marker\": {\"color\": \"white\"}, \"name\": \"\", \"x\": [\"2018-08-04 11:30\", \"2018-08-04 13:30\"], \"y\": [3, 3], \"type\": \"scatter\", \"uid\": \"a0dac23a-9c60-11e8-bf2f-6030d4660e22\"}, {\"marker\": {\"color\": \"white\"}, \"name\": \"\", \"x\": [\"2018-08-04 12:00\", \"2018-08-04 14:00\"], \"y\": [4, 4], \"type\": \"scatter\", \"uid\": \"a0dac2f8-9c60-11e8-ad0a-6030d4660e22\"}, {\"marker\": {\"color\": \"white\"}, \"name\": \"\", \"x\": [\"2018-08-04 13:30\", \"2018-08-04 15:30\"], \"y\": [5, 5], \"type\": \"scatter\", \"uid\": \"a0dac3b6-9c60-11e8-970c-6030d4660e22\"}, {\"marker\": {\"color\": \"white\"}, \"name\": \"\", \"x\": [\"2018-08-04 16:00\", \"2018-08-04 18:00\"], \"y\": [6, 6], \"type\": \"scatter\", \"uid\": \"a0dac468-9c60-11e8-a1b3-6030d4660e22\"}, {\"marker\": {\"color\": \"white\"}, \"name\": \"\", \"x\": [\"2018-08-04 17:00\", \"2018-08-04 19:00\"], \"y\": [7, 7], \"type\": \"scatter\", \"uid\": \"a0dac51e-9c60-11e8-ae39-6030d4660e22\"}, {\"marker\": {\"color\": \"white\"}, \"name\": \"\", \"x\": [\"2018-08-04 18:30\", \"2018-08-04 20:30\"], \"y\": [8, 8], \"type\": \"scatter\", \"uid\": \"a0dac5d2-9c60-11e8-92bd-6030d4660e22\"}, {\"marker\": {\"color\": \"white\"}, \"name\": \"\", \"x\": [\"2018-08-04 19:00\", \"2018-08-04 21:00\"], \"y\": [9, 9], \"type\": \"scatter\", \"uid\": \"a0dac686-9c60-11e8-a419-6030d4660e22\"}, {\"marker\": {\"color\": \"white\"}, \"name\": \"\", \"x\": [\"2018-08-04 21:30\", \"2018-08-04 23:30\"], \"y\": [10, 10], \"type\": \"scatter\", \"uid\": \"a0dac730-9c60-11e8-9e32-6030d4660e22\"}, {\"marker\": {\"color\": \"white\"}, \"name\": \"\", \"x\": [\"2018-08-04 21:00\", \"2018-08-04 23:00\"], \"y\": [11, 11], \"type\": \"scatter\", \"uid\": \"a0dac7e4-9c60-11e8-99d5-6030d4660e22\"}, {\"hoverinfo\": \"none\", \"marker\": {\"color\": \"rgb(255, 0, 0)\", \"size\": 1}, \"name\": \"Action\", \"showlegend\": true, \"x\": [\"2018-08-04 21:00\", \"2018-08-04 21:00\"], \"y\": [0, 0], \"type\": \"scatter\", \"uid\": \"a0dac8de-9c60-11e8-94b8-6030d4660e22\"}, {\"hoverinfo\": \"none\", \"marker\": {\"color\": \"rgb(128, 0, 0)\", \"size\": 1}, \"name\": \"Comedy\", \"showlegend\": true, \"x\": [\"2018-08-04 21:00\", \"2018-08-04 21:00\"], \"y\": [1, 1], \"type\": \"scatter\", \"uid\": \"a0dac99c-9c60-11e8-8027-6030d4660e22\"}, {\"hoverinfo\": \"none\", \"marker\": {\"color\": \"rgb(128, 128, 0)\", \"size\": 1}, \"name\": \"Drama\", \"showlegend\": true, \"x\": [\"2018-08-04 21:00\", \"2018-08-04 21:00\"], \"y\": [2, 2], \"type\": \"scatter\", \"uid\": \"a0daca50-9c60-11e8-8a13-6030d4660e22\"}, {\"hoverinfo\": \"none\", \"marker\": {\"color\": \"rgb(0, 255, 0)\", \"size\": 1}, \"name\": \"Horror\", \"showlegend\": true, \"x\": [\"2018-08-04 21:00\", \"2018-08-04 21:00\"], \"y\": [3, 3], \"type\": \"scatter\", \"uid\": \"a0dacafa-9c60-11e8-9956-6030d4660e22\"}, {\"hoverinfo\": \"none\", \"marker\": {\"color\": \"rgb(0, 128, 0)\", \"size\": 1}, \"name\": \"Mystery\", \"showlegend\": true, \"x\": [\"2018-08-04 21:00\", \"2018-08-04 21:00\"], \"y\": [4, 4], \"type\": \"scatter\", \"uid\": \"a0dacba4-9c60-11e8-89be-6030d4660e22\"}, {\"hoverinfo\": \"none\", \"marker\": {\"color\": \"rgb(0, 255, 255)\", \"size\": 1}, \"name\": \"Romance\", \"showlegend\": true, \"x\": [\"2018-08-04 21:00\", \"2018-08-04 21:00\"], \"y\": [5, 5], \"type\": \"scatter\", \"uid\": \"a0dacc4c-9c60-11e8-a039-6030d4660e22\"}, {\"hoverinfo\": \"none\", \"marker\": {\"color\": \"rgb(0, 0, 255)\", \"size\": 1}, \"name\": \"Science_Fiction\", \"showlegend\": true, \"x\": [\"2018-08-04 21:00\", \"2018-08-04 21:00\"], \"y\": [6, 6], \"type\": \"scatter\", \"uid\": \"a0daccf8-9c60-11e8-89a2-6030d4660e22\"}, {\"hoverinfo\": \"none\", \"marker\": {\"color\": \"rgb(0, 0, 128)\", \"size\": 1}, \"name\": \"Suspense\", \"showlegend\": true, \"x\": [\"2018-08-04 21:00\", \"2018-08-04 21:00\"], \"y\": [7, 7], \"type\": \"scatter\", \"uid\": \"a0dacda2-9c60-11e8-a8bd-6030d4660e22\"}, {\"hoverinfo\": \"none\", \"marker\": {\"color\": \"rgb(0, 128, 128)\", \"size\": 1}, \"name\": \"Thriller\", \"showlegend\": true, \"x\": [\"2018-08-04 21:00\", \"2018-08-04 21:00\"], \"y\": [8, 8], \"type\": \"scatter\", \"uid\": \"a0dace42-9c60-11e8-8f5a-6030d4660e22\"}], {\"height\": 600, \"hovermode\": \"closest\", \"shapes\": [{\"fillcolor\": \"rgb(255, 0, 0)\", \"line\": {\"width\": 0}, \"opacity\": 1, \"type\": \"rect\", \"x0\": \"2018-08-04 7:00\", \"x1\": \"2018-08-04 9:00\", \"xref\": \"x\", \"y0\": -0.4, \"y1\": 0.4, \"yref\": \"y\"}, {\"fillcolor\": \"rgb(0, 128, 128)\", \"line\": {\"width\": 0}, \"opacity\": 1, \"type\": \"rect\", \"x0\": \"2018-08-04 9:00\", \"x1\": \"2018-08-04 11:00\", \"xref\": \"x\", \"y0\": 0.6, \"y1\": 1.4, \"yref\": \"y\"}, {\"fillcolor\": \"rgb(0, 128, 128)\", \"line\": {\"width\": 0}, \"opacity\": 1, \"type\": \"rect\", \"x0\": \"2018-08-04 10:00\", \"x1\": \"2018-08-04 12:00\", \"xref\": \"x\", \"y0\": 1.6, \"y1\": 2.4, \"yref\": \"y\"}, {\"fillcolor\": \"rgb(0, 0, 128)\", \"line\": {\"width\": 0}, \"opacity\": 1, \"type\": \"rect\", \"x0\": \"2018-08-04 11:30\", \"x1\": \"2018-08-04 13:30\", \"xref\": \"x\", \"y0\": 2.6, \"y1\": 3.4, \"yref\": \"y\"}, {\"fillcolor\": \"rgb(0, 0, 255)\", \"line\": {\"width\": 0}, \"opacity\": 1, \"type\": \"rect\", \"x0\": \"2018-08-04 12:00\", \"x1\": \"2018-08-04 14:00\", \"xref\": \"x\", \"y0\": 3.6, \"y1\": 4.4, \"yref\": \"y\"}, {\"fillcolor\": \"rgb(0, 255, 0)\", \"line\": {\"width\": 0}, \"opacity\": 1, \"type\": \"rect\", \"x0\": \"2018-08-04 13:30\", \"x1\": \"2018-08-04 15:30\", \"xref\": \"x\", \"y0\": 4.6, \"y1\": 5.4, \"yref\": \"y\"}, {\"fillcolor\": \"rgb(0, 128, 0)\", \"line\": {\"width\": 0}, \"opacity\": 1, \"type\": \"rect\", \"x0\": \"2018-08-04 16:00\", \"x1\": \"2018-08-04 18:00\", \"xref\": \"x\", \"y0\": 5.6, \"y1\": 6.4, \"yref\": \"y\"}, {\"fillcolor\": \"rgb(255, 0, 0)\", \"line\": {\"width\": 0}, \"opacity\": 1, \"type\": \"rect\", \"x0\": \"2018-08-04 17:00\", \"x1\": \"2018-08-04 19:00\", \"xref\": \"x\", \"y0\": 6.6, \"y1\": 7.4, \"yref\": \"y\"}, {\"fillcolor\": \"rgb(128, 128, 0)\", \"line\": {\"width\": 0}, \"opacity\": 1, \"type\": \"rect\", \"x0\": \"2018-08-04 18:30\", \"x1\": \"2018-08-04 20:30\", \"xref\": \"x\", \"y0\": 7.6, \"y1\": 8.4, \"yref\": \"y\"}, {\"fillcolor\": \"rgb(0, 128, 128)\", \"line\": {\"width\": 0}, \"opacity\": 1, \"type\": \"rect\", \"x0\": \"2018-08-04 19:00\", \"x1\": \"2018-08-04 21:00\", \"xref\": \"x\", \"y0\": 8.6, \"y1\": 9.4, \"yref\": \"y\"}, {\"fillcolor\": \"rgb(0, 255, 255)\", \"line\": {\"width\": 0}, \"opacity\": 1, \"type\": \"rect\", \"x0\": \"2018-08-04 21:30\", \"x1\": \"2018-08-04 23:30\", \"xref\": \"x\", \"y0\": 9.6, \"y1\": 10.4, \"yref\": \"y\"}, {\"fillcolor\": \"rgb(128, 0, 0)\", \"line\": {\"width\": 0}, \"opacity\": 1, \"type\": \"rect\", \"x0\": \"2018-08-04 21:00\", \"x1\": \"2018-08-04 23:00\", \"xref\": \"x\", \"y0\": 10.6, \"y1\": 11.4, \"yref\": \"y\"}], \"showlegend\": true, \"title\": \"Multiplex Schedule\", \"width\": 900, \"xaxis\": {\"rangeselector\": {\"buttons\": [{\"count\": 7, \"label\": \"1w\", \"step\": \"day\", \"stepmode\": \"backward\"}, {\"count\": 1, \"label\": \"1m\", \"step\": \"month\", \"stepmode\": \"backward\"}, {\"count\": 6, \"label\": \"6m\", \"step\": \"month\", \"stepmode\": \"backward\"}, {\"count\": 1, \"label\": \"YTD\", \"step\": \"year\", \"stepmode\": \"todate\"}, {\"count\": 1, \"label\": \"1y\", \"step\": \"year\", \"stepmode\": \"backward\"}, {\"step\": \"all\"}]}, \"showgrid\": true, \"type\": \"date\", \"zeroline\": false}, \"yaxis\": {\"autorange\": false, \"range\": [-1, 13], \"showgrid\": true, \"ticktext\": [\"Avengers: Infinity War\", \"Inception\", \"The Dark Knight\", \"Deception\", \"Looper\", \"Aliens\", \"Source code\", \"The Terminator\", \"Behind Enemy Lines\", \"Inception\", \"Me Before You\", \"Just Go with It\"], \"tickvals\": [0, 1, 2, 3, 4, 5, 6, 7, 8, 9, 10, 11], \"zeroline\": false}}, {\"showLink\": true, \"linkText\": \"Export to plot.ly\"})});</script>"
      ]
     },
     "metadata": {},
     "output_type": "display_data"
    }
   ],
   "source": [
    "fig = ff.create_gantt(multiplex_schedule,\n",
    "                      title='Multiplex Schedule',\n",
    "                      \n",
    "                      colors=color_list, \n",
    "                      index_col='Category',\n",
    "                      show_colorbar=True,\n",
    "                      \n",
    "                      bar_width=0.4, \n",
    "                      showgrid_x=True, \n",
    "                      showgrid_y=True)\n",
    "\n",
    "offline.iplot(fig)"
   ]
  },
  {
   "cell_type": "markdown",
   "metadata": {},
   "source": [
    "**Grouping tasks**\n",
    "\n",
    "In our schedule, there are 2 occurences of Action and thriller which have so far appeared as separate tasks. We use the group_tasks attribute so that they all appear in the same row on our plot."
   ]
  },
  {
   "cell_type": "code",
   "execution_count": 12,
   "metadata": {},
   "outputs": [
    {
     "data": {
      "application/vnd.plotly.v1+json": {
       "data": [
        {
         "marker": {
          "color": "white"
         },
         "name": "",
         "type": "scatter",
         "uid": "a0f73000-9c60-11e8-80b2-6030d4660e22",
         "x": [
          "2018-08-04 7:00",
          "2018-08-04 9:00"
         ],
         "y": [
          10,
          10
         ]
        },
        {
         "marker": {
          "color": "white"
         },
         "name": "",
         "type": "scatter",
         "uid": "a0f731e8-9c60-11e8-b8a3-6030d4660e22",
         "x": [
          "2018-08-04 9:00",
          "2018-08-04 11:00"
         ],
         "y": [
          9,
          9
         ]
        },
        {
         "marker": {
          "color": "white"
         },
         "name": "",
         "type": "scatter",
         "uid": "a0f7330c-9c60-11e8-8636-6030d4660e22",
         "x": [
          "2018-08-04 10:00",
          "2018-08-04 12:00"
         ],
         "y": [
          8,
          8
         ]
        },
        {
         "marker": {
          "color": "white"
         },
         "name": "",
         "type": "scatter",
         "uid": "a0f733e8-9c60-11e8-9000-6030d4660e22",
         "x": [
          "2018-08-04 11:30",
          "2018-08-04 13:30"
         ],
         "y": [
          7,
          7
         ]
        },
        {
         "marker": {
          "color": "white"
         },
         "name": "",
         "type": "scatter",
         "uid": "a0f734ba-9c60-11e8-8c1d-6030d4660e22",
         "x": [
          "2018-08-04 12:00",
          "2018-08-04 14:00"
         ],
         "y": [
          6,
          6
         ]
        },
        {
         "marker": {
          "color": "white"
         },
         "name": "",
         "type": "scatter",
         "uid": "a0f73582-9c60-11e8-b5b5-6030d4660e22",
         "x": [
          "2018-08-04 13:30",
          "2018-08-04 15:30"
         ],
         "y": [
          5,
          5
         ]
        },
        {
         "marker": {
          "color": "white"
         },
         "name": "",
         "type": "scatter",
         "uid": "a0f7364a-9c60-11e8-a9ad-6030d4660e22",
         "x": [
          "2018-08-04 16:00",
          "2018-08-04 18:00"
         ],
         "y": [
          4,
          4
         ]
        },
        {
         "marker": {
          "color": "white"
         },
         "name": "",
         "type": "scatter",
         "uid": "a0f73852-9c60-11e8-8b55-6030d4660e22",
         "x": [
          "2018-08-04 17:00",
          "2018-08-04 19:00"
         ],
         "y": [
          3,
          3
         ]
        },
        {
         "marker": {
          "color": "white"
         },
         "name": "",
         "type": "scatter",
         "uid": "a0f73a78-9c60-11e8-9b8b-6030d4660e22",
         "x": [
          "2018-08-04 18:30",
          "2018-08-04 20:30"
         ],
         "y": [
          2,
          2
         ]
        },
        {
         "marker": {
          "color": "white"
         },
         "name": "",
         "type": "scatter",
         "uid": "a0f73bfe-9c60-11e8-be42-6030d4660e22",
         "x": [
          "2018-08-04 19:00",
          "2018-08-04 21:00"
         ],
         "y": [
          9,
          9
         ]
        },
        {
         "marker": {
          "color": "white"
         },
         "name": "",
         "type": "scatter",
         "uid": "a0f73d7a-9c60-11e8-9afe-6030d4660e22",
         "x": [
          "2018-08-04 21:30",
          "2018-08-04 23:30"
         ],
         "y": [
          1,
          1
         ]
        },
        {
         "marker": {
          "color": "white"
         },
         "name": "",
         "type": "scatter",
         "uid": "a0f73f00-9c60-11e8-9705-6030d4660e22",
         "x": [
          "2018-08-04 21:00",
          "2018-08-04 23:00"
         ],
         "y": [
          0,
          0
         ]
        },
        {
         "hoverinfo": "none",
         "marker": {
          "color": "rgb(255, 0, 0)",
          "size": 1
         },
         "name": "Action",
         "showlegend": true,
         "type": "scatter",
         "uid": "a0f740e8-9c60-11e8-a22a-6030d4660e22",
         "x": [
          "2018-08-04 21:00",
          "2018-08-04 21:00"
         ],
         "y": [
          0,
          0
         ]
        },
        {
         "hoverinfo": "none",
         "marker": {
          "color": "rgb(128, 0, 0)",
          "size": 1
         },
         "name": "Comedy",
         "showlegend": true,
         "type": "scatter",
         "uid": "a0f742a2-9c60-11e8-9e5c-6030d4660e22",
         "x": [
          "2018-08-04 21:00",
          "2018-08-04 21:00"
         ],
         "y": [
          1,
          1
         ]
        },
        {
         "hoverinfo": "none",
         "marker": {
          "color": "rgb(128, 128, 0)",
          "size": 1
         },
         "name": "Drama",
         "showlegend": true,
         "type": "scatter",
         "uid": "a0f74414-9c60-11e8-948f-6030d4660e22",
         "x": [
          "2018-08-04 21:00",
          "2018-08-04 21:00"
         ],
         "y": [
          2,
          2
         ]
        },
        {
         "hoverinfo": "none",
         "marker": {
          "color": "rgb(0, 255, 0)",
          "size": 1
         },
         "name": "Horror",
         "showlegend": true,
         "type": "scatter",
         "uid": "a0f74590-9c60-11e8-bacf-6030d4660e22",
         "x": [
          "2018-08-04 21:00",
          "2018-08-04 21:00"
         ],
         "y": [
          3,
          3
         ]
        },
        {
         "hoverinfo": "none",
         "marker": {
          "color": "rgb(0, 128, 0)",
          "size": 1
         },
         "name": "Mystery",
         "showlegend": true,
         "type": "scatter",
         "uid": "a0f74702-9c60-11e8-8dee-6030d4660e22",
         "x": [
          "2018-08-04 21:00",
          "2018-08-04 21:00"
         ],
         "y": [
          4,
          4
         ]
        },
        {
         "hoverinfo": "none",
         "marker": {
          "color": "rgb(0, 255, 255)",
          "size": 1
         },
         "name": "Romance",
         "showlegend": true,
         "type": "scatter",
         "uid": "a0f7487e-9c60-11e8-b86f-6030d4660e22",
         "x": [
          "2018-08-04 21:00",
          "2018-08-04 21:00"
         ],
         "y": [
          5,
          5
         ]
        },
        {
         "hoverinfo": "none",
         "marker": {
          "color": "rgb(0, 0, 255)",
          "size": 1
         },
         "name": "Science_Fiction",
         "showlegend": true,
         "type": "scatter",
         "uid": "a0f749fa-9c60-11e8-b66f-6030d4660e22",
         "x": [
          "2018-08-04 21:00",
          "2018-08-04 21:00"
         ],
         "y": [
          6,
          6
         ]
        },
        {
         "hoverinfo": "none",
         "marker": {
          "color": "rgb(0, 0, 128)",
          "size": 1
         },
         "name": "Suspense",
         "showlegend": true,
         "type": "scatter",
         "uid": "a0f74b6c-9c60-11e8-9d74-6030d4660e22",
         "x": [
          "2018-08-04 21:00",
          "2018-08-04 21:00"
         ],
         "y": [
          7,
          7
         ]
        },
        {
         "hoverinfo": "none",
         "marker": {
          "color": "rgb(0, 128, 128)",
          "size": 1
         },
         "name": "Thriller",
         "showlegend": true,
         "type": "scatter",
         "uid": "a0f74ce8-9c60-11e8-9812-6030d4660e22",
         "x": [
          "2018-08-04 21:00",
          "2018-08-04 21:00"
         ],
         "y": [
          8,
          8
         ]
        }
       ],
       "layout": {
        "height": 600,
        "hovermode": "closest",
        "shapes": [
         {
          "fillcolor": "rgb(255, 0, 0)",
          "line": {
           "width": 0
          },
          "opacity": 1,
          "type": "rect",
          "x0": "2018-08-04 7:00",
          "x1": "2018-08-04 9:00",
          "xref": "x",
          "y0": 9.6,
          "y1": 10.4,
          "yref": "y"
         },
         {
          "fillcolor": "rgb(0, 128, 128)",
          "line": {
           "width": 0
          },
          "opacity": 1,
          "type": "rect",
          "x0": "2018-08-04 9:00",
          "x1": "2018-08-04 11:00",
          "xref": "x",
          "y0": 8.6,
          "y1": 9.4,
          "yref": "y"
         },
         {
          "fillcolor": "rgb(0, 128, 128)",
          "line": {
           "width": 0
          },
          "opacity": 1,
          "type": "rect",
          "x0": "2018-08-04 10:00",
          "x1": "2018-08-04 12:00",
          "xref": "x",
          "y0": 7.6,
          "y1": 8.4,
          "yref": "y"
         },
         {
          "fillcolor": "rgb(0, 0, 128)",
          "line": {
           "width": 0
          },
          "opacity": 1,
          "type": "rect",
          "x0": "2018-08-04 11:30",
          "x1": "2018-08-04 13:30",
          "xref": "x",
          "y0": 6.6,
          "y1": 7.4,
          "yref": "y"
         },
         {
          "fillcolor": "rgb(0, 0, 255)",
          "line": {
           "width": 0
          },
          "opacity": 1,
          "type": "rect",
          "x0": "2018-08-04 12:00",
          "x1": "2018-08-04 14:00",
          "xref": "x",
          "y0": 5.6,
          "y1": 6.4,
          "yref": "y"
         },
         {
          "fillcolor": "rgb(0, 255, 0)",
          "line": {
           "width": 0
          },
          "opacity": 1,
          "type": "rect",
          "x0": "2018-08-04 13:30",
          "x1": "2018-08-04 15:30",
          "xref": "x",
          "y0": 4.6,
          "y1": 5.4,
          "yref": "y"
         },
         {
          "fillcolor": "rgb(0, 128, 0)",
          "line": {
           "width": 0
          },
          "opacity": 1,
          "type": "rect",
          "x0": "2018-08-04 16:00",
          "x1": "2018-08-04 18:00",
          "xref": "x",
          "y0": 3.6,
          "y1": 4.4,
          "yref": "y"
         },
         {
          "fillcolor": "rgb(255, 0, 0)",
          "line": {
           "width": 0
          },
          "opacity": 1,
          "type": "rect",
          "x0": "2018-08-04 17:00",
          "x1": "2018-08-04 19:00",
          "xref": "x",
          "y0": 2.6,
          "y1": 3.4,
          "yref": "y"
         },
         {
          "fillcolor": "rgb(128, 128, 0)",
          "line": {
           "width": 0
          },
          "opacity": 1,
          "type": "rect",
          "x0": "2018-08-04 18:30",
          "x1": "2018-08-04 20:30",
          "xref": "x",
          "y0": 1.6,
          "y1": 2.4,
          "yref": "y"
         },
         {
          "fillcolor": "rgb(0, 128, 128)",
          "line": {
           "width": 0
          },
          "opacity": 1,
          "type": "rect",
          "x0": "2018-08-04 19:00",
          "x1": "2018-08-04 21:00",
          "xref": "x",
          "y0": 8.6,
          "y1": 9.4,
          "yref": "y"
         },
         {
          "fillcolor": "rgb(0, 255, 255)",
          "line": {
           "width": 0
          },
          "opacity": 1,
          "type": "rect",
          "x0": "2018-08-04 21:30",
          "x1": "2018-08-04 23:30",
          "xref": "x",
          "y0": 0.6,
          "y1": 1.4,
          "yref": "y"
         },
         {
          "fillcolor": "rgb(128, 0, 0)",
          "line": {
           "width": 0
          },
          "opacity": 1,
          "type": "rect",
          "x0": "2018-08-04 21:00",
          "x1": "2018-08-04 23:00",
          "xref": "x",
          "y0": -0.4,
          "y1": 0.4,
          "yref": "y"
         }
        ],
        "showlegend": true,
        "title": "Multiplex Schedule",
        "width": 900,
        "xaxis": {
         "rangeselector": {
          "buttons": [
           {
            "count": 7,
            "label": "1w",
            "step": "day",
            "stepmode": "backward"
           },
           {
            "count": 1,
            "label": "1m",
            "step": "month",
            "stepmode": "backward"
           },
           {
            "count": 6,
            "label": "6m",
            "step": "month",
            "stepmode": "backward"
           },
           {
            "count": 1,
            "label": "YTD",
            "step": "year",
            "stepmode": "todate"
           },
           {
            "count": 1,
            "label": "1y",
            "step": "year",
            "stepmode": "backward"
           },
           {
            "step": "all"
           }
          ]
         },
         "showgrid": true,
         "type": "date",
         "zeroline": false
        },
        "yaxis": {
         "autorange": false,
         "range": [
          -1,
          12
         ],
         "showgrid": true,
         "ticktext": [
          "Just Go with It",
          "Me Before You",
          "Behind Enemy Lines",
          "The Terminator",
          "Source code",
          "Aliens",
          "Looper",
          "Deception",
          "The Dark Knight",
          "Inception",
          "Avengers: Infinity War"
         ],
         "tickvals": [
          0,
          1,
          2,
          3,
          4,
          5,
          6,
          7,
          8,
          9,
          10
         ],
         "zeroline": false
        }
       }
      },
      "text/html": [
       "<div id=\"9ebd0f6f-f37a-4458-a12f-7b12208c488b\" style=\"height: 600px; width: 900px;\" class=\"plotly-graph-div\"></div><script type=\"text/javascript\">require([\"plotly\"], function(Plotly) { window.PLOTLYENV=window.PLOTLYENV || {};window.PLOTLYENV.BASE_URL=\"https://plot.ly\";Plotly.newPlot(\"9ebd0f6f-f37a-4458-a12f-7b12208c488b\", [{\"marker\": {\"color\": \"white\"}, \"name\": \"\", \"x\": [\"2018-08-04 7:00\", \"2018-08-04 9:00\"], \"y\": [10, 10], \"type\": \"scatter\", \"uid\": \"a119d9a2-9c60-11e8-a268-6030d4660e22\"}, {\"marker\": {\"color\": \"white\"}, \"name\": \"\", \"x\": [\"2018-08-04 9:00\", \"2018-08-04 11:00\"], \"y\": [9, 9], \"type\": \"scatter\", \"uid\": \"a119db46-9c60-11e8-9102-6030d4660e22\"}, {\"marker\": {\"color\": \"white\"}, \"name\": \"\", \"x\": [\"2018-08-04 10:00\", \"2018-08-04 12:00\"], \"y\": [8, 8], \"type\": \"scatter\", \"uid\": \"a119dc40-9c60-11e8-8b49-6030d4660e22\"}, {\"marker\": {\"color\": \"white\"}, \"name\": \"\", \"x\": [\"2018-08-04 11:30\", \"2018-08-04 13:30\"], \"y\": [7, 7], \"type\": \"scatter\", \"uid\": \"a119dd08-9c60-11e8-a5f6-6030d4660e22\"}, {\"marker\": {\"color\": \"white\"}, \"name\": \"\", \"x\": [\"2018-08-04 12:00\", \"2018-08-04 14:00\"], \"y\": [6, 6], \"type\": \"scatter\", \"uid\": \"a119ddd0-9c60-11e8-b33d-6030d4660e22\"}, {\"marker\": {\"color\": \"white\"}, \"name\": \"\", \"x\": [\"2018-08-04 13:30\", \"2018-08-04 15:30\"], \"y\": [5, 5], \"type\": \"scatter\", \"uid\": \"a119de8c-9c60-11e8-b276-6030d4660e22\"}, {\"marker\": {\"color\": \"white\"}, \"name\": \"\", \"x\": [\"2018-08-04 16:00\", \"2018-08-04 18:00\"], \"y\": [4, 4], \"type\": \"scatter\", \"uid\": \"a119df42-9c60-11e8-9e6a-6030d4660e22\"}, {\"marker\": {\"color\": \"white\"}, \"name\": \"\", \"x\": [\"2018-08-04 17:00\", \"2018-08-04 19:00\"], \"y\": [3, 3], \"type\": \"scatter\", \"uid\": \"a119dff6-9c60-11e8-ad61-6030d4660e22\"}, {\"marker\": {\"color\": \"white\"}, \"name\": \"\", \"x\": [\"2018-08-04 18:30\", \"2018-08-04 20:30\"], \"y\": [2, 2], \"type\": \"scatter\", \"uid\": \"a119e0a8-9c60-11e8-9fa2-6030d4660e22\"}, {\"marker\": {\"color\": \"white\"}, \"name\": \"\", \"x\": [\"2018-08-04 19:00\", \"2018-08-04 21:00\"], \"y\": [9, 9], \"type\": \"scatter\", \"uid\": \"a119e15e-9c60-11e8-91b1-6030d4660e22\"}, {\"marker\": {\"color\": \"white\"}, \"name\": \"\", \"x\": [\"2018-08-04 21:30\", \"2018-08-04 23:30\"], \"y\": [1, 1], \"type\": \"scatter\", \"uid\": \"a119e208-9c60-11e8-8396-6030d4660e22\"}, {\"marker\": {\"color\": \"white\"}, \"name\": \"\", \"x\": [\"2018-08-04 21:00\", \"2018-08-04 23:00\"], \"y\": [0, 0], \"type\": \"scatter\", \"uid\": \"a119e2ba-9c60-11e8-b986-6030d4660e22\"}, {\"hoverinfo\": \"none\", \"marker\": {\"color\": \"rgb(255, 0, 0)\", \"size\": 1}, \"name\": \"Action\", \"showlegend\": true, \"x\": [\"2018-08-04 21:00\", \"2018-08-04 21:00\"], \"y\": [0, 0], \"type\": \"scatter\", \"uid\": \"a119e37a-9c60-11e8-9ae2-6030d4660e22\"}, {\"hoverinfo\": \"none\", \"marker\": {\"color\": \"rgb(128, 0, 0)\", \"size\": 1}, \"name\": \"Comedy\", \"showlegend\": true, \"x\": [\"2018-08-04 21:00\", \"2018-08-04 21:00\"], \"y\": [1, 1], \"type\": \"scatter\", \"uid\": \"a119e42e-9c60-11e8-b6cb-6030d4660e22\"}, {\"hoverinfo\": \"none\", \"marker\": {\"color\": \"rgb(128, 128, 0)\", \"size\": 1}, \"name\": \"Drama\", \"showlegend\": true, \"x\": [\"2018-08-04 21:00\", \"2018-08-04 21:00\"], \"y\": [2, 2], \"type\": \"scatter\", \"uid\": \"a119e4e2-9c60-11e8-a309-6030d4660e22\"}, {\"hoverinfo\": \"none\", \"marker\": {\"color\": \"rgb(0, 255, 0)\", \"size\": 1}, \"name\": \"Horror\", \"showlegend\": true, \"x\": [\"2018-08-04 21:00\", \"2018-08-04 21:00\"], \"y\": [3, 3], \"type\": \"scatter\", \"uid\": \"a119e58c-9c60-11e8-8166-6030d4660e22\"}, {\"hoverinfo\": \"none\", \"marker\": {\"color\": \"rgb(0, 128, 0)\", \"size\": 1}, \"name\": \"Mystery\", \"showlegend\": true, \"x\": [\"2018-08-04 21:00\", \"2018-08-04 21:00\"], \"y\": [4, 4], \"type\": \"scatter\", \"uid\": \"a119e640-9c60-11e8-b90b-6030d4660e22\"}, {\"hoverinfo\": \"none\", \"marker\": {\"color\": \"rgb(0, 255, 255)\", \"size\": 1}, \"name\": \"Romance\", \"showlegend\": true, \"x\": [\"2018-08-04 21:00\", \"2018-08-04 21:00\"], \"y\": [5, 5], \"type\": \"scatter\", \"uid\": \"a119e6f4-9c60-11e8-92b9-6030d4660e22\"}, {\"hoverinfo\": \"none\", \"marker\": {\"color\": \"rgb(0, 0, 255)\", \"size\": 1}, \"name\": \"Science_Fiction\", \"showlegend\": true, \"x\": [\"2018-08-04 21:00\", \"2018-08-04 21:00\"], \"y\": [6, 6], \"type\": \"scatter\", \"uid\": \"a119e79e-9c60-11e8-807a-6030d4660e22\"}, {\"hoverinfo\": \"none\", \"marker\": {\"color\": \"rgb(0, 0, 128)\", \"size\": 1}, \"name\": \"Suspense\", \"showlegend\": true, \"x\": [\"2018-08-04 21:00\", \"2018-08-04 21:00\"], \"y\": [7, 7], \"type\": \"scatter\", \"uid\": \"a119e852-9c60-11e8-b8f3-6030d4660e22\"}, {\"hoverinfo\": \"none\", \"marker\": {\"color\": \"rgb(0, 128, 128)\", \"size\": 1}, \"name\": \"Thriller\", \"showlegend\": true, \"x\": [\"2018-08-04 21:00\", \"2018-08-04 21:00\"], \"y\": [8, 8], \"type\": \"scatter\", \"uid\": \"a119e8f4-9c60-11e8-b88b-6030d4660e22\"}], {\"height\": 600, \"hovermode\": \"closest\", \"shapes\": [{\"fillcolor\": \"rgb(255, 0, 0)\", \"line\": {\"width\": 0}, \"opacity\": 1, \"type\": \"rect\", \"x0\": \"2018-08-04 7:00\", \"x1\": \"2018-08-04 9:00\", \"xref\": \"x\", \"y0\": 9.6, \"y1\": 10.4, \"yref\": \"y\"}, {\"fillcolor\": \"rgb(0, 128, 128)\", \"line\": {\"width\": 0}, \"opacity\": 1, \"type\": \"rect\", \"x0\": \"2018-08-04 9:00\", \"x1\": \"2018-08-04 11:00\", \"xref\": \"x\", \"y0\": 8.6, \"y1\": 9.4, \"yref\": \"y\"}, {\"fillcolor\": \"rgb(0, 128, 128)\", \"line\": {\"width\": 0}, \"opacity\": 1, \"type\": \"rect\", \"x0\": \"2018-08-04 10:00\", \"x1\": \"2018-08-04 12:00\", \"xref\": \"x\", \"y0\": 7.6, \"y1\": 8.4, \"yref\": \"y\"}, {\"fillcolor\": \"rgb(0, 0, 128)\", \"line\": {\"width\": 0}, \"opacity\": 1, \"type\": \"rect\", \"x0\": \"2018-08-04 11:30\", \"x1\": \"2018-08-04 13:30\", \"xref\": \"x\", \"y0\": 6.6, \"y1\": 7.4, \"yref\": \"y\"}, {\"fillcolor\": \"rgb(0, 0, 255)\", \"line\": {\"width\": 0}, \"opacity\": 1, \"type\": \"rect\", \"x0\": \"2018-08-04 12:00\", \"x1\": \"2018-08-04 14:00\", \"xref\": \"x\", \"y0\": 5.6, \"y1\": 6.4, \"yref\": \"y\"}, {\"fillcolor\": \"rgb(0, 255, 0)\", \"line\": {\"width\": 0}, \"opacity\": 1, \"type\": \"rect\", \"x0\": \"2018-08-04 13:30\", \"x1\": \"2018-08-04 15:30\", \"xref\": \"x\", \"y0\": 4.6, \"y1\": 5.4, \"yref\": \"y\"}, {\"fillcolor\": \"rgb(0, 128, 0)\", \"line\": {\"width\": 0}, \"opacity\": 1, \"type\": \"rect\", \"x0\": \"2018-08-04 16:00\", \"x1\": \"2018-08-04 18:00\", \"xref\": \"x\", \"y0\": 3.6, \"y1\": 4.4, \"yref\": \"y\"}, {\"fillcolor\": \"rgb(255, 0, 0)\", \"line\": {\"width\": 0}, \"opacity\": 1, \"type\": \"rect\", \"x0\": \"2018-08-04 17:00\", \"x1\": \"2018-08-04 19:00\", \"xref\": \"x\", \"y0\": 2.6, \"y1\": 3.4, \"yref\": \"y\"}, {\"fillcolor\": \"rgb(128, 128, 0)\", \"line\": {\"width\": 0}, \"opacity\": 1, \"type\": \"rect\", \"x0\": \"2018-08-04 18:30\", \"x1\": \"2018-08-04 20:30\", \"xref\": \"x\", \"y0\": 1.6, \"y1\": 2.4, \"yref\": \"y\"}, {\"fillcolor\": \"rgb(0, 128, 128)\", \"line\": {\"width\": 0}, \"opacity\": 1, \"type\": \"rect\", \"x0\": \"2018-08-04 19:00\", \"x1\": \"2018-08-04 21:00\", \"xref\": \"x\", \"y0\": 8.6, \"y1\": 9.4, \"yref\": \"y\"}, {\"fillcolor\": \"rgb(0, 255, 255)\", \"line\": {\"width\": 0}, \"opacity\": 1, \"type\": \"rect\", \"x0\": \"2018-08-04 21:30\", \"x1\": \"2018-08-04 23:30\", \"xref\": \"x\", \"y0\": 0.6, \"y1\": 1.4, \"yref\": \"y\"}, {\"fillcolor\": \"rgb(128, 0, 0)\", \"line\": {\"width\": 0}, \"opacity\": 1, \"type\": \"rect\", \"x0\": \"2018-08-04 21:00\", \"x1\": \"2018-08-04 23:00\", \"xref\": \"x\", \"y0\": -0.4, \"y1\": 0.4, \"yref\": \"y\"}], \"showlegend\": true, \"title\": \"Multiplex Schedule\", \"width\": 900, \"xaxis\": {\"rangeselector\": {\"buttons\": [{\"count\": 7, \"label\": \"1w\", \"step\": \"day\", \"stepmode\": \"backward\"}, {\"count\": 1, \"label\": \"1m\", \"step\": \"month\", \"stepmode\": \"backward\"}, {\"count\": 6, \"label\": \"6m\", \"step\": \"month\", \"stepmode\": \"backward\"}, {\"count\": 1, \"label\": \"YTD\", \"step\": \"year\", \"stepmode\": \"todate\"}, {\"count\": 1, \"label\": \"1y\", \"step\": \"year\", \"stepmode\": \"backward\"}, {\"step\": \"all\"}]}, \"showgrid\": true, \"type\": \"date\", \"zeroline\": false}, \"yaxis\": {\"autorange\": false, \"range\": [-1, 12], \"showgrid\": true, \"ticktext\": [\"Just Go with It\", \"Me Before You\", \"Behind Enemy Lines\", \"The Terminator\", \"Source code\", \"Aliens\", \"Looper\", \"Deception\", \"The Dark Knight\", \"Inception\", \"Avengers: Infinity War\"], \"tickvals\": [0, 1, 2, 3, 4, 5, 6, 7, 8, 9, 10], \"zeroline\": false}}, {\"showLink\": true, \"linkText\": \"Export to plot.ly\"})});</script>"
      ],
      "text/vnd.plotly.v1+html": [
       "<div id=\"9ebd0f6f-f37a-4458-a12f-7b12208c488b\" style=\"height: 600px; width: 900px;\" class=\"plotly-graph-div\"></div><script type=\"text/javascript\">require([\"plotly\"], function(Plotly) { window.PLOTLYENV=window.PLOTLYENV || {};window.PLOTLYENV.BASE_URL=\"https://plot.ly\";Plotly.newPlot(\"9ebd0f6f-f37a-4458-a12f-7b12208c488b\", [{\"marker\": {\"color\": \"white\"}, \"name\": \"\", \"x\": [\"2018-08-04 7:00\", \"2018-08-04 9:00\"], \"y\": [10, 10], \"type\": \"scatter\", \"uid\": \"a119d9a2-9c60-11e8-a268-6030d4660e22\"}, {\"marker\": {\"color\": \"white\"}, \"name\": \"\", \"x\": [\"2018-08-04 9:00\", \"2018-08-04 11:00\"], \"y\": [9, 9], \"type\": \"scatter\", \"uid\": \"a119db46-9c60-11e8-9102-6030d4660e22\"}, {\"marker\": {\"color\": \"white\"}, \"name\": \"\", \"x\": [\"2018-08-04 10:00\", \"2018-08-04 12:00\"], \"y\": [8, 8], \"type\": \"scatter\", \"uid\": \"a119dc40-9c60-11e8-8b49-6030d4660e22\"}, {\"marker\": {\"color\": \"white\"}, \"name\": \"\", \"x\": [\"2018-08-04 11:30\", \"2018-08-04 13:30\"], \"y\": [7, 7], \"type\": \"scatter\", \"uid\": \"a119dd08-9c60-11e8-a5f6-6030d4660e22\"}, {\"marker\": {\"color\": \"white\"}, \"name\": \"\", \"x\": [\"2018-08-04 12:00\", \"2018-08-04 14:00\"], \"y\": [6, 6], \"type\": \"scatter\", \"uid\": \"a119ddd0-9c60-11e8-b33d-6030d4660e22\"}, {\"marker\": {\"color\": \"white\"}, \"name\": \"\", \"x\": [\"2018-08-04 13:30\", \"2018-08-04 15:30\"], \"y\": [5, 5], \"type\": \"scatter\", \"uid\": \"a119de8c-9c60-11e8-b276-6030d4660e22\"}, {\"marker\": {\"color\": \"white\"}, \"name\": \"\", \"x\": [\"2018-08-04 16:00\", \"2018-08-04 18:00\"], \"y\": [4, 4], \"type\": \"scatter\", \"uid\": \"a119df42-9c60-11e8-9e6a-6030d4660e22\"}, {\"marker\": {\"color\": \"white\"}, \"name\": \"\", \"x\": [\"2018-08-04 17:00\", \"2018-08-04 19:00\"], \"y\": [3, 3], \"type\": \"scatter\", \"uid\": \"a119dff6-9c60-11e8-ad61-6030d4660e22\"}, {\"marker\": {\"color\": \"white\"}, \"name\": \"\", \"x\": [\"2018-08-04 18:30\", \"2018-08-04 20:30\"], \"y\": [2, 2], \"type\": \"scatter\", \"uid\": \"a119e0a8-9c60-11e8-9fa2-6030d4660e22\"}, {\"marker\": {\"color\": \"white\"}, \"name\": \"\", \"x\": [\"2018-08-04 19:00\", \"2018-08-04 21:00\"], \"y\": [9, 9], \"type\": \"scatter\", \"uid\": \"a119e15e-9c60-11e8-91b1-6030d4660e22\"}, {\"marker\": {\"color\": \"white\"}, \"name\": \"\", \"x\": [\"2018-08-04 21:30\", \"2018-08-04 23:30\"], \"y\": [1, 1], \"type\": \"scatter\", \"uid\": \"a119e208-9c60-11e8-8396-6030d4660e22\"}, {\"marker\": {\"color\": \"white\"}, \"name\": \"\", \"x\": [\"2018-08-04 21:00\", \"2018-08-04 23:00\"], \"y\": [0, 0], \"type\": \"scatter\", \"uid\": \"a119e2ba-9c60-11e8-b986-6030d4660e22\"}, {\"hoverinfo\": \"none\", \"marker\": {\"color\": \"rgb(255, 0, 0)\", \"size\": 1}, \"name\": \"Action\", \"showlegend\": true, \"x\": [\"2018-08-04 21:00\", \"2018-08-04 21:00\"], \"y\": [0, 0], \"type\": \"scatter\", \"uid\": \"a119e37a-9c60-11e8-9ae2-6030d4660e22\"}, {\"hoverinfo\": \"none\", \"marker\": {\"color\": \"rgb(128, 0, 0)\", \"size\": 1}, \"name\": \"Comedy\", \"showlegend\": true, \"x\": [\"2018-08-04 21:00\", \"2018-08-04 21:00\"], \"y\": [1, 1], \"type\": \"scatter\", \"uid\": \"a119e42e-9c60-11e8-b6cb-6030d4660e22\"}, {\"hoverinfo\": \"none\", \"marker\": {\"color\": \"rgb(128, 128, 0)\", \"size\": 1}, \"name\": \"Drama\", \"showlegend\": true, \"x\": [\"2018-08-04 21:00\", \"2018-08-04 21:00\"], \"y\": [2, 2], \"type\": \"scatter\", \"uid\": \"a119e4e2-9c60-11e8-a309-6030d4660e22\"}, {\"hoverinfo\": \"none\", \"marker\": {\"color\": \"rgb(0, 255, 0)\", \"size\": 1}, \"name\": \"Horror\", \"showlegend\": true, \"x\": [\"2018-08-04 21:00\", \"2018-08-04 21:00\"], \"y\": [3, 3], \"type\": \"scatter\", \"uid\": \"a119e58c-9c60-11e8-8166-6030d4660e22\"}, {\"hoverinfo\": \"none\", \"marker\": {\"color\": \"rgb(0, 128, 0)\", \"size\": 1}, \"name\": \"Mystery\", \"showlegend\": true, \"x\": [\"2018-08-04 21:00\", \"2018-08-04 21:00\"], \"y\": [4, 4], \"type\": \"scatter\", \"uid\": \"a119e640-9c60-11e8-b90b-6030d4660e22\"}, {\"hoverinfo\": \"none\", \"marker\": {\"color\": \"rgb(0, 255, 255)\", \"size\": 1}, \"name\": \"Romance\", \"showlegend\": true, \"x\": [\"2018-08-04 21:00\", \"2018-08-04 21:00\"], \"y\": [5, 5], \"type\": \"scatter\", \"uid\": \"a119e6f4-9c60-11e8-92b9-6030d4660e22\"}, {\"hoverinfo\": \"none\", \"marker\": {\"color\": \"rgb(0, 0, 255)\", \"size\": 1}, \"name\": \"Science_Fiction\", \"showlegend\": true, \"x\": [\"2018-08-04 21:00\", \"2018-08-04 21:00\"], \"y\": [6, 6], \"type\": \"scatter\", \"uid\": \"a119e79e-9c60-11e8-807a-6030d4660e22\"}, {\"hoverinfo\": \"none\", \"marker\": {\"color\": \"rgb(0, 0, 128)\", \"size\": 1}, \"name\": \"Suspense\", \"showlegend\": true, \"x\": [\"2018-08-04 21:00\", \"2018-08-04 21:00\"], \"y\": [7, 7], \"type\": \"scatter\", \"uid\": \"a119e852-9c60-11e8-b8f3-6030d4660e22\"}, {\"hoverinfo\": \"none\", \"marker\": {\"color\": \"rgb(0, 128, 128)\", \"size\": 1}, \"name\": \"Thriller\", \"showlegend\": true, \"x\": [\"2018-08-04 21:00\", \"2018-08-04 21:00\"], \"y\": [8, 8], \"type\": \"scatter\", \"uid\": \"a119e8f4-9c60-11e8-b88b-6030d4660e22\"}], {\"height\": 600, \"hovermode\": \"closest\", \"shapes\": [{\"fillcolor\": \"rgb(255, 0, 0)\", \"line\": {\"width\": 0}, \"opacity\": 1, \"type\": \"rect\", \"x0\": \"2018-08-04 7:00\", \"x1\": \"2018-08-04 9:00\", \"xref\": \"x\", \"y0\": 9.6, \"y1\": 10.4, \"yref\": \"y\"}, {\"fillcolor\": \"rgb(0, 128, 128)\", \"line\": {\"width\": 0}, \"opacity\": 1, \"type\": \"rect\", \"x0\": \"2018-08-04 9:00\", \"x1\": \"2018-08-04 11:00\", \"xref\": \"x\", \"y0\": 8.6, \"y1\": 9.4, \"yref\": \"y\"}, {\"fillcolor\": \"rgb(0, 128, 128)\", \"line\": {\"width\": 0}, \"opacity\": 1, \"type\": \"rect\", \"x0\": \"2018-08-04 10:00\", \"x1\": \"2018-08-04 12:00\", \"xref\": \"x\", \"y0\": 7.6, \"y1\": 8.4, \"yref\": \"y\"}, {\"fillcolor\": \"rgb(0, 0, 128)\", \"line\": {\"width\": 0}, \"opacity\": 1, \"type\": \"rect\", \"x0\": \"2018-08-04 11:30\", \"x1\": \"2018-08-04 13:30\", \"xref\": \"x\", \"y0\": 6.6, \"y1\": 7.4, \"yref\": \"y\"}, {\"fillcolor\": \"rgb(0, 0, 255)\", \"line\": {\"width\": 0}, \"opacity\": 1, \"type\": \"rect\", \"x0\": \"2018-08-04 12:00\", \"x1\": \"2018-08-04 14:00\", \"xref\": \"x\", \"y0\": 5.6, \"y1\": 6.4, \"yref\": \"y\"}, {\"fillcolor\": \"rgb(0, 255, 0)\", \"line\": {\"width\": 0}, \"opacity\": 1, \"type\": \"rect\", \"x0\": \"2018-08-04 13:30\", \"x1\": \"2018-08-04 15:30\", \"xref\": \"x\", \"y0\": 4.6, \"y1\": 5.4, \"yref\": \"y\"}, {\"fillcolor\": \"rgb(0, 128, 0)\", \"line\": {\"width\": 0}, \"opacity\": 1, \"type\": \"rect\", \"x0\": \"2018-08-04 16:00\", \"x1\": \"2018-08-04 18:00\", \"xref\": \"x\", \"y0\": 3.6, \"y1\": 4.4, \"yref\": \"y\"}, {\"fillcolor\": \"rgb(255, 0, 0)\", \"line\": {\"width\": 0}, \"opacity\": 1, \"type\": \"rect\", \"x0\": \"2018-08-04 17:00\", \"x1\": \"2018-08-04 19:00\", \"xref\": \"x\", \"y0\": 2.6, \"y1\": 3.4, \"yref\": \"y\"}, {\"fillcolor\": \"rgb(128, 128, 0)\", \"line\": {\"width\": 0}, \"opacity\": 1, \"type\": \"rect\", \"x0\": \"2018-08-04 18:30\", \"x1\": \"2018-08-04 20:30\", \"xref\": \"x\", \"y0\": 1.6, \"y1\": 2.4, \"yref\": \"y\"}, {\"fillcolor\": \"rgb(0, 128, 128)\", \"line\": {\"width\": 0}, \"opacity\": 1, \"type\": \"rect\", \"x0\": \"2018-08-04 19:00\", \"x1\": \"2018-08-04 21:00\", \"xref\": \"x\", \"y0\": 8.6, \"y1\": 9.4, \"yref\": \"y\"}, {\"fillcolor\": \"rgb(0, 255, 255)\", \"line\": {\"width\": 0}, \"opacity\": 1, \"type\": \"rect\", \"x0\": \"2018-08-04 21:30\", \"x1\": \"2018-08-04 23:30\", \"xref\": \"x\", \"y0\": 0.6, \"y1\": 1.4, \"yref\": \"y\"}, {\"fillcolor\": \"rgb(128, 0, 0)\", \"line\": {\"width\": 0}, \"opacity\": 1, \"type\": \"rect\", \"x0\": \"2018-08-04 21:00\", \"x1\": \"2018-08-04 23:00\", \"xref\": \"x\", \"y0\": -0.4, \"y1\": 0.4, \"yref\": \"y\"}], \"showlegend\": true, \"title\": \"Multiplex Schedule\", \"width\": 900, \"xaxis\": {\"rangeselector\": {\"buttons\": [{\"count\": 7, \"label\": \"1w\", \"step\": \"day\", \"stepmode\": \"backward\"}, {\"count\": 1, \"label\": \"1m\", \"step\": \"month\", \"stepmode\": \"backward\"}, {\"count\": 6, \"label\": \"6m\", \"step\": \"month\", \"stepmode\": \"backward\"}, {\"count\": 1, \"label\": \"YTD\", \"step\": \"year\", \"stepmode\": \"todate\"}, {\"count\": 1, \"label\": \"1y\", \"step\": \"year\", \"stepmode\": \"backward\"}, {\"step\": \"all\"}]}, \"showgrid\": true, \"type\": \"date\", \"zeroline\": false}, \"yaxis\": {\"autorange\": false, \"range\": [-1, 12], \"showgrid\": true, \"ticktext\": [\"Just Go with It\", \"Me Before You\", \"Behind Enemy Lines\", \"The Terminator\", \"Source code\", \"Aliens\", \"Looper\", \"Deception\", \"The Dark Knight\", \"Inception\", \"Avengers: Infinity War\"], \"tickvals\": [0, 1, 2, 3, 4, 5, 6, 7, 8, 9, 10], \"zeroline\": false}}, {\"showLink\": true, \"linkText\": \"Export to plot.ly\"})});</script>"
      ]
     },
     "metadata": {},
     "output_type": "display_data"
    }
   ],
   "source": [
    "fig = ff.create_gantt(multiplex_schedule,\n",
    "                      title='Multiplex Schedule',\n",
    "                      \n",
    "                      colors=color_list, \n",
    "                      index_col='Category',\n",
    "                      show_colorbar=True,\n",
    "                      \n",
    "                      bar_width=0.4, \n",
    "                      showgrid_x=True, \n",
    "                      showgrid_y=True,\n",
    "                      \n",
    "                      group_tasks=True)\n",
    "\n",
    "offline.iplot(fig)"
   ]
  },
  {
   "cell_type": "code",
   "execution_count": null,
   "metadata": {},
   "outputs": [],
   "source": []
  }
 ],
 "metadata": {
  "kernelspec": {
   "display_name": "Python 3",
   "language": "python",
   "name": "python3"
  },
  "language_info": {
   "codemirror_mode": {
    "name": "ipython",
    "version": 3
   },
   "file_extension": ".py",
   "mimetype": "text/x-python",
   "name": "python",
   "nbconvert_exporter": "python",
   "pygments_lexer": "ipython3",
   "version": "3.6.5"
  }
 },
 "nbformat": 4,
 "nbformat_minor": 2
}
