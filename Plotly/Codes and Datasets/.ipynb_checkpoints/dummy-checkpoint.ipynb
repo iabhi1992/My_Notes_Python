{
 "cells": [
  {
   "cell_type": "code",
   "execution_count": 1,
   "metadata": {},
   "outputs": [
    {
     "name": "stdout",
     "output_type": "stream",
     "text": [
      "Requirement already up-to-date: plotly in /Users/venkatesh/anaconda3/lib/python3.6/site-packages (3.1.0)\n",
      "Requirement not upgraded as not directly required: retrying>=1.3.3 in /Users/venkatesh/anaconda3/lib/python3.6/site-packages (from plotly) (1.3.3)\n",
      "Requirement not upgraded as not directly required: requests in /Users/venkatesh/anaconda3/lib/python3.6/site-packages (from plotly) (2.18.4)\n",
      "Requirement not upgraded as not directly required: nbformat>=4.2 in /Users/venkatesh/anaconda3/lib/python3.6/site-packages (from plotly) (4.4.0)\n",
      "Requirement not upgraded as not directly required: pytz in /Users/venkatesh/anaconda3/lib/python3.6/site-packages (from plotly) (2018.4)\n",
      "Requirement not upgraded as not directly required: six in /Users/venkatesh/anaconda3/lib/python3.6/site-packages (from plotly) (1.11.0)\n",
      "Requirement not upgraded as not directly required: decorator>=4.0.6 in /Users/venkatesh/anaconda3/lib/python3.6/site-packages (from plotly) (4.3.0)\n",
      "Requirement not upgraded as not directly required: chardet<3.1.0,>=3.0.2 in /Users/venkatesh/anaconda3/lib/python3.6/site-packages (from requests->plotly) (3.0.4)\n",
      "Requirement not upgraded as not directly required: idna<2.7,>=2.5 in /Users/venkatesh/anaconda3/lib/python3.6/site-packages (from requests->plotly) (2.6)\n",
      "Requirement not upgraded as not directly required: urllib3<1.23,>=1.21.1 in /Users/venkatesh/anaconda3/lib/python3.6/site-packages (from requests->plotly) (1.22)\n",
      "Requirement not upgraded as not directly required: certifi>=2017.4.17 in /Users/venkatesh/anaconda3/lib/python3.6/site-packages (from requests->plotly) (2018.4.16)\n",
      "Requirement not upgraded as not directly required: ipython_genutils in /Users/venkatesh/anaconda3/lib/python3.6/site-packages (from nbformat>=4.2->plotly) (0.2.0)\n",
      "Requirement not upgraded as not directly required: traitlets>=4.1 in /Users/venkatesh/anaconda3/lib/python3.6/site-packages (from nbformat>=4.2->plotly) (4.3.2)\n",
      "Requirement not upgraded as not directly required: jsonschema!=2.5.0,>=2.4 in /Users/venkatesh/anaconda3/lib/python3.6/site-packages (from nbformat>=4.2->plotly) (2.6.0)\n",
      "Requirement not upgraded as not directly required: jupyter_core in /Users/venkatesh/anaconda3/lib/python3.6/site-packages (from nbformat>=4.2->plotly) (4.4.0)\n",
      "\u001b[31mdistributed 1.21.8 requires msgpack, which is not installed.\u001b[0m\n",
      "\u001b[33mYou are using pip version 10.0.1, however version 18.0 is available.\n",
      "You should consider upgrading via the 'pip install --upgrade pip' command.\u001b[0m\n"
     ]
    }
   ],
   "source": [
    "!pip install plotly --upgrade"
   ]
  },
  {
   "cell_type": "code",
   "execution_count": 2,
   "metadata": {},
   "outputs": [
    {
     "data": {
      "text/plain": [
       "'3.1.0'"
      ]
     },
     "execution_count": 2,
     "metadata": {},
     "output_type": "execute_result"
    }
   ],
   "source": [
    "import plotly\n",
    "plotly.__version__"
   ]
  },
  {
   "cell_type": "markdown",
   "metadata": {},
   "source": [
    "**Plotly's offline module**\n",
    "\n",
    "The offline module allows interactive plots to be created offline (as opposed to saving them online in one's Plotly account)"
   ]
  },
  {
   "cell_type": "code",
   "execution_count": 3,
   "metadata": {},
   "outputs": [],
   "source": [
    "import plotly.offline as offline"
   ]
  },
  {
   "cell_type": "markdown",
   "metadata": {},
   "source": [
    "**The plot() function will create a plot on your local storage and open it up in a browser**\n",
    "\n",
    "The argument to supply is a figure or data object which is a subclass of a python dictionary. The values which are needed for a plot are the x and y coordinates of the points.\n",
    "\n",
    "This will generate a Plotly scatter plot with a line connecting the points supplied."
   ]
  },
  {
   "cell_type": "code",
   "execution_count": 4,
   "metadata": {},
   "outputs": [
    {
     "data": {
      "text/plain": [
       "'file:///Users/venkatesh/Desktop/plotly_stack/temp-plot.html'"
      ]
     },
     "execution_count": 4,
     "metadata": {},
     "output_type": "execute_result"
    }
   ],
   "source": [
    "offline.plot([{'x': [5, 8, 10], \n",
    "               'y': [4, 6, 9]}])"
   ]
  },
  {
   "cell_type": "markdown",
   "metadata": {},
   "source": [
    "**Generate the plot within the Jupyter notebook**\n",
    "\n",
    "In order to view the plot inline within the notebook, we need to set plotly to run in notebook mode"
   ]
  },
  {
   "cell_type": "code",
   "execution_count": 5,
   "metadata": {},
   "outputs": [
    {
     "data": {
      "text/html": [
       "<script>requirejs.config({paths: { 'plotly': ['https://cdn.plot.ly/plotly-latest.min']},});if(!window.Plotly) {{require(['plotly'],function(plotly) {window.Plotly=plotly;});}}</script>"
      ],
      "text/vnd.plotly.v1+html": [
       "<script>requirejs.config({paths: { 'plotly': ['https://cdn.plot.ly/plotly-latest.min']},});if(!window.Plotly) {{require(['plotly'],function(plotly) {window.Plotly=plotly;});}}</script>"
      ]
     },
     "metadata": {},
     "output_type": "display_data"
    }
   ],
   "source": [
    "offline.init_notebook_mode(connected=True)"
   ]
  },
  {
   "cell_type": "markdown",
   "metadata": {},
   "source": [
    "**Use the iplot function in order to plot the line inline**\n",
    "\n",
    "The same plot we generated earlier, but within our notebook. Notice that this is an interactive plot which supplies several options including:\n",
    "* Download the plot as a png file\n",
    "* Editing the plot in Plotly's own editing tool - Chart Studio\n",
    "* Zooming in and out\n",
    "* Selecting a section of the plot using a box select or lasso select tool"
   ]
  },
  {
   "cell_type": "code",
   "execution_count": 6,
   "metadata": {},
   "outputs": [
    {
     "data": {
      "application/vnd.plotly.v1+json": {
       "data": [
        {
         "type": "scatter",
         "uid": "fc3c0876-94ba-11e8-b229-6030d4660e22",
         "x": [
          5,
          8,
          10
         ],
         "y": [
          4,
          6,
          9
         ]
        }
       ],
       "layout": {}
      },
      "text/html": [
       "<div id=\"bc2fa8e9-b7d8-40f7-867d-dd3f74104874\" style=\"height: 525px; width: 100%;\" class=\"plotly-graph-div\"></div><script type=\"text/javascript\">require([\"plotly\"], function(Plotly) { window.PLOTLYENV=window.PLOTLYENV || {};window.PLOTLYENV.BASE_URL=\"https://plot.ly\";Plotly.newPlot(\"bc2fa8e9-b7d8-40f7-867d-dd3f74104874\", [{\"x\": [5, 8, 10], \"y\": [4, 6, 9], \"type\": \"scatter\", \"uid\": \"fc4792e8-94ba-11e8-ac6e-6030d4660e22\"}], {}, {\"showLink\": true, \"linkText\": \"Export to plot.ly\"})});</script>"
      ],
      "text/vnd.plotly.v1+html": [
       "<div id=\"bc2fa8e9-b7d8-40f7-867d-dd3f74104874\" style=\"height: 525px; width: 100%;\" class=\"plotly-graph-div\"></div><script type=\"text/javascript\">require([\"plotly\"], function(Plotly) { window.PLOTLYENV=window.PLOTLYENV || {};window.PLOTLYENV.BASE_URL=\"https://plot.ly\";Plotly.newPlot(\"bc2fa8e9-b7d8-40f7-867d-dd3f74104874\", [{\"x\": [5, 8, 10], \"y\": [4, 6, 9], \"type\": \"scatter\", \"uid\": \"fc4792e8-94ba-11e8-ac6e-6030d4660e22\"}], {}, {\"showLink\": true, \"linkText\": \"Export to plot.ly\"})});</script>"
      ]
     },
     "metadata": {},
     "output_type": "display_data"
    }
   ],
   "source": [
    "offline.iplot([{'x': [5, 8, 10], \n",
    "               'y': [4, 6, 9]}])"
   ]
  },
  {
   "cell_type": "markdown",
   "metadata": {},
   "source": [
    "**The X coordinates cane be inferred**\n",
    "\n",
    "If the X Coordinates are not supplied explicitly, they are set to the index of the y coordinates. In this case the x coordinates are presumed to be [0,1,2]"
   ]
  },
  {
   "cell_type": "code",
   "execution_count": 7,
   "metadata": {
    "scrolled": true
   },
   "outputs": [
    {
     "data": {
      "application/vnd.plotly.v1+json": {
       "data": [
        {
         "type": "scatter",
         "uid": "fc4fc47e-94ba-11e8-97de-6030d4660e22",
         "y": [
          4,
          6,
          9
         ]
        }
       ],
       "layout": {}
      },
      "text/html": [
       "<div id=\"39a932f3-7c5a-469d-8adf-78a5acb27163\" style=\"height: 525px; width: 100%;\" class=\"plotly-graph-div\"></div><script type=\"text/javascript\">require([\"plotly\"], function(Plotly) { window.PLOTLYENV=window.PLOTLYENV || {};window.PLOTLYENV.BASE_URL=\"https://plot.ly\";Plotly.newPlot(\"39a932f3-7c5a-469d-8adf-78a5acb27163\", [{\"y\": [4, 6, 9], \"type\": \"scatter\", \"uid\": \"fc546f4c-94ba-11e8-8d22-6030d4660e22\"}], {}, {\"showLink\": true, \"linkText\": \"Export to plot.ly\"})});</script>"
      ],
      "text/vnd.plotly.v1+html": [
       "<div id=\"39a932f3-7c5a-469d-8adf-78a5acb27163\" style=\"height: 525px; width: 100%;\" class=\"plotly-graph-div\"></div><script type=\"text/javascript\">require([\"plotly\"], function(Plotly) { window.PLOTLYENV=window.PLOTLYENV || {};window.PLOTLYENV.BASE_URL=\"https://plot.ly\";Plotly.newPlot(\"39a932f3-7c5a-469d-8adf-78a5acb27163\", [{\"y\": [4, 6, 9], \"type\": \"scatter\", \"uid\": \"fc546f4c-94ba-11e8-8d22-6030d4660e22\"}], {}, {\"showLink\": true, \"linkText\": \"Export to plot.ly\"})});</script>"
      ]
     },
     "metadata": {},
     "output_type": "display_data"
    }
   ],
   "source": [
    "offline.iplot([{'y': [4, 6, 9]}])"
   ]
  },
  {
   "cell_type": "code",
   "execution_count": 1,
   "metadata": {},
   "outputs": [
    {
     "ename": "NameError",
     "evalue": "name 'pd' is not defined",
     "output_type": "error",
     "traceback": [
      "\u001b[0;31m---------------------------------------------------------------------------\u001b[0m",
      "\u001b[0;31mNameError\u001b[0m                                 Traceback (most recent call last)",
      "\u001b[0;32m<ipython-input-1-95369cd93a1b>\u001b[0m in \u001b[0;36m<module>\u001b[0;34m()\u001b[0m\n\u001b[0;32m----> 1\u001b[0;31m \u001b[0mCountry_data\u001b[0m \u001b[0;34m=\u001b[0m \u001b[0mpd\u001b[0m\u001b[0;34m.\u001b[0m\u001b[0mread_csv\u001b[0m\u001b[0;34m(\u001b[0m\u001b[0;34m'./datasets/countries_of_the_world.csv'\u001b[0m\u001b[0;34m,\u001b[0m \u001b[0mdecimal\u001b[0m\u001b[0;34m=\u001b[0m\u001b[0;34m\",\"\u001b[0m\u001b[0;34m)\u001b[0m\u001b[0;34m\u001b[0m\u001b[0m\n\u001b[0m\u001b[1;32m      2\u001b[0m \u001b[0mCountry_data\u001b[0m\u001b[0;34m.\u001b[0m\u001b[0mtail\u001b[0m\u001b[0;34m(\u001b[0m\u001b[0;34m)\u001b[0m\u001b[0;34m\u001b[0m\u001b[0m\n",
      "\u001b[0;31mNameError\u001b[0m: name 'pd' is not defined"
     ]
    }
   ],
   "source": [
    "Country_data = pd.read_csv('./datasets/countries_of_the_world.csv', decimal=\",\")\n",
    "Country_data.tail()"
   ]
  },
  {
   "cell_type": "code",
   "execution_count": null,
   "metadata": {},
   "outputs": [],
   "source": []
  }
 ],
 "metadata": {
  "kernelspec": {
   "display_name": "Python 3",
   "language": "python",
   "name": "python3"
  },
  "language_info": {
   "codemirror_mode": {
    "name": "ipython",
    "version": 3
   },
   "file_extension": ".py",
   "mimetype": "text/x-python",
   "name": "python",
   "nbconvert_exporter": "python",
   "pygments_lexer": "ipython3",
   "version": "3.6.5"
  }
 },
 "nbformat": 4,
 "nbformat_minor": 2
}
