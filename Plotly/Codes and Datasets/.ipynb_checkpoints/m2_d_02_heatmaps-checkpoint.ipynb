{
 "cells": [
  {
   "cell_type": "code",
   "execution_count": 1,
   "metadata": {},
   "outputs": [
    {
     "data": {
      "text/html": [
       "<script>requirejs.config({paths: { 'plotly': ['https://cdn.plot.ly/plotly-latest.min']},});if(!window.Plotly) {{require(['plotly'],function(plotly) {window.Plotly=plotly;});}}</script>"
      ],
      "text/vnd.plotly.v1+html": [
       "<script>requirejs.config({paths: { 'plotly': ['https://cdn.plot.ly/plotly-latest.min']},});if(!window.Plotly) {{require(['plotly'],function(plotly) {window.Plotly=plotly;});}}</script>"
      ]
     },
     "metadata": {},
     "output_type": "display_data"
    }
   ],
   "source": [
    "import plotly.plotly as py\n",
    "import plotly.graph_objs as go\n",
    "import plotly.offline as offline\n",
    "\n",
    "offline.init_notebook_mode(connected=True)"
   ]
  },
  {
   "cell_type": "markdown",
   "metadata": {},
   "source": [
    "**Plot a simple heatmap**\n",
    "\n",
    "The required argument for a Heatmap is z - a 2D list containing the set of values which need to be portrayed using a colorscale. THe heatmap is a 2D grid in the same shape as z with different colors denoting the values of the elements of z.\n",
    "\n",
    "The simplest heatmap is a single 1-dimensional list"
   ]
  },
  {
   "cell_type": "code",
   "execution_count": 2,
   "metadata": {},
   "outputs": [],
   "source": [
    "trace = go.Heatmap(z = [[20, 50, 100]])"
   ]
  },
  {
   "cell_type": "markdown",
   "metadata": {},
   "source": [
    "**By default, the color scale is displayed**"
   ]
  },
  {
   "cell_type": "code",
   "execution_count": 3,
   "metadata": {},
   "outputs": [
    {
     "data": {
      "application/vnd.plotly.v1+json": {
       "data": [
        {
         "type": "heatmap",
         "uid": "92aad378-9b8c-11e8-9701-6030d4660e22",
         "z": [
          [
           20,
           50,
           100
          ]
         ]
        }
       ],
       "layout": {}
      },
      "text/html": [
       "<div id=\"d20af713-d890-4b1e-9ff3-36b33dfbdcde\" style=\"height: 525px; width: 100%;\" class=\"plotly-graph-div\"></div><script type=\"text/javascript\">require([\"plotly\"], function(Plotly) { window.PLOTLYENV=window.PLOTLYENV || {};window.PLOTLYENV.BASE_URL=\"https://plot.ly\";Plotly.newPlot(\"d20af713-d890-4b1e-9ff3-36b33dfbdcde\", [{\"z\": [[20, 50, 100]], \"type\": \"heatmap\", \"uid\": \"92d1fbb0-9b8c-11e8-88b7-6030d4660e22\"}], {}, {\"showLink\": true, \"linkText\": \"Export to plot.ly\"})});</script>"
      ],
      "text/vnd.plotly.v1+html": [
       "<div id=\"d20af713-d890-4b1e-9ff3-36b33dfbdcde\" style=\"height: 525px; width: 100%;\" class=\"plotly-graph-div\"></div><script type=\"text/javascript\">require([\"plotly\"], function(Plotly) { window.PLOTLYENV=window.PLOTLYENV || {};window.PLOTLYENV.BASE_URL=\"https://plot.ly\";Plotly.newPlot(\"d20af713-d890-4b1e-9ff3-36b33dfbdcde\", [{\"z\": [[20, 50, 100]], \"type\": \"heatmap\", \"uid\": \"92d1fbb0-9b8c-11e8-88b7-6030d4660e22\"}], {}, {\"showLink\": true, \"linkText\": \"Export to plot.ly\"})});</script>"
      ]
     },
     "metadata": {},
     "output_type": "display_data"
    }
   ],
   "source": [
    "data=[trace]\n",
    "\n",
    "offline.iplot(data)"
   ]
  },
  {
   "cell_type": "markdown",
   "metadata": {},
   "source": [
    "**The more common case is to use a proper 2D list**"
   ]
  },
  {
   "cell_type": "code",
   "execution_count": 4,
   "metadata": {},
   "outputs": [],
   "source": [
    "trace = go.Heatmap(z = [[20, 45, 70], \n",
    "                       [42, 6, 28], \n",
    "                       [33, 17, 64]])"
   ]
  },
  {
   "cell_type": "markdown",
   "metadata": {},
   "source": [
    "The first list is at the bottom of the heatmap"
   ]
  },
  {
   "cell_type": "code",
   "execution_count": 5,
   "metadata": {},
   "outputs": [
    {
     "data": {
      "application/vnd.plotly.v1+json": {
       "data": [
        {
         "type": "heatmap",
         "uid": "92d9389e-9b8c-11e8-9dbe-6030d4660e22",
         "z": [
          [
           20,
           45,
           70
          ],
          [
           42,
           6,
           28
          ],
          [
           33,
           17,
           64
          ]
         ]
        }
       ],
       "layout": {}
      },
      "text/html": [
       "<div id=\"02ba5162-6164-49cb-84f8-3eae0ff95b9e\" style=\"height: 525px; width: 100%;\" class=\"plotly-graph-div\"></div><script type=\"text/javascript\">require([\"plotly\"], function(Plotly) { window.PLOTLYENV=window.PLOTLYENV || {};window.PLOTLYENV.BASE_URL=\"https://plot.ly\";Plotly.newPlot(\"02ba5162-6164-49cb-84f8-3eae0ff95b9e\", [{\"z\": [[20, 45, 70], [42, 6, 28], [33, 17, 64]], \"type\": \"heatmap\", \"uid\": \"92ddbebe-9b8c-11e8-8245-6030d4660e22\"}], {}, {\"showLink\": true, \"linkText\": \"Export to plot.ly\"})});</script>"
      ],
      "text/vnd.plotly.v1+html": [
       "<div id=\"02ba5162-6164-49cb-84f8-3eae0ff95b9e\" style=\"height: 525px; width: 100%;\" class=\"plotly-graph-div\"></div><script type=\"text/javascript\">require([\"plotly\"], function(Plotly) { window.PLOTLYENV=window.PLOTLYENV || {};window.PLOTLYENV.BASE_URL=\"https://plot.ly\";Plotly.newPlot(\"02ba5162-6164-49cb-84f8-3eae0ff95b9e\", [{\"z\": [[20, 45, 70], [42, 6, 28], [33, 17, 64]], \"type\": \"heatmap\", \"uid\": \"92ddbebe-9b8c-11e8-8245-6030d4660e22\"}], {}, {\"showLink\": true, \"linkText\": \"Export to plot.ly\"})});</script>"
      ]
     },
     "metadata": {},
     "output_type": "display_data"
    }
   ],
   "source": [
    "data=[trace]\n",
    "\n",
    "offline.iplot(data)"
   ]
  },
  {
   "cell_type": "markdown",
   "metadata": {},
   "source": [
    "**A more practical example**\n",
    "\n",
    "One can plot a heatmap using categorical data for the X and Y axes. The values in these axes must be unique. This will plot a grid if the shape (x,y) and z must conform to that shape.\n",
    "\n",
    "Consider there are three persons with 5 different talents. And z is number of the respective talent in the person."
   ]
  },
  {
   "cell_type": "code",
   "execution_count": 6,
   "metadata": {},
   "outputs": [],
   "source": [
    "x=['Singing', 'Dancing', 'Painting', 'Swimming', 'Archery']\n",
    "\n",
    "y=['Beth', 'Albert', 'Misha']"
   ]
  },
  {
   "cell_type": "markdown",
   "metadata": {},
   "source": [
    "**Plot the heatmap**\n",
    "\n",
    "We specify a colorscale to use. We specify the reversecale attibute which reverses the colors used in the colorscale. For example, with our reversescale, the lower z values are represented by Red and the higher values are dark blue. Without the reversescale, this would have been reversed."
   ]
  },
  {
   "cell_type": "code",
   "execution_count": 7,
   "metadata": {},
   "outputs": [],
   "source": [
    "trace = go.Heatmap(z = [[15, 30, 20, 40, 10], \n",
    "                       [30, 15, 40, 80, 50], \n",
    "                       [40, 50, 55, 0,  20]],\n",
    "                   \n",
    "                   x = x,\n",
    "                   y = y,\n",
    "                   \n",
    "                   colorscale = 'Jet',\n",
    "                   reversescale = True\n",
    "                  )"
   ]
  },
  {
   "cell_type": "code",
   "execution_count": 8,
   "metadata": {},
   "outputs": [
    {
     "data": {
      "application/vnd.plotly.v1+json": {
       "data": [
        {
         "colorscale": "Jet",
         "reversescale": true,
         "type": "heatmap",
         "uid": "92e637a6-9b8c-11e8-bd9a-6030d4660e22",
         "x": [
          "Singing",
          "Dancing",
          "Painting",
          "Swimming",
          "Archery"
         ],
         "y": [
          "Beth",
          "Albert",
          "Misha"
         ],
         "z": [
          [
           15,
           30,
           20,
           40,
           10
          ],
          [
           30,
           15,
           40,
           80,
           50
          ],
          [
           40,
           50,
           55,
           0,
           20
          ]
         ]
        }
       ],
       "layout": {}
      },
      "text/html": [
       "<div id=\"7f1b32e2-7b09-48c9-beae-ed2916d7e0d2\" style=\"height: 525px; width: 100%;\" class=\"plotly-graph-div\"></div><script type=\"text/javascript\">require([\"plotly\"], function(Plotly) { window.PLOTLYENV=window.PLOTLYENV || {};window.PLOTLYENV.BASE_URL=\"https://plot.ly\";Plotly.newPlot(\"7f1b32e2-7b09-48c9-beae-ed2916d7e0d2\", [{\"colorscale\": \"Jet\", \"reversescale\": true, \"x\": [\"Singing\", \"Dancing\", \"Painting\", \"Swimming\", \"Archery\"], \"y\": [\"Beth\", \"Albert\", \"Misha\"], \"z\": [[15, 30, 20, 40, 10], [30, 15, 40, 80, 50], [40, 50, 55, 0, 20]], \"type\": \"heatmap\", \"uid\": \"92ea6876-9b8c-11e8-b0fc-6030d4660e22\"}], {}, {\"showLink\": true, \"linkText\": \"Export to plot.ly\"})});</script>"
      ],
      "text/vnd.plotly.v1+html": [
       "<div id=\"7f1b32e2-7b09-48c9-beae-ed2916d7e0d2\" style=\"height: 525px; width: 100%;\" class=\"plotly-graph-div\"></div><script type=\"text/javascript\">require([\"plotly\"], function(Plotly) { window.PLOTLYENV=window.PLOTLYENV || {};window.PLOTLYENV.BASE_URL=\"https://plot.ly\";Plotly.newPlot(\"7f1b32e2-7b09-48c9-beae-ed2916d7e0d2\", [{\"colorscale\": \"Jet\", \"reversescale\": true, \"x\": [\"Singing\", \"Dancing\", \"Painting\", \"Swimming\", \"Archery\"], \"y\": [\"Beth\", \"Albert\", \"Misha\"], \"z\": [[15, 30, 20, 40, 10], [30, 15, 40, 80, 50], [40, 50, 55, 0, 20]], \"type\": \"heatmap\", \"uid\": \"92ea6876-9b8c-11e8-b0fc-6030d4660e22\"}], {}, {\"showLink\": true, \"linkText\": \"Export to plot.ly\"})});</script>"
      ]
     },
     "metadata": {},
     "output_type": "display_data"
    }
   ],
   "source": [
    "data=[trace]\n",
    "\n",
    "offline.iplot(data)"
   ]
  },
  {
   "cell_type": "code",
   "execution_count": null,
   "metadata": {},
   "outputs": [],
   "source": []
  }
 ],
 "metadata": {
  "kernelspec": {
   "display_name": "Python 3",
   "language": "python",
   "name": "python3"
  },
  "language_info": {
   "codemirror_mode": {
    "name": "ipython",
    "version": 3
   },
   "file_extension": ".py",
   "mimetype": "text/x-python",
   "name": "python",
   "nbconvert_exporter": "python",
   "pygments_lexer": "ipython3",
   "version": "3.6.5"
  }
 },
 "nbformat": 4,
 "nbformat_minor": 2
}
