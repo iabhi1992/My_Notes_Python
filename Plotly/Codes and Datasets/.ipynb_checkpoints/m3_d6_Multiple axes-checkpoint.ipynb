{
 "cells": [
  {
   "cell_type": "code",
   "execution_count": 1,
   "metadata": {},
   "outputs": [
    {
     "data": {
      "text/html": [
       "<script>requirejs.config({paths: { 'plotly': ['https://cdn.plot.ly/plotly-latest.min']},});if(!window.Plotly) {{require(['plotly'],function(plotly) {window.Plotly=plotly;});}}</script>"
      ],
      "text/vnd.plotly.v1+html": [
       "<script>requirejs.config({paths: { 'plotly': ['https://cdn.plot.ly/plotly-latest.min']},});if(!window.Plotly) {{require(['plotly'],function(plotly) {window.Plotly=plotly;});}}</script>"
      ]
     },
     "metadata": {},
     "output_type": "display_data"
    }
   ],
   "source": [
    "import plotly.plotly as py\n",
    "import plotly.graph_objs as go\n",
    "import pandas as pd\n",
    "import plotly.offline as offline\n",
    "\n",
    "offline.init_notebook_mode(connected=True)"
   ]
  },
  {
   "cell_type": "markdown",
   "metadata": {},
   "source": [
    "**Two Y-Axes**\n",
    "\n",
    "It is often useful to view two different plots - which have the same X axis values, but different Y values - together. In such instances, we can use two Y axes to visualize the two plots."
   ]
  },
  {
   "cell_type": "markdown",
   "metadata": {},
   "source": [
    "**Generate the first trace**\n"
   ]
  },
  {
   "cell_type": "code",
   "execution_count": 2,
   "metadata": {},
   "outputs": [],
   "source": [
    "trace0 = go.Scatter(x = [6, 7, 10], \n",
    "                    y = [1,2,8],\n",
    "                    \n",
    "                    name = 'yaxis data'\n",
    "                   )"
   ]
  },
  {
   "cell_type": "markdown",
   "metadata": {},
   "source": [
    "**Create a second trace and map to a second Y axis**\n",
    "\n",
    "When we set yaxis to 'y2' (the default is 'y'), it means that this axis is a associated with the yaxis2 attribute in the layout definition (which we will see shortly)\n",
    "\n",
    "\n"
   ]
  },
  {
   "cell_type": "code",
   "execution_count": 3,
   "metadata": {},
   "outputs": [],
   "source": [
    "trace1 = go.Scatter(x = [15, 20, 24],\n",
    "                    y = [10, 15, 20],\n",
    "                    \n",
    "                    name = 'yaxis2 data',\n",
    "                    \n",
    "                    yaxis = 'y2'\n",
    ")"
   ]
  },
  {
   "cell_type": "markdown",
   "metadata": {},
   "source": [
    "**The data for our plot includes the lines from the two traces**"
   ]
  },
  {
   "cell_type": "code",
   "execution_count": 4,
   "metadata": {},
   "outputs": [],
   "source": [
    "data = [trace0, trace1]"
   ]
  },
  {
   "cell_type": "markdown",
   "metadata": {},
   "source": [
    "**Define the layout which includes the second Y axis**\n",
    "\n",
    "<b>yaxis2</b> is set to be an overlay on the Y axis which means it will become a second Y axis. We set its position to be on the right side of the axes. \n",
    "\n",
    "Note that we can overlay the X axis as well and place axes on the left, right, top and bottom depending on which axis is being overlayed."
   ]
  },
  {
   "cell_type": "code",
   "execution_count": 5,
   "metadata": {},
   "outputs": [],
   "source": [
    "layout = go.Layout(title = 'Double Y Axis Example',\n",
    "                   yaxis = dict(title = 'Default Y Axis'),\n",
    "                   \n",
    "                   yaxis2 = dict(title = 'Second Y Axis',\n",
    "                                 titlefont = dict(color='pink'),\n",
    "                               \n",
    "                                 overlaying = 'y',\n",
    "                                 side = 'right'\n",
    "                              )\n",
    "                  )"
   ]
  },
  {
   "cell_type": "markdown",
   "metadata": {},
   "source": [
    "**Plot the figure with the two Y axes**"
   ]
  },
  {
   "cell_type": "code",
   "execution_count": 6,
   "metadata": {},
   "outputs": [
    {
     "data": {
      "application/vnd.plotly.v1+json": {
       "data": [
        {
         "name": "yaxis data",
         "type": "scatter",
         "uid": "1f14e6ba-c56a-11e8-9af4-6030d4660e22",
         "x": [
          6,
          7,
          10
         ],
         "y": [
          1,
          2,
          8
         ]
        },
        {
         "name": "yaxis2 data",
         "type": "scatter",
         "uid": "1f166348-c56a-11e8-914d-6030d4660e22",
         "x": [
          15,
          20,
          24
         ],
         "y": [
          10,
          15,
          20
         ],
         "yaxis": "y2"
        }
       ],
       "layout": {
        "title": "Double Y Axis Example",
        "yaxis": {
         "title": "Default Y Axis"
        },
        "yaxis2": {
         "overlaying": "y",
         "side": "right",
         "title": "Second Y Axis",
         "titlefont": {
          "color": "pink"
         }
        }
       }
      },
      "text/html": [
       "<div id=\"7e6b7a9f-da97-4879-b930-5f9aea82ec33\" style=\"height: 525px; width: 100%;\" class=\"plotly-graph-div\"></div><script type=\"text/javascript\">require([\"plotly\"], function(Plotly) { window.PLOTLYENV=window.PLOTLYENV || {};window.PLOTLYENV.BASE_URL=\"https://plot.ly\";\n",
       "        Plotly.plot(\n",
       "            '7e6b7a9f-da97-4879-b930-5f9aea82ec33',\n",
       "            [{\"name\": \"yaxis data\", \"x\": [6, 7, 10], \"y\": [1, 2, 8], \"type\": \"scatter\", \"uid\": \"1f14e6ba-c56a-11e8-9af4-6030d4660e22\"}, {\"name\": \"yaxis2 data\", \"x\": [15, 20, 24], \"y\": [10, 15, 20], \"yaxis\": \"y2\", \"type\": \"scatter\", \"uid\": \"1f166348-c56a-11e8-914d-6030d4660e22\"}],\n",
       "            {\"title\": \"Double Y Axis Example\", \"yaxis\": {\"title\": \"Default Y Axis\"}, \"yaxis2\": {\"overlaying\": \"y\", \"side\": \"right\", \"title\": \"Second Y Axis\", \"titlefont\": {\"color\": \"pink\"}}},\n",
       "            {\"showLink\": true, \"linkText\": \"Export to plot.ly\"}\n",
       "        ).then(function () {return Plotly.addFrames('7e6b7a9f-da97-4879-b930-5f9aea82ec33',{});}).then(function(){Plotly.animate('7e6b7a9f-da97-4879-b930-5f9aea82ec33');})\n",
       "        });</script>"
      ],
      "text/vnd.plotly.v1+html": [
       "<div id=\"7e6b7a9f-da97-4879-b930-5f9aea82ec33\" style=\"height: 525px; width: 100%;\" class=\"plotly-graph-div\"></div><script type=\"text/javascript\">require([\"plotly\"], function(Plotly) { window.PLOTLYENV=window.PLOTLYENV || {};window.PLOTLYENV.BASE_URL=\"https://plot.ly\";\n",
       "        Plotly.plot(\n",
       "            '7e6b7a9f-da97-4879-b930-5f9aea82ec33',\n",
       "            [{\"name\": \"yaxis data\", \"x\": [6, 7, 10], \"y\": [1, 2, 8], \"type\": \"scatter\", \"uid\": \"1f14e6ba-c56a-11e8-9af4-6030d4660e22\"}, {\"name\": \"yaxis2 data\", \"x\": [15, 20, 24], \"y\": [10, 15, 20], \"yaxis\": \"y2\", \"type\": \"scatter\", \"uid\": \"1f166348-c56a-11e8-914d-6030d4660e22\"}],\n",
       "            {\"title\": \"Double Y Axis Example\", \"yaxis\": {\"title\": \"Default Y Axis\"}, \"yaxis2\": {\"overlaying\": \"y\", \"side\": \"right\", \"title\": \"Second Y Axis\", \"titlefont\": {\"color\": \"pink\"}}},\n",
       "            {\"showLink\": true, \"linkText\": \"Export to plot.ly\"}\n",
       "        ).then(function () {return Plotly.addFrames('7e6b7a9f-da97-4879-b930-5f9aea82ec33',{});}).then(function(){Plotly.animate('7e6b7a9f-da97-4879-b930-5f9aea82ec33');})\n",
       "        });</script>"
      ]
     },
     "metadata": {},
     "output_type": "display_data"
    }
   ],
   "source": [
    "fig = go.Figure(data=data, \n",
    "                layout=layout)\n",
    "\n",
    "offline.iplot(fig)"
   ]
  },
  {
   "cell_type": "markdown",
   "metadata": {},
   "source": [
    "**We can have more than two Y axes**\n",
    "\n",
    "We generate a third trace and map it to yaxis3 in the layout definition by setting its yaxis value to 'y3'.\n",
    "\n",
    "We redefine our data"
   ]
  },
  {
   "cell_type": "code",
   "execution_count": 7,
   "metadata": {},
   "outputs": [],
   "source": [
    "trace2 = go.Scatter(x = [26, 29, 32],\n",
    "                    y = [50, 65, 80],\n",
    "                    \n",
    "                    name = 'yaxis3 data',\n",
    "                    \n",
    "                    yaxis = 'y3'\n",
    ")"
   ]
  },
  {
   "cell_type": "markdown",
   "metadata": {},
   "source": [
    "**Redefine our data to include the 3 traces**"
   ]
  },
  {
   "cell_type": "code",
   "execution_count": 8,
   "metadata": {},
   "outputs": [],
   "source": [
    "data = [trace0, trace1, trace2]"
   ]
  },
  {
   "cell_type": "code",
   "execution_count": 9,
   "metadata": {},
   "outputs": [],
   "source": [
    "layout = go.Layout(title = 'Three Y Axes',\n",
    "                   yaxis = dict(title='Default Y Axis'),\n",
    "                   \n",
    "                   yaxis2 = dict(title='Second Y Axis',\n",
    "                                 titlefont=dict(color='navy'),\n",
    "                               \n",
    "                                 overlaying='y',\n",
    "                                 side='right'\n",
    "                              ),\n",
    "                   \n",
    "                   yaxis3 = dict(title='Third Y Axis',\n",
    "                                 titlefont=dict(color='blue'),\n",
    "                               \n",
    "                                 overlaying='y',\n",
    "                                 side='right',\n",
    "                                 \n",
    "                                 anchor = 'free',\n",
    "                                 position = 0.9\n",
    "                              )\n",
    "                  )"
   ]
  },
  {
   "cell_type": "code",
   "execution_count": 10,
   "metadata": {},
   "outputs": [
    {
     "data": {
      "application/vnd.plotly.v1+json": {
       "data": [
        {
         "name": "yaxis data",
         "type": "scatter",
         "uid": "1f29e814-c56a-11e8-af02-6030d4660e22",
         "x": [
          6,
          7,
          10
         ],
         "y": [
          1,
          2,
          8
         ]
        },
        {
         "name": "yaxis2 data",
         "type": "scatter",
         "uid": "1f29eb70-c56a-11e8-9544-6030d4660e22",
         "x": [
          15,
          20,
          24
         ],
         "y": [
          10,
          15,
          20
         ],
         "yaxis": "y2"
        },
        {
         "name": "yaxis3 data",
         "type": "scatter",
         "uid": "1f29fc28-c56a-11e8-8eaf-6030d4660e22",
         "x": [
          26,
          29,
          32
         ],
         "y": [
          50,
          65,
          80
         ],
         "yaxis": "y3"
        }
       ],
       "layout": {
        "title": "Three Y Axes",
        "yaxis": {
         "title": "Default Y Axis"
        },
        "yaxis2": {
         "overlaying": "y",
         "side": "right",
         "title": "Second Y Axis",
         "titlefont": {
          "color": "navy"
         }
        },
        "yaxis3": {
         "anchor": "free",
         "overlaying": "y",
         "position": 0.9,
         "side": "right",
         "title": "Third Y Axis",
         "titlefont": {
          "color": "blue"
         }
        }
       }
      },
      "text/html": [
       "<div id=\"70d22b85-292d-4546-8326-a3ff589a85a5\" style=\"height: 525px; width: 100%;\" class=\"plotly-graph-div\"></div><script type=\"text/javascript\">require([\"plotly\"], function(Plotly) { window.PLOTLYENV=window.PLOTLYENV || {};window.PLOTLYENV.BASE_URL=\"https://plot.ly\";\n",
       "        Plotly.plot(\n",
       "            '70d22b85-292d-4546-8326-a3ff589a85a5',\n",
       "            [{\"name\": \"yaxis data\", \"x\": [6, 7, 10], \"y\": [1, 2, 8], \"type\": \"scatter\", \"uid\": \"1f29e814-c56a-11e8-af02-6030d4660e22\"}, {\"name\": \"yaxis2 data\", \"x\": [15, 20, 24], \"y\": [10, 15, 20], \"yaxis\": \"y2\", \"type\": \"scatter\", \"uid\": \"1f29eb70-c56a-11e8-9544-6030d4660e22\"}, {\"name\": \"yaxis3 data\", \"x\": [26, 29, 32], \"y\": [50, 65, 80], \"yaxis\": \"y3\", \"type\": \"scatter\", \"uid\": \"1f29fc28-c56a-11e8-8eaf-6030d4660e22\"}],\n",
       "            {\"title\": \"Three Y Axes\", \"yaxis\": {\"title\": \"Default Y Axis\"}, \"yaxis2\": {\"overlaying\": \"y\", \"side\": \"right\", \"title\": \"Second Y Axis\", \"titlefont\": {\"color\": \"navy\"}}, \"yaxis3\": {\"anchor\": \"free\", \"overlaying\": \"y\", \"position\": 0.9, \"side\": \"right\", \"title\": \"Third Y Axis\", \"titlefont\": {\"color\": \"blue\"}}},\n",
       "            {\"showLink\": true, \"linkText\": \"Export to plot.ly\"}\n",
       "        ).then(function () {return Plotly.addFrames('70d22b85-292d-4546-8326-a3ff589a85a5',{});}).then(function(){Plotly.animate('70d22b85-292d-4546-8326-a3ff589a85a5');})\n",
       "        });</script>"
      ],
      "text/vnd.plotly.v1+html": [
       "<div id=\"70d22b85-292d-4546-8326-a3ff589a85a5\" style=\"height: 525px; width: 100%;\" class=\"plotly-graph-div\"></div><script type=\"text/javascript\">require([\"plotly\"], function(Plotly) { window.PLOTLYENV=window.PLOTLYENV || {};window.PLOTLYENV.BASE_URL=\"https://plot.ly\";\n",
       "        Plotly.plot(\n",
       "            '70d22b85-292d-4546-8326-a3ff589a85a5',\n",
       "            [{\"name\": \"yaxis data\", \"x\": [6, 7, 10], \"y\": [1, 2, 8], \"type\": \"scatter\", \"uid\": \"1f29e814-c56a-11e8-af02-6030d4660e22\"}, {\"name\": \"yaxis2 data\", \"x\": [15, 20, 24], \"y\": [10, 15, 20], \"yaxis\": \"y2\", \"type\": \"scatter\", \"uid\": \"1f29eb70-c56a-11e8-9544-6030d4660e22\"}, {\"name\": \"yaxis3 data\", \"x\": [26, 29, 32], \"y\": [50, 65, 80], \"yaxis\": \"y3\", \"type\": \"scatter\", \"uid\": \"1f29fc28-c56a-11e8-8eaf-6030d4660e22\"}],\n",
       "            {\"title\": \"Three Y Axes\", \"yaxis\": {\"title\": \"Default Y Axis\"}, \"yaxis2\": {\"overlaying\": \"y\", \"side\": \"right\", \"title\": \"Second Y Axis\", \"titlefont\": {\"color\": \"navy\"}}, \"yaxis3\": {\"anchor\": \"free\", \"overlaying\": \"y\", \"position\": 0.9, \"side\": \"right\", \"title\": \"Third Y Axis\", \"titlefont\": {\"color\": \"blue\"}}},\n",
       "            {\"showLink\": true, \"linkText\": \"Export to plot.ly\"}\n",
       "        ).then(function () {return Plotly.addFrames('70d22b85-292d-4546-8326-a3ff589a85a5',{});}).then(function(){Plotly.animate('70d22b85-292d-4546-8326-a3ff589a85a5');})\n",
       "        });</script>"
      ]
     },
     "metadata": {},
     "output_type": "display_data"
    }
   ],
   "source": [
    "fig = go.Figure(data=data, \n",
    "                layout=layout)\n",
    "\n",
    "offline.iplot(fig)"
   ]
  },
  {
   "cell_type": "markdown",
   "metadata": {},
   "source": [
    "**USA_Temperatures dataset**\n",
    "\n",
    "Data has been compiled from https://www.holiday-weather.com/new_york_city/averages/"
   ]
  },
  {
   "cell_type": "code",
   "execution_count": 11,
   "metadata": {},
   "outputs": [
    {
     "data": {
      "text/html": [
       "<div>\n",
       "<style scoped>\n",
       "    .dataframe tbody tr th:only-of-type {\n",
       "        vertical-align: middle;\n",
       "    }\n",
       "\n",
       "    .dataframe tbody tr th {\n",
       "        vertical-align: top;\n",
       "    }\n",
       "\n",
       "    .dataframe thead th {\n",
       "        text-align: right;\n",
       "    }\n",
       "</style>\n",
       "<table border=\"1\" class=\"dataframe\">\n",
       "  <thead>\n",
       "    <tr style=\"text-align: right;\">\n",
       "      <th></th>\n",
       "      <th>Months_name</th>\n",
       "      <th>NewYork_Average_Temperature(Fahrenheit)</th>\n",
       "      <th>NewYork_Average_Rainfall(mm)</th>\n",
       "    </tr>\n",
       "  </thead>\n",
       "  <tbody>\n",
       "    <tr>\n",
       "      <th>0</th>\n",
       "      <td>January</td>\n",
       "      <td>36</td>\n",
       "      <td>85</td>\n",
       "    </tr>\n",
       "    <tr>\n",
       "      <th>1</th>\n",
       "      <td>February</td>\n",
       "      <td>36</td>\n",
       "      <td>57</td>\n",
       "    </tr>\n",
       "    <tr>\n",
       "      <th>2</th>\n",
       "      <td>March</td>\n",
       "      <td>39</td>\n",
       "      <td>90</td>\n",
       "    </tr>\n",
       "    <tr>\n",
       "      <th>3</th>\n",
       "      <td>April</td>\n",
       "      <td>52</td>\n",
       "      <td>96</td>\n",
       "    </tr>\n",
       "    <tr>\n",
       "      <th>4</th>\n",
       "      <td>May</td>\n",
       "      <td>61</td>\n",
       "      <td>114</td>\n",
       "    </tr>\n",
       "    <tr>\n",
       "      <th>5</th>\n",
       "      <td>June</td>\n",
       "      <td>72</td>\n",
       "      <td>98</td>\n",
       "    </tr>\n",
       "    <tr>\n",
       "      <th>6</th>\n",
       "      <td>July</td>\n",
       "      <td>77</td>\n",
       "      <td>101</td>\n",
       "    </tr>\n",
       "    <tr>\n",
       "      <th>7</th>\n",
       "      <td>August</td>\n",
       "      <td>75</td>\n",
       "      <td>87</td>\n",
       "    </tr>\n",
       "    <tr>\n",
       "      <th>8</th>\n",
       "      <td>September</td>\n",
       "      <td>68</td>\n",
       "      <td>104</td>\n",
       "    </tr>\n",
       "    <tr>\n",
       "      <th>9</th>\n",
       "      <td>October</td>\n",
       "      <td>57</td>\n",
       "      <td>94</td>\n",
       "    </tr>\n",
       "    <tr>\n",
       "      <th>10</th>\n",
       "      <td>November</td>\n",
       "      <td>48</td>\n",
       "      <td>69</td>\n",
       "    </tr>\n",
       "    <tr>\n",
       "      <th>11</th>\n",
       "      <td>December</td>\n",
       "      <td>48</td>\n",
       "      <td>85</td>\n",
       "    </tr>\n",
       "  </tbody>\n",
       "</table>\n",
       "</div>"
      ],
      "text/plain": [
       "   Months_name  NewYork_Average_Temperature(Fahrenheit)  \\\n",
       "0      January                                       36   \n",
       "1     February                                       36   \n",
       "2        March                                       39   \n",
       "3        April                                       52   \n",
       "4          May                                       61   \n",
       "5         June                                       72   \n",
       "6         July                                       77   \n",
       "7       August                                       75   \n",
       "8    September                                       68   \n",
       "9      October                                       57   \n",
       "10    November                                       48   \n",
       "11    December                                       48   \n",
       "\n",
       "    NewYork_Average_Rainfall(mm)  \n",
       "0                             85  \n",
       "1                             57  \n",
       "2                             90  \n",
       "3                             96  \n",
       "4                            114  \n",
       "5                             98  \n",
       "6                            101  \n",
       "7                             87  \n",
       "8                            104  \n",
       "9                             94  \n",
       "10                            69  \n",
       "11                            85  "
      ]
     },
     "execution_count": 11,
     "metadata": {},
     "output_type": "execute_result"
    }
   ],
   "source": [
    "data = pd.read_csv('datasets/USA_Temperatures.csv')\n",
    "data"
   ]
  },
  {
   "cell_type": "markdown",
   "metadata": {},
   "source": [
    "**Generate a trace for NewYork Average Temperature over months**"
   ]
  },
  {
   "cell_type": "code",
   "execution_count": 12,
   "metadata": {},
   "outputs": [],
   "source": [
    "NewYorkCityTemperatureTrace = go.Scatter(x = data['Months_name'],\n",
    "                        y = data['NewYork_Average_Temperature(Fahrenheit)'],\n",
    "                    \n",
    "                        name = 'NewYork_Average Temperature(Fahrenheit)'\n",
    ")"
   ]
  },
  {
   "cell_type": "markdown",
   "metadata": {},
   "source": [
    "**Generate a trace for NewYork Average Rainfall over months**\n",
    "\n",
    "This will be represented by the 2nd Y axis"
   ]
  },
  {
   "cell_type": "code",
   "execution_count": 13,
   "metadata": {},
   "outputs": [],
   "source": [
    "NewYorkCityRainfallTrace = go.Scatter(x = data['Months_name'],\n",
    "                         y = data['NewYork_Average_Rainfall(mm)'],\n",
    "                    \n",
    "                         name = 'NewYork_Average_Rainfall(mm)',\n",
    "                         yaxis = 'y2'\n",
    ")"
   ]
  },
  {
   "cell_type": "markdown",
   "metadata": {},
   "source": [
    "**The data for the plot includes both Average Temperature and Average Rainfall of NewYork **"
   ]
  },
  {
   "cell_type": "code",
   "execution_count": 14,
   "metadata": {},
   "outputs": [],
   "source": [
    "Data = [NewYorkCityTemperatureTrace, NewYorkCityRainfallTrace]"
   ]
  },
  {
   "cell_type": "markdown",
   "metadata": {},
   "source": [
    "**Define the layout**\n",
    "\n",
    "The second Y axis will be on the right, and its title text is in red"
   ]
  },
  {
   "cell_type": "code",
   "execution_count": 15,
   "metadata": {},
   "outputs": [],
   "source": [
    "Layout = go.Layout(title = 'NewYork Average Temperature and Average Rainfall',\n",
    "                          yaxis = dict(title='NewYork Average Temperature'),\n",
    "                   \n",
    "                          yaxis2 = dict(title = 'NewYork Average Rainfall',\n",
    "                                        titlefont = dict(color = 'red'),\n",
    "\n",
    "                                        overlaying = 'y',\n",
    "                                        side = 'right'\n",
    "                                )\n",
    "    \n",
    ")"
   ]
  },
  {
   "cell_type": "markdown",
   "metadata": {},
   "source": [
    "**Plot the figure**\n",
    "\n",
    "Notice the variation between Average Temperature and Average Rainfall of NewYork  "
   ]
  },
  {
   "cell_type": "code",
   "execution_count": 16,
   "metadata": {},
   "outputs": [
    {
     "data": {
      "application/vnd.plotly.v1+json": {
       "data": [
        {
         "name": "NewYork_Average Temperature(Fahrenheit)",
         "type": "scatter",
         "uid": "1f4688ac-c56a-11e8-b765-6030d4660e22",
         "x": [
          "January",
          "February",
          "March",
          "April",
          "May",
          "June",
          "July",
          "August",
          "September",
          "October",
          "November",
          "December"
         ],
         "y": [
          36,
          36,
          39,
          52,
          61,
          72,
          77,
          75,
          68,
          57,
          48,
          48
         ]
        },
        {
         "name": "NewYork_Average_Rainfall(mm)",
         "type": "scatter",
         "uid": "1f468ad2-c56a-11e8-9f93-6030d4660e22",
         "x": [
          "January",
          "February",
          "March",
          "April",
          "May",
          "June",
          "July",
          "August",
          "September",
          "October",
          "November",
          "December"
         ],
         "y": [
          85,
          57,
          90,
          96,
          114,
          98,
          101,
          87,
          104,
          94,
          69,
          85
         ],
         "yaxis": "y2"
        }
       ],
       "layout": {
        "title": "NewYork Average Temperature and Average Rainfall",
        "yaxis": {
         "title": "NewYork Average Temperature"
        },
        "yaxis2": {
         "overlaying": "y",
         "side": "right",
         "title": "NewYork Average Rainfall",
         "titlefont": {
          "color": "red"
         }
        }
       }
      },
      "text/html": [
       "<div id=\"4118ab37-3a88-4a93-b5d2-8e9ec3e02572\" style=\"height: 525px; width: 100%;\" class=\"plotly-graph-div\"></div><script type=\"text/javascript\">require([\"plotly\"], function(Plotly) { window.PLOTLYENV=window.PLOTLYENV || {};window.PLOTLYENV.BASE_URL=\"https://plot.ly\";\n",
       "        Plotly.plot(\n",
       "            '4118ab37-3a88-4a93-b5d2-8e9ec3e02572',\n",
       "            [{\"name\": \"NewYork_Average Temperature(Fahrenheit)\", \"x\": [\"January\", \"February\", \"March\", \"April\", \"May\", \"June\", \"July\", \"August\", \"September\", \"October\", \"November\", \"December\"], \"y\": [36.0, 36.0, 39.0, 52.0, 61.0, 72.0, 77.0, 75.0, 68.0, 57.0, 48.0, 48.0], \"type\": \"scatter\", \"uid\": \"1f4688ac-c56a-11e8-b765-6030d4660e22\"}, {\"name\": \"NewYork_Average_Rainfall(mm)\", \"x\": [\"January\", \"February\", \"March\", \"April\", \"May\", \"June\", \"July\", \"August\", \"September\", \"October\", \"November\", \"December\"], \"y\": [85.0, 57.0, 90.0, 96.0, 114.0, 98.0, 101.0, 87.0, 104.0, 94.0, 69.0, 85.0], \"yaxis\": \"y2\", \"type\": \"scatter\", \"uid\": \"1f468ad2-c56a-11e8-9f93-6030d4660e22\"}],\n",
       "            {\"title\": \"NewYork Average Temperature and Average Rainfall\", \"yaxis\": {\"title\": \"NewYork Average Temperature\"}, \"yaxis2\": {\"overlaying\": \"y\", \"side\": \"right\", \"title\": \"NewYork Average Rainfall\", \"titlefont\": {\"color\": \"red\"}}},\n",
       "            {\"showLink\": true, \"linkText\": \"Export to plot.ly\"}\n",
       "        ).then(function () {return Plotly.addFrames('4118ab37-3a88-4a93-b5d2-8e9ec3e02572',{});}).then(function(){Plotly.animate('4118ab37-3a88-4a93-b5d2-8e9ec3e02572');})\n",
       "        });</script>"
      ],
      "text/vnd.plotly.v1+html": [
       "<div id=\"4118ab37-3a88-4a93-b5d2-8e9ec3e02572\" style=\"height: 525px; width: 100%;\" class=\"plotly-graph-div\"></div><script type=\"text/javascript\">require([\"plotly\"], function(Plotly) { window.PLOTLYENV=window.PLOTLYENV || {};window.PLOTLYENV.BASE_URL=\"https://plot.ly\";\n",
       "        Plotly.plot(\n",
       "            '4118ab37-3a88-4a93-b5d2-8e9ec3e02572',\n",
       "            [{\"name\": \"NewYork_Average Temperature(Fahrenheit)\", \"x\": [\"January\", \"February\", \"March\", \"April\", \"May\", \"June\", \"July\", \"August\", \"September\", \"October\", \"November\", \"December\"], \"y\": [36.0, 36.0, 39.0, 52.0, 61.0, 72.0, 77.0, 75.0, 68.0, 57.0, 48.0, 48.0], \"type\": \"scatter\", \"uid\": \"1f4688ac-c56a-11e8-b765-6030d4660e22\"}, {\"name\": \"NewYork_Average_Rainfall(mm)\", \"x\": [\"January\", \"February\", \"March\", \"April\", \"May\", \"June\", \"July\", \"August\", \"September\", \"October\", \"November\", \"December\"], \"y\": [85.0, 57.0, 90.0, 96.0, 114.0, 98.0, 101.0, 87.0, 104.0, 94.0, 69.0, 85.0], \"yaxis\": \"y2\", \"type\": \"scatter\", \"uid\": \"1f468ad2-c56a-11e8-9f93-6030d4660e22\"}],\n",
       "            {\"title\": \"NewYork Average Temperature and Average Rainfall\", \"yaxis\": {\"title\": \"NewYork Average Temperature\"}, \"yaxis2\": {\"overlaying\": \"y\", \"side\": \"right\", \"title\": \"NewYork Average Rainfall\", \"titlefont\": {\"color\": \"red\"}}},\n",
       "            {\"showLink\": true, \"linkText\": \"Export to plot.ly\"}\n",
       "        ).then(function () {return Plotly.addFrames('4118ab37-3a88-4a93-b5d2-8e9ec3e02572',{});}).then(function(){Plotly.animate('4118ab37-3a88-4a93-b5d2-8e9ec3e02572');})\n",
       "        });</script>"
      ]
     },
     "metadata": {},
     "output_type": "display_data"
    }
   ],
   "source": [
    "fig = go.Figure(data=Data, \n",
    "                layout=Layout)\n",
    "\n",
    "offline.iplot(fig)"
   ]
  }
 ],
 "metadata": {
  "kernelspec": {
   "display_name": "Python 3",
   "language": "python",
   "name": "python3"
  },
  "language_info": {
   "codemirror_mode": {
    "name": "ipython",
    "version": 3
   },
   "file_extension": ".py",
   "mimetype": "text/x-python",
   "name": "python",
   "nbconvert_exporter": "python",
   "pygments_lexer": "ipython3",
   "version": "3.6.5"
  }
 },
 "nbformat": 4,
 "nbformat_minor": 2
}
