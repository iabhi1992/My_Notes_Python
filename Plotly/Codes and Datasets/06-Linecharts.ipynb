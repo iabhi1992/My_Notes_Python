{
 "cells": [
  {
   "cell_type": "code",
   "execution_count": 1,
   "metadata": {
    "ExecuteTime": {
     "end_time": "2021-03-14T01:20:01.961914Z",
     "start_time": "2021-03-14T01:20:01.664360Z"
    }
   },
   "outputs": [
    {
     "data": {
      "text/html": [
       "        <script type=\"text/javascript\">\n",
       "        window.PlotlyConfig = {MathJaxConfig: 'local'};\n",
       "        if (window.MathJax) {MathJax.Hub.Config({SVG: {font: \"STIX-Web\"}});}\n",
       "        if (typeof require !== 'undefined') {\n",
       "        require.undef(\"plotly\");\n",
       "        requirejs.config({\n",
       "            paths: {\n",
       "                'plotly': ['https://cdn.plot.ly/plotly-latest.min']\n",
       "            }\n",
       "        });\n",
       "        require(['plotly'], function(Plotly) {\n",
       "            window._Plotly = Plotly;\n",
       "        });\n",
       "        }\n",
       "        </script>\n",
       "        "
      ]
     },
     "metadata": {},
     "output_type": "display_data"
    }
   ],
   "source": [
    "import plotly.graph_objs as go\n",
    "import numpy as np\n",
    "import plotly.offline as offline\n",
    "\n",
    "offline.init_notebook_mode(connected=True)"
   ]
  },
  {
   "cell_type": "markdown",
   "metadata": {},
   "source": [
    "**Style Line Plots**\n",
    "\n",
    "We have seen how line plots can be plotted. Now we see how those can be formatted\n",
    "\n",
    "\n"
   ]
  },
  {
   "cell_type": "markdown",
   "metadata": {},
   "source": [
    "**Download data set**\n",
    "\n",
    "stock values for different companies over years\n",
    "\n",
    "The data has been compiled from the following site: https://finance.yahoo.com/"
   ]
  },
  {
   "cell_type": "code",
   "execution_count": 2,
   "metadata": {
    "ExecuteTime": {
     "end_time": "2021-03-14T01:20:05.677320Z",
     "start_time": "2021-03-14T01:20:04.827899Z"
    }
   },
   "outputs": [
    {
     "data": {
      "text/html": [
       "<div>\n",
       "<style scoped>\n",
       "    .dataframe tbody tr th:only-of-type {\n",
       "        vertical-align: middle;\n",
       "    }\n",
       "\n",
       "    .dataframe tbody tr th {\n",
       "        vertical-align: top;\n",
       "    }\n",
       "\n",
       "    .dataframe thead th {\n",
       "        text-align: right;\n",
       "    }\n",
       "</style>\n",
       "<table border=\"1\" class=\"dataframe\">\n",
       "  <thead>\n",
       "    <tr style=\"text-align: right;\">\n",
       "      <th></th>\n",
       "      <th>Unnamed: 0</th>\n",
       "      <th>Date</th>\n",
       "      <th>ADBE</th>\n",
       "      <th>CVX</th>\n",
       "      <th>MDLZ</th>\n",
       "      <th>NFLX</th>\n",
       "      <th>ORCL</th>\n",
       "      <th>SBUX</th>\n",
       "    </tr>\n",
       "  </thead>\n",
       "  <tbody>\n",
       "    <tr>\n",
       "      <th>0</th>\n",
       "      <td>0</td>\n",
       "      <td>01/03/2017</td>\n",
       "      <td>113.820000</td>\n",
       "      <td>110.759811</td>\n",
       "      <td>44.430000</td>\n",
       "      <td>141.220001</td>\n",
       "      <td>40.230000</td>\n",
       "      <td>55.649239</td>\n",
       "    </tr>\n",
       "    <tr>\n",
       "      <th>1</th>\n",
       "      <td>1</td>\n",
       "      <td>12/01/2016</td>\n",
       "      <td>102.949997</td>\n",
       "      <td>116.584061</td>\n",
       "      <td>44.330002</td>\n",
       "      <td>123.800003</td>\n",
       "      <td>38.299999</td>\n",
       "      <td>55.270943</td>\n",
       "    </tr>\n",
       "    <tr>\n",
       "      <th>2</th>\n",
       "      <td>2</td>\n",
       "      <td>11/01/2016</td>\n",
       "      <td>102.809998</td>\n",
       "      <td>110.502274</td>\n",
       "      <td>41.066032</td>\n",
       "      <td>117.000000</td>\n",
       "      <td>40.033211</td>\n",
       "      <td>57.709953</td>\n",
       "    </tr>\n",
       "    <tr>\n",
       "      <th>3</th>\n",
       "      <td>3</td>\n",
       "      <td>10/03/2016</td>\n",
       "      <td>107.510002</td>\n",
       "      <td>102.728424</td>\n",
       "      <td>44.750420</td>\n",
       "      <td>124.870003</td>\n",
       "      <td>38.270115</td>\n",
       "      <td>52.588333</td>\n",
       "    </tr>\n",
       "    <tr>\n",
       "      <th>4</th>\n",
       "      <td>4</td>\n",
       "      <td>09/01/2016</td>\n",
       "      <td>108.540001</td>\n",
       "      <td>100.933739</td>\n",
       "      <td>43.714809</td>\n",
       "      <td>98.550003</td>\n",
       "      <td>38.975769</td>\n",
       "      <td>53.648621</td>\n",
       "    </tr>\n",
       "    <tr>\n",
       "      <th>5</th>\n",
       "      <td>5</td>\n",
       "      <td>08/01/2016</td>\n",
       "      <td>102.309998</td>\n",
       "      <td>98.638901</td>\n",
       "      <td>44.632732</td>\n",
       "      <td>97.449997</td>\n",
       "      <td>40.900745</td>\n",
       "      <td>55.719654</td>\n",
       "    </tr>\n",
       "  </tbody>\n",
       "</table>\n",
       "</div>"
      ],
      "text/plain": [
       "   Unnamed: 0        Date        ADBE         CVX       MDLZ        NFLX  \\\n",
       "0           0  01/03/2017  113.820000  110.759811  44.430000  141.220001   \n",
       "1           1  12/01/2016  102.949997  116.584061  44.330002  123.800003   \n",
       "2           2  11/01/2016  102.809998  110.502274  41.066032  117.000000   \n",
       "3           3  10/03/2016  107.510002  102.728424  44.750420  124.870003   \n",
       "4           4  09/01/2016  108.540001  100.933739  43.714809   98.550003   \n",
       "5           5  08/01/2016  102.309998   98.638901  44.632732   97.449997   \n",
       "\n",
       "        ORCL       SBUX  \n",
       "0  40.230000  55.649239  \n",
       "1  38.299999  55.270943  \n",
       "2  40.033211  57.709953  \n",
       "3  38.270115  52.588333  \n",
       "4  38.975769  53.648621  \n",
       "5  40.900745  55.719654  "
      ]
     },
     "execution_count": 2,
     "metadata": {},
     "output_type": "execute_result"
    }
   ],
   "source": [
    "import pandas as pd\n",
    "\n",
    "stocks_data = pd.read_csv('datasets/plotly_stocks.csv')\n",
    "stocks_data.head()\n",
    "\n",
    "stock_new = stocks_data[:6]\n",
    "stock_new"
   ]
  },
  {
   "cell_type": "markdown",
   "metadata": {},
   "source": [
    "**The first trace**\n",
    "\n",
    "Plot the line for ADBE'S stock value. We format the line by:\n",
    "\n",
    "* specifying a color in RGBA format.\n",
    "* specify a width"
   ]
  },
  {
   "cell_type": "code",
   "execution_count": 3,
   "metadata": {
    "ExecuteTime": {
     "end_time": "2021-03-14T01:20:10.706837Z",
     "start_time": "2021-03-14T01:20:10.666634Z"
    }
   },
   "outputs": [],
   "source": [
    "trace0 = go.Scatter(\n",
    "    \n",
    "    x = stock_new['Date'],\n",
    "    y = stock_new['ADBE'],\n",
    "    \n",
    "    name = 'ADBE stock value',\n",
    "    \n",
    "    line = dict(color = ('rgb(255, 0, 0)'),\n",
    "                width = 5)\n",
    ")"
   ]
  },
  {
   "cell_type": "markdown",
   "metadata": {},
   "source": [
    "**The First trace**\n",
    "\n",
    "Plot the line for CVX'S stock value. We format the line by:\n",
    "\n",
    "* specifying a color in RGB format\n",
    "* specify a width\n",
    "* use a dotted line using the 'dash' attribute"
   ]
  },
  {
   "cell_type": "code",
   "execution_count": 4,
   "metadata": {
    "ExecuteTime": {
     "end_time": "2021-03-14T01:20:12.997045Z",
     "start_time": "2021-03-14T01:20:12.968138Z"
    }
   },
   "outputs": [],
   "source": [
    "trace1 = go.Scatter(\n",
    "    \n",
    "    x = stock_new['Date'],\n",
    "    y = stock_new['CVX'],\n",
    "    \n",
    "    name = 'cvx stock value',\n",
    "    \n",
    "    line = dict(color = ('rgb(0, 0, 128)'),\n",
    "                width = 5,\n",
    "               dash = 'dot')\n",
    ")"
   ]
  },
  {
   "cell_type": "markdown",
   "metadata": {},
   "source": [
    "**The last trace**\n",
    "\n",
    "Plot the line for MDLZ'S stock value. We format the line by:\n",
    "\n",
    "* specifying a color in RGBA format.\n",
    "* specify a width\n",
    "* this will be a dashed line"
   ]
  },
  {
   "cell_type": "code",
   "execution_count": 5,
   "metadata": {
    "ExecuteTime": {
     "end_time": "2021-03-14T01:20:14.975301Z",
     "start_time": "2021-03-14T01:20:14.969239Z"
    }
   },
   "outputs": [],
   "source": [
    "trace2 = go.Scatter(\n",
    "    \n",
    "    x = stock_new['Date'],\n",
    "    y = stock_new['MDLZ'],\n",
    "    \n",
    "    name = 'MDLZ stock value',\n",
    "    \n",
    "    line = dict(color = ('rgb(0, 128, 0)'),\n",
    "                width = 5,\n",
    "                dash = 'dash')\n",
    ")"
   ]
  },
  {
   "cell_type": "code",
   "execution_count": 6,
   "metadata": {
    "ExecuteTime": {
     "end_time": "2021-03-14T01:20:16.782964Z",
     "start_time": "2021-03-14T01:20:16.774857Z"
    }
   },
   "outputs": [],
   "source": [
    "data_stock = [trace0, trace1, trace2]\n",
    "\n",
    "layout_stock = dict(title = 'Variation of Stock Values',\n",
    "              xaxis = dict(title = 'Date'),\n",
    "              yaxis = dict(title = 'Stock Value'),\n",
    "              )"
   ]
  },
  {
   "cell_type": "markdown",
   "metadata": {},
   "source": [
    "**Define and plot the figure**"
   ]
  },
  {
   "cell_type": "code",
   "execution_count": 7,
   "metadata": {
    "ExecuteTime": {
     "end_time": "2021-03-14T01:20:19.883912Z",
     "start_time": "2021-03-14T01:20:18.523732Z"
    }
   },
   "outputs": [
    {
     "data": {
      "application/vnd.plotly.v1+json": {
       "config": {
        "linkText": "Export to plot.ly",
        "plotlyServerURL": "https://plot.ly",
        "showLink": false
       },
       "data": [
        {
         "line": {
          "color": "rgb(255, 0, 0)",
          "width": 5
         },
         "name": "ADBE stock value",
         "type": "scatter",
         "x": [
          "01/03/2017",
          "12/01/2016",
          "11/01/2016",
          "10/03/2016",
          "09/01/2016",
          "08/01/2016"
         ],
         "y": [
          113.82,
          102.949997,
          102.809998,
          107.510002,
          108.540001,
          102.309998
         ]
        },
        {
         "line": {
          "color": "rgb(0, 0, 128)",
          "dash": "dot",
          "width": 5
         },
         "name": "cvx stock value",
         "type": "scatter",
         "x": [
          "01/03/2017",
          "12/01/2016",
          "11/01/2016",
          "10/03/2016",
          "09/01/2016",
          "08/01/2016"
         ],
         "y": [
          110.759811,
          116.584061,
          110.502274,
          102.728424,
          100.933739,
          98.638901
         ]
        },
        {
         "line": {
          "color": "rgb(0, 128, 0)",
          "dash": "dash",
          "width": 5
         },
         "name": "MDLZ stock value",
         "type": "scatter",
         "x": [
          "01/03/2017",
          "12/01/2016",
          "11/01/2016",
          "10/03/2016",
          "09/01/2016",
          "08/01/2016"
         ],
         "y": [
          44.43,
          44.330002,
          41.066032,
          44.75042,
          43.714809,
          44.632732
         ]
        }
       ],
       "layout": {
        "template": {
         "data": {
          "bar": [
           {
            "error_x": {
             "color": "#2a3f5f"
            },
            "error_y": {
             "color": "#2a3f5f"
            },
            "marker": {
             "line": {
              "color": "#E5ECF6",
              "width": 0.5
             }
            },
            "type": "bar"
           }
          ],
          "barpolar": [
           {
            "marker": {
             "line": {
              "color": "#E5ECF6",
              "width": 0.5
             }
            },
            "type": "barpolar"
           }
          ],
          "carpet": [
           {
            "aaxis": {
             "endlinecolor": "#2a3f5f",
             "gridcolor": "white",
             "linecolor": "white",
             "minorgridcolor": "white",
             "startlinecolor": "#2a3f5f"
            },
            "baxis": {
             "endlinecolor": "#2a3f5f",
             "gridcolor": "white",
             "linecolor": "white",
             "minorgridcolor": "white",
             "startlinecolor": "#2a3f5f"
            },
            "type": "carpet"
           }
          ],
          "choropleth": [
           {
            "colorbar": {
             "outlinewidth": 0,
             "ticks": ""
            },
            "type": "choropleth"
           }
          ],
          "contour": [
           {
            "colorbar": {
             "outlinewidth": 0,
             "ticks": ""
            },
            "colorscale": [
             [
              0,
              "#0d0887"
             ],
             [
              0.1111111111111111,
              "#46039f"
             ],
             [
              0.2222222222222222,
              "#7201a8"
             ],
             [
              0.3333333333333333,
              "#9c179e"
             ],
             [
              0.4444444444444444,
              "#bd3786"
             ],
             [
              0.5555555555555556,
              "#d8576b"
             ],
             [
              0.6666666666666666,
              "#ed7953"
             ],
             [
              0.7777777777777778,
              "#fb9f3a"
             ],
             [
              0.8888888888888888,
              "#fdca26"
             ],
             [
              1,
              "#f0f921"
             ]
            ],
            "type": "contour"
           }
          ],
          "contourcarpet": [
           {
            "colorbar": {
             "outlinewidth": 0,
             "ticks": ""
            },
            "type": "contourcarpet"
           }
          ],
          "heatmap": [
           {
            "colorbar": {
             "outlinewidth": 0,
             "ticks": ""
            },
            "colorscale": [
             [
              0,
              "#0d0887"
             ],
             [
              0.1111111111111111,
              "#46039f"
             ],
             [
              0.2222222222222222,
              "#7201a8"
             ],
             [
              0.3333333333333333,
              "#9c179e"
             ],
             [
              0.4444444444444444,
              "#bd3786"
             ],
             [
              0.5555555555555556,
              "#d8576b"
             ],
             [
              0.6666666666666666,
              "#ed7953"
             ],
             [
              0.7777777777777778,
              "#fb9f3a"
             ],
             [
              0.8888888888888888,
              "#fdca26"
             ],
             [
              1,
              "#f0f921"
             ]
            ],
            "type": "heatmap"
           }
          ],
          "heatmapgl": [
           {
            "colorbar": {
             "outlinewidth": 0,
             "ticks": ""
            },
            "colorscale": [
             [
              0,
              "#0d0887"
             ],
             [
              0.1111111111111111,
              "#46039f"
             ],
             [
              0.2222222222222222,
              "#7201a8"
             ],
             [
              0.3333333333333333,
              "#9c179e"
             ],
             [
              0.4444444444444444,
              "#bd3786"
             ],
             [
              0.5555555555555556,
              "#d8576b"
             ],
             [
              0.6666666666666666,
              "#ed7953"
             ],
             [
              0.7777777777777778,
              "#fb9f3a"
             ],
             [
              0.8888888888888888,
              "#fdca26"
             ],
             [
              1,
              "#f0f921"
             ]
            ],
            "type": "heatmapgl"
           }
          ],
          "histogram": [
           {
            "marker": {
             "colorbar": {
              "outlinewidth": 0,
              "ticks": ""
             }
            },
            "type": "histogram"
           }
          ],
          "histogram2d": [
           {
            "colorbar": {
             "outlinewidth": 0,
             "ticks": ""
            },
            "colorscale": [
             [
              0,
              "#0d0887"
             ],
             [
              0.1111111111111111,
              "#46039f"
             ],
             [
              0.2222222222222222,
              "#7201a8"
             ],
             [
              0.3333333333333333,
              "#9c179e"
             ],
             [
              0.4444444444444444,
              "#bd3786"
             ],
             [
              0.5555555555555556,
              "#d8576b"
             ],
             [
              0.6666666666666666,
              "#ed7953"
             ],
             [
              0.7777777777777778,
              "#fb9f3a"
             ],
             [
              0.8888888888888888,
              "#fdca26"
             ],
             [
              1,
              "#f0f921"
             ]
            ],
            "type": "histogram2d"
           }
          ],
          "histogram2dcontour": [
           {
            "colorbar": {
             "outlinewidth": 0,
             "ticks": ""
            },
            "colorscale": [
             [
              0,
              "#0d0887"
             ],
             [
              0.1111111111111111,
              "#46039f"
             ],
             [
              0.2222222222222222,
              "#7201a8"
             ],
             [
              0.3333333333333333,
              "#9c179e"
             ],
             [
              0.4444444444444444,
              "#bd3786"
             ],
             [
              0.5555555555555556,
              "#d8576b"
             ],
             [
              0.6666666666666666,
              "#ed7953"
             ],
             [
              0.7777777777777778,
              "#fb9f3a"
             ],
             [
              0.8888888888888888,
              "#fdca26"
             ],
             [
              1,
              "#f0f921"
             ]
            ],
            "type": "histogram2dcontour"
           }
          ],
          "mesh3d": [
           {
            "colorbar": {
             "outlinewidth": 0,
             "ticks": ""
            },
            "type": "mesh3d"
           }
          ],
          "parcoords": [
           {
            "line": {
             "colorbar": {
              "outlinewidth": 0,
              "ticks": ""
             }
            },
            "type": "parcoords"
           }
          ],
          "pie": [
           {
            "automargin": true,
            "type": "pie"
           }
          ],
          "scatter": [
           {
            "marker": {
             "colorbar": {
              "outlinewidth": 0,
              "ticks": ""
             }
            },
            "type": "scatter"
           }
          ],
          "scatter3d": [
           {
            "line": {
             "colorbar": {
              "outlinewidth": 0,
              "ticks": ""
             }
            },
            "marker": {
             "colorbar": {
              "outlinewidth": 0,
              "ticks": ""
             }
            },
            "type": "scatter3d"
           }
          ],
          "scattercarpet": [
           {
            "marker": {
             "colorbar": {
              "outlinewidth": 0,
              "ticks": ""
             }
            },
            "type": "scattercarpet"
           }
          ],
          "scattergeo": [
           {
            "marker": {
             "colorbar": {
              "outlinewidth": 0,
              "ticks": ""
             }
            },
            "type": "scattergeo"
           }
          ],
          "scattergl": [
           {
            "marker": {
             "colorbar": {
              "outlinewidth": 0,
              "ticks": ""
             }
            },
            "type": "scattergl"
           }
          ],
          "scattermapbox": [
           {
            "marker": {
             "colorbar": {
              "outlinewidth": 0,
              "ticks": ""
             }
            },
            "type": "scattermapbox"
           }
          ],
          "scatterpolar": [
           {
            "marker": {
             "colorbar": {
              "outlinewidth": 0,
              "ticks": ""
             }
            },
            "type": "scatterpolar"
           }
          ],
          "scatterpolargl": [
           {
            "marker": {
             "colorbar": {
              "outlinewidth": 0,
              "ticks": ""
             }
            },
            "type": "scatterpolargl"
           }
          ],
          "scatterternary": [
           {
            "marker": {
             "colorbar": {
              "outlinewidth": 0,
              "ticks": ""
             }
            },
            "type": "scatterternary"
           }
          ],
          "surface": [
           {
            "colorbar": {
             "outlinewidth": 0,
             "ticks": ""
            },
            "colorscale": [
             [
              0,
              "#0d0887"
             ],
             [
              0.1111111111111111,
              "#46039f"
             ],
             [
              0.2222222222222222,
              "#7201a8"
             ],
             [
              0.3333333333333333,
              "#9c179e"
             ],
             [
              0.4444444444444444,
              "#bd3786"
             ],
             [
              0.5555555555555556,
              "#d8576b"
             ],
             [
              0.6666666666666666,
              "#ed7953"
             ],
             [
              0.7777777777777778,
              "#fb9f3a"
             ],
             [
              0.8888888888888888,
              "#fdca26"
             ],
             [
              1,
              "#f0f921"
             ]
            ],
            "type": "surface"
           }
          ],
          "table": [
           {
            "cells": {
             "fill": {
              "color": "#EBF0F8"
             },
             "line": {
              "color": "white"
             }
            },
            "header": {
             "fill": {
              "color": "#C8D4E3"
             },
             "line": {
              "color": "white"
             }
            },
            "type": "table"
           }
          ]
         },
         "layout": {
          "annotationdefaults": {
           "arrowcolor": "#2a3f5f",
           "arrowhead": 0,
           "arrowwidth": 1
          },
          "autotypenumbers": "strict",
          "coloraxis": {
           "colorbar": {
            "outlinewidth": 0,
            "ticks": ""
           }
          },
          "colorscale": {
           "diverging": [
            [
             0,
             "#8e0152"
            ],
            [
             0.1,
             "#c51b7d"
            ],
            [
             0.2,
             "#de77ae"
            ],
            [
             0.3,
             "#f1b6da"
            ],
            [
             0.4,
             "#fde0ef"
            ],
            [
             0.5,
             "#f7f7f7"
            ],
            [
             0.6,
             "#e6f5d0"
            ],
            [
             0.7,
             "#b8e186"
            ],
            [
             0.8,
             "#7fbc41"
            ],
            [
             0.9,
             "#4d9221"
            ],
            [
             1,
             "#276419"
            ]
           ],
           "sequential": [
            [
             0,
             "#0d0887"
            ],
            [
             0.1111111111111111,
             "#46039f"
            ],
            [
             0.2222222222222222,
             "#7201a8"
            ],
            [
             0.3333333333333333,
             "#9c179e"
            ],
            [
             0.4444444444444444,
             "#bd3786"
            ],
            [
             0.5555555555555556,
             "#d8576b"
            ],
            [
             0.6666666666666666,
             "#ed7953"
            ],
            [
             0.7777777777777778,
             "#fb9f3a"
            ],
            [
             0.8888888888888888,
             "#fdca26"
            ],
            [
             1,
             "#f0f921"
            ]
           ],
           "sequentialminus": [
            [
             0,
             "#0d0887"
            ],
            [
             0.1111111111111111,
             "#46039f"
            ],
            [
             0.2222222222222222,
             "#7201a8"
            ],
            [
             0.3333333333333333,
             "#9c179e"
            ],
            [
             0.4444444444444444,
             "#bd3786"
            ],
            [
             0.5555555555555556,
             "#d8576b"
            ],
            [
             0.6666666666666666,
             "#ed7953"
            ],
            [
             0.7777777777777778,
             "#fb9f3a"
            ],
            [
             0.8888888888888888,
             "#fdca26"
            ],
            [
             1,
             "#f0f921"
            ]
           ]
          },
          "colorway": [
           "#636efa",
           "#EF553B",
           "#00cc96",
           "#ab63fa",
           "#FFA15A",
           "#19d3f3",
           "#FF6692",
           "#B6E880",
           "#FF97FF",
           "#FECB52"
          ],
          "font": {
           "color": "#2a3f5f"
          },
          "geo": {
           "bgcolor": "white",
           "lakecolor": "white",
           "landcolor": "#E5ECF6",
           "showlakes": true,
           "showland": true,
           "subunitcolor": "white"
          },
          "hoverlabel": {
           "align": "left"
          },
          "hovermode": "closest",
          "mapbox": {
           "style": "light"
          },
          "paper_bgcolor": "white",
          "plot_bgcolor": "#E5ECF6",
          "polar": {
           "angularaxis": {
            "gridcolor": "white",
            "linecolor": "white",
            "ticks": ""
           },
           "bgcolor": "#E5ECF6",
           "radialaxis": {
            "gridcolor": "white",
            "linecolor": "white",
            "ticks": ""
           }
          },
          "scene": {
           "xaxis": {
            "backgroundcolor": "#E5ECF6",
            "gridcolor": "white",
            "gridwidth": 2,
            "linecolor": "white",
            "showbackground": true,
            "ticks": "",
            "zerolinecolor": "white"
           },
           "yaxis": {
            "backgroundcolor": "#E5ECF6",
            "gridcolor": "white",
            "gridwidth": 2,
            "linecolor": "white",
            "showbackground": true,
            "ticks": "",
            "zerolinecolor": "white"
           },
           "zaxis": {
            "backgroundcolor": "#E5ECF6",
            "gridcolor": "white",
            "gridwidth": 2,
            "linecolor": "white",
            "showbackground": true,
            "ticks": "",
            "zerolinecolor": "white"
           }
          },
          "shapedefaults": {
           "line": {
            "color": "#2a3f5f"
           }
          },
          "ternary": {
           "aaxis": {
            "gridcolor": "white",
            "linecolor": "white",
            "ticks": ""
           },
           "baxis": {
            "gridcolor": "white",
            "linecolor": "white",
            "ticks": ""
           },
           "bgcolor": "#E5ECF6",
           "caxis": {
            "gridcolor": "white",
            "linecolor": "white",
            "ticks": ""
           }
          },
          "title": {
           "x": 0.05
          },
          "xaxis": {
           "automargin": true,
           "gridcolor": "white",
           "linecolor": "white",
           "ticks": "",
           "title": {
            "standoff": 15
           },
           "zerolinecolor": "white",
           "zerolinewidth": 2
          },
          "yaxis": {
           "automargin": true,
           "gridcolor": "white",
           "linecolor": "white",
           "ticks": "",
           "title": {
            "standoff": 15
           },
           "zerolinecolor": "white",
           "zerolinewidth": 2
          }
         }
        },
        "title": {
         "text": "Variation of Stock Values"
        },
        "xaxis": {
         "title": {
          "text": "Date"
         }
        },
        "yaxis": {
         "title": {
          "text": "Stock Value"
         }
        }
       }
      },
      "text/html": [
       "<div>                            <div id=\"ae315c97-ebed-40f1-8868-3ac21580d3a5\" class=\"plotly-graph-div\" style=\"height:525px; width:100%;\"></div>            <script type=\"text/javascript\">                require([\"plotly\"], function(Plotly) {                    window.PLOTLYENV=window.PLOTLYENV || {};                                    if (document.getElementById(\"ae315c97-ebed-40f1-8868-3ac21580d3a5\")) {                    Plotly.newPlot(                        \"ae315c97-ebed-40f1-8868-3ac21580d3a5\",                        [{\"line\": {\"color\": \"rgb(255, 0, 0)\", \"width\": 5}, \"name\": \"ADBE stock value\", \"type\": \"scatter\", \"x\": [\"01/03/2017\", \"12/01/2016\", \"11/01/2016\", \"10/03/2016\", \"09/01/2016\", \"08/01/2016\"], \"y\": [113.82, 102.949997, 102.809998, 107.510002, 108.540001, 102.309998]}, {\"line\": {\"color\": \"rgb(0, 0, 128)\", \"dash\": \"dot\", \"width\": 5}, \"name\": \"cvx stock value\", \"type\": \"scatter\", \"x\": [\"01/03/2017\", \"12/01/2016\", \"11/01/2016\", \"10/03/2016\", \"09/01/2016\", \"08/01/2016\"], \"y\": [110.759811, 116.584061, 110.502274, 102.728424, 100.933739, 98.638901]}, {\"line\": {\"color\": \"rgb(0, 128, 0)\", \"dash\": \"dash\", \"width\": 5}, \"name\": \"MDLZ stock value\", \"type\": \"scatter\", \"x\": [\"01/03/2017\", \"12/01/2016\", \"11/01/2016\", \"10/03/2016\", \"09/01/2016\", \"08/01/2016\"], \"y\": [44.43, 44.330002, 41.066032, 44.75042, 43.714809, 44.632732]}],                        {\"template\": {\"data\": {\"bar\": [{\"error_x\": {\"color\": \"#2a3f5f\"}, \"error_y\": {\"color\": \"#2a3f5f\"}, \"marker\": {\"line\": {\"color\": \"#E5ECF6\", \"width\": 0.5}}, \"type\": \"bar\"}], \"barpolar\": [{\"marker\": {\"line\": {\"color\": \"#E5ECF6\", \"width\": 0.5}}, \"type\": \"barpolar\"}], \"carpet\": [{\"aaxis\": {\"endlinecolor\": \"#2a3f5f\", \"gridcolor\": \"white\", \"linecolor\": \"white\", \"minorgridcolor\": \"white\", \"startlinecolor\": \"#2a3f5f\"}, \"baxis\": {\"endlinecolor\": \"#2a3f5f\", \"gridcolor\": \"white\", \"linecolor\": \"white\", \"minorgridcolor\": \"white\", \"startlinecolor\": \"#2a3f5f\"}, \"type\": \"carpet\"}], \"choropleth\": [{\"colorbar\": {\"outlinewidth\": 0, \"ticks\": \"\"}, \"type\": \"choropleth\"}], \"contour\": [{\"colorbar\": {\"outlinewidth\": 0, \"ticks\": \"\"}, \"colorscale\": [[0.0, \"#0d0887\"], [0.1111111111111111, \"#46039f\"], [0.2222222222222222, \"#7201a8\"], [0.3333333333333333, \"#9c179e\"], [0.4444444444444444, \"#bd3786\"], [0.5555555555555556, \"#d8576b\"], [0.6666666666666666, \"#ed7953\"], [0.7777777777777778, \"#fb9f3a\"], [0.8888888888888888, \"#fdca26\"], [1.0, \"#f0f921\"]], \"type\": \"contour\"}], \"contourcarpet\": [{\"colorbar\": {\"outlinewidth\": 0, \"ticks\": \"\"}, \"type\": \"contourcarpet\"}], \"heatmap\": [{\"colorbar\": {\"outlinewidth\": 0, \"ticks\": \"\"}, \"colorscale\": [[0.0, \"#0d0887\"], [0.1111111111111111, \"#46039f\"], [0.2222222222222222, \"#7201a8\"], [0.3333333333333333, \"#9c179e\"], [0.4444444444444444, \"#bd3786\"], [0.5555555555555556, \"#d8576b\"], [0.6666666666666666, \"#ed7953\"], [0.7777777777777778, \"#fb9f3a\"], [0.8888888888888888, \"#fdca26\"], [1.0, \"#f0f921\"]], \"type\": \"heatmap\"}], \"heatmapgl\": [{\"colorbar\": {\"outlinewidth\": 0, \"ticks\": \"\"}, \"colorscale\": [[0.0, \"#0d0887\"], [0.1111111111111111, \"#46039f\"], [0.2222222222222222, \"#7201a8\"], [0.3333333333333333, \"#9c179e\"], [0.4444444444444444, \"#bd3786\"], [0.5555555555555556, \"#d8576b\"], [0.6666666666666666, \"#ed7953\"], [0.7777777777777778, \"#fb9f3a\"], [0.8888888888888888, \"#fdca26\"], [1.0, \"#f0f921\"]], \"type\": \"heatmapgl\"}], \"histogram\": [{\"marker\": {\"colorbar\": {\"outlinewidth\": 0, \"ticks\": \"\"}}, \"type\": \"histogram\"}], \"histogram2d\": [{\"colorbar\": {\"outlinewidth\": 0, \"ticks\": \"\"}, \"colorscale\": [[0.0, \"#0d0887\"], [0.1111111111111111, \"#46039f\"], [0.2222222222222222, \"#7201a8\"], [0.3333333333333333, \"#9c179e\"], [0.4444444444444444, \"#bd3786\"], [0.5555555555555556, \"#d8576b\"], [0.6666666666666666, \"#ed7953\"], [0.7777777777777778, \"#fb9f3a\"], [0.8888888888888888, \"#fdca26\"], [1.0, \"#f0f921\"]], \"type\": \"histogram2d\"}], \"histogram2dcontour\": [{\"colorbar\": {\"outlinewidth\": 0, \"ticks\": \"\"}, \"colorscale\": [[0.0, \"#0d0887\"], [0.1111111111111111, \"#46039f\"], [0.2222222222222222, \"#7201a8\"], [0.3333333333333333, \"#9c179e\"], [0.4444444444444444, \"#bd3786\"], [0.5555555555555556, \"#d8576b\"], [0.6666666666666666, \"#ed7953\"], [0.7777777777777778, \"#fb9f3a\"], [0.8888888888888888, \"#fdca26\"], [1.0, \"#f0f921\"]], \"type\": \"histogram2dcontour\"}], \"mesh3d\": [{\"colorbar\": {\"outlinewidth\": 0, \"ticks\": \"\"}, \"type\": \"mesh3d\"}], \"parcoords\": [{\"line\": {\"colorbar\": {\"outlinewidth\": 0, \"ticks\": \"\"}}, \"type\": \"parcoords\"}], \"pie\": [{\"automargin\": true, \"type\": \"pie\"}], \"scatter\": [{\"marker\": {\"colorbar\": {\"outlinewidth\": 0, \"ticks\": \"\"}}, \"type\": \"scatter\"}], \"scatter3d\": [{\"line\": {\"colorbar\": {\"outlinewidth\": 0, \"ticks\": \"\"}}, \"marker\": {\"colorbar\": {\"outlinewidth\": 0, \"ticks\": \"\"}}, \"type\": \"scatter3d\"}], \"scattercarpet\": [{\"marker\": {\"colorbar\": {\"outlinewidth\": 0, \"ticks\": \"\"}}, \"type\": \"scattercarpet\"}], \"scattergeo\": [{\"marker\": {\"colorbar\": {\"outlinewidth\": 0, \"ticks\": \"\"}}, \"type\": \"scattergeo\"}], \"scattergl\": [{\"marker\": {\"colorbar\": {\"outlinewidth\": 0, \"ticks\": \"\"}}, \"type\": \"scattergl\"}], \"scattermapbox\": [{\"marker\": {\"colorbar\": {\"outlinewidth\": 0, \"ticks\": \"\"}}, \"type\": \"scattermapbox\"}], \"scatterpolar\": [{\"marker\": {\"colorbar\": {\"outlinewidth\": 0, \"ticks\": \"\"}}, \"type\": \"scatterpolar\"}], \"scatterpolargl\": [{\"marker\": {\"colorbar\": {\"outlinewidth\": 0, \"ticks\": \"\"}}, \"type\": \"scatterpolargl\"}], \"scatterternary\": [{\"marker\": {\"colorbar\": {\"outlinewidth\": 0, \"ticks\": \"\"}}, \"type\": \"scatterternary\"}], \"surface\": [{\"colorbar\": {\"outlinewidth\": 0, \"ticks\": \"\"}, \"colorscale\": [[0.0, \"#0d0887\"], [0.1111111111111111, \"#46039f\"], [0.2222222222222222, \"#7201a8\"], [0.3333333333333333, \"#9c179e\"], [0.4444444444444444, \"#bd3786\"], [0.5555555555555556, \"#d8576b\"], [0.6666666666666666, \"#ed7953\"], [0.7777777777777778, \"#fb9f3a\"], [0.8888888888888888, \"#fdca26\"], [1.0, \"#f0f921\"]], \"type\": \"surface\"}], \"table\": [{\"cells\": {\"fill\": {\"color\": \"#EBF0F8\"}, \"line\": {\"color\": \"white\"}}, \"header\": {\"fill\": {\"color\": \"#C8D4E3\"}, \"line\": {\"color\": \"white\"}}, \"type\": \"table\"}]}, \"layout\": {\"annotationdefaults\": {\"arrowcolor\": \"#2a3f5f\", \"arrowhead\": 0, \"arrowwidth\": 1}, \"autotypenumbers\": \"strict\", \"coloraxis\": {\"colorbar\": {\"outlinewidth\": 0, \"ticks\": \"\"}}, \"colorscale\": {\"diverging\": [[0, \"#8e0152\"], [0.1, \"#c51b7d\"], [0.2, \"#de77ae\"], [0.3, \"#f1b6da\"], [0.4, \"#fde0ef\"], [0.5, \"#f7f7f7\"], [0.6, \"#e6f5d0\"], [0.7, \"#b8e186\"], [0.8, \"#7fbc41\"], [0.9, \"#4d9221\"], [1, \"#276419\"]], \"sequential\": [[0.0, \"#0d0887\"], [0.1111111111111111, \"#46039f\"], [0.2222222222222222, \"#7201a8\"], [0.3333333333333333, \"#9c179e\"], [0.4444444444444444, \"#bd3786\"], [0.5555555555555556, \"#d8576b\"], [0.6666666666666666, \"#ed7953\"], [0.7777777777777778, \"#fb9f3a\"], [0.8888888888888888, \"#fdca26\"], [1.0, \"#f0f921\"]], \"sequentialminus\": [[0.0, \"#0d0887\"], [0.1111111111111111, \"#46039f\"], [0.2222222222222222, \"#7201a8\"], [0.3333333333333333, \"#9c179e\"], [0.4444444444444444, \"#bd3786\"], [0.5555555555555556, \"#d8576b\"], [0.6666666666666666, \"#ed7953\"], [0.7777777777777778, \"#fb9f3a\"], [0.8888888888888888, \"#fdca26\"], [1.0, \"#f0f921\"]]}, \"colorway\": [\"#636efa\", \"#EF553B\", \"#00cc96\", \"#ab63fa\", \"#FFA15A\", \"#19d3f3\", \"#FF6692\", \"#B6E880\", \"#FF97FF\", \"#FECB52\"], \"font\": {\"color\": \"#2a3f5f\"}, \"geo\": {\"bgcolor\": \"white\", \"lakecolor\": \"white\", \"landcolor\": \"#E5ECF6\", \"showlakes\": true, \"showland\": true, \"subunitcolor\": \"white\"}, \"hoverlabel\": {\"align\": \"left\"}, \"hovermode\": \"closest\", \"mapbox\": {\"style\": \"light\"}, \"paper_bgcolor\": \"white\", \"plot_bgcolor\": \"#E5ECF6\", \"polar\": {\"angularaxis\": {\"gridcolor\": \"white\", \"linecolor\": \"white\", \"ticks\": \"\"}, \"bgcolor\": \"#E5ECF6\", \"radialaxis\": {\"gridcolor\": \"white\", \"linecolor\": \"white\", \"ticks\": \"\"}}, \"scene\": {\"xaxis\": {\"backgroundcolor\": \"#E5ECF6\", \"gridcolor\": \"white\", \"gridwidth\": 2, \"linecolor\": \"white\", \"showbackground\": true, \"ticks\": \"\", \"zerolinecolor\": \"white\"}, \"yaxis\": {\"backgroundcolor\": \"#E5ECF6\", \"gridcolor\": \"white\", \"gridwidth\": 2, \"linecolor\": \"white\", \"showbackground\": true, \"ticks\": \"\", \"zerolinecolor\": \"white\"}, \"zaxis\": {\"backgroundcolor\": \"#E5ECF6\", \"gridcolor\": \"white\", \"gridwidth\": 2, \"linecolor\": \"white\", \"showbackground\": true, \"ticks\": \"\", \"zerolinecolor\": \"white\"}}, \"shapedefaults\": {\"line\": {\"color\": \"#2a3f5f\"}}, \"ternary\": {\"aaxis\": {\"gridcolor\": \"white\", \"linecolor\": \"white\", \"ticks\": \"\"}, \"baxis\": {\"gridcolor\": \"white\", \"linecolor\": \"white\", \"ticks\": \"\"}, \"bgcolor\": \"#E5ECF6\", \"caxis\": {\"gridcolor\": \"white\", \"linecolor\": \"white\", \"ticks\": \"\"}}, \"title\": {\"x\": 0.05}, \"xaxis\": {\"automargin\": true, \"gridcolor\": \"white\", \"linecolor\": \"white\", \"ticks\": \"\", \"title\": {\"standoff\": 15}, \"zerolinecolor\": \"white\", \"zerolinewidth\": 2}, \"yaxis\": {\"automargin\": true, \"gridcolor\": \"white\", \"linecolor\": \"white\", \"ticks\": \"\", \"title\": {\"standoff\": 15}, \"zerolinecolor\": \"white\", \"zerolinewidth\": 2}}}, \"title\": {\"text\": \"Variation of Stock Values\"}, \"xaxis\": {\"title\": {\"text\": \"Date\"}}, \"yaxis\": {\"title\": {\"text\": \"Stock Value\"}}},                        {\"responsive\": true}                    ).then(function(){\n",
       "                            \n",
       "var gd = document.getElementById('ae315c97-ebed-40f1-8868-3ac21580d3a5');\n",
       "var x = new MutationObserver(function (mutations, observer) {{\n",
       "        var display = window.getComputedStyle(gd).display;\n",
       "        if (!display || display === 'none') {{\n",
       "            console.log([gd, 'removed!']);\n",
       "            Plotly.purge(gd);\n",
       "            observer.disconnect();\n",
       "        }}\n",
       "}});\n",
       "\n",
       "// Listen for the removal of the full notebook cells\n",
       "var notebookContainer = gd.closest('#notebook-container');\n",
       "if (notebookContainer) {{\n",
       "    x.observe(notebookContainer, {childList: true});\n",
       "}}\n",
       "\n",
       "// Listen for the clearing of the current output cell\n",
       "var outputEl = gd.closest('.output');\n",
       "if (outputEl) {{\n",
       "    x.observe(outputEl, {childList: true});\n",
       "}}\n",
       "\n",
       "                        })                };                });            </script>        </div>"
      ]
     },
     "metadata": {},
     "output_type": "display_data"
    }
   ],
   "source": [
    "fig = dict(data = data_stock, layout = layout_stock)\n",
    "\n",
    "offline.iplot(fig)"
   ]
  },
  {
   "cell_type": "markdown",
   "metadata": {},
   "source": [
    "**Connect Data Gaps**\n",
    "\n",
    "Plotly can handle cases where the series to be plotted has missing data. It does so by connecting the points on either side of the missing data points.\n",
    "\n",
    "To see this in action, we introduce missing data into our data set. Assume the stock value of three companies for the date 2016-11-01 be unavailable for some reason."
   ]
  },
  {
   "cell_type": "code",
   "execution_count": 8,
   "metadata": {
    "ExecuteTime": {
     "end_time": "2021-03-14T01:20:23.740551Z",
     "start_time": "2021-03-14T01:20:23.718447Z"
    }
   },
   "outputs": [
    {
     "data": {
      "text/html": [
       "<div>\n",
       "<style scoped>\n",
       "    .dataframe tbody tr th:only-of-type {\n",
       "        vertical-align: middle;\n",
       "    }\n",
       "\n",
       "    .dataframe tbody tr th {\n",
       "        vertical-align: top;\n",
       "    }\n",
       "\n",
       "    .dataframe thead th {\n",
       "        text-align: right;\n",
       "    }\n",
       "</style>\n",
       "<table border=\"1\" class=\"dataframe\">\n",
       "  <thead>\n",
       "    <tr style=\"text-align: right;\">\n",
       "      <th></th>\n",
       "      <th>Unnamed: 0</th>\n",
       "      <th>Date</th>\n",
       "      <th>ADBE</th>\n",
       "      <th>CVX</th>\n",
       "      <th>MDLZ</th>\n",
       "      <th>NFLX</th>\n",
       "      <th>ORCL</th>\n",
       "      <th>SBUX</th>\n",
       "    </tr>\n",
       "  </thead>\n",
       "  <tbody>\n",
       "    <tr>\n",
       "      <th>0</th>\n",
       "      <td>0</td>\n",
       "      <td>01/03/2017</td>\n",
       "      <td>113.820000</td>\n",
       "      <td>110.759811</td>\n",
       "      <td>44.430000</td>\n",
       "      <td>141.220001</td>\n",
       "      <td>40.230000</td>\n",
       "      <td>55.649239</td>\n",
       "    </tr>\n",
       "    <tr>\n",
       "      <th>1</th>\n",
       "      <td>1</td>\n",
       "      <td>12/01/2016</td>\n",
       "      <td>102.949997</td>\n",
       "      <td>116.584061</td>\n",
       "      <td>44.330002</td>\n",
       "      <td>123.800003</td>\n",
       "      <td>38.299999</td>\n",
       "      <td>55.270943</td>\n",
       "    </tr>\n",
       "    <tr>\n",
       "      <th>2</th>\n",
       "      <td>2</td>\n",
       "      <td>11/01/2016</td>\n",
       "      <td>NaN</td>\n",
       "      <td>NaN</td>\n",
       "      <td>NaN</td>\n",
       "      <td>117.000000</td>\n",
       "      <td>40.033211</td>\n",
       "      <td>57.709953</td>\n",
       "    </tr>\n",
       "    <tr>\n",
       "      <th>3</th>\n",
       "      <td>3</td>\n",
       "      <td>10/03/2016</td>\n",
       "      <td>107.510002</td>\n",
       "      <td>102.728424</td>\n",
       "      <td>44.750420</td>\n",
       "      <td>124.870003</td>\n",
       "      <td>38.270115</td>\n",
       "      <td>52.588333</td>\n",
       "    </tr>\n",
       "    <tr>\n",
       "      <th>4</th>\n",
       "      <td>4</td>\n",
       "      <td>09/01/2016</td>\n",
       "      <td>108.540001</td>\n",
       "      <td>100.933739</td>\n",
       "      <td>43.714809</td>\n",
       "      <td>98.550003</td>\n",
       "      <td>38.975769</td>\n",
       "      <td>53.648621</td>\n",
       "    </tr>\n",
       "    <tr>\n",
       "      <th>5</th>\n",
       "      <td>5</td>\n",
       "      <td>08/01/2016</td>\n",
       "      <td>102.309998</td>\n",
       "      <td>98.638901</td>\n",
       "      <td>44.632732</td>\n",
       "      <td>97.449997</td>\n",
       "      <td>40.900745</td>\n",
       "      <td>55.719654</td>\n",
       "    </tr>\n",
       "  </tbody>\n",
       "</table>\n",
       "</div>"
      ],
      "text/plain": [
       "   Unnamed: 0        Date        ADBE         CVX       MDLZ        NFLX  \\\n",
       "0           0  01/03/2017  113.820000  110.759811  44.430000  141.220001   \n",
       "1           1  12/01/2016  102.949997  116.584061  44.330002  123.800003   \n",
       "2           2  11/01/2016         NaN         NaN        NaN  117.000000   \n",
       "3           3  10/03/2016  107.510002  102.728424  44.750420  124.870003   \n",
       "4           4  09/01/2016  108.540001  100.933739  43.714809   98.550003   \n",
       "5           5  08/01/2016  102.309998   98.638901  44.632732   97.449997   \n",
       "\n",
       "        ORCL       SBUX  \n",
       "0  40.230000  55.649239  \n",
       "1  38.299999  55.270943  \n",
       "2  40.033211  57.709953  \n",
       "3  38.270115  52.588333  \n",
       "4  38.975769  53.648621  \n",
       "5  40.900745  55.719654  "
      ]
     },
     "execution_count": 8,
     "metadata": {},
     "output_type": "execute_result"
    }
   ],
   "source": [
    "stock_new['ADBE'].iat[2] = None\n",
    "stock_new['CVX'].iat[2] = None\n",
    "stock_new['MDLZ'].iat[2] = None\n",
    "\n",
    "stock_new"
   ]
  },
  {
   "cell_type": "markdown",
   "metadata": {},
   "source": [
    "**For the first trace, we fill in the gap**\n",
    "\n",
    "By setting the connectgaps attribute to True, the line will remain continuous"
   ]
  },
  {
   "cell_type": "code",
   "execution_count": 9,
   "metadata": {},
   "outputs": [],
   "source": [
    "trace0 = go.Scatter(\n",
    "    \n",
    "    x = stock_new['Date'],\n",
    "    y = stock_new['ADBE'],\n",
    "    \n",
    "    name = 'ADBE stock vale',\n",
    "    \n",
    "    line = dict(color = ('rgb(255, 0, 0)'),\n",
    "                width = 5),\n",
    "    \n",
    "    connectgaps = True\n",
    ")"
   ]
  },
  {
   "cell_type": "markdown",
   "metadata": {},
   "source": [
    "**For the second trace, we don't fill the gap**\n",
    "\n",
    "We explicitly set connectgaps to False. This will result in a gap in the line"
   ]
  },
  {
   "cell_type": "code",
   "execution_count": 10,
   "metadata": {},
   "outputs": [],
   "source": [
    "trace1 = go.Scatter(\n",
    "    \n",
    "    x = stock_new['Date'],\n",
    "    y = stock_new['CVX'],\n",
    "    \n",
    "    name = 'CVX stock value',\n",
    "    \n",
    "    line = dict(color = ('rgb(0, 0, 128)'),\n",
    "                width = 5,\n",
    "                dash='dot'),\n",
    "    \n",
    "    connectgaps = False\n",
    ")"
   ]
  },
  {
   "cell_type": "markdown",
   "metadata": {},
   "source": [
    "**For the third trace, we don't specify the value explicitly**\n",
    "\n",
    "The default value of connectgaps is False, so the line is disconnected"
   ]
  },
  {
   "cell_type": "code",
   "execution_count": 11,
   "metadata": {},
   "outputs": [],
   "source": [
    "trace2 = go.Scatter(\n",
    "    \n",
    "    x = stock_new['Date'],\n",
    "    y = stock_new['MDLZ'],\n",
    "    \n",
    "    name = 'MDLZ stock value',\n",
    "    \n",
    "    line = dict(color = ('rgb(0, 128, 0)'),\n",
    "                width = 5,\n",
    "                dash = 'dash')\n",
    ")"
   ]
  },
  {
   "cell_type": "code",
   "execution_count": 12,
   "metadata": {},
   "outputs": [],
   "source": [
    "data_stock = [trace0, trace1, trace2]\n",
    "\n",
    "layout_stock = dict(title = 'Variation of Stock Values',\n",
    "              xaxis = dict(title = 'Date'),\n",
    "              yaxis = dict(title = 'Stock Value'),\n",
    "              )"
   ]
  },
  {
   "cell_type": "code",
   "execution_count": 13,
   "metadata": {},
   "outputs": [
    {
     "data": {
      "application/vnd.plotly.v1+json": {
       "data": [
        {
         "connectgaps": true,
         "line": {
          "color": "rgb(255, 0, 0)",
          "width": 5
         },
         "name": "ADBE stock vale",
         "type": "scatter",
         "uid": "1ff57890-9af8-11e8-9fc0-6030d4660e22",
         "x": [
          "01/03/2017",
          "12/01/2016",
          "11/01/2016",
          "10/03/2016",
          "09/01/2016",
          "08/01/2016"
         ],
         "y": [
          113.82,
          102.949997,
          null,
          107.510002,
          108.540001,
          102.309998
         ]
        },
        {
         "connectgaps": false,
         "line": {
          "color": "rgb(0, 0, 128)",
          "dash": "dot",
          "width": 5
         },
         "name": "CVX stock value",
         "type": "scatter",
         "uid": "1ff57b74-9af8-11e8-85e7-6030d4660e22",
         "x": [
          "01/03/2017",
          "12/01/2016",
          "11/01/2016",
          "10/03/2016",
          "09/01/2016",
          "08/01/2016"
         ],
         "y": [
          110.759811,
          116.584061,
          null,
          102.728424,
          100.933739,
          98.638901
         ]
        },
        {
         "line": {
          "color": "rgb(0, 128, 0)",
          "dash": "dash",
          "width": 5
         },
         "name": "MDLZ stock value",
         "type": "scatter",
         "uid": "1ff57d18-9af8-11e8-b54a-6030d4660e22",
         "x": [
          "01/03/2017",
          "12/01/2016",
          "11/01/2016",
          "10/03/2016",
          "09/01/2016",
          "08/01/2016"
         ],
         "y": [
          44.43,
          44.330002,
          null,
          44.75042,
          43.714809,
          44.632732
         ]
        }
       ],
       "layout": {
        "title": "Variation of Stock Values",
        "xaxis": {
         "title": "Date"
        },
        "yaxis": {
         "title": "Stock Value"
        }
       }
      },
      "text/html": [
       "<div id=\"b9ee37b8-ed90-40b2-a741-026a5ff79d21\" style=\"height: 525px; width: 100%;\" class=\"plotly-graph-div\"></div><script type=\"text/javascript\">require([\"plotly\"], function(Plotly) { window.PLOTLYENV=window.PLOTLYENV || {};window.PLOTLYENV.BASE_URL=\"https://plot.ly\";Plotly.newPlot(\"b9ee37b8-ed90-40b2-a741-026a5ff79d21\", [{\"connectgaps\": true, \"line\": {\"color\": \"rgb(255, 0, 0)\", \"width\": 5}, \"name\": \"ADBE stock vale\", \"x\": [\"01/03/2017\", \"12/01/2016\", \"11/01/2016\", \"10/03/2016\", \"09/01/2016\", \"08/01/2016\"], \"y\": [113.82, 102.949997, null, 107.510002, 108.540001, 102.309998], \"type\": \"scatter\", \"uid\": \"1ffc8b08-9af8-11e8-a1ec-6030d4660e22\"}, {\"connectgaps\": false, \"line\": {\"color\": \"rgb(0, 0, 128)\", \"dash\": \"dot\", \"width\": 5}, \"name\": \"CVX stock value\", \"x\": [\"01/03/2017\", \"12/01/2016\", \"11/01/2016\", \"10/03/2016\", \"09/01/2016\", \"08/01/2016\"], \"y\": [110.759811, 116.584061, null, 102.728424, 100.933739, 98.638901], \"type\": \"scatter\", \"uid\": \"1ffc8ca2-9af8-11e8-8d2d-6030d4660e22\"}, {\"line\": {\"color\": \"rgb(0, 128, 0)\", \"dash\": \"dash\", \"width\": 5}, \"name\": \"MDLZ stock value\", \"x\": [\"01/03/2017\", \"12/01/2016\", \"11/01/2016\", \"10/03/2016\", \"09/01/2016\", \"08/01/2016\"], \"y\": [44.43, 44.330002, null, 44.75042, 43.714809, 44.632732], \"type\": \"scatter\", \"uid\": \"1ffc8dec-9af8-11e8-b834-6030d4660e22\"}], {\"title\": \"Variation of Stock Values\", \"xaxis\": {\"title\": \"Date\"}, \"yaxis\": {\"title\": \"Stock Value\"}}, {\"showLink\": true, \"linkText\": \"Export to plot.ly\"})});</script>"
      ],
      "text/vnd.plotly.v1+html": [
       "<div id=\"b9ee37b8-ed90-40b2-a741-026a5ff79d21\" style=\"height: 525px; width: 100%;\" class=\"plotly-graph-div\"></div><script type=\"text/javascript\">require([\"plotly\"], function(Plotly) { window.PLOTLYENV=window.PLOTLYENV || {};window.PLOTLYENV.BASE_URL=\"https://plot.ly\";Plotly.newPlot(\"b9ee37b8-ed90-40b2-a741-026a5ff79d21\", [{\"connectgaps\": true, \"line\": {\"color\": \"rgb(255, 0, 0)\", \"width\": 5}, \"name\": \"ADBE stock vale\", \"x\": [\"01/03/2017\", \"12/01/2016\", \"11/01/2016\", \"10/03/2016\", \"09/01/2016\", \"08/01/2016\"], \"y\": [113.82, 102.949997, null, 107.510002, 108.540001, 102.309998], \"type\": \"scatter\", \"uid\": \"1ffc8b08-9af8-11e8-a1ec-6030d4660e22\"}, {\"connectgaps\": false, \"line\": {\"color\": \"rgb(0, 0, 128)\", \"dash\": \"dot\", \"width\": 5}, \"name\": \"CVX stock value\", \"x\": [\"01/03/2017\", \"12/01/2016\", \"11/01/2016\", \"10/03/2016\", \"09/01/2016\", \"08/01/2016\"], \"y\": [110.759811, 116.584061, null, 102.728424, 100.933739, 98.638901], \"type\": \"scatter\", \"uid\": \"1ffc8ca2-9af8-11e8-8d2d-6030d4660e22\"}, {\"line\": {\"color\": \"rgb(0, 128, 0)\", \"dash\": \"dash\", \"width\": 5}, \"name\": \"MDLZ stock value\", \"x\": [\"01/03/2017\", \"12/01/2016\", \"11/01/2016\", \"10/03/2016\", \"09/01/2016\", \"08/01/2016\"], \"y\": [44.43, 44.330002, null, 44.75042, 43.714809, 44.632732], \"type\": \"scatter\", \"uid\": \"1ffc8dec-9af8-11e8-b834-6030d4660e22\"}], {\"title\": \"Variation of Stock Values\", \"xaxis\": {\"title\": \"Date\"}, \"yaxis\": {\"title\": \"Stock Value\"}}, {\"showLink\": true, \"linkText\": \"Export to plot.ly\"})});</script>"
      ]
     },
     "metadata": {},
     "output_type": "display_data"
    }
   ],
   "source": [
    "fig = dict(data=data_stock, layout=layout_stock)\n",
    "\n",
    "offline.iplot(fig)"
   ]
  },
  {
   "cell_type": "markdown",
   "metadata": {},
   "source": [
    "**Plots with Annotations**\n",
    "\n",
    "Plotly allows different forms of annotations to be added to a plot. We create a list of annotations which is later added to the layout"
   ]
  },
  {
   "cell_type": "code",
   "execution_count": 14,
   "metadata": {},
   "outputs": [],
   "source": [
    "annotations = []"
   ]
  },
  {
   "cell_type": "markdown",
   "metadata": {},
   "source": [
    "**Annotation without an arrow**\n",
    "\n",
    "The attributes for an annotation include:\n",
    "\n",
    "* The x and y coordinates where the annotation will appear\n",
    "* the x and y anchor values which determine which part of the annotation will be anchored to the (x,y) coordinates\n",
    "* The annotation text\n",
    "* The font of the annotation text\n",
    "* showarrow determines whether an arrow is used to point to (x,y)\n",
    "\n",
    "This annotation marks the stock value for ADBE at the beginning of our series : 2017-01-03."
   ]
  },
  {
   "cell_type": "code",
   "execution_count": 15,
   "metadata": {},
   "outputs": [],
   "source": [
    "annotations.append(dict(x = stock_new['Date'][0], \n",
    "                        y = stock_new['ADBE'][0],\n",
    "                            \n",
    "                        xanchor='right', \n",
    "                        yanchor='middle',\n",
    "                            \n",
    "                        text = str(stock_new['ADBE'][0]) + 'M',\n",
    "                            \n",
    "                        font=dict(family = 'Arial',\n",
    "                                  size = 16,\n",
    "                                  color = 'grey'\n",
    "                                 ),\n",
    "                                  \n",
    "                        showarrow = False\n",
    "                       )\n",
    "                  )"
   ]
  },
  {
   "cell_type": "markdown",
   "metadata": {},
   "source": [
    "**The second annotation has an arrow**\n",
    "\n",
    "An arrow will be drawn from the xanchor,yanchor of the annotation text to the (x,y) point. We also have an arrowcolor."
   ]
  },
  {
   "cell_type": "code",
   "execution_count": 16,
   "metadata": {},
   "outputs": [],
   "source": [
    "annotations.append(dict(x = stock_new['Date'][5], \n",
    "                        y = stock_new['CVX'][5],\n",
    "                            \n",
    "                        xanchor='left', \n",
    "                        yanchor='bottom',\n",
    "                            \n",
    "                        text = str(stock_new['CVX'][5]) + 'M',\n",
    "                            \n",
    "                        font=dict(family = 'Arial',\n",
    "                                  size = 16,\n",
    "                                  color = 'grey'),\n",
    "                                  \n",
    "                        showarrow = True,\n",
    "                        arrowcolor = 'grey'\n",
    "                       )\n",
    "                  )"
   ]
  },
  {
   "cell_type": "markdown",
   "metadata": {},
   "source": [
    "**The Third annotation uses the yref attribute**\n",
    "\n",
    "By default, when we specify x and y values for the annotation, it is used to mark the (x,y) points using the units of the axis (stock value vs Date in our graph). When xref or yref is set to 'paper', the corresponding x or y coordinate is scaled to a value between 0 and 1.\n",
    "\n",
    "Here, we want the annotation to appear 90% of the way up in the plot.\n",
    "\n",
    "Each annotation also appears in a text box which is actually transparent. Here, we set a background color for the text box."
   ]
  },
  {
   "cell_type": "code",
   "execution_count": 17,
   "metadata": {},
   "outputs": [],
   "source": [
    "annotations.append(dict(yref='paper', \n",
    "                        \n",
    "                        x = '11/01/2016', \n",
    "                        y = 0.9,\n",
    "                        \n",
    "                        text = 'Data missing for day 11/01/2016',\n",
    "                        \n",
    "                        font=dict(family = 'Times New Roman',\n",
    "                                  size = 22,\n",
    "                                  color = 'white'), \n",
    "                        \n",
    "                        bgcolor = 'purple',\n",
    "                        \n",
    "                        showarrow = False\n",
    "                       )\n",
    "                  )"
   ]
  },
  {
   "cell_type": "markdown",
   "metadata": {},
   "source": [
    "**Add the annotations to our layout**"
   ]
  },
  {
   "cell_type": "code",
   "execution_count": 18,
   "metadata": {},
   "outputs": [],
   "source": [
    "layout_stock['annotations'] = annotations"
   ]
  },
  {
   "cell_type": "markdown",
   "metadata": {},
   "source": [
    "**Plot the figure with the data and layout with annotations**"
   ]
  },
  {
   "cell_type": "code",
   "execution_count": 19,
   "metadata": {},
   "outputs": [
    {
     "data": {
      "application/vnd.plotly.v1+json": {
       "data": [
        {
         "connectgaps": true,
         "line": {
          "color": "rgb(255, 0, 0)",
          "width": 5
         },
         "name": "ADBE stock vale",
         "type": "scatter",
         "uid": "200edcc2-9af8-11e8-969d-6030d4660e22",
         "x": [
          "01/03/2017",
          "12/01/2016",
          "11/01/2016",
          "10/03/2016",
          "09/01/2016",
          "08/01/2016"
         ],
         "y": [
          113.82,
          102.949997,
          null,
          107.510002,
          108.540001,
          102.309998
         ]
        },
        {
         "connectgaps": false,
         "line": {
          "color": "rgb(0, 0, 128)",
          "dash": "dot",
          "width": 5
         },
         "name": "CVX stock value",
         "type": "scatter",
         "uid": "200edf7e-9af8-11e8-b1fd-6030d4660e22",
         "x": [
          "01/03/2017",
          "12/01/2016",
          "11/01/2016",
          "10/03/2016",
          "09/01/2016",
          "08/01/2016"
         ],
         "y": [
          110.759811,
          116.584061,
          null,
          102.728424,
          100.933739,
          98.638901
         ]
        },
        {
         "line": {
          "color": "rgb(0, 128, 0)",
          "dash": "dash",
          "width": 5
         },
         "name": "MDLZ stock value",
         "type": "scatter",
         "uid": "200ee1d8-9af8-11e8-a53b-6030d4660e22",
         "x": [
          "01/03/2017",
          "12/01/2016",
          "11/01/2016",
          "10/03/2016",
          "09/01/2016",
          "08/01/2016"
         ],
         "y": [
          44.43,
          44.330002,
          null,
          44.75042,
          43.714809,
          44.632732
         ]
        }
       ],
       "layout": {
        "annotations": [
         {
          "font": {
           "color": "grey",
           "family": "Arial",
           "size": 16
          },
          "showarrow": false,
          "text": "113.82M",
          "x": "01/03/2017",
          "xanchor": "right",
          "y": 113.82,
          "yanchor": "middle"
         },
         {
          "arrowcolor": "grey",
          "font": {
           "color": "grey",
           "family": "Arial",
           "size": 16
          },
          "showarrow": true,
          "text": "98.638901M",
          "x": "08/01/2016",
          "xanchor": "left",
          "y": 98.638901,
          "yanchor": "bottom"
         },
         {
          "bgcolor": "purple",
          "font": {
           "color": "white",
           "family": "Times New Roman",
           "size": 22
          },
          "showarrow": false,
          "text": "Data missing for day 11/01/2016",
          "x": "11/01/2016",
          "y": 0.9,
          "yref": "paper"
         }
        ],
        "title": "Variation of Stock Values",
        "xaxis": {
         "title": "Date"
        },
        "yaxis": {
         "title": "Stock Value"
        }
       }
      },
      "text/html": [
       "<div id=\"10b209a8-b752-4b3c-9394-0c3a95935a4f\" style=\"height: 525px; width: 100%;\" class=\"plotly-graph-div\"></div><script type=\"text/javascript\">require([\"plotly\"], function(Plotly) { window.PLOTLYENV=window.PLOTLYENV || {};window.PLOTLYENV.BASE_URL=\"https://plot.ly\";Plotly.newPlot(\"10b209a8-b752-4b3c-9394-0c3a95935a4f\", [{\"connectgaps\": true, \"line\": {\"color\": \"rgb(255, 0, 0)\", \"width\": 5}, \"name\": \"ADBE stock vale\", \"x\": [\"01/03/2017\", \"12/01/2016\", \"11/01/2016\", \"10/03/2016\", \"09/01/2016\", \"08/01/2016\"], \"y\": [113.82, 102.949997, null, 107.510002, 108.540001, 102.309998], \"type\": \"scatter\", \"uid\": \"201950c6-9af8-11e8-96da-6030d4660e22\"}, {\"connectgaps\": false, \"line\": {\"color\": \"rgb(0, 0, 128)\", \"dash\": \"dot\", \"width\": 5}, \"name\": \"CVX stock value\", \"x\": [\"01/03/2017\", \"12/01/2016\", \"11/01/2016\", \"10/03/2016\", \"09/01/2016\", \"08/01/2016\"], \"y\": [110.759811, 116.584061, null, 102.728424, 100.933739, 98.638901], \"type\": \"scatter\", \"uid\": \"201952cc-9af8-11e8-bd16-6030d4660e22\"}, {\"line\": {\"color\": \"rgb(0, 128, 0)\", \"dash\": \"dash\", \"width\": 5}, \"name\": \"MDLZ stock value\", \"x\": [\"01/03/2017\", \"12/01/2016\", \"11/01/2016\", \"10/03/2016\", \"09/01/2016\", \"08/01/2016\"], \"y\": [44.43, 44.330002, null, 44.75042, 43.714809, 44.632732], \"type\": \"scatter\", \"uid\": \"201953dc-9af8-11e8-87a0-6030d4660e22\"}], {\"annotations\": [{\"font\": {\"color\": \"grey\", \"family\": \"Arial\", \"size\": 16}, \"showarrow\": false, \"text\": \"113.82M\", \"x\": \"01/03/2017\", \"xanchor\": \"right\", \"y\": 113.82, \"yanchor\": \"middle\"}, {\"arrowcolor\": \"grey\", \"font\": {\"color\": \"grey\", \"family\": \"Arial\", \"size\": 16}, \"showarrow\": true, \"text\": \"98.638901M\", \"x\": \"08/01/2016\", \"xanchor\": \"left\", \"y\": 98.638901, \"yanchor\": \"bottom\"}, {\"bgcolor\": \"purple\", \"font\": {\"color\": \"white\", \"family\": \"Times New Roman\", \"size\": 22}, \"showarrow\": false, \"text\": \"Data missing for day 11/01/2016\", \"x\": \"11/01/2016\", \"y\": 0.9, \"yref\": \"paper\"}], \"title\": \"Variation of Stock Values\", \"xaxis\": {\"title\": \"Date\"}, \"yaxis\": {\"title\": \"Stock Value\"}}, {\"showLink\": true, \"linkText\": \"Export to plot.ly\"})});</script>"
      ],
      "text/vnd.plotly.v1+html": [
       "<div id=\"10b209a8-b752-4b3c-9394-0c3a95935a4f\" style=\"height: 525px; width: 100%;\" class=\"plotly-graph-div\"></div><script type=\"text/javascript\">require([\"plotly\"], function(Plotly) { window.PLOTLYENV=window.PLOTLYENV || {};window.PLOTLYENV.BASE_URL=\"https://plot.ly\";Plotly.newPlot(\"10b209a8-b752-4b3c-9394-0c3a95935a4f\", [{\"connectgaps\": true, \"line\": {\"color\": \"rgb(255, 0, 0)\", \"width\": 5}, \"name\": \"ADBE stock vale\", \"x\": [\"01/03/2017\", \"12/01/2016\", \"11/01/2016\", \"10/03/2016\", \"09/01/2016\", \"08/01/2016\"], \"y\": [113.82, 102.949997, null, 107.510002, 108.540001, 102.309998], \"type\": \"scatter\", \"uid\": \"201950c6-9af8-11e8-96da-6030d4660e22\"}, {\"connectgaps\": false, \"line\": {\"color\": \"rgb(0, 0, 128)\", \"dash\": \"dot\", \"width\": 5}, \"name\": \"CVX stock value\", \"x\": [\"01/03/2017\", \"12/01/2016\", \"11/01/2016\", \"10/03/2016\", \"09/01/2016\", \"08/01/2016\"], \"y\": [110.759811, 116.584061, null, 102.728424, 100.933739, 98.638901], \"type\": \"scatter\", \"uid\": \"201952cc-9af8-11e8-bd16-6030d4660e22\"}, {\"line\": {\"color\": \"rgb(0, 128, 0)\", \"dash\": \"dash\", \"width\": 5}, \"name\": \"MDLZ stock value\", \"x\": [\"01/03/2017\", \"12/01/2016\", \"11/01/2016\", \"10/03/2016\", \"09/01/2016\", \"08/01/2016\"], \"y\": [44.43, 44.330002, null, 44.75042, 43.714809, 44.632732], \"type\": \"scatter\", \"uid\": \"201953dc-9af8-11e8-87a0-6030d4660e22\"}], {\"annotations\": [{\"font\": {\"color\": \"grey\", \"family\": \"Arial\", \"size\": 16}, \"showarrow\": false, \"text\": \"113.82M\", \"x\": \"01/03/2017\", \"xanchor\": \"right\", \"y\": 113.82, \"yanchor\": \"middle\"}, {\"arrowcolor\": \"grey\", \"font\": {\"color\": \"grey\", \"family\": \"Arial\", \"size\": 16}, \"showarrow\": true, \"text\": \"98.638901M\", \"x\": \"08/01/2016\", \"xanchor\": \"left\", \"y\": 98.638901, \"yanchor\": \"bottom\"}, {\"bgcolor\": \"purple\", \"font\": {\"color\": \"white\", \"family\": \"Times New Roman\", \"size\": 22}, \"showarrow\": false, \"text\": \"Data missing for day 11/01/2016\", \"x\": \"11/01/2016\", \"y\": 0.9, \"yref\": \"paper\"}], \"title\": \"Variation of Stock Values\", \"xaxis\": {\"title\": \"Date\"}, \"yaxis\": {\"title\": \"Stock Value\"}}, {\"showLink\": true, \"linkText\": \"Export to plot.ly\"})});</script>"
      ]
     },
     "metadata": {},
     "output_type": "display_data"
    }
   ],
   "source": [
    "fig = dict(data=data_stock, \n",
    "           layout=layout_stock)\n",
    "\n",
    "offline.iplot(fig)"
   ]
  },
  {
   "cell_type": "code",
   "execution_count": null,
   "metadata": {},
   "outputs": [],
   "source": []
  }
 ],
 "metadata": {
  "kernelspec": {
   "display_name": "Python 3",
   "language": "python",
   "name": "python3"
  },
  "language_info": {
   "codemirror_mode": {
    "name": "ipython",
    "version": 3
   },
   "file_extension": ".py",
   "mimetype": "text/x-python",
   "name": "python",
   "nbconvert_exporter": "python",
   "pygments_lexer": "ipython3",
   "version": "3.8.2"
  },
  "latex_envs": {
   "LaTeX_envs_menu_present": true,
   "autoclose": false,
   "autocomplete": true,
   "bibliofile": "biblio.bib",
   "cite_by": "apalike",
   "current_citInitial": 1,
   "eqLabelWithNumbers": true,
   "eqNumInitial": 1,
   "hotkeys": {
    "equation": "Ctrl-E",
    "itemize": "Ctrl-I"
   },
   "labels_anchors": false,
   "latex_user_defs": false,
   "report_style_numbering": false,
   "user_envs_cfg": false
  },
  "varInspector": {
   "cols": {
    "lenName": 16,
    "lenType": 16,
    "lenVar": 40
   },
   "kernels_config": {
    "python": {
     "delete_cmd_postfix": "",
     "delete_cmd_prefix": "del ",
     "library": "var_list.py",
     "varRefreshCmd": "print(var_dic_list())"
    },
    "r": {
     "delete_cmd_postfix": ") ",
     "delete_cmd_prefix": "rm(",
     "library": "var_list.r",
     "varRefreshCmd": "cat(var_dic_list()) "
    }
   },
   "types_to_exclude": [
    "module",
    "function",
    "builtin_function_or_method",
    "instance",
    "_Feature"
   ],
   "window_display": false
  }
 },
 "nbformat": 4,
 "nbformat_minor": 2
}
