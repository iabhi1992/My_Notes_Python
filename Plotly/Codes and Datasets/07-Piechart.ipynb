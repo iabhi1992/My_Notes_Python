{
 "cells": [
  {
   "cell_type": "code",
   "execution_count": 1,
   "metadata": {},
   "outputs": [
    {
     "data": {
      "text/html": [
       "<script>requirejs.config({paths: { 'plotly': ['https://cdn.plot.ly/plotly-latest.min']},});if(!window.Plotly) {{require(['plotly'],function(plotly) {window.Plotly=plotly;});}}</script>"
      ],
      "text/vnd.plotly.v1+html": [
       "<script>requirejs.config({paths: { 'plotly': ['https://cdn.plot.ly/plotly-latest.min']},});if(!window.Plotly) {{require(['plotly'],function(plotly) {window.Plotly=plotly;});}}</script>"
      ]
     },
     "metadata": {},
     "output_type": "display_data"
    }
   ],
   "source": [
    "import plotly.plotly as py\n",
    "import plotly.graph_objs as go\n",
    "import plotly.offline as offline\n",
    "\n",
    "offline.init_notebook_mode(connected=True)"
   ]
  },
  {
   "cell_type": "markdown",
   "metadata": {},
   "source": [
    "**Create a list of Moblile Brand sales(Unitsperday)** "
   ]
  },
  {
   "cell_type": "code",
   "execution_count": 2,
   "metadata": {},
   "outputs": [],
   "source": [
    "Moblie_Brands = ['iPhone 6S', \n",
    "                 'Samsung Galaxy J8', \n",
    "                 'Moto G', \n",
    "                 'Nokia 6', \n",
    "                 'Redmi5 Pro', \n",
    "                 'Honor 10']"
   ]
  },
  {
   "cell_type": "markdown",
   "metadata": {},
   "source": [
    "**A list of the Sales(Unitsperday) for the above mentioned Mobile Brands**"
   ]
  },
  {
   "cell_type": "code",
   "execution_count": 3,
   "metadata": {},
   "outputs": [],
   "source": [
    "Sales_Unitsperday = [20, 15, 40, 12, 50, 35]"
   ]
  },
  {
   "cell_type": "markdown",
   "metadata": {},
   "source": [
    "**A simple pie chart**\n",
    "\n",
    "We only need to supply the labels and values needed for the plot"
   ]
  },
  {
   "cell_type": "code",
   "execution_count": 4,
   "metadata": {},
   "outputs": [],
   "source": [
    "trace = go.Pie(labels = Moblie_Brands, \n",
    "               values = Sales_Unitsperday,\n",
    "              )"
   ]
  },
  {
   "cell_type": "markdown",
   "metadata": {},
   "source": [
    " **Plot the pie chart**\n",
    "\n",
    "* The color for each wedge will be picked from a default color palette\n",
    "* The percentage for each wedge is displayed by default\n",
    "* For wedges representing a very tiny value, Plotly is smart enough to place the text outside\n",
    "* A legend appears by default"
   ]
  },
  {
   "cell_type": "code",
   "execution_count": 5,
   "metadata": {},
   "outputs": [
    {
     "data": {
      "application/vnd.plotly.v1+json": {
       "data": [
        {
         "labels": [
          "iPhone 6S",
          "Samsung Galaxy J8",
          "Moto G",
          "Nokia 6",
          "Redmi5 Pro",
          "Honor 10"
         ],
         "type": "pie",
         "uid": "c5ee898c-9abf-11e8-aef4-6030d4660e22",
         "values": [
          20,
          15,
          40,
          12,
          50,
          35
         ]
        }
       ],
       "layout": {}
      },
      "text/html": [
       "<div id=\"9cf4c611-bdaa-4898-9a32-a0b6b7908918\" style=\"height: 525px; width: 100%;\" class=\"plotly-graph-div\"></div><script type=\"text/javascript\">require([\"plotly\"], function(Plotly) { window.PLOTLYENV=window.PLOTLYENV || {};window.PLOTLYENV.BASE_URL=\"https://plot.ly\";Plotly.newPlot(\"9cf4c611-bdaa-4898-9a32-a0b6b7908918\", [{\"labels\": [\"iPhone 6S\", \"Samsung Galaxy J8\", \"Moto G\", \"Nokia 6\", \"Redmi5 Pro\", \"Honor 10\"], \"values\": [20, 15, 40, 12, 50, 35], \"type\": \"pie\", \"uid\": \"c612a858-9abf-11e8-94fa-6030d4660e22\"}], {}, {\"showLink\": true, \"linkText\": \"Export to plot.ly\"})});</script>"
      ],
      "text/vnd.plotly.v1+html": [
       "<div id=\"9cf4c611-bdaa-4898-9a32-a0b6b7908918\" style=\"height: 525px; width: 100%;\" class=\"plotly-graph-div\"></div><script type=\"text/javascript\">require([\"plotly\"], function(Plotly) { window.PLOTLYENV=window.PLOTLYENV || {};window.PLOTLYENV.BASE_URL=\"https://plot.ly\";Plotly.newPlot(\"9cf4c611-bdaa-4898-9a32-a0b6b7908918\", [{\"labels\": [\"iPhone 6S\", \"Samsung Galaxy J8\", \"Moto G\", \"Nokia 6\", \"Redmi5 Pro\", \"Honor 10\"], \"values\": [20, 15, 40, 12, 50, 35], \"type\": \"pie\", \"uid\": \"c612a858-9abf-11e8-94fa-6030d4660e22\"}], {}, {\"showLink\": true, \"linkText\": \"Export to plot.ly\"})});</script>"
      ]
     },
     "metadata": {},
     "output_type": "display_data"
    }
   ],
   "source": [
    "data = [trace]\n",
    "\n",
    "offline.iplot(data)"
   ]
  },
  {
   "cell_type": "markdown",
   "metadata": {},
   "source": [
    "**Styled Pie Chart**\n",
    "\n",
    "We can customize the pie chart by formatting the wedges and the text displayed"
   ]
  },
  {
   "cell_type": "markdown",
   "metadata": {},
   "source": [
    "**Create a list of colors**\n",
    "\n",
    "These will be used to represent the Different Moblie_Brands on the chart"
   ]
  },
  {
   "cell_type": "code",
   "execution_count": 6,
   "metadata": {},
   "outputs": [],
   "source": [
    "colors = ['blue', 'silver', 'olive', 'skyblue', 'violet', 'green' ]"
   ]
  },
  {
   "cell_type": "markdown",
   "metadata": {},
   "source": [
    "**Define the pie chart**\n",
    "\n",
    "* we set the hoverinfo to show the wedge label along with the percentage value for the sector\n",
    "* we explicitly set the text inside the wedge to display value (can also be 'percent', 'label' or a combination)\n",
    "* the font for the displayed text can be formatted\n",
    "* marker represents the wedges of the pie chart. We configure it to:\n",
    "* use the list of colors we defined\n",
    "* use a aliceblue line at the boundaries\n",
    "* set the width of the boundary line\n",
    "* the value of hole will create a hole in the pie chart. The value can be between 0 and 1 and represents the width of the hole relative to the whole pie"
   ]
  },
  {
   "cell_type": "code",
   "execution_count": 7,
   "metadata": {},
   "outputs": [],
   "source": [
    "trace = go.Pie(labels = Moblie_Brands, \n",
    "               values = Sales_Unitsperday,\n",
    "               \n",
    "               hoverinfo = 'label+percent', \n",
    "               \n",
    "               textinfo = 'value', \n",
    "               textfont = dict(size = 20),\n",
    "               \n",
    "               marker = dict(colors = colors,\n",
    "                             line = dict(color = 'aliceblue', \n",
    "                                         width = 1)\n",
    "                            ), \n",
    "               hole = 0.2\n",
    "              )"
   ]
  },
  {
   "cell_type": "code",
   "execution_count": 8,
   "metadata": {},
   "outputs": [
    {
     "data": {
      "application/vnd.plotly.v1+json": {
       "data": [
        {
         "hole": 0.2,
         "hoverinfo": "label+percent",
         "labels": [
          "iPhone 6S",
          "Samsung Galaxy J8",
          "Moto G",
          "Nokia 6",
          "Redmi5 Pro",
          "Honor 10"
         ],
         "marker": {
          "colors": [
           "blue",
           "silver",
           "olive",
           "skyblue",
           "violet",
           "green"
          ],
          "line": {
           "color": "aliceblue",
           "width": 1
          }
         },
         "textfont": {
          "size": 20
         },
         "textinfo": "value",
         "type": "pie",
         "uid": "c61cc158-9abf-11e8-95d1-6030d4660e22",
         "values": [
          20,
          15,
          40,
          12,
          50,
          35
         ]
        }
       ],
       "layout": {}
      },
      "text/html": [
       "<div id=\"f8a0db38-5b25-4cc4-9724-fff0d8fb8ee6\" style=\"height: 525px; width: 100%;\" class=\"plotly-graph-div\"></div><script type=\"text/javascript\">require([\"plotly\"], function(Plotly) { window.PLOTLYENV=window.PLOTLYENV || {};window.PLOTLYENV.BASE_URL=\"https://plot.ly\";Plotly.newPlot(\"f8a0db38-5b25-4cc4-9724-fff0d8fb8ee6\", [{\"hole\": 0.2, \"hoverinfo\": \"label+percent\", \"labels\": [\"iPhone 6S\", \"Samsung Galaxy J8\", \"Moto G\", \"Nokia 6\", \"Redmi5 Pro\", \"Honor 10\"], \"marker\": {\"colors\": [\"blue\", \"silver\", \"olive\", \"skyblue\", \"violet\", \"green\"], \"line\": {\"color\": \"aliceblue\", \"width\": 1}}, \"textfont\": {\"size\": 20}, \"textinfo\": \"value\", \"values\": [20, 15, 40, 12, 50, 35], \"type\": \"pie\", \"uid\": \"c6210eac-9abf-11e8-bb2a-6030d4660e22\"}], {}, {\"showLink\": true, \"linkText\": \"Export to plot.ly\"})});</script>"
      ],
      "text/vnd.plotly.v1+html": [
       "<div id=\"f8a0db38-5b25-4cc4-9724-fff0d8fb8ee6\" style=\"height: 525px; width: 100%;\" class=\"plotly-graph-div\"></div><script type=\"text/javascript\">require([\"plotly\"], function(Plotly) { window.PLOTLYENV=window.PLOTLYENV || {};window.PLOTLYENV.BASE_URL=\"https://plot.ly\";Plotly.newPlot(\"f8a0db38-5b25-4cc4-9724-fff0d8fb8ee6\", [{\"hole\": 0.2, \"hoverinfo\": \"label+percent\", \"labels\": [\"iPhone 6S\", \"Samsung Galaxy J8\", \"Moto G\", \"Nokia 6\", \"Redmi5 Pro\", \"Honor 10\"], \"marker\": {\"colors\": [\"blue\", \"silver\", \"olive\", \"skyblue\", \"violet\", \"green\"], \"line\": {\"color\": \"aliceblue\", \"width\": 1}}, \"textfont\": {\"size\": 20}, \"textinfo\": \"value\", \"values\": [20, 15, 40, 12, 50, 35], \"type\": \"pie\", \"uid\": \"c6210eac-9abf-11e8-bb2a-6030d4660e22\"}], {}, {\"showLink\": true, \"linkText\": \"Export to plot.ly\"})});</script>"
      ]
     },
     "metadata": {},
     "output_type": "display_data"
    }
   ],
   "source": [
    "data = [trace]\n",
    "ß\n",
    "offline.iplot(data)"
   ]
  },
  {
   "cell_type": "code",
   "execution_count": null,
   "metadata": {},
   "outputs": [],
   "source": []
  }
 ],
 "metadata": {
  "kernelspec": {
   "display_name": "Python 3",
   "language": "python",
   "name": "python3"
  },
  "language_info": {
   "codemirror_mode": {
    "name": "ipython",
    "version": 3
   },
   "file_extension": ".py",
   "mimetype": "text/x-python",
   "name": "python",
   "nbconvert_exporter": "python",
   "pygments_lexer": "ipython3",
   "version": "3.6.5"
  }
 },
 "nbformat": 4,
 "nbformat_minor": 2
}
