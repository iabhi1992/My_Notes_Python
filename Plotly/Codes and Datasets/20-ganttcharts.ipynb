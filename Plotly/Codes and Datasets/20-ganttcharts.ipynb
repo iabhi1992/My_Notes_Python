{
 "cells": [
  {
   "cell_type": "markdown",
   "metadata": {},
   "source": [
    "### A Gantt chart provides a graphical illustration of a schedule that helps to plan, coordinate, and track specific tasks in a project."
   ]
  },
  {
   "cell_type": "code",
   "execution_count": 1,
   "metadata": {},
   "outputs": [
    {
     "data": {
      "text/html": [
       "<script>requirejs.config({paths: { 'plotly': ['https://cdn.plot.ly/plotly-latest.min']},});if(!window.Plotly) {{require(['plotly'],function(plotly) {window.Plotly=plotly;});}}</script>"
      ],
      "text/vnd.plotly.v1+html": [
       "<script>requirejs.config({paths: { 'plotly': ['https://cdn.plot.ly/plotly-latest.min']},});if(!window.Plotly) {{require(['plotly'],function(plotly) {window.Plotly=plotly;});}}</script>"
      ]
     },
     "metadata": {},
     "output_type": "display_data"
    }
   ],
   "source": [
    "import plotly.plotly as py\n",
    "import plotly.offline as offline\n",
    "\n",
    "offline.init_notebook_mode(connected=True)"
   ]
  },
  {
   "cell_type": "markdown",
   "metadata": {},
   "source": [
    "**Import Plotly's figure factory**\n",
    "\n",
    "This is the package which contains the Gantt chart"
   ]
  },
  {
   "cell_type": "code",
   "execution_count": 2,
   "metadata": {},
   "outputs": [],
   "source": [
    "import plotly.figure_factory as ff"
   ]
  },
  {
   "cell_type": "markdown",
   "metadata": {},
   "source": [
    "**Define a simple schedule**\n",
    "\n",
    "The fields which are required to plot a Gantt Chart are:\n",
    "\n",
    "* **Task**, which is a string\n",
    "* **Start** which is the task's start time expressed in some date format\n",
    "* **Finish** which is the end time for the task, also in some date format\n",
    "\n",
    "Note that the times for the tasks can overlap"
   ]
  },
  {
   "cell_type": "code",
   "execution_count": 3,
   "metadata": {},
   "outputs": [],
   "source": [
    "tasks = [dict(Task='Task 1', \n",
    "              Start='2018-06-01', \n",
    "              Finish='2018-08-28'),\n",
    "         \n",
    "         dict(Task='Task 2', \n",
    "              Start='2018-09-10', \n",
    "              Finish='2018-11-20'),\n",
    "         \n",
    "         dict(Task='Task 3', \n",
    "              Start='2018-11-25', \n",
    "              Finish='2018-12-30')]"
   ]
  },
  {
   "cell_type": "markdown",
   "metadata": {},
   "source": [
    "**Plot the Gantt chart**\n",
    "\n",
    "Use the figure factory to generate a Gantt Chart figure with our list of tasks"
   ]
  },
  {
   "cell_type": "code",
   "execution_count": 4,
   "metadata": {},
   "outputs": [
    {
     "data": {
      "application/vnd.plotly.v1+json": {
       "data": [
        {
         "marker": {
          "color": "white"
         },
         "name": "",
         "type": "scatter",
         "uid": "9cccf84c-9c69-11e8-9dc5-6030d4660e22",
         "x": [
          "2018-06-01",
          "2018-08-28"
         ],
         "y": [
          0,
          0
         ]
        },
        {
         "marker": {
          "color": "white"
         },
         "name": "",
         "type": "scatter",
         "uid": "9cce61c0-9c69-11e8-b819-6030d4660e22",
         "x": [
          "2018-09-10",
          "2018-11-20"
         ],
         "y": [
          1,
          1
         ]
        },
        {
         "marker": {
          "color": "white"
         },
         "name": "",
         "type": "scatter",
         "uid": "9cce64b8-9c69-11e8-b0c0-6030d4660e22",
         "x": [
          "2018-11-25",
          "2018-12-30"
         ],
         "y": [
          2,
          2
         ]
        }
       ],
       "layout": {
        "height": 600,
        "hovermode": "closest",
        "shapes": [
         {
          "fillcolor": "rgb(31, 119, 180)",
          "line": {
           "width": 0
          },
          "opacity": 1,
          "type": "rect",
          "x0": "2018-06-01",
          "x1": "2018-08-28",
          "xref": "x",
          "y0": -0.2,
          "y1": 0.2,
          "yref": "y"
         },
         {
          "fillcolor": "rgb(255, 127, 14)",
          "line": {
           "width": 0
          },
          "opacity": 1,
          "type": "rect",
          "x0": "2018-09-10",
          "x1": "2018-11-20",
          "xref": "x",
          "y0": 0.8,
          "y1": 1.2,
          "yref": "y"
         },
         {
          "fillcolor": "rgb(44, 160, 44)",
          "line": {
           "width": 0
          },
          "opacity": 1,
          "type": "rect",
          "x0": "2018-11-25",
          "x1": "2018-12-30",
          "xref": "x",
          "y0": 1.8,
          "y1": 2.2,
          "yref": "y"
         }
        ],
        "showlegend": false,
        "title": "Gantt Chart",
        "width": 900,
        "xaxis": {
         "rangeselector": {
          "buttons": [
           {
            "count": 7,
            "label": "1w",
            "step": "day",
            "stepmode": "backward"
           },
           {
            "count": 1,
            "label": "1m",
            "step": "month",
            "stepmode": "backward"
           },
           {
            "count": 6,
            "label": "6m",
            "step": "month",
            "stepmode": "backward"
           },
           {
            "count": 1,
            "label": "YTD",
            "step": "year",
            "stepmode": "todate"
           },
           {
            "count": 1,
            "label": "1y",
            "step": "year",
            "stepmode": "backward"
           },
           {
            "step": "all"
           }
          ]
         },
         "showgrid": false,
         "type": "date",
         "zeroline": false
        },
        "yaxis": {
         "autorange": false,
         "range": [
          -1,
          4
         ],
         "showgrid": false,
         "ticktext": [
          "Task 1",
          "Task 2",
          "Task 3"
         ],
         "tickvals": [
          0,
          1,
          2
         ],
         "zeroline": false
        }
       }
      },
      "text/html": [
       "<div id=\"7e8b9579-17fa-4d9d-b7a0-0617137d2fac\" style=\"height: 600px; width: 900px;\" class=\"plotly-graph-div\"></div><script type=\"text/javascript\">require([\"plotly\"], function(Plotly) { window.PLOTLYENV=window.PLOTLYENV || {};window.PLOTLYENV.BASE_URL=\"https://plot.ly\";\n",
       "        Plotly.plot(\n",
       "            '7e8b9579-17fa-4d9d-b7a0-0617137d2fac',\n",
       "            [{\"marker\": {\"color\": \"white\"}, \"name\": \"\", \"x\": [\"2018-06-01\", \"2018-08-28\"], \"y\": [0, 0], \"type\": \"scatter\", \"uid\": \"9cccf84c-9c69-11e8-9dc5-6030d4660e22\"}, {\"marker\": {\"color\": \"white\"}, \"name\": \"\", \"x\": [\"2018-09-10\", \"2018-11-20\"], \"y\": [1, 1], \"type\": \"scatter\", \"uid\": \"9cce61c0-9c69-11e8-b819-6030d4660e22\"}, {\"marker\": {\"color\": \"white\"}, \"name\": \"\", \"x\": [\"2018-11-25\", \"2018-12-30\"], \"y\": [2, 2], \"type\": \"scatter\", \"uid\": \"9cce64b8-9c69-11e8-b0c0-6030d4660e22\"}],\n",
       "            {\"height\": 600, \"hovermode\": \"closest\", \"shapes\": [{\"fillcolor\": \"rgb(31, 119, 180)\", \"line\": {\"width\": 0}, \"opacity\": 1, \"type\": \"rect\", \"x0\": \"2018-06-01\", \"x1\": \"2018-08-28\", \"xref\": \"x\", \"y0\": -0.2, \"y1\": 0.2, \"yref\": \"y\"}, {\"fillcolor\": \"rgb(255, 127, 14)\", \"line\": {\"width\": 0}, \"opacity\": 1, \"type\": \"rect\", \"x0\": \"2018-09-10\", \"x1\": \"2018-11-20\", \"xref\": \"x\", \"y0\": 0.8, \"y1\": 1.2, \"yref\": \"y\"}, {\"fillcolor\": \"rgb(44, 160, 44)\", \"line\": {\"width\": 0}, \"opacity\": 1, \"type\": \"rect\", \"x0\": \"2018-11-25\", \"x1\": \"2018-12-30\", \"xref\": \"x\", \"y0\": 1.8, \"y1\": 2.2, \"yref\": \"y\"}], \"showlegend\": false, \"title\": \"Gantt Chart\", \"width\": 900, \"xaxis\": {\"rangeselector\": {\"buttons\": [{\"count\": 7, \"label\": \"1w\", \"step\": \"day\", \"stepmode\": \"backward\"}, {\"count\": 1, \"label\": \"1m\", \"step\": \"month\", \"stepmode\": \"backward\"}, {\"count\": 6, \"label\": \"6m\", \"step\": \"month\", \"stepmode\": \"backward\"}, {\"count\": 1, \"label\": \"YTD\", \"step\": \"year\", \"stepmode\": \"todate\"}, {\"count\": 1, \"label\": \"1y\", \"step\": \"year\", \"stepmode\": \"backward\"}, {\"step\": \"all\"}]}, \"showgrid\": false, \"type\": \"date\", \"zeroline\": false}, \"yaxis\": {\"autorange\": false, \"range\": [-1, 4], \"showgrid\": false, \"ticktext\": [\"Task 1\", \"Task 2\", \"Task 3\"], \"tickvals\": [0, 1, 2], \"zeroline\": false}},\n",
       "            {\"showLink\": true, \"linkText\": \"Export to plot.ly\"}\n",
       "        ).then(function () {return Plotly.addFrames('7e8b9579-17fa-4d9d-b7a0-0617137d2fac',{});}).then(function(){Plotly.animate('7e8b9579-17fa-4d9d-b7a0-0617137d2fac');})\n",
       "        });</script>"
      ],
      "text/vnd.plotly.v1+html": [
       "<div id=\"7e8b9579-17fa-4d9d-b7a0-0617137d2fac\" style=\"height: 600px; width: 900px;\" class=\"plotly-graph-div\"></div><script type=\"text/javascript\">require([\"plotly\"], function(Plotly) { window.PLOTLYENV=window.PLOTLYENV || {};window.PLOTLYENV.BASE_URL=\"https://plot.ly\";\n",
       "        Plotly.plot(\n",
       "            '7e8b9579-17fa-4d9d-b7a0-0617137d2fac',\n",
       "            [{\"marker\": {\"color\": \"white\"}, \"name\": \"\", \"x\": [\"2018-06-01\", \"2018-08-28\"], \"y\": [0, 0], \"type\": \"scatter\", \"uid\": \"9cccf84c-9c69-11e8-9dc5-6030d4660e22\"}, {\"marker\": {\"color\": \"white\"}, \"name\": \"\", \"x\": [\"2018-09-10\", \"2018-11-20\"], \"y\": [1, 1], \"type\": \"scatter\", \"uid\": \"9cce61c0-9c69-11e8-b819-6030d4660e22\"}, {\"marker\": {\"color\": \"white\"}, \"name\": \"\", \"x\": [\"2018-11-25\", \"2018-12-30\"], \"y\": [2, 2], \"type\": \"scatter\", \"uid\": \"9cce64b8-9c69-11e8-b0c0-6030d4660e22\"}],\n",
       "            {\"height\": 600, \"hovermode\": \"closest\", \"shapes\": [{\"fillcolor\": \"rgb(31, 119, 180)\", \"line\": {\"width\": 0}, \"opacity\": 1, \"type\": \"rect\", \"x0\": \"2018-06-01\", \"x1\": \"2018-08-28\", \"xref\": \"x\", \"y0\": -0.2, \"y1\": 0.2, \"yref\": \"y\"}, {\"fillcolor\": \"rgb(255, 127, 14)\", \"line\": {\"width\": 0}, \"opacity\": 1, \"type\": \"rect\", \"x0\": \"2018-09-10\", \"x1\": \"2018-11-20\", \"xref\": \"x\", \"y0\": 0.8, \"y1\": 1.2, \"yref\": \"y\"}, {\"fillcolor\": \"rgb(44, 160, 44)\", \"line\": {\"width\": 0}, \"opacity\": 1, \"type\": \"rect\", \"x0\": \"2018-11-25\", \"x1\": \"2018-12-30\", \"xref\": \"x\", \"y0\": 1.8, \"y1\": 2.2, \"yref\": \"y\"}], \"showlegend\": false, \"title\": \"Gantt Chart\", \"width\": 900, \"xaxis\": {\"rangeselector\": {\"buttons\": [{\"count\": 7, \"label\": \"1w\", \"step\": \"day\", \"stepmode\": \"backward\"}, {\"count\": 1, \"label\": \"1m\", \"step\": \"month\", \"stepmode\": \"backward\"}, {\"count\": 6, \"label\": \"6m\", \"step\": \"month\", \"stepmode\": \"backward\"}, {\"count\": 1, \"label\": \"YTD\", \"step\": \"year\", \"stepmode\": \"todate\"}, {\"count\": 1, \"label\": \"1y\", \"step\": \"year\", \"stepmode\": \"backward\"}, {\"step\": \"all\"}]}, \"showgrid\": false, \"type\": \"date\", \"zeroline\": false}, \"yaxis\": {\"autorange\": false, \"range\": [-1, 4], \"showgrid\": false, \"ticktext\": [\"Task 1\", \"Task 2\", \"Task 3\"], \"tickvals\": [0, 1, 2], \"zeroline\": false}},\n",
       "            {\"showLink\": true, \"linkText\": \"Export to plot.ly\"}\n",
       "        ).then(function () {return Plotly.addFrames('7e8b9579-17fa-4d9d-b7a0-0617137d2fac',{});}).then(function(){Plotly.animate('7e8b9579-17fa-4d9d-b7a0-0617137d2fac');})\n",
       "        });</script>"
      ]
     },
     "metadata": {},
     "output_type": "display_data"
    }
   ],
   "source": [
    "fig = ff.create_gantt(tasks)\n",
    "\n",
    "offline.iplot(fig)"
   ]
  },
  {
   "cell_type": "markdown",
   "metadata": {},
   "source": [
    "**Using Color Scales**\n",
    "\n",
    "Color scales can be used in Gantt charts to represent information"
   ]
  },
  {
   "cell_type": "markdown",
   "metadata": {},
   "source": [
    "**Numeric data represented with a color scale**\n",
    "\n",
    "By using a color scale, we can portray how much of a task is completed"
   ]
  },
  {
   "cell_type": "code",
   "execution_count": 5,
   "metadata": {},
   "outputs": [],
   "source": [
    "tasks = [dict(Task='Task 1', \n",
    "              Start='2018-06-01', \n",
    "              Finish='2018-08-28',\n",
    "              Complete=100),\n",
    "         \n",
    "         dict(Task='Task 2', \n",
    "              Start='2018-09-10', \n",
    "              Finish='2018-11-20',\n",
    "              Complete=50),\n",
    "         \n",
    "         dict(Task='Task 3', \n",
    "              Start='2018-11-25', \n",
    "              Finish='2018-12-30',\n",
    "              Complete=25)]"
   ]
  },
  {
   "cell_type": "markdown",
   "metadata": {},
   "source": [
    "**Define the Gantt chart**\n",
    "\n",
    "The **colors** attribute takes in the name of a built-in color scale or a list of RGB or Hexademical numbers\n",
    "\n",
    "**index_col** is used to specify which field should be represented using the color scale\n",
    "\n",
    "**show_colorbar** can be set to view the color scale as a reference"
   ]
  },
  {
   "cell_type": "code",
   "execution_count": 6,
   "metadata": {},
   "outputs": [
    {
     "data": {
      "application/vnd.plotly.v1+json": {
       "data": [
        {
         "marker": {
          "color": "white"
         },
         "name": "",
         "type": "scatter",
         "uid": "9cf70968-9c69-11e8-890c-6030d4660e22",
         "x": [
          "2018-06-01",
          "2018-08-28"
         ],
         "y": [
          0,
          0
         ]
        },
        {
         "marker": {
          "color": "white"
         },
         "name": "",
         "type": "scatter",
         "uid": "9cf70b66-9c69-11e8-b6f8-6030d4660e22",
         "x": [
          "2018-09-10",
          "2018-11-20"
         ],
         "y": [
          1,
          1
         ]
        },
        {
         "marker": {
          "color": "white"
         },
         "name": "",
         "type": "scatter",
         "uid": "9cf70c9c-9c69-11e8-9707-6030d4660e22",
         "x": [
          "2018-11-25",
          "2018-12-30"
         ],
         "y": [
          2,
          2
         ]
        },
        {
         "marker": {
          "cmax": 100,
          "cmin": 0,
          "color": "white",
          "colorscale": [
           [
            0,
            "rgb(0.0, 0.0, 131.0)"
           ],
           [
            1,
            "rgb(128.0, 0.0, 0.0)"
           ]
          ],
          "showscale": true
         },
         "name": "",
         "type": "scatter",
         "uid": "9cf70d8c-9c69-11e8-bbe8-6030d4660e22",
         "x": [
          "2018-11-25",
          "2018-11-25"
         ],
         "y": [
          2,
          2
         ]
        }
       ],
       "layout": {
        "height": 600,
        "hovermode": "closest",
        "shapes": [
         {
          "fillcolor": "rgb(128.0, 0.0, 0.0)",
          "line": {
           "width": 0
          },
          "opacity": 1,
          "type": "rect",
          "x0": "2018-06-01",
          "x1": "2018-08-28",
          "xref": "x",
          "y0": -0.2,
          "y1": 0.2,
          "yref": "y"
         },
         {
          "fillcolor": "rgb(64.0, 0.0, 65.5)",
          "line": {
           "width": 0
          },
          "opacity": 1,
          "type": "rect",
          "x0": "2018-09-10",
          "x1": "2018-11-20",
          "xref": "x",
          "y0": 0.8,
          "y1": 1.2,
          "yref": "y"
         },
         {
          "fillcolor": "rgb(32.0, 0.0, 98.25)",
          "line": {
           "width": 0
          },
          "opacity": 1,
          "type": "rect",
          "x0": "2018-11-25",
          "x1": "2018-12-30",
          "xref": "x",
          "y0": 1.8,
          "y1": 2.2,
          "yref": "y"
         }
        ],
        "showlegend": false,
        "title": "Gantt Chart with a color scale",
        "width": 900,
        "xaxis": {
         "rangeselector": {
          "buttons": [
           {
            "count": 7,
            "label": "1w",
            "step": "day",
            "stepmode": "backward"
           },
           {
            "count": 1,
            "label": "1m",
            "step": "month",
            "stepmode": "backward"
           },
           {
            "count": 6,
            "label": "6m",
            "step": "month",
            "stepmode": "backward"
           },
           {
            "count": 1,
            "label": "YTD",
            "step": "year",
            "stepmode": "todate"
           },
           {
            "count": 1,
            "label": "1y",
            "step": "year",
            "stepmode": "backward"
           },
           {
            "step": "all"
           }
          ]
         },
         "showgrid": false,
         "type": "date",
         "zeroline": false
        },
        "yaxis": {
         "autorange": false,
         "range": [
          -1,
          4
         ],
         "showgrid": false,
         "ticktext": [
          "Task 1",
          "Task 2",
          "Task 3"
         ],
         "tickvals": [
          0,
          1,
          2
         ],
         "zeroline": false
        }
       }
      },
      "text/html": [
       "<div id=\"c2a40db0-86cf-4a14-aca4-7c336c85658e\" style=\"height: 600px; width: 900px;\" class=\"plotly-graph-div\"></div><script type=\"text/javascript\">require([\"plotly\"], function(Plotly) { window.PLOTLYENV=window.PLOTLYENV || {};window.PLOTLYENV.BASE_URL=\"https://plot.ly\";Plotly.newPlot(\"c2a40db0-86cf-4a14-aca4-7c336c85658e\", [{\"marker\": {\"color\": \"white\"}, \"name\": \"\", \"x\": [\"2018-06-01\", \"2018-08-28\"], \"y\": [0, 0], \"type\": \"scatter\", \"uid\": \"9cff23a8-9c69-11e8-95be-6030d4660e22\"}, {\"marker\": {\"color\": \"white\"}, \"name\": \"\", \"x\": [\"2018-09-10\", \"2018-11-20\"], \"y\": [1, 1], \"type\": \"scatter\", \"uid\": \"9cff253a-9c69-11e8-a8f0-6030d4660e22\"}, {\"marker\": {\"color\": \"white\"}, \"name\": \"\", \"x\": [\"2018-11-25\", \"2018-12-30\"], \"y\": [2, 2], \"type\": \"scatter\", \"uid\": \"9cff261e-9c69-11e8-8b24-6030d4660e22\"}, {\"marker\": {\"cmax\": 100, \"cmin\": 0, \"color\": \"white\", \"colorscale\": [[0, \"rgb(0.0, 0.0, 131.0)\"], [1, \"rgb(128.0, 0.0, 0.0)\"]], \"showscale\": true}, \"name\": \"\", \"x\": [\"2018-11-25\", \"2018-11-25\"], \"y\": [2, 2], \"type\": \"scatter\", \"uid\": \"9cff2724-9c69-11e8-94e3-6030d4660e22\"}], {\"height\": 600, \"hovermode\": \"closest\", \"shapes\": [{\"fillcolor\": \"rgb(128.0, 0.0, 0.0)\", \"line\": {\"width\": 0}, \"opacity\": 1, \"type\": \"rect\", \"x0\": \"2018-06-01\", \"x1\": \"2018-08-28\", \"xref\": \"x\", \"y0\": -0.2, \"y1\": 0.2, \"yref\": \"y\"}, {\"fillcolor\": \"rgb(64.0, 0.0, 65.5)\", \"line\": {\"width\": 0}, \"opacity\": 1, \"type\": \"rect\", \"x0\": \"2018-09-10\", \"x1\": \"2018-11-20\", \"xref\": \"x\", \"y0\": 0.8, \"y1\": 1.2, \"yref\": \"y\"}, {\"fillcolor\": \"rgb(32.0, 0.0, 98.25)\", \"line\": {\"width\": 0}, \"opacity\": 1, \"type\": \"rect\", \"x0\": \"2018-11-25\", \"x1\": \"2018-12-30\", \"xref\": \"x\", \"y0\": 1.8, \"y1\": 2.2, \"yref\": \"y\"}], \"showlegend\": false, \"title\": \"Gantt Chart with a color scale\", \"width\": 900, \"xaxis\": {\"rangeselector\": {\"buttons\": [{\"count\": 7, \"label\": \"1w\", \"step\": \"day\", \"stepmode\": \"backward\"}, {\"count\": 1, \"label\": \"1m\", \"step\": \"month\", \"stepmode\": \"backward\"}, {\"count\": 6, \"label\": \"6m\", \"step\": \"month\", \"stepmode\": \"backward\"}, {\"count\": 1, \"label\": \"YTD\", \"step\": \"year\", \"stepmode\": \"todate\"}, {\"count\": 1, \"label\": \"1y\", \"step\": \"year\", \"stepmode\": \"backward\"}, {\"step\": \"all\"}]}, \"showgrid\": false, \"type\": \"date\", \"zeroline\": false}, \"yaxis\": {\"autorange\": false, \"range\": [-1, 4], \"showgrid\": false, \"ticktext\": [\"Task 1\", \"Task 2\", \"Task 3\"], \"tickvals\": [0, 1, 2], \"zeroline\": false}}, {\"showLink\": true, \"linkText\": \"Export to plot.ly\"})});</script>"
      ],
      "text/vnd.plotly.v1+html": [
       "<div id=\"c2a40db0-86cf-4a14-aca4-7c336c85658e\" style=\"height: 600px; width: 900px;\" class=\"plotly-graph-div\"></div><script type=\"text/javascript\">require([\"plotly\"], function(Plotly) { window.PLOTLYENV=window.PLOTLYENV || {};window.PLOTLYENV.BASE_URL=\"https://plot.ly\";Plotly.newPlot(\"c2a40db0-86cf-4a14-aca4-7c336c85658e\", [{\"marker\": {\"color\": \"white\"}, \"name\": \"\", \"x\": [\"2018-06-01\", \"2018-08-28\"], \"y\": [0, 0], \"type\": \"scatter\", \"uid\": \"9cff23a8-9c69-11e8-95be-6030d4660e22\"}, {\"marker\": {\"color\": \"white\"}, \"name\": \"\", \"x\": [\"2018-09-10\", \"2018-11-20\"], \"y\": [1, 1], \"type\": \"scatter\", \"uid\": \"9cff253a-9c69-11e8-a8f0-6030d4660e22\"}, {\"marker\": {\"color\": \"white\"}, \"name\": \"\", \"x\": [\"2018-11-25\", \"2018-12-30\"], \"y\": [2, 2], \"type\": \"scatter\", \"uid\": \"9cff261e-9c69-11e8-8b24-6030d4660e22\"}, {\"marker\": {\"cmax\": 100, \"cmin\": 0, \"color\": \"white\", \"colorscale\": [[0, \"rgb(0.0, 0.0, 131.0)\"], [1, \"rgb(128.0, 0.0, 0.0)\"]], \"showscale\": true}, \"name\": \"\", \"x\": [\"2018-11-25\", \"2018-11-25\"], \"y\": [2, 2], \"type\": \"scatter\", \"uid\": \"9cff2724-9c69-11e8-94e3-6030d4660e22\"}], {\"height\": 600, \"hovermode\": \"closest\", \"shapes\": [{\"fillcolor\": \"rgb(128.0, 0.0, 0.0)\", \"line\": {\"width\": 0}, \"opacity\": 1, \"type\": \"rect\", \"x0\": \"2018-06-01\", \"x1\": \"2018-08-28\", \"xref\": \"x\", \"y0\": -0.2, \"y1\": 0.2, \"yref\": \"y\"}, {\"fillcolor\": \"rgb(64.0, 0.0, 65.5)\", \"line\": {\"width\": 0}, \"opacity\": 1, \"type\": \"rect\", \"x0\": \"2018-09-10\", \"x1\": \"2018-11-20\", \"xref\": \"x\", \"y0\": 0.8, \"y1\": 1.2, \"yref\": \"y\"}, {\"fillcolor\": \"rgb(32.0, 0.0, 98.25)\", \"line\": {\"width\": 0}, \"opacity\": 1, \"type\": \"rect\", \"x0\": \"2018-11-25\", \"x1\": \"2018-12-30\", \"xref\": \"x\", \"y0\": 1.8, \"y1\": 2.2, \"yref\": \"y\"}], \"showlegend\": false, \"title\": \"Gantt Chart with a color scale\", \"width\": 900, \"xaxis\": {\"rangeselector\": {\"buttons\": [{\"count\": 7, \"label\": \"1w\", \"step\": \"day\", \"stepmode\": \"backward\"}, {\"count\": 1, \"label\": \"1m\", \"step\": \"month\", \"stepmode\": \"backward\"}, {\"count\": 6, \"label\": \"6m\", \"step\": \"month\", \"stepmode\": \"backward\"}, {\"count\": 1, \"label\": \"YTD\", \"step\": \"year\", \"stepmode\": \"todate\"}, {\"count\": 1, \"label\": \"1y\", \"step\": \"year\", \"stepmode\": \"backward\"}, {\"step\": \"all\"}]}, \"showgrid\": false, \"type\": \"date\", \"zeroline\": false}, \"yaxis\": {\"autorange\": false, \"range\": [-1, 4], \"showgrid\": false, \"ticktext\": [\"Task 1\", \"Task 2\", \"Task 3\"], \"tickvals\": [0, 1, 2], \"zeroline\": false}}, {\"showLink\": true, \"linkText\": \"Export to plot.ly\"})});</script>"
      ]
     },
     "metadata": {},
     "output_type": "display_data"
    }
   ],
   "source": [
    "fig = ff.create_gantt(tasks, \n",
    "                      title = 'Gantt Chart with a color scale',\n",
    "                      \n",
    "                      colors = 'Jet', \n",
    "                      index_col = 'Complete', \n",
    "                      show_colorbar = True)\n",
    "offline.iplot(fig)"
   ]
  },
  {
   "cell_type": "markdown",
   "metadata": {},
   "source": [
    "**Color Scales to represent string categories**"
   ]
  },
  {
   "cell_type": "markdown",
   "metadata": {},
   "source": [
    "**Import a CSV file containing a multiplex schedule**\n",
    "\n",
    "The following is a schedule of multiplex movies for 4-Auguest-2018"
   ]
  },
  {
   "cell_type": "code",
   "execution_count": 7,
   "metadata": {},
   "outputs": [
    {
     "data": {
      "text/html": [
       "<div>\n",
       "<style scoped>\n",
       "    .dataframe tbody tr th:only-of-type {\n",
       "        vertical-align: middle;\n",
       "    }\n",
       "\n",
       "    .dataframe tbody tr th {\n",
       "        vertical-align: top;\n",
       "    }\n",
       "\n",
       "    .dataframe thead th {\n",
       "        text-align: right;\n",
       "    }\n",
       "</style>\n",
       "<table border=\"1\" class=\"dataframe\">\n",
       "  <thead>\n",
       "    <tr style=\"text-align: right;\">\n",
       "      <th></th>\n",
       "      <th>Task</th>\n",
       "      <th>Start</th>\n",
       "      <th>Finish</th>\n",
       "      <th>Category</th>\n",
       "    </tr>\n",
       "  </thead>\n",
       "  <tbody>\n",
       "    <tr>\n",
       "      <th>0</th>\n",
       "      <td>Avengers: Infinity War</td>\n",
       "      <td>2018-08-04 7:00</td>\n",
       "      <td>2018-08-04 9:00</td>\n",
       "      <td>Action</td>\n",
       "    </tr>\n",
       "    <tr>\n",
       "      <th>1</th>\n",
       "      <td>Inception</td>\n",
       "      <td>2018-08-04 9:00</td>\n",
       "      <td>2018-08-04 11:00</td>\n",
       "      <td>Thriller</td>\n",
       "    </tr>\n",
       "    <tr>\n",
       "      <th>2</th>\n",
       "      <td>The Dark Knight</td>\n",
       "      <td>2018-08-04 10:00</td>\n",
       "      <td>2018-08-04 12:00</td>\n",
       "      <td>Thriller</td>\n",
       "    </tr>\n",
       "    <tr>\n",
       "      <th>3</th>\n",
       "      <td>Deception</td>\n",
       "      <td>2018-08-04 11:30</td>\n",
       "      <td>2018-08-04 13:30</td>\n",
       "      <td>Suspense</td>\n",
       "    </tr>\n",
       "    <tr>\n",
       "      <th>4</th>\n",
       "      <td>Looper</td>\n",
       "      <td>2018-08-04 12:00</td>\n",
       "      <td>2018-08-04 14:00</td>\n",
       "      <td>Science_Fiction</td>\n",
       "    </tr>\n",
       "    <tr>\n",
       "      <th>5</th>\n",
       "      <td>Aliens</td>\n",
       "      <td>2018-08-04 13:30</td>\n",
       "      <td>2018-08-04 15:30</td>\n",
       "      <td>Horror</td>\n",
       "    </tr>\n",
       "    <tr>\n",
       "      <th>6</th>\n",
       "      <td>Source code</td>\n",
       "      <td>2018-08-04 16:00</td>\n",
       "      <td>2018-08-04 18:00</td>\n",
       "      <td>Mystery</td>\n",
       "    </tr>\n",
       "    <tr>\n",
       "      <th>7</th>\n",
       "      <td>The Terminator</td>\n",
       "      <td>2018-08-04 17:00</td>\n",
       "      <td>2018-08-04 19:00</td>\n",
       "      <td>Action</td>\n",
       "    </tr>\n",
       "    <tr>\n",
       "      <th>8</th>\n",
       "      <td>Behind Enemy Lines</td>\n",
       "      <td>2018-08-04 18:30</td>\n",
       "      <td>2018-08-04 20:30</td>\n",
       "      <td>Drama</td>\n",
       "    </tr>\n",
       "    <tr>\n",
       "      <th>9</th>\n",
       "      <td>Inception</td>\n",
       "      <td>2018-08-04 19:00</td>\n",
       "      <td>2018-08-04 21:00</td>\n",
       "      <td>Thriller</td>\n",
       "    </tr>\n",
       "    <tr>\n",
       "      <th>10</th>\n",
       "      <td>Me Before You</td>\n",
       "      <td>2018-08-04 21:30</td>\n",
       "      <td>2018-08-04 23:30</td>\n",
       "      <td>Romance</td>\n",
       "    </tr>\n",
       "    <tr>\n",
       "      <th>11</th>\n",
       "      <td>Just Go with It</td>\n",
       "      <td>2018-08-04 21:00</td>\n",
       "      <td>2018-08-04 23:00</td>\n",
       "      <td>Comedy</td>\n",
       "    </tr>\n",
       "  </tbody>\n",
       "</table>\n",
       "</div>"
      ],
      "text/plain": [
       "                      Task             Start            Finish  \\\n",
       "0   Avengers: Infinity War   2018-08-04 7:00   2018-08-04 9:00   \n",
       "1                Inception   2018-08-04 9:00  2018-08-04 11:00   \n",
       "2          The Dark Knight  2018-08-04 10:00  2018-08-04 12:00   \n",
       "3                Deception  2018-08-04 11:30  2018-08-04 13:30   \n",
       "4                   Looper  2018-08-04 12:00  2018-08-04 14:00   \n",
       "5                   Aliens  2018-08-04 13:30  2018-08-04 15:30   \n",
       "6              Source code  2018-08-04 16:00  2018-08-04 18:00   \n",
       "7           The Terminator  2018-08-04 17:00  2018-08-04 19:00   \n",
       "8       Behind Enemy Lines  2018-08-04 18:30  2018-08-04 20:30   \n",
       "9                Inception  2018-08-04 19:00  2018-08-04 21:00   \n",
       "10           Me Before You  2018-08-04 21:30  2018-08-04 23:30   \n",
       "11         Just Go with It  2018-08-04 21:00  2018-08-04 23:00   \n",
       "\n",
       "           Category  \n",
       "0            Action  \n",
       "1          Thriller  \n",
       "2          Thriller  \n",
       "3          Suspense  \n",
       "4   Science_Fiction  \n",
       "5            Horror  \n",
       "6           Mystery  \n",
       "7            Action  \n",
       "8             Drama  \n",
       "9          Thriller  \n",
       "10          Romance  \n",
       "11           Comedy  "
      ]
     },
     "execution_count": 7,
     "metadata": {},
     "output_type": "execute_result"
    }
   ],
   "source": [
    "import pandas as pd\n",
    "\n",
    "multiplex_schedule = pd.read_csv('./datasets/multiplex_schedule.csv')\n",
    "multiplex_schedule"
   ]
  },
  {
   "cell_type": "markdown",
   "metadata": {},
   "source": [
    "**Define a color map**\n",
    "\n",
    "This needs to contain colors specified in either RGB or Hexadecimal format (named colors will not work in a Gantt Chart). The list can contain a mix of both RGB and Hex colors.\n",
    "\n",
    "Here, we map the Category names to the color we want it to be portrayed by."
   ]
  },
  {
   "cell_type": "code",
   "execution_count": 8,
   "metadata": {},
   "outputs": [],
   "source": [
    "color_dict = dict(Action = 'rgb(46, 137, 205)',\n",
    "                  Thriller = 'rgb(114, 44, 121)',\n",
    "                  Crime = 'rgb(198, 47, 105)',\n",
    "                  Suspense = 'rgb(192, 192, 192)',\n",
    "                  Science_Fiction = 'rgb(128, 128, 128)',\n",
    "                  Horror = 'rgb(255, 0, 0)',\n",
    "                  Mystery = 'rgb(128, 0, 0)',\n",
    "                  Adventure = 'rgb(0, 128, 128)',\n",
    "                  Drama = 'rgb(0, 0, 128)',\n",
    "                  \n",
    "                  Romance = '#BD8FD7',\n",
    "                  Comedy = '#78F7DE'\n",
    "                 )"
   ]
  },
  {
   "cell_type": "markdown",
   "metadata": {},
   "source": [
    "**Draw the Gantt Chart**\n",
    "\n",
    "We cannot use a named color scale to map String values, so we pass in our colors dictionary to be used to assign colors to the different values of 'Category' in our dataset.\n",
    "\n",
    "**bar_width** sets the width (in this portrayal, the height) of each bar. A bar_width of 0.4 equals the distance between two grid lines on the Y axis.\n",
    "**fig layout** is for Gantt cropped text."
   ]
  },
  {
   "cell_type": "code",
   "execution_count": 9,
   "metadata": {},
   "outputs": [
    {
     "data": {
      "application/vnd.plotly.v1+json": {
       "data": [
        {
         "marker": {
          "color": "white"
         },
         "name": "",
         "type": "scatter",
         "uid": "9d28b206-9c69-11e8-9dee-6030d4660e22",
         "x": [
          "2018-08-04 7:00",
          "2018-08-04 9:00"
         ],
         "y": [
          0,
          0
         ]
        },
        {
         "marker": {
          "color": "white"
         },
         "name": "",
         "type": "scatter",
         "uid": "9d28b38c-9c69-11e8-b107-6030d4660e22",
         "x": [
          "2018-08-04 9:00",
          "2018-08-04 11:00"
         ],
         "y": [
          1,
          1
         ]
        },
        {
         "marker": {
          "color": "white"
         },
         "name": "",
         "type": "scatter",
         "uid": "9d28b47a-9c69-11e8-9bd9-6030d4660e22",
         "x": [
          "2018-08-04 10:00",
          "2018-08-04 12:00"
         ],
         "y": [
          2,
          2
         ]
        },
        {
         "marker": {
          "color": "white"
         },
         "name": "",
         "type": "scatter",
         "uid": "9d28b546-9c69-11e8-96c0-6030d4660e22",
         "x": [
          "2018-08-04 11:30",
          "2018-08-04 13:30"
         ],
         "y": [
          3,
          3
         ]
        },
        {
         "marker": {
          "color": "white"
         },
         "name": "",
         "type": "scatter",
         "uid": "9d28b618-9c69-11e8-b1ba-6030d4660e22",
         "x": [
          "2018-08-04 12:00",
          "2018-08-04 14:00"
         ],
         "y": [
          4,
          4
         ]
        },
        {
         "marker": {
          "color": "white"
         },
         "name": "",
         "type": "scatter",
         "uid": "9d28b6ca-9c69-11e8-8a55-6030d4660e22",
         "x": [
          "2018-08-04 13:30",
          "2018-08-04 15:30"
         ],
         "y": [
          5,
          5
         ]
        },
        {
         "marker": {
          "color": "white"
         },
         "name": "",
         "type": "scatter",
         "uid": "9d28b788-9c69-11e8-87b0-6030d4660e22",
         "x": [
          "2018-08-04 16:00",
          "2018-08-04 18:00"
         ],
         "y": [
          6,
          6
         ]
        },
        {
         "marker": {
          "color": "white"
         },
         "name": "",
         "type": "scatter",
         "uid": "9d28b83a-9c69-11e8-a591-6030d4660e22",
         "x": [
          "2018-08-04 17:00",
          "2018-08-04 19:00"
         ],
         "y": [
          7,
          7
         ]
        },
        {
         "marker": {
          "color": "white"
         },
         "name": "",
         "type": "scatter",
         "uid": "9d28b8f0-9c69-11e8-a7a5-6030d4660e22",
         "x": [
          "2018-08-04 18:30",
          "2018-08-04 20:30"
         ],
         "y": [
          8,
          8
         ]
        },
        {
         "marker": {
          "color": "white"
         },
         "name": "",
         "type": "scatter",
         "uid": "9d28b99a-9c69-11e8-9e00-6030d4660e22",
         "x": [
          "2018-08-04 19:00",
          "2018-08-04 21:00"
         ],
         "y": [
          9,
          9
         ]
        },
        {
         "marker": {
          "color": "white"
         },
         "name": "",
         "type": "scatter",
         "uid": "9d28ba4c-9c69-11e8-9b7c-6030d4660e22",
         "x": [
          "2018-08-04 21:30",
          "2018-08-04 23:30"
         ],
         "y": [
          10,
          10
         ]
        },
        {
         "marker": {
          "color": "white"
         },
         "name": "",
         "type": "scatter",
         "uid": "9d28bb02-9c69-11e8-b499-6030d4660e22",
         "x": [
          "2018-08-04 21:00",
          "2018-08-04 23:00"
         ],
         "y": [
          11,
          11
         ]
        },
        {
         "hoverinfo": "none",
         "marker": {
          "color": "rgb(46, 137, 205)",
          "size": 1
         },
         "name": "Action",
         "showlegend": true,
         "type": "scatter",
         "uid": "9d28bbac-9c69-11e8-8f89-6030d4660e22",
         "x": [
          "2018-08-04 21:00",
          "2018-08-04 21:00"
         ],
         "y": [
          0,
          0
         ]
        },
        {
         "hoverinfo": "none",
         "marker": {
          "color": "rgb(120, 247, 222)",
          "size": 1
         },
         "name": "Comedy",
         "showlegend": true,
         "type": "scatter",
         "uid": "9d28bc62-9c69-11e8-ad8c-6030d4660e22",
         "x": [
          "2018-08-04 21:00",
          "2018-08-04 21:00"
         ],
         "y": [
          1,
          1
         ]
        },
        {
         "hoverinfo": "none",
         "marker": {
          "color": "rgb(0, 0, 128)",
          "size": 1
         },
         "name": "Drama",
         "showlegend": true,
         "type": "scatter",
         "uid": "9d28bd0a-9c69-11e8-b9b9-6030d4660e22",
         "x": [
          "2018-08-04 21:00",
          "2018-08-04 21:00"
         ],
         "y": [
          2,
          2
         ]
        },
        {
         "hoverinfo": "none",
         "marker": {
          "color": "rgb(255, 0, 0)",
          "size": 1
         },
         "name": "Horror",
         "showlegend": true,
         "type": "scatter",
         "uid": "9d28bdbe-9c69-11e8-9417-6030d4660e22",
         "x": [
          "2018-08-04 21:00",
          "2018-08-04 21:00"
         ],
         "y": [
          3,
          3
         ]
        },
        {
         "hoverinfo": "none",
         "marker": {
          "color": "rgb(128, 0, 0)",
          "size": 1
         },
         "name": "Mystery",
         "showlegend": true,
         "type": "scatter",
         "uid": "9d28be74-9c69-11e8-9835-6030d4660e22",
         "x": [
          "2018-08-04 21:00",
          "2018-08-04 21:00"
         ],
         "y": [
          4,
          4
         ]
        },
        {
         "hoverinfo": "none",
         "marker": {
          "color": "rgb(189, 143, 215)",
          "size": 1
         },
         "name": "Romance",
         "showlegend": true,
         "type": "scatter",
         "uid": "9d28bf1c-9c69-11e8-afa7-6030d4660e22",
         "x": [
          "2018-08-04 21:00",
          "2018-08-04 21:00"
         ],
         "y": [
          5,
          5
         ]
        },
        {
         "hoverinfo": "none",
         "marker": {
          "color": "rgb(128, 128, 128)",
          "size": 1
         },
         "name": "Science_Fiction",
         "showlegend": true,
         "type": "scatter",
         "uid": "9d28bfc6-9c69-11e8-b310-6030d4660e22",
         "x": [
          "2018-08-04 21:00",
          "2018-08-04 21:00"
         ],
         "y": [
          6,
          6
         ]
        },
        {
         "hoverinfo": "none",
         "marker": {
          "color": "rgb(192, 192, 192)",
          "size": 1
         },
         "name": "Suspense",
         "showlegend": true,
         "type": "scatter",
         "uid": "9d28c086-9c69-11e8-9240-6030d4660e22",
         "x": [
          "2018-08-04 21:00",
          "2018-08-04 21:00"
         ],
         "y": [
          7,
          7
         ]
        },
        {
         "hoverinfo": "none",
         "marker": {
          "color": "rgb(114, 44, 121)",
          "size": 1
         },
         "name": "Thriller",
         "showlegend": true,
         "type": "scatter",
         "uid": "9d28c124-9c69-11e8-97db-6030d4660e22",
         "x": [
          "2018-08-04 21:00",
          "2018-08-04 21:00"
         ],
         "y": [
          8,
          8
         ]
        }
       ],
       "layout": {
        "autosize": false,
        "height": 500,
        "hovermode": "closest",
        "margin": {
         "l": 140
        },
        "shapes": [
         {
          "fillcolor": "rgb(46, 137, 205)",
          "line": {
           "width": 0
          },
          "opacity": 1,
          "type": "rect",
          "x0": "2018-08-04 7:00",
          "x1": "2018-08-04 9:00",
          "xref": "x",
          "y0": -0.4,
          "y1": 0.4,
          "yref": "y"
         },
         {
          "fillcolor": "rgb(114, 44, 121)",
          "line": {
           "width": 0
          },
          "opacity": 1,
          "type": "rect",
          "x0": "2018-08-04 9:00",
          "x1": "2018-08-04 11:00",
          "xref": "x",
          "y0": 0.6,
          "y1": 1.4,
          "yref": "y"
         },
         {
          "fillcolor": "rgb(114, 44, 121)",
          "line": {
           "width": 0
          },
          "opacity": 1,
          "type": "rect",
          "x0": "2018-08-04 10:00",
          "x1": "2018-08-04 12:00",
          "xref": "x",
          "y0": 1.6,
          "y1": 2.4,
          "yref": "y"
         },
         {
          "fillcolor": "rgb(192, 192, 192)",
          "line": {
           "width": 0
          },
          "opacity": 1,
          "type": "rect",
          "x0": "2018-08-04 11:30",
          "x1": "2018-08-04 13:30",
          "xref": "x",
          "y0": 2.6,
          "y1": 3.4,
          "yref": "y"
         },
         {
          "fillcolor": "rgb(128, 128, 128)",
          "line": {
           "width": 0
          },
          "opacity": 1,
          "type": "rect",
          "x0": "2018-08-04 12:00",
          "x1": "2018-08-04 14:00",
          "xref": "x",
          "y0": 3.6,
          "y1": 4.4,
          "yref": "y"
         },
         {
          "fillcolor": "rgb(255, 0, 0)",
          "line": {
           "width": 0
          },
          "opacity": 1,
          "type": "rect",
          "x0": "2018-08-04 13:30",
          "x1": "2018-08-04 15:30",
          "xref": "x",
          "y0": 4.6,
          "y1": 5.4,
          "yref": "y"
         },
         {
          "fillcolor": "rgb(128, 0, 0)",
          "line": {
           "width": 0
          },
          "opacity": 1,
          "type": "rect",
          "x0": "2018-08-04 16:00",
          "x1": "2018-08-04 18:00",
          "xref": "x",
          "y0": 5.6,
          "y1": 6.4,
          "yref": "y"
         },
         {
          "fillcolor": "rgb(46, 137, 205)",
          "line": {
           "width": 0
          },
          "opacity": 1,
          "type": "rect",
          "x0": "2018-08-04 17:00",
          "x1": "2018-08-04 19:00",
          "xref": "x",
          "y0": 6.6,
          "y1": 7.4,
          "yref": "y"
         },
         {
          "fillcolor": "rgb(0, 0, 128)",
          "line": {
           "width": 0
          },
          "opacity": 1,
          "type": "rect",
          "x0": "2018-08-04 18:30",
          "x1": "2018-08-04 20:30",
          "xref": "x",
          "y0": 7.6,
          "y1": 8.4,
          "yref": "y"
         },
         {
          "fillcolor": "rgb(114, 44, 121)",
          "line": {
           "width": 0
          },
          "opacity": 1,
          "type": "rect",
          "x0": "2018-08-04 19:00",
          "x1": "2018-08-04 21:00",
          "xref": "x",
          "y0": 8.6,
          "y1": 9.4,
          "yref": "y"
         },
         {
          "fillcolor": "rgb(189, 143, 215)",
          "line": {
           "width": 0
          },
          "opacity": 1,
          "type": "rect",
          "x0": "2018-08-04 21:30",
          "x1": "2018-08-04 23:30",
          "xref": "x",
          "y0": 9.6,
          "y1": 10.4,
          "yref": "y"
         },
         {
          "fillcolor": "rgb(120, 247, 222)",
          "line": {
           "width": 0
          },
          "opacity": 1,
          "type": "rect",
          "x0": "2018-08-04 21:00",
          "x1": "2018-08-04 23:00",
          "xref": "x",
          "y0": 10.6,
          "y1": 11.4,
          "yref": "y"
         }
        ],
        "showlegend": true,
        "title": "Multiplex Schedule",
        "width": 800,
        "xaxis": {
         "rangeselector": {
          "buttons": [
           {
            "count": 7,
            "label": "1w",
            "step": "day",
            "stepmode": "backward"
           },
           {
            "count": 1,
            "label": "1m",
            "step": "month",
            "stepmode": "backward"
           },
           {
            "count": 6,
            "label": "6m",
            "step": "month",
            "stepmode": "backward"
           },
           {
            "count": 1,
            "label": "YTD",
            "step": "year",
            "stepmode": "todate"
           },
           {
            "count": 1,
            "label": "1y",
            "step": "year",
            "stepmode": "backward"
           },
           {
            "step": "all"
           }
          ]
         },
         "showgrid": true,
         "type": "date",
         "zeroline": false
        },
        "yaxis": {
         "autorange": false,
         "range": [
          -1,
          13
         ],
         "showgrid": true,
         "ticktext": [
          "Avengers: Infinity War",
          "Inception",
          "The Dark Knight",
          "Deception",
          "Looper",
          "Aliens",
          "Source code",
          "The Terminator",
          "Behind Enemy Lines",
          "Inception",
          "Me Before You",
          "Just Go with It"
         ],
         "tickvals": [
          0,
          1,
          2,
          3,
          4,
          5,
          6,
          7,
          8,
          9,
          10,
          11
         ],
         "zeroline": false
        }
       }
      },
      "text/html": [
       "<div id=\"0887cf0c-b756-43ac-b0b9-06f8a5891da2\" style=\"height: 500px; width: 800px;\" class=\"plotly-graph-div\"></div><script type=\"text/javascript\">require([\"plotly\"], function(Plotly) { window.PLOTLYENV=window.PLOTLYENV || {};window.PLOTLYENV.BASE_URL=\"https://plot.ly\";Plotly.newPlot(\"0887cf0c-b756-43ac-b0b9-06f8a5891da2\", [{\"marker\": {\"color\": \"white\"}, \"name\": \"\", \"x\": [\"2018-08-04 7:00\", \"2018-08-04 9:00\"], \"y\": [0, 0], \"type\": \"scatter\", \"uid\": \"9d39ac64-9c69-11e8-8d39-6030d4660e22\"}, {\"marker\": {\"color\": \"white\"}, \"name\": \"\", \"x\": [\"2018-08-04 9:00\", \"2018-08-04 11:00\"], \"y\": [1, 1], \"type\": \"scatter\", \"uid\": \"9d39adfe-9c69-11e8-80df-6030d4660e22\"}, {\"marker\": {\"color\": \"white\"}, \"name\": \"\", \"x\": [\"2018-08-04 10:00\", \"2018-08-04 12:00\"], \"y\": [2, 2], \"type\": \"scatter\", \"uid\": \"9d39aeee-9c69-11e8-8576-6030d4660e22\"}, {\"marker\": {\"color\": \"white\"}, \"name\": \"\", \"x\": [\"2018-08-04 11:30\", \"2018-08-04 13:30\"], \"y\": [3, 3], \"type\": \"scatter\", \"uid\": \"9d39aff4-9c69-11e8-b864-6030d4660e22\"}, {\"marker\": {\"color\": \"white\"}, \"name\": \"\", \"x\": [\"2018-08-04 12:00\", \"2018-08-04 14:00\"], \"y\": [4, 4], \"type\": \"scatter\", \"uid\": \"9d39b0cc-9c69-11e8-9175-6030d4660e22\"}, {\"marker\": {\"color\": \"white\"}, \"name\": \"\", \"x\": [\"2018-08-04 13:30\", \"2018-08-04 15:30\"], \"y\": [5, 5], \"type\": \"scatter\", \"uid\": \"9d39b18c-9c69-11e8-b3f8-6030d4660e22\"}, {\"marker\": {\"color\": \"white\"}, \"name\": \"\", \"x\": [\"2018-08-04 16:00\", \"2018-08-04 18:00\"], \"y\": [6, 6], \"type\": \"scatter\", \"uid\": \"9d39b240-9c69-11e8-81d5-6030d4660e22\"}, {\"marker\": {\"color\": \"white\"}, \"name\": \"\", \"x\": [\"2018-08-04 17:00\", \"2018-08-04 19:00\"], \"y\": [7, 7], \"type\": \"scatter\", \"uid\": \"9d39b2f4-9c69-11e8-b7fa-6030d4660e22\"}, {\"marker\": {\"color\": \"white\"}, \"name\": \"\", \"x\": [\"2018-08-04 18:30\", \"2018-08-04 20:30\"], \"y\": [8, 8], \"type\": \"scatter\", \"uid\": \"9d39b39e-9c69-11e8-b668-6030d4660e22\"}, {\"marker\": {\"color\": \"white\"}, \"name\": \"\", \"x\": [\"2018-08-04 19:00\", \"2018-08-04 21:00\"], \"y\": [9, 9], \"type\": \"scatter\", \"uid\": \"9d39b452-9c69-11e8-a976-6030d4660e22\"}, {\"marker\": {\"color\": \"white\"}, \"name\": \"\", \"x\": [\"2018-08-04 21:30\", \"2018-08-04 23:30\"], \"y\": [10, 10], \"type\": \"scatter\", \"uid\": \"9d39b506-9c69-11e8-8e49-6030d4660e22\"}, {\"marker\": {\"color\": \"white\"}, \"name\": \"\", \"x\": [\"2018-08-04 21:00\", \"2018-08-04 23:00\"], \"y\": [11, 11], \"type\": \"scatter\", \"uid\": \"9d39b5b0-9c69-11e8-945b-6030d4660e22\"}, {\"hoverinfo\": \"none\", \"marker\": {\"color\": \"rgb(46, 137, 205)\", \"size\": 1}, \"name\": \"Action\", \"showlegend\": true, \"x\": [\"2018-08-04 21:00\", \"2018-08-04 21:00\"], \"y\": [0, 0], \"type\": \"scatter\", \"uid\": \"9d39b664-9c69-11e8-be06-6030d4660e22\"}, {\"hoverinfo\": \"none\", \"marker\": {\"color\": \"rgb(120, 247, 222)\", \"size\": 1}, \"name\": \"Comedy\", \"showlegend\": true, \"x\": [\"2018-08-04 21:00\", \"2018-08-04 21:00\"], \"y\": [1, 1], \"type\": \"scatter\", \"uid\": \"9d39b70c-9c69-11e8-be3e-6030d4660e22\"}, {\"hoverinfo\": \"none\", \"marker\": {\"color\": \"rgb(0, 0, 128)\", \"size\": 1}, \"name\": \"Drama\", \"showlegend\": true, \"x\": [\"2018-08-04 21:00\", \"2018-08-04 21:00\"], \"y\": [2, 2], \"type\": \"scatter\", \"uid\": \"9d39b7c2-9c69-11e8-ba7e-6030d4660e22\"}, {\"hoverinfo\": \"none\", \"marker\": {\"color\": \"rgb(255, 0, 0)\", \"size\": 1}, \"name\": \"Horror\", \"showlegend\": true, \"x\": [\"2018-08-04 21:00\", \"2018-08-04 21:00\"], \"y\": [3, 3], \"type\": \"scatter\", \"uid\": \"9d39b86c-9c69-11e8-b664-6030d4660e22\"}, {\"hoverinfo\": \"none\", \"marker\": {\"color\": \"rgb(128, 0, 0)\", \"size\": 1}, \"name\": \"Mystery\", \"showlegend\": true, \"x\": [\"2018-08-04 21:00\", \"2018-08-04 21:00\"], \"y\": [4, 4], \"type\": \"scatter\", \"uid\": \"9d39b918-9c69-11e8-990f-6030d4660e22\"}, {\"hoverinfo\": \"none\", \"marker\": {\"color\": \"rgb(189, 143, 215)\", \"size\": 1}, \"name\": \"Romance\", \"showlegend\": true, \"x\": [\"2018-08-04 21:00\", \"2018-08-04 21:00\"], \"y\": [5, 5], \"type\": \"scatter\", \"uid\": \"9d39b9ca-9c69-11e8-ac9c-6030d4660e22\"}, {\"hoverinfo\": \"none\", \"marker\": {\"color\": \"rgb(128, 128, 128)\", \"size\": 1}, \"name\": \"Science_Fiction\", \"showlegend\": true, \"x\": [\"2018-08-04 21:00\", \"2018-08-04 21:00\"], \"y\": [6, 6], \"type\": \"scatter\", \"uid\": \"9d39ba74-9c69-11e8-af0f-6030d4660e22\"}, {\"hoverinfo\": \"none\", \"marker\": {\"color\": \"rgb(192, 192, 192)\", \"size\": 1}, \"name\": \"Suspense\", \"showlegend\": true, \"x\": [\"2018-08-04 21:00\", \"2018-08-04 21:00\"], \"y\": [7, 7], \"type\": \"scatter\", \"uid\": \"9d39bb1e-9c69-11e8-b08c-6030d4660e22\"}, {\"hoverinfo\": \"none\", \"marker\": {\"color\": \"rgb(114, 44, 121)\", \"size\": 1}, \"name\": \"Thriller\", \"showlegend\": true, \"x\": [\"2018-08-04 21:00\", \"2018-08-04 21:00\"], \"y\": [8, 8], \"type\": \"scatter\", \"uid\": \"9d39bbbe-9c69-11e8-93dd-6030d4660e22\"}], {\"autosize\": false, \"height\": 500, \"hovermode\": \"closest\", \"margin\": {\"l\": 140}, \"shapes\": [{\"fillcolor\": \"rgb(46, 137, 205)\", \"line\": {\"width\": 0}, \"opacity\": 1, \"type\": \"rect\", \"x0\": \"2018-08-04 7:00\", \"x1\": \"2018-08-04 9:00\", \"xref\": \"x\", \"y0\": -0.4, \"y1\": 0.4, \"yref\": \"y\"}, {\"fillcolor\": \"rgb(114, 44, 121)\", \"line\": {\"width\": 0}, \"opacity\": 1, \"type\": \"rect\", \"x0\": \"2018-08-04 9:00\", \"x1\": \"2018-08-04 11:00\", \"xref\": \"x\", \"y0\": 0.6, \"y1\": 1.4, \"yref\": \"y\"}, {\"fillcolor\": \"rgb(114, 44, 121)\", \"line\": {\"width\": 0}, \"opacity\": 1, \"type\": \"rect\", \"x0\": \"2018-08-04 10:00\", \"x1\": \"2018-08-04 12:00\", \"xref\": \"x\", \"y0\": 1.6, \"y1\": 2.4, \"yref\": \"y\"}, {\"fillcolor\": \"rgb(192, 192, 192)\", \"line\": {\"width\": 0}, \"opacity\": 1, \"type\": \"rect\", \"x0\": \"2018-08-04 11:30\", \"x1\": \"2018-08-04 13:30\", \"xref\": \"x\", \"y0\": 2.6, \"y1\": 3.4, \"yref\": \"y\"}, {\"fillcolor\": \"rgb(128, 128, 128)\", \"line\": {\"width\": 0}, \"opacity\": 1, \"type\": \"rect\", \"x0\": \"2018-08-04 12:00\", \"x1\": \"2018-08-04 14:00\", \"xref\": \"x\", \"y0\": 3.6, \"y1\": 4.4, \"yref\": \"y\"}, {\"fillcolor\": \"rgb(255, 0, 0)\", \"line\": {\"width\": 0}, \"opacity\": 1, \"type\": \"rect\", \"x0\": \"2018-08-04 13:30\", \"x1\": \"2018-08-04 15:30\", \"xref\": \"x\", \"y0\": 4.6, \"y1\": 5.4, \"yref\": \"y\"}, {\"fillcolor\": \"rgb(128, 0, 0)\", \"line\": {\"width\": 0}, \"opacity\": 1, \"type\": \"rect\", \"x0\": \"2018-08-04 16:00\", \"x1\": \"2018-08-04 18:00\", \"xref\": \"x\", \"y0\": 5.6, \"y1\": 6.4, \"yref\": \"y\"}, {\"fillcolor\": \"rgb(46, 137, 205)\", \"line\": {\"width\": 0}, \"opacity\": 1, \"type\": \"rect\", \"x0\": \"2018-08-04 17:00\", \"x1\": \"2018-08-04 19:00\", \"xref\": \"x\", \"y0\": 6.6, \"y1\": 7.4, \"yref\": \"y\"}, {\"fillcolor\": \"rgb(0, 0, 128)\", \"line\": {\"width\": 0}, \"opacity\": 1, \"type\": \"rect\", \"x0\": \"2018-08-04 18:30\", \"x1\": \"2018-08-04 20:30\", \"xref\": \"x\", \"y0\": 7.6, \"y1\": 8.4, \"yref\": \"y\"}, {\"fillcolor\": \"rgb(114, 44, 121)\", \"line\": {\"width\": 0}, \"opacity\": 1, \"type\": \"rect\", \"x0\": \"2018-08-04 19:00\", \"x1\": \"2018-08-04 21:00\", \"xref\": \"x\", \"y0\": 8.6, \"y1\": 9.4, \"yref\": \"y\"}, {\"fillcolor\": \"rgb(189, 143, 215)\", \"line\": {\"width\": 0}, \"opacity\": 1, \"type\": \"rect\", \"x0\": \"2018-08-04 21:30\", \"x1\": \"2018-08-04 23:30\", \"xref\": \"x\", \"y0\": 9.6, \"y1\": 10.4, \"yref\": \"y\"}, {\"fillcolor\": \"rgb(120, 247, 222)\", \"line\": {\"width\": 0}, \"opacity\": 1, \"type\": \"rect\", \"x0\": \"2018-08-04 21:00\", \"x1\": \"2018-08-04 23:00\", \"xref\": \"x\", \"y0\": 10.6, \"y1\": 11.4, \"yref\": \"y\"}], \"showlegend\": true, \"title\": \"Multiplex Schedule\", \"width\": 800, \"xaxis\": {\"rangeselector\": {\"buttons\": [{\"count\": 7, \"label\": \"1w\", \"step\": \"day\", \"stepmode\": \"backward\"}, {\"count\": 1, \"label\": \"1m\", \"step\": \"month\", \"stepmode\": \"backward\"}, {\"count\": 6, \"label\": \"6m\", \"step\": \"month\", \"stepmode\": \"backward\"}, {\"count\": 1, \"label\": \"YTD\", \"step\": \"year\", \"stepmode\": \"todate\"}, {\"count\": 1, \"label\": \"1y\", \"step\": \"year\", \"stepmode\": \"backward\"}, {\"step\": \"all\"}]}, \"showgrid\": true, \"type\": \"date\", \"zeroline\": false}, \"yaxis\": {\"autorange\": false, \"range\": [-1, 13], \"showgrid\": true, \"ticktext\": [\"Avengers: Infinity War\", \"Inception\", \"The Dark Knight\", \"Deception\", \"Looper\", \"Aliens\", \"Source code\", \"The Terminator\", \"Behind Enemy Lines\", \"Inception\", \"Me Before You\", \"Just Go with It\"], \"tickvals\": [0, 1, 2, 3, 4, 5, 6, 7, 8, 9, 10, 11], \"zeroline\": false}}, {\"showLink\": true, \"linkText\": \"Export to plot.ly\"})});</script>"
      ],
      "text/vnd.plotly.v1+html": [
       "<div id=\"0887cf0c-b756-43ac-b0b9-06f8a5891da2\" style=\"height: 500px; width: 800px;\" class=\"plotly-graph-div\"></div><script type=\"text/javascript\">require([\"plotly\"], function(Plotly) { window.PLOTLYENV=window.PLOTLYENV || {};window.PLOTLYENV.BASE_URL=\"https://plot.ly\";Plotly.newPlot(\"0887cf0c-b756-43ac-b0b9-06f8a5891da2\", [{\"marker\": {\"color\": \"white\"}, \"name\": \"\", \"x\": [\"2018-08-04 7:00\", \"2018-08-04 9:00\"], \"y\": [0, 0], \"type\": \"scatter\", \"uid\": \"9d39ac64-9c69-11e8-8d39-6030d4660e22\"}, {\"marker\": {\"color\": \"white\"}, \"name\": \"\", \"x\": [\"2018-08-04 9:00\", \"2018-08-04 11:00\"], \"y\": [1, 1], \"type\": \"scatter\", \"uid\": \"9d39adfe-9c69-11e8-80df-6030d4660e22\"}, {\"marker\": {\"color\": \"white\"}, \"name\": \"\", \"x\": [\"2018-08-04 10:00\", \"2018-08-04 12:00\"], \"y\": [2, 2], \"type\": \"scatter\", \"uid\": \"9d39aeee-9c69-11e8-8576-6030d4660e22\"}, {\"marker\": {\"color\": \"white\"}, \"name\": \"\", \"x\": [\"2018-08-04 11:30\", \"2018-08-04 13:30\"], \"y\": [3, 3], \"type\": \"scatter\", \"uid\": \"9d39aff4-9c69-11e8-b864-6030d4660e22\"}, {\"marker\": {\"color\": \"white\"}, \"name\": \"\", \"x\": [\"2018-08-04 12:00\", \"2018-08-04 14:00\"], \"y\": [4, 4], \"type\": \"scatter\", \"uid\": \"9d39b0cc-9c69-11e8-9175-6030d4660e22\"}, {\"marker\": {\"color\": \"white\"}, \"name\": \"\", \"x\": [\"2018-08-04 13:30\", \"2018-08-04 15:30\"], \"y\": [5, 5], \"type\": \"scatter\", \"uid\": \"9d39b18c-9c69-11e8-b3f8-6030d4660e22\"}, {\"marker\": {\"color\": \"white\"}, \"name\": \"\", \"x\": [\"2018-08-04 16:00\", \"2018-08-04 18:00\"], \"y\": [6, 6], \"type\": \"scatter\", \"uid\": \"9d39b240-9c69-11e8-81d5-6030d4660e22\"}, {\"marker\": {\"color\": \"white\"}, \"name\": \"\", \"x\": [\"2018-08-04 17:00\", \"2018-08-04 19:00\"], \"y\": [7, 7], \"type\": \"scatter\", \"uid\": \"9d39b2f4-9c69-11e8-b7fa-6030d4660e22\"}, {\"marker\": {\"color\": \"white\"}, \"name\": \"\", \"x\": [\"2018-08-04 18:30\", \"2018-08-04 20:30\"], \"y\": [8, 8], \"type\": \"scatter\", \"uid\": \"9d39b39e-9c69-11e8-b668-6030d4660e22\"}, {\"marker\": {\"color\": \"white\"}, \"name\": \"\", \"x\": [\"2018-08-04 19:00\", \"2018-08-04 21:00\"], \"y\": [9, 9], \"type\": \"scatter\", \"uid\": \"9d39b452-9c69-11e8-a976-6030d4660e22\"}, {\"marker\": {\"color\": \"white\"}, \"name\": \"\", \"x\": [\"2018-08-04 21:30\", \"2018-08-04 23:30\"], \"y\": [10, 10], \"type\": \"scatter\", \"uid\": \"9d39b506-9c69-11e8-8e49-6030d4660e22\"}, {\"marker\": {\"color\": \"white\"}, \"name\": \"\", \"x\": [\"2018-08-04 21:00\", \"2018-08-04 23:00\"], \"y\": [11, 11], \"type\": \"scatter\", \"uid\": \"9d39b5b0-9c69-11e8-945b-6030d4660e22\"}, {\"hoverinfo\": \"none\", \"marker\": {\"color\": \"rgb(46, 137, 205)\", \"size\": 1}, \"name\": \"Action\", \"showlegend\": true, \"x\": [\"2018-08-04 21:00\", \"2018-08-04 21:00\"], \"y\": [0, 0], \"type\": \"scatter\", \"uid\": \"9d39b664-9c69-11e8-be06-6030d4660e22\"}, {\"hoverinfo\": \"none\", \"marker\": {\"color\": \"rgb(120, 247, 222)\", \"size\": 1}, \"name\": \"Comedy\", \"showlegend\": true, \"x\": [\"2018-08-04 21:00\", \"2018-08-04 21:00\"], \"y\": [1, 1], \"type\": \"scatter\", \"uid\": \"9d39b70c-9c69-11e8-be3e-6030d4660e22\"}, {\"hoverinfo\": \"none\", \"marker\": {\"color\": \"rgb(0, 0, 128)\", \"size\": 1}, \"name\": \"Drama\", \"showlegend\": true, \"x\": [\"2018-08-04 21:00\", \"2018-08-04 21:00\"], \"y\": [2, 2], \"type\": \"scatter\", \"uid\": \"9d39b7c2-9c69-11e8-ba7e-6030d4660e22\"}, {\"hoverinfo\": \"none\", \"marker\": {\"color\": \"rgb(255, 0, 0)\", \"size\": 1}, \"name\": \"Horror\", \"showlegend\": true, \"x\": [\"2018-08-04 21:00\", \"2018-08-04 21:00\"], \"y\": [3, 3], \"type\": \"scatter\", \"uid\": \"9d39b86c-9c69-11e8-b664-6030d4660e22\"}, {\"hoverinfo\": \"none\", \"marker\": {\"color\": \"rgb(128, 0, 0)\", \"size\": 1}, \"name\": \"Mystery\", \"showlegend\": true, \"x\": [\"2018-08-04 21:00\", \"2018-08-04 21:00\"], \"y\": [4, 4], \"type\": \"scatter\", \"uid\": \"9d39b918-9c69-11e8-990f-6030d4660e22\"}, {\"hoverinfo\": \"none\", \"marker\": {\"color\": \"rgb(189, 143, 215)\", \"size\": 1}, \"name\": \"Romance\", \"showlegend\": true, \"x\": [\"2018-08-04 21:00\", \"2018-08-04 21:00\"], \"y\": [5, 5], \"type\": \"scatter\", \"uid\": \"9d39b9ca-9c69-11e8-ac9c-6030d4660e22\"}, {\"hoverinfo\": \"none\", \"marker\": {\"color\": \"rgb(128, 128, 128)\", \"size\": 1}, \"name\": \"Science_Fiction\", \"showlegend\": true, \"x\": [\"2018-08-04 21:00\", \"2018-08-04 21:00\"], \"y\": [6, 6], \"type\": \"scatter\", \"uid\": \"9d39ba74-9c69-11e8-af0f-6030d4660e22\"}, {\"hoverinfo\": \"none\", \"marker\": {\"color\": \"rgb(192, 192, 192)\", \"size\": 1}, \"name\": \"Suspense\", \"showlegend\": true, \"x\": [\"2018-08-04 21:00\", \"2018-08-04 21:00\"], \"y\": [7, 7], \"type\": \"scatter\", \"uid\": \"9d39bb1e-9c69-11e8-b08c-6030d4660e22\"}, {\"hoverinfo\": \"none\", \"marker\": {\"color\": \"rgb(114, 44, 121)\", \"size\": 1}, \"name\": \"Thriller\", \"showlegend\": true, \"x\": [\"2018-08-04 21:00\", \"2018-08-04 21:00\"], \"y\": [8, 8], \"type\": \"scatter\", \"uid\": \"9d39bbbe-9c69-11e8-93dd-6030d4660e22\"}], {\"autosize\": false, \"height\": 500, \"hovermode\": \"closest\", \"margin\": {\"l\": 140}, \"shapes\": [{\"fillcolor\": \"rgb(46, 137, 205)\", \"line\": {\"width\": 0}, \"opacity\": 1, \"type\": \"rect\", \"x0\": \"2018-08-04 7:00\", \"x1\": \"2018-08-04 9:00\", \"xref\": \"x\", \"y0\": -0.4, \"y1\": 0.4, \"yref\": \"y\"}, {\"fillcolor\": \"rgb(114, 44, 121)\", \"line\": {\"width\": 0}, \"opacity\": 1, \"type\": \"rect\", \"x0\": \"2018-08-04 9:00\", \"x1\": \"2018-08-04 11:00\", \"xref\": \"x\", \"y0\": 0.6, \"y1\": 1.4, \"yref\": \"y\"}, {\"fillcolor\": \"rgb(114, 44, 121)\", \"line\": {\"width\": 0}, \"opacity\": 1, \"type\": \"rect\", \"x0\": \"2018-08-04 10:00\", \"x1\": \"2018-08-04 12:00\", \"xref\": \"x\", \"y0\": 1.6, \"y1\": 2.4, \"yref\": \"y\"}, {\"fillcolor\": \"rgb(192, 192, 192)\", \"line\": {\"width\": 0}, \"opacity\": 1, \"type\": \"rect\", \"x0\": \"2018-08-04 11:30\", \"x1\": \"2018-08-04 13:30\", \"xref\": \"x\", \"y0\": 2.6, \"y1\": 3.4, \"yref\": \"y\"}, {\"fillcolor\": \"rgb(128, 128, 128)\", \"line\": {\"width\": 0}, \"opacity\": 1, \"type\": \"rect\", \"x0\": \"2018-08-04 12:00\", \"x1\": \"2018-08-04 14:00\", \"xref\": \"x\", \"y0\": 3.6, \"y1\": 4.4, \"yref\": \"y\"}, {\"fillcolor\": \"rgb(255, 0, 0)\", \"line\": {\"width\": 0}, \"opacity\": 1, \"type\": \"rect\", \"x0\": \"2018-08-04 13:30\", \"x1\": \"2018-08-04 15:30\", \"xref\": \"x\", \"y0\": 4.6, \"y1\": 5.4, \"yref\": \"y\"}, {\"fillcolor\": \"rgb(128, 0, 0)\", \"line\": {\"width\": 0}, \"opacity\": 1, \"type\": \"rect\", \"x0\": \"2018-08-04 16:00\", \"x1\": \"2018-08-04 18:00\", \"xref\": \"x\", \"y0\": 5.6, \"y1\": 6.4, \"yref\": \"y\"}, {\"fillcolor\": \"rgb(46, 137, 205)\", \"line\": {\"width\": 0}, \"opacity\": 1, \"type\": \"rect\", \"x0\": \"2018-08-04 17:00\", \"x1\": \"2018-08-04 19:00\", \"xref\": \"x\", \"y0\": 6.6, \"y1\": 7.4, \"yref\": \"y\"}, {\"fillcolor\": \"rgb(0, 0, 128)\", \"line\": {\"width\": 0}, \"opacity\": 1, \"type\": \"rect\", \"x0\": \"2018-08-04 18:30\", \"x1\": \"2018-08-04 20:30\", \"xref\": \"x\", \"y0\": 7.6, \"y1\": 8.4, \"yref\": \"y\"}, {\"fillcolor\": \"rgb(114, 44, 121)\", \"line\": {\"width\": 0}, \"opacity\": 1, \"type\": \"rect\", \"x0\": \"2018-08-04 19:00\", \"x1\": \"2018-08-04 21:00\", \"xref\": \"x\", \"y0\": 8.6, \"y1\": 9.4, \"yref\": \"y\"}, {\"fillcolor\": \"rgb(189, 143, 215)\", \"line\": {\"width\": 0}, \"opacity\": 1, \"type\": \"rect\", \"x0\": \"2018-08-04 21:30\", \"x1\": \"2018-08-04 23:30\", \"xref\": \"x\", \"y0\": 9.6, \"y1\": 10.4, \"yref\": \"y\"}, {\"fillcolor\": \"rgb(120, 247, 222)\", \"line\": {\"width\": 0}, \"opacity\": 1, \"type\": \"rect\", \"x0\": \"2018-08-04 21:00\", \"x1\": \"2018-08-04 23:00\", \"xref\": \"x\", \"y0\": 10.6, \"y1\": 11.4, \"yref\": \"y\"}], \"showlegend\": true, \"title\": \"Multiplex Schedule\", \"width\": 800, \"xaxis\": {\"rangeselector\": {\"buttons\": [{\"count\": 7, \"label\": \"1w\", \"step\": \"day\", \"stepmode\": \"backward\"}, {\"count\": 1, \"label\": \"1m\", \"step\": \"month\", \"stepmode\": \"backward\"}, {\"count\": 6, \"label\": \"6m\", \"step\": \"month\", \"stepmode\": \"backward\"}, {\"count\": 1, \"label\": \"YTD\", \"step\": \"year\", \"stepmode\": \"todate\"}, {\"count\": 1, \"label\": \"1y\", \"step\": \"year\", \"stepmode\": \"backward\"}, {\"step\": \"all\"}]}, \"showgrid\": true, \"type\": \"date\", \"zeroline\": false}, \"yaxis\": {\"autorange\": false, \"range\": [-1, 13], \"showgrid\": true, \"ticktext\": [\"Avengers: Infinity War\", \"Inception\", \"The Dark Knight\", \"Deception\", \"Looper\", \"Aliens\", \"Source code\", \"The Terminator\", \"Behind Enemy Lines\", \"Inception\", \"Me Before You\", \"Just Go with It\"], \"tickvals\": [0, 1, 2, 3, 4, 5, 6, 7, 8, 9, 10, 11], \"zeroline\": false}}, {\"showLink\": true, \"linkText\": \"Export to plot.ly\"})});</script>"
      ]
     },
     "metadata": {},
     "output_type": "display_data"
    }
   ],
   "source": [
    "fig = ff.create_gantt(multiplex_schedule,\n",
    "                      title='Multiplex Schedule',\n",
    "                      \n",
    "                      colors=color_dict, \n",
    "                      index_col='Category',\n",
    "                      show_colorbar=True,\n",
    "                      \n",
    "                      bar_width=0.4,\n",
    "                      \n",
    "                      showgrid_x=True, \n",
    "                      showgrid_y=True,\n",
    "                     )\n",
    "fig['layout'].update(autosize=False, width=800, height=500, margin=dict(l=140))\n",
    "offline.iplot(fig)"
   ]
  },
  {
   "cell_type": "markdown",
   "metadata": {},
   "source": [
    "**Alternatively, we use a color list**\n",
    "\n",
    "Here, the ordering of colors will be mapped to the list of categories in alphabetical order."
   ]
  },
  {
   "cell_type": "code",
   "execution_count": 10,
   "metadata": {},
   "outputs": [],
   "source": [
    "color_list = ['#FF0000', \n",
    "              '#800000', \n",
    "              '#808000',\n",
    "              '#00FF00',\n",
    "              '#008000',\n",
    "              '#00FFFF',\n",
    "              '#0000FF',\n",
    "              '#000080',\n",
    "              '#008080']        "
   ]
  },
  {
   "cell_type": "code",
   "execution_count": 11,
   "metadata": {},
   "outputs": [
    {
     "data": {
      "application/vnd.plotly.v1+json": {
       "data": [
        {
         "marker": {
          "color": "white"
         },
         "name": "",
         "type": "scatter",
         "uid": "9d568712-9c69-11e8-9013-6030d4660e22",
         "x": [
          "2018-08-04 7:00",
          "2018-08-04 9:00"
         ],
         "y": [
          0,
          0
         ]
        },
        {
         "marker": {
          "color": "white"
         },
         "name": "",
         "type": "scatter",
         "uid": "9d56891a-9c69-11e8-b4f2-6030d4660e22",
         "x": [
          "2018-08-04 9:00",
          "2018-08-04 11:00"
         ],
         "y": [
          1,
          1
         ]
        },
        {
         "marker": {
          "color": "white"
         },
         "name": "",
         "type": "scatter",
         "uid": "9d568a28-9c69-11e8-bce2-6030d4660e22",
         "x": [
          "2018-08-04 10:00",
          "2018-08-04 12:00"
         ],
         "y": [
          2,
          2
         ]
        },
        {
         "marker": {
          "color": "white"
         },
         "name": "",
         "type": "scatter",
         "uid": "9d568b06-9c69-11e8-849a-6030d4660e22",
         "x": [
          "2018-08-04 11:30",
          "2018-08-04 13:30"
         ],
         "y": [
          3,
          3
         ]
        },
        {
         "marker": {
          "color": "white"
         },
         "name": "",
         "type": "scatter",
         "uid": "9d568bcc-9c69-11e8-82af-6030d4660e22",
         "x": [
          "2018-08-04 12:00",
          "2018-08-04 14:00"
         ],
         "y": [
          4,
          4
         ]
        },
        {
         "marker": {
          "color": "white"
         },
         "name": "",
         "type": "scatter",
         "uid": "9d568c8a-9c69-11e8-b0ec-6030d4660e22",
         "x": [
          "2018-08-04 13:30",
          "2018-08-04 15:30"
         ],
         "y": [
          5,
          5
         ]
        },
        {
         "marker": {
          "color": "white"
         },
         "name": "",
         "type": "scatter",
         "uid": "9d568d48-9c69-11e8-83d7-6030d4660e22",
         "x": [
          "2018-08-04 16:00",
          "2018-08-04 18:00"
         ],
         "y": [
          6,
          6
         ]
        },
        {
         "marker": {
          "color": "white"
         },
         "name": "",
         "type": "scatter",
         "uid": "9d568e10-9c69-11e8-96bd-6030d4660e22",
         "x": [
          "2018-08-04 17:00",
          "2018-08-04 19:00"
         ],
         "y": [
          7,
          7
         ]
        },
        {
         "marker": {
          "color": "white"
         },
         "name": "",
         "type": "scatter",
         "uid": "9d568ecc-9c69-11e8-aa13-6030d4660e22",
         "x": [
          "2018-08-04 18:30",
          "2018-08-04 20:30"
         ],
         "y": [
          8,
          8
         ]
        },
        {
         "marker": {
          "color": "white"
         },
         "name": "",
         "type": "scatter",
         "uid": "9d568f8c-9c69-11e8-be89-6030d4660e22",
         "x": [
          "2018-08-04 19:00",
          "2018-08-04 21:00"
         ],
         "y": [
          9,
          9
         ]
        },
        {
         "marker": {
          "color": "white"
         },
         "name": "",
         "type": "scatter",
         "uid": "9d56904a-9c69-11e8-b6a8-6030d4660e22",
         "x": [
          "2018-08-04 21:30",
          "2018-08-04 23:30"
         ],
         "y": [
          10,
          10
         ]
        },
        {
         "marker": {
          "color": "white"
         },
         "name": "",
         "type": "scatter",
         "uid": "9d569108-9c69-11e8-9ab2-6030d4660e22",
         "x": [
          "2018-08-04 21:00",
          "2018-08-04 23:00"
         ],
         "y": [
          11,
          11
         ]
        },
        {
         "hoverinfo": "none",
         "marker": {
          "color": "rgb(255, 0, 0)",
          "size": 1
         },
         "name": "Action",
         "showlegend": true,
         "type": "scatter",
         "uid": "9d5691ba-9c69-11e8-8123-6030d4660e22",
         "x": [
          "2018-08-04 21:00",
          "2018-08-04 21:00"
         ],
         "y": [
          0,
          0
         ]
        },
        {
         "hoverinfo": "none",
         "marker": {
          "color": "rgb(128, 0, 0)",
          "size": 1
         },
         "name": "Comedy",
         "showlegend": true,
         "type": "scatter",
         "uid": "9d56927a-9c69-11e8-ac23-6030d4660e22",
         "x": [
          "2018-08-04 21:00",
          "2018-08-04 21:00"
         ],
         "y": [
          1,
          1
         ]
        },
        {
         "hoverinfo": "none",
         "marker": {
          "color": "rgb(128, 128, 0)",
          "size": 1
         },
         "name": "Drama",
         "showlegend": true,
         "type": "scatter",
         "uid": "9d56932e-9c69-11e8-830e-6030d4660e22",
         "x": [
          "2018-08-04 21:00",
          "2018-08-04 21:00"
         ],
         "y": [
          2,
          2
         ]
        },
        {
         "hoverinfo": "none",
         "marker": {
          "color": "rgb(0, 255, 0)",
          "size": 1
         },
         "name": "Horror",
         "showlegend": true,
         "type": "scatter",
         "uid": "9d5693e2-9c69-11e8-ba0d-6030d4660e22",
         "x": [
          "2018-08-04 21:00",
          "2018-08-04 21:00"
         ],
         "y": [
          3,
          3
         ]
        },
        {
         "hoverinfo": "none",
         "marker": {
          "color": "rgb(0, 128, 0)",
          "size": 1
         },
         "name": "Mystery",
         "showlegend": true,
         "type": "scatter",
         "uid": "9d56949e-9c69-11e8-a15e-6030d4660e22",
         "x": [
          "2018-08-04 21:00",
          "2018-08-04 21:00"
         ],
         "y": [
          4,
          4
         ]
        },
        {
         "hoverinfo": "none",
         "marker": {
          "color": "rgb(0, 255, 255)",
          "size": 1
         },
         "name": "Romance",
         "showlegend": true,
         "type": "scatter",
         "uid": "9d569554-9c69-11e8-bc73-6030d4660e22",
         "x": [
          "2018-08-04 21:00",
          "2018-08-04 21:00"
         ],
         "y": [
          5,
          5
         ]
        },
        {
         "hoverinfo": "none",
         "marker": {
          "color": "rgb(0, 0, 255)",
          "size": 1
         },
         "name": "Science_Fiction",
         "showlegend": true,
         "type": "scatter",
         "uid": "9d5696c6-9c69-11e8-b2fa-6030d4660e22",
         "x": [
          "2018-08-04 21:00",
          "2018-08-04 21:00"
         ],
         "y": [
          6,
          6
         ]
        },
        {
         "hoverinfo": "none",
         "marker": {
          "color": "rgb(0, 0, 128)",
          "size": 1
         },
         "name": "Suspense",
         "showlegend": true,
         "type": "scatter",
         "uid": "9d5697a2-9c69-11e8-906a-6030d4660e22",
         "x": [
          "2018-08-04 21:00",
          "2018-08-04 21:00"
         ],
         "y": [
          7,
          7
         ]
        },
        {
         "hoverinfo": "none",
         "marker": {
          "color": "rgb(0, 128, 128)",
          "size": 1
         },
         "name": "Thriller",
         "showlegend": true,
         "type": "scatter",
         "uid": "9d569862-9c69-11e8-8fcf-6030d4660e22",
         "x": [
          "2018-08-04 21:00",
          "2018-08-04 21:00"
         ],
         "y": [
          8,
          8
         ]
        }
       ],
       "layout": {
        "autosize": false,
        "height": 500,
        "hovermode": "closest",
        "margin": {
         "l": 140
        },
        "shapes": [
         {
          "fillcolor": "rgb(255, 0, 0)",
          "line": {
           "width": 0
          },
          "opacity": 1,
          "type": "rect",
          "x0": "2018-08-04 7:00",
          "x1": "2018-08-04 9:00",
          "xref": "x",
          "y0": -0.4,
          "y1": 0.4,
          "yref": "y"
         },
         {
          "fillcolor": "rgb(0, 128, 128)",
          "line": {
           "width": 0
          },
          "opacity": 1,
          "type": "rect",
          "x0": "2018-08-04 9:00",
          "x1": "2018-08-04 11:00",
          "xref": "x",
          "y0": 0.6,
          "y1": 1.4,
          "yref": "y"
         },
         {
          "fillcolor": "rgb(0, 128, 128)",
          "line": {
           "width": 0
          },
          "opacity": 1,
          "type": "rect",
          "x0": "2018-08-04 10:00",
          "x1": "2018-08-04 12:00",
          "xref": "x",
          "y0": 1.6,
          "y1": 2.4,
          "yref": "y"
         },
         {
          "fillcolor": "rgb(0, 0, 128)",
          "line": {
           "width": 0
          },
          "opacity": 1,
          "type": "rect",
          "x0": "2018-08-04 11:30",
          "x1": "2018-08-04 13:30",
          "xref": "x",
          "y0": 2.6,
          "y1": 3.4,
          "yref": "y"
         },
         {
          "fillcolor": "rgb(0, 0, 255)",
          "line": {
           "width": 0
          },
          "opacity": 1,
          "type": "rect",
          "x0": "2018-08-04 12:00",
          "x1": "2018-08-04 14:00",
          "xref": "x",
          "y0": 3.6,
          "y1": 4.4,
          "yref": "y"
         },
         {
          "fillcolor": "rgb(0, 255, 0)",
          "line": {
           "width": 0
          },
          "opacity": 1,
          "type": "rect",
          "x0": "2018-08-04 13:30",
          "x1": "2018-08-04 15:30",
          "xref": "x",
          "y0": 4.6,
          "y1": 5.4,
          "yref": "y"
         },
         {
          "fillcolor": "rgb(0, 128, 0)",
          "line": {
           "width": 0
          },
          "opacity": 1,
          "type": "rect",
          "x0": "2018-08-04 16:00",
          "x1": "2018-08-04 18:00",
          "xref": "x",
          "y0": 5.6,
          "y1": 6.4,
          "yref": "y"
         },
         {
          "fillcolor": "rgb(255, 0, 0)",
          "line": {
           "width": 0
          },
          "opacity": 1,
          "type": "rect",
          "x0": "2018-08-04 17:00",
          "x1": "2018-08-04 19:00",
          "xref": "x",
          "y0": 6.6,
          "y1": 7.4,
          "yref": "y"
         },
         {
          "fillcolor": "rgb(128, 128, 0)",
          "line": {
           "width": 0
          },
          "opacity": 1,
          "type": "rect",
          "x0": "2018-08-04 18:30",
          "x1": "2018-08-04 20:30",
          "xref": "x",
          "y0": 7.6,
          "y1": 8.4,
          "yref": "y"
         },
         {
          "fillcolor": "rgb(0, 128, 128)",
          "line": {
           "width": 0
          },
          "opacity": 1,
          "type": "rect",
          "x0": "2018-08-04 19:00",
          "x1": "2018-08-04 21:00",
          "xref": "x",
          "y0": 8.6,
          "y1": 9.4,
          "yref": "y"
         },
         {
          "fillcolor": "rgb(0, 255, 255)",
          "line": {
           "width": 0
          },
          "opacity": 1,
          "type": "rect",
          "x0": "2018-08-04 21:30",
          "x1": "2018-08-04 23:30",
          "xref": "x",
          "y0": 9.6,
          "y1": 10.4,
          "yref": "y"
         },
         {
          "fillcolor": "rgb(128, 0, 0)",
          "line": {
           "width": 0
          },
          "opacity": 1,
          "type": "rect",
          "x0": "2018-08-04 21:00",
          "x1": "2018-08-04 23:00",
          "xref": "x",
          "y0": 10.6,
          "y1": 11.4,
          "yref": "y"
         }
        ],
        "showlegend": true,
        "title": "Multiplex Schedule",
        "width": 800,
        "xaxis": {
         "rangeselector": {
          "buttons": [
           {
            "count": 7,
            "label": "1w",
            "step": "day",
            "stepmode": "backward"
           },
           {
            "count": 1,
            "label": "1m",
            "step": "month",
            "stepmode": "backward"
           },
           {
            "count": 6,
            "label": "6m",
            "step": "month",
            "stepmode": "backward"
           },
           {
            "count": 1,
            "label": "YTD",
            "step": "year",
            "stepmode": "todate"
           },
           {
            "count": 1,
            "label": "1y",
            "step": "year",
            "stepmode": "backward"
           },
           {
            "step": "all"
           }
          ]
         },
         "showgrid": true,
         "type": "date",
         "zeroline": false
        },
        "yaxis": {
         "autorange": false,
         "range": [
          -1,
          13
         ],
         "showgrid": true,
         "ticktext": [
          "Avengers: Infinity War",
          "Inception",
          "The Dark Knight",
          "Deception",
          "Looper",
          "Aliens",
          "Source code",
          "The Terminator",
          "Behind Enemy Lines",
          "Inception",
          "Me Before You",
          "Just Go with It"
         ],
         "tickvals": [
          0,
          1,
          2,
          3,
          4,
          5,
          6,
          7,
          8,
          9,
          10,
          11
         ],
         "zeroline": false
        }
       }
      },
      "text/html": [
       "<div id=\"747d4445-d3d5-433c-bb38-246539320786\" style=\"height: 500px; width: 800px;\" class=\"plotly-graph-div\"></div><script type=\"text/javascript\">require([\"plotly\"], function(Plotly) { window.PLOTLYENV=window.PLOTLYENV || {};window.PLOTLYENV.BASE_URL=\"https://plot.ly\";Plotly.newPlot(\"747d4445-d3d5-433c-bb38-246539320786\", [{\"marker\": {\"color\": \"white\"}, \"name\": \"\", \"x\": [\"2018-08-04 7:00\", \"2018-08-04 9:00\"], \"y\": [0, 0], \"type\": \"scatter\", \"uid\": \"9d69c946-9c69-11e8-83d1-6030d4660e22\"}, {\"marker\": {\"color\": \"white\"}, \"name\": \"\", \"x\": [\"2018-08-04 9:00\", \"2018-08-04 11:00\"], \"y\": [1, 1], \"type\": \"scatter\", \"uid\": \"9d69cade-9c69-11e8-9cb9-6030d4660e22\"}, {\"marker\": {\"color\": \"white\"}, \"name\": \"\", \"x\": [\"2018-08-04 10:00\", \"2018-08-04 12:00\"], \"y\": [2, 2], \"type\": \"scatter\", \"uid\": \"9d69cbc6-9c69-11e8-b381-6030d4660e22\"}, {\"marker\": {\"color\": \"white\"}, \"name\": \"\", \"x\": [\"2018-08-04 11:30\", \"2018-08-04 13:30\"], \"y\": [3, 3], \"type\": \"scatter\", \"uid\": \"9d69cc8c-9c69-11e8-bf04-6030d4660e22\"}, {\"marker\": {\"color\": \"white\"}, \"name\": \"\", \"x\": [\"2018-08-04 12:00\", \"2018-08-04 14:00\"], \"y\": [4, 4], \"type\": \"scatter\", \"uid\": \"9d69cd40-9c69-11e8-a1be-6030d4660e22\"}, {\"marker\": {\"color\": \"white\"}, \"name\": \"\", \"x\": [\"2018-08-04 13:30\", \"2018-08-04 15:30\"], \"y\": [5, 5], \"type\": \"scatter\", \"uid\": \"9d69cdf4-9c69-11e8-a185-6030d4660e22\"}, {\"marker\": {\"color\": \"white\"}, \"name\": \"\", \"x\": [\"2018-08-04 16:00\", \"2018-08-04 18:00\"], \"y\": [6, 6], \"type\": \"scatter\", \"uid\": \"9d69cea8-9c69-11e8-8b4b-6030d4660e22\"}, {\"marker\": {\"color\": \"white\"}, \"name\": \"\", \"x\": [\"2018-08-04 17:00\", \"2018-08-04 19:00\"], \"y\": [7, 7], \"type\": \"scatter\", \"uid\": \"9d69cf5c-9c69-11e8-9b76-6030d4660e22\"}, {\"marker\": {\"color\": \"white\"}, \"name\": \"\", \"x\": [\"2018-08-04 18:30\", \"2018-08-04 20:30\"], \"y\": [8, 8], \"type\": \"scatter\", \"uid\": \"9d69d006-9c69-11e8-9407-6030d4660e22\"}, {\"marker\": {\"color\": \"white\"}, \"name\": \"\", \"x\": [\"2018-08-04 19:00\", \"2018-08-04 21:00\"], \"y\": [9, 9], \"type\": \"scatter\", \"uid\": \"9d69d0ba-9c69-11e8-bf24-6030d4660e22\"}, {\"marker\": {\"color\": \"white\"}, \"name\": \"\", \"x\": [\"2018-08-04 21:30\", \"2018-08-04 23:30\"], \"y\": [10, 10], \"type\": \"scatter\", \"uid\": \"9d69d16e-9c69-11e8-9f1f-6030d4660e22\"}, {\"marker\": {\"color\": \"white\"}, \"name\": \"\", \"x\": [\"2018-08-04 21:00\", \"2018-08-04 23:00\"], \"y\": [11, 11], \"type\": \"scatter\", \"uid\": \"9d69d274-9c69-11e8-97c8-6030d4660e22\"}, {\"hoverinfo\": \"none\", \"marker\": {\"color\": \"rgb(255, 0, 0)\", \"size\": 1}, \"name\": \"Action\", \"showlegend\": true, \"x\": [\"2018-08-04 21:00\", \"2018-08-04 21:00\"], \"y\": [0, 0], \"type\": \"scatter\", \"uid\": \"9d69d33a-9c69-11e8-8e06-6030d4660e22\"}, {\"hoverinfo\": \"none\", \"marker\": {\"color\": \"rgb(128, 0, 0)\", \"size\": 1}, \"name\": \"Comedy\", \"showlegend\": true, \"x\": [\"2018-08-04 21:00\", \"2018-08-04 21:00\"], \"y\": [1, 1], \"type\": \"scatter\", \"uid\": \"9d69d3ee-9c69-11e8-8412-6030d4660e22\"}, {\"hoverinfo\": \"none\", \"marker\": {\"color\": \"rgb(128, 128, 0)\", \"size\": 1}, \"name\": \"Drama\", \"showlegend\": true, \"x\": [\"2018-08-04 21:00\", \"2018-08-04 21:00\"], \"y\": [2, 2], \"type\": \"scatter\", \"uid\": \"9d69d498-9c69-11e8-bced-6030d4660e22\"}, {\"hoverinfo\": \"none\", \"marker\": {\"color\": \"rgb(0, 255, 0)\", \"size\": 1}, \"name\": \"Horror\", \"showlegend\": true, \"x\": [\"2018-08-04 21:00\", \"2018-08-04 21:00\"], \"y\": [3, 3], \"type\": \"scatter\", \"uid\": \"9d69d542-9c69-11e8-ac97-6030d4660e22\"}, {\"hoverinfo\": \"none\", \"marker\": {\"color\": \"rgb(0, 128, 0)\", \"size\": 1}, \"name\": \"Mystery\", \"showlegend\": true, \"x\": [\"2018-08-04 21:00\", \"2018-08-04 21:00\"], \"y\": [4, 4], \"type\": \"scatter\", \"uid\": \"9d69d5ec-9c69-11e8-baff-6030d4660e22\"}, {\"hoverinfo\": \"none\", \"marker\": {\"color\": \"rgb(0, 255, 255)\", \"size\": 1}, \"name\": \"Romance\", \"showlegend\": true, \"x\": [\"2018-08-04 21:00\", \"2018-08-04 21:00\"], \"y\": [5, 5], \"type\": \"scatter\", \"uid\": \"9d69d698-9c69-11e8-a0d0-6030d4660e22\"}, {\"hoverinfo\": \"none\", \"marker\": {\"color\": \"rgb(0, 0, 255)\", \"size\": 1}, \"name\": \"Science_Fiction\", \"showlegend\": true, \"x\": [\"2018-08-04 21:00\", \"2018-08-04 21:00\"], \"y\": [6, 6], \"type\": \"scatter\", \"uid\": \"9d69d740-9c69-11e8-bfad-6030d4660e22\"}, {\"hoverinfo\": \"none\", \"marker\": {\"color\": \"rgb(0, 0, 128)\", \"size\": 1}, \"name\": \"Suspense\", \"showlegend\": true, \"x\": [\"2018-08-04 21:00\", \"2018-08-04 21:00\"], \"y\": [7, 7], \"type\": \"scatter\", \"uid\": \"9d69d7e8-9c69-11e8-908e-6030d4660e22\"}, {\"hoverinfo\": \"none\", \"marker\": {\"color\": \"rgb(0, 128, 128)\", \"size\": 1}, \"name\": \"Thriller\", \"showlegend\": true, \"x\": [\"2018-08-04 21:00\", \"2018-08-04 21:00\"], \"y\": [8, 8], \"type\": \"scatter\", \"uid\": \"9d69d88a-9c69-11e8-8c7e-6030d4660e22\"}], {\"autosize\": false, \"height\": 500, \"hovermode\": \"closest\", \"margin\": {\"l\": 140}, \"shapes\": [{\"fillcolor\": \"rgb(255, 0, 0)\", \"line\": {\"width\": 0}, \"opacity\": 1, \"type\": \"rect\", \"x0\": \"2018-08-04 7:00\", \"x1\": \"2018-08-04 9:00\", \"xref\": \"x\", \"y0\": -0.4, \"y1\": 0.4, \"yref\": \"y\"}, {\"fillcolor\": \"rgb(0, 128, 128)\", \"line\": {\"width\": 0}, \"opacity\": 1, \"type\": \"rect\", \"x0\": \"2018-08-04 9:00\", \"x1\": \"2018-08-04 11:00\", \"xref\": \"x\", \"y0\": 0.6, \"y1\": 1.4, \"yref\": \"y\"}, {\"fillcolor\": \"rgb(0, 128, 128)\", \"line\": {\"width\": 0}, \"opacity\": 1, \"type\": \"rect\", \"x0\": \"2018-08-04 10:00\", \"x1\": \"2018-08-04 12:00\", \"xref\": \"x\", \"y0\": 1.6, \"y1\": 2.4, \"yref\": \"y\"}, {\"fillcolor\": \"rgb(0, 0, 128)\", \"line\": {\"width\": 0}, \"opacity\": 1, \"type\": \"rect\", \"x0\": \"2018-08-04 11:30\", \"x1\": \"2018-08-04 13:30\", \"xref\": \"x\", \"y0\": 2.6, \"y1\": 3.4, \"yref\": \"y\"}, {\"fillcolor\": \"rgb(0, 0, 255)\", \"line\": {\"width\": 0}, \"opacity\": 1, \"type\": \"rect\", \"x0\": \"2018-08-04 12:00\", \"x1\": \"2018-08-04 14:00\", \"xref\": \"x\", \"y0\": 3.6, \"y1\": 4.4, \"yref\": \"y\"}, {\"fillcolor\": \"rgb(0, 255, 0)\", \"line\": {\"width\": 0}, \"opacity\": 1, \"type\": \"rect\", \"x0\": \"2018-08-04 13:30\", \"x1\": \"2018-08-04 15:30\", \"xref\": \"x\", \"y0\": 4.6, \"y1\": 5.4, \"yref\": \"y\"}, {\"fillcolor\": \"rgb(0, 128, 0)\", \"line\": {\"width\": 0}, \"opacity\": 1, \"type\": \"rect\", \"x0\": \"2018-08-04 16:00\", \"x1\": \"2018-08-04 18:00\", \"xref\": \"x\", \"y0\": 5.6, \"y1\": 6.4, \"yref\": \"y\"}, {\"fillcolor\": \"rgb(255, 0, 0)\", \"line\": {\"width\": 0}, \"opacity\": 1, \"type\": \"rect\", \"x0\": \"2018-08-04 17:00\", \"x1\": \"2018-08-04 19:00\", \"xref\": \"x\", \"y0\": 6.6, \"y1\": 7.4, \"yref\": \"y\"}, {\"fillcolor\": \"rgb(128, 128, 0)\", \"line\": {\"width\": 0}, \"opacity\": 1, \"type\": \"rect\", \"x0\": \"2018-08-04 18:30\", \"x1\": \"2018-08-04 20:30\", \"xref\": \"x\", \"y0\": 7.6, \"y1\": 8.4, \"yref\": \"y\"}, {\"fillcolor\": \"rgb(0, 128, 128)\", \"line\": {\"width\": 0}, \"opacity\": 1, \"type\": \"rect\", \"x0\": \"2018-08-04 19:00\", \"x1\": \"2018-08-04 21:00\", \"xref\": \"x\", \"y0\": 8.6, \"y1\": 9.4, \"yref\": \"y\"}, {\"fillcolor\": \"rgb(0, 255, 255)\", \"line\": {\"width\": 0}, \"opacity\": 1, \"type\": \"rect\", \"x0\": \"2018-08-04 21:30\", \"x1\": \"2018-08-04 23:30\", \"xref\": \"x\", \"y0\": 9.6, \"y1\": 10.4, \"yref\": \"y\"}, {\"fillcolor\": \"rgb(128, 0, 0)\", \"line\": {\"width\": 0}, \"opacity\": 1, \"type\": \"rect\", \"x0\": \"2018-08-04 21:00\", \"x1\": \"2018-08-04 23:00\", \"xref\": \"x\", \"y0\": 10.6, \"y1\": 11.4, \"yref\": \"y\"}], \"showlegend\": true, \"title\": \"Multiplex Schedule\", \"width\": 800, \"xaxis\": {\"rangeselector\": {\"buttons\": [{\"count\": 7, \"label\": \"1w\", \"step\": \"day\", \"stepmode\": \"backward\"}, {\"count\": 1, \"label\": \"1m\", \"step\": \"month\", \"stepmode\": \"backward\"}, {\"count\": 6, \"label\": \"6m\", \"step\": \"month\", \"stepmode\": \"backward\"}, {\"count\": 1, \"label\": \"YTD\", \"step\": \"year\", \"stepmode\": \"todate\"}, {\"count\": 1, \"label\": \"1y\", \"step\": \"year\", \"stepmode\": \"backward\"}, {\"step\": \"all\"}]}, \"showgrid\": true, \"type\": \"date\", \"zeroline\": false}, \"yaxis\": {\"autorange\": false, \"range\": [-1, 13], \"showgrid\": true, \"ticktext\": [\"Avengers: Infinity War\", \"Inception\", \"The Dark Knight\", \"Deception\", \"Looper\", \"Aliens\", \"Source code\", \"The Terminator\", \"Behind Enemy Lines\", \"Inception\", \"Me Before You\", \"Just Go with It\"], \"tickvals\": [0, 1, 2, 3, 4, 5, 6, 7, 8, 9, 10, 11], \"zeroline\": false}}, {\"showLink\": true, \"linkText\": \"Export to plot.ly\"})});</script>"
      ],
      "text/vnd.plotly.v1+html": [
       "<div id=\"747d4445-d3d5-433c-bb38-246539320786\" style=\"height: 500px; width: 800px;\" class=\"plotly-graph-div\"></div><script type=\"text/javascript\">require([\"plotly\"], function(Plotly) { window.PLOTLYENV=window.PLOTLYENV || {};window.PLOTLYENV.BASE_URL=\"https://plot.ly\";Plotly.newPlot(\"747d4445-d3d5-433c-bb38-246539320786\", [{\"marker\": {\"color\": \"white\"}, \"name\": \"\", \"x\": [\"2018-08-04 7:00\", \"2018-08-04 9:00\"], \"y\": [0, 0], \"type\": \"scatter\", \"uid\": \"9d69c946-9c69-11e8-83d1-6030d4660e22\"}, {\"marker\": {\"color\": \"white\"}, \"name\": \"\", \"x\": [\"2018-08-04 9:00\", \"2018-08-04 11:00\"], \"y\": [1, 1], \"type\": \"scatter\", \"uid\": \"9d69cade-9c69-11e8-9cb9-6030d4660e22\"}, {\"marker\": {\"color\": \"white\"}, \"name\": \"\", \"x\": [\"2018-08-04 10:00\", \"2018-08-04 12:00\"], \"y\": [2, 2], \"type\": \"scatter\", \"uid\": \"9d69cbc6-9c69-11e8-b381-6030d4660e22\"}, {\"marker\": {\"color\": \"white\"}, \"name\": \"\", \"x\": [\"2018-08-04 11:30\", \"2018-08-04 13:30\"], \"y\": [3, 3], \"type\": \"scatter\", \"uid\": \"9d69cc8c-9c69-11e8-bf04-6030d4660e22\"}, {\"marker\": {\"color\": \"white\"}, \"name\": \"\", \"x\": [\"2018-08-04 12:00\", \"2018-08-04 14:00\"], \"y\": [4, 4], \"type\": \"scatter\", \"uid\": \"9d69cd40-9c69-11e8-a1be-6030d4660e22\"}, {\"marker\": {\"color\": \"white\"}, \"name\": \"\", \"x\": [\"2018-08-04 13:30\", \"2018-08-04 15:30\"], \"y\": [5, 5], \"type\": \"scatter\", \"uid\": \"9d69cdf4-9c69-11e8-a185-6030d4660e22\"}, {\"marker\": {\"color\": \"white\"}, \"name\": \"\", \"x\": [\"2018-08-04 16:00\", \"2018-08-04 18:00\"], \"y\": [6, 6], \"type\": \"scatter\", \"uid\": \"9d69cea8-9c69-11e8-8b4b-6030d4660e22\"}, {\"marker\": {\"color\": \"white\"}, \"name\": \"\", \"x\": [\"2018-08-04 17:00\", \"2018-08-04 19:00\"], \"y\": [7, 7], \"type\": \"scatter\", \"uid\": \"9d69cf5c-9c69-11e8-9b76-6030d4660e22\"}, {\"marker\": {\"color\": \"white\"}, \"name\": \"\", \"x\": [\"2018-08-04 18:30\", \"2018-08-04 20:30\"], \"y\": [8, 8], \"type\": \"scatter\", \"uid\": \"9d69d006-9c69-11e8-9407-6030d4660e22\"}, {\"marker\": {\"color\": \"white\"}, \"name\": \"\", \"x\": [\"2018-08-04 19:00\", \"2018-08-04 21:00\"], \"y\": [9, 9], \"type\": \"scatter\", \"uid\": \"9d69d0ba-9c69-11e8-bf24-6030d4660e22\"}, {\"marker\": {\"color\": \"white\"}, \"name\": \"\", \"x\": [\"2018-08-04 21:30\", \"2018-08-04 23:30\"], \"y\": [10, 10], \"type\": \"scatter\", \"uid\": \"9d69d16e-9c69-11e8-9f1f-6030d4660e22\"}, {\"marker\": {\"color\": \"white\"}, \"name\": \"\", \"x\": [\"2018-08-04 21:00\", \"2018-08-04 23:00\"], \"y\": [11, 11], \"type\": \"scatter\", \"uid\": \"9d69d274-9c69-11e8-97c8-6030d4660e22\"}, {\"hoverinfo\": \"none\", \"marker\": {\"color\": \"rgb(255, 0, 0)\", \"size\": 1}, \"name\": \"Action\", \"showlegend\": true, \"x\": [\"2018-08-04 21:00\", \"2018-08-04 21:00\"], \"y\": [0, 0], \"type\": \"scatter\", \"uid\": \"9d69d33a-9c69-11e8-8e06-6030d4660e22\"}, {\"hoverinfo\": \"none\", \"marker\": {\"color\": \"rgb(128, 0, 0)\", \"size\": 1}, \"name\": \"Comedy\", \"showlegend\": true, \"x\": [\"2018-08-04 21:00\", \"2018-08-04 21:00\"], \"y\": [1, 1], \"type\": \"scatter\", \"uid\": \"9d69d3ee-9c69-11e8-8412-6030d4660e22\"}, {\"hoverinfo\": \"none\", \"marker\": {\"color\": \"rgb(128, 128, 0)\", \"size\": 1}, \"name\": \"Drama\", \"showlegend\": true, \"x\": [\"2018-08-04 21:00\", \"2018-08-04 21:00\"], \"y\": [2, 2], \"type\": \"scatter\", \"uid\": \"9d69d498-9c69-11e8-bced-6030d4660e22\"}, {\"hoverinfo\": \"none\", \"marker\": {\"color\": \"rgb(0, 255, 0)\", \"size\": 1}, \"name\": \"Horror\", \"showlegend\": true, \"x\": [\"2018-08-04 21:00\", \"2018-08-04 21:00\"], \"y\": [3, 3], \"type\": \"scatter\", \"uid\": \"9d69d542-9c69-11e8-ac97-6030d4660e22\"}, {\"hoverinfo\": \"none\", \"marker\": {\"color\": \"rgb(0, 128, 0)\", \"size\": 1}, \"name\": \"Mystery\", \"showlegend\": true, \"x\": [\"2018-08-04 21:00\", \"2018-08-04 21:00\"], \"y\": [4, 4], \"type\": \"scatter\", \"uid\": \"9d69d5ec-9c69-11e8-baff-6030d4660e22\"}, {\"hoverinfo\": \"none\", \"marker\": {\"color\": \"rgb(0, 255, 255)\", \"size\": 1}, \"name\": \"Romance\", \"showlegend\": true, \"x\": [\"2018-08-04 21:00\", \"2018-08-04 21:00\"], \"y\": [5, 5], \"type\": \"scatter\", \"uid\": \"9d69d698-9c69-11e8-a0d0-6030d4660e22\"}, {\"hoverinfo\": \"none\", \"marker\": {\"color\": \"rgb(0, 0, 255)\", \"size\": 1}, \"name\": \"Science_Fiction\", \"showlegend\": true, \"x\": [\"2018-08-04 21:00\", \"2018-08-04 21:00\"], \"y\": [6, 6], \"type\": \"scatter\", \"uid\": \"9d69d740-9c69-11e8-bfad-6030d4660e22\"}, {\"hoverinfo\": \"none\", \"marker\": {\"color\": \"rgb(0, 0, 128)\", \"size\": 1}, \"name\": \"Suspense\", \"showlegend\": true, \"x\": [\"2018-08-04 21:00\", \"2018-08-04 21:00\"], \"y\": [7, 7], \"type\": \"scatter\", \"uid\": \"9d69d7e8-9c69-11e8-908e-6030d4660e22\"}, {\"hoverinfo\": \"none\", \"marker\": {\"color\": \"rgb(0, 128, 128)\", \"size\": 1}, \"name\": \"Thriller\", \"showlegend\": true, \"x\": [\"2018-08-04 21:00\", \"2018-08-04 21:00\"], \"y\": [8, 8], \"type\": \"scatter\", \"uid\": \"9d69d88a-9c69-11e8-8c7e-6030d4660e22\"}], {\"autosize\": false, \"height\": 500, \"hovermode\": \"closest\", \"margin\": {\"l\": 140}, \"shapes\": [{\"fillcolor\": \"rgb(255, 0, 0)\", \"line\": {\"width\": 0}, \"opacity\": 1, \"type\": \"rect\", \"x0\": \"2018-08-04 7:00\", \"x1\": \"2018-08-04 9:00\", \"xref\": \"x\", \"y0\": -0.4, \"y1\": 0.4, \"yref\": \"y\"}, {\"fillcolor\": \"rgb(0, 128, 128)\", \"line\": {\"width\": 0}, \"opacity\": 1, \"type\": \"rect\", \"x0\": \"2018-08-04 9:00\", \"x1\": \"2018-08-04 11:00\", \"xref\": \"x\", \"y0\": 0.6, \"y1\": 1.4, \"yref\": \"y\"}, {\"fillcolor\": \"rgb(0, 128, 128)\", \"line\": {\"width\": 0}, \"opacity\": 1, \"type\": \"rect\", \"x0\": \"2018-08-04 10:00\", \"x1\": \"2018-08-04 12:00\", \"xref\": \"x\", \"y0\": 1.6, \"y1\": 2.4, \"yref\": \"y\"}, {\"fillcolor\": \"rgb(0, 0, 128)\", \"line\": {\"width\": 0}, \"opacity\": 1, \"type\": \"rect\", \"x0\": \"2018-08-04 11:30\", \"x1\": \"2018-08-04 13:30\", \"xref\": \"x\", \"y0\": 2.6, \"y1\": 3.4, \"yref\": \"y\"}, {\"fillcolor\": \"rgb(0, 0, 255)\", \"line\": {\"width\": 0}, \"opacity\": 1, \"type\": \"rect\", \"x0\": \"2018-08-04 12:00\", \"x1\": \"2018-08-04 14:00\", \"xref\": \"x\", \"y0\": 3.6, \"y1\": 4.4, \"yref\": \"y\"}, {\"fillcolor\": \"rgb(0, 255, 0)\", \"line\": {\"width\": 0}, \"opacity\": 1, \"type\": \"rect\", \"x0\": \"2018-08-04 13:30\", \"x1\": \"2018-08-04 15:30\", \"xref\": \"x\", \"y0\": 4.6, \"y1\": 5.4, \"yref\": \"y\"}, {\"fillcolor\": \"rgb(0, 128, 0)\", \"line\": {\"width\": 0}, \"opacity\": 1, \"type\": \"rect\", \"x0\": \"2018-08-04 16:00\", \"x1\": \"2018-08-04 18:00\", \"xref\": \"x\", \"y0\": 5.6, \"y1\": 6.4, \"yref\": \"y\"}, {\"fillcolor\": \"rgb(255, 0, 0)\", \"line\": {\"width\": 0}, \"opacity\": 1, \"type\": \"rect\", \"x0\": \"2018-08-04 17:00\", \"x1\": \"2018-08-04 19:00\", \"xref\": \"x\", \"y0\": 6.6, \"y1\": 7.4, \"yref\": \"y\"}, {\"fillcolor\": \"rgb(128, 128, 0)\", \"line\": {\"width\": 0}, \"opacity\": 1, \"type\": \"rect\", \"x0\": \"2018-08-04 18:30\", \"x1\": \"2018-08-04 20:30\", \"xref\": \"x\", \"y0\": 7.6, \"y1\": 8.4, \"yref\": \"y\"}, {\"fillcolor\": \"rgb(0, 128, 128)\", \"line\": {\"width\": 0}, \"opacity\": 1, \"type\": \"rect\", \"x0\": \"2018-08-04 19:00\", \"x1\": \"2018-08-04 21:00\", \"xref\": \"x\", \"y0\": 8.6, \"y1\": 9.4, \"yref\": \"y\"}, {\"fillcolor\": \"rgb(0, 255, 255)\", \"line\": {\"width\": 0}, \"opacity\": 1, \"type\": \"rect\", \"x0\": \"2018-08-04 21:30\", \"x1\": \"2018-08-04 23:30\", \"xref\": \"x\", \"y0\": 9.6, \"y1\": 10.4, \"yref\": \"y\"}, {\"fillcolor\": \"rgb(128, 0, 0)\", \"line\": {\"width\": 0}, \"opacity\": 1, \"type\": \"rect\", \"x0\": \"2018-08-04 21:00\", \"x1\": \"2018-08-04 23:00\", \"xref\": \"x\", \"y0\": 10.6, \"y1\": 11.4, \"yref\": \"y\"}], \"showlegend\": true, \"title\": \"Multiplex Schedule\", \"width\": 800, \"xaxis\": {\"rangeselector\": {\"buttons\": [{\"count\": 7, \"label\": \"1w\", \"step\": \"day\", \"stepmode\": \"backward\"}, {\"count\": 1, \"label\": \"1m\", \"step\": \"month\", \"stepmode\": \"backward\"}, {\"count\": 6, \"label\": \"6m\", \"step\": \"month\", \"stepmode\": \"backward\"}, {\"count\": 1, \"label\": \"YTD\", \"step\": \"year\", \"stepmode\": \"todate\"}, {\"count\": 1, \"label\": \"1y\", \"step\": \"year\", \"stepmode\": \"backward\"}, {\"step\": \"all\"}]}, \"showgrid\": true, \"type\": \"date\", \"zeroline\": false}, \"yaxis\": {\"autorange\": false, \"range\": [-1, 13], \"showgrid\": true, \"ticktext\": [\"Avengers: Infinity War\", \"Inception\", \"The Dark Knight\", \"Deception\", \"Looper\", \"Aliens\", \"Source code\", \"The Terminator\", \"Behind Enemy Lines\", \"Inception\", \"Me Before You\", \"Just Go with It\"], \"tickvals\": [0, 1, 2, 3, 4, 5, 6, 7, 8, 9, 10, 11], \"zeroline\": false}}, {\"showLink\": true, \"linkText\": \"Export to plot.ly\"})});</script>"
      ]
     },
     "metadata": {},
     "output_type": "display_data"
    }
   ],
   "source": [
    "fig = ff.create_gantt(multiplex_schedule,\n",
    "                      title='Multiplex Schedule',\n",
    "                      \n",
    "                      colors=color_list, \n",
    "                      index_col='Category',\n",
    "                      show_colorbar=True,\n",
    "                      \n",
    "                      bar_width=0.4, \n",
    "                      showgrid_x=True, \n",
    "                      showgrid_y=True)\n",
    "fig['layout'].update(autosize=False, width=800, height=500, margin=dict(l=140))\n",
    "offline.iplot(fig)"
   ]
  },
  {
   "cell_type": "markdown",
   "metadata": {},
   "source": [
    "**Grouping tasks**\n",
    "\n",
    "In our schedule, there are 2 occurences of Action and thriller which have so far appeared as separate tasks. We use the group_tasks attribute so that they all appear in the same row on our plot."
   ]
  },
  {
   "cell_type": "code",
   "execution_count": 12,
   "metadata": {},
   "outputs": [
    {
     "data": {
      "application/vnd.plotly.v1+json": {
       "data": [
        {
         "marker": {
          "color": "white"
         },
         "name": "",
         "type": "scatter",
         "uid": "9d82fae2-9c69-11e8-8bfb-6030d4660e22",
         "x": [
          "2018-08-04 7:00",
          "2018-08-04 9:00"
         ],
         "y": [
          10,
          10
         ]
        },
        {
         "marker": {
          "color": "white"
         },
         "name": "",
         "type": "scatter",
         "uid": "9d82fcca-9c69-11e8-9c38-6030d4660e22",
         "x": [
          "2018-08-04 9:00",
          "2018-08-04 11:00"
         ],
         "y": [
          9,
          9
         ]
        },
        {
         "marker": {
          "color": "white"
         },
         "name": "",
         "type": "scatter",
         "uid": "9d82fdd8-9c69-11e8-9cfc-6030d4660e22",
         "x": [
          "2018-08-04 10:00",
          "2018-08-04 12:00"
         ],
         "y": [
          8,
          8
         ]
        },
        {
         "marker": {
          "color": "white"
         },
         "name": "",
         "type": "scatter",
         "uid": "9d82fea8-9c69-11e8-9d73-6030d4660e22",
         "x": [
          "2018-08-04 11:30",
          "2018-08-04 13:30"
         ],
         "y": [
          7,
          7
         ]
        },
        {
         "marker": {
          "color": "white"
         },
         "name": "",
         "type": "scatter",
         "uid": "9d82ff74-9c69-11e8-9779-6030d4660e22",
         "x": [
          "2018-08-04 12:00",
          "2018-08-04 14:00"
         ],
         "y": [
          6,
          6
         ]
        },
        {
         "marker": {
          "color": "white"
         },
         "name": "",
         "type": "scatter",
         "uid": "9d830030-9c69-11e8-8dbe-6030d4660e22",
         "x": [
          "2018-08-04 13:30",
          "2018-08-04 15:30"
         ],
         "y": [
          5,
          5
         ]
        },
        {
         "marker": {
          "color": "white"
         },
         "name": "",
         "type": "scatter",
         "uid": "9d8300ee-9c69-11e8-904e-6030d4660e22",
         "x": [
          "2018-08-04 16:00",
          "2018-08-04 18:00"
         ],
         "y": [
          4,
          4
         ]
        },
        {
         "marker": {
          "color": "white"
         },
         "name": "",
         "type": "scatter",
         "uid": "9d8301ac-9c69-11e8-baf2-6030d4660e22",
         "x": [
          "2018-08-04 17:00",
          "2018-08-04 19:00"
         ],
         "y": [
          3,
          3
         ]
        },
        {
         "marker": {
          "color": "white"
         },
         "name": "",
         "type": "scatter",
         "uid": "9d830262-9c69-11e8-be42-6030d4660e22",
         "x": [
          "2018-08-04 18:30",
          "2018-08-04 20:30"
         ],
         "y": [
          2,
          2
         ]
        },
        {
         "marker": {
          "color": "white"
         },
         "name": "",
         "type": "scatter",
         "uid": "9d83031e-9c69-11e8-8b72-6030d4660e22",
         "x": [
          "2018-08-04 19:00",
          "2018-08-04 21:00"
         ],
         "y": [
          9,
          9
         ]
        },
        {
         "marker": {
          "color": "white"
         },
         "name": "",
         "type": "scatter",
         "uid": "9d8303dc-9c69-11e8-83c9-6030d4660e22",
         "x": [
          "2018-08-04 21:30",
          "2018-08-04 23:30"
         ],
         "y": [
          1,
          1
         ]
        },
        {
         "marker": {
          "color": "white"
         },
         "name": "",
         "type": "scatter",
         "uid": "9d83049a-9c69-11e8-9ce7-6030d4660e22",
         "x": [
          "2018-08-04 21:00",
          "2018-08-04 23:00"
         ],
         "y": [
          0,
          0
         ]
        },
        {
         "hoverinfo": "none",
         "marker": {
          "color": "rgb(255, 0, 0)",
          "size": 1
         },
         "name": "Action",
         "showlegend": true,
         "type": "scatter",
         "uid": "9d8305b4-9c69-11e8-83f9-6030d4660e22",
         "x": [
          "2018-08-04 21:00",
          "2018-08-04 21:00"
         ],
         "y": [
          0,
          0
         ]
        },
        {
         "hoverinfo": "none",
         "marker": {
          "color": "rgb(128, 0, 0)",
          "size": 1
         },
         "name": "Comedy",
         "showlegend": true,
         "type": "scatter",
         "uid": "9d830698-9c69-11e8-bfdc-6030d4660e22",
         "x": [
          "2018-08-04 21:00",
          "2018-08-04 21:00"
         ],
         "y": [
          1,
          1
         ]
        },
        {
         "hoverinfo": "none",
         "marker": {
          "color": "rgb(128, 128, 0)",
          "size": 1
         },
         "name": "Drama",
         "showlegend": true,
         "type": "scatter",
         "uid": "9d830762-9c69-11e8-8a3a-6030d4660e22",
         "x": [
          "2018-08-04 21:00",
          "2018-08-04 21:00"
         ],
         "y": [
          2,
          2
         ]
        },
        {
         "hoverinfo": "none",
         "marker": {
          "color": "rgb(0, 255, 0)",
          "size": 1
         },
         "name": "Horror",
         "showlegend": true,
         "type": "scatter",
         "uid": "9d830814-9c69-11e8-99ac-6030d4660e22",
         "x": [
          "2018-08-04 21:00",
          "2018-08-04 21:00"
         ],
         "y": [
          3,
          3
         ]
        },
        {
         "hoverinfo": "none",
         "marker": {
          "color": "rgb(0, 128, 0)",
          "size": 1
         },
         "name": "Mystery",
         "showlegend": true,
         "type": "scatter",
         "uid": "9d8308d2-9c69-11e8-a6bd-6030d4660e22",
         "x": [
          "2018-08-04 21:00",
          "2018-08-04 21:00"
         ],
         "y": [
          4,
          4
         ]
        },
        {
         "hoverinfo": "none",
         "marker": {
          "color": "rgb(0, 255, 255)",
          "size": 1
         },
         "name": "Romance",
         "showlegend": true,
         "type": "scatter",
         "uid": "9d830986-9c69-11e8-aa79-6030d4660e22",
         "x": [
          "2018-08-04 21:00",
          "2018-08-04 21:00"
         ],
         "y": [
          5,
          5
         ]
        },
        {
         "hoverinfo": "none",
         "marker": {
          "color": "rgb(0, 0, 255)",
          "size": 1
         },
         "name": "Science_Fiction",
         "showlegend": true,
         "type": "scatter",
         "uid": "9d830a3a-9c69-11e8-85a2-6030d4660e22",
         "x": [
          "2018-08-04 21:00",
          "2018-08-04 21:00"
         ],
         "y": [
          6,
          6
         ]
        },
        {
         "hoverinfo": "none",
         "marker": {
          "color": "rgb(0, 0, 128)",
          "size": 1
         },
         "name": "Suspense",
         "showlegend": true,
         "type": "scatter",
         "uid": "9d830aee-9c69-11e8-8080-6030d4660e22",
         "x": [
          "2018-08-04 21:00",
          "2018-08-04 21:00"
         ],
         "y": [
          7,
          7
         ]
        },
        {
         "hoverinfo": "none",
         "marker": {
          "color": "rgb(0, 128, 128)",
          "size": 1
         },
         "name": "Thriller",
         "showlegend": true,
         "type": "scatter",
         "uid": "9d830bac-9c69-11e8-af65-6030d4660e22",
         "x": [
          "2018-08-04 21:00",
          "2018-08-04 21:00"
         ],
         "y": [
          8,
          8
         ]
        }
       ],
       "layout": {
        "autosize": false,
        "height": 500,
        "hovermode": "closest",
        "margin": {
         "l": 140
        },
        "shapes": [
         {
          "fillcolor": "rgb(255, 0, 0)",
          "line": {
           "width": 0
          },
          "opacity": 1,
          "type": "rect",
          "x0": "2018-08-04 7:00",
          "x1": "2018-08-04 9:00",
          "xref": "x",
          "y0": 9.6,
          "y1": 10.4,
          "yref": "y"
         },
         {
          "fillcolor": "rgb(0, 128, 128)",
          "line": {
           "width": 0
          },
          "opacity": 1,
          "type": "rect",
          "x0": "2018-08-04 9:00",
          "x1": "2018-08-04 11:00",
          "xref": "x",
          "y0": 8.6,
          "y1": 9.4,
          "yref": "y"
         },
         {
          "fillcolor": "rgb(0, 128, 128)",
          "line": {
           "width": 0
          },
          "opacity": 1,
          "type": "rect",
          "x0": "2018-08-04 10:00",
          "x1": "2018-08-04 12:00",
          "xref": "x",
          "y0": 7.6,
          "y1": 8.4,
          "yref": "y"
         },
         {
          "fillcolor": "rgb(0, 0, 128)",
          "line": {
           "width": 0
          },
          "opacity": 1,
          "type": "rect",
          "x0": "2018-08-04 11:30",
          "x1": "2018-08-04 13:30",
          "xref": "x",
          "y0": 6.6,
          "y1": 7.4,
          "yref": "y"
         },
         {
          "fillcolor": "rgb(0, 0, 255)",
          "line": {
           "width": 0
          },
          "opacity": 1,
          "type": "rect",
          "x0": "2018-08-04 12:00",
          "x1": "2018-08-04 14:00",
          "xref": "x",
          "y0": 5.6,
          "y1": 6.4,
          "yref": "y"
         },
         {
          "fillcolor": "rgb(0, 255, 0)",
          "line": {
           "width": 0
          },
          "opacity": 1,
          "type": "rect",
          "x0": "2018-08-04 13:30",
          "x1": "2018-08-04 15:30",
          "xref": "x",
          "y0": 4.6,
          "y1": 5.4,
          "yref": "y"
         },
         {
          "fillcolor": "rgb(0, 128, 0)",
          "line": {
           "width": 0
          },
          "opacity": 1,
          "type": "rect",
          "x0": "2018-08-04 16:00",
          "x1": "2018-08-04 18:00",
          "xref": "x",
          "y0": 3.6,
          "y1": 4.4,
          "yref": "y"
         },
         {
          "fillcolor": "rgb(255, 0, 0)",
          "line": {
           "width": 0
          },
          "opacity": 1,
          "type": "rect",
          "x0": "2018-08-04 17:00",
          "x1": "2018-08-04 19:00",
          "xref": "x",
          "y0": 2.6,
          "y1": 3.4,
          "yref": "y"
         },
         {
          "fillcolor": "rgb(128, 128, 0)",
          "line": {
           "width": 0
          },
          "opacity": 1,
          "type": "rect",
          "x0": "2018-08-04 18:30",
          "x1": "2018-08-04 20:30",
          "xref": "x",
          "y0": 1.6,
          "y1": 2.4,
          "yref": "y"
         },
         {
          "fillcolor": "rgb(0, 128, 128)",
          "line": {
           "width": 0
          },
          "opacity": 1,
          "type": "rect",
          "x0": "2018-08-04 19:00",
          "x1": "2018-08-04 21:00",
          "xref": "x",
          "y0": 8.6,
          "y1": 9.4,
          "yref": "y"
         },
         {
          "fillcolor": "rgb(0, 255, 255)",
          "line": {
           "width": 0
          },
          "opacity": 1,
          "type": "rect",
          "x0": "2018-08-04 21:30",
          "x1": "2018-08-04 23:30",
          "xref": "x",
          "y0": 0.6,
          "y1": 1.4,
          "yref": "y"
         },
         {
          "fillcolor": "rgb(128, 0, 0)",
          "line": {
           "width": 0
          },
          "opacity": 1,
          "type": "rect",
          "x0": "2018-08-04 21:00",
          "x1": "2018-08-04 23:00",
          "xref": "x",
          "y0": -0.4,
          "y1": 0.4,
          "yref": "y"
         }
        ],
        "showlegend": true,
        "title": "Multiplex Schedule",
        "width": 800,
        "xaxis": {
         "rangeselector": {
          "buttons": [
           {
            "count": 7,
            "label": "1w",
            "step": "day",
            "stepmode": "backward"
           },
           {
            "count": 1,
            "label": "1m",
            "step": "month",
            "stepmode": "backward"
           },
           {
            "count": 6,
            "label": "6m",
            "step": "month",
            "stepmode": "backward"
           },
           {
            "count": 1,
            "label": "YTD",
            "step": "year",
            "stepmode": "todate"
           },
           {
            "count": 1,
            "label": "1y",
            "step": "year",
            "stepmode": "backward"
           },
           {
            "step": "all"
           }
          ]
         },
         "showgrid": true,
         "type": "date",
         "zeroline": false
        },
        "yaxis": {
         "autorange": false,
         "range": [
          -1,
          12
         ],
         "showgrid": true,
         "ticktext": [
          "Just Go with It",
          "Me Before You",
          "Behind Enemy Lines",
          "The Terminator",
          "Source code",
          "Aliens",
          "Looper",
          "Deception",
          "The Dark Knight",
          "Inception",
          "Avengers: Infinity War"
         ],
         "tickvals": [
          0,
          1,
          2,
          3,
          4,
          5,
          6,
          7,
          8,
          9,
          10
         ],
         "zeroline": false
        }
       }
      },
      "text/html": [
       "<div id=\"8a397a37-493a-4f59-8a1b-640166326f91\" style=\"height: 500px; width: 800px;\" class=\"plotly-graph-div\"></div><script type=\"text/javascript\">require([\"plotly\"], function(Plotly) { window.PLOTLYENV=window.PLOTLYENV || {};window.PLOTLYENV.BASE_URL=\"https://plot.ly\";Plotly.newPlot(\"8a397a37-493a-4f59-8a1b-640166326f91\", [{\"marker\": {\"color\": \"white\"}, \"name\": \"\", \"x\": [\"2018-08-04 7:00\", \"2018-08-04 9:00\"], \"y\": [10, 10], \"type\": \"scatter\", \"uid\": \"9da4fe58-9c69-11e8-b73d-6030d4660e22\"}, {\"marker\": {\"color\": \"white\"}, \"name\": \"\", \"x\": [\"2018-08-04 9:00\", \"2018-08-04 11:00\"], \"y\": [9, 9], \"type\": \"scatter\", \"uid\": \"9da50040-9c69-11e8-b9de-6030d4660e22\"}, {\"marker\": {\"color\": \"white\"}, \"name\": \"\", \"x\": [\"2018-08-04 10:00\", \"2018-08-04 12:00\"], \"y\": [8, 8], \"type\": \"scatter\", \"uid\": \"9da5013a-9c69-11e8-bd62-6030d4660e22\"}, {\"marker\": {\"color\": \"white\"}, \"name\": \"\", \"x\": [\"2018-08-04 11:30\", \"2018-08-04 13:30\"], \"y\": [7, 7], \"type\": \"scatter\", \"uid\": \"9da501f8-9c69-11e8-abc5-6030d4660e22\"}, {\"marker\": {\"color\": \"white\"}, \"name\": \"\", \"x\": [\"2018-08-04 12:00\", \"2018-08-04 14:00\"], \"y\": [6, 6], \"type\": \"scatter\", \"uid\": \"9da502b6-9c69-11e8-8c7b-6030d4660e22\"}, {\"marker\": {\"color\": \"white\"}, \"name\": \"\", \"x\": [\"2018-08-04 13:30\", \"2018-08-04 15:30\"], \"y\": [5, 5], \"type\": \"scatter\", \"uid\": \"9da50368-9c69-11e8-931b-6030d4660e22\"}, {\"marker\": {\"color\": \"white\"}, \"name\": \"\", \"x\": [\"2018-08-04 16:00\", \"2018-08-04 18:00\"], \"y\": [4, 4], \"type\": \"scatter\", \"uid\": \"9da50414-9c69-11e8-acc9-6030d4660e22\"}, {\"marker\": {\"color\": \"white\"}, \"name\": \"\", \"x\": [\"2018-08-04 17:00\", \"2018-08-04 19:00\"], \"y\": [3, 3], \"type\": \"scatter\", \"uid\": \"9da504c8-9c69-11e8-a697-6030d4660e22\"}, {\"marker\": {\"color\": \"white\"}, \"name\": \"\", \"x\": [\"2018-08-04 18:30\", \"2018-08-04 20:30\"], \"y\": [2, 2], \"type\": \"scatter\", \"uid\": \"9da50574-9c69-11e8-b2fa-6030d4660e22\"}, {\"marker\": {\"color\": \"white\"}, \"name\": \"\", \"x\": [\"2018-08-04 19:00\", \"2018-08-04 21:00\"], \"y\": [9, 9], \"type\": \"scatter\", \"uid\": \"9da50626-9c69-11e8-955c-6030d4660e22\"}, {\"marker\": {\"color\": \"white\"}, \"name\": \"\", \"x\": [\"2018-08-04 21:30\", \"2018-08-04 23:30\"], \"y\": [1, 1], \"type\": \"scatter\", \"uid\": \"9da506d0-9c69-11e8-9816-6030d4660e22\"}, {\"marker\": {\"color\": \"white\"}, \"name\": \"\", \"x\": [\"2018-08-04 21:00\", \"2018-08-04 23:00\"], \"y\": [0, 0], \"type\": \"scatter\", \"uid\": \"9da50786-9c69-11e8-8cf1-6030d4660e22\"}, {\"hoverinfo\": \"none\", \"marker\": {\"color\": \"rgb(255, 0, 0)\", \"size\": 1}, \"name\": \"Action\", \"showlegend\": true, \"x\": [\"2018-08-04 21:00\", \"2018-08-04 21:00\"], \"y\": [0, 0], \"type\": \"scatter\", \"uid\": \"9da50838-9c69-11e8-88f3-6030d4660e22\"}, {\"hoverinfo\": \"none\", \"marker\": {\"color\": \"rgb(128, 0, 0)\", \"size\": 1}, \"name\": \"Comedy\", \"showlegend\": true, \"x\": [\"2018-08-04 21:00\", \"2018-08-04 21:00\"], \"y\": [1, 1], \"type\": \"scatter\", \"uid\": \"9da508e2-9c69-11e8-bb25-6030d4660e22\"}, {\"hoverinfo\": \"none\", \"marker\": {\"color\": \"rgb(128, 128, 0)\", \"size\": 1}, \"name\": \"Drama\", \"showlegend\": true, \"x\": [\"2018-08-04 21:00\", \"2018-08-04 21:00\"], \"y\": [2, 2], \"type\": \"scatter\", \"uid\": \"9da5098c-9c69-11e8-ab1b-6030d4660e22\"}, {\"hoverinfo\": \"none\", \"marker\": {\"color\": \"rgb(0, 255, 0)\", \"size\": 1}, \"name\": \"Horror\", \"showlegend\": true, \"x\": [\"2018-08-04 21:00\", \"2018-08-04 21:00\"], \"y\": [3, 3], \"type\": \"scatter\", \"uid\": \"9da50a36-9c69-11e8-b833-6030d4660e22\"}, {\"hoverinfo\": \"none\", \"marker\": {\"color\": \"rgb(0, 128, 0)\", \"size\": 1}, \"name\": \"Mystery\", \"showlegend\": true, \"x\": [\"2018-08-04 21:00\", \"2018-08-04 21:00\"], \"y\": [4, 4], \"type\": \"scatter\", \"uid\": \"9da50ae2-9c69-11e8-8954-6030d4660e22\"}, {\"hoverinfo\": \"none\", \"marker\": {\"color\": \"rgb(0, 255, 255)\", \"size\": 1}, \"name\": \"Romance\", \"showlegend\": true, \"x\": [\"2018-08-04 21:00\", \"2018-08-04 21:00\"], \"y\": [5, 5], \"type\": \"scatter\", \"uid\": \"9da50b8a-9c69-11e8-9d43-6030d4660e22\"}, {\"hoverinfo\": \"none\", \"marker\": {\"color\": \"rgb(0, 0, 255)\", \"size\": 1}, \"name\": \"Science_Fiction\", \"showlegend\": true, \"x\": [\"2018-08-04 21:00\", \"2018-08-04 21:00\"], \"y\": [6, 6], \"type\": \"scatter\", \"uid\": \"9da50c34-9c69-11e8-b0d0-6030d4660e22\"}, {\"hoverinfo\": \"none\", \"marker\": {\"color\": \"rgb(0, 0, 128)\", \"size\": 1}, \"name\": \"Suspense\", \"showlegend\": true, \"x\": [\"2018-08-04 21:00\", \"2018-08-04 21:00\"], \"y\": [7, 7], \"type\": \"scatter\", \"uid\": \"9da50cde-9c69-11e8-b07c-6030d4660e22\"}, {\"hoverinfo\": \"none\", \"marker\": {\"color\": \"rgb(0, 128, 128)\", \"size\": 1}, \"name\": \"Thriller\", \"showlegend\": true, \"x\": [\"2018-08-04 21:00\", \"2018-08-04 21:00\"], \"y\": [8, 8], \"type\": \"scatter\", \"uid\": \"9da50d7e-9c69-11e8-bd45-6030d4660e22\"}], {\"autosize\": false, \"height\": 500, \"hovermode\": \"closest\", \"margin\": {\"l\": 140}, \"shapes\": [{\"fillcolor\": \"rgb(255, 0, 0)\", \"line\": {\"width\": 0}, \"opacity\": 1, \"type\": \"rect\", \"x0\": \"2018-08-04 7:00\", \"x1\": \"2018-08-04 9:00\", \"xref\": \"x\", \"y0\": 9.6, \"y1\": 10.4, \"yref\": \"y\"}, {\"fillcolor\": \"rgb(0, 128, 128)\", \"line\": {\"width\": 0}, \"opacity\": 1, \"type\": \"rect\", \"x0\": \"2018-08-04 9:00\", \"x1\": \"2018-08-04 11:00\", \"xref\": \"x\", \"y0\": 8.6, \"y1\": 9.4, \"yref\": \"y\"}, {\"fillcolor\": \"rgb(0, 128, 128)\", \"line\": {\"width\": 0}, \"opacity\": 1, \"type\": \"rect\", \"x0\": \"2018-08-04 10:00\", \"x1\": \"2018-08-04 12:00\", \"xref\": \"x\", \"y0\": 7.6, \"y1\": 8.4, \"yref\": \"y\"}, {\"fillcolor\": \"rgb(0, 0, 128)\", \"line\": {\"width\": 0}, \"opacity\": 1, \"type\": \"rect\", \"x0\": \"2018-08-04 11:30\", \"x1\": \"2018-08-04 13:30\", \"xref\": \"x\", \"y0\": 6.6, \"y1\": 7.4, \"yref\": \"y\"}, {\"fillcolor\": \"rgb(0, 0, 255)\", \"line\": {\"width\": 0}, \"opacity\": 1, \"type\": \"rect\", \"x0\": \"2018-08-04 12:00\", \"x1\": \"2018-08-04 14:00\", \"xref\": \"x\", \"y0\": 5.6, \"y1\": 6.4, \"yref\": \"y\"}, {\"fillcolor\": \"rgb(0, 255, 0)\", \"line\": {\"width\": 0}, \"opacity\": 1, \"type\": \"rect\", \"x0\": \"2018-08-04 13:30\", \"x1\": \"2018-08-04 15:30\", \"xref\": \"x\", \"y0\": 4.6, \"y1\": 5.4, \"yref\": \"y\"}, {\"fillcolor\": \"rgb(0, 128, 0)\", \"line\": {\"width\": 0}, \"opacity\": 1, \"type\": \"rect\", \"x0\": \"2018-08-04 16:00\", \"x1\": \"2018-08-04 18:00\", \"xref\": \"x\", \"y0\": 3.6, \"y1\": 4.4, \"yref\": \"y\"}, {\"fillcolor\": \"rgb(255, 0, 0)\", \"line\": {\"width\": 0}, \"opacity\": 1, \"type\": \"rect\", \"x0\": \"2018-08-04 17:00\", \"x1\": \"2018-08-04 19:00\", \"xref\": \"x\", \"y0\": 2.6, \"y1\": 3.4, \"yref\": \"y\"}, {\"fillcolor\": \"rgb(128, 128, 0)\", \"line\": {\"width\": 0}, \"opacity\": 1, \"type\": \"rect\", \"x0\": \"2018-08-04 18:30\", \"x1\": \"2018-08-04 20:30\", \"xref\": \"x\", \"y0\": 1.6, \"y1\": 2.4, \"yref\": \"y\"}, {\"fillcolor\": \"rgb(0, 128, 128)\", \"line\": {\"width\": 0}, \"opacity\": 1, \"type\": \"rect\", \"x0\": \"2018-08-04 19:00\", \"x1\": \"2018-08-04 21:00\", \"xref\": \"x\", \"y0\": 8.6, \"y1\": 9.4, \"yref\": \"y\"}, {\"fillcolor\": \"rgb(0, 255, 255)\", \"line\": {\"width\": 0}, \"opacity\": 1, \"type\": \"rect\", \"x0\": \"2018-08-04 21:30\", \"x1\": \"2018-08-04 23:30\", \"xref\": \"x\", \"y0\": 0.6, \"y1\": 1.4, \"yref\": \"y\"}, {\"fillcolor\": \"rgb(128, 0, 0)\", \"line\": {\"width\": 0}, \"opacity\": 1, \"type\": \"rect\", \"x0\": \"2018-08-04 21:00\", \"x1\": \"2018-08-04 23:00\", \"xref\": \"x\", \"y0\": -0.4, \"y1\": 0.4, \"yref\": \"y\"}], \"showlegend\": true, \"title\": \"Multiplex Schedule\", \"width\": 800, \"xaxis\": {\"rangeselector\": {\"buttons\": [{\"count\": 7, \"label\": \"1w\", \"step\": \"day\", \"stepmode\": \"backward\"}, {\"count\": 1, \"label\": \"1m\", \"step\": \"month\", \"stepmode\": \"backward\"}, {\"count\": 6, \"label\": \"6m\", \"step\": \"month\", \"stepmode\": \"backward\"}, {\"count\": 1, \"label\": \"YTD\", \"step\": \"year\", \"stepmode\": \"todate\"}, {\"count\": 1, \"label\": \"1y\", \"step\": \"year\", \"stepmode\": \"backward\"}, {\"step\": \"all\"}]}, \"showgrid\": true, \"type\": \"date\", \"zeroline\": false}, \"yaxis\": {\"autorange\": false, \"range\": [-1, 12], \"showgrid\": true, \"ticktext\": [\"Just Go with It\", \"Me Before You\", \"Behind Enemy Lines\", \"The Terminator\", \"Source code\", \"Aliens\", \"Looper\", \"Deception\", \"The Dark Knight\", \"Inception\", \"Avengers: Infinity War\"], \"tickvals\": [0, 1, 2, 3, 4, 5, 6, 7, 8, 9, 10], \"zeroline\": false}}, {\"showLink\": true, \"linkText\": \"Export to plot.ly\"})});</script>"
      ],
      "text/vnd.plotly.v1+html": [
       "<div id=\"8a397a37-493a-4f59-8a1b-640166326f91\" style=\"height: 500px; width: 800px;\" class=\"plotly-graph-div\"></div><script type=\"text/javascript\">require([\"plotly\"], function(Plotly) { window.PLOTLYENV=window.PLOTLYENV || {};window.PLOTLYENV.BASE_URL=\"https://plot.ly\";Plotly.newPlot(\"8a397a37-493a-4f59-8a1b-640166326f91\", [{\"marker\": {\"color\": \"white\"}, \"name\": \"\", \"x\": [\"2018-08-04 7:00\", \"2018-08-04 9:00\"], \"y\": [10, 10], \"type\": \"scatter\", \"uid\": \"9da4fe58-9c69-11e8-b73d-6030d4660e22\"}, {\"marker\": {\"color\": \"white\"}, \"name\": \"\", \"x\": [\"2018-08-04 9:00\", \"2018-08-04 11:00\"], \"y\": [9, 9], \"type\": \"scatter\", \"uid\": \"9da50040-9c69-11e8-b9de-6030d4660e22\"}, {\"marker\": {\"color\": \"white\"}, \"name\": \"\", \"x\": [\"2018-08-04 10:00\", \"2018-08-04 12:00\"], \"y\": [8, 8], \"type\": \"scatter\", \"uid\": \"9da5013a-9c69-11e8-bd62-6030d4660e22\"}, {\"marker\": {\"color\": \"white\"}, \"name\": \"\", \"x\": [\"2018-08-04 11:30\", \"2018-08-04 13:30\"], \"y\": [7, 7], \"type\": \"scatter\", \"uid\": \"9da501f8-9c69-11e8-abc5-6030d4660e22\"}, {\"marker\": {\"color\": \"white\"}, \"name\": \"\", \"x\": [\"2018-08-04 12:00\", \"2018-08-04 14:00\"], \"y\": [6, 6], \"type\": \"scatter\", \"uid\": \"9da502b6-9c69-11e8-8c7b-6030d4660e22\"}, {\"marker\": {\"color\": \"white\"}, \"name\": \"\", \"x\": [\"2018-08-04 13:30\", \"2018-08-04 15:30\"], \"y\": [5, 5], \"type\": \"scatter\", \"uid\": \"9da50368-9c69-11e8-931b-6030d4660e22\"}, {\"marker\": {\"color\": \"white\"}, \"name\": \"\", \"x\": [\"2018-08-04 16:00\", \"2018-08-04 18:00\"], \"y\": [4, 4], \"type\": \"scatter\", \"uid\": \"9da50414-9c69-11e8-acc9-6030d4660e22\"}, {\"marker\": {\"color\": \"white\"}, \"name\": \"\", \"x\": [\"2018-08-04 17:00\", \"2018-08-04 19:00\"], \"y\": [3, 3], \"type\": \"scatter\", \"uid\": \"9da504c8-9c69-11e8-a697-6030d4660e22\"}, {\"marker\": {\"color\": \"white\"}, \"name\": \"\", \"x\": [\"2018-08-04 18:30\", \"2018-08-04 20:30\"], \"y\": [2, 2], \"type\": \"scatter\", \"uid\": \"9da50574-9c69-11e8-b2fa-6030d4660e22\"}, {\"marker\": {\"color\": \"white\"}, \"name\": \"\", \"x\": [\"2018-08-04 19:00\", \"2018-08-04 21:00\"], \"y\": [9, 9], \"type\": \"scatter\", \"uid\": \"9da50626-9c69-11e8-955c-6030d4660e22\"}, {\"marker\": {\"color\": \"white\"}, \"name\": \"\", \"x\": [\"2018-08-04 21:30\", \"2018-08-04 23:30\"], \"y\": [1, 1], \"type\": \"scatter\", \"uid\": \"9da506d0-9c69-11e8-9816-6030d4660e22\"}, {\"marker\": {\"color\": \"white\"}, \"name\": \"\", \"x\": [\"2018-08-04 21:00\", \"2018-08-04 23:00\"], \"y\": [0, 0], \"type\": \"scatter\", \"uid\": \"9da50786-9c69-11e8-8cf1-6030d4660e22\"}, {\"hoverinfo\": \"none\", \"marker\": {\"color\": \"rgb(255, 0, 0)\", \"size\": 1}, \"name\": \"Action\", \"showlegend\": true, \"x\": [\"2018-08-04 21:00\", \"2018-08-04 21:00\"], \"y\": [0, 0], \"type\": \"scatter\", \"uid\": \"9da50838-9c69-11e8-88f3-6030d4660e22\"}, {\"hoverinfo\": \"none\", \"marker\": {\"color\": \"rgb(128, 0, 0)\", \"size\": 1}, \"name\": \"Comedy\", \"showlegend\": true, \"x\": [\"2018-08-04 21:00\", \"2018-08-04 21:00\"], \"y\": [1, 1], \"type\": \"scatter\", \"uid\": \"9da508e2-9c69-11e8-bb25-6030d4660e22\"}, {\"hoverinfo\": \"none\", \"marker\": {\"color\": \"rgb(128, 128, 0)\", \"size\": 1}, \"name\": \"Drama\", \"showlegend\": true, \"x\": [\"2018-08-04 21:00\", \"2018-08-04 21:00\"], \"y\": [2, 2], \"type\": \"scatter\", \"uid\": \"9da5098c-9c69-11e8-ab1b-6030d4660e22\"}, {\"hoverinfo\": \"none\", \"marker\": {\"color\": \"rgb(0, 255, 0)\", \"size\": 1}, \"name\": \"Horror\", \"showlegend\": true, \"x\": [\"2018-08-04 21:00\", \"2018-08-04 21:00\"], \"y\": [3, 3], \"type\": \"scatter\", \"uid\": \"9da50a36-9c69-11e8-b833-6030d4660e22\"}, {\"hoverinfo\": \"none\", \"marker\": {\"color\": \"rgb(0, 128, 0)\", \"size\": 1}, \"name\": \"Mystery\", \"showlegend\": true, \"x\": [\"2018-08-04 21:00\", \"2018-08-04 21:00\"], \"y\": [4, 4], \"type\": \"scatter\", \"uid\": \"9da50ae2-9c69-11e8-8954-6030d4660e22\"}, {\"hoverinfo\": \"none\", \"marker\": {\"color\": \"rgb(0, 255, 255)\", \"size\": 1}, \"name\": \"Romance\", \"showlegend\": true, \"x\": [\"2018-08-04 21:00\", \"2018-08-04 21:00\"], \"y\": [5, 5], \"type\": \"scatter\", \"uid\": \"9da50b8a-9c69-11e8-9d43-6030d4660e22\"}, {\"hoverinfo\": \"none\", \"marker\": {\"color\": \"rgb(0, 0, 255)\", \"size\": 1}, \"name\": \"Science_Fiction\", \"showlegend\": true, \"x\": [\"2018-08-04 21:00\", \"2018-08-04 21:00\"], \"y\": [6, 6], \"type\": \"scatter\", \"uid\": \"9da50c34-9c69-11e8-b0d0-6030d4660e22\"}, {\"hoverinfo\": \"none\", \"marker\": {\"color\": \"rgb(0, 0, 128)\", \"size\": 1}, \"name\": \"Suspense\", \"showlegend\": true, \"x\": [\"2018-08-04 21:00\", \"2018-08-04 21:00\"], \"y\": [7, 7], \"type\": \"scatter\", \"uid\": \"9da50cde-9c69-11e8-b07c-6030d4660e22\"}, {\"hoverinfo\": \"none\", \"marker\": {\"color\": \"rgb(0, 128, 128)\", \"size\": 1}, \"name\": \"Thriller\", \"showlegend\": true, \"x\": [\"2018-08-04 21:00\", \"2018-08-04 21:00\"], \"y\": [8, 8], \"type\": \"scatter\", \"uid\": \"9da50d7e-9c69-11e8-bd45-6030d4660e22\"}], {\"autosize\": false, \"height\": 500, \"hovermode\": \"closest\", \"margin\": {\"l\": 140}, \"shapes\": [{\"fillcolor\": \"rgb(255, 0, 0)\", \"line\": {\"width\": 0}, \"opacity\": 1, \"type\": \"rect\", \"x0\": \"2018-08-04 7:00\", \"x1\": \"2018-08-04 9:00\", \"xref\": \"x\", \"y0\": 9.6, \"y1\": 10.4, \"yref\": \"y\"}, {\"fillcolor\": \"rgb(0, 128, 128)\", \"line\": {\"width\": 0}, \"opacity\": 1, \"type\": \"rect\", \"x0\": \"2018-08-04 9:00\", \"x1\": \"2018-08-04 11:00\", \"xref\": \"x\", \"y0\": 8.6, \"y1\": 9.4, \"yref\": \"y\"}, {\"fillcolor\": \"rgb(0, 128, 128)\", \"line\": {\"width\": 0}, \"opacity\": 1, \"type\": \"rect\", \"x0\": \"2018-08-04 10:00\", \"x1\": \"2018-08-04 12:00\", \"xref\": \"x\", \"y0\": 7.6, \"y1\": 8.4, \"yref\": \"y\"}, {\"fillcolor\": \"rgb(0, 0, 128)\", \"line\": {\"width\": 0}, \"opacity\": 1, \"type\": \"rect\", \"x0\": \"2018-08-04 11:30\", \"x1\": \"2018-08-04 13:30\", \"xref\": \"x\", \"y0\": 6.6, \"y1\": 7.4, \"yref\": \"y\"}, {\"fillcolor\": \"rgb(0, 0, 255)\", \"line\": {\"width\": 0}, \"opacity\": 1, \"type\": \"rect\", \"x0\": \"2018-08-04 12:00\", \"x1\": \"2018-08-04 14:00\", \"xref\": \"x\", \"y0\": 5.6, \"y1\": 6.4, \"yref\": \"y\"}, {\"fillcolor\": \"rgb(0, 255, 0)\", \"line\": {\"width\": 0}, \"opacity\": 1, \"type\": \"rect\", \"x0\": \"2018-08-04 13:30\", \"x1\": \"2018-08-04 15:30\", \"xref\": \"x\", \"y0\": 4.6, \"y1\": 5.4, \"yref\": \"y\"}, {\"fillcolor\": \"rgb(0, 128, 0)\", \"line\": {\"width\": 0}, \"opacity\": 1, \"type\": \"rect\", \"x0\": \"2018-08-04 16:00\", \"x1\": \"2018-08-04 18:00\", \"xref\": \"x\", \"y0\": 3.6, \"y1\": 4.4, \"yref\": \"y\"}, {\"fillcolor\": \"rgb(255, 0, 0)\", \"line\": {\"width\": 0}, \"opacity\": 1, \"type\": \"rect\", \"x0\": \"2018-08-04 17:00\", \"x1\": \"2018-08-04 19:00\", \"xref\": \"x\", \"y0\": 2.6, \"y1\": 3.4, \"yref\": \"y\"}, {\"fillcolor\": \"rgb(128, 128, 0)\", \"line\": {\"width\": 0}, \"opacity\": 1, \"type\": \"rect\", \"x0\": \"2018-08-04 18:30\", \"x1\": \"2018-08-04 20:30\", \"xref\": \"x\", \"y0\": 1.6, \"y1\": 2.4, \"yref\": \"y\"}, {\"fillcolor\": \"rgb(0, 128, 128)\", \"line\": {\"width\": 0}, \"opacity\": 1, \"type\": \"rect\", \"x0\": \"2018-08-04 19:00\", \"x1\": \"2018-08-04 21:00\", \"xref\": \"x\", \"y0\": 8.6, \"y1\": 9.4, \"yref\": \"y\"}, {\"fillcolor\": \"rgb(0, 255, 255)\", \"line\": {\"width\": 0}, \"opacity\": 1, \"type\": \"rect\", \"x0\": \"2018-08-04 21:30\", \"x1\": \"2018-08-04 23:30\", \"xref\": \"x\", \"y0\": 0.6, \"y1\": 1.4, \"yref\": \"y\"}, {\"fillcolor\": \"rgb(128, 0, 0)\", \"line\": {\"width\": 0}, \"opacity\": 1, \"type\": \"rect\", \"x0\": \"2018-08-04 21:00\", \"x1\": \"2018-08-04 23:00\", \"xref\": \"x\", \"y0\": -0.4, \"y1\": 0.4, \"yref\": \"y\"}], \"showlegend\": true, \"title\": \"Multiplex Schedule\", \"width\": 800, \"xaxis\": {\"rangeselector\": {\"buttons\": [{\"count\": 7, \"label\": \"1w\", \"step\": \"day\", \"stepmode\": \"backward\"}, {\"count\": 1, \"label\": \"1m\", \"step\": \"month\", \"stepmode\": \"backward\"}, {\"count\": 6, \"label\": \"6m\", \"step\": \"month\", \"stepmode\": \"backward\"}, {\"count\": 1, \"label\": \"YTD\", \"step\": \"year\", \"stepmode\": \"todate\"}, {\"count\": 1, \"label\": \"1y\", \"step\": \"year\", \"stepmode\": \"backward\"}, {\"step\": \"all\"}]}, \"showgrid\": true, \"type\": \"date\", \"zeroline\": false}, \"yaxis\": {\"autorange\": false, \"range\": [-1, 12], \"showgrid\": true, \"ticktext\": [\"Just Go with It\", \"Me Before You\", \"Behind Enemy Lines\", \"The Terminator\", \"Source code\", \"Aliens\", \"Looper\", \"Deception\", \"The Dark Knight\", \"Inception\", \"Avengers: Infinity War\"], \"tickvals\": [0, 1, 2, 3, 4, 5, 6, 7, 8, 9, 10], \"zeroline\": false}}, {\"showLink\": true, \"linkText\": \"Export to plot.ly\"})});</script>"
      ]
     },
     "metadata": {},
     "output_type": "display_data"
    }
   ],
   "source": [
    "fig = ff.create_gantt(multiplex_schedule,\n",
    "                      title='Multiplex Schedule',\n",
    "                      \n",
    "                      colors=color_list, \n",
    "                      index_col='Category',\n",
    "                      show_colorbar=True,\n",
    "                      \n",
    "                      bar_width=0.4, \n",
    "                      showgrid_x=True, \n",
    "                      showgrid_y=True,\n",
    "                      \n",
    "                      group_tasks=True)\n",
    "fig['layout'].update(autosize=False, width=800, height=500, margin=dict(l=140))\n",
    "offline.iplot(fig)"
   ]
  },
  {
   "cell_type": "code",
   "execution_count": null,
   "metadata": {},
   "outputs": [],
   "source": []
  }
 ],
 "metadata": {
  "kernelspec": {
   "display_name": "Python 3",
   "language": "python",
   "name": "python3"
  },
  "language_info": {
   "codemirror_mode": {
    "name": "ipython",
    "version": 3
   },
   "file_extension": ".py",
   "mimetype": "text/x-python",
   "name": "python",
   "nbconvert_exporter": "python",
   "pygments_lexer": "ipython3",
   "version": "3.6.5"
  }
 },
 "nbformat": 4,
 "nbformat_minor": 2
}
