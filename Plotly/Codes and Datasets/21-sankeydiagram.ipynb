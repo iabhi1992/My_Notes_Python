{
 "cells": [
  {
   "cell_type": "code",
   "execution_count": 1,
   "metadata": {},
   "outputs": [
    {
     "data": {
      "text/html": [
       "<script>requirejs.config({paths: { 'plotly': ['https://cdn.plot.ly/plotly-latest.min']},});if(!window.Plotly) {{require(['plotly'],function(plotly) {window.Plotly=plotly;});}}</script>"
      ],
      "text/vnd.plotly.v1+html": [
       "<script>requirejs.config({paths: { 'plotly': ['https://cdn.plot.ly/plotly-latest.min']},});if(!window.Plotly) {{require(['plotly'],function(plotly) {window.Plotly=plotly;});}}</script>"
      ]
     },
     "metadata": {},
     "output_type": "display_data"
    }
   ],
   "source": [
    "import plotly.plotly as py\n",
    "import plotly.graph_objs as go\n",
    "import plotly.offline as offline\n",
    "\n",
    "offline.init_notebook_mode(connected=True)"
   ]
  },
  {
   "cell_type": "markdown",
   "metadata": {},
   "source": [
    "**Sankey Diagrams**\n",
    "\n",
    "Sankey diagrams are a useful way to display movement between locations/nodes.\n",
    "\n",
    "Here an Airline's flight routes for some cities of USA has been given."
   ]
  },
  {
   "cell_type": "markdown",
   "metadata": {},
   "source": [
    "**Create a list for all the locations/nodes**"
   ]
  },
  {
   "cell_type": "code",
   "execution_count": 2,
   "metadata": {},
   "outputs": [],
   "source": [
    "locations = ['Cleveland', \n",
    "             'Detroit', \n",
    "             'Indianapolis', \n",
    "             'Nashville', \n",
    "             'NewYork', \n",
    "             'WashingtonD.C.',\n",
    "             'Harrisburg'\n",
    "            ]"
   ]
  },
  {
   "cell_type": "markdown",
   "metadata": {},
   "source": [
    "### Define the Sankey diagram\n",
    "The nodes will be the locations we have defined above. The ordering of these nodes matters as they will be assigned an index which will be used to define the links in the Sankey diagram.\n",
    "\n",
    "The source and target are effectively the nodes at either end of the link. The value represents the weight of the link. So taking the first index of each list, we get (source=0, target=4, value=2) - this means two flights from Cleveland to NewYork"
   ]
  },
  {
   "cell_type": "code",
   "execution_count": 3,
   "metadata": {},
   "outputs": [],
   "source": [
    "data = go.Sankey(node = dict(label = locations),\n",
    "                 \n",
    "                 link = dict(source = [0, 0, 2, 1, 1, 3, 4, 2, 5, 3], \n",
    "                             target = [4, 5, 4, 4, 5, 4, 6, 5, 6, 5], \n",
    "                             value =  [2, 2, 2, 1, 1, 2, 3, 2, 3, 1]\n",
    "                            )\n",
    "                )"
   ]
  },
  {
   "cell_type": "code",
   "execution_count": 4,
   "metadata": {},
   "outputs": [],
   "source": [
    "layout =  dict(title = 'Basic Sankey Diagram',\n",
    "               font = dict(size = 10)\n",
    ")"
   ]
  },
  {
   "cell_type": "markdown",
   "metadata": {},
   "source": [
    "**Plot the diagram**\n",
    "\n"
   ]
  },
  {
   "cell_type": "code",
   "execution_count": 5,
   "metadata": {},
   "outputs": [
    {
     "data": {
      "application/vnd.plotly.v1+json": {
       "data": [
        {
         "link": {
          "source": [
           0,
           0,
           2,
           1,
           1,
           3,
           4,
           2,
           5,
           3
          ],
          "target": [
           4,
           5,
           4,
           4,
           5,
           4,
           6,
           5,
           6,
           5
          ],
          "value": [
           2,
           2,
           2,
           1,
           1,
           2,
           3,
           2,
           3,
           1
          ]
         },
         "node": {
          "label": [
           "Cleveland",
           "Detroit",
           "Indianapolis",
           "Nashville",
           "NewYork",
           "WashingtonD.C.",
           "Harrisburg"
          ]
         },
         "type": "sankey",
         "uid": "afc5da06-9bbf-11e8-b701-6030d4660e22"
        }
       ],
       "layout": {
        "font": {
         "size": 10
        },
        "title": "Basic Sankey Diagram"
       }
      },
      "text/html": [
       "<div id=\"9244854a-f708-40fe-b853-d6dccdcae8f9\" style=\"height: 525px; width: 100%;\" class=\"plotly-graph-div\"></div><script type=\"text/javascript\">require([\"plotly\"], function(Plotly) { window.PLOTLYENV=window.PLOTLYENV || {};window.PLOTLYENV.BASE_URL=\"https://plot.ly\";Plotly.newPlot(\"9244854a-f708-40fe-b853-d6dccdcae8f9\", [{\"link\": {\"source\": [0, 0, 2, 1, 1, 3, 4, 2, 5, 3], \"target\": [4, 5, 4, 4, 5, 4, 6, 5, 6, 5], \"value\": [2, 2, 2, 1, 1, 2, 3, 2, 3, 1]}, \"node\": {\"label\": [\"Cleveland\", \"Detroit\", \"Indianapolis\", \"Nashville\", \"NewYork\", \"WashingtonD.C.\", \"Harrisburg\"]}, \"type\": \"sankey\", \"uid\": \"aff42c62-9bbf-11e8-b609-6030d4660e22\"}], {\"font\": {\"size\": 10}, \"title\": \"Basic Sankey Diagram\"}, {\"showLink\": true, \"linkText\": \"Export to plot.ly\"})});</script>"
      ],
      "text/vnd.plotly.v1+html": [
       "<div id=\"9244854a-f708-40fe-b853-d6dccdcae8f9\" style=\"height: 525px; width: 100%;\" class=\"plotly-graph-div\"></div><script type=\"text/javascript\">require([\"plotly\"], function(Plotly) { window.PLOTLYENV=window.PLOTLYENV || {};window.PLOTLYENV.BASE_URL=\"https://plot.ly\";Plotly.newPlot(\"9244854a-f708-40fe-b853-d6dccdcae8f9\", [{\"link\": {\"source\": [0, 0, 2, 1, 1, 3, 4, 2, 5, 3], \"target\": [4, 5, 4, 4, 5, 4, 6, 5, 6, 5], \"value\": [2, 2, 2, 1, 1, 2, 3, 2, 3, 1]}, \"node\": {\"label\": [\"Cleveland\", \"Detroit\", \"Indianapolis\", \"Nashville\", \"NewYork\", \"WashingtonD.C.\", \"Harrisburg\"]}, \"type\": \"sankey\", \"uid\": \"aff42c62-9bbf-11e8-b609-6030d4660e22\"}], {\"font\": {\"size\": 10}, \"title\": \"Basic Sankey Diagram\"}, {\"showLink\": true, \"linkText\": \"Export to plot.ly\"})});</script>"
      ]
     },
     "metadata": {},
     "output_type": "display_data"
    }
   ],
   "source": [
    "fig = dict(data=[data], \n",
    "           layout=layout)\n",
    "\n",
    "offline.iplot(fig)"
   ]
  },
  {
   "cell_type": "markdown",
   "metadata": {},
   "source": [
    "**Using a real dataset**\n",
    "\n",
    "Download the dataset here: https://github.com/plotly/dash-app-datasets/blob/master/scottish-votes.csv"
   ]
  },
  {
   "cell_type": "code",
   "execution_count": 6,
   "metadata": {},
   "outputs": [
    {
     "data": {
      "text/html": [
       "<div>\n",
       "<style scoped>\n",
       "    .dataframe tbody tr th:only-of-type {\n",
       "        vertical-align: middle;\n",
       "    }\n",
       "\n",
       "    .dataframe tbody tr th {\n",
       "        vertical-align: top;\n",
       "    }\n",
       "\n",
       "    .dataframe thead th {\n",
       "        text-align: right;\n",
       "    }\n",
       "</style>\n",
       "<table border=\"1\" class=\"dataframe\">\n",
       "  <thead>\n",
       "    <tr style=\"text-align: right;\">\n",
       "      <th></th>\n",
       "      <th>Source</th>\n",
       "      <th>Target</th>\n",
       "      <th>Value</th>\n",
       "      <th>Color</th>\n",
       "      <th>Node, Label</th>\n",
       "      <th>Link-Color</th>\n",
       "    </tr>\n",
       "  </thead>\n",
       "  <tbody>\n",
       "    <tr>\n",
       "      <th>0</th>\n",
       "      <td>0</td>\n",
       "      <td>5</td>\n",
       "      <td>20</td>\n",
       "      <td>#F27420</td>\n",
       "      <td>Remain+No – 28</td>\n",
       "      <td>rgba(253, 227, 212, 0.5)</td>\n",
       "    </tr>\n",
       "    <tr>\n",
       "      <th>1</th>\n",
       "      <td>0</td>\n",
       "      <td>6</td>\n",
       "      <td>3</td>\n",
       "      <td>#4994CE</td>\n",
       "      <td>Leave+No – 16</td>\n",
       "      <td>rgba(242, 116, 32, 1)</td>\n",
       "    </tr>\n",
       "    <tr>\n",
       "      <th>2</th>\n",
       "      <td>0</td>\n",
       "      <td>7</td>\n",
       "      <td>5</td>\n",
       "      <td>#FABC13</td>\n",
       "      <td>Remain+Yes – 21</td>\n",
       "      <td>rgba(253, 227, 212, 0.5)</td>\n",
       "    </tr>\n",
       "    <tr>\n",
       "      <th>3</th>\n",
       "      <td>1</td>\n",
       "      <td>5</td>\n",
       "      <td>14</td>\n",
       "      <td>#7FC241</td>\n",
       "      <td>Leave+Yes – 14</td>\n",
       "      <td>rgba(219, 233, 246, 0.5)</td>\n",
       "    </tr>\n",
       "    <tr>\n",
       "      <th>4</th>\n",
       "      <td>1</td>\n",
       "      <td>6</td>\n",
       "      <td>1</td>\n",
       "      <td>#D3D3D3</td>\n",
       "      <td>Didn’t vote in at least one referendum – 21</td>\n",
       "      <td>rgba(73, 148, 206, 1)</td>\n",
       "    </tr>\n",
       "    <tr>\n",
       "      <th>5</th>\n",
       "      <td>1</td>\n",
       "      <td>7</td>\n",
       "      <td>1</td>\n",
       "      <td>#8A5988</td>\n",
       "      <td>46 – No</td>\n",
       "      <td>rgba(219, 233, 246,0.5)</td>\n",
       "    </tr>\n",
       "    <tr>\n",
       "      <th>6</th>\n",
       "      <td>2</td>\n",
       "      <td>5</td>\n",
       "      <td>3</td>\n",
       "      <td>#449E9E</td>\n",
       "      <td>39 – Yes</td>\n",
       "      <td>rgba(250, 188, 19, 1)</td>\n",
       "    </tr>\n",
       "    <tr>\n",
       "      <th>7</th>\n",
       "      <td>2</td>\n",
       "      <td>6</td>\n",
       "      <td>17</td>\n",
       "      <td>#D3D3D3</td>\n",
       "      <td>14 – Don’t know / would not vote</td>\n",
       "      <td>rgba(250, 188, 19, 0.5)</td>\n",
       "    </tr>\n",
       "    <tr>\n",
       "      <th>8</th>\n",
       "      <td>2</td>\n",
       "      <td>7</td>\n",
       "      <td>2</td>\n",
       "      <td>NaN</td>\n",
       "      <td>NaN</td>\n",
       "      <td>rgba(250, 188, 19, 0.5)</td>\n",
       "    </tr>\n",
       "    <tr>\n",
       "      <th>9</th>\n",
       "      <td>3</td>\n",
       "      <td>5</td>\n",
       "      <td>3</td>\n",
       "      <td>NaN</td>\n",
       "      <td>NaN</td>\n",
       "      <td>rgba(127, 194, 65, 1)</td>\n",
       "    </tr>\n",
       "    <tr>\n",
       "      <th>10</th>\n",
       "      <td>3</td>\n",
       "      <td>6</td>\n",
       "      <td>9</td>\n",
       "      <td>NaN</td>\n",
       "      <td>NaN</td>\n",
       "      <td>rgba(127, 194, 65, 0.5)</td>\n",
       "    </tr>\n",
       "    <tr>\n",
       "      <th>11</th>\n",
       "      <td>3</td>\n",
       "      <td>7</td>\n",
       "      <td>2</td>\n",
       "      <td>NaN</td>\n",
       "      <td>NaN</td>\n",
       "      <td>rgba(127, 194, 65, 0.5)</td>\n",
       "    </tr>\n",
       "    <tr>\n",
       "      <th>12</th>\n",
       "      <td>4</td>\n",
       "      <td>5</td>\n",
       "      <td>5</td>\n",
       "      <td>NaN</td>\n",
       "      <td>NaN</td>\n",
       "      <td>rgba(211, 211, 211, 0.5)</td>\n",
       "    </tr>\n",
       "    <tr>\n",
       "      <th>13</th>\n",
       "      <td>4</td>\n",
       "      <td>6</td>\n",
       "      <td>9</td>\n",
       "      <td>NaN</td>\n",
       "      <td>NaN</td>\n",
       "      <td>rgba(211, 211, 211, 0.5)</td>\n",
       "    </tr>\n",
       "    <tr>\n",
       "      <th>14</th>\n",
       "      <td>4</td>\n",
       "      <td>7</td>\n",
       "      <td>8</td>\n",
       "      <td>NaN</td>\n",
       "      <td>NaN</td>\n",
       "      <td>rgba(211, 211, 211, 0.5)</td>\n",
       "    </tr>\n",
       "  </tbody>\n",
       "</table>\n",
       "</div>"
      ],
      "text/plain": [
       "    Source  Target  Value    Color  \\\n",
       "0        0       5     20  #F27420   \n",
       "1        0       6      3  #4994CE   \n",
       "2        0       7      5  #FABC13   \n",
       "3        1       5     14  #7FC241   \n",
       "4        1       6      1  #D3D3D3   \n",
       "5        1       7      1  #8A5988   \n",
       "6        2       5      3  #449E9E   \n",
       "7        2       6     17  #D3D3D3   \n",
       "8        2       7      2      NaN   \n",
       "9        3       5      3      NaN   \n",
       "10       3       6      9      NaN   \n",
       "11       3       7      2      NaN   \n",
       "12       4       5      5      NaN   \n",
       "13       4       6      9      NaN   \n",
       "14       4       7      8      NaN   \n",
       "\n",
       "                                    Node, Label                Link-Color  \n",
       "0                                Remain+No – 28  rgba(253, 227, 212, 0.5)  \n",
       "1                                 Leave+No – 16     rgba(242, 116, 32, 1)  \n",
       "2                               Remain+Yes – 21  rgba(253, 227, 212, 0.5)  \n",
       "3                                Leave+Yes – 14  rgba(219, 233, 246, 0.5)  \n",
       "4   Didn’t vote in at least one referendum – 21     rgba(73, 148, 206, 1)  \n",
       "5                                       46 – No   rgba(219, 233, 246,0.5)  \n",
       "6                                      39 – Yes     rgba(250, 188, 19, 1)  \n",
       "7              14 – Don’t know / would not vote   rgba(250, 188, 19, 0.5)  \n",
       "8                                           NaN   rgba(250, 188, 19, 0.5)  \n",
       "9                                           NaN     rgba(127, 194, 65, 1)  \n",
       "10                                          NaN   rgba(127, 194, 65, 0.5)  \n",
       "11                                          NaN   rgba(127, 194, 65, 0.5)  \n",
       "12                                          NaN  rgba(211, 211, 211, 0.5)  \n",
       "13                                          NaN  rgba(211, 211, 211, 0.5)  \n",
       "14                                          NaN  rgba(211, 211, 211, 0.5)  "
      ]
     },
     "execution_count": 6,
     "metadata": {},
     "output_type": "execute_result"
    }
   ],
   "source": [
    "import pandas as pd\n",
    "\n",
    "data = pd.read_csv('datasets/scottish-votes.csv')\n",
    "data\n"
   ]
  },
  {
   "cell_type": "markdown",
   "metadata": {},
   "source": [
    "**Plot the Sankey diagram**\n",
    "\n",
    "Format the nodes:\n",
    "\n",
    "* pad determines the amount of padding between the nodes\n",
    "* thickness sets the width of the node\n",
    "\n",
    "The 'Node, Label' field is meant to be a list of all the nodes contains several nan values in the dataframe. We drop those values when using it in our diagram"
   ]
  },
  {
   "cell_type": "code",
   "execution_count": 7,
   "metadata": {},
   "outputs": [],
   "source": [
    "data_trace = go.Sankey(node = dict(pad = 8,\n",
    "                                   thickness = 20,\n",
    "                                   \n",
    "                                   label =  data['Node, Label'].dropna(),\n",
    "                                   \n",
    "                                   color = data['Color'].dropna()),\n",
    "                       \n",
    "                       link = dict(source = data['Source'],\n",
    "                                   target = data['Target'],\n",
    "                                   value = data['Value'],\n",
    "                                   color = data['Link-Color'])\n",
    "                        )"
   ]
  },
  {
   "cell_type": "code",
   "execution_count": 8,
   "metadata": {},
   "outputs": [],
   "source": [
    "layout =  dict(title = \"scottish referendum voters\")"
   ]
  },
  {
   "cell_type": "code",
   "execution_count": 9,
   "metadata": {},
   "outputs": [
    {
     "data": {
      "application/vnd.plotly.v1+json": {
       "data": [
        {
         "link": {
          "color": [
           "rgba(253, 227, 212, 0.5)",
           "rgba(242, 116, 32, 1)",
           "rgba(253, 227, 212, 0.5)",
           "rgba(219, 233, 246, 0.5)",
           "rgba(73, 148, 206, 1)",
           "rgba(219, 233, 246,0.5)",
           "rgba(250, 188, 19, 1)",
           "rgba(250, 188, 19, 0.5)",
           "rgba(250, 188, 19, 0.5)",
           "rgba(127, 194, 65, 1)",
           "rgba(127, 194, 65, 0.5)",
           "rgba(127, 194, 65, 0.5)",
           "rgba(211, 211, 211, 0.5)",
           "rgba(211, 211, 211, 0.5)",
           "rgba(211, 211, 211, 0.5)"
          ],
          "source": [
           0,
           0,
           0,
           1,
           1,
           1,
           2,
           2,
           2,
           3,
           3,
           3,
           4,
           4,
           4
          ],
          "target": [
           5,
           6,
           7,
           5,
           6,
           7,
           5,
           6,
           7,
           5,
           6,
           7,
           5,
           6,
           7
          ],
          "value": [
           20,
           3,
           5,
           14,
           1,
           1,
           3,
           17,
           2,
           3,
           9,
           2,
           5,
           9,
           8
          ]
         },
         "node": {
          "color": [
           "#F27420",
           "#4994CE",
           "#FABC13",
           "#7FC241",
           "#D3D3D3",
           "#8A5988",
           "#449E9E",
           "#D3D3D3"
          ],
          "label": [
           "Remain+No – 28",
           "Leave+No – 16",
           "Remain+Yes – 21",
           "Leave+Yes – 14",
           "Didn’t vote in at least one referendum – 21",
           "46 – No",
           "39 – Yes",
           "14 – Don’t know / would not vote"
          ],
          "pad": 8,
          "thickness": 20
         },
         "type": "sankey",
         "uid": "b008873e-9bbf-11e8-9d82-6030d4660e22"
        }
       ],
       "layout": {
        "title": "scottish referendum voters"
       }
      },
      "text/html": [
       "<div id=\"6be4f683-0eab-457a-99f3-63ee8eab3fc8\" style=\"height: 525px; width: 100%;\" class=\"plotly-graph-div\"></div><script type=\"text/javascript\">require([\"plotly\"], function(Plotly) { window.PLOTLYENV=window.PLOTLYENV || {};window.PLOTLYENV.BASE_URL=\"https://plot.ly\";Plotly.newPlot(\"6be4f683-0eab-457a-99f3-63ee8eab3fc8\", [{\"link\": {\"color\": [\"rgba(253, 227, 212, 0.5)\", \"rgba(242, 116, 32, 1)\", \"rgba(253, 227, 212, 0.5)\", \"rgba(219, 233, 246, 0.5)\", \"rgba(73, 148, 206, 1)\", \"rgba(219, 233, 246,0.5)\", \"rgba(250, 188, 19, 1)\", \"rgba(250, 188, 19, 0.5)\", \"rgba(250, 188, 19, 0.5)\", \"rgba(127, 194, 65, 1)\", \"rgba(127, 194, 65, 0.5)\", \"rgba(127, 194, 65, 0.5)\", \"rgba(211, 211, 211, 0.5)\", \"rgba(211, 211, 211, 0.5)\", \"rgba(211, 211, 211, 0.5)\"], \"source\": [0.0, 0.0, 0.0, 1.0, 1.0, 1.0, 2.0, 2.0, 2.0, 3.0, 3.0, 3.0, 4.0, 4.0, 4.0], \"target\": [5.0, 6.0, 7.0, 5.0, 6.0, 7.0, 5.0, 6.0, 7.0, 5.0, 6.0, 7.0, 5.0, 6.0, 7.0], \"value\": [20.0, 3.0, 5.0, 14.0, 1.0, 1.0, 3.0, 17.0, 2.0, 3.0, 9.0, 2.0, 5.0, 9.0, 8.0]}, \"node\": {\"color\": [\"#F27420\", \"#4994CE\", \"#FABC13\", \"#7FC241\", \"#D3D3D3\", \"#8A5988\", \"#449E9E\", \"#D3D3D3\"], \"label\": [\"Remain+No \\u2013 28\", \"Leave+No \\u2013 16\", \"Remain+Yes \\u2013 21\", \"Leave+Yes \\u2013 14\", \"Didn\\u2019t vote in at least one referendum \\u2013 21\", \"46 \\u2013 No\", \"39 \\u2013 Yes\", \"14 \\u2013 Don\\u2019t know / would not vote\"], \"pad\": 8, \"thickness\": 20}, \"type\": \"sankey\", \"uid\": \"b00d7c26-9bbf-11e8-ac4d-6030d4660e22\"}], {\"title\": \"scottish referendum voters\"}, {\"showLink\": true, \"linkText\": \"Export to plot.ly\"})});</script>"
      ],
      "text/vnd.plotly.v1+html": [
       "<div id=\"6be4f683-0eab-457a-99f3-63ee8eab3fc8\" style=\"height: 525px; width: 100%;\" class=\"plotly-graph-div\"></div><script type=\"text/javascript\">require([\"plotly\"], function(Plotly) { window.PLOTLYENV=window.PLOTLYENV || {};window.PLOTLYENV.BASE_URL=\"https://plot.ly\";Plotly.newPlot(\"6be4f683-0eab-457a-99f3-63ee8eab3fc8\", [{\"link\": {\"color\": [\"rgba(253, 227, 212, 0.5)\", \"rgba(242, 116, 32, 1)\", \"rgba(253, 227, 212, 0.5)\", \"rgba(219, 233, 246, 0.5)\", \"rgba(73, 148, 206, 1)\", \"rgba(219, 233, 246,0.5)\", \"rgba(250, 188, 19, 1)\", \"rgba(250, 188, 19, 0.5)\", \"rgba(250, 188, 19, 0.5)\", \"rgba(127, 194, 65, 1)\", \"rgba(127, 194, 65, 0.5)\", \"rgba(127, 194, 65, 0.5)\", \"rgba(211, 211, 211, 0.5)\", \"rgba(211, 211, 211, 0.5)\", \"rgba(211, 211, 211, 0.5)\"], \"source\": [0.0, 0.0, 0.0, 1.0, 1.0, 1.0, 2.0, 2.0, 2.0, 3.0, 3.0, 3.0, 4.0, 4.0, 4.0], \"target\": [5.0, 6.0, 7.0, 5.0, 6.0, 7.0, 5.0, 6.0, 7.0, 5.0, 6.0, 7.0, 5.0, 6.0, 7.0], \"value\": [20.0, 3.0, 5.0, 14.0, 1.0, 1.0, 3.0, 17.0, 2.0, 3.0, 9.0, 2.0, 5.0, 9.0, 8.0]}, \"node\": {\"color\": [\"#F27420\", \"#4994CE\", \"#FABC13\", \"#7FC241\", \"#D3D3D3\", \"#8A5988\", \"#449E9E\", \"#D3D3D3\"], \"label\": [\"Remain+No \\u2013 28\", \"Leave+No \\u2013 16\", \"Remain+Yes \\u2013 21\", \"Leave+Yes \\u2013 14\", \"Didn\\u2019t vote in at least one referendum \\u2013 21\", \"46 \\u2013 No\", \"39 \\u2013 Yes\", \"14 \\u2013 Don\\u2019t know / would not vote\"], \"pad\": 8, \"thickness\": 20}, \"type\": \"sankey\", \"uid\": \"b00d7c26-9bbf-11e8-ac4d-6030d4660e22\"}], {\"title\": \"scottish referendum voters\"}, {\"showLink\": true, \"linkText\": \"Export to plot.ly\"})});</script>"
      ]
     },
     "metadata": {},
     "output_type": "display_data"
    }
   ],
   "source": [
    "fig = dict(data=[data_trace], \n",
    "           layout=layout)\n",
    "\n",
    "offline.iplot(fig)"
   ]
  },
  {
   "cell_type": "code",
   "execution_count": null,
   "metadata": {},
   "outputs": [],
   "source": []
  },
  {
   "cell_type": "code",
   "execution_count": null,
   "metadata": {},
   "outputs": [],
   "source": []
  }
 ],
 "metadata": {
  "kernelspec": {
   "display_name": "Python 3",
   "language": "python",
   "name": "python3"
  },
  "language_info": {
   "codemirror_mode": {
    "name": "ipython",
    "version": 3
   },
   "file_extension": ".py",
   "mimetype": "text/x-python",
   "name": "python",
   "nbconvert_exporter": "python",
   "pygments_lexer": "ipython3",
   "version": "3.6.5"
  }
 },
 "nbformat": 4,
 "nbformat_minor": 2
}
