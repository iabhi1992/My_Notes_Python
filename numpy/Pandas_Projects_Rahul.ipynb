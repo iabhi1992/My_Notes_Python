{
 "cells": [
  {
   "cell_type": "code",
   "execution_count": 7,
   "metadata": {
    "ExecuteTime": {
     "end_time": "2021-04-13T18:56:20.521837Z",
     "start_time": "2021-04-13T18:56:20.469629Z"
    }
   },
   "outputs": [
    {
     "name": "stdout",
     "output_type": "stream",
     "text": [
      "0    total_bill     16.99\n",
      "     tip             1.01\n",
      "     sex           Female\n",
      "     smoker            No\n",
      "     day              Sun\n",
      "                    ...  \n",
      "243  sex           Female\n",
      "     smoker            No\n",
      "     day             Thur\n",
      "     time          Dinner\n",
      "     size               2\n",
      "Length: 1708, dtype: object\n",
      "    total_bill   tip     sex smoker   day    time size\n",
      "0        16.99  1.01  Female     No   Sun  Dinner    2\n",
      "1        10.34  1.66    Male     No   Sun  Dinner    3\n",
      "2        21.01   3.5    Male     No   Sun  Dinner    3\n",
      "3        23.68  3.31    Male     No   Sun  Dinner    2\n",
      "4        24.59  3.61  Female     No   Sun  Dinner    4\n",
      "..         ...   ...     ...    ...   ...     ...  ...\n",
      "239      29.03  5.92    Male     No   Sat  Dinner    3\n",
      "240      27.18   2.0  Female    Yes   Sat  Dinner    2\n",
      "241      22.67   2.0    Male    Yes   Sat  Dinner    2\n",
      "242      17.82  1.75    Male     No   Sat  Dinner    2\n",
      "243      18.78   3.0  Female     No  Thur  Dinner    2\n",
      "\n",
      "[244 rows x 7 columns]\n"
     ]
    }
   ],
   "source": [
    "# What is unstacking and squeeze in pandas dataframe?\n",
    "# Suppose we have a stacked data i.e. column is stacked row wise. \n",
    "# Now we wish to unstack it. It can easily be done by unstack() function.\n",
    "\n",
    "# Here is a short example on What is unstacking and squeeze in pandas dataframe. Let's get started.\n",
    "import numpy as np\n",
    "import sys\n",
    "np.set_printoptions(threshold = sys.maxsize)\n",
    "\n",
    "import pandas as pd\n",
    "import seaborn as sns\n",
    "\n",
    "\n",
    "# Creating a stacked DataFrame\n",
    "tips = sns.load_dataset('tips')\n",
    "stacked_tips = tips.stack()\n",
    "print(stacked_tips)\n",
    "\n",
    "# Creating a unstacked DataFrame\n",
    "unstacked_tips = stacked_tips.unstack()\n",
    "print(unstacked_tips)\n",
    "\n",
    "\n",
    "\n",
    "\n"
   ]
  },
  {
   "cell_type": "code",
   "execution_count": 10,
   "metadata": {
    "ExecuteTime": {
     "end_time": "2021-04-13T19:13:38.106310Z",
     "start_time": "2021-04-13T19:13:38.051673Z"
    }
   },
   "outputs": [
    {
     "name": "stdout",
     "output_type": "stream",
     "text": [
      "The Original DataFrame\n",
      "   EmployeeGroup  Points\n",
      "0              A      10\n",
      "1              A      40\n",
      "2              A      50\n",
      "3              A      70\n",
      "4              A      50\n",
      "5              A      50\n",
      "6              B      60\n",
      "7              B      10\n",
      "8              B      40\n",
      "9              B      50\n",
      "10             B      60\n",
      "11             C      70\n",
      "12             C      40\n",
      "13             C      60\n",
      "14             C      40\n",
      "15             C      60\n",
      "\n",
      "Rolling Mean:\n",
      "0      NaN\n",
      "1     25.0\n",
      "2     45.0\n",
      "3     60.0\n",
      "4     60.0\n",
      "5     50.0\n",
      "6      NaN\n",
      "7     35.0\n",
      "8     25.0\n",
      "9     45.0\n",
      "10    55.0\n",
      "11     NaN\n",
      "12    55.0\n",
      "13    50.0\n",
      "14    50.0\n",
      "15    50.0\n",
      "Name: Points, dtype: float64\n",
      "\n",
      "Average:\n",
      "EmployeeGroup\n",
      "A    45.0\n",
      "B    44.0\n",
      "C    54.0\n",
      "Name: Points, dtype: float64\n",
      "\n",
      "Sum:\n",
      "EmployeeGroup\n",
      "A    270\n",
      "B    220\n",
      "C    270\n",
      "Name: Points, dtype: int64\n",
      "\n",
      "Maximum:\n",
      "EmployeeGroup\n",
      "A    70\n",
      "B    60\n",
      "C    70\n",
      "Name: Points, dtype: int64\n",
      "\n",
      "Minimum:\n",
      "EmployeeGroup\n",
      "A    10\n",
      "B    10\n",
      "C    40\n",
      "Name: Points, dtype: int64\n"
     ]
    }
   ],
   "source": [
    "# How to apply functions in a Group in a Pandas DataFrame?\n",
    "# Have you tried to apply a function on any dataset. One of the easiest way is to use apply function.\n",
    "\n",
    "# So this is the recipe on how we can apply functions in a Group in a Pandas DataFrame.\n",
    "\n",
    "import pandas as pd\n",
    "\n",
    "data = {\"EmployeeGroup\": [\"A\",\"A\",\"A\",\"A\",\"A\",\"A\",\"B\",\"B\",\"B\",\"B\",\"B\",\"C\",\"C\",\"C\",\"C\",\"C\"],\n",
    "            \"Points\": [10,40,50,70,50,50,60,10,40,50,60,70,40,60,40,60]}\n",
    "df = pd.DataFrame(data)\n",
    "print(\"The Original DataFrame\")\n",
    "print(df)\n",
    "\n",
    "# Training and Saving the model\n",
    "# We have used apply function to find Rolling Mean, Average, Sum, Maximum and Minimum. \n",
    "# For this we have used lambda function on each and every values of the feature.\n",
    "print()\n",
    "print(\"Rolling Mean:\") \n",
    "print(df.groupby(\"EmployeeGroup\")[\"Points\"].apply(lambda x:x.rolling(center=False,window=2).mean()))\n",
    "\n",
    "print()\n",
    "print(\"Average:\")\n",
    "print(df.groupby(\"EmployeeGroup\")[\"Points\"].apply(lambda x:x.mean()))\n",
    "\n",
    "print()\n",
    "print(\"Sum:\")\n",
    "print(df.groupby(\"EmployeeGroup\")[\"Points\"].apply(lambda x:x.sum()))\n",
    "\n",
    "print()\n",
    "print(\"Maximum:\")\n",
    "print(df.groupby(\"EmployeeGroup\")[\"Points\"].apply(lambda x:x.max()))\n",
    "  \n",
    "print()\n",
    "print(\"Minimum:\")\n",
    "print(df.groupby(\"EmployeeGroup\")[\"Points\"].apply(lambda x:x.min()))\n",
    "\n",
    "\n",
    "\n"
   ]
  },
  {
   "cell_type": "code",
   "execution_count": 1,
   "metadata": {
    "ExecuteTime": {
     "end_time": "2021-04-14T14:24:00.049612Z",
     "start_time": "2021-04-14T14:23:59.007186Z"
    }
   },
   "outputs": [],
   "source": [
    "# How to do Data Analysis in a Pandas DataFrame?\n",
    "# Data Analysis means analyzing the data and preprocess it for further use. \n",
    "# For this we have to use many statical analysis.\n",
    "\n",
    "import pandas as pd\n",
    "\n",
    "\n",
    "\n",
    "\n",
    "\n",
    "\n"
   ]
  },
  {
   "cell_type": "code",
   "execution_count": null,
   "metadata": {},
   "outputs": [],
   "source": []
  }
 ],
 "metadata": {
  "kernelspec": {
   "display_name": "Python 3",
   "language": "python",
   "name": "python3"
  },
  "language_info": {
   "codemirror_mode": {
    "name": "ipython",
    "version": 3
   },
   "file_extension": ".py",
   "mimetype": "text/x-python",
   "name": "python",
   "nbconvert_exporter": "python",
   "pygments_lexer": "ipython3",
   "version": "3.8.2"
  },
  "latex_envs": {
   "LaTeX_envs_menu_present": true,
   "autoclose": false,
   "autocomplete": true,
   "bibliofile": "biblio.bib",
   "cite_by": "apalike",
   "current_citInitial": 1,
   "eqLabelWithNumbers": true,
   "eqNumInitial": 1,
   "hotkeys": {
    "equation": "Ctrl-E",
    "itemize": "Ctrl-I"
   },
   "labels_anchors": false,
   "latex_user_defs": false,
   "report_style_numbering": false,
   "user_envs_cfg": false
  },
  "varInspector": {
   "cols": {
    "lenName": 16,
    "lenType": 16,
    "lenVar": 40
   },
   "kernels_config": {
    "python": {
     "delete_cmd_postfix": "",
     "delete_cmd_prefix": "del ",
     "library": "var_list.py",
     "varRefreshCmd": "print(var_dic_list())"
    },
    "r": {
     "delete_cmd_postfix": ") ",
     "delete_cmd_prefix": "rm(",
     "library": "var_list.r",
     "varRefreshCmd": "cat(var_dic_list()) "
    }
   },
   "types_to_exclude": [
    "module",
    "function",
    "builtin_function_or_method",
    "instance",
    "_Feature"
   ],
   "window_display": false
  }
 },
 "nbformat": 4,
 "nbformat_minor": 2
}
